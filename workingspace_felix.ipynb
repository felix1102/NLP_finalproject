{
 "cells": [
  {
   "attachments": {},
   "cell_type": "markdown",
   "metadata": {},
   "source": [
    "# Read me"
   ]
  },
  {
   "attachments": {},
   "cell_type": "markdown",
   "metadata": {},
   "source": [
    "If you want to start with pre-filtered data set, start with import section and then skip everything until \"3. Starting point\". Start from there"
   ]
  },
  {
   "attachments": {},
   "cell_type": "markdown",
   "metadata": {},
   "source": [
    "# 0. Import section"
   ]
  },
  {
   "cell_type": "code",
   "execution_count": 170,
   "metadata": {
    "execution": {
     "iopub.execute_input": "2023-05-23T08:40:38.310294Z",
     "iopub.status.busy": "2023-05-23T08:40:38.309604Z",
     "iopub.status.idle": "2023-05-23T08:40:57.124579Z",
     "shell.execute_reply": "2023-05-23T08:40:57.123468Z",
     "shell.execute_reply.started": "2023-05-23T08:40:38.310241Z"
    },
    "scrolled": true,
    "tags": []
   },
   "outputs": [
    {
     "name": "stdout",
     "output_type": "stream",
     "text": [
      "Collecting nltk\n",
      "  File was already downloaded /Users/Felix/Desktop/nltk-3.8.1-py3-none-any.whl\n",
      "Collecting regex>=2021.8.3\n",
      "  File was already downloaded /Users/Felix/Desktop/regex-2023.5.5-cp310-cp310-macosx_10_9_x86_64.whl\n",
      "Collecting joblib\n",
      "  File was already downloaded /Users/Felix/Desktop/joblib-1.2.0-py3-none-any.whl\n",
      "Collecting tqdm\n",
      "  File was already downloaded /Users/Felix/Desktop/tqdm-4.65.0-py3-none-any.whl\n",
      "Collecting click\n",
      "  File was already downloaded /Users/Felix/Desktop/click-8.1.3-py3-none-any.whl\n",
      "Successfully downloaded nltk regex click joblib tqdm\n",
      "\n",
      "\u001b[1m[\u001b[0m\u001b[34;49mnotice\u001b[0m\u001b[1;39;49m]\u001b[0m\u001b[39;49m A new release of pip available: \u001b[0m\u001b[31;49m22.2.2\u001b[0m\u001b[39;49m -> \u001b[0m\u001b[32;49m23.1.2\u001b[0m\n",
      "\u001b[1m[\u001b[0m\u001b[34;49mnotice\u001b[0m\u001b[1;39;49m]\u001b[0m\u001b[39;49m To update, run: \u001b[0m\u001b[32;49mpython3.10 -m pip install --upgrade pip\u001b[0m\n",
      "Requirement already satisfied: nltk in /usr/local/lib/python3.10/site-packages (3.8.1)\n",
      "Requirement already satisfied: joblib in /usr/local/lib/python3.10/site-packages (from nltk) (1.2.0)\n",
      "Requirement already satisfied: tqdm in /usr/local/lib/python3.10/site-packages (from nltk) (4.64.1)\n",
      "Requirement already satisfied: regex>=2021.8.3 in /usr/local/lib/python3.10/site-packages (from nltk) (2022.10.31)\n",
      "Requirement already satisfied: click in /usr/local/lib/python3.10/site-packages (from nltk) (8.1.3)\n",
      "\n",
      "\u001b[1m[\u001b[0m\u001b[34;49mnotice\u001b[0m\u001b[1;39;49m]\u001b[0m\u001b[39;49m A new release of pip available: \u001b[0m\u001b[31;49m22.2.2\u001b[0m\u001b[39;49m -> \u001b[0m\u001b[32;49m23.1.2\u001b[0m\n",
      "\u001b[1m[\u001b[0m\u001b[34;49mnotice\u001b[0m\u001b[1;39;49m]\u001b[0m\u001b[39;49m To update, run: \u001b[0m\u001b[32;49mpython3.10 -m pip install --upgrade pip\u001b[0m\n",
      "Collecting seaborn\n",
      "  File was already downloaded /Users/Felix/Desktop/seaborn-0.12.2-py3-none-any.whl\n",
      "Collecting numpy!=1.24.0,>=1.17\n",
      "  File was already downloaded /Users/Felix/Desktop/numpy-1.24.3-cp310-cp310-macosx_10_9_x86_64.whl\n",
      "Collecting matplotlib!=3.6.1,>=3.1\n",
      "  File was already downloaded /Users/Felix/Desktop/matplotlib-3.7.1-cp310-cp310-macosx_10_12_x86_64.whl\n",
      "Collecting pandas>=0.25\n",
      "  File was already downloaded /Users/Felix/Desktop/pandas-2.0.1-cp310-cp310-macosx_10_9_x86_64.whl\n",
      "Collecting cycler>=0.10\n",
      "  File was already downloaded /Users/Felix/Desktop/cycler-0.11.0-py3-none-any.whl\n",
      "Collecting contourpy>=1.0.1\n",
      "  File was already downloaded /Users/Felix/Desktop/contourpy-1.0.7-cp310-cp310-macosx_10_9_x86_64.whl\n",
      "Collecting pillow>=6.2.0\n",
      "  File was already downloaded /Users/Felix/Desktop/Pillow-9.5.0-cp310-cp310-macosx_10_10_x86_64.whl\n",
      "Collecting pyparsing>=2.3.1\n",
      "  File was already downloaded /Users/Felix/Desktop/pyparsing-3.0.9-py3-none-any.whl\n",
      "Collecting python-dateutil>=2.7\n",
      "  File was already downloaded /Users/Felix/Desktop/python_dateutil-2.8.2-py2.py3-none-any.whl\n",
      "Collecting fonttools>=4.22.0\n",
      "  File was already downloaded /Users/Felix/Desktop/fonttools-4.39.4-py3-none-any.whl\n",
      "Collecting kiwisolver>=1.0.1\n",
      "  File was already downloaded /Users/Felix/Desktop/kiwisolver-1.4.4-cp310-cp310-macosx_10_9_x86_64.whl\n",
      "Collecting packaging>=20.0\n",
      "  File was already downloaded /Users/Felix/Desktop/packaging-23.1-py3-none-any.whl\n",
      "Collecting pytz>=2020.1\n",
      "  File was already downloaded /Users/Felix/Desktop/pytz-2023.3-py2.py3-none-any.whl\n",
      "Collecting tzdata>=2022.1\n",
      "  File was already downloaded /Users/Felix/Desktop/tzdata-2023.3-py2.py3-none-any.whl\n",
      "Collecting six>=1.5\n",
      "  File was already downloaded /Users/Felix/Desktop/six-1.16.0-py2.py3-none-any.whl\n",
      "Successfully downloaded seaborn matplotlib numpy pandas contourpy cycler fonttools kiwisolver packaging pillow pyparsing python-dateutil pytz tzdata six\n",
      "\n",
      "\u001b[1m[\u001b[0m\u001b[34;49mnotice\u001b[0m\u001b[1;39;49m]\u001b[0m\u001b[39;49m A new release of pip available: \u001b[0m\u001b[31;49m22.2.2\u001b[0m\u001b[39;49m -> \u001b[0m\u001b[32;49m23.1.2\u001b[0m\n",
      "\u001b[1m[\u001b[0m\u001b[34;49mnotice\u001b[0m\u001b[1;39;49m]\u001b[0m\u001b[39;49m To update, run: \u001b[0m\u001b[32;49mpython3.10 -m pip install --upgrade pip\u001b[0m\n",
      "Requirement already satisfied: seaborn in /usr/local/lib/python3.10/site-packages (0.12.0)\n",
      "Requirement already satisfied: matplotlib>=3.1 in /usr/local/lib/python3.10/site-packages (from seaborn) (3.6.1)\n",
      "Requirement already satisfied: numpy>=1.17 in /usr/local/lib/python3.10/site-packages (from seaborn) (1.24.3)\n",
      "Requirement already satisfied: pandas>=0.25 in /usr/local/lib/python3.10/site-packages (from seaborn) (2.0.1)\n",
      "Requirement already satisfied: fonttools>=4.22.0 in /usr/local/lib/python3.10/site-packages (from matplotlib>=3.1->seaborn) (4.37.4)\n",
      "Requirement already satisfied: packaging>=20.0 in /Users/Felix/Library/Python/3.10/lib/python/site-packages (from matplotlib>=3.1->seaborn) (21.3)\n",
      "Requirement already satisfied: cycler>=0.10 in /usr/local/lib/python3.10/site-packages (from matplotlib>=3.1->seaborn) (0.11.0)\n",
      "Requirement already satisfied: python-dateutil>=2.7 in /Users/Felix/Library/Python/3.10/lib/python/site-packages (from matplotlib>=3.1->seaborn) (2.8.2)\n",
      "Requirement already satisfied: pillow>=6.2.0 in /usr/local/lib/python3.10/site-packages (from matplotlib>=3.1->seaborn) (9.2.0)\n",
      "Requirement already satisfied: contourpy>=1.0.1 in /usr/local/lib/python3.10/site-packages (from matplotlib>=3.1->seaborn) (1.0.5)\n",
      "Requirement already satisfied: pyparsing>=2.2.1 in /Users/Felix/Library/Python/3.10/lib/python/site-packages (from matplotlib>=3.1->seaborn) (3.0.9)\n",
      "Requirement already satisfied: kiwisolver>=1.0.1 in /usr/local/lib/python3.10/site-packages (from matplotlib>=3.1->seaborn) (1.4.4)\n",
      "Requirement already satisfied: tzdata>=2022.1 in /usr/local/lib/python3.10/site-packages (from pandas>=0.25->seaborn) (2023.3)\n",
      "Requirement already satisfied: pytz>=2020.1 in /usr/local/lib/python3.10/site-packages (from pandas>=0.25->seaborn) (2022.4)\n",
      "Requirement already satisfied: six>=1.5 in /Users/Felix/Library/Python/3.10/lib/python/site-packages (from python-dateutil>=2.7->matplotlib>=3.1->seaborn) (1.16.0)\n",
      "\n",
      "\u001b[1m[\u001b[0m\u001b[34;49mnotice\u001b[0m\u001b[1;39;49m]\u001b[0m\u001b[39;49m A new release of pip available: \u001b[0m\u001b[31;49m22.2.2\u001b[0m\u001b[39;49m -> \u001b[0m\u001b[32;49m23.1.2\u001b[0m\n",
      "\u001b[1m[\u001b[0m\u001b[34;49mnotice\u001b[0m\u001b[1;39;49m]\u001b[0m\u001b[39;49m To update, run: \u001b[0m\u001b[32;49mpython3.10 -m pip install --upgrade pip\u001b[0m\n",
      "Requirement already satisfied: gensim in /usr/local/lib/python3.10/site-packages (4.3.1)\n",
      "Requirement already satisfied: smart-open>=1.8.1 in /usr/local/lib/python3.10/site-packages (from gensim) (6.3.0)\n",
      "Requirement already satisfied: scipy>=1.7.0 in /usr/local/lib/python3.10/site-packages (from gensim) (1.9.2)\n",
      "Requirement already satisfied: numpy>=1.18.5 in /usr/local/lib/python3.10/site-packages (from gensim) (1.24.3)\n",
      "\n",
      "\u001b[1m[\u001b[0m\u001b[34;49mnotice\u001b[0m\u001b[1;39;49m]\u001b[0m\u001b[39;49m A new release of pip available: \u001b[0m\u001b[31;49m22.2.2\u001b[0m\u001b[39;49m -> \u001b[0m\u001b[32;49m23.1.2\u001b[0m\n",
      "\u001b[1m[\u001b[0m\u001b[34;49mnotice\u001b[0m\u001b[1;39;49m]\u001b[0m\u001b[39;49m To update, run: \u001b[0m\u001b[32;49mpython3.10 -m pip install --upgrade pip\u001b[0m\n",
      "Requirement already satisfied: pyLDAvis in /usr/local/lib/python3.10/site-packages (3.4.1)\n",
      "Requirement already satisfied: numexpr in /usr/local/lib/python3.10/site-packages (from pyLDAvis) (2.8.4)\n",
      "Requirement already satisfied: setuptools in /usr/local/lib/python3.10/site-packages (from pyLDAvis) (65.3.0)\n",
      "Requirement already satisfied: gensim in /usr/local/lib/python3.10/site-packages (from pyLDAvis) (4.3.1)\n",
      "Requirement already satisfied: scikit-learn>=1.0.0 in /usr/local/lib/python3.10/site-packages (from pyLDAvis) (1.1.2)\n",
      "Requirement already satisfied: funcy in /usr/local/lib/python3.10/site-packages (from pyLDAvis) (2.0)\n",
      "Requirement already satisfied: numpy>=1.24.2 in /usr/local/lib/python3.10/site-packages (from pyLDAvis) (1.24.3)\n",
      "Requirement already satisfied: scipy in /usr/local/lib/python3.10/site-packages (from pyLDAvis) (1.9.2)\n",
      "Requirement already satisfied: joblib>=1.2.0 in /usr/local/lib/python3.10/site-packages (from pyLDAvis) (1.2.0)\n",
      "Requirement already satisfied: jinja2 in /Users/Felix/Library/Python/3.10/lib/python/site-packages (from pyLDAvis) (3.1.2)\n",
      "Requirement already satisfied: pandas>=2.0.0 in /usr/local/lib/python3.10/site-packages (from pyLDAvis) (2.0.1)\n",
      "Requirement already satisfied: tzdata>=2022.1 in /usr/local/lib/python3.10/site-packages (from pandas>=2.0.0->pyLDAvis) (2023.3)\n",
      "Requirement already satisfied: python-dateutil>=2.8.2 in /Users/Felix/Library/Python/3.10/lib/python/site-packages (from pandas>=2.0.0->pyLDAvis) (2.8.2)\n",
      "Requirement already satisfied: pytz>=2020.1 in /usr/local/lib/python3.10/site-packages (from pandas>=2.0.0->pyLDAvis) (2022.4)\n",
      "Requirement already satisfied: threadpoolctl>=2.0.0 in /usr/local/lib/python3.10/site-packages (from scikit-learn>=1.0.0->pyLDAvis) (3.1.0)\n",
      "Requirement already satisfied: smart-open>=1.8.1 in /usr/local/lib/python3.10/site-packages (from gensim->pyLDAvis) (6.3.0)\n",
      "Requirement already satisfied: MarkupSafe>=2.0 in /Users/Felix/Library/Python/3.10/lib/python/site-packages (from jinja2->pyLDAvis) (2.1.1)\n",
      "Requirement already satisfied: six>=1.5 in /Users/Felix/Library/Python/3.10/lib/python/site-packages (from python-dateutil>=2.8.2->pandas>=2.0.0->pyLDAvis) (1.16.0)\n",
      "\n",
      "\u001b[1m[\u001b[0m\u001b[34;49mnotice\u001b[0m\u001b[1;39;49m]\u001b[0m\u001b[39;49m A new release of pip available: \u001b[0m\u001b[31;49m22.2.2\u001b[0m\u001b[39;49m -> \u001b[0m\u001b[32;49m23.1.2\u001b[0m\n",
      "\u001b[1m[\u001b[0m\u001b[34;49mnotice\u001b[0m\u001b[1;39;49m]\u001b[0m\u001b[39;49m To update, run: \u001b[0m\u001b[32;49mpython3.10 -m pip install --upgrade pip\u001b[0m\n",
      "\u001b[31mERROR: Could not find a version that satisfies the requirement pyLDAvis.gensim (from versions: none)\u001b[0m\u001b[31m\n",
      "\u001b[0m\u001b[31mERROR: No matching distribution found for pyLDAvis.gensim\u001b[0m\u001b[31m\n",
      "\u001b[0m\n",
      "\u001b[1m[\u001b[0m\u001b[34;49mnotice\u001b[0m\u001b[1;39;49m]\u001b[0m\u001b[39;49m A new release of pip available: \u001b[0m\u001b[31;49m22.2.2\u001b[0m\u001b[39;49m -> \u001b[0m\u001b[32;49m23.1.2\u001b[0m\n",
      "\u001b[1m[\u001b[0m\u001b[34;49mnotice\u001b[0m\u001b[1;39;49m]\u001b[0m\u001b[39;49m To update, run: \u001b[0m\u001b[32;49mpython3.10 -m pip install --upgrade pip\u001b[0m\n"
     ]
    },
    {
     "name": "stderr",
     "output_type": "stream",
     "text": [
      "[nltk_data] Downloading package stopwords to /Users/Felix/nltk_data...\n",
      "[nltk_data]   Package stopwords is already up-to-date!\n",
      "[nltk_data] Downloading package punkt to /Users/Felix/nltk_data...\n",
      "[nltk_data]   Package punkt is already up-to-date!\n",
      "[nltk_data] Downloading package wordnet to /Users/Felix/nltk_data...\n",
      "[nltk_data]   Package wordnet is already up-to-date!\n"
     ]
    },
    {
     "data": {
      "text/plain": [
       "True"
      ]
     },
     "execution_count": 170,
     "metadata": {},
     "output_type": "execute_result"
    }
   ],
   "source": [
    "!pip3 download nltk\n",
    "!pip3 install nltk\n",
    "!pip3 download seaborn\n",
    "!pip3 install seaborn\n",
    "!pip3 install gensim\n",
    "!pip3 install pyLDAvis\n",
    "!pip3 install pyLDAvis.gensim\n",
    "\n",
    "import pandas as pd\n",
    "import math\n",
    "import time\n",
    "import os\n",
    "import numpy as np\n",
    "import matplotlib as plt\n",
    "import seaborn as sns \n",
    "import nltk\n",
    "import gensim \n",
    "import re\n",
    "from nltk.corpus import stopwords\n",
    "from nltk import word_tokenize, WordNetLemmatizer\n",
    "from nltk.stem import PorterStemmer\n",
    "from sklearn.feature_extraction.text import CountVectorizer\n",
    "from gensim.corpora import Dictionary\n",
    "from gensim import corpora, models\n",
    "from pprint import pprint\n",
    "\n",
    "\n",
    "nltk.download('stopwords')\n",
    "nltk.download('punkt')\n",
    "nltk.download('wordnet')"
   ]
  },
  {
   "attachments": {},
   "cell_type": "markdown",
   "metadata": {
    "jp-MarkdownHeadingCollapsed": true,
    "tags": []
   },
   "source": [
    "# 1. Cleaning big data set"
   ]
  },
  {
   "cell_type": "code",
   "execution_count": 3,
   "metadata": {},
   "outputs": [
    {
     "ename": "KeyboardInterrupt",
     "evalue": "",
     "output_type": "error",
     "traceback": [
      "\u001b[0;31m---------------------------------------------------------------------------\u001b[0m",
      "\u001b[0;31mKeyboardInterrupt\u001b[0m                         Traceback (most recent call last)",
      "\u001b[1;32m/Users/Felix/Desktop/GitHub/NLP_final/nlp_final.ipynb Zelle 6\u001b[0m in \u001b[0;36m1\n\u001b[0;32m----> <a href='vscode-notebook-cell:/Users/Felix/Desktop/GitHub/NLP_final/nlp_final.ipynb#W5sZmlsZQ%3D%3D?line=0'>1</a>\u001b[0m newspaper_df \u001b[39m=\u001b[39m pd\u001b[39m.\u001b[39mread_csv(\u001b[39m'\u001b[39m\u001b[39m/Users/Felix/Desktop/GitHub/NLP_finalproject/newspaper_data.csv\u001b[39m\u001b[39m'\u001b[39m)\n\u001b[1;32m      <a href='vscode-notebook-cell:/Users/Felix/Desktop/GitHub/NLP_final/nlp_final.ipynb#W5sZmlsZQ%3D%3D?line=1'>2</a>\u001b[0m newspaper_df\u001b[39m.\u001b[39mhead()\n",
      "File \u001b[0;32m/usr/local/lib/python3.10/site-packages/pandas/util/_decorators.py:211\u001b[0m, in \u001b[0;36mdeprecate_kwarg.<locals>._deprecate_kwarg.<locals>.wrapper\u001b[0;34m(*args, **kwargs)\u001b[0m\n\u001b[1;32m    209\u001b[0m     \u001b[39melse\u001b[39;00m:\n\u001b[1;32m    210\u001b[0m         kwargs[new_arg_name] \u001b[39m=\u001b[39m new_arg_value\n\u001b[0;32m--> 211\u001b[0m \u001b[39mreturn\u001b[39;00m func(\u001b[39m*\u001b[39;49margs, \u001b[39m*\u001b[39;49m\u001b[39m*\u001b[39;49mkwargs)\n",
      "File \u001b[0;32m/usr/local/lib/python3.10/site-packages/pandas/util/_decorators.py:317\u001b[0m, in \u001b[0;36mdeprecate_nonkeyword_arguments.<locals>.decorate.<locals>.wrapper\u001b[0;34m(*args, **kwargs)\u001b[0m\n\u001b[1;32m    311\u001b[0m \u001b[39mif\u001b[39;00m \u001b[39mlen\u001b[39m(args) \u001b[39m>\u001b[39m num_allow_args:\n\u001b[1;32m    312\u001b[0m     warnings\u001b[39m.\u001b[39mwarn(\n\u001b[1;32m    313\u001b[0m         msg\u001b[39m.\u001b[39mformat(arguments\u001b[39m=\u001b[39marguments),\n\u001b[1;32m    314\u001b[0m         \u001b[39mFutureWarning\u001b[39;00m,\n\u001b[1;32m    315\u001b[0m         stacklevel\u001b[39m=\u001b[39mfind_stack_level(inspect\u001b[39m.\u001b[39mcurrentframe()),\n\u001b[1;32m    316\u001b[0m     )\n\u001b[0;32m--> 317\u001b[0m \u001b[39mreturn\u001b[39;00m func(\u001b[39m*\u001b[39;49margs, \u001b[39m*\u001b[39;49m\u001b[39m*\u001b[39;49mkwargs)\n",
      "File \u001b[0;32m/usr/local/lib/python3.10/site-packages/pandas/io/parsers/readers.py:950\u001b[0m, in \u001b[0;36mread_csv\u001b[0;34m(filepath_or_buffer, sep, delimiter, header, names, index_col, usecols, squeeze, prefix, mangle_dupe_cols, dtype, engine, converters, true_values, false_values, skipinitialspace, skiprows, skipfooter, nrows, na_values, keep_default_na, na_filter, verbose, skip_blank_lines, parse_dates, infer_datetime_format, keep_date_col, date_parser, dayfirst, cache_dates, iterator, chunksize, compression, thousands, decimal, lineterminator, quotechar, quoting, doublequote, escapechar, comment, encoding, encoding_errors, dialect, error_bad_lines, warn_bad_lines, on_bad_lines, delim_whitespace, low_memory, memory_map, float_precision, storage_options)\u001b[0m\n\u001b[1;32m    935\u001b[0m kwds_defaults \u001b[39m=\u001b[39m _refine_defaults_read(\n\u001b[1;32m    936\u001b[0m     dialect,\n\u001b[1;32m    937\u001b[0m     delimiter,\n\u001b[0;32m   (...)\u001b[0m\n\u001b[1;32m    946\u001b[0m     defaults\u001b[39m=\u001b[39m{\u001b[39m\"\u001b[39m\u001b[39mdelimiter\u001b[39m\u001b[39m\"\u001b[39m: \u001b[39m\"\u001b[39m\u001b[39m,\u001b[39m\u001b[39m\"\u001b[39m},\n\u001b[1;32m    947\u001b[0m )\n\u001b[1;32m    948\u001b[0m kwds\u001b[39m.\u001b[39mupdate(kwds_defaults)\n\u001b[0;32m--> 950\u001b[0m \u001b[39mreturn\u001b[39;00m _read(filepath_or_buffer, kwds)\n",
      "File \u001b[0;32m/usr/local/lib/python3.10/site-packages/pandas/io/parsers/readers.py:611\u001b[0m, in \u001b[0;36m_read\u001b[0;34m(filepath_or_buffer, kwds)\u001b[0m\n\u001b[1;32m    608\u001b[0m     \u001b[39mreturn\u001b[39;00m parser\n\u001b[1;32m    610\u001b[0m \u001b[39mwith\u001b[39;00m parser:\n\u001b[0;32m--> 611\u001b[0m     \u001b[39mreturn\u001b[39;00m parser\u001b[39m.\u001b[39;49mread(nrows)\n",
      "File \u001b[0;32m/usr/local/lib/python3.10/site-packages/pandas/io/parsers/readers.py:1772\u001b[0m, in \u001b[0;36mTextFileReader.read\u001b[0;34m(self, nrows)\u001b[0m\n\u001b[1;32m   1765\u001b[0m nrows \u001b[39m=\u001b[39m validate_integer(\u001b[39m\"\u001b[39m\u001b[39mnrows\u001b[39m\u001b[39m\"\u001b[39m, nrows)\n\u001b[1;32m   1766\u001b[0m \u001b[39mtry\u001b[39;00m:\n\u001b[1;32m   1767\u001b[0m     \u001b[39m# error: \"ParserBase\" has no attribute \"read\"\u001b[39;00m\n\u001b[1;32m   1768\u001b[0m     (\n\u001b[1;32m   1769\u001b[0m         index,\n\u001b[1;32m   1770\u001b[0m         columns,\n\u001b[1;32m   1771\u001b[0m         col_dict,\n\u001b[0;32m-> 1772\u001b[0m     ) \u001b[39m=\u001b[39m \u001b[39mself\u001b[39;49m\u001b[39m.\u001b[39;49m_engine\u001b[39m.\u001b[39;49mread(  \u001b[39m# type: ignore[attr-defined]\u001b[39;49;00m\n\u001b[1;32m   1773\u001b[0m         nrows\n\u001b[1;32m   1774\u001b[0m     )\n\u001b[1;32m   1775\u001b[0m \u001b[39mexcept\u001b[39;00m \u001b[39mException\u001b[39;00m:\n\u001b[1;32m   1776\u001b[0m     \u001b[39mself\u001b[39m\u001b[39m.\u001b[39mclose()\n",
      "File \u001b[0;32m/usr/local/lib/python3.10/site-packages/pandas/io/parsers/c_parser_wrapper.py:243\u001b[0m, in \u001b[0;36mCParserWrapper.read\u001b[0;34m(self, nrows)\u001b[0m\n\u001b[1;32m    241\u001b[0m \u001b[39mtry\u001b[39;00m:\n\u001b[1;32m    242\u001b[0m     \u001b[39mif\u001b[39;00m \u001b[39mself\u001b[39m\u001b[39m.\u001b[39mlow_memory:\n\u001b[0;32m--> 243\u001b[0m         chunks \u001b[39m=\u001b[39m \u001b[39mself\u001b[39;49m\u001b[39m.\u001b[39;49m_reader\u001b[39m.\u001b[39;49mread_low_memory(nrows)\n\u001b[1;32m    244\u001b[0m         \u001b[39m# destructive to chunks\u001b[39;00m\n\u001b[1;32m    245\u001b[0m         data \u001b[39m=\u001b[39m _concatenate_chunks(chunks)\n",
      "File \u001b[0;32m/usr/local/lib/python3.10/site-packages/pandas/_libs/parsers.pyx:808\u001b[0m, in \u001b[0;36mpandas._libs.parsers.TextReader.read_low_memory\u001b[0;34m()\u001b[0m\n",
      "File \u001b[0;32m/usr/local/lib/python3.10/site-packages/pandas/_libs/parsers.pyx:890\u001b[0m, in \u001b[0;36mpandas._libs.parsers.TextReader._read_rows\u001b[0;34m()\u001b[0m\n",
      "File \u001b[0;32m/usr/local/lib/python3.10/site-packages/pandas/_libs/parsers.pyx:1049\u001b[0m, in \u001b[0;36mpandas._libs.parsers.TextReader._convert_column_data\u001b[0;34m()\u001b[0m\n",
      "File \u001b[0;32m/usr/local/lib/python3.10/site-packages/pandas/core/dtypes/common.py:1434\u001b[0m, in \u001b[0;36mis_extension_array_dtype\u001b[0;34m(arr_or_dtype)\u001b[0m\n\u001b[1;32m   1425\u001b[0m     \u001b[39m# Note: if other EA dtypes are ever held in HybridBlock, exclude those\u001b[39;00m\n\u001b[1;32m   1426\u001b[0m     \u001b[39m#  here too.\u001b[39;00m\n\u001b[1;32m   1427\u001b[0m     \u001b[39m# NB: need to check DatetimeTZDtype and not is_datetime64tz_dtype\u001b[39;00m\n\u001b[1;32m   1428\u001b[0m     \u001b[39m#  to exclude ArrowTimestampUSDtype\u001b[39;00m\n\u001b[1;32m   1429\u001b[0m     \u001b[39mreturn\u001b[39;00m \u001b[39misinstance\u001b[39m(dtype, ExtensionDtype) \u001b[39mand\u001b[39;00m \u001b[39mnot\u001b[39;00m \u001b[39misinstance\u001b[39m(\n\u001b[1;32m   1430\u001b[0m         dtype, (DatetimeTZDtype, PeriodDtype)\n\u001b[1;32m   1431\u001b[0m     )\n\u001b[0;32m-> 1434\u001b[0m \u001b[39mdef\u001b[39;00m \u001b[39mis_extension_array_dtype\u001b[39m(arr_or_dtype) \u001b[39m-\u001b[39m\u001b[39m>\u001b[39m \u001b[39mbool\u001b[39m:\n\u001b[1;32m   1435\u001b[0m     \u001b[39m\"\"\"\u001b[39;00m\n\u001b[1;32m   1436\u001b[0m \u001b[39m    Check if an object is a pandas extension array type.\u001b[39;00m\n\u001b[1;32m   1437\u001b[0m \n\u001b[0;32m   (...)\u001b[0m\n\u001b[1;32m   1477\u001b[0m \u001b[39m    False\u001b[39;00m\n\u001b[1;32m   1478\u001b[0m \u001b[39m    \"\"\"\u001b[39;00m\n\u001b[1;32m   1479\u001b[0m     dtype \u001b[39m=\u001b[39m \u001b[39mgetattr\u001b[39m(arr_or_dtype, \u001b[39m\"\u001b[39m\u001b[39mdtype\u001b[39m\u001b[39m\"\u001b[39m, arr_or_dtype)\n",
      "\u001b[0;31mKeyboardInterrupt\u001b[0m: "
     ]
    }
   ],
   "source": [
    "newspaper_df = pd.read_csv('/Users/Felix/Desktop/GitHub/NLP_finalproject/newspaper_data.csv')\n",
    "newspaper_df.head()"
   ]
  },
  {
   "cell_type": "code",
   "execution_count": null,
   "metadata": {},
   "outputs": [
    {
     "data": {
      "text/plain": [
       "(2688878, 10)"
      ]
     },
     "execution_count": 4,
     "metadata": {},
     "output_type": "execute_result"
    }
   ],
   "source": [
    "#give me the shape of newspaper_df\n",
    "newspaper_df.shape"
   ]
  },
  {
   "cell_type": "code",
   "execution_count": null,
   "metadata": {},
   "outputs": [
    {
     "name": "stdout",
     "output_type": "stream",
     "text": [
      "['Vox' 'Business Insider' 'Reuters' 'TMZ' 'Vice' 'Vice News'\n",
      " 'Hyperallergic' 'TechCrunch' 'Axios' 'Refinery 29' 'The Verge' 'Mashable'\n",
      " 'People' 'Economist' 'CNN' 'Gizmodo' 'New Yorker' 'CNBC' 'Wired'\n",
      " 'New Republic' 'Fox News' 'The Hill' 'Politico' 'The New York Times'\n",
      " 'Buzzfeed News' 'Washington Post' nan]\n"
     ]
    },
    {
     "data": {
      "text/plain": [
       "27"
      ]
     },
     "execution_count": 5,
     "metadata": {},
     "output_type": "execute_result"
    }
   ],
   "source": [
    "#give me the different potential values for the column publication\n",
    "print(newspaper_df['publication'].unique())\n",
    "len(newspaper_df['publication'].unique())"
   ]
  },
  {
   "cell_type": "code",
   "execution_count": null,
   "metadata": {},
   "outputs": [
    {
     "data": {
      "text/plain": [
       "Reuters               840094\n",
       "The New York Times    252259\n",
       "CNBC                  238096\n",
       "The Hill              208411\n",
       "People                136488\n",
       "CNN                   127602\n",
       "Refinery 29           111433\n",
       "Vice                  101137\n",
       "Mashable               94107\n",
       "Business Insider       57953\n",
       "The Verge              52424\n",
       "TechCrunch             52095\n",
       "TMZ                    49595\n",
       "Axios                  47815\n",
       "Vox                    47272\n",
       "Politico               46377\n",
       "Washington Post        40882\n",
       "Buzzfeed News          32819\n",
       "Gizmodo                27228\n",
       "Economist              26227\n",
       "Wired                  20243\n",
       "Fox News               20144\n",
       "Vice News              15539\n",
       "Hyperallergic          13551\n",
       "New Republic           11809\n",
       "New Yorker              4701\n",
       "Name: publication, dtype: int64"
      ]
     },
     "execution_count": 6,
     "metadata": {},
     "output_type": "execute_result"
    }
   ],
   "source": [
    "#show me the distribution of the column over gteh different values for publication\n",
    "newspaper_df['publication'].value_counts()"
   ]
  },
  {
   "cell_type": "code",
   "execution_count": null,
   "metadata": {},
   "outputs": [],
   "source": [
    "relevant = ['TMZ', 'Economist', 'CNN', 'CNBC', 'Fox News', 'Reuters', 'The New York Times','Washington Post', 'Business Insider']"
   ]
  },
  {
   "cell_type": "code",
   "execution_count": null,
   "metadata": {},
   "outputs": [],
   "source": [
    "columns_to_keep = ['year', 'title', 'article', 'publication']"
   ]
  },
  {
   "cell_type": "code",
   "execution_count": null,
   "metadata": {},
   "outputs": [],
   "source": [
    "#create new data frame that is reduced to the relevant publications and columns to keep\n",
    "newspaper_df = newspaper_df[newspaper_df['publication'].isin(relevant)][columns_to_keep]"
   ]
  },
  {
   "attachments": {},
   "cell_type": "markdown",
   "metadata": {
    "jp-MarkdownHeadingCollapsed": true,
    "tags": []
   },
   "source": [
    "# 2. EDA of cleaned data set"
   ]
  },
  {
   "attachments": {},
   "cell_type": "markdown",
   "metadata": {
    "jp-MarkdownHeadingCollapsed": true,
    "tags": []
   },
   "source": [
    "## 2.1 General information"
   ]
  },
  {
   "cell_type": "code",
   "execution_count": 30,
   "metadata": {},
   "outputs": [],
   "source": [
    "run = 0"
   ]
  },
  {
   "cell_type": "code",
   "execution_count": 32,
   "metadata": {},
   "outputs": [
    {
     "name": "stdout",
     "output_type": "stream",
     "text": [
      "Done with run {run}\n"
     ]
    }
   ],
   "source": [
    "print('Done with run {run}')"
   ]
  },
  {
   "cell_type": "code",
   "execution_count": null,
   "metadata": {},
   "outputs": [
    {
     "data": {
      "text/html": [
       "<div>\n",
       "<style scoped>\n",
       "    .dataframe tbody tr th:only-of-type {\n",
       "        vertical-align: middle;\n",
       "    }\n",
       "\n",
       "    .dataframe tbody tr th {\n",
       "        vertical-align: top;\n",
       "    }\n",
       "\n",
       "    .dataframe thead th {\n",
       "        text-align: right;\n",
       "    }\n",
       "</style>\n",
       "<table border=\"1\" class=\"dataframe\">\n",
       "  <thead>\n",
       "    <tr style=\"text-align: right;\">\n",
       "      <th></th>\n",
       "      <th>year</th>\n",
       "      <th>title</th>\n",
       "      <th>article</th>\n",
       "      <th>publication</th>\n",
       "    </tr>\n",
       "  </thead>\n",
       "  <tbody>\n",
       "    <tr>\n",
       "      <th>1</th>\n",
       "      <td>2016</td>\n",
       "      <td>Colts GM Ryan Grigson says Andrew Luck's contr...</td>\n",
       "      <td>The Indianapolis Colts made Andrew Luck the h...</td>\n",
       "      <td>Business Insider</td>\n",
       "    </tr>\n",
       "    <tr>\n",
       "      <th>2</th>\n",
       "      <td>2018</td>\n",
       "      <td>Trump denies report he ordered Mueller fired</td>\n",
       "      <td>DAVOS, Switzerland (Reuters) - U.S. President ...</td>\n",
       "      <td>Reuters</td>\n",
       "    </tr>\n",
       "    <tr>\n",
       "      <th>3</th>\n",
       "      <td>2019</td>\n",
       "      <td>France's Sarkozy reveals his 'Passions' but in...</td>\n",
       "      <td>PARIS (Reuters) - Former French president Nico...</td>\n",
       "      <td>Reuters</td>\n",
       "    </tr>\n",
       "    <tr>\n",
       "      <th>4</th>\n",
       "      <td>2016</td>\n",
       "      <td>Paris Hilton: Woman In Black For Uncle Monty's...</td>\n",
       "      <td>Paris Hilton arrived at LAX Wednesday dressed ...</td>\n",
       "      <td>TMZ</td>\n",
       "    </tr>\n",
       "    <tr>\n",
       "      <th>5</th>\n",
       "      <td>2019</td>\n",
       "      <td>ECB's Coeure: If we decide to cut rates, we'd ...</td>\n",
       "      <td>BERLIN, June 17 (Reuters) - ECB board member B...</td>\n",
       "      <td>Reuters</td>\n",
       "    </tr>\n",
       "  </tbody>\n",
       "</table>\n",
       "</div>"
      ],
      "text/plain": [
       "   year                                              title  \\\n",
       "1  2016  Colts GM Ryan Grigson says Andrew Luck's contr...   \n",
       "2  2018       Trump denies report he ordered Mueller fired   \n",
       "3  2019  France's Sarkozy reveals his 'Passions' but in...   \n",
       "4  2016  Paris Hilton: Woman In Black For Uncle Monty's...   \n",
       "5  2019  ECB's Coeure: If we decide to cut rates, we'd ...   \n",
       "\n",
       "                                             article       publication  \n",
       "1   The Indianapolis Colts made Andrew Luck the h...  Business Insider  \n",
       "2  DAVOS, Switzerland (Reuters) - U.S. President ...           Reuters  \n",
       "3  PARIS (Reuters) - Former French president Nico...           Reuters  \n",
       "4  Paris Hilton arrived at LAX Wednesday dressed ...               TMZ  \n",
       "5  BERLIN, June 17 (Reuters) - ECB board member B...           Reuters  "
      ]
     },
     "metadata": {},
     "output_type": "display_data"
    }
   ],
   "source": [
    "newspaper_df.head()"
   ]
  },
  {
   "cell_type": "code",
   "execution_count": null,
   "metadata": {},
   "outputs": [
    {
     "data": {
      "text/plain": [
       "(1652852, 4)"
      ]
     },
     "metadata": {},
     "output_type": "display_data"
    }
   ],
   "source": [
    "newspaper_df.shape"
   ]
  },
  {
   "cell_type": "code",
   "execution_count": null,
   "metadata": {},
   "outputs": [
    {
     "name": "stdout",
     "output_type": "stream",
     "text": [
      "<class 'pandas.core.frame.DataFrame'>\n",
      "Int64Index: 1652852 entries, 1 to 2688877\n",
      "Data columns (total 4 columns):\n",
      " #   Column       Non-Null Count    Dtype \n",
      "---  ------       --------------    ----- \n",
      " 0   year         1652852 non-null  int64 \n",
      " 1   title        1652816 non-null  object\n",
      " 2   article      1587777 non-null  object\n",
      " 3   publication  1652852 non-null  object\n",
      "dtypes: int64(1), object(3)\n",
      "memory usage: 63.1+ MB\n"
     ]
    }
   ],
   "source": [
    "newspaper_df.info()"
   ]
  },
  {
   "cell_type": "code",
   "execution_count": null,
   "metadata": {},
   "outputs": [
    {
     "data": {
      "text/plain": [
       "year               0\n",
       "title             36\n",
       "article        65075\n",
       "publication        0\n",
       "dtype: int64"
      ]
     },
     "metadata": {},
     "output_type": "display_data"
    }
   ],
   "source": [
    "newspaper_df.isnull().sum()"
   ]
  },
  {
   "cell_type": "code",
   "execution_count": null,
   "metadata": {},
   "outputs": [
    {
     "data": {
      "text/plain": [
       "Washington Post       37550\n",
       "Reuters               14958\n",
       "CNBC                   3955\n",
       "The New York Times     3173\n",
       "Economist              3027\n",
       "CNN                    2302\n",
       "TMZ                      91\n",
       "Business Insider         19\n",
       "Name: publication, dtype: int64"
      ]
     },
     "metadata": {},
     "output_type": "display_data"
    }
   ],
   "source": [
    "#show me the distribution of isnull in article over publication\n",
    "newspaper_df[newspaper_df['article'].isnull()]['publication'].value_counts()"
   ]
  },
  {
   "cell_type": "code",
   "execution_count": null,
   "metadata": {},
   "outputs": [],
   "source": [
    "#delete all rows where article and title is null\n",
    "newspaper_df = newspaper_df.dropna(subset=['article', 'title'])"
   ]
  },
  {
   "cell_type": "code",
   "execution_count": null,
   "metadata": {},
   "outputs": [
    {
     "data": {
      "text/plain": [
       "Reuters               825136\n",
       "The New York Times    249072\n",
       "CNBC                  234139\n",
       "CNN                   125300\n",
       "Business Insider       57934\n",
       "TMZ                    49504\n",
       "Economist              23200\n",
       "Fox News               20144\n",
       "Washington Post         3332\n",
       "Name: publication, dtype: int64"
      ]
     },
     "metadata": {},
     "output_type": "display_data"
    }
   ],
   "source": [
    "#show me the distribution of the column over the different values for publication\n",
    "newspaper_df['publication'].value_counts()\n"
   ]
  },
  {
   "cell_type": "code",
   "execution_count": null,
   "metadata": {},
   "outputs": [
    {
     "data": {
      "text/plain": [
       "(1587761, 4)"
      ]
     },
     "metadata": {},
     "output_type": "display_data"
    }
   ],
   "source": [
    "newspaper_df.shape"
   ]
  },
  {
   "attachments": {},
   "cell_type": "markdown",
   "metadata": {},
   "source": [
    "## 2.2 Plots"
   ]
  },
  {
   "cell_type": "code",
   "execution_count": null,
   "metadata": {},
   "outputs": [
    {
     "data": {
      "text/plain": [
       "<AxesSubplot: >"
      ]
     },
     "metadata": {},
     "output_type": "display_data"
    },
    {
     "data": {
      "image/png": "[encoded data removed]",
      "text/plain": [
       "<Figure size 640x480 with 1 Axes>"
      ]
     },
     "metadata": {},
     "output_type": "display_data"
    }
   ],
   "source": [
    "#plot the distribution of the column over the different values for publication\n",
    "newspaper_df['publication'].value_counts().plot(kind='bar')"
   ]
  },
  {
   "cell_type": "code",
   "execution_count": null,
   "metadata": {},
   "outputs": [
    {
     "data": {
      "text/plain": [
       "<AxesSubplot: >"
      ]
     },
     "metadata": {},
     "output_type": "display_data"
    },
    {
     "data": {
      "image/png": "[encoded data removed]",
      "text/plain": [
       "<Figure size 640x480 with 1 Axes>"
      ]
     },
     "metadata": {},
     "output_type": "display_data"
    }
   ],
   "source": [
    "#plot the articles per year\n",
    "newspaper_df['year'].value_counts().plot(kind='bar')"
   ]
  },
  {
   "cell_type": "code",
   "execution_count": null,
   "metadata": {},
   "outputs": [
    {
     "data": {
      "text/plain": [
       "<AxesSubplot: xlabel='year'>"
      ]
     },
     "metadata": {},
     "output_type": "display_data"
    },
    {
     "data": {
      "image/png": "[encoded data removed]",
      "text/plain": [
       "<Figure size 640x480 with 1 Axes>"
      ]
     },
     "metadata": {},
     "output_type": "display_data"
    }
   ],
   "source": [
    "#plot the articles per year per publication\n",
    "newspaper_df.groupby(['year', 'publication']).size().unstack().plot(kind='bar', stacked=True)"
   ]
  },
  {
   "cell_type": "code",
   "execution_count": null,
   "metadata": {},
   "outputs": [
    {
     "data": {
      "text/plain": [
       "<AxesSubplot: xlabel='year'>"
      ]
     },
     "metadata": {},
     "output_type": "display_data"
    },
    {
     "data": {
      "image/png": "[encoded data removed]",
      "text/plain": [
       "<Figure size 640x480 with 1 Axes>"
      ]
     },
     "metadata": {},
     "output_type": "display_data"
    }
   ],
   "source": [
    "#plot the articles per year per publication\n",
    "newspaper_df.groupby(['year', 'publication']).size().unstack().plot(kind='bar', stacked=False)"
   ]
  },
  {
   "attachments": {},
   "cell_type": "markdown",
   "metadata": {},
   "source": [
    "## 2.3 Saving shorter df as csv"
   ]
  },
  {
   "cell_type": "code",
   "execution_count": null,
   "metadata": {},
   "outputs": [],
   "source": [
    "import time\n",
    "import math"
   ]
  },
  {
   "cell_type": "code",
   "execution_count": null,
   "metadata": {},
   "outputs": [],
   "source": [
    "def split_dataframe(df, max_file_size_mb, file_name):\n",
    "    # Start the timer\n",
    "    start_time = time.time()\n",
    "\n",
    "    max_file_size_bytes = max_file_size_mb * 1024 * 1024\n",
    "\n",
    "    # Split the DataFrame into sub DataFrames\n",
    "    num_files = math.ceil(len(df) / max_file_size_bytes)\n",
    "    print(f'num_files: {num_files}')\n",
    "\n",
    "    # Split the DataFrame and save each sub DataFrame as a CSV file\n",
    "    sub_dfs = []\n",
    "    for i in range(num_files):\n",
    "        start_index = i * max_file_size_bytes\n",
    "        end_index = min((i + 1) * max_file_size_bytes, len(df))\n",
    "        sub_df = df.iloc[start_index:end_index]\n",
    "        sub_dfs.append(sub_df)\n",
    "\n",
    "        # Save each sub DataFrame as a CSV file with the specified name and a number\n",
    "        file_path = f'{file_name}_{i + 1}.csv'\n",
    "        sub_df.to_csv(file_path, index=False)\n",
    "\n",
    "    # Stop the timer\n",
    "    end_time = time.time()\n",
    "    print(f'Finished splitting {len(df)} rows into {num_files} files in {end_time - start_time:.2f} seconds')\n",
    "\n",
    "    # Return the list of sub DataFrames\n",
    "    return sub_dfs"
   ]
  },
  {
   "cell_type": "code",
   "execution_count": null,
   "metadata": {},
   "outputs": [],
   "source": [
    "def split_dataframe(df, max_file_size_mb, file_name):\n",
    "    # Start the timer\n",
    "    start_time = time.time()\n",
    "\n",
    "    max_file_size_bytes = max_file_size_mb * 1024 * 1024\n",
    "\n",
    "    # Calculate the approximate size of each row in bytes\n",
    "    row_size = df.memory_usage(deep=True).sum() / len(df)\n",
    "\n",
    "    # Calculate the number of rows that would fit within the maximum file size\n",
    "    num_rows_per_file = math.floor(max_file_size_bytes / row_size)\n",
    "\n",
    "    # Split the DataFrame into sub DataFrames\n",
    "    num_files = math.ceil(len(df) / num_rows_per_file)\n",
    "    print(f'num_files: {num_files}')\n",
    "\n",
    "    # Save each sub DataFrame as a CSV file with the specified name and a number\n",
    "    for i in range(num_files):\n",
    "        start_index = i * num_rows_per_file\n",
    "        end_index = min((i + 1) * num_rows_per_file, len(df))\n",
    "        sub_df = df.iloc[start_index:end_index].copy()\n",
    "        file_path = f'{file_name}_{i + 1}.csv'\n",
    "        sub_df.to_csv(file_path, index=False)\n",
    "\n",
    "    # Stop the timer\n",
    "    end_time = time.time()\n",
    "    print(f'Finished splitting {len(df)} rows into {num_files} files in {end_time - start_time:.2f} seconds')"
   ]
  },
  {
   "cell_type": "code",
   "execution_count": null,
   "metadata": {},
   "outputs": [
    {
     "name": "stdout",
     "output_type": "stream",
     "text": [
      "num_files: 327\n",
      "Finished splitting 1587761 rows into 327 files in 193.70 seconds\n"
     ]
    }
   ],
   "source": [
    "# Split the DataFrame into sub DataFrames with a maximum file size of 249 MB\n",
    "sub_dataframes = split_dataframe(newspaper_df, 24.9, \"newsdata\")"
   ]
  },
  {
   "cell_type": "code",
   "execution_count": null,
   "metadata": {},
   "outputs": [
    {
     "name": "stdout",
     "output_type": "stream",
     "text": [
      "num_files: 3\n",
      "Finished splitting 4858 rows into 3 files in 0.82 seconds\n"
     ]
    }
   ],
   "source": [
    "#read in the newsdata_282.csv and split it into 2 csv files, safe as newsdata_282_1.csv and newsdata_282_2.csv\n",
    "newsdata_282 = pd.read_csv('/Users/Felix/Desktop/GitHub/NLP_finalproject/newsdata_269.csv')\n",
    "sub_dataframes = split_dataframe(newsdata_282, 24.9, \"newsdata_269\")\n"
   ]
  },
  {
   "cell_type": "code",
   "execution_count": null,
   "metadata": {},
   "outputs": [
    {
     "name": "stdout",
     "output_type": "stream",
     "text": [
      "num_files: 3\n",
      "Finished splitting 4858 rows into 3 files in 3.37 seconds\n"
     ]
    }
   ],
   "source": [
    "#read in the newsdata_282.csv and split it into 2 csv files, safe as newsdata_282_1.csv and newsdata_282_2.csv\n",
    "newsdata_282 = pd.read_csv('/Users/Felix/Desktop/GitHub/NLP_finalproject/newsdata_312.csv')\n",
    "sub_dataframes = split_dataframe(newsdata_282, 24.9, \"newsdata_312\")"
   ]
  },
  {
   "cell_type": "code",
   "execution_count": null,
   "metadata": {},
   "outputs": [
    {
     "name": "stdout",
     "output_type": "stream",
     "text": [
      "num_files: 3\n",
      "Finished splitting 4858 rows into 3 files in 0.75 seconds\n"
     ]
    }
   ],
   "source": [
    "#read in the newsdata_282.csv and split it into 2 csv files, safe as newsdata_282_1.csv and newsdata_282_2.csv\n",
    "newsdata_282 = pd.read_csv('/Users/Felix/Desktop/GitHub/NLP_finalproject/newsdata_269.csv')\n",
    "sub_dataframes = split_dataframe(newsdata_282, 24.9, \"newsdata_269\")"
   ]
  },
  {
   "attachments": {},
   "cell_type": "markdown",
   "metadata": {},
   "source": [
    "# 3 Starting point"
   ]
  },
  {
   "attachments": {},
   "cell_type": "markdown",
   "metadata": {},
   "source": [
    "## 3.1 Reading in"
   ]
  },
  {
   "cell_type": "code",
   "execution_count": 2,
   "metadata": {
    "execution": {
     "iopub.execute_input": "2023-05-23T08:33:34.579862Z",
     "iopub.status.busy": "2023-05-23T08:33:34.579154Z",
     "iopub.status.idle": "2023-05-23T08:33:34.601707Z",
     "shell.execute_reply": "2023-05-23T08:33:34.599934Z",
     "shell.execute_reply.started": "2023-05-23T08:33:34.579808Z"
    },
    "tags": []
   },
   "outputs": [],
   "source": [
    "#create a list with the names of the files\n",
    "file_names = ['newsdata_1.csv', 'newsdata_2.csv', 'newsdata_3.csv', 'newsdata_4.csv', 'newsdata_5.csv', 'newsdata_6.csv', 'newsdata_7.csv', 'newsdata_8.csv', 'newsdata_9.csv', 'newsdata_10.csv', 'newsdata_11.csv', 'newsdata_12.csv', 'newsdata_13.csv', 'newsdata_14.csv', 'newsdata_15.csv', 'newsdata_16.csv', 'newsdata_17.csv', 'newsdata_18.csv', 'newsdata_19.csv', 'newsdata_20.csv', 'newsdata_21.csv', 'newsdata_22.csv', 'newsdata_23.csv', 'newsdata_24.csv', 'newsdata_25.csv', 'newsdata_26.csv', 'newsdata_27.csv', 'newsdata_28.csv', 'newsdata_29.csv', 'newsdata_30.csv', 'newsdata_31.csv', 'newsdata_32.csv', 'newsdata_33.csv', 'newsdata_34.csv', 'newsdata_35.csv', 'newsdata_36.csv', 'newsdata_37.csv', 'newsdata_38.csv', 'newsdata_39.csv', 'newsdata_40.csv', 'newsdata_41.csv', 'newsdata_42.csv', 'newsdata_43.csv', 'newsdata_44.csv', 'newsdata_45.csv', 'newsdata_46.csv', 'newsdata_47.csv', 'newsdata_48.csv', 'newsdata_49.csv', 'newsdata_50.csv', 'newsdata_51.csv', 'newsdata_52.csv', 'newsdata_53.csv', 'newsdata_54.csv', 'newsdata_55.csv', 'newsdata_56.csv', 'newsdata_57.csv', 'newsdata_58.csv', 'newsdata_59.csv', 'newsdata_60.csv', 'newsdata_61.csv', 'newsdata_62.csv', 'newsdata_63.csv', 'newsdata_64.csv', 'newsdata_65.csv', 'newsdata_66.csv', 'newsdata_67.csv', 'newsdata_68.csv', 'newsdata_69.csv', 'newsdata_70.csv', 'newsdata_71.csv',\n",
    "'newsdata_72.csv', 'newsdata_73.csv', 'newsdata_74.csv', 'newsdata_75.csv', 'newsdata_76.csv', 'newsdata_77.csv', 'newsdata_78.csv', 'newsdata_79.csv', 'newsdata_80.csv', 'newsdata_81.csv', 'newsdata_82.csv', 'newsdata_83.csv', 'newsdata_84.csv', 'newsdata_85.csv', 'newsdata_86.csv', 'newsdata_87.csv', 'newsdata_88.csv', 'newsdata_89.csv', 'newsdata_90.csv', 'newsdata_91.csv', 'newsdata_92.csv', 'newsdata_93.csv', 'newsdata_94.csv', 'newsdata_95.csv', 'newsdata_96.csv', 'newsdata_97.csv', 'newsdata_98.csv', 'newsdata_99.csv', 'newsdata_100.csv', 'newsdata_101.csv', 'newsdata_102.csv', 'newsdata_103.csv', 'newsdata_104.csv', 'newsdata_105.csv', 'newsdata_106.csv', 'newsdata_107.csv', 'newsdata_108.csv', 'newsdata_109.csv', 'newsdata_110.csv', 'newsdata_111.csv', 'newsdata_112.csv', 'newsdata_113.csv', 'newsdata_114.csv', 'newsdata_115.csv', 'newsdata_116.csv', 'newsdata_117.csv', 'newsdata_118.csv', 'newsdata_119.csv', 'newsdata_120.csv', 'newsdata_121.csv', 'newsdata_122.csv', 'newsdata_123.csv', 'newsdata_124.csv', 'newsdata_125.csv', 'newsdata_126.csv', 'newsdata_127.csv', 'newsdata_128.csv', 'newsdata_129.csv', 'newsdata_130.csv', 'newsdata_131.csv', 'newsdata_132.csv', 'newsdata_133.csv', 'newsdata_134.csv', 'newsdata_135.csv', 'newsdata_136.csv', 'newsdata_137.csv', 'newsdata_138.csv', 'newsdata_139.csv', 'newsdata_140.csv', 'newsdata_141.csv', 'newsdata_142.csv',\n",
    "'newsdata_143.csv', 'newsdata_144.csv', 'newsdata_145.csv', 'newsdata_146.csv', 'newsdata_147.csv', 'newsdata_148.csv', 'newsdata_149.csv', 'newsdata_150.csv', 'newsdata_151.csv', 'newsdata_152.csv', 'newsdata_153.csv', 'newsdata_154.csv', 'newsdata_155.csv', 'newsdata_156.csv', 'newsdata_157.csv', 'newsdata_158.csv', 'newsdata_159.csv', 'newsdata_160.csv', 'newsdata_161.csv', 'newsdata_162.csv', 'newsdata_163.csv', 'newsdata_164.csv', 'newsdata_165.csv', 'newsdata_166.csv', 'newsdata_167.csv', 'newsdata_168.csv', 'newsdata_169.csv', 'newsdata_170.csv', 'newsdata_171.csv', 'newsdata_172.csv', 'newsdata_173.csv', 'newsdata_174.csv', 'newsdata_175.csv', 'newsdata_176.csv', 'newsdata_177.csv', 'newsdata_178.csv', 'newsdata_179.csv', 'newsdata_180.csv', 'newsdata_181.csv', 'newsdata_182.csv', 'newsdata_183.csv', 'newsdata_184.csv', 'newsdata_185.csv', 'newsdata_186.csv', 'newsdata_187.csv', 'newsdata_188.csv', 'newsdata_189.csv', 'newsdata_190.csv', 'newsdata_191.csv', 'newsdata_192.csv', 'newsdata_193.csv', 'newsdata_194.csv', 'newsdata_195.csv', 'newsdata_196.csv', 'newsdata_197.csv', 'newsdata_198.csv', 'newsdata_199.csv', 'newsdata_200.csv', 'newsdata_201.csv', 'newsdata_202.csv', 'newsdata_203.csv', 'newsdata_204.csv', 'newsdata_205.csv', 'newsdata_206.csv', 'newsdata_207.csv', 'newsdata_208.csv', 'newsdata_209.csv', 'newsdata_210.csv', 'newsdata_211.csv', 'newsdata_212.csv', 'newsdata_213.csv',\n",
    "'newsdata_214.csv', 'newsdata_215.csv', 'newsdata_216.csv', 'newsdata_217.csv', 'newsdata_218.csv', 'newsdata_219.csv', 'newsdata_220.csv', 'newsdata_221.csv', 'newsdata_222.csv', 'newsdata_223.csv', 'newsdata_224.csv', 'newsdata_225.csv', 'newsdata_226.csv', 'newsdata_227.csv', 'newsdata_228.csv', 'newsdata_229.csv', 'newsdata_230.csv', 'newsdata_231.csv', 'newsdata_232.csv', 'newsdata_233.csv', 'newsdata_234.csv', 'newsdata_235.csv', 'newsdata_236.csv', 'newsdata_237.csv', 'newsdata_238.csv', 'newsdata_239.csv','newsdata_241.csv', 'newsdata_242.csv', 'newsdata_243.csv', 'newsdata_244.csv', 'newsdata_245.csv', 'newsdata_246.csv', 'newsdata_247.csv', 'newsdata_248.csv', 'newsdata_249.csv', 'newsdata_251.csv', 'newsdata_252.csv', 'newsdata_253.csv', 'newsdata_254.csv', 'newsdata_255.csv', 'newsdata_256.csv', 'newsdata_257.csv', 'newsdata_258.csv', 'newsdata_259.csv', 'newsdata_260.csv', 'newsdata_261.csv', 'newsdata_262.csv', 'newsdata_263.csv', 'newsdata_264.csv', 'newsdata_265.csv', 'newsdata_266.csv', 'newsdata_267.csv', 'newsdata_268.csv', 'newsdata_269.csv', 'newsdata_270.csv', 'newsdata_271.csv', 'newsdata_272.csv', 'newsdata_273.csv', 'newsdata_274.csv', 'newsdata_275.csv', 'newsdata_276.csv', 'newsdata_277.csv', 'newsdata_278.csv', 'newsdata_279.csv', 'newsdata_280.csv', 'newsdata_281.csv', 'newsdata_282.csv', 'newsdata_283.csv', 'newsdata_284.csv',\n",
    "'newsdata_285.csv', 'newsdata_286.csv', 'newsdata_287.csv', 'newsdata_288.csv', 'newsdata_289.csv', 'newsdata_290.csv', 'newsdata_291.csv', 'newsdata_292.csv', 'newsdata_293.csv', 'newsdata_294.csv', 'newsdata_295.csv', 'newsdata_296.csv', 'newsdata_297.csv', 'newsdata_298.csv', 'newsdata_299.csv', 'newsdata_300.csv', 'newsdata_301.csv', 'newsdata_302.csv', 'newsdata_303.csv', 'newsdata_304.csv', 'newsdata_305.csv', 'newsdata_306.csv', 'newsdata_307.csv', 'newsdata_308.csv', 'newsdata_309.csv', 'newsdata_310.csv', 'newsdata_311.csv', 'newsdata_312.csv', 'newsdata_313.csv', 'newsdata_314.csv', 'newsdata_315.csv', 'newsdata_316.csv', 'newsdata_317.csv', 'newsdata_318.csv', 'newsdata_319.csv', 'newsdata_320.csv', 'newsdata_321.csv', 'newsdata_322.csv', 'newsdata_323.csv', 'newsdata_324.csv', 'newsdata_325.csv', 'newsdata_326.csv', 'newsdata_327.csv', 'newsdata_328.csv', 'newsdata_329.csv', 'newsdata_329.csv', 'newsdata_330.csv', 'newsdata_331.csv', 'newsdata_332.csv', 'newsdata_333.csv', 'newsdata_334.csv', 'newsdata_335.csv', 'newsdata_336.csv', 'newsdata_337.csv', 'newsdata_338.csv', 'newsdata_339.csv', 'newsdata_340.csv', 'newsdata_341.csv', 'newsdata_342.csv', 'newsdata_343.csv', 'newsdata_344.csv', 'newsdata_345.csv', 'newsdata_346.csv', 'newsdata_347.csv', 'newsdata_348.csv', 'newsdata_349.csv', 'newsdata_350.csv', 'newsdata_351.csv', 'newsdata_352.csv', 'newsdata_353.csv', 'newsdata_354.csv',\n",
    "'newsdata_355.csv', 'newsdata_356.csv', 'newsdata_357.csv', 'newsdata_358.csv', 'newsdata_359.csv', 'newsdata_360.csv', 'newsdata_361.csv', 'newsdata_362.csv', 'newsdata_363.csv', 'newsdata_364.csv', 'newsdata_365.csv', 'newsdata_366.csv', 'newsdata_367.csv', 'newsdata_368.csv', 'newsdata_369.csv', 'newsdata_370.csv', 'newsdata_371.csv', 'newsdata_372.csv', 'newsdata_373.csv', 'newsdata_374.csv', 'newsdata_375.csv', 'newsdata_376.csv', 'newsdata_377.csv', 'newsdata_378.csv', 'newsdata_379.csv', 'newsdata_380.csv', 'newsdata_381.csv', 'newsdata_383.csv', 'newsdata_384.csv', 'newsdata_385.csv', 'newsdata_386.csv', 'newsdata_387.csv', 'newsdata_388.csv']"
   ]
  },
  {
   "cell_type": "code",
   "execution_count": 3,
   "metadata": {
    "execution": {
     "iopub.execute_input": "2023-05-23T08:33:39.900229Z",
     "iopub.status.busy": "2023-05-23T08:33:39.899517Z",
     "iopub.status.idle": "2023-05-23T08:34:30.310378Z",
     "shell.execute_reply": "2023-05-23T08:34:30.307996Z",
     "shell.execute_reply.started": "2023-05-23T08:33:39.900174Z"
    },
    "tags": []
   },
   "outputs": [
    {
     "name": "stdout",
     "output_type": "stream",
     "text": [
      "         year                                              title   \n",
      "0        2016  Colts GM Ryan Grigson says Andrew Luck's contr...  \\\n",
      "1        2018       Trump denies report he ordered Mueller fired   \n",
      "2        2019  France's Sarkozy reveals his 'Passions' but in...   \n",
      "3        2016  Paris Hilton: Woman In Black For Uncle Monty's...   \n",
      "4        2019  ECB's Coeure: If we decide to cut rates, we'd ...   \n",
      "...       ...                                                ...   \n",
      "1597455  2019  Merkel ally under police protection after 'Hei...   \n",
      "1597456  2019  Ugandan shilling weakens on uptick in dollar a...   \n",
      "1597457  2019  China's factory prices post steepest fall in t...   \n",
      "1597458  2019  ECB's Draghi warns of bubble risk in the euro ...   \n",
      "1597459  2019  Russia's Yandex releases rival to China's TikT...   \n",
      "\n",
      "                                                   article       publication  \n",
      "0         The Indianapolis Colts made Andrew Luck the h...  Business Insider  \n",
      "1        DAVOS, Switzerland (Reuters) - U.S. President ...           Reuters  \n",
      "2        PARIS (Reuters) - Former French president Nico...           Reuters  \n",
      "3        Paris Hilton arrived at LAX Wednesday dressed ...               TMZ  \n",
      "4        BERLIN, June 17 (Reuters) - ECB board member B...           Reuters  \n",
      "...                                                    ...               ...  \n",
      "1597455  BERLIN (Reuters) - German police said on Monda...           Reuters  \n",
      "1597456  KAMPALA, Oct 14 (Reuters) - The Ugandan shilli...           Reuters  \n",
      "1597457  BEIJING (Reuters) - China’s factory gate price...           Reuters  \n",
      "1597458  WASHINGTON (Reuters) - There are “mild signs” ...           Reuters  \n",
      "1597459  MOSCOW (Reuters) - Russian internet firm Yande...           Reuters  \n",
      "\n",
      "[1597460 rows x 4 columns]\n"
     ]
    }
   ],
   "source": [
    "folder_path = \"files\"\n",
    "\n",
    "# Create an empty list to store individual dataframes\n",
    "dfs = []\n",
    "\n",
    "# Iterate over the file names\n",
    "for file_name in file_names:\n",
    "    file_path = os.path.join(folder_path, file_name)\n",
    "    \n",
    "    # Read each file as a dataframe\n",
    "    df = pd.read_csv(file_path)  # Modify the read function according to your file format\n",
    "    \n",
    "    # Append the dataframe to the list\n",
    "    dfs.append(df)\n",
    "\n",
    "# Concatenate the list of dataframes into a single dataframe\n",
    "newsdata_df = pd.concat(dfs, ignore_index=True)\n",
    "\n",
    "# Print the combined dataframe\n",
    "print(newsdata_df)"
   ]
  },
  {
   "cell_type": "code",
   "execution_count": 4,
   "metadata": {
    "execution": {
     "iopub.execute_input": "2023-05-23T08:34:45.984439Z",
     "iopub.status.busy": "2023-05-23T08:34:45.983589Z",
     "iopub.status.idle": "2023-05-23T08:34:45.994078Z",
     "shell.execute_reply": "2023-05-23T08:34:45.992869Z",
     "shell.execute_reply.started": "2023-05-23T08:34:45.984385Z"
    },
    "tags": []
   },
   "outputs": [
    {
     "data": {
      "text/plain": [
       "(1597460, 4)"
      ]
     },
     "execution_count": 4,
     "metadata": {},
     "output_type": "execute_result"
    }
   ],
   "source": [
    "newsdata_df.shape"
   ]
  },
  {
   "cell_type": "code",
   "execution_count": 5,
   "metadata": {
    "execution": {
     "iopub.execute_input": "2023-05-23T08:34:49.415146Z",
     "iopub.status.busy": "2023-05-23T08:34:49.414669Z",
     "iopub.status.idle": "2023-05-23T08:34:49.791490Z",
     "shell.execute_reply": "2023-05-23T08:34:49.790247Z",
     "shell.execute_reply.started": "2023-05-23T08:34:49.415118Z"
    },
    "tags": []
   },
   "outputs": [
    {
     "name": "stdout",
     "output_type": "stream",
     "text": [
      "<class 'pandas.core.frame.DataFrame'>\n",
      "RangeIndex: 1597460 entries, 0 to 1597459\n",
      "Data columns (total 4 columns):\n",
      " #   Column       Non-Null Count    Dtype \n",
      "---  ------       --------------    ----- \n",
      " 0   year         1597460 non-null  int64 \n",
      " 1   title        1597460 non-null  object\n",
      " 2   article      1597460 non-null  object\n",
      " 3   publication  1597460 non-null  object\n",
      "dtypes: int64(1), object(3)\n",
      "memory usage: 48.8+ MB\n"
     ]
    }
   ],
   "source": [
    "newsdata_df.info()"
   ]
  },
  {
   "cell_type": "code",
   "execution_count": 6,
   "metadata": {
    "execution": {
     "iopub.execute_input": "2023-05-23T08:35:10.012854Z",
     "iopub.status.busy": "2023-05-23T08:35:10.012179Z",
     "iopub.status.idle": "2023-05-23T08:35:10.032290Z",
     "shell.execute_reply": "2023-05-23T08:35:10.031400Z",
     "shell.execute_reply.started": "2023-05-23T08:35:10.012800Z"
    },
    "tags": []
   },
   "outputs": [
    {
     "data": {
      "text/html": [
       "<div>\n",
       "<style scoped>\n",
       "    .dataframe tbody tr th:only-of-type {\n",
       "        vertical-align: middle;\n",
       "    }\n",
       "\n",
       "    .dataframe tbody tr th {\n",
       "        vertical-align: top;\n",
       "    }\n",
       "\n",
       "    .dataframe thead th {\n",
       "        text-align: right;\n",
       "    }\n",
       "</style>\n",
       "<table border=\"1\" class=\"dataframe\">\n",
       "  <thead>\n",
       "    <tr style=\"text-align: right;\">\n",
       "      <th></th>\n",
       "      <th>year</th>\n",
       "      <th>title</th>\n",
       "      <th>article</th>\n",
       "      <th>publication</th>\n",
       "    </tr>\n",
       "  </thead>\n",
       "  <tbody>\n",
       "    <tr>\n",
       "      <th>0</th>\n",
       "      <td>2016</td>\n",
       "      <td>Colts GM Ryan Grigson says Andrew Luck's contr...</td>\n",
       "      <td>The Indianapolis Colts made Andrew Luck the h...</td>\n",
       "      <td>Business Insider</td>\n",
       "    </tr>\n",
       "    <tr>\n",
       "      <th>1</th>\n",
       "      <td>2018</td>\n",
       "      <td>Trump denies report he ordered Mueller fired</td>\n",
       "      <td>DAVOS, Switzerland (Reuters) - U.S. President ...</td>\n",
       "      <td>Reuters</td>\n",
       "    </tr>\n",
       "    <tr>\n",
       "      <th>2</th>\n",
       "      <td>2019</td>\n",
       "      <td>France's Sarkozy reveals his 'Passions' but in...</td>\n",
       "      <td>PARIS (Reuters) - Former French president Nico...</td>\n",
       "      <td>Reuters</td>\n",
       "    </tr>\n",
       "    <tr>\n",
       "      <th>3</th>\n",
       "      <td>2016</td>\n",
       "      <td>Paris Hilton: Woman In Black For Uncle Monty's...</td>\n",
       "      <td>Paris Hilton arrived at LAX Wednesday dressed ...</td>\n",
       "      <td>TMZ</td>\n",
       "    </tr>\n",
       "    <tr>\n",
       "      <th>4</th>\n",
       "      <td>2019</td>\n",
       "      <td>ECB's Coeure: If we decide to cut rates, we'd ...</td>\n",
       "      <td>BERLIN, June 17 (Reuters) - ECB board member B...</td>\n",
       "      <td>Reuters</td>\n",
       "    </tr>\n",
       "  </tbody>\n",
       "</table>\n",
       "</div>"
      ],
      "text/plain": [
       "   year                                              title   \n",
       "0  2016  Colts GM Ryan Grigson says Andrew Luck's contr...  \\\n",
       "1  2018       Trump denies report he ordered Mueller fired   \n",
       "2  2019  France's Sarkozy reveals his 'Passions' but in...   \n",
       "3  2016  Paris Hilton: Woman In Black For Uncle Monty's...   \n",
       "4  2019  ECB's Coeure: If we decide to cut rates, we'd ...   \n",
       "\n",
       "                                             article       publication  \n",
       "0   The Indianapolis Colts made Andrew Luck the h...  Business Insider  \n",
       "1  DAVOS, Switzerland (Reuters) - U.S. President ...           Reuters  \n",
       "2  PARIS (Reuters) - Former French president Nico...           Reuters  \n",
       "3  Paris Hilton arrived at LAX Wednesday dressed ...               TMZ  \n",
       "4  BERLIN, June 17 (Reuters) - ECB board member B...           Reuters  "
      ]
     },
     "execution_count": 6,
     "metadata": {},
     "output_type": "execute_result"
    }
   ],
   "source": [
    "newsdata_df.head()"
   ]
  },
  {
   "cell_type": "code",
   "execution_count": 16,
   "metadata": {
    "execution": {
     "iopub.execute_input": "2023-05-23T08:35:13.163430Z",
     "iopub.status.busy": "2023-05-23T08:35:13.162730Z",
     "iopub.status.idle": "2023-05-23T08:35:13.177269Z",
     "shell.execute_reply": "2023-05-23T08:35:13.176330Z",
     "shell.execute_reply.started": "2023-05-23T08:35:13.163376Z"
    },
    "tags": []
   },
   "outputs": [
    {
     "name": "stdout",
     "output_type": "stream",
     "text": [
      "publication\n",
      "Reuters               410\n",
      "The New York Times    178\n",
      "Name: count, dtype: int64\n",
      "588\n"
     ]
    }
   ],
   "source": [
    "#show me the distribution of rows over publications\n",
    "print(df['publication'].value_counts())\n",
    "#sum up the number of rows per publication\n",
    "print(df['publication'].value_counts().sum())"
   ]
  },
  {
   "cell_type": "code",
   "execution_count": 7,
   "metadata": {
    "execution": {
     "iopub.execute_input": "2023-05-23T08:35:15.466985Z",
     "iopub.status.busy": "2023-05-23T08:35:15.466525Z",
     "iopub.status.idle": "2023-05-23T08:35:15.711674Z",
     "shell.execute_reply": "2023-05-23T08:35:15.710515Z",
     "shell.execute_reply.started": "2023-05-23T08:35:15.466958Z"
    },
    "tags": []
   },
   "outputs": [],
   "source": [
    "#renew the index\n",
    "newsdata_df = newsdata_df.reset_index(drop=True)\n"
   ]
  },
  {
   "cell_type": "code",
   "execution_count": 8,
   "metadata": {
    "execution": {
     "iopub.execute_input": "2023-05-23T08:35:15.712884Z",
     "iopub.status.busy": "2023-05-23T08:35:15.712687Z",
     "iopub.status.idle": "2023-05-23T08:35:15.721709Z",
     "shell.execute_reply": "2023-05-23T08:35:15.721021Z",
     "shell.execute_reply.started": "2023-05-23T08:35:15.712867Z"
    },
    "tags": []
   },
   "outputs": [
    {
     "data": {
      "text/html": [
       "<div>\n",
       "<style scoped>\n",
       "    .dataframe tbody tr th:only-of-type {\n",
       "        vertical-align: middle;\n",
       "    }\n",
       "\n",
       "    .dataframe tbody tr th {\n",
       "        vertical-align: top;\n",
       "    }\n",
       "\n",
       "    .dataframe thead th {\n",
       "        text-align: right;\n",
       "    }\n",
       "</style>\n",
       "<table border=\"1\" class=\"dataframe\">\n",
       "  <thead>\n",
       "    <tr style=\"text-align: right;\">\n",
       "      <th></th>\n",
       "      <th>year</th>\n",
       "      <th>title</th>\n",
       "      <th>article</th>\n",
       "      <th>publication</th>\n",
       "    </tr>\n",
       "  </thead>\n",
       "  <tbody>\n",
       "    <tr>\n",
       "      <th>1597455</th>\n",
       "      <td>2019</td>\n",
       "      <td>Merkel ally under police protection after 'Hei...</td>\n",
       "      <td>BERLIN (Reuters) - German police said on Monda...</td>\n",
       "      <td>Reuters</td>\n",
       "    </tr>\n",
       "    <tr>\n",
       "      <th>1597456</th>\n",
       "      <td>2019</td>\n",
       "      <td>Ugandan shilling weakens on uptick in dollar a...</td>\n",
       "      <td>KAMPALA, Oct 14 (Reuters) - The Ugandan shilli...</td>\n",
       "      <td>Reuters</td>\n",
       "    </tr>\n",
       "    <tr>\n",
       "      <th>1597457</th>\n",
       "      <td>2019</td>\n",
       "      <td>China's factory prices post steepest fall in t...</td>\n",
       "      <td>BEIJING (Reuters) - China’s factory gate price...</td>\n",
       "      <td>Reuters</td>\n",
       "    </tr>\n",
       "    <tr>\n",
       "      <th>1597458</th>\n",
       "      <td>2019</td>\n",
       "      <td>ECB's Draghi warns of bubble risk in the euro ...</td>\n",
       "      <td>WASHINGTON (Reuters) - There are “mild signs” ...</td>\n",
       "      <td>Reuters</td>\n",
       "    </tr>\n",
       "    <tr>\n",
       "      <th>1597459</th>\n",
       "      <td>2019</td>\n",
       "      <td>Russia's Yandex releases rival to China's TikT...</td>\n",
       "      <td>MOSCOW (Reuters) - Russian internet firm Yande...</td>\n",
       "      <td>Reuters</td>\n",
       "    </tr>\n",
       "  </tbody>\n",
       "</table>\n",
       "</div>"
      ],
      "text/plain": [
       "         year                                              title   \n",
       "1597455  2019  Merkel ally under police protection after 'Hei...  \\\n",
       "1597456  2019  Ugandan shilling weakens on uptick in dollar a...   \n",
       "1597457  2019  China's factory prices post steepest fall in t...   \n",
       "1597458  2019  ECB's Draghi warns of bubble risk in the euro ...   \n",
       "1597459  2019  Russia's Yandex releases rival to China's TikT...   \n",
       "\n",
       "                                                   article publication  \n",
       "1597455  BERLIN (Reuters) - German police said on Monda...     Reuters  \n",
       "1597456  KAMPALA, Oct 14 (Reuters) - The Ugandan shilli...     Reuters  \n",
       "1597457  BEIJING (Reuters) - China’s factory gate price...     Reuters  \n",
       "1597458  WASHINGTON (Reuters) - There are “mild signs” ...     Reuters  \n",
       "1597459  MOSCOW (Reuters) - Russian internet firm Yande...     Reuters  "
      ]
     },
     "execution_count": 8,
     "metadata": {},
     "output_type": "execute_result"
    }
   ],
   "source": [
    "newsdata_df.tail()"
   ]
  },
  {
   "attachments": {},
   "cell_type": "markdown",
   "metadata": {},
   "source": [
    "## 3.1.b - for working on local machine"
   ]
  },
  {
   "cell_type": "code",
   "execution_count": 225,
   "metadata": {},
   "outputs": [
    {
     "name": "stdout",
     "output_type": "stream",
     "text": [
      "(1000, 4)\n"
     ]
    }
   ],
   "source": [
    "#create a file called newslimited that includes only 1000 random from the newsdata_df\n",
    "newslimited = newsdata_df.sample(n=1000, random_state=100)\n",
    "print(newslimited.shape)"
   ]
  },
  {
   "cell_type": "code",
   "execution_count": 226,
   "metadata": {},
   "outputs": [
    {
     "data": {
      "text/html": [
       "<div>\n",
       "<style scoped>\n",
       "    .dataframe tbody tr th:only-of-type {\n",
       "        vertical-align: middle;\n",
       "    }\n",
       "\n",
       "    .dataframe tbody tr th {\n",
       "        vertical-align: top;\n",
       "    }\n",
       "\n",
       "    .dataframe thead th {\n",
       "        text-align: right;\n",
       "    }\n",
       "</style>\n",
       "<table border=\"1\" class=\"dataframe\">\n",
       "  <thead>\n",
       "    <tr style=\"text-align: right;\">\n",
       "      <th></th>\n",
       "      <th>year</th>\n",
       "      <th>title</th>\n",
       "      <th>article</th>\n",
       "      <th>publication</th>\n",
       "    </tr>\n",
       "  </thead>\n",
       "  <tbody>\n",
       "    <tr>\n",
       "      <th>1462774</th>\n",
       "      <td>2020</td>\n",
       "      <td>8 DIY salon treatments that cost a lot less th...</td>\n",
       "      <td>When you buy through our links, we may earn mo...</td>\n",
       "      <td>Business Insider</td>\n",
       "    </tr>\n",
       "    <tr>\n",
       "      <th>73651</th>\n",
       "      <td>2019</td>\n",
       "      <td>Judge to bat leadoff in his return to Yankees</td>\n",
       "      <td>The New York Yankees will waste little time in...</td>\n",
       "      <td>Reuters</td>\n",
       "    </tr>\n",
       "    <tr>\n",
       "      <th>843909</th>\n",
       "      <td>2018</td>\n",
       "      <td>Insurers' new business: 'active shooter' polic...</td>\n",
       "      <td>(Reuters) - Insurance broker Paul Marshall can...</td>\n",
       "      <td>Reuters</td>\n",
       "    </tr>\n",
       "    <tr>\n",
       "      <th>707086</th>\n",
       "      <td>2018</td>\n",
       "      <td>In China, industry push-back stubs out anti-sm...</td>\n",
       "      <td>BEIJING (Reuters) - Earlier this year, the cit...</td>\n",
       "      <td>Reuters</td>\n",
       "    </tr>\n",
       "    <tr>\n",
       "      <th>651829</th>\n",
       "      <td>2019</td>\n",
       "      <td>FOREX-Dollar on back foot as focus shifts to F...</td>\n",
       "      <td>* Graphic: World FX rates in 2019 tmsnrt.rs/2e...</td>\n",
       "      <td>Reuters</td>\n",
       "    </tr>\n",
       "  </tbody>\n",
       "</table>\n",
       "</div>"
      ],
      "text/plain": [
       "         year                                              title   \n",
       "1462774  2020  8 DIY salon treatments that cost a lot less th...  \\\n",
       "73651    2019      Judge to bat leadoff in his return to Yankees   \n",
       "843909   2018  Insurers' new business: 'active shooter' polic...   \n",
       "707086   2018  In China, industry push-back stubs out anti-sm...   \n",
       "651829   2019  FOREX-Dollar on back foot as focus shifts to F...   \n",
       "\n",
       "                                                   article       publication  \n",
       "1462774  When you buy through our links, we may earn mo...  Business Insider  \n",
       "73651    The New York Yankees will waste little time in...           Reuters  \n",
       "843909   (Reuters) - Insurance broker Paul Marshall can...           Reuters  \n",
       "707086   BEIJING (Reuters) - Earlier this year, the cit...           Reuters  \n",
       "651829   * Graphic: World FX rates in 2019 tmsnrt.rs/2e...           Reuters  "
      ]
     },
     "execution_count": 226,
     "metadata": {},
     "output_type": "execute_result"
    }
   ],
   "source": [
    "newslimited.head()"
   ]
  },
  {
   "cell_type": "code",
   "execution_count": 227,
   "metadata": {},
   "outputs": [
    {
     "name": "stdout",
     "output_type": "stream",
     "text": [
      "publication\n",
      "Reuters               519\n",
      "The New York Times    169\n",
      "CNBC                  158\n",
      "CNN                    75\n",
      "Business Insider       30\n",
      "TMZ                    25\n",
      "Fox News               16\n",
      "Economist               8\n",
      "Name: count, dtype: int64\n"
     ]
    }
   ],
   "source": [
    "#show me the distribution of articles over publishers\n",
    "print(newslimited['publication'].value_counts())"
   ]
  },
  {
   "cell_type": "code",
   "execution_count": 265,
   "metadata": {},
   "outputs": [],
   "source": [
    "#create a copy of newslimited called newslimited_cleaned\n",
    "newslimited_cleaned = newslimited.copy()"
   ]
  },
  {
   "attachments": {},
   "cell_type": "markdown",
   "metadata": {},
   "source": [
    "## 3.2 Cleaning"
   ]
  },
  {
   "cell_type": "code",
   "execution_count": 309,
   "metadata": {
    "execution": {
     "iopub.execute_input": "2023-05-23T08:37:36.408840Z",
     "iopub.status.busy": "2023-05-23T08:37:36.408160Z",
     "iopub.status.idle": "2023-05-23T08:37:36.422273Z",
     "shell.execute_reply": "2023-05-23T08:37:36.420842Z",
     "shell.execute_reply.started": "2023-05-23T08:37:36.408787Z"
    },
    "tags": []
   },
   "outputs": [],
   "source": [
    "# Function for Cleaning text\n",
    "stop_words = set(stopwords.words('english'))\n",
    "lemmatizer = WordNetLemmatizer()\n",
    "\n",
    "#all possible pulishers in list\n",
    "publishers = ['Atlantic', 'Breitbart', 'Business Insider', 'Buzzfeed News', 'CNN', 'Fox News', 'Guardian', 'NPR', 'National Review', 'New York Post', 'New York Times', 'Reuters', 'Talking Points Memo', 'Vox', 'Washington Post']\n",
    "\n",
    "import string\n",
    "\n",
    "\n",
    "def clean(text):\n",
    "    # Remove words in the publishers list\n",
    "    for publisher in publishers:\n",
    "        text = text.replace(publisher, '')\n",
    "\n",
    "    # Convert to lowercase\n",
    "    text = text.lower()\n",
    "\n",
    "    # Remove mentions\n",
    "    text = re.sub(r'@[^\\s]+', '', text)\n",
    "\n",
    "    # Remove numbers in the format 1,2,3 (not written in letters)\n",
    "    text = re.sub(r'\\b\\d+\\b', '', text)\n",
    "\n",
    "    # Remove hashtags\n",
    "    text = re.sub(r'#\\w+', '', text)\n",
    "\n",
    "    # Remove non-alphanumeric characters and extra whitespace\n",
    "    text = re.sub(r'http\\S+|www\\S+|email\\S+', '', text)\n",
    "    text = re.sub(r'[^a-zA-Z0-9\\s.]', '', text)\n",
    "    text = re.sub(r'\\s+', ' ', text)\n",
    "    text = re.sub(r'\\.(?!\\w)', '', text)\n",
    "\n",
    "    # Replace \"?\" and \"!\" with \".\"\n",
    "    #text = text.replace('?', '.').replace('!', '.')\n",
    "\n",
    "    # Tokenize the article into words\n",
    "    tokens = word_tokenize(text)\n",
    "\n",
    "    # Remove stopwords\n",
    "    stopwords = set(stop_words)\n",
    "    tokens = [word for word in tokens if word not in stopwords]\n",
    "\n",
    "    # Lemmatize tokens\n",
    "    tokens = [lemmatizer.lemmatize(token) for token in tokens]\n",
    "\n",
    "    # Join the tokens back into a cleaned article\n",
    "    cleaned_text = ' '.join(tokens)\n",
    "\n",
    "    return cleaned_text\n",
    "\n",
    "\n"
   ]
  },
  {
   "cell_type": "code",
   "execution_count": 310,
   "metadata": {
    "execution": {
     "iopub.execute_input": "2023-05-23T08:42:16.947522Z",
     "iopub.status.busy": "2023-05-23T08:42:16.946846Z"
    },
    "tags": []
   },
   "outputs": [],
   "source": [
    "# Cleaning the text\n",
    "newslimited_cleaned['article'] = newsdata_df['article'].apply(clean)"
   ]
  },
  {
   "cell_type": "code",
   "execution_count": 311,
   "metadata": {
    "tags": []
   },
   "outputs": [
    {
     "data": {
      "text/html": [
       "<div>\n",
       "<style scoped>\n",
       "    .dataframe tbody tr th:only-of-type {\n",
       "        vertical-align: middle;\n",
       "    }\n",
       "\n",
       "    .dataframe tbody tr th {\n",
       "        vertical-align: top;\n",
       "    }\n",
       "\n",
       "    .dataframe thead th {\n",
       "        text-align: right;\n",
       "    }\n",
       "</style>\n",
       "<table border=\"1\" class=\"dataframe\">\n",
       "  <thead>\n",
       "    <tr style=\"text-align: right;\">\n",
       "      <th></th>\n",
       "      <th>year</th>\n",
       "      <th>title</th>\n",
       "      <th>article</th>\n",
       "      <th>publication</th>\n",
       "    </tr>\n",
       "  </thead>\n",
       "  <tbody>\n",
       "    <tr>\n",
       "      <th>0</th>\n",
       "      <td>2020</td>\n",
       "      <td>8 DIY salon treatments that cost a lot less th...</td>\n",
       "      <td>buy link may earn money affiliate partner lear...</td>\n",
       "      <td>Business Insider</td>\n",
       "    </tr>\n",
       "    <tr>\n",
       "      <th>1</th>\n",
       "      <td>2019</td>\n",
       "      <td>Judge to bat leadoff in his return to Yankees</td>\n",
       "      <td>new york yankee waste little time getting aaro...</td>\n",
       "      <td>Reuters</td>\n",
       "    </tr>\n",
       "    <tr>\n",
       "      <th>2</th>\n",
       "      <td>2018</td>\n",
       "      <td>Insurers' new business: 'active shooter' polic...</td>\n",
       "      <td>insurance broker paul marshall count phone rin...</td>\n",
       "      <td>Reuters</td>\n",
       "    </tr>\n",
       "    <tr>\n",
       "      <th>3</th>\n",
       "      <td>2018</td>\n",
       "      <td>In China, industry push-back stubs out anti-sm...</td>\n",
       "      <td>beijing earlier year city hangzhou home intern...</td>\n",
       "      <td>Reuters</td>\n",
       "    </tr>\n",
       "    <tr>\n",
       "      <th>4</th>\n",
       "      <td>2019</td>\n",
       "      <td>FOREX-Dollar on back foot as focus shifts to F...</td>\n",
       "      <td>graphic world fx rate tmsnrt.rs2egbfvh dollar ...</td>\n",
       "      <td>Reuters</td>\n",
       "    </tr>\n",
       "  </tbody>\n",
       "</table>\n",
       "</div>"
      ],
      "text/plain": [
       "   year                                              title   \n",
       "0  2020  8 DIY salon treatments that cost a lot less th...  \\\n",
       "1  2019      Judge to bat leadoff in his return to Yankees   \n",
       "2  2018  Insurers' new business: 'active shooter' polic...   \n",
       "3  2018  In China, industry push-back stubs out anti-sm...   \n",
       "4  2019  FOREX-Dollar on back foot as focus shifts to F...   \n",
       "\n",
       "                                             article       publication  \n",
       "0  buy link may earn money affiliate partner lear...  Business Insider  \n",
       "1  new york yankee waste little time getting aaro...           Reuters  \n",
       "2  insurance broker paul marshall count phone rin...           Reuters  \n",
       "3  beijing earlier year city hangzhou home intern...           Reuters  \n",
       "4  graphic world fx rate tmsnrt.rs2egbfvh dollar ...           Reuters  "
      ]
     },
     "execution_count": 311,
     "metadata": {},
     "output_type": "execute_result"
    }
   ],
   "source": [
    "newslimited_cleaned.head()"
   ]
  },
  {
   "cell_type": "code",
   "execution_count": 312,
   "metadata": {},
   "outputs": [
    {
     "data": {
      "text/plain": [
       "'buy link may earn money affiliate partner learn love pamper visiting local salon get expensive time pricier service dont always fit budget.the insider review team contributed favorite athome treatment product help save money salon grooming services.solutions like diy gel nail kit athome tanning lotion keep u feeling pampered keeping money least pockets.whether morning journaling session evening yoga class thing allows u escape life regular chaos many daily ritual becomes near habitual others occasional indulgence eliminates stress almost instantaneously.my personal solution life everyday stress trip salon followed muchneeded manicure tan wax hair treatment although service certainly job helping relax find passing regular visit everincreasing prices.im diy kind gal ive meticulously searched way save money favorite service mimicking comfort apartment figured wasnt one trying save money way went colleague ask goto diy product helped save money salon service turn im one trying stick budget plenty people tip trick avoiding pricey treatments.below ive shared eight product staff member swear getting salonlike service home budget self tan bronzing mousse st tropez self tan express advanced bronzing mousse available amazonthis summer wa guilty getting weekly spray tan membership local salon wa little le expensive still ended per tanthe instruction say st tropez express bronzing mousse meant worn hour find leaving overnight give exact result spray tan also put face always careful wash three hour mark since doesnt last quite long professional tan apply every three day still entire bottle cost around amount professional tan grace high insider review senior analyst allover body wax kit sally hansen extra strength allover body wax kit originally available amazonim lying say saved ton money avoiding waxing service kit salon wax cost anywhere around depending service almost salon fitting general price range though paying get brow underarms leg done year got point regular trip became luxury couldnt always afford.knowing crafty nature wondered could found kit local cv wa hesistant first price entire kit equaled around half price cheapest salon wax turned worked worked better could ever expected following simple fourstep process wa able achieve look obtained salon fraction price megan foster former insider review editorial intern sleek electric razor bevel trimmer square blade available bevelif could afford get haircut week since refuse spend month haircut ive learned give trim visit barbershop bevel trimmer favorite tool use designed used everyone athome groomers like professional barber ha adjustable blade shape allows total control help shave without irritation achieve sharp line hairline mustache beard kind expensive save paying frequent haircut mention time effort involved going barbershop itll pay amir ismael insider review reporter healing clay mask aztec secret indian healing clay facial body mask available amazoni used get facial time stopped ever since using aztec clay mask actually first read insider article ordered immediately mix powder apple cider vinegar face glow day chelsey hoffman insider inc content producer jade roller kit edive holding chi jade rolling kit available amazonthese jade roller make great diy facial home recommend popping freezer using cold roller massage contour face help drain fluid buildup depuffing firming skin also use skincare product better work product skin kyle kerchaert insider video producer gel manicure starter kit sensationail gel polish starter kit available amazonive getting nail regularly done since wa yearsold adding much spent year wa floored found gel kit internet realized price wa le cost single manicure salon talking purchase tried received multiple compliment nail mention inquiry got done ha eight year still using exact kit exact supply came original package thing ive replace gel cleanser easily substituted isopropyl alcohol still treat professional manicure every alternative ha sure saved time money needed make salon visit megan foster former insider review editorial intern rechargeable trimmer shaver philip norelco oneblade face body trimmer shaver available amazonanother one favorite tool staying fresh trip barbershop philip norelco oneblade since prefer electric shaver multiblade razor sometimes hard achieve super smooth shave get job done used wet dry work style shaving although ha one blade ha load functionality shave edge trim hair length come several guard keeping stubble preferred style many time ive used ive never cut face probably hard say youve getting straight razor shave barbershop using standard multiblade razor home amir ismael insider review reporter bottle hairrepairing treatment olaplex hair perfector repairing treatment available amazonthis third step threepart hair repair system loved pretty much every hair care expert first two step usually available salon license get third step multiple location including amazon product saved hair decided dye whole head purple bottle hair dye bought online needle say wa left pretty damaged hair color wa washing drastically time shampooed olaplex restored color helped seal damaged end saved drop emergency colorcorrection deep conditioning treatment salon kyle kerchaert insider video producer subscribe newsletter purchase syndication right story disclosure post brought insider review team highlight product service might find interesting buy get small share revenue sale commerce partner frequently receive product free charge manufacturer test doe drive decision whether product featured recommended operate independently advertising sale team welcome feedback email u review window.taboola window.taboola window.taboola window.taboola'"
      ]
     },
     "execution_count": 312,
     "metadata": {},
     "output_type": "execute_result"
    }
   ],
   "source": [
    "newslimited_cleaned.iloc[0]['article']"
   ]
  },
  {
   "cell_type": "code",
   "execution_count": 313,
   "metadata": {},
   "outputs": [
    {
     "name": "stdout",
     "output_type": "stream",
     "text": [
      "When you buy through our links, we may earn money from our affiliate partners. Learn more.\n",
      "\n",
      "\n",
      "\n",
      "\n",
      "\n",
      "\n",
      " \n",
      "\n",
      "I love to pamper myself by visiting my local salon, but it can get expensive over time and the pricier services don't always fit into my budget.The Insider Reviews team contributed some of their favorite at-home treatments and products that help them save money on salon and grooming services.Solutions like DIY gel nail kits and at-home tanning lotions keep us feeling pampered while keeping our money (or at least most of it) in our pockets.Whether it be a morning journaling session or an evening yoga class, we all have our \"thing\" that allows us to escape life's regular chaos. For many, it's a daily ritual that becomes near habitual — for others it's an occasional indulgence that eliminates stress almost instantaneously.My personal solution to life's everyday stress is a trip to the salon — followed by a much-needed manicure, tan, wax, or hair treatment. Although these services certainly do the job of helping me relax, I find myself passing up on regular visits because of the ever-increasing prices.I'm a DIY kind of gal, so I've meticulously searched for ways to save some money on my favorite services by mimicking them from the comfort of my apartment. I figured I wasn't the only one trying to save money this way, so I went to my colleagues to ask about their go-to DIY products that have helped them save money on salon services, too. It turns out I'm not the only one trying to stick to my budget — plenty of people here have their own tips and tricks for avoiding pricey treatments.Below, I've shared eight products that Business Insider staff members swear by for getting salon-like services at home and on a budget.\n",
      "\n",
      "\n",
      "\n",
      "\n",
      "\n",
      "\n",
      "\n",
      "\n",
      "\n",
      "\n",
      "\n",
      "\n",
      "\n",
      "A self tan bronzing mousse\n",
      "\n",
      "\n",
      "\n",
      "\n",
      "\n",
      "\n",
      "\n",
      "\n",
      "\n",
      "\n",
      " \n",
      "St. Tropez Self Tan Express Advanced Bronzing Mousse, $44, Available at AmazonThis summer, I was guilty of getting weekly spray tans. I had a membership at a local salon, so it was a little less expensive, but still ended up being over $40 per tan!The instructions say that the St. Tropez Express Bronzing Mousse is meant to be worn for only 3 hours, but I find that leaving it on overnight gives me the exact same results as a spray tan. I also put some on my face which I am always careful to wash off after the three hour mark. Since it doesn't last quite as long as a professional tan, I apply once every three days — but still, and entire bottle costs around the same amount as a professional tan. — Grace High, Insider Reviews senior analyst\n",
      "\n",
      " \n",
      "\n",
      "\n",
      "\n",
      "\n",
      "\n",
      "\n",
      "An all-over body wax kit\n",
      "\n",
      "\n",
      "\n",
      "\n",
      "\n",
      "\n",
      "\n",
      "\n",
      "\n",
      "\n",
      " \n",
      "Sally Hansen Extra Strength All-over Body Wax Kit, $9.22 (Originally $12.99), Available at AmazonI'm not lying when I say I have saved a ton of money avoiding waxing services with this kit. Most salon waxes cost anywhere from $15 to around $60 depending on the service, with almost all salons fitting in that general price range. Though I had been paying to get my brows, underarms, and legs done for years, I got to a point where these regular trips became a luxury that I couldn't always afford.Knowing my crafty nature, I wondered if I could do it myself. I found this kit at my local CVS, but I was hesistant at first because the price of the entire kit equaled to around half the price of the cheapest salon wax. Turned out that it not only worked, it worked better than I could have ever expected. By following a simple four-step process, I was able to achieve the same look I would have obtained from the salon at a fraction of the price. —Megan Foster, former Insider Reviews editorial intern\n",
      "\n",
      " \n",
      "\n",
      "\n",
      "\n",
      "\n",
      "\n",
      "\n",
      "A sleek electric razor\n",
      "\n",
      "\n",
      "\n",
      "\n",
      "\n",
      "\n",
      "\n",
      "\n",
      "\n",
      "\n",
      " \n",
      "Bevel Trimmer with Square Blade, $199.95, Available at BevelIf I could afford to get a haircut once a week, I would — but since I refuse to spend $100 or more a month on haircuts, I've learned to give myself trims in between visits to the barbershop — and the Bevel Trimmer is my favorite tool to use. Designed to be used by everyone from at-home groomers like myself to professional barbers, it has an adjustable blade and a shape that allows for total control. It helps me shave without irritation and can achieve sharp lines on my hairline, mustache, and beard. At $200, it's kind of expensive, but if it can save you from paying for frequent haircuts (not to mention the time and effort involved in going to a barbershop), it'll pay for itself. — Amir Ismael, Insider Reviews reporter\n",
      "\n",
      "\n",
      "\n",
      "\n",
      "\n",
      "A healing clay mask\n",
      "\n",
      "\n",
      "\n",
      "\n",
      "\n",
      "\n",
      "\n",
      "\n",
      "\n",
      "\n",
      " \n",
      "Aztec Secret Indian Healing Clay Facial & Body Mask, $9.95, Available at AmazonI used to get facials all the time but have stopped ever since using the Aztec clay mask. I actually first read about this in an INSIDER article and ordered it immediately. I mix the powder with apple cider vinegar and my face glows for days after! — Chelsey Hoffman, Insider Inc. content producer\n",
      "\n",
      " \n",
      "\n",
      "\n",
      "\n",
      "\n",
      "\n",
      "\n",
      "A jade roller kit\n",
      "\n",
      "\n",
      "\n",
      "\n",
      "\n",
      "\n",
      "\n",
      "\n",
      "\n",
      "\n",
      " \n",
      "EDive Holdings Chi Jade Rolling Kit, $22.95, Available at AmazonThese jade rollers make for great DIY facials at home. I recommend popping it in your freezer and using the cold roller to massage the contours of your face. This will help drain fluid buildup, while de-puffing and firming your skin. You can also use it with your skincare products to better work the products into your skin. —Kyle Kerchaert, INSIDER video producer\n",
      "\n",
      " \n",
      "\n",
      "\n",
      "\n",
      "\n",
      "\n",
      "\n",
      "A gel manicure starter kit\n",
      "\n",
      "\n",
      "\n",
      "\n",
      "\n",
      "\n",
      "\n",
      "\n",
      "\n",
      "\n",
      " \n",
      "Sensationail Gel Polish Starter Kit, $28.96, Available at AmazonI've been getting my nails regularly done since I was about 16-years-old, and after adding up how much I have spent over the years, I was floored. I found this gel kit on the internet and realized that the price was less than the cost of a single manicure in the salon. After talking myself into the purchase, I tried it out and received multiple compliments on my nails — not to mention a few inquiries about where I got them done. It has been eight years and I am still using the exact same kit with the exact same supplies that came in the original package. The only thing I've had to replace is the \"gel cleanser\" which is easily substituted with isopropyl alcohol. I still treat myself to a professional manicure every once in a while, but this alternative has sure saved me the time and money needed to make a salon visit. —Megan Foster, former Insider Reviews editorial intern\n",
      "\n",
      " \n",
      "\n",
      "\n",
      "\n",
      "\n",
      "\n",
      "\n",
      "A rechargeable trimmer and shaver\n",
      "\n",
      "\n",
      "\n",
      "\n",
      "\n",
      "\n",
      "\n",
      "\n",
      "\n",
      "\n",
      " \n",
      "Philips Norelco OneBlade Face + Body Trimmer and Shaver, $49.95, Available at AmazonAnother one of my favorite tools for staying fresh in between trips to the barbershop is the Philips Norelco OneBlade. Since I prefer electric shavers over multi-blade razors, it's sometimes hard to achieve a super smooth shave, but this gets the job done. It can be used wet or dry, so it works with any style of shaving.  Although it only has one blade, it has loads of functionality. It can shave, edge, and trim hair at any length, and it comes with several guards — if keeping some stubble is your preferred style. As many times as I've used this, I've never cut my face, which would probably be hard to say if you've been getting straight razor shaves at the barbershop or using a standard multi-blade razor at home. — Amir Ismael, Insider Reviews reporter\n",
      "\n",
      "\n",
      "\n",
      "\n",
      "\n",
      "A bottle of hair-repairing treatment\n",
      "\n",
      "\n",
      "\n",
      "\n",
      "\n",
      "\n",
      "\n",
      "\n",
      "\n",
      "\n",
      " \n",
      "Olaplex Hair Perfector No 3 Repairing Treatment, $28, Available at AmazonThis is the third step of a three-part hair repair system loved by pretty much any and every hair care expert. The first two steps are usually only available in salons or to those with a license, but you can get the third step at multiple locations, including Amazon.  This product saved my hair after I decided to dye my whole head purple with a $10 bottle of hair dye I bought online. Needless to say, I was left with some pretty damaged hair — and the color was washing out drastically each time I shampooed. Olaplex restored the color and helped seal my damaged ends, which saved me from having to drop $400+ for an emergency color-correction and deep conditioning treatment at a salon. —Kyle Kerchaert, INSIDER video producer\n",
      "\n",
      " \n",
      "\n",
      " \n",
      "\n",
      "\n",
      "Subscribe to our newsletter.\n",
      "You can purchase syndication rights to this story here.\n",
      " Disclosure: This post is brought to you by the Insider Reviews team. We highlight products and services you might find interesting. If you buy them, we get a small share of the revenue from the sale from our commerce partners. We frequently receive products free of charge from manufacturers to test. This does not drive our decision as to whether or not a product is featured or recommended. We operate independently from our advertising sales team. We welcome your feedback. Email us at reviews@businessinsider.com.\n",
      "\n",
      "\n",
      "\n",
      "\n",
      " \n",
      "\n",
      "\n",
      "\n",
      "\n",
      "\n",
      "\n",
      "\n",
      "\n",
      "\n",
      "\n",
      "\n",
      "\n",
      "\n",
      " window._taboola = window._taboola || [];\n",
      " \n",
      "\n",
      "\n",
      "\n",
      "\n",
      "\n",
      " window._taboola = window._taboola || [];\n"
     ]
    }
   ],
   "source": [
    "#print the article of the row with the index 138121 in newsdata_df\n",
    "print(newsdata_df.iloc[1462774]['article'])"
   ]
  },
  {
   "cell_type": "code",
   "execution_count": 314,
   "metadata": {},
   "outputs": [
    {
     "data": {
      "text/html": [
       "<div>\n",
       "<style scoped>\n",
       "    .dataframe tbody tr th:only-of-type {\n",
       "        vertical-align: middle;\n",
       "    }\n",
       "\n",
       "    .dataframe tbody tr th {\n",
       "        vertical-align: top;\n",
       "    }\n",
       "\n",
       "    .dataframe thead th {\n",
       "        text-align: right;\n",
       "    }\n",
       "</style>\n",
       "<table border=\"1\" class=\"dataframe\">\n",
       "  <thead>\n",
       "    <tr style=\"text-align: right;\">\n",
       "      <th></th>\n",
       "      <th>year</th>\n",
       "      <th>title</th>\n",
       "      <th>article</th>\n",
       "      <th>publication</th>\n",
       "    </tr>\n",
       "  </thead>\n",
       "  <tbody>\n",
       "    <tr>\n",
       "      <th>0</th>\n",
       "      <td>2020</td>\n",
       "      <td>8 DIY salon treatments that cost a lot less th...</td>\n",
       "      <td>buy link may earn money affiliate partner lear...</td>\n",
       "      <td>Business Insider</td>\n",
       "    </tr>\n",
       "    <tr>\n",
       "      <th>1</th>\n",
       "      <td>2019</td>\n",
       "      <td>Judge to bat leadoff in his return to Yankees</td>\n",
       "      <td>new york yankee waste little time getting aaro...</td>\n",
       "      <td>Reuters</td>\n",
       "    </tr>\n",
       "    <tr>\n",
       "      <th>2</th>\n",
       "      <td>2018</td>\n",
       "      <td>Insurers' new business: 'active shooter' polic...</td>\n",
       "      <td>insurance broker paul marshall count phone rin...</td>\n",
       "      <td>Reuters</td>\n",
       "    </tr>\n",
       "    <tr>\n",
       "      <th>3</th>\n",
       "      <td>2018</td>\n",
       "      <td>In China, industry push-back stubs out anti-sm...</td>\n",
       "      <td>beijing earlier year city hangzhou home intern...</td>\n",
       "      <td>Reuters</td>\n",
       "    </tr>\n",
       "    <tr>\n",
       "      <th>4</th>\n",
       "      <td>2019</td>\n",
       "      <td>FOREX-Dollar on back foot as focus shifts to F...</td>\n",
       "      <td>graphic world fx rate tmsnrt.rs2egbfvh dollar ...</td>\n",
       "      <td>Reuters</td>\n",
       "    </tr>\n",
       "  </tbody>\n",
       "</table>\n",
       "</div>"
      ],
      "text/plain": [
       "   year                                              title   \n",
       "0  2020  8 DIY salon treatments that cost a lot less th...  \\\n",
       "1  2019      Judge to bat leadoff in his return to Yankees   \n",
       "2  2018  Insurers' new business: 'active shooter' polic...   \n",
       "3  2018  In China, industry push-back stubs out anti-sm...   \n",
       "4  2019  FOREX-Dollar on back foot as focus shifts to F...   \n",
       "\n",
       "                                             article       publication  \n",
       "0  buy link may earn money affiliate partner lear...  Business Insider  \n",
       "1  new york yankee waste little time getting aaro...           Reuters  \n",
       "2  insurance broker paul marshall count phone rin...           Reuters  \n",
       "3  beijing earlier year city hangzhou home intern...           Reuters  \n",
       "4  graphic world fx rate tmsnrt.rs2egbfvh dollar ...           Reuters  "
      ]
     },
     "execution_count": 314,
     "metadata": {},
     "output_type": "execute_result"
    }
   ],
   "source": [
    "#reset index for newslimited_cleaned\n",
    "newslimited_cleaned = newslimited_cleaned.reset_index(drop=True)\n",
    "newslimited_cleaned.head()"
   ]
  },
  {
   "attachments": {},
   "cell_type": "markdown",
   "metadata": {},
   "source": [
    "# 4 Embeddings"
   ]
  },
  {
   "attachments": {},
   "cell_type": "markdown",
   "metadata": {},
   "source": [
    "## 4.1 Bag of words "
   ]
  },
  {
   "cell_type": "code",
   "execution_count": 105,
   "metadata": {},
   "outputs": [],
   "source": [
    "def bow(df, column):\n",
    "    vect_bow = CountVectorizer()\n",
    "    vect_bow.fit(df[column])\n",
    "    bow_matrix = vect_bow.transform(df[column])\n",
    "    return vect_bow, bow_matrix\n",
    "\n"
   ]
  },
  {
   "cell_type": "code",
   "execution_count": 121,
   "metadata": {},
   "outputs": [],
   "source": [
    "# Call the function and assign the result to a variable\n",
    "vect_bow, bow_matrix = bow(newslimited_cleaned, \"article\")"
   ]
  },
  {
   "cell_type": "code",
   "execution_count": 122,
   "metadata": {},
   "outputs": [
    {
     "name": "stdout",
     "output_type": "stream",
     "text": [
      "[  1   2   3   4   5   6   7   8   9  10  11  12  13  14  15  16  17  18\n",
      "  19  20  21  22  23  24  25  26  27  28  29  30  31  32  33  34  35  36\n",
      "  37  38  39  40  41  42  43  44  46  47  49  50  52  53  54  56  59  60\n",
      "  63  70  72  73  75  78  90 122 149 163]\n"
     ]
    }
   ],
   "source": [
    "# Get the unique values in the bow_matrix\n",
    "unique_values = np.unique(bow_matrix.data)\n",
    "\n",
    "# Print the unique values\n",
    "print(unique_values)"
   ]
  },
  {
   "cell_type": "code",
   "execution_count": 123,
   "metadata": {},
   "outputs": [
    {
     "data": {
      "text/plain": [
       "(1000, 29817)"
      ]
     },
     "execution_count": 123,
     "metadata": {},
     "output_type": "execute_result"
    }
   ],
   "source": [
    "bow_matrix.shape"
   ]
  },
  {
   "cell_type": "code",
   "execution_count": 124,
   "metadata": {},
   "outputs": [],
   "source": [
    "#look at the bow matrix\n",
    "#print(bow_matrix)"
   ]
  },
  {
   "cell_type": "code",
   "execution_count": 125,
   "metadata": {},
   "outputs": [
    {
     "name": "stdout",
     "output_type": "stream",
     "text": [
      "['fitch', 'recent', 'several']\n"
     ]
    }
   ],
   "source": [
    "vocabulary = vect_bow.get_feature_names_out()\n",
    "\n",
    "# Find the words with the desired count\n",
    "target_count = 189\n",
    "target_words = [word for word, count in zip(vocabulary, bow_matrix.sum(axis=0).tolist()[0]) if count == target_count]\n",
    "\n",
    "# Print the words\n",
    "print(target_words)"
   ]
  },
  {
   "attachments": {},
   "cell_type": "markdown",
   "metadata": {},
   "source": [
    "## 4.2 Word2Vec"
   ]
  },
  {
   "cell_type": "code",
   "execution_count": null,
   "metadata": {},
   "outputs": [],
   "source": [
    "def selfword2vec (df, column, word):\n",
    "    # Prepare the data for training the Word2Vec model\n",
    "    sentences = [article.split() for article in df[column]]\n",
    "    \n",
    "    # Train the Word2Vec model\n",
    "    word2vec_df = Word2Vec(sentences, vector_size=100, window=5, min_count=1, workers=4)\n",
    "    \n",
    "    # Get the word vector for a specific word\n",
    "    word_vector = word2vec_df.wv[word]\n",
    "\n",
    "    # Find similar words to a given word\n",
    "    similar_words = word2vec_df.wv.most_similar(word, topn=5)\n",
    "\n",
    "    print(similar_words)\n",
    "    return word2vec_df\n",
    "\n",
    "selfword2vec(df, \"article\", \"contract\")\n",
    "\n",
    "#eotf2vec_df is the word2vec model that can be used for further steps"
   ]
  },
  {
   "cell_type": "code",
   "execution_count": null,
   "metadata": {},
   "outputs": [],
   "source": [
    "#import gensim.downloader as api\n",
    "\n",
    "#wv = api.load('word2vec-google-news-300')\n",
    "\n",
    "#pretrained word2vec model pre-trained on entire google news dataset"
   ]
  },
  {
   "attachments": {},
   "cell_type": "markdown",
   "metadata": {},
   "source": [
    "# 5 Topic modelling"
   ]
  },
  {
   "attachments": {},
   "cell_type": "markdown",
   "metadata": {},
   "source": [
    "## 5.1 Copy articles"
   ]
  },
  {
   "cell_type": "code",
   "execution_count": 315,
   "metadata": {},
   "outputs": [
    {
     "data": {
      "text/plain": [
       "0    buy link may earn money affiliate partner lear...\n",
       "1    new york yankee waste little time getting aaro...\n",
       "2    insurance broker paul marshall count phone rin...\n",
       "3    beijing earlier year city hangzhou home intern...\n",
       "4    graphic world fx rate tmsnrt.rs2egbfvh dollar ...\n",
       "5    u.s chemical producer dowdupoint reported perc...\n",
       "6    vienna country meet higher standard protection...\n",
       "7    observatory prairie vole console one another d...\n",
       "8    add detail background london dec commodity tra...\n",
       "9    feb n4 pharma plc n4 pharma signed month resea...\n",
       "Name: article, dtype: object"
      ]
     },
     "execution_count": 315,
     "metadata": {},
     "output_type": "execute_result"
    }
   ],
   "source": [
    "#create a new pandas series that inlcudes only the articles from the newslimited_cleaned dataframe\n",
    "articles = newslimited_cleaned['article']\n",
    "articles[:10]"
   ]
  },
  {
   "cell_type": "code",
   "execution_count": 316,
   "metadata": {},
   "outputs": [
    {
     "name": "stdout",
     "output_type": "stream",
     "text": [
      "69\n"
     ]
    }
   ],
   "source": [
    "#count how often energy is in preprocessed_docs\n",
    "count = 0\n",
    "for doc in articles:\n",
    "    if 'energy' in doc:\n",
    "        count += 1\n",
    "print(count)"
   ]
  },
  {
   "attachments": {},
   "cell_type": "markdown",
   "metadata": {},
   "source": [
    "## 5.2 Bag of Words"
   ]
  },
  {
   "cell_type": "code",
   "execution_count": 317,
   "metadata": {},
   "outputs": [
    {
     "name": "stdout",
     "output_type": "stream",
     "text": [
      "0    [buy, link, may, earn, money, affiliate, partn...\n",
      "1    [new, york, yankee, waste, little, time, getti...\n",
      "2    [insurance, broker, paul, marshall, count, pho...\n",
      "3    [beijing, earlier, year, city, hangzhou, home,...\n",
      "4    [graphic, world, fx, rate, tmsnrt.rs2egbfvh, d...\n",
      "5    [u.s, chemical, producer, dowdupoint, reported...\n",
      "6    [vienna, country, meet, higher, standard, prot...\n",
      "7    [observatory, prairie, vole, console, one, ano...\n",
      "8    [add, detail, background, london, dec, commodi...\n",
      "9    [feb, n4, pharma, plc, n4, pharma, signed, mon...\n",
      "Name: article, dtype: object\n"
     ]
    }
   ],
   "source": [
    "# Tokenize the articles\n",
    "articles = articles.apply(word_tokenize)\n",
    "print(articles[:10])"
   ]
  },
  {
   "attachments": {},
   "cell_type": "markdown",
   "metadata": {},
   "source": [
    "Specific cleaning for LDA"
   ]
  },
  {
   "cell_type": "code",
   "execution_count": 373,
   "metadata": {},
   "outputs": [],
   "source": [
    "def clean_lda(tokens):\n",
    "    # Remove stopwords\n",
    "    own_stopwords = [\"would\", \"could\", \"get\", \"always\", \"dont\", \"may\", \"said\", \"Mr.\", \"ha\", \"wa\", \"time\", \"year\", \"day\", \"week\", \"month\", \"like\", \"say\", \"also\", \"one\", \"two\", \"three\", \"four\", \"five\", \"six\", \"seven\", \"eight\", \"nine\", \"ten\", \"new\", \"mr\", \"last\", \"even\", \"monday\", \"tuesday\", \"wednesday\", \"thursday\", \"friday\", \"saturday\", \"sunday\", \"u\", \"first\", \"second\", \"third\", \"fourth\", \"fifth\", \"sixth\", \"seventh\", \"eighth\", \"ninth\", \"tenth\"]\n",
    "    tokens = [word for word in tokens if word not in own_stopwords]\n",
    "\n",
    "    return tokens"
   ]
  },
  {
   "cell_type": "code",
   "execution_count": 374,
   "metadata": {},
   "outputs": [],
   "source": [
    "articles = articles.apply(clean_lda)"
   ]
  },
  {
   "cell_type": "code",
   "execution_count": 375,
   "metadata": {},
   "outputs": [
    {
     "name": "stdout",
     "output_type": "stream",
     "text": [
      "['buy', 'link', 'earn', 'money', 'affiliate', 'partner', 'learn', 'love', 'pamper', 'visiting', 'local', 'salon', 'expensive', 'pricier', 'service', 'fit', 'budget.the', 'insider', 'review', 'team', 'contributed', 'favorite', 'athome', 'treatment', 'product', 'help', 'save', 'money', 'salon', 'grooming', 'services.solutions', 'diy', 'gel', 'nail', 'kit', 'athome', 'tanning', 'lotion', 'keep', 'feeling', 'pampered', 'keeping', 'money', 'least', 'pockets.whether', 'morning', 'journaling', 'session', 'evening', 'yoga', 'class', 'thing', 'allows', 'escape', 'life', 'regular', 'chaos', 'many', 'daily', 'ritual', 'becomes', 'near', 'habitual', 'others', 'occasional', 'indulgence', 'eliminates', 'stress', 'almost', 'instantaneously.my', 'personal', 'solution', 'life', 'everyday', 'stress', 'trip', 'salon', 'followed', 'muchneeded', 'manicure', 'tan', 'wax', 'hair', 'treatment', 'although', 'service', 'certainly', 'job', 'helping', 'relax', 'find', 'passing', 'regular', 'visit', 'everincreasing', 'prices.im', 'diy', 'kind', 'gal', 'ive', 'meticulously', 'searched', 'way', 'save', 'money', 'favorite', 'service', 'mimicking', 'comfort', 'apartment', 'figured', 'wasnt', 'trying', 'save', 'money', 'way', 'went', 'colleague', 'ask', 'goto', 'diy', 'product', 'helped', 'save', 'money', 'salon', 'service', 'turn', 'im', 'trying', 'stick', 'budget', 'plenty', 'people', 'tip', 'trick', 'avoiding', 'pricey', 'treatments.below', 'ive', 'shared', 'product', 'staff', 'member', 'swear', 'getting', 'salonlike', 'service', 'home', 'budget', 'self', 'tan', 'bronzing', 'mousse', 'st', 'tropez', 'self', 'tan', 'express', 'advanced', 'bronzing', 'mousse', 'available', 'amazonthis', 'summer', 'guilty', 'getting', 'weekly', 'spray', 'tan', 'membership', 'local', 'salon', 'little', 'le', 'expensive', 'still', 'ended', 'per', 'tanthe', 'instruction', 'st', 'tropez', 'express', 'bronzing', 'mousse', 'meant', 'worn', 'hour', 'find', 'leaving', 'overnight', 'give', 'exact', 'result', 'spray', 'tan', 'put', 'face', 'careful', 'wash', 'hour', 'mark', 'since', 'doesnt', 'quite', 'long', 'professional', 'tan', 'apply', 'every', 'still', 'entire', 'bottle', 'cost', 'around', 'amount', 'professional', 'tan', 'grace', 'high', 'insider', 'review', 'senior', 'analyst', 'allover', 'body', 'wax', 'kit', 'sally', 'hansen', 'extra', 'strength', 'allover', 'body', 'wax', 'kit', 'originally', 'available', 'amazonim', 'lying', 'saved', 'ton', 'money', 'avoiding', 'waxing', 'service', 'kit', 'salon', 'wax', 'cost', 'anywhere', 'around', 'depending', 'service', 'almost', 'salon', 'fitting', 'general', 'price', 'range', 'though', 'paying', 'brow', 'underarms', 'leg', 'done', 'got', 'point', 'regular', 'trip', 'became', 'luxury', 'couldnt', 'afford.knowing', 'crafty', 'nature', 'wondered', 'found', 'kit', 'local', 'cv', 'hesistant', 'price', 'entire', 'kit', 'equaled', 'around', 'half', 'price', 'cheapest', 'salon', 'wax', 'turned', 'worked', 'worked', 'better', 'ever', 'expected', 'following', 'simple', 'fourstep', 'process', 'able', 'achieve', 'look', 'obtained', 'salon', 'fraction', 'price', 'megan', 'foster', 'former', 'insider', 'review', 'editorial', 'intern', 'sleek', 'electric', 'razor', 'bevel', 'trimmer', 'square', 'blade', 'available', 'bevelif', 'afford', 'haircut', 'since', 'refuse', 'spend', 'haircut', 'ive', 'learned', 'give', 'trim', 'visit', 'barbershop', 'bevel', 'trimmer', 'favorite', 'tool', 'use', 'designed', 'used', 'everyone', 'athome', 'groomers', 'professional', 'barber', 'adjustable', 'blade', 'shape', 'allows', 'total', 'control', 'help', 'shave', 'without', 'irritation', 'achieve', 'sharp', 'line', 'hairline', 'mustache', 'beard', 'kind', 'expensive', 'save', 'paying', 'frequent', 'haircut', 'mention', 'effort', 'involved', 'going', 'barbershop', 'itll', 'pay', 'amir', 'ismael', 'insider', 'review', 'reporter', 'healing', 'clay', 'mask', 'aztec', 'secret', 'indian', 'healing', 'clay', 'facial', 'body', 'mask', 'available', 'amazoni', 'used', 'facial', 'stopped', 'ever', 'since', 'using', 'aztec', 'clay', 'mask', 'actually', 'read', 'insider', 'article', 'ordered', 'immediately', 'mix', 'powder', 'apple', 'cider', 'vinegar', 'face', 'glow', 'chelsey', 'hoffman', 'insider', 'inc', 'content', 'producer', 'jade', 'roller', 'kit', 'edive', 'holding', 'chi', 'jade', 'rolling', 'kit', 'available', 'amazonthese', 'jade', 'roller', 'make', 'great', 'diy', 'facial', 'home', 'recommend', 'popping', 'freezer', 'using', 'cold', 'roller', 'massage', 'contour', 'face', 'help', 'drain', 'fluid', 'buildup', 'depuffing', 'firming', 'skin', 'use', 'skincare', 'product', 'better', 'work', 'product', 'skin', 'kyle', 'kerchaert', 'insider', 'video', 'producer', 'gel', 'manicure', 'starter', 'kit', 'sensationail', 'gel', 'polish', 'starter', 'kit', 'available', 'amazonive', 'getting', 'nail', 'regularly', 'done', 'since', 'yearsold', 'adding', 'much', 'spent', 'floored', 'found', 'gel', 'kit', 'internet', 'realized', 'price', 'le', 'cost', 'single', 'manicure', 'salon', 'talking', 'purchase', 'tried', 'received', 'multiple', 'compliment', 'nail', 'mention', 'inquiry', 'got', 'done', 'still', 'using', 'exact', 'kit', 'exact', 'supply', 'came', 'original', 'package', 'thing', 'ive', 'replace', 'gel', 'cleanser', 'easily', 'substituted', 'isopropyl', 'alcohol', 'still', 'treat', 'professional', 'manicure', 'every', 'alternative', 'sure', 'saved', 'money', 'needed', 'make', 'salon', 'visit', 'megan', 'foster', 'former', 'insider', 'review', 'editorial', 'intern', 'rechargeable', 'trimmer', 'shaver', 'philip', 'norelco', 'oneblade', 'face', 'body', 'trimmer', 'shaver', 'available', 'amazonanother', 'favorite', 'tool', 'staying', 'fresh', 'trip', 'barbershop', 'philip', 'norelco', 'oneblade', 'since', 'prefer', 'electric', 'shaver', 'multiblade', 'razor', 'sometimes', 'hard', 'achieve', 'super', 'smooth', 'shave', 'job', 'done', 'used', 'wet', 'dry', 'work', 'style', 'shaving', 'although', 'blade', 'load', 'functionality', 'shave', 'edge', 'trim', 'hair', 'length', 'come', 'several', 'guard', 'keeping', 'stubble', 'preferred', 'style', 'many', 'ive', 'used', 'ive', 'never', 'cut', 'face', 'probably', 'hard', 'youve', 'getting', 'straight', 'razor', 'shave', 'barbershop', 'using', 'standard', 'multiblade', 'razor', 'home', 'amir', 'ismael', 'insider', 'review', 'reporter', 'bottle', 'hairrepairing', 'treatment', 'olaplex', 'hair', 'perfector', 'repairing', 'treatment', 'available', 'amazonthis', 'step', 'threepart', 'hair', 'repair', 'system', 'loved', 'pretty', 'much', 'every', 'hair', 'care', 'expert', 'step', 'usually', 'available', 'salon', 'license', 'step', 'multiple', 'location', 'including', 'amazon', 'product', 'saved', 'hair', 'decided', 'dye', 'whole', 'head', 'purple', 'bottle', 'hair', 'dye', 'bought', 'online', 'needle', 'left', 'pretty', 'damaged', 'hair', 'color', 'washing', 'drastically', 'shampooed', 'olaplex', 'restored', 'color', 'helped', 'seal', 'damaged', 'end', 'saved', 'drop', 'emergency', 'colorcorrection', 'deep', 'conditioning', 'treatment', 'salon', 'kyle', 'kerchaert', 'insider', 'video', 'producer', 'subscribe', 'newsletter', 'purchase', 'syndication', 'right', 'story', 'disclosure', 'post', 'brought', 'insider', 'review', 'team', 'highlight', 'product', 'service', 'might', 'find', 'interesting', 'buy', 'small', 'share', 'revenue', 'sale', 'commerce', 'partner', 'frequently', 'receive', 'product', 'free', 'charge', 'manufacturer', 'test', 'doe', 'drive', 'decision', 'whether', 'product', 'featured', 'recommended', 'operate', 'independently', 'advertising', 'sale', 'team', 'welcome', 'feedback', 'email', 'review', 'window.taboola', 'window.taboola', 'window.taboola', 'window.taboola']\n"
     ]
    }
   ],
   "source": [
    "#show me the first article in articles\n",
    "print(articles[0])\n"
   ]
  },
  {
   "cell_type": "code",
   "execution_count": 376,
   "metadata": {},
   "outputs": [],
   "source": [
    "dictionary = gensim.corpora.Dictionary(articles)"
   ]
  },
  {
   "cell_type": "code",
   "execution_count": 377,
   "metadata": {},
   "outputs": [
    {
     "name": "stdout",
     "output_type": "stream",
     "text": [
      "28257\n"
     ]
    }
   ],
   "source": [
    "print(len(dictionary.iteritems()))"
   ]
  },
  {
   "cell_type": "code",
   "execution_count": 378,
   "metadata": {},
   "outputs": [
    {
     "name": "stdout",
     "output_type": "stream",
     "text": [
      "0 able\n",
      "1 achieve\n",
      "2 actually\n",
      "3 adding\n",
      "4 adjustable\n",
      "5 advanced\n",
      "6 advertising\n",
      "7 affiliate\n",
      "8 afford\n",
      "9 afford.knowing\n",
      "10 alcohol\n"
     ]
    }
   ],
   "source": [
    "#show me the last elements of the dictionary\n",
    "count = 0\n",
    "for k, v in dictionary.iteritems():\n",
    "    print(k, v)\n",
    "    count += 1\n",
    "    if count > 10:\n",
    "        break"
   ]
  },
  {
   "cell_type": "code",
   "execution_count": 379,
   "metadata": {},
   "outputs": [
    {
     "name": "stdout",
     "output_type": "stream",
     "text": [
      " Number of articles: 1000\n",
      "Number of different words in first article: 466\n"
     ]
    }
   ],
   "source": [
    "#create each a dictionary for each article\n",
    "bow_corpus = [dictionary.doc2bow(doc) for doc in articles]\n",
    "print(f' Number of articles: {len(bow_corpus)}')\n",
    "print(f'Number of different words in first article: {len(bow_corpus[0])}')"
   ]
  },
  {
   "cell_type": "code",
   "execution_count": 380,
   "metadata": {},
   "outputs": [
    {
     "name": "stdout",
     "output_type": "stream",
     "text": [
      "[(0, 1), (1, 3), (2, 1), (3, 1), (4, 1), (5, 1), (6, 1), (7, 1), (8, 1), (9, 1), (10, 1), (11, 2), (12, 2), (13, 2), (14, 1), (15, 2), (16, 1), (17, 1), (18, 1), (19, 1), (20, 1), (21, 1), (22, 2), (23, 2), (24, 1), (25, 1), (26, 1), (27, 1), (28, 1), (29, 1), (30, 3), (31, 1), (32, 1), (33, 3), (34, 9), (35, 2), (36, 2), (37, 1), (38, 4), (39, 1), (40, 1), (41, 1), (42, 2), (43, 2), (44, 1), (45, 3), (46, 4), (47, 3), (48, 1), (49, 3), (50, 1), (51, 1), (52, 2), (53, 1), (54, 1), (55, 2), (56, 1), (57, 1), (58, 1), (59, 1), (60, 1), (61, 1), (62, 1), (63, 1), (64, 1), (65, 1), (66, 1), (67, 3), (68, 1), (69, 1), (70, 1), (71, 2), (72, 1), (73, 1), (74, 1), (75, 1), (76, 1), (77, 1), (78, 1), (79, 1), (80, 1), (81, 1), (82, 3), (83, 1), (84, 1), (85, 1), (86, 1), (87, 1), (88, 2), (89, 1), (90, 1), (91, 1), (92, 1), (93, 1), (94, 1), (95, 1), (96, 4), (97, 1), (98, 1), (99, 4), (100, 1), (101, 1), (102, 1), (103, 1), (104, 1), (105, 2), (106, 1), (107, 1), (108, 1), (109, 2), (110, 1), (111, 1), (112, 2), (113, 1), (114, 1), (115, 1), (116, 1), (117, 1), (118, 2), (119, 1), (120, 1), (121, 1), (122, 2), (123, 1), (124, 3), (125, 1), (126, 1), (127, 3), (128, 1), (129, 3), (130, 1), (131, 2), (132, 1), (133, 5), (134, 3), (135, 4), (136, 1), (137, 1), (138, 1), (139, 1), (140, 3), (141, 1), (142, 1), (143, 1), (144, 1), (145, 1), (146, 1), (147, 1), (148, 2), (149, 2), (150, 2), (151, 1), (152, 1), (153, 1), (154, 1), (155, 1), (156, 1), (157, 1), (158, 1), (159, 1), (160, 5), (161, 1), (162, 4), (163, 2), (164, 1), (165, 1), (166, 2), (167, 1), (168, 1), (169, 1), (170, 1), (171, 1), (172, 1), (173, 1), (174, 1), (175, 8), (176, 3), (177, 1), (178, 1), (179, 1), (180, 1), (181, 2), (182, 1), (183, 2), (184, 3), (185, 2), (186, 1), (187, 1), (188, 1), (189, 1), (190, 1), (191, 1), (192, 3), (193, 2), (194, 1), (195, 1), (196, 1), (197, 1), (198, 1), (199, 1), (200, 1), (201, 1), (202, 11), (203, 1), (204, 1), (205, 1), (206, 2), (207, 1), (208, 1), (209, 1), (210, 2), (211, 1), (212, 1), (213, 6), (214, 3), (215, 2), (216, 1), (217, 1), (218, 2), (219, 2), (220, 2), (221, 12), (222, 2), (223, 2), (224, 1), (225, 1), (226, 1), (227, 1), (228, 1), (229, 1), (230, 1), (231, 1), (232, 2), (233, 1), (234, 1), (235, 1), (236, 1), (237, 3), (238, 1), (239, 1), (240, 1), (241, 1), (242, 1), (243, 1), (244, 1), (245, 1), (246, 2), (247, 4), (248, 1), (249, 2), (250, 1), (251, 3), (252, 1), (253, 1), (254, 2), (255, 1), (256, 1), (257, 2), (258, 1), (259, 1), (260, 1), (261, 1), (262, 8), (263, 1), (264, 3), (265, 2), (266, 1), (267, 2), (268, 2), (269, 1), (270, 3), (271, 1), (272, 1), (273, 1), (274, 1), (275, 1), (276, 1), (277, 2), (278, 1), (279, 1), (280, 2), (281, 2), (282, 1), (283, 1), (284, 1), (285, 1), (286, 1), (287, 1), (288, 1), (289, 1), (290, 1), (291, 1), (292, 2), (293, 1), (294, 1), (295, 2), (296, 1), (297, 1), (298, 1), (299, 1), (300, 2), (301, 1), (302, 1), (303, 1), (304, 1), (305, 1), (306, 1), (307, 1), (308, 1), (309, 1), (310, 2), (311, 5), (312, 1), (313, 1), (314, 1), (315, 1), (316, 1), (317, 3), (318, 9), (319, 4), (320, 2), (321, 1), (322, 1), (323, 1), (324, 1), (325, 4), (326, 1), (327, 1), (328, 1), (329, 1), (330, 1), (331, 1), (332, 1), (333, 1), (334, 3), (335, 1), (336, 1), (337, 1), (338, 1), (339, 1), (340, 2), (341, 1), (342, 1), (343, 1), (344, 8), (345, 1), (346, 1), (347, 3), (348, 1), (349, 2), (350, 1), (351, 13), (352, 1), (353, 5), (354, 4), (355, 1), (356, 1), (357, 1), (358, 2), (359, 1), (360, 1), (361, 8), (362, 1), (363, 1), (364, 1), (365, 1), (366, 1), (367, 1), (368, 1), (369, 1), (370, 4), (371, 3), (372, 1), (373, 1), (374, 5), (375, 1), (376, 2), (377, 1), (378, 1), (379, 1), (380, 1), (381, 1), (382, 1), (383, 1), (384, 1), (385, 2), (386, 1), (387, 2), (388, 1), (389, 1), (390, 2), (391, 1), (392, 3), (393, 1), (394, 4), (395, 1), (396, 1), (397, 1), (398, 1), (399, 2), (400, 1), (401, 2), (402, 1), (403, 1), (404, 1), (405, 1), (406, 1), (407, 1), (408, 1), (409, 1), (410, 1), (411, 1), (412, 7), (413, 1), (414, 1), (415, 3), (416, 1), (417, 2), (418, 1), (419, 1), (420, 1), (421, 1), (422, 2), (423, 1), (424, 1), (425, 5), (426, 1), (427, 1), (428, 1), (429, 2), (430, 4), (431, 3), (432, 2), (433, 2), (434, 1), (435, 1), (436, 1), (437, 2), (438, 4), (439, 4), (440, 1), (441, 2), (442, 1), (443, 3), (444, 1), (445, 1), (446, 1), (447, 1), (448, 5), (449, 1), (450, 2), (451, 1), (452, 1), (453, 1), (454, 1), (455, 1), (456, 1), (457, 4), (458, 1), (459, 1), (460, 2), (461, 2), (462, 1), (463, 1), (464, 1), (465, 1)]\n"
     ]
    }
   ],
   "source": [
    "print(bow_corpus[0])\n"
   ]
  },
  {
   "cell_type": "code",
   "execution_count": 381,
   "metadata": {},
   "outputs": [
    {
     "data": {
      "text/plain": [
       "['buy',\n",
       " 'link',\n",
       " 'earn',\n",
       " 'money',\n",
       " 'affiliate',\n",
       " 'partner',\n",
       " 'learn',\n",
       " 'love',\n",
       " 'pamper',\n",
       " 'visiting',\n",
       " 'local',\n",
       " 'salon',\n",
       " 'expensive',\n",
       " 'pricier',\n",
       " 'service',\n",
       " 'fit',\n",
       " 'budget.the',\n",
       " 'insider',\n",
       " 'review',\n",
       " 'team',\n",
       " 'contributed',\n",
       " 'favorite',\n",
       " 'athome',\n",
       " 'treatment',\n",
       " 'product',\n",
       " 'help',\n",
       " 'save',\n",
       " 'money',\n",
       " 'salon',\n",
       " 'grooming',\n",
       " 'services.solutions',\n",
       " 'diy',\n",
       " 'gel',\n",
       " 'nail',\n",
       " 'kit',\n",
       " 'athome',\n",
       " 'tanning',\n",
       " 'lotion',\n",
       " 'keep',\n",
       " 'feeling',\n",
       " 'pampered',\n",
       " 'keeping',\n",
       " 'money',\n",
       " 'least',\n",
       " 'pockets.whether',\n",
       " 'morning',\n",
       " 'journaling',\n",
       " 'session',\n",
       " 'evening',\n",
       " 'yoga',\n",
       " 'class',\n",
       " 'thing',\n",
       " 'allows',\n",
       " 'escape',\n",
       " 'life',\n",
       " 'regular',\n",
       " 'chaos',\n",
       " 'many',\n",
       " 'daily',\n",
       " 'ritual',\n",
       " 'becomes',\n",
       " 'near',\n",
       " 'habitual',\n",
       " 'others',\n",
       " 'occasional',\n",
       " 'indulgence',\n",
       " 'eliminates',\n",
       " 'stress',\n",
       " 'almost',\n",
       " 'instantaneously.my',\n",
       " 'personal',\n",
       " 'solution',\n",
       " 'life',\n",
       " 'everyday',\n",
       " 'stress',\n",
       " 'trip',\n",
       " 'salon',\n",
       " 'followed',\n",
       " 'muchneeded',\n",
       " 'manicure',\n",
       " 'tan',\n",
       " 'wax',\n",
       " 'hair',\n",
       " 'treatment',\n",
       " 'although',\n",
       " 'service',\n",
       " 'certainly',\n",
       " 'job',\n",
       " 'helping',\n",
       " 'relax',\n",
       " 'find',\n",
       " 'passing',\n",
       " 'regular',\n",
       " 'visit',\n",
       " 'everincreasing',\n",
       " 'prices.im',\n",
       " 'diy',\n",
       " 'kind',\n",
       " 'gal',\n",
       " 'ive',\n",
       " 'meticulously',\n",
       " 'searched',\n",
       " 'way',\n",
       " 'save',\n",
       " 'money',\n",
       " 'favorite',\n",
       " 'service',\n",
       " 'mimicking',\n",
       " 'comfort',\n",
       " 'apartment',\n",
       " 'figured',\n",
       " 'wasnt',\n",
       " 'trying',\n",
       " 'save',\n",
       " 'money',\n",
       " 'way',\n",
       " 'went',\n",
       " 'colleague',\n",
       " 'ask',\n",
       " 'goto',\n",
       " 'diy',\n",
       " 'product',\n",
       " 'helped',\n",
       " 'save',\n",
       " 'money',\n",
       " 'salon',\n",
       " 'service',\n",
       " 'turn',\n",
       " 'im',\n",
       " 'trying',\n",
       " 'stick',\n",
       " 'budget',\n",
       " 'plenty',\n",
       " 'people',\n",
       " 'tip',\n",
       " 'trick',\n",
       " 'avoiding',\n",
       " 'pricey',\n",
       " 'treatments.below',\n",
       " 'ive',\n",
       " 'shared',\n",
       " 'product',\n",
       " 'staff',\n",
       " 'member',\n",
       " 'swear',\n",
       " 'getting',\n",
       " 'salonlike',\n",
       " 'service',\n",
       " 'home',\n",
       " 'budget',\n",
       " 'self',\n",
       " 'tan',\n",
       " 'bronzing',\n",
       " 'mousse',\n",
       " 'st',\n",
       " 'tropez',\n",
       " 'self',\n",
       " 'tan',\n",
       " 'express',\n",
       " 'advanced',\n",
       " 'bronzing',\n",
       " 'mousse',\n",
       " 'available',\n",
       " 'amazonthis',\n",
       " 'summer',\n",
       " 'guilty',\n",
       " 'getting',\n",
       " 'weekly',\n",
       " 'spray',\n",
       " 'tan',\n",
       " 'membership',\n",
       " 'local',\n",
       " 'salon',\n",
       " 'little',\n",
       " 'le',\n",
       " 'expensive',\n",
       " 'still',\n",
       " 'ended',\n",
       " 'per',\n",
       " 'tanthe',\n",
       " 'instruction',\n",
       " 'st',\n",
       " 'tropez',\n",
       " 'express',\n",
       " 'bronzing',\n",
       " 'mousse',\n",
       " 'meant',\n",
       " 'worn',\n",
       " 'hour',\n",
       " 'find',\n",
       " 'leaving',\n",
       " 'overnight',\n",
       " 'give',\n",
       " 'exact',\n",
       " 'result',\n",
       " 'spray',\n",
       " 'tan',\n",
       " 'put',\n",
       " 'face',\n",
       " 'careful',\n",
       " 'wash',\n",
       " 'hour',\n",
       " 'mark',\n",
       " 'since',\n",
       " 'doesnt',\n",
       " 'quite',\n",
       " 'long',\n",
       " 'professional',\n",
       " 'tan',\n",
       " 'apply',\n",
       " 'every',\n",
       " 'still',\n",
       " 'entire',\n",
       " 'bottle',\n",
       " 'cost',\n",
       " 'around',\n",
       " 'amount',\n",
       " 'professional',\n",
       " 'tan',\n",
       " 'grace',\n",
       " 'high',\n",
       " 'insider',\n",
       " 'review',\n",
       " 'senior',\n",
       " 'analyst',\n",
       " 'allover',\n",
       " 'body',\n",
       " 'wax',\n",
       " 'kit',\n",
       " 'sally',\n",
       " 'hansen',\n",
       " 'extra',\n",
       " 'strength',\n",
       " 'allover',\n",
       " 'body',\n",
       " 'wax',\n",
       " 'kit',\n",
       " 'originally',\n",
       " 'available',\n",
       " 'amazonim',\n",
       " 'lying',\n",
       " 'saved',\n",
       " 'ton',\n",
       " 'money',\n",
       " 'avoiding',\n",
       " 'waxing',\n",
       " 'service',\n",
       " 'kit',\n",
       " 'salon',\n",
       " 'wax',\n",
       " 'cost',\n",
       " 'anywhere',\n",
       " 'around',\n",
       " 'depending',\n",
       " 'service',\n",
       " 'almost',\n",
       " 'salon',\n",
       " 'fitting',\n",
       " 'general',\n",
       " 'price',\n",
       " 'range',\n",
       " 'though',\n",
       " 'paying',\n",
       " 'brow',\n",
       " 'underarms',\n",
       " 'leg',\n",
       " 'done',\n",
       " 'got',\n",
       " 'point',\n",
       " 'regular',\n",
       " 'trip',\n",
       " 'became',\n",
       " 'luxury',\n",
       " 'couldnt',\n",
       " 'afford.knowing',\n",
       " 'crafty',\n",
       " 'nature',\n",
       " 'wondered',\n",
       " 'found',\n",
       " 'kit',\n",
       " 'local',\n",
       " 'cv',\n",
       " 'hesistant',\n",
       " 'price',\n",
       " 'entire',\n",
       " 'kit',\n",
       " 'equaled',\n",
       " 'around',\n",
       " 'half',\n",
       " 'price',\n",
       " 'cheapest',\n",
       " 'salon',\n",
       " 'wax',\n",
       " 'turned',\n",
       " 'worked',\n",
       " 'worked',\n",
       " 'better',\n",
       " 'ever',\n",
       " 'expected',\n",
       " 'following',\n",
       " 'simple',\n",
       " 'fourstep',\n",
       " 'process',\n",
       " 'able',\n",
       " 'achieve',\n",
       " 'look',\n",
       " 'obtained',\n",
       " 'salon',\n",
       " 'fraction',\n",
       " 'price',\n",
       " 'megan',\n",
       " 'foster',\n",
       " 'former',\n",
       " 'insider',\n",
       " 'review',\n",
       " 'editorial',\n",
       " 'intern',\n",
       " 'sleek',\n",
       " 'electric',\n",
       " 'razor',\n",
       " 'bevel',\n",
       " 'trimmer',\n",
       " 'square',\n",
       " 'blade',\n",
       " 'available',\n",
       " 'bevelif',\n",
       " 'afford',\n",
       " 'haircut',\n",
       " 'since',\n",
       " 'refuse',\n",
       " 'spend',\n",
       " 'haircut',\n",
       " 'ive',\n",
       " 'learned',\n",
       " 'give',\n",
       " 'trim',\n",
       " 'visit',\n",
       " 'barbershop',\n",
       " 'bevel',\n",
       " 'trimmer',\n",
       " 'favorite',\n",
       " 'tool',\n",
       " 'use',\n",
       " 'designed',\n",
       " 'used',\n",
       " 'everyone',\n",
       " 'athome',\n",
       " 'groomers',\n",
       " 'professional',\n",
       " 'barber',\n",
       " 'adjustable',\n",
       " 'blade',\n",
       " 'shape',\n",
       " 'allows',\n",
       " 'total',\n",
       " 'control',\n",
       " 'help',\n",
       " 'shave',\n",
       " 'without',\n",
       " 'irritation',\n",
       " 'achieve',\n",
       " 'sharp',\n",
       " 'line',\n",
       " 'hairline',\n",
       " 'mustache',\n",
       " 'beard',\n",
       " 'kind',\n",
       " 'expensive',\n",
       " 'save',\n",
       " 'paying',\n",
       " 'frequent',\n",
       " 'haircut',\n",
       " 'mention',\n",
       " 'effort',\n",
       " 'involved',\n",
       " 'going',\n",
       " 'barbershop',\n",
       " 'itll',\n",
       " 'pay',\n",
       " 'amir',\n",
       " 'ismael',\n",
       " 'insider',\n",
       " 'review',\n",
       " 'reporter',\n",
       " 'healing',\n",
       " 'clay',\n",
       " 'mask',\n",
       " 'aztec',\n",
       " 'secret',\n",
       " 'indian',\n",
       " 'healing',\n",
       " 'clay',\n",
       " 'facial',\n",
       " 'body',\n",
       " 'mask',\n",
       " 'available',\n",
       " 'amazoni',\n",
       " 'used',\n",
       " 'facial',\n",
       " 'stopped',\n",
       " 'ever',\n",
       " 'since',\n",
       " 'using',\n",
       " 'aztec',\n",
       " 'clay',\n",
       " 'mask',\n",
       " 'actually',\n",
       " 'read',\n",
       " 'insider',\n",
       " 'article',\n",
       " 'ordered',\n",
       " 'immediately',\n",
       " 'mix',\n",
       " 'powder',\n",
       " 'apple',\n",
       " 'cider',\n",
       " 'vinegar',\n",
       " 'face',\n",
       " 'glow',\n",
       " 'chelsey',\n",
       " 'hoffman',\n",
       " 'insider',\n",
       " 'inc',\n",
       " 'content',\n",
       " 'producer',\n",
       " 'jade',\n",
       " 'roller',\n",
       " 'kit',\n",
       " 'edive',\n",
       " 'holding',\n",
       " 'chi',\n",
       " 'jade',\n",
       " 'rolling',\n",
       " 'kit',\n",
       " 'available',\n",
       " 'amazonthese',\n",
       " 'jade',\n",
       " 'roller',\n",
       " 'make',\n",
       " 'great',\n",
       " 'diy',\n",
       " 'facial',\n",
       " 'home',\n",
       " 'recommend',\n",
       " 'popping',\n",
       " 'freezer',\n",
       " 'using',\n",
       " 'cold',\n",
       " 'roller',\n",
       " 'massage',\n",
       " 'contour',\n",
       " 'face',\n",
       " 'help',\n",
       " 'drain',\n",
       " 'fluid',\n",
       " 'buildup',\n",
       " 'depuffing',\n",
       " 'firming',\n",
       " 'skin',\n",
       " 'use',\n",
       " 'skincare',\n",
       " 'product',\n",
       " 'better',\n",
       " 'work',\n",
       " 'product',\n",
       " 'skin',\n",
       " 'kyle',\n",
       " 'kerchaert',\n",
       " 'insider',\n",
       " 'video',\n",
       " 'producer',\n",
       " 'gel',\n",
       " 'manicure',\n",
       " 'starter',\n",
       " 'kit',\n",
       " 'sensationail',\n",
       " 'gel',\n",
       " 'polish',\n",
       " 'starter',\n",
       " 'kit',\n",
       " 'available',\n",
       " 'amazonive',\n",
       " 'getting',\n",
       " 'nail',\n",
       " 'regularly',\n",
       " 'done',\n",
       " 'since',\n",
       " 'yearsold',\n",
       " 'adding',\n",
       " 'much',\n",
       " 'spent',\n",
       " 'floored',\n",
       " 'found',\n",
       " 'gel',\n",
       " 'kit',\n",
       " 'internet',\n",
       " 'realized',\n",
       " 'price',\n",
       " 'le',\n",
       " 'cost',\n",
       " 'single',\n",
       " 'manicure',\n",
       " 'salon',\n",
       " 'talking',\n",
       " 'purchase',\n",
       " 'tried',\n",
       " 'received',\n",
       " 'multiple',\n",
       " 'compliment',\n",
       " 'nail',\n",
       " 'mention',\n",
       " 'inquiry',\n",
       " 'got',\n",
       " 'done',\n",
       " 'still',\n",
       " 'using',\n",
       " 'exact',\n",
       " 'kit',\n",
       " 'exact',\n",
       " 'supply',\n",
       " 'came',\n",
       " 'original',\n",
       " 'package',\n",
       " 'thing',\n",
       " 'ive',\n",
       " 'replace',\n",
       " 'gel',\n",
       " 'cleanser',\n",
       " 'easily',\n",
       " 'substituted',\n",
       " 'isopropyl',\n",
       " 'alcohol',\n",
       " 'still',\n",
       " 'treat',\n",
       " 'professional',\n",
       " 'manicure',\n",
       " 'every',\n",
       " 'alternative',\n",
       " 'sure',\n",
       " 'saved',\n",
       " 'money',\n",
       " 'needed',\n",
       " 'make',\n",
       " 'salon',\n",
       " 'visit',\n",
       " 'megan',\n",
       " 'foster',\n",
       " 'former',\n",
       " 'insider',\n",
       " 'review',\n",
       " 'editorial',\n",
       " 'intern',\n",
       " 'rechargeable',\n",
       " 'trimmer',\n",
       " 'shaver',\n",
       " 'philip',\n",
       " 'norelco',\n",
       " 'oneblade',\n",
       " 'face',\n",
       " 'body',\n",
       " 'trimmer',\n",
       " 'shaver',\n",
       " 'available',\n",
       " 'amazonanother',\n",
       " 'favorite',\n",
       " 'tool',\n",
       " 'staying',\n",
       " 'fresh',\n",
       " 'trip',\n",
       " 'barbershop',\n",
       " 'philip',\n",
       " 'norelco',\n",
       " 'oneblade',\n",
       " 'since',\n",
       " 'prefer',\n",
       " 'electric',\n",
       " 'shaver',\n",
       " 'multiblade',\n",
       " 'razor',\n",
       " 'sometimes',\n",
       " 'hard',\n",
       " 'achieve',\n",
       " 'super',\n",
       " 'smooth',\n",
       " 'shave',\n",
       " 'job',\n",
       " 'done',\n",
       " 'used',\n",
       " 'wet',\n",
       " 'dry',\n",
       " 'work',\n",
       " 'style',\n",
       " 'shaving',\n",
       " 'although',\n",
       " 'blade',\n",
       " 'load',\n",
       " 'functionality',\n",
       " 'shave',\n",
       " 'edge',\n",
       " 'trim',\n",
       " 'hair',\n",
       " 'length',\n",
       " 'come',\n",
       " 'several',\n",
       " 'guard',\n",
       " 'keeping',\n",
       " 'stubble',\n",
       " 'preferred',\n",
       " 'style',\n",
       " 'many',\n",
       " 'ive',\n",
       " 'used',\n",
       " 'ive',\n",
       " 'never',\n",
       " 'cut',\n",
       " 'face',\n",
       " 'probably',\n",
       " 'hard',\n",
       " 'youve',\n",
       " 'getting',\n",
       " 'straight',\n",
       " 'razor',\n",
       " 'shave',\n",
       " 'barbershop',\n",
       " 'using',\n",
       " 'standard',\n",
       " 'multiblade',\n",
       " 'razor',\n",
       " 'home',\n",
       " 'amir',\n",
       " 'ismael',\n",
       " 'insider',\n",
       " 'review',\n",
       " 'reporter',\n",
       " 'bottle',\n",
       " 'hairrepairing',\n",
       " 'treatment',\n",
       " 'olaplex',\n",
       " 'hair',\n",
       " 'perfector',\n",
       " 'repairing',\n",
       " 'treatment',\n",
       " 'available',\n",
       " 'amazonthis',\n",
       " 'step',\n",
       " 'threepart',\n",
       " 'hair',\n",
       " 'repair',\n",
       " 'system',\n",
       " 'loved',\n",
       " 'pretty',\n",
       " 'much',\n",
       " 'every',\n",
       " 'hair',\n",
       " 'care',\n",
       " 'expert',\n",
       " 'step',\n",
       " 'usually',\n",
       " 'available',\n",
       " 'salon',\n",
       " 'license',\n",
       " 'step',\n",
       " 'multiple',\n",
       " 'location',\n",
       " 'including',\n",
       " 'amazon',\n",
       " 'product',\n",
       " 'saved',\n",
       " 'hair',\n",
       " 'decided',\n",
       " 'dye',\n",
       " 'whole',\n",
       " 'head',\n",
       " 'purple',\n",
       " 'bottle',\n",
       " 'hair',\n",
       " 'dye',\n",
       " 'bought',\n",
       " 'online',\n",
       " 'needle',\n",
       " 'left',\n",
       " 'pretty',\n",
       " 'damaged',\n",
       " 'hair',\n",
       " 'color',\n",
       " 'washing',\n",
       " 'drastically',\n",
       " 'shampooed',\n",
       " 'olaplex',\n",
       " 'restored',\n",
       " 'color',\n",
       " 'helped',\n",
       " 'seal',\n",
       " 'damaged',\n",
       " 'end',\n",
       " 'saved',\n",
       " 'drop',\n",
       " 'emergency',\n",
       " 'colorcorrection',\n",
       " 'deep',\n",
       " 'conditioning',\n",
       " 'treatment',\n",
       " 'salon',\n",
       " 'kyle',\n",
       " 'kerchaert',\n",
       " 'insider',\n",
       " 'video',\n",
       " 'producer',\n",
       " 'subscribe',\n",
       " 'newsletter',\n",
       " 'purchase',\n",
       " 'syndication',\n",
       " 'right',\n",
       " 'story',\n",
       " 'disclosure',\n",
       " 'post',\n",
       " 'brought',\n",
       " 'insider',\n",
       " 'review',\n",
       " 'team',\n",
       " 'highlight',\n",
       " 'product',\n",
       " 'service',\n",
       " 'might',\n",
       " 'find',\n",
       " 'interesting',\n",
       " 'buy',\n",
       " 'small',\n",
       " 'share',\n",
       " 'revenue',\n",
       " 'sale',\n",
       " 'commerce',\n",
       " 'partner',\n",
       " 'frequently',\n",
       " 'receive',\n",
       " 'product',\n",
       " 'free',\n",
       " 'charge',\n",
       " 'manufacturer',\n",
       " 'test',\n",
       " 'doe',\n",
       " 'drive',\n",
       " 'decision',\n",
       " 'whether',\n",
       " 'product',\n",
       " 'featured',\n",
       " 'recommended',\n",
       " 'operate',\n",
       " 'independently',\n",
       " 'advertising',\n",
       " 'sale',\n",
       " 'team',\n",
       " 'welcome',\n",
       " 'feedback',\n",
       " 'email',\n",
       " 'review',\n",
       " 'window.taboola',\n",
       " 'window.taboola',\n",
       " 'window.taboola',\n",
       " 'window.taboola']"
      ]
     },
     "execution_count": 381,
     "metadata": {},
     "output_type": "execute_result"
    }
   ],
   "source": [
    "articles[0]"
   ]
  },
  {
   "attachments": {},
   "cell_type": "markdown",
   "metadata": {},
   "source": [
    "## 5.3 TF-IDF"
   ]
  },
  {
   "cell_type": "code",
   "execution_count": 382,
   "metadata": {},
   "outputs": [],
   "source": [
    "tfidf = models.TfidfModel(bow_corpus)\n",
    "corpus_tfidf = tfidf[bow_corpus]"
   ]
  },
  {
   "cell_type": "code",
   "execution_count": 383,
   "metadata": {},
   "outputs": [
    {
     "name": "stdout",
     "output_type": "stream",
     "text": [
      "[(0, 0.012312335097263724),\n",
      " (1, 0.06319575147942515),\n",
      " (2, 0.013111498199995205),\n",
      " (3, 0.01157338991260226),\n",
      " (4, 0.03350681516205777),\n",
      " (5, 0.01829776086123431),\n",
      " (6, 0.020371124351760937),\n",
      " (7, 0.021065250493141716),\n",
      " (8, 0.01851337895016986),\n",
      " (9, 0.03350681516205777),\n",
      " (10, 0.022337876774705185),\n",
      " (11, 0.06701363032411554),\n",
      " (12, 0.03504000294055392),\n",
      " (13, 0.025937645927948068),\n",
      " (14, 0.01809132084184943),\n",
      " (15, 0.025937645927948068),\n",
      " (16, 0.01809132084184943),\n",
      " (17, 0.03350681516205777),\n",
      " (18, 0.03350681516205777),\n",
      " (19, 0.03350681516205777),\n",
      " (20, 0.03350681516205777),\n",
      " (21, 0.03350681516205777),\n",
      " (22, 0.06701363032411554),\n",
      " (23, 0.0602892593754835),\n",
      " (24, 0.013258497580105146),\n",
      " (25, 0.011072883598823085),\n",
      " (26, 0.020371124351760937),\n",
      " (27, 0.018739029324605836),\n",
      " (28, 0.01734359627323406),\n",
      " (29, 0.020705781747550084),\n",
      " (30, 0.022641142872099725),\n",
      " (31, 0.013981410798918034),\n",
      " (32, 0.016401821496083355),\n",
      " (33, 0.10052044548617332),\n",
      " (34, 0.11865996947618629),\n",
      " (35, 0.04290701263233091),\n",
      " (36, 0.06701363032411554),\n",
      " (37, 0.03350681516205777),\n",
      " (38, 0.1340272606482311),\n",
      " (39, 0.026782444213425727),\n",
      " (40, 0.013646753403128887),\n",
      " (41, 0.020371124351760937),\n",
      " (42, 0.019943033683691217),\n",
      " (43, 0.06701363032411554),\n",
      " (44, 0.03350681516205777),\n",
      " (45, 0.09043388906322526),\n",
      " (46, 0.054913112603629084),\n",
      " (47, 0.07026077621732911),\n",
      " (48, 0.016261214308829538),\n",
      " (49, 0.10052044548617332),\n",
      " (50, 0.013728278150907271),\n",
      " (51, 0.028177877264797504),\n",
      " (52, 0.03147262519176288),\n",
      " (53, 0.03350681516205777),\n",
      " (54, 0.025700062249021206),\n",
      " (55, 0.023041900786209425),\n",
      " (56, 0.010449011077104503),\n",
      " (57, 0.013410091427345562),\n",
      " (58, 0.021065250493141716),\n",
      " (59, 0.016546626527225616),\n",
      " (60, 0.019486753893221208),\n",
      " (61, 0.013566576233720151),\n",
      " (62, 0.03014462968774175),\n",
      " (63, 0.03350681516205777),\n",
      " (64, 0.03350681516205777),\n",
      " (65, 0.03014462968774175),\n",
      " (66, 0.01669588779047766),\n",
      " (67, 0.07444707537144445),\n",
      " (68, 0.03350681516205777),\n",
      " (69, 0.01829776086123431),\n",
      " (70, 0.01770306501882569),\n",
      " (71, 0.03578661867196928),\n",
      " (72, 0.03350681516205777),\n",
      " (73, 0.007524113263055704),\n",
      " (74, 0.021875564424485884),\n",
      " (75, 0.018739029324605836),\n",
      " (76, 0.03350681516205777),\n",
      " (77, 0.03350681516205777),\n",
      " (78, 0.01734359627323406),\n",
      " (79, 0.03350681516205777),\n",
      " (80, 0.014340879544509667),\n",
      " (81, 0.011366949893217385),\n",
      " (82, 0.03211987811139989),\n",
      " (83, 0.017008938877444913),\n",
      " (84, 0.03350681516205777),\n",
      " (85, 0.010706626037133293),\n",
      " (86, 0.026782444213425727),\n",
      " (87, 0.013811196551420527),\n",
      " (88, 0.04213050098628343),\n",
      " (89, 0.014729135367533407),\n",
      " (90, 0.01004790595302954),\n",
      " (91, 0.01526270662400538),\n",
      " (92, 0.021453506316165456),\n",
      " (93, 0.03350681516205777),\n",
      " (94, 0.016849888290364986),\n",
      " (95, 0.020371124351760937),\n",
      " (96, 0.1340272606482311),\n",
      " (97, 0.009859142511568351),\n",
      " (98, 0.012131546159922136),\n",
      " (99, 0.0505179250107895),\n",
      " (100, 0.025700062249021206),\n",
      " (101, 0.026782444213425727),\n",
      " (102, 0.015151193475853836),\n",
      " (103, 0.014068811511449317),\n",
      " (104, 0.020371124351760937),\n",
      " (105, 0.06701363032411554),\n",
      " (106, 0.019486753893221208),\n",
      " (107, 0.019764006970399376),\n",
      " (108, 0.01717338202573655),\n",
      " (109, 0.04467575354941037),\n",
      " (110, 0.03350681516205777),\n",
      " (111, 0.010284567928812865),\n",
      " (112, 0.0343467640514731),\n",
      " (113, 0.03350681516205777),\n",
      " (114, 0.01789330933598464),\n",
      " (115, 0.014935575386918285),\n",
      " (116, 0.007904748333042387),\n",
      " (117, 0.013811196551420527),\n",
      " (118, 0.027622393102841054),\n",
      " (119, 0.03350681516205777),\n",
      " (120, 0.020705781747550084),\n",
      " (121, 0.016401821496083355),\n",
      " (122, 0.025000248063556635),\n",
      " (123, 0.03350681516205777),\n",
      " (124, 0.031222124095863512),\n",
      " (125, 0.022848939367537232),\n",
      " (126, 0.014340879544509667),\n",
      " (127, 0.07026077621732911),\n",
      " (128, 0.008980947239490073),\n",
      " (129, 0.050549664871094954),\n",
      " (130, 0.014340879544509667),\n",
      " (131, 0.04375112884897177),\n",
      " (132, 0.019224494980410366),\n",
      " (133, 0.058400004900923196),\n",
      " (134, 0.0722039016655983),\n",
      " (135, 0.07590276520155663),\n",
      " (136, 0.019486753893221208),\n",
      " (137, 0.024067967221866104),\n",
      " (138, 0.016261214308829538),\n",
      " (139, 0.022337876774705185),\n",
      " (140, 0.03238689156493474),\n",
      " (141, 0.03014462968774175),\n",
      " (142, 0.01809132084184943),\n",
      " (143, 0.024067967221866104),\n",
      " (144, 0.03014462968774175),\n",
      " (145, 0.024815691790481483),\n",
      " (146, 0.015613505826073135),\n",
      " (147, 0.010795630521644914),\n",
      " (148, 0.018800394940546274),\n",
      " (149, 0.049631383580962966),\n",
      " (150, 0.020898022154209005),\n",
      " (151, 0.03350681516205777),\n",
      " (152, 0.022337876774705185),\n",
      " (153, 0.012131546159922136),\n",
      " (154, 0.03350681516205777),\n",
      " (155, 0.021065250493141716),\n",
      " (156, 0.019224494980410366),\n",
      " (157, 0.015493731634238159),\n",
      " (158, 0.03350681516205777),\n",
      " (159, 0.03014462968774175),\n",
      " (160, 0.16753407581028887),\n",
      " (161, 0.01131668407230443),\n",
      " (162, 0.04715603200615125),\n",
      " (163, 0.02168150556959764),\n",
      " (164, 0.028177877264797504),\n",
      " (165, 0.007954498597988408),\n",
      " (166, 0.021591261043289827),\n",
      " (167, 0.024815691790481483),\n",
      " (168, 0.026782444213425727),\n",
      " (169, 0.011957254057362813),\n",
      " (170, 0.03350681516205777),\n",
      " (171, 0.03014462968774175),\n",
      " (172, 0.01752000147027696),\n",
      " (173, 0.018975691300389157),\n",
      " (174, 0.03014462968774175),\n",
      " (175, 0.15379595984328293),\n",
      " (176, 0.10052044548617332),\n",
      " (177, 0.03350681516205777),\n",
      " (178, 0.03350681516205777),\n",
      " (179, 0.011168938387352592),\n",
      " (180, 0.03014462968774175),\n",
      " (181, 0.024873432968588426),\n",
      " (182, 0.010449011077104503),\n",
      " (183, 0.0602892593754835),\n",
      " (184, 0.025034515389848425),\n",
      " (185, 0.02450264070351423),\n",
      " (186, 0.01829776086123431),\n",
      " (187, 0.03350681516205777),\n",
      " (188, 0.00926729577838135),\n",
      " (189, 0.019224494980410366),\n",
      " (190, 0.03014462968774175),\n",
      " (191, 0.01237412712156542),\n",
      " (192, 0.02741381567238688),\n",
      " (193, 0.023468396569839768),\n",
      " (194, 0.011734198284919884),\n",
      " (195, 0.012968822963974034),\n",
      " (196, 0.011626402552950044),\n",
      " (197, 0.007149958055515082),\n",
      " (198, 0.023420258739109707),\n",
      " (199, 0.019764006970399376),\n",
      " (200, 0.03350681516205777),\n",
      " (201, 0.019764006970399376),\n",
      " (202, 0.19900452926034376),\n",
      " (203, 0.03350681516205777),\n",
      " (204, 0.024067967221866104),\n",
      " (205, 0.01829776086123431),\n",
      " (206, 0.053564888426851455),\n",
      " (207, 0.01752000147027696),\n",
      " (208, 0.015151193475853836),\n",
      " (209, 0.03350681516205777),\n",
      " (210, 0.0602892593754835),\n",
      " (211, 0.03350681516205777),\n",
      " (212, 0.024815691790481483),\n",
      " (213, 0.0896134523215097),\n",
      " (214, 0.09043388906322526),\n",
      " (215, 0.021066743217668143),\n",
      " (216, 0.03350681516205777),\n",
      " (217, 0.010366092676591249),\n",
      " (218, 0.034017877754889826),\n",
      " (219, 0.06701363032411554),\n",
      " (220, 0.02525896250539475),\n",
      " (221, 0.27418727241044677),\n",
      " (222, 0.05140012449804241),\n",
      " (223, 0.019644511157187128),\n",
      " (224, 0.01752000147027696),\n",
      " (225, 0.016124568418905184),\n",
      " (226, 0.010619225324602011),\n",
      " (227, 0.013811196551420527),\n",
      " (228, 0.009971516841845609),\n",
      " (229, 0.021065250493141716),\n",
      " (230, 0.026782444213425727),\n",
      " (231, 0.021875564424485884),\n",
      " (232, 0.01957129408043739),\n",
      " (233, 0.010978694070193641),\n",
      " (234, 0.01789330933598464),\n",
      " (235, 0.010009561023617568),\n",
      " (236, 0.022337876774705185),\n",
      " (237, 0.039334494599985614),\n",
      " (238, 0.018739029324605836),\n",
      " (239, 0.008623685824225652),\n",
      " (240, 0.009896312105789121),\n",
      " (241, 0.03350681516205777),\n",
      " (242, 0.014068811511449317),\n",
      " (243, 0.020705781747550084),\n",
      " (244, 0.020058073264793683),\n",
      " (245, 0.024067967221866104),\n",
      " (246, 0.013925947111783375),\n",
      " (247, 0.1340272606482311),\n",
      " (248, 0.018975691300389157),\n",
      " (249, 0.014470867082928192),\n",
      " (250, 0.012968822963974034),\n",
      " (251, 0.06436051894849637),\n",
      " (252, 0.03350681516205777),\n",
      " (253, 0.01537684385028981),\n",
      " (254, 0.04813593444373221),\n",
      " (255, 0.010164793736977889),\n",
      " (256, 0.022337876774705185),\n",
      " (257, 0.040116146529587365),\n",
      " (258, 0.03014462968774175),\n",
      " (259, 0.009859142511568351),\n",
      " (260, 0.03350681516205777),\n",
      " (261, 0.018975691300389157),\n",
      " (262, 0.08426697287067257),\n",
      " (263, 0.013811196551420527),\n",
      " (264, 0.10052044548617332),\n",
      " (265, 0.01518648848567695),\n",
      " (266, 0.028177877264797504),\n",
      " (267, 0.06701363032411554),\n",
      " (268, 0.03280364299216671),\n",
      " (269, 0.03350681516205777),\n",
      " (270, 0.09043388906322526),\n",
      " (271, 0.018975691300389157),\n",
      " (272, 0.011957254057362813),\n",
      " (273, 0.013566576233720151),\n",
      " (274, 0.025700062249021206),\n",
      " (275, 0.011025560215555924),\n",
      " (276, 0.021875564424485884),\n",
      " (277, 0.06701363032411554),\n",
      " (278, 0.022848939367537232),\n",
      " (279, 0.03350681516205777),\n",
      " (280, 0.06701363032411554),\n",
      " (281, 0.06701363032411554),\n",
      " (282, 0.013410091427345562),\n",
      " (283, 0.019224494980410366),\n",
      " (284, 0.01851337895016986),\n",
      " (285, 0.015042186454500664),\n",
      " (286, 0.019764006970399376),\n",
      " (287, 0.011025560215555924),\n",
      " (288, 0.01829776086123431),\n",
      " (289, 0.019486753893221208),\n",
      " (290, 0.03350681516205777),\n",
      " (291, 0.03350681516205777),\n",
      " (292, 0.025128742877448738),\n",
      " (293, 0.01851337895016986),\n",
      " (294, 0.012629481252697375),\n",
      " (295, 0.034017877754889826),\n",
      " (296, 0.005526949403125064),\n",
      " (297, 0.01049100794819774),\n",
      " (298, 0.03350681516205777),\n",
      " (299, 0.015042186454500664),\n",
      " (300, 0.037951382600778315),\n",
      " (301, 0.01809132084184943),\n",
      " (302, 0.03350681516205777),\n",
      " (303, 0.00859506858304679),\n",
      " (304, 0.024067967221866104),\n",
      " (305, 0.03014462968774175),\n",
      " (306, 0.013646753403128887),\n",
      " (307, 0.025700062249021206),\n",
      " (308, 0.021875564424485884),\n",
      " (309, 0.020705781747550084),\n",
      " (310, 0.03147262519176288),\n",
      " (311, 0.04521567688664208),\n",
      " (312, 0.03350681516205777),\n",
      " (313, 0.028177877264797504),\n",
      " (314, 0.03350681516205777),\n",
      " (315, 0.013333702316161633),\n",
      " (316, 0.012191063573016688),\n",
      " (317, 0.04684051747821941),\n",
      " (318, 0.10761528651626531),\n",
      " (319, 0.06739955316145994),\n",
      " (320, 0.028496968423375502),\n",
      " (321, 0.028177877264797504),\n",
      " (322, 0.009234631625920394),\n",
      " (323, 0.01851337895016986),\n",
      " (324, 0.013566576233720151),\n",
      " (325, 0.120578518750967),\n",
      " (326, 0.012251320351757114),\n",
      " (327, 0.020371124351760937),\n",
      " (328, 0.016124568418905184),\n",
      " (329, 0.012762382944589161),\n",
      " (330, 0.03350681516205777),\n",
      " (331, 0.022337876774705185),\n",
      " (332, 0.019764006970399376),\n",
      " (333, 0.023420258739109707),\n",
      " (334, 0.04878364292648861),\n",
      " (335, 0.019224494980410366),\n",
      " (336, 0.028177877264797504),\n",
      " (337, 0.020058073264793683),\n",
      " (338, 0.03014462968774175),\n",
      " (339, 0.01734359627323406),\n",
      " (340, 0.02651699516021029),\n",
      " (341, 0.024815691790481483),\n",
      " (342, 0.010795630521644914),\n",
      " (343, 0.01157338991260226),\n",
      " (344, 0.11398787369350201),\n",
      " (345, 0.00800476441890136),\n",
      " (346, 0.024815691790481483),\n",
      " (347, 0.10052044548617332),\n",
      " (348, 0.020371124351760937),\n",
      " (349, 0.019792624211578243),\n",
      " (350, 0.028177877264797504),\n",
      " (351, 0.3481717747745344),\n",
      " (352, 0.03350681516205777),\n",
      " (353, 0.08504469438722456),\n",
      " (354, 0.08935150709882074),\n",
      " (355, 0.024067967221866104),\n",
      " (356, 0.03014462968774175),\n",
      " (357, 0.019764006970399376),\n",
      " (358, 0.05140012449804241),\n",
      " (359, 0.01121768862996534),\n",
      " (360, 0.03350681516205777),\n",
      " (361, 0.0741383662270508),\n",
      " (362, 0.03350681516205777),\n",
      " (363, 0.01573631259588144),\n",
      " (364, 0.010009561023617568),\n",
      " (365, 0.03350681516205777),\n",
      " (366, 0.01809132084184943),\n",
      " (367, 0.00845446139579297),\n",
      " (368, 0.016849888290364986),\n",
      " (369, 0.019224494980410366),\n",
      " (370, 0.1340272606482311),\n",
      " (371, 0.10052044548617332),\n",
      " (372, 0.03014462968774175),\n",
      " (373, 0.01851337895016986),\n",
      " (374, 0.029280980961591225),\n",
      " (375, 0.014935575386918285),\n",
      " (376, 0.04141156349510017),\n",
      " (377, 0.03350681516205777),\n",
      " (378, 0.026782444213425727),\n",
      " (379, 0.012014658375973786),\n",
      " (380, 0.024067967221866104),\n",
      " (381, 0.01717338202573655),\n",
      " (382, 0.015493731634238159),\n",
      " (383, 0.016546626527225616),\n",
      " (384, 0.013981410798918034),\n",
      " (385, 0.0602892593754835),\n",
      " (386, 0.01809132084184943),\n",
      " (387, 0.03844898996082073),\n",
      " (388, 0.01443506907313911),\n",
      " (389, 0.01573631259588144),\n",
      " (390, 0.045697878735074464),\n",
      " (391, 0.020058073264793683),\n",
      " (392, 0.03731014945288264),\n",
      " (393, 0.020705781747550084),\n",
      " (394, 0.028263850956735285),\n",
      " (395, 0.016849888290364986),\n",
      " (396, 0.010204390759404125),\n",
      " (397, 0.01586230950609434),\n",
      " (398, 0.01752000147027696),\n",
      " (399, 0.04141156349510017),\n",
      " (400, 0.03350681516205777),\n",
      " (401, 0.03659552172246862),\n",
      " (402, 0.026782444213425727),\n",
      " (403, 0.03014462968774175),\n",
      " (404, 0.013895557083150096),\n",
      " (405, 0.018739029324605836),\n",
      " (406, 0.012762382944589161),\n",
      " (407, 0.014531123861668617),\n",
      " (408, 0.03014462968774175),\n",
      " (409, 0.03014462968774175),\n",
      " (410, 0.011168938387352592),\n",
      " (411, 0.016546626527225616),\n",
      " (412, 0.19724514085358252),\n",
      " (413, 0.03350681516205777),\n",
      " (414, 0.03350681516205777),\n",
      " (415, 0.034253226202121394),\n",
      " (416, 0.014531123861668617),\n",
      " (417, 0.018666582934621534),\n",
      " (418, 0.009971516841845609),\n",
      " (419, 0.03350681516205777),\n",
      " (420, 0.01809132084184943),\n",
      " (421, 0.022337876774705185),\n",
      " (422, 0.03578661867196928),\n",
      " (423, 0.012436716484294213),\n",
      " (424, 0.019764006970399376),\n",
      " (425, 0.0876000073513848),\n",
      " (426, 0.03350681516205777),\n",
      " (427, 0.021875564424485884),\n",
      " (428, 0.014531123861668617),\n",
      " (429, 0.049631383580962966),\n",
      " (430, 0.1340272606482311),\n",
      " (431, 0.04758692851828303),\n",
      " (432, 0.06701363032411554),\n",
      " (433, 0.023801042299378714),\n",
      " (434, 0.012564371438724369),\n",
      " (435, 0.013728278150907271),\n",
      " (436, 0.03350681516205777),\n",
      " (437, 0.019792624211578243),\n",
      " (438, 0.038426549958632046),\n",
      " (439, 0.04949650848626168),\n",
      " (440, 0.01752000147027696),\n",
      " (441, 0.025798057669027027),\n",
      " (442, 0.03350681516205777),\n",
      " (443, 0.04023027428203668),\n",
      " (444, 0.019486753893221208),\n",
      " (445, 0.022848939367537232),\n",
      " (446, 0.024815691790481483),\n",
      " (447, 0.01526270662400538),\n",
      " (448, 0.15072314843870874),\n",
      " (449, 0.03350681516205777),\n",
      " (450, 0.014601086710874206),\n",
      " (451, 0.020705781747550084),\n",
      " (452, 0.01770306501882569),\n",
      " (453, 0.011789008001537812),\n",
      " (454, 0.028177877264797504),\n",
      " (455, 0.009300181384414165),\n",
      " (456, 0.013981410798918034),\n",
      " (457, 0.10712977685370291),\n",
      " (458, 0.009606637489658012),\n",
      " (459, 0.024815691790481483),\n",
      " (460, 0.015048226526111408),\n",
      " (461, 0.02887013814627822),\n",
      " (462, 0.022848939367537232),\n",
      " (463, 0.03350681516205777),\n",
      " (464, 0.028177877264797504),\n",
      " (465, 0.01829776086123431)]\n"
     ]
    }
   ],
   "source": [
    "for doc in corpus_tfidf:\n",
    "    pprint(doc)\n",
    "    break"
   ]
  },
  {
   "attachments": {},
   "cell_type": "markdown",
   "metadata": {},
   "source": [
    "## 5.4 Running LDA using BoW"
   ]
  },
  {
   "cell_type": "code",
   "execution_count": 384,
   "metadata": {},
   "outputs": [],
   "source": [
    "lda_model = gensim.models.LdaMulticore(bow_corpus, num_topics=10, \n",
    "                                       id2word=dictionary, passes=2, \n",
    "                                       workers=2)"
   ]
  },
  {
   "cell_type": "code",
   "execution_count": 385,
   "metadata": {},
   "outputs": [
    {
     "name": "stdout",
     "output_type": "stream",
     "text": [
      "Topic: 0 \n",
      "Words: 0.005*\"u.s\" + 0.005*\"trump\" + 0.004*\"company\" + 0.004*\"state\" + 0.004*\"percent\" + 0.003*\"market\" + 0.003*\"billion\" + 0.003*\"share\" + 0.003*\"government\" + 0.003*\"trade\"\n",
      "Topic: 1 \n",
      "Words: 0.003*\"people\" + 0.003*\"company\" + 0.003*\"court\" + 0.003*\"business\" + 0.002*\"million\" + 0.002*\"state\" + 0.002*\"facebook\" + 0.002*\"u.s\" + 0.002*\"percent\" + 0.002*\"bank\"\n",
      "Topic: 2 \n",
      "Words: 0.003*\"company\" + 0.003*\"percent\" + 0.003*\"bank\" + 0.003*\"trump\" + 0.002*\"john\" + 0.002*\"china\" + 0.002*\"million\" + 0.002*\"people\" + 0.002*\"state\" + 0.002*\"country\"\n",
      "Topic: 3 \n",
      "Words: 0.004*\"state\" + 0.004*\"percent\" + 0.004*\"company\" + 0.004*\"trump\" + 0.004*\"people\" + 0.004*\"million\" + 0.003*\"u.s\" + 0.003*\"market\" + 0.003*\"share\" + 0.002*\"reporting\"\n",
      "Topic: 4 \n",
      "Words: 0.008*\"trump\" + 0.004*\"company\" + 0.003*\"president\" + 0.003*\"point\" + 0.002*\"state\" + 0.002*\"people\" + 0.002*\"world\" + 0.002*\"going\" + 0.002*\"student\" + 0.002*\"u.s\"\n",
      "Topic: 5 \n",
      "Words: 0.004*\"people\" + 0.004*\"company\" + 0.003*\"million\" + 0.003*\"state\" + 0.003*\"percent\" + 0.003*\"card\" + 0.002*\"work\" + 0.002*\"u.s\" + 0.002*\"billion\" + 0.002*\"report\"\n",
      "Topic: 6 \n",
      "Words: 0.004*\"company\" + 0.003*\"game\" + 0.003*\"million\" + 0.002*\"government\" + 0.002*\"people\" + 0.002*\"trump\" + 0.002*\"group\" + 0.002*\"state\" + 0.002*\"season\" + 0.002*\"back\"\n",
      "Topic: 7 \n",
      "Words: 0.005*\"percent\" + 0.005*\"company\" + 0.004*\"people\" + 0.003*\"u.s\" + 0.003*\"trump\" + 0.003*\"market\" + 0.003*\"since\" + 0.003*\"state\" + 0.003*\"price\" + 0.002*\"share\"\n",
      "Topic: 8 \n",
      "Words: 0.004*\"state\" + 0.004*\"trump\" + 0.003*\"u.s\" + 0.003*\"president\" + 0.003*\"percent\" + 0.002*\"company\" + 0.002*\"market\" + 0.002*\"people\" + 0.002*\"million\" + 0.002*\"many\"\n",
      "Topic: 9 \n",
      "Words: 0.006*\"trump\" + 0.004*\"president\" + 0.004*\"state\" + 0.004*\"people\" + 0.002*\"million\" + 0.002*\"company\" + 0.002*\"country\" + 0.002*\"world\" + 0.002*\"make\" + 0.002*\"united\"\n"
     ]
    }
   ],
   "source": [
    "for idx, topic in lda_model.print_topics(-1):\n",
    "    print('Topic: {} \\nWords: {}'.format(idx, topic))"
   ]
  },
  {
   "attachments": {},
   "cell_type": "markdown",
   "metadata": {},
   "source": [
    "## 5.5 Visualization"
   ]
  },
  {
   "cell_type": "code",
   "execution_count": 386,
   "metadata": {},
   "outputs": [
    {
     "data": {
      "text/html": [
       "\n",
       "<link rel=\"stylesheet\" type=\"text/css\" href=\"https://cdn.jsdelivr.net/gh/bmabey/pyLDAvis@3.4.0/pyLDAvis/js/ldavis.v1.0.0.css\">\n",
       "\n",
       "\n",
       "<div id=\"ldavis_el2888158529828325259653675\" style=\"background-color:white;\"></div>\n",
       "<script type=\"text/javascript\">\n",
       "\n",
       "var ldavis_el2888158529828325259653675_data = {\"mdsDat\": {\"x\": [-0.012594884836088348, 0.03435088855977403, -0.0031234596245635006, -0.008421122287422702, 0.05134765658366036, -0.019217944427610323, 0.018641256446388536, -0.038569919462447574, -8.710249122671299e-05, -0.022325368460463804], \"y\": [0.03320102156051422, 0.004320290154600798, 0.011160367161792955, 0.0034078842436918687, -0.012173766600777715, 0.03914612413214442, 0.0016350647747891444, -0.022152874592012393, -0.021639109294086148, -0.03690500154065714], \"topics\": [1, 2, 3, 4, 5, 6, 7, 8, 9, 10], \"cluster\": [1, 1, 1, 1, 1, 1, 1, 1, 1, 1], \"Freq\": [18.389538183012117, 13.817699359867627, 11.64019010277528, 10.813909334626953, 10.057061261460538, 9.293349212771636, 8.599508156727255, 6.97832293456566, 6.788167333162548, 3.6222541210303896]}, \"tinfo\": {\"Term\": [\"percent\", \"company\", \"trump\", \"card\", \"game\", \"bank\", \"john\", \"u.s\", \"court\", \"student\", \"share\", \"facebook\", \"billion\", \"government\", \"china\", \"tommy\", \"trade\", \"business\", \"million\", \"market\", \"group\", \"season\", \"stock\", \"deal\", \"people\", \"goldman\", \"school\", \"oil\", \"text\", \"price\", \"zynga\", \"infineon\", \"continental\", \"binder\", \"lululemon\", \"pelican\", \"lisboa\", \"hegerberg\", \"saa\", \"benfica\", \"odegaard\", \"weasel\", \"denison\", \"etps\", \"jumper\", \"montanti\", \"calhoun\", \"vole\", \"bissell\", \"sanico\", \"mcdonagh\", \"maersk\", \"simmons\", \"basilica\", \"rouhani\", \"taal\", \"drilling\", \"redick\", \"tapestry\", \"slimane\", \"lululemons\", \"williamson\", \"warren\", \"fisher\", \"uae\", \"blasio\", \"sander\", \"tehran\", \"blasios\", \"rogers\", \"buttigieg\", \"tobacco\", \"bangladesh\", \"debate\", \"tin\", \"qtrly\", \"iran\", \"campaign\", \"de\", \"biden\", \"president\", \"trump\", \"woman\", \"p.m\", \"girl\", \"show\", \"democratic\", \"video\", \"know\", \"people\", \"state\", \"make\", \"world\", \"united\", \"young\", \"country\", \"american\", \"see\", \"thing\", \"million\", \"told\", \"policy\", \"according\", \"news\", \"house\", \"report\", \"city\", \"work\", \"company\", \"way\", \"york\", \"well\", \"many\", \"percent\", \"much\", \"since\", \"still\", \"u.s\", \"titagarh\", \"wagon\", \"sunlink\", \"cortisol\", \"bmt\", \"ocado\", \"cider\", \"aphria\", \"ameritrade\", \"avalanche\", \"pif\", \"whitman\", \"esprit\", \"torontodominion\", \"anime\", \"aramco\", \"ypg\", \"draper\", \"lowrance\", \"td\", \"kyoto\", \"sirtex\", \"mclean\", \"ets\", \"mou\", \"samestore\", \"abdulmalik\", \"fermentation\", \"caravan\", \"sago\", \"pet\", \"uematsu\", \"takata\", \"flint\", \"roth\", \"ira\", \"suriname\", \"investing\", \"saudi\", \"bpd\", \"ski\", \"arabia\", \"sprint\", \"coronavirus\", \"tax\", \"outbreak\", \"animation\", \"earnings\", \"crude\", \"investment\", \"tokyo\", \"share\", \"korea\", \"percent\", \"million\", \"sp\", \"state\", \"average\", \"u.s\", \"people\", \"market\", \"company\", \"reporting\", \"eu\", \"level\", \"plan\", \"high\", \"trump\", \"government\", \"stock\", \"editing\", \"health\", \"country\", \"since\", \"rate\", \"deal\", \"south\", \"price\", \"number\", \"according\", \"billion\", \"president\", \"told\", \"want\", \"world\", \"take\", \"group\", \"oneok\", \"graphene\", \"schiff\", \"realestate\", \"gaza\", \"ethiopia\", \"sabin\", \"hellcat\", \"kroger\", \"nhc\", \"rosales\", \"hertwig\", \"chlorpyrifos\", \"kyagulanyi\", \"widebody\", \"hamas\", \"otonomy\", \"redeye\", \"rocket\", \"wallethub\", \"polina\", \"camouflage\", \"zhang\", \"luthmann\", \"neilson\", \"chaulk\", \"matjila\", \"aaa\", \"pizza\", \"ugandan\", \"liechtenstein\", \"egyptian\", \"castorina\", \"orient\", \"belgrade\", \"uaw\", \"sofia\", \"rank\", \"istanbul\", \"hank\", \"train\", \"ro\", \"zagreb\", \"bolsonaro\", \"wine\", \"patient\", \"fuel\", \"journey\", \"moro\", \"state\", \"president\", \"election\", \"illness\", \"u.s\", \"carolina\", \"ticket\", \"clinton\", \"trump\", \"china\", \"market\", \"many\", \"percent\", \"still\", \"park\", \"city\", \"official\", \"home\", \"right\", \"party\", \"next\", \"reporting\", \"security\", \"source\", \"united\", \"company\", \"well\", \"good\", \"since\", \"million\", \"way\", \"people\", \"according\", \"country\", \"group\", \"including\", \"point\", \"emperor\", \"h1\", \"baccarat\", \"philippe\", \"hirohito\", \"takasu\", \"antipsychotic\", \"lbc\", \"laden\", \"l.p\", \"kesha\", \"obradovich\", \"zaman\", \"hadwin\", \"typhoon\", \"cashback\", \"alqaida\", \"fidelity\", \"nbt\", \"swafford\", \"bundle\", \"mw\", \"cs100\", \"forbes\", \"abrams\", \"franc\", \"azeri\", \"spotify\", \"commisso\", \"ramapo\", \"reward\", \"card\", \"chef\", \"roundup\", \"bin\", \"bayer\", \"musk\", \"temperature\", \"mar\", \"salon\", \"disney\", \"inmate\", \"apple\", \"customer\", \"credit\", \"restaurant\", \"fritzsche\", \"people\", \"thomas\", \"service\", \"million\", \"work\", \"medicaid\", \"boeing\", \"company\", \"report\", \"billion\", \"percent\", \"home\", \"show\", \"state\", \"many\", \"sale\", \"product\", \"center\", \"york\", \"court\", \"war\", \"business\", \"u.s\", \"according\", \"group\", \"reporting\", \"world\", \"since\", \"editing\", \"still\", \"city\", \"point\", \"country\", \"make\", \"market\", \"trump\", \"midwestone\", \"ciobo\", \"pioneer\", \"zuuse\", \"msl\", \"blm\", \"pepsico\", \"nunes\", \"janaillac\", \"grouse\", \"nohla\", \"jebbit\", \"sage\", \"amundi\", \"moderator\", \"medvedev\", \"valvani\", \"baca\", \"parnas\", \"radisson\", \"fruman\", \"fta\", \"favorov\", \"ayre\", \"bln\", \"naftogaz\", \"maize\", \"finalized\", \"doha\", \"sanyal\", \"nado\", \"peso\", \"cbb\", \"wada\", \"tripoli\", \"parcel\", \"taliban\", \"antidoping\", \"unity\", \"roam\", \"afghan\", \"tariff\", \"ambassador\", \"trade\", \"landowner\", \"u.s\", \"gold\", \"billion\", \"share\", \"bank\", \"dollar\", \"market\", \"case\", \"united\", \"talk\", \"trump\", \"data\", \"meeting\", \"stock\", \"government\", \"percent\", \"administration\", \"deal\", \"american\", \"state\", \"company\", \"group\", \"country\", \"security\", \"official\", \"court\", \"according\", \"reporting\", \"editing\", \"president\", \"since\", \"business\", \"plan\", \"harleydavidson\", \"bates\", \"hippeau\", \"weymouth\", \"acid\", \"dassey\", \"motorcycle\", \"docker\", \"julien\", \"raptor\", \"farage\", \"lerne\", \"curaegis\", \"edubirdie\", \"mccollum\", \"hykes\", \"merrimack\", \"evers\", \"goldfajn\", \"bensalah\", \"roku\", \"fahrenthold\", \"hogan\", \"avery\", \"dasseyaposs\", \"waldron\", \"corbyn\", \"montreal\", \"khochinsky\", \"biggs\", \"verification\", \"wimbledon\", \"dossier\", \"reinsurance\", \"ankle\", \"fitch\", \"guo\", \"paradise\", \"allied\", \"rating\", \"student\", \"russian\", \"trump\", \"painting\", \"medicare\", \"shakespeare\", \"point\", \"information\", \"president\", \"police\", \"going\", \"game\", \"company\", \"russia\", \"world\", \"claim\", \"took\", \"technology\", \"made\", \"without\", \"election\", \"inc\", \"campaign\", \"medium\", \"told\", \"make\", \"north\", \"government\", \"state\", \"report\", \"people\", \"official\", \"u.s\", \"rate\", \"take\", \"back\", \"million\", \"court\", \"case\", \"come\", \"reporting\", \"market\", \"way\", \"ivg\", \"starlink\", \"knight\", \"jv\", \"hansa\", \"heathrow\", \"officefirst\", \"sinema\", \"officefirsts\", \"moyes\", \"somers\", \"redbubble\", \"orla\", \"lemonis\", \"shaker\", \"dyke\", \"soria\", \"dongguanbased\", \"ucla\", \"italmatch\", \"eminis\", \"quellon\", \"yelsma\", \"hacker\", \"jat\", \"lavar\", \"edmonton\", \"squaire\", \"middlesboro\", \"sinclair\", \"caste\", \"quake\", \"blackstone\", \"ridgecrest\", \"denim\", \"chile\", \"fujimori\", \"shulkin\", \"rural\", \"swift\", \"veteran\", \"percent\", \"fox\", \"price\", \"yield\", \"company\", \"perry\", \"bond\", \"gun\", \"since\", \"market\", \"investor\", \"u.s\", \"people\", \"rose\", \"fell\", \"share\", \"stock\", \"bill\", \"group\", \"next\", \"oil\", \"trump\", \"deal\", \"rate\", \"video\", \"state\", \"government\", \"point\", \"editing\", \"president\", \"made\", \"reporting\", \"source\", \"city\", \"told\", \"right\", \"many\", \"country\", \"back\", \"million\", \"n4\", \"iaea\", \"besunyen\", \"righthander\", \"muiz\", \"lefthander\", \"inning\", \"shipt\", \"simis\", \"diamondback\", \"rawls\", \"rascoff\", \"culp\", \"marlin\", \"coppergold\", \"ranney\", \"cub\", \"amano\", \"osuna\", \"torrie\", \"fixit\", \"renttoown\", \"higginbotham\", \"akron\", \"seahawks\", \"kobani\", \"barton\", \"stanton\", \"pegas\", \"pharma\", \"homer\", \"yankee\", \"sox\", \"trophy\", \"rbi\", \"spencer\", \"angel\", \"nied\", \"montana\", \"pirate\", \"zillow\", \"volcker\", \"brunswickbalkecollender\", \"pittsburgh\", \"quarterback\", \"yard\", \"taiwan\", \"repayment\", \"game\", \"league\", \"ge\", \"football\", \"season\", \"run\", \"ceo\", \"loan\", \"company\", \"update\", \"red\", \"million\", \"text\", \"government\", \"back\", \"hit\", \"group\", \"coverage\", \"chinese\", \"home\", \"right\", \"make\", \"people\", \"source\", \"team\", \"family\", \"state\", \"deal\", \"trump\", \"take\", \"china\", \"want\", \"well\", \"president\", \"made\", \"percent\", \"since\", \"reporting\", \"u.s\", \"mcconaughey\", \"seagal\", \"epizyme\", \"maire\", \"cwd\", \"damon\", \"cernobbio\", \"hanesbrands\", \"lulas\", \"osterholm\", \"virnetx\", \"renter\", \"deer\", \"trenta\", \"sommers\", \"flipkart\", \"willow\", \"beggs\", \"blonde\", \"prion\", \"mursi\", \"opdivo\", \"venti\", \"secretarygeneral\", \"reais\", \"badie\", \"tazverik\", \"motorway\", \"libra\", \"b2g\", \"funeral\", \"menear\", \"jernigan\", \"jefferson\", \"craig\", \"faber\", \"faulk\", \"overdose\", \"mateen\", \"druginduced\", \"mf\", \"blockchain\", \"fentanyl\", \"lumber\", \"courtney\", \"marijuana\", \"facebook\", \"zloty\", \"biotech\", \"disease\", \"drug\", \"court\", \"auto\", \"university\", \"college\", \"business\", \"goldman\", \"salman\", \"ng\", \"student\", \"public\", \"trust\", \"car\", \"people\", \"sale\", \"bank\", \"city\", \"family\", \"industry\", \"million\", \"company\", \"source\", \"billion\", \"home\", \"coverage\", \"state\", \"government\", \"case\", \"u.s\", \"way\", \"market\", \"percent\", \"price\", \"official\", \"reporting\", \"trump\", \"part\", \"president\", \"rupee\", \"gmr\", \"dolezal\", \"consol\", \"vippy\", \"underwear\", \"nbg\", \"nse\", \"navigation\", \"ecobank\", \"tangerine\", \"jogger\", \"panade\", \"tommy\", \"rampersad\", \"balpa\", \"kinda\", \"wie\", \"iaposve\", \"prius\", \"bac\", \"scanship\", \"googl\", \"kenney\", \"langston\", \"finerman\", \"naacp\", \"staytucked\", \"bse\", \"fb\", \"undershirt\", \"e.v\", \"tunzi\", \"arabica\", \"fdi\", \"shirt\", \"jpm\", \"goog\", \"toyota\", \"chf\", \"trudeau\", \"bread\", \"coffee\", \"john\", \"superior\", \"luo\", \"bank\", \"prime\", \"china\", \"company\", \"school\", \"rule\", \"dress\", \"percent\", \"long\", \"made\", \"trump\", \"country\", \"million\", \"group\", \"including\", \"work\", \"people\", \"change\", \"reporting\", \"back\", \"deal\", \"government\", \"editing\", \"state\", \"much\", \"president\", \"world\", \"official\", \"think\", \"told\"], \"Freq\": [699.0, 865.0, 981.0, 127.0, 215.0, 346.0, 96.0, 647.0, 271.0, 152.0, 369.0, 134.0, 368.0, 445.0, 297.0, 29.0, 233.0, 342.0, 603.0, 506.0, 410.0, 176.0, 295.0, 346.0, 732.0, 74.0, 203.0, 182.0, 121.0, 304.0, 10.206846196660365, 3.282586260670708, 10.34916824563363, 21.663013125315675, 15.422310289970282, 20.54929188303124, 4.629406337928916, 3.817272990026669, 6.864321762215371, 3.7849399226088885, 2.9861408453454117, 23.154684508268193, 2.220827620333798, 7.370074869973477, 8.03001406938479, 10.854123514111144, 9.339750218450815, 10.0368427089535, 6.477928596880797, 4.3174345852226255, 5.62703433164958, 3.5110155454456793, 13.437560956416212, 4.967126660828805, 11.268055409822143, 3.5353868140525657, 12.636235609350795, 4.865219950488065, 3.481247909658087, 3.430648836281407, 4.8082590713003786, 9.54500731669909, 30.19127915294945, 7.5088225724193, 6.9177796490542045, 25.978862984013833, 42.019932815352256, 20.383859045312857, 8.677196469184052, 15.868785664955922, 25.999604150270006, 20.58102756662828, 8.055605328505594, 40.94719608572955, 12.328605509501699, 7.90844048802551, 56.70863187809807, 78.55084820196004, 44.56788632246502, 17.870305553637635, 180.43434022486784, 258.36029308986093, 65.19311763678904, 28.403192555742574, 33.67277099433434, 77.47407050266992, 41.51090073417807, 58.351023199023885, 70.30541155297735, 159.9317239310306, 169.49173421050773, 97.18941988202322, 98.09148538157942, 95.80280972786485, 50.411935593474695, 100.31549490045842, 82.89957939367146, 77.7008161607101, 66.83309818211826, 113.13682789538684, 83.58363431416635, 61.693749416448334, 81.47484818663213, 60.28264387060033, 69.75691231404612, 73.86594125640525, 73.95408855795479, 70.57555648183465, 104.3869868985613, 69.36985538891072, 61.7284879493843, 64.71020848633611, 68.38476681346734, 78.50125737972081, 64.1388652900997, 67.80164055324668, 64.5986543591703, 64.47041596565093, 6.030942768433699, 5.11137041689714, 3.669251205275342, 6.611746673399619, 5.833262422953791, 3.663294730658792, 4.901443463847158, 3.550954362561048, 2.8278052775233187, 9.83359945443694, 11.184037933419308, 6.339491445267591, 4.913300055244566, 2.093147972311464, 9.136324351513812, 6.954299573574076, 9.72603877942198, 4.828022171230044, 5.56003614432537, 5.440797926258255, 11.047446489378128, 2.041019343320384, 2.0408629877319817, 4.065299910698321, 6.038833862914404, 5.393166079002206, 2.6639117039117486, 2.5725454280458053, 2.6748316580044693, 2.6095046971958884, 16.712743609777075, 3.960222721018128, 9.69910372389645, 19.453946843518064, 15.18988007809156, 13.840000190047025, 5.8649061008401056, 20.444368475648165, 37.45242514948395, 16.984296609301545, 9.0116269045132, 18.480737792143753, 9.380756763522683, 39.384615143058916, 59.23524135114361, 23.96977553204486, 11.69851415193668, 43.11911475729221, 27.163325707242777, 61.474428934216164, 23.380013224913448, 94.67770069882992, 40.1663631605558, 141.56114781637095, 121.0954930360561, 30.80013574631967, 146.71608034654852, 37.355609370151726, 116.76763418804528, 123.21729273354312, 96.94485373821155, 135.63387553606375, 84.99883592159173, 34.42996140370602, 45.49085596991247, 65.71406233353157, 52.61596666737288, 123.55142587281355, 76.04688149149634, 60.32246280286485, 65.62057017027946, 53.51701773938501, 72.8536485161524, 70.05363164156053, 56.55558885384888, 62.42326746095989, 46.634371418361425, 55.87964992978333, 48.27598639601109, 57.176909554000204, 56.013500288293855, 63.43685864720423, 54.61611323847047, 51.187250645807616, 54.555565970744674, 52.036999130115085, 52.926164184957194, 5.074565819091587, 3.6121528352284447, 4.029247279996962, 14.1352479938602, 11.10389317643863, 5.184798675613532, 36.82898021150588, 6.8112677349795945, 9.461188836696452, 2.5089285188117993, 2.4888478524918285, 9.45258928908664, 4.368720598039979, 5.0295144075660385, 5.493652596025716, 5.551561314369492, 1.8386263859538243, 4.800489060779002, 8.622298513812055, 12.911920751913904, 1.8053075504984342, 4.268981307137667, 1.7897613095047724, 10.140829553916518, 2.9328948709824125, 6.642130414177032, 2.9972049332475823, 2.391416003228812, 21.464916188813778, 2.9750771057135794, 10.63227933082528, 9.368333217283254, 6.375195717121981, 9.259293575301657, 8.026157605658534, 6.411342555067192, 11.028954261553125, 23.586823050587544, 13.36433392693079, 7.289289646849777, 49.77054142095237, 11.894379322997484, 8.577617671027559, 7.610608037602996, 15.159305046400467, 23.073727353566532, 23.746665062062398, 12.11358207727085, 7.915500401712028, 116.85580895340804, 91.92085178112141, 44.32498587455185, 15.69241481660601, 92.26465218245706, 19.176270199405167, 16.17026530892251, 29.124051085364073, 104.99528331167929, 51.32787798266801, 65.35483419436414, 53.465315119888764, 73.92228265245699, 47.02695465840196, 25.734913408894602, 49.069821980672685, 48.35621246218951, 47.25558800900374, 46.51776463827077, 36.40948967429947, 39.33663652833592, 51.42528462317313, 41.4613751739132, 42.2617834875794, 48.02712389196122, 68.86158080991555, 42.49358305817275, 38.875830517523966, 47.92497128263645, 53.95601535639612, 42.9320877211672, 57.537974822002155, 46.123294633566786, 47.08931776426573, 45.554867393550765, 41.6942301511704, 42.287993873454454, 7.145656979925064, 2.68377117165139, 3.1266049558147544, 4.341193027249379, 2.4674911100918884, 2.464387661174153, 7.206103000085841, 1.8068998962199057, 10.72138907402532, 1.7946676002026867, 3.611243184414259, 7.0987199985069385, 4.146974346180296, 3.4791227558375812, 2.323462547782758, 6.4825224289699515, 4.6936310064567515, 3.527838824184022, 1.7539459085395053, 2.8403433116419197, 9.652636364678493, 1.7335638877483135, 2.8433807961693773, 5.106431867273841, 3.4559868193327583, 5.505797850497112, 1.7242047507656122, 4.59082608969185, 5.624140698907996, 3.375475914872509, 17.318169243070976, 78.12743071083091, 4.488493852670299, 8.473022886194343, 12.370438721402838, 10.786429182195372, 12.593935443387444, 19.81650534108886, 7.918275634902063, 9.588596261052176, 11.630349488234927, 13.255855703110878, 34.80632520699083, 33.62039632120081, 39.49167358408846, 21.76817853368091, 7.843748364187115, 115.72325493130663, 11.852870405629629, 53.17017757761592, 92.21423320279763, 60.84419839465323, 12.95600890743738, 18.28096830940219, 104.4759282607014, 55.07211908444436, 57.056490317878634, 84.24518528411728, 52.39386179420869, 42.38653139011096, 84.26463267927225, 52.50450710569256, 41.545056840695544, 31.804175734699044, 28.823203563939224, 38.92823620744032, 40.27880596621388, 29.849659437853845, 44.379898761220495, 58.608253808929916, 45.17030360161862, 45.641359606131225, 45.92292841087029, 43.90666319957587, 44.09999741136466, 40.07353727396871, 38.073412651234996, 38.833516026863705, 37.72724089878216, 39.08423067111362, 37.526627965396344, 38.09825585545032, 38.87500879931383, 4.791239407183225, 4.800982793257818, 12.117892930333275, 3.145956445851003, 3.112149535210084, 9.835120049040224, 7.336959565176941, 5.060712766922861, 4.292049594289458, 5.013625723792359, 2.147093298948334, 2.1455930040768205, 4.968300701302147, 2.7485968332117316, 2.0475821487269057, 2.735533595516663, 6.8348795157075655, 4.7573784089701165, 7.962293938545102, 2.668841259483151, 5.269452317163817, 1.9714293881122307, 8.529107010820553, 4.623661588389318, 6.530323649832575, 11.086299179175855, 1.9512425630572345, 4.545742451088269, 3.8686535312124164, 2.6059372315258833, 5.911879452355098, 8.26892691239367, 5.648992797295745, 7.399348309183057, 6.348660556031539, 7.775161828887733, 14.36285387961657, 7.08381448117298, 8.595164271635648, 5.482253517372682, 12.24560784542034, 38.21557195183605, 15.09093503793571, 73.13102081590307, 10.439113426643498, 130.17638314276132, 29.367091984391546, 80.81462146017151, 77.01714245490936, 71.44966253293258, 42.33843307929266, 86.19425705895647, 59.446403311301204, 71.17170613645149, 40.290902658612985, 127.187310785576, 44.56144536438259, 43.381825181264006, 58.566418113999966, 75.35560127758262, 96.48201821245496, 44.26442691024535, 60.03640361687276, 58.48130678161319, 97.90147358077303, 98.89300259808846, 63.3824045819806, 66.0243000664063, 49.11709709430042, 55.14236261115868, 47.73596331538374, 57.4176126008676, 55.44676311139007, 50.04580611904758, 58.299758397025656, 52.51866959129557, 47.89140736781539, 45.212828167315244, 8.924146648826644, 4.669695080250195, 5.9993686626502, 5.507592937390184, 6.786225924094698, 7.276144664070901, 5.269377885703444, 5.331689201329592, 2.9240728953045925, 7.736791734284343, 5.8470542750539956, 1.7466670746058401, 1.7451851091101962, 5.168716603760868, 4.693739953645113, 4.605862217433409, 2.213394631134253, 4.006498078168675, 1.7104927597617396, 1.712046844447416, 1.708779509700852, 4.54785591429506, 6.759931602846952, 2.760927547117884, 2.766049686800655, 3.8442825643762455, 7.781955119149329, 5.023311570007868, 8.783146588113208, 4.3762638994841305, 3.8235269969229937, 4.814187386951668, 9.210178065257285, 7.095113421318047, 4.765768575392427, 25.935193174678794, 6.464628677520976, 5.838732726838528, 12.58631215734243, 34.89948639624891, 47.74705249983157, 34.269933499474675, 173.3923405755485, 14.432591598973492, 12.579329677994915, 6.871373529666057, 58.28360846822342, 28.87839945881805, 79.4092258588555, 35.84364802236367, 49.71780765083012, 40.07285418460973, 91.63712509714597, 26.660641113529692, 51.750632266589626, 19.437470174885245, 29.7853059885525, 25.585478836259018, 43.2441583721075, 29.532688902335327, 31.96716709086172, 28.33801137421903, 31.018306647937774, 33.84388418506742, 41.93201042376157, 41.54063735767429, 27.93125377542641, 44.39599911397306, 57.166025347937556, 37.994656870615096, 52.106014167031674, 37.61456257497271, 45.56198729285635, 33.61286931205066, 35.24306355931597, 34.664730717617076, 40.84575453787343, 32.381274809151975, 32.44023677541778, 31.854033214300646, 33.224520555811445, 33.322685842902715, 32.26888963041487, 6.0367699569964905, 4.990364659605825, 9.425045303854496, 2.4754591000308848, 2.4276315288105597, 3.6678108658343147, 2.3704351712531526, 5.954945053355891, 2.3556464348564377, 4.113766150820007, 4.65988753860008, 1.730527990700793, 1.7286235664765923, 13.95991284731561, 13.847643229208952, 8.04991040536392, 1.7021697467155552, 1.6778124852500707, 5.132497002867097, 3.285183467397124, 2.1521915074181823, 2.690715373930916, 5.954239216718969, 13.920645485282332, 4.21198204623102, 2.69506368767174, 3.2091502109897343, 1.5855769568063263, 3.7034860346402003, 3.1707606440352647, 4.688851051469221, 11.015637922145439, 6.991046191188119, 4.600902999483612, 8.383384383330737, 9.181861923651146, 4.846971805094536, 6.909816623813842, 8.72811884569256, 9.87299394103118, 16.21701576557798, 116.02213123128962, 11.106260641809303, 56.57844941762994, 21.533984446121163, 110.26467951725984, 20.990454229952796, 25.038112602878538, 16.149929624851886, 57.867380369703454, 63.74628813152606, 41.559924396309675, 72.55100732401108, 74.94595510907659, 27.734023666987746, 27.08189517648647, 45.237515786519275, 39.77246791833189, 28.532653300514877, 44.721243156150344, 33.76320696651737, 29.333406031050167, 68.90075049738718, 39.358066697038446, 35.37458048315568, 27.43411076225334, 56.79994182339998, 41.14050471998292, 34.818790933736715, 35.70765591484202, 42.632801050739296, 34.547605642203884, 37.48253273265219, 32.273172789415305, 32.94454572648172, 32.76400798615671, 31.647497342689316, 31.590901287707023, 31.460123478313488, 29.702132110392736, 29.569824677891567, 3.3925592633739203, 2.3757310921104318, 2.932934808812311, 6.043260125121996, 6.350061802346935, 4.563829791060521, 11.837845593873556, 1.6896853252682074, 5.101892249116205, 3.8755270664571677, 3.833900105757349, 3.7932134076904522, 4.876802996555442, 3.233191673753875, 1.62721239188533, 7.66494138995465, 2.7253649689043367, 1.6046112035158224, 2.7035530419760985, 2.7329220810863744, 3.765697439083901, 3.7717410130496987, 1.6099971225835328, 10.253631263583385, 2.6152882486720035, 3.7818035611839655, 4.140533276231303, 7.4199819422195175, 2.575185153209039, 3.6740264921272483, 7.813347225011408, 10.850141132011137, 11.038448559689623, 16.632930120679585, 8.558008027401755, 13.661575268885741, 11.658023450839554, 5.122469719263316, 8.685049523716373, 5.976774262655887, 19.3676672386084, 8.317267041647915, 5.450336503511158, 6.907656938317917, 9.536627733667007, 12.53206721255969, 10.152440566771046, 5.351016256822602, 51.88805764366966, 16.674856816855744, 19.07474860338758, 12.502180311147436, 36.29597332165769, 29.855650336607106, 22.668529611534858, 17.0946083929505, 72.3434130389338, 17.522177271771046, 19.13506444885502, 49.55364722794037, 21.587480973497865, 39.29529072272998, 33.1027739168041, 25.600766716759388, 36.495723088175815, 22.952310092905588, 22.766750156467364, 31.477570886063727, 30.882172305805398, 31.010140715189706, 39.28613443362417, 27.582797023847267, 24.03484985196773, 24.454288091144367, 36.445935766163004, 27.295286724885244, 36.57301151796063, 25.81160719965919, 24.785355244268153, 24.13305629170135, 23.920994701583655, 26.20773760518995, 23.653997391859548, 25.622301325402372, 24.304351842008412, 23.9825336692974, 23.641820575163603, 2.922746627278404, 6.55413787243994, 2.8680127276539205, 2.292497497069962, 8.000651026661867, 1.6790822445671023, 1.67852005766219, 1.6783201254266664, 2.188516808623136, 4.354121775079278, 4.251210577083506, 3.1850711961098406, 8.117281594260458, 1.5880262195883872, 2.569134616805934, 2.705899046563718, 1.5783644208022192, 7.421854065241389, 1.567383093763096, 3.7024507388854824, 2.6593797646603052, 2.103556634200432, 1.5613111321690498, 2.09318490446766, 3.479096784991477, 2.6407875368465934, 2.069714428113174, 3.11832666145428, 4.579840858715328, 2.5952997680700847, 6.9556042515209295, 13.313112200533501, 4.072818099757793, 11.365964318291008, 14.615464902373246, 6.596609751648976, 3.4815849122607663, 9.510818586428545, 7.750382910665482, 3.495165358361694, 3.0418516013065906, 4.571657847928549, 5.430084052198005, 4.613090863560846, 5.639228361485171, 10.93206040408631, 39.52617173659145, 6.936800820781946, 7.898213687665486, 20.82169961371289, 25.61415762424763, 46.395082822633476, 9.342635393894241, 27.055927778205753, 21.67723709119703, 45.16177926648769, 17.55394051223947, 8.910931714340279, 7.503764047997388, 24.24327716862225, 29.398247604320172, 12.837338163946294, 24.580553049350492, 51.13892201777681, 28.41704879656965, 32.86187365252805, 32.73555960231627, 26.567052299831893, 22.263126746678697, 41.91865495262269, 49.06094004870375, 29.02925894282199, 32.376128485724095, 29.88972416187579, 21.159914391900113, 41.756455026254415, 32.780099408079, 27.436645797521308, 36.21653663237565, 27.105422767217537, 31.170272489323747, 32.89654817455167, 25.77296458297187, 25.987331141852106, 25.124237401937158, 26.546557285570785, 23.22827413210862, 23.66368929879948, 5.155348393236426, 3.4271659708032423, 1.6726093806792692, 1.2519509175774208, 1.251213787536818, 6.5333192612849915, 2.4444858591541294, 1.9963879329427554, 4.746639464423511, 1.5874483731628974, 1.9606973985788094, 2.7806733772359347, 2.762368024808683, 16.240833962486096, 1.1547563079083152, 1.537970970622009, 1.5454191480170214, 1.5305191324179974, 2.31024739248002, 4.217979683487234, 2.6458256473498336, 1.5519312042536941, 3.029469539918671, 3.0497757859502843, 1.1361646279200628, 3.0213276392183306, 1.1335262305771447, 2.2851365961234533, 1.4976425834857474, 2.9627243628154165, 4.52804000774251, 2.616082620177629, 4.71205004910922, 2.591395170233172, 4.3040246456337075, 8.114296631569278, 2.2054083599049146, 2.2090022283965958, 4.203348737349643, 3.6373385066546873, 3.966819161163797, 5.091756480113176, 8.712114585711927, 20.566169746221668, 3.4735588802760375, 2.6606757190546553, 22.76583900356143, 12.72178090134654, 19.294988337485652, 29.96438060319852, 14.95797038926126, 12.521597405821835, 5.860517479386629, 23.168239312523482, 13.53978239652137, 14.84892116485084, 22.69168356458494, 16.394646513392, 17.61643419522139, 15.130339058010852, 12.945814044527623, 13.159417019897576, 16.99756606636124, 11.30704452852008, 13.961589176960326, 12.749431514689405, 12.977984188066227, 13.902254784703022, 13.002515792141866, 16.456755798870617, 12.078409408937317, 14.197373517028499, 12.679418019609033, 12.005121058720897, 11.63940937754776, 11.731147159174183], \"Total\": [699.0, 865.0, 981.0, 127.0, 215.0, 346.0, 96.0, 647.0, 271.0, 152.0, 369.0, 134.0, 368.0, 445.0, 297.0, 29.0, 233.0, 342.0, 603.0, 506.0, 410.0, 176.0, 295.0, 346.0, 732.0, 74.0, 203.0, 182.0, 121.0, 304.0, 11.254054955133896, 4.051887099997802, 13.241424893632828, 28.073682454149598, 19.989927168775402, 26.99625044070672, 6.087378831339097, 5.0241516982050385, 9.106725828968093, 5.050749643430502, 4.002524824455036, 31.12369816972306, 2.9901320685994888, 9.993663842677508, 10.943105351813646, 14.877665407780828, 12.858718880443949, 13.860905346838912, 8.946724110121911, 5.99246248660097, 7.875108134073655, 4.9219240688525, 18.871438975748678, 6.988247901890894, 15.85565349696353, 4.976668022802121, 17.832621132804267, 6.895577972375256, 4.945838254927522, 4.889659455812079, 6.873469366658391, 13.768816010592998, 44.69006589276581, 10.831805440482603, 9.970990732160011, 39.91050193738836, 67.35519047647372, 31.41298518187224, 12.670002630844715, 24.46915298818584, 42.055257015610415, 34.08799292627536, 11.820770961135484, 75.29831775738003, 19.500520353502353, 11.597557503655896, 127.2999913019367, 191.7590080244526, 96.28641935258284, 31.39615522746062, 602.2405319870247, 981.0736653002956, 166.27304828711834, 57.21279908280711, 72.41203548104279, 239.52785364424756, 102.07932947345178, 166.51594498745754, 219.88541915165217, 732.2709612086246, 823.8548435331351, 367.92377395170485, 391.9431506932978, 379.6189687167381, 145.64149551651647, 443.9151858687777, 331.97441066885494, 304.3916766488235, 239.3788164846494, 603.5210036808658, 359.61834965383093, 221.14765238662372, 391.6291689397211, 217.17141143197006, 292.4741425889996, 336.1296215868068, 344.17514190086615, 329.86264020072497, 865.5219124085722, 320.7432925974302, 250.26247229849514, 296.6555994491202, 359.2638245893535, 699.0024790887342, 296.3331719967939, 427.1498760334111, 312.17779271868056, 647.4637379694797, 6.848982420018317, 6.649235956459491, 4.78236242208018, 8.633557129973399, 7.64881168089379, 4.834673952554732, 6.5385758649804195, 4.7878994336052125, 3.835451431821159, 13.396152990601236, 15.252454090209088, 8.6685930953528, 6.7263698664394, 2.8685893398238806, 12.556433453983862, 9.570509226225948, 13.415247692270993, 6.7095265583145025, 7.776882534769806, 7.6141706109536225, 15.496391994477746, 2.869293188607625, 2.8698099468718405, 5.731948990521764, 8.555982352977702, 7.690431539571479, 3.8086261533939014, 3.682860767608478, 3.8387613308142776, 3.7469877235175963, 24.843298141528916, 5.724360387549613, 14.311974834748783, 29.339665672553465, 22.74852153976968, 20.778765628057016, 8.643863634956276, 33.75750982732782, 66.5248344192713, 28.854973542789512, 14.151096138710017, 33.26399942450819, 15.484023812114177, 96.09741193458447, 163.93110296396452, 51.63756854329489, 20.889550378580218, 120.12765655300765, 65.60504283323561, 198.05676330881553, 54.31211802981623, 369.9640546804744, 116.18345540975903, 699.0024790887342, 603.5210036808658, 84.84660078282803, 823.8548435331351, 114.13438127240106, 647.4637379694797, 732.2709612086246, 506.07109139201884, 865.5219124085722, 423.1697532174564, 104.72882672570316, 167.7852739229181, 316.1372230716006, 217.03695765884265, 981.0736653002956, 445.5236462483561, 295.3874073755299, 351.97618020160746, 240.54491215842808, 443.9151858687777, 427.1498760334111, 279.9567455723113, 346.53279405026444, 196.09154041279623, 304.66188364496685, 224.9575669456898, 391.6291689397211, 368.71906457262634, 602.2405319870247, 359.61834965383093, 275.58135880900045, 391.9431506932978, 334.9029700562997, 410.3690466348668, 6.1737148233281784, 4.399304310890471, 5.282011969850486, 18.592584049510545, 15.014632042222159, 7.022856673689909, 50.4546554113617, 9.489544428911364, 13.20455406758295, 3.5061409073576133, 3.4995395744954676, 13.297146461150971, 6.156952777833809, 7.089827882694101, 7.816143913815967, 7.920032249753417, 2.633044179155234, 6.904518714980831, 12.405723623350838, 18.683815036515856, 2.6315637886488785, 6.236545281165337, 2.6167189521264813, 14.83152042066016, 4.296093670666071, 9.753820102937865, 4.406611795175425, 3.5405030534015305, 31.82488869749307, 4.419849122692846, 15.833646473747654, 14.102121835341126, 9.553794220442718, 14.127527041175233, 12.320932396727132, 9.732821355076798, 17.557998937230746, 40.20994445028478, 22.202634436293224, 11.447052278111359, 102.15726755905186, 21.16371658247413, 14.299641167174109, 12.279401792305542, 31.706752241745363, 57.71311296111377, 61.94946279335837, 23.92303248876853, 13.111253340419081, 823.8548435331351, 602.2405319870247, 197.50659037810547, 38.365977095087814, 647.4637379694797, 52.812795662399544, 40.50944956061116, 109.06620668585869, 981.0736653002956, 297.4486613186819, 506.07109139201884, 359.2638245893535, 699.0024790887342, 312.17779271868056, 98.14769757009485, 344.17514190086615, 337.1961787721601, 324.4345984025723, 317.05462444452445, 195.3231915520405, 239.75034785122915, 423.1697532174564, 267.6466500618275, 283.30257557234927, 379.6189687167381, 865.5219124085722, 296.6555994491202, 248.65695822907054, 427.1498760334111, 603.5210036808658, 320.7432925974302, 732.2709612086246, 391.6291689397211, 443.9151858687777, 410.3690466348668, 306.2619068294475, 330.08352995374474, 8.922374330743068, 3.5642265678568688, 4.482683844821442, 6.243741486778962, 3.558259125175973, 3.558169231251379, 10.566563325894839, 2.6537951574493204, 15.796913963672361, 2.6522041498006783, 5.35257663764601, 10.558466883238822, 6.225575235561459, 5.235333332728198, 3.4996977430963065, 9.79039567893576, 7.099548243951839, 5.337905627232763, 2.6739467793751435, 4.365889670445706, 14.872262635857151, 2.6766619024001135, 4.390655819038048, 7.903500250731701, 5.349990650053646, 8.5796012597339, 2.6873398862455846, 7.167786229475866, 8.832504378708064, 5.331771969430131, 27.387852099262236, 127.08566416333598, 7.13223263511407, 14.119689158435106, 21.50180509921822, 18.69373288570417, 22.17935381048982, 38.19573647170427, 14.164571179165403, 17.894188887233284, 22.622404668574873, 27.26532671244069, 100.09727674099933, 98.81828845826503, 124.59117594224521, 59.21513038071909, 15.146284511746146, 732.2709612086246, 28.486561364688995, 253.96158125537877, 603.5210036808658, 329.86264020072497, 32.482673133181386, 55.75798884982477, 865.5219124085722, 336.1296215868068, 368.71906457262634, 699.0024790887342, 324.4345984025723, 239.52785364424756, 823.8548435331351, 359.2638245893535, 251.35787291401056, 158.42212790261993, 136.18720898474385, 250.26247229849514, 271.0038475582285, 148.93332821088862, 342.39797102436455, 647.4637379694797, 391.6291689397211, 410.3690466348668, 423.1697532174564, 391.9431506932978, 427.1498760334111, 351.97618020160746, 312.17779271868056, 344.17514190086615, 330.08352995374474, 443.9151858687777, 367.92377395170485, 506.07109139201884, 981.0736653002956, 5.899863373394192, 5.931371105964429, 14.973205661910487, 3.939933426447262, 3.9328030472563045, 12.695378196628994, 9.895977726387443, 6.852122616621043, 5.819375682406497, 6.804528669774536, 2.9200559080856, 2.9185583157525903, 6.7900235530807835, 3.8590909688769246, 2.9007907453232, 3.882275260247264, 9.785676430772147, 6.888739037696729, 11.550499332759204, 3.8750587425301526, 7.713553371635474, 2.8923497992804, 12.526874823927775, 6.831594215015935, 9.66072907578433, 16.432123562915276, 2.8968382655244787, 6.75462037233472, 5.753624271075396, 3.87674852521193, 8.811467682088525, 12.591912114954797, 8.652113067129626, 11.580056307489698, 9.825092814644321, 12.431878555987192, 25.834808917083468, 11.46567690793788, 14.446900871745097, 8.600591013602257, 22.53558281063441, 89.98840314870611, 30.781573460055814, 233.0009102474045, 19.64104489736658, 647.4637379694797, 85.57386847036808, 368.71906457262634, 369.9640546804744, 346.7028246954458, 168.0861370344912, 506.07109139201884, 288.2938724158402, 379.6189687167381, 163.3188619388161, 981.0736653002956, 190.77087698751257, 182.9994880802771, 295.3874073755299, 445.5236462483561, 699.0024790887342, 201.24675119728693, 346.53279405026444, 331.97441066885494, 823.8548435331351, 865.5219124085722, 410.3690466348668, 443.9151858687777, 267.6466500618275, 337.1961787721601, 271.0038475582285, 391.6291689397211, 423.1697532174564, 351.97618020160746, 602.2405319870247, 427.1498760334111, 342.39797102436455, 316.1372230716006, 10.853698995843924, 5.878395050340616, 8.308460807615923, 7.6298619067781255, 9.42967487984594, 10.155236709482377, 7.54996531957744, 7.639677219889017, 4.2395126933027365, 11.219686253914194, 8.481722173602122, 2.5387104136191536, 2.5372390262795435, 7.541199190722846, 6.8926200593203175, 6.788845263020615, 3.265295825614285, 5.926248120600838, 2.537588890543039, 2.543046313583379, 2.5392474454330474, 6.874744990080198, 10.269486867488395, 4.216028679078579, 4.238104563060313, 5.910460862231321, 12.002944177013973, 7.750496672508659, 13.598650364360106, 6.784323112162698, 5.952320405618552, 7.602982347445259, 15.763325625355867, 11.967591996625226, 7.740064436831314, 51.73395830233107, 11.006061531075902, 10.111014467307477, 25.30997825215641, 98.74975051668329, 152.20593269554973, 103.86935945099671, 981.0736653002956, 35.25224548766669, 30.523983441096462, 12.909736944115428, 330.08352995374474, 119.81687522517463, 602.2405319870247, 171.69220757159158, 302.34473201876136, 215.51345773150499, 865.5219124085722, 118.80870492464331, 391.9431506932978, 73.7453364313766, 159.02350983935756, 123.33976975171802, 329.15584056522636, 163.11539027154694, 197.50659037810547, 159.42532783192033, 191.7590080244526, 230.4388218456979, 359.61834965383093, 367.92377395170485, 162.21566759088896, 445.5236462483561, 823.8548435331351, 336.1296215868068, 732.2709612086246, 337.1961787721601, 647.4637379694797, 279.9567455723113, 334.9029700562997, 317.47144102245693, 603.5210036808658, 271.0038475582285, 288.2938724158402, 276.0006149116384, 423.1697532174564, 506.07109139201884, 320.7432925974302, 7.525197825570821, 6.628418002196712, 12.676222064208307, 3.3459356143747403, 3.3447227134974056, 5.0630629747012, 3.3667035199616397, 8.471385713051747, 3.365337485473616, 5.926061499516581, 6.75939830743386, 2.5233078302799545, 2.5214210591209674, 20.438114835244583, 20.395798574539107, 11.916789598232029, 2.5226046768803956, 2.520861575756198, 7.759799808164699, 5.069363700282319, 3.376803689117025, 4.223076348098986, 9.356701832547524, 22.044324245155213, 6.702354553564679, 4.290940889530474, 5.1217918954748525, 2.5334857382504565, 5.933097233329145, 5.082637497825647, 7.572050119632274, 19.12311500942782, 11.859478286735346, 7.721551117938299, 15.522610409927752, 17.957933061316538, 8.470123376859, 13.181756021321828, 18.327489994306635, 22.197663351364238, 43.68598256297183, 699.0024790887342, 28.11117071143688, 304.66188364496685, 76.77363700189198, 865.5219124085722, 76.32019140025125, 104.7580068421466, 55.100417416645534, 427.1498760334111, 506.07109139201884, 254.7634921125424, 647.4637379694797, 732.2709612086246, 138.72533358194767, 139.7155270638636, 369.9640546804744, 295.3874073755299, 169.5330338227269, 410.3690466348668, 239.75034785122915, 182.28414008, 981.0736653002956, 346.53279405026444, 279.9567455723113, 166.51594498745754, 823.8548435331351, 445.5236462483561, 330.08352995374474, 351.97618020160746, 602.2405319870247, 329.15584056522636, 423.1697532174564, 283.30257557234927, 344.17514190086615, 359.61834965383093, 317.05462444452445, 359.2638245893535, 443.9151858687777, 317.47144102245693, 603.5210036808658, 4.185104334648363, 3.312942051015818, 4.098215174348266, 8.446308693390167, 9.332792373092277, 6.768871439489985, 17.672982735779954, 2.528417340896092, 7.658488090430619, 5.840777091074465, 5.789660151998841, 5.830678735327085, 7.519072114054979, 5.0003653855606185, 2.523407970896744, 11.900269801786994, 4.239978520858691, 2.497863189234142, 4.232663667853387, 4.287178625067177, 5.910875612682216, 5.939169535821859, 2.538519191893054, 16.17361350906026, 4.136137912153731, 6.026711328438935, 6.646910026496928, 11.93398963455609, 4.143700440555628, 5.916926410790316, 12.673060513721019, 18.038605652931526, 18.666894131028723, 28.955710498078254, 14.40155536021853, 23.785592238090562, 20.541149196413937, 8.473582283752384, 15.633843759311372, 10.328286382329525, 40.68696012139113, 15.310028156470228, 9.369387597411725, 12.612747603538985, 19.52980593594756, 28.050286920885313, 21.71671271656269, 9.278385847289904, 215.51345773150499, 44.625977780145, 54.131604520627874, 30.743672375331634, 176.23940329587543, 148.46900867953937, 103.07911065115292, 66.02441116828491, 865.5219124085722, 75.18481444044336, 92.3296111405371, 603.5210036808658, 121.36662826904838, 445.5236462483561, 317.47144102245693, 180.58096017064474, 410.3690466348668, 145.15295926894504, 143.8463611063213, 324.4345984025723, 317.05462444452445, 367.92377395170485, 732.2709612086246, 283.30257557234927, 211.8062347037494, 226.80627544907273, 823.8548435331351, 346.53279405026444, 981.0736653002956, 334.9029700562997, 297.4486613186819, 275.58135880900045, 296.6555994491202, 602.2405319870247, 329.15584056522636, 699.0024790887342, 427.1498760334111, 423.1697532174564, 647.4637379694797, 4.04765405430112, 9.148512559924919, 4.103569674181438, 3.294680468877721, 11.667806589456447, 2.474371315794841, 2.473808123632321, 2.473612103183597, 3.2966637029538557, 6.689305017657717, 6.582537685136946, 4.944443792084775, 12.653860663474067, 2.476138330928594, 4.022657518251091, 4.239525439323237, 2.4740905669826803, 11.658682995127803, 2.4731554797935655, 5.852102607498684, 4.21083958189813, 3.3343884446726, 2.476702054622424, 3.3220901036824384, 5.529452616869976, 4.207124325243722, 3.29913690630004, 4.980450950712158, 7.377928798525486, 4.192079329949689, 11.466758181409471, 22.442193833142802, 6.640289507087001, 20.19033245607594, 26.672148430547217, 11.649227002180337, 5.798311331388844, 17.784546904301845, 15.112469934325878, 5.867626522257503, 5.004471731338279, 8.212053400956332, 10.134739697628161, 8.350631059439193, 10.843677432345846, 25.49089056285414, 134.82319587967535, 14.27283191605182, 18.35522546988193, 72.37961787826417, 100.05624839179674, 271.0038475582285, 25.794307781163745, 136.0879443762915, 102.04692511153218, 342.39797102436455, 74.2311365664896, 24.82850286418918, 19.351413489345457, 152.20593269554973, 228.1965648963956, 50.10758252084024, 175.31046751295082, 732.2709612086246, 251.35787291401056, 346.7028246954458, 344.17514190086615, 226.80627544907273, 157.5567746290912, 603.5210036808658, 865.5219124085722, 283.30257557234927, 368.71906457262634, 324.4345984025723, 145.15295926894504, 823.8548435331351, 445.5236462483561, 288.2938724158402, 647.4637379694797, 320.7432925974302, 506.07109139201884, 699.0024790887342, 304.66188364496685, 337.1961787721601, 423.1697532174564, 981.0736653002956, 260.133908945612, 602.2405319870247, 6.3553725722374494, 5.3728931286625015, 2.736632089177025, 2.067638452501559, 2.066906155183213, 11.132691586284384, 4.228854675866583, 3.482496388241403, 8.312516151398587, 2.787368756313084, 3.4553185547327963, 4.92109789229765, 4.919609732956195, 29.525966146963178, 2.1079455048895603, 2.813145309444372, 2.8289444652933655, 2.806337829304004, 4.249203173486707, 7.7699825056141965, 4.886432248807731, 2.868923913620552, 5.611137706519285, 5.672169180266371, 2.1155036587518192, 5.639480767395613, 2.1159394582388944, 4.268160194076618, 2.8345712638417466, 5.630089118698163, 8.652453838229532, 4.9762237224736685, 9.231398898036115, 4.968513508761184, 8.601266303966685, 17.589131302764354, 4.229417474313328, 4.247646296496323, 9.517691981215787, 8.03812281207423, 9.011615353740261, 13.091524146745025, 28.391821657467517, 96.51761381084722, 9.028237330629238, 5.766276092761849, 346.7028246954458, 114.08289742194457, 297.4486613186819, 865.5219124085722, 203.54765653739452, 144.61321138183354, 28.148184517427044, 699.0024790887342, 223.55091330827085, 329.15584056522636, 981.0736653002956, 443.9151858687777, 603.5210036808658, 410.3690466348668, 306.2619068294475, 329.86264020072497, 732.2709612086246, 216.33928779136374, 423.1697532174564, 317.47144102245693, 346.53279405026444, 445.5236462483561, 351.97618020160746, 823.8548435331351, 296.3331719967939, 602.2405319870247, 391.9431506932978, 337.1961787721601, 268.47411830760615, 359.61834965383093], \"Category\": [\"Default\", \"Default\", \"Default\", \"Default\", \"Default\", \"Default\", \"Default\", \"Default\", \"Default\", \"Default\", \"Default\", \"Default\", \"Default\", \"Default\", \"Default\", \"Default\", \"Default\", \"Default\", \"Default\", \"Default\", \"Default\", \"Default\", \"Default\", \"Default\", \"Default\", \"Default\", \"Default\", \"Default\", \"Default\", \"Default\", \"Topic1\", \"Topic1\", \"Topic1\", \"Topic1\", \"Topic1\", \"Topic1\", \"Topic1\", \"Topic1\", \"Topic1\", \"Topic1\", \"Topic1\", \"Topic1\", \"Topic1\", \"Topic1\", \"Topic1\", \"Topic1\", \"Topic1\", \"Topic1\", \"Topic1\", \"Topic1\", \"Topic1\", \"Topic1\", \"Topic1\", \"Topic1\", \"Topic1\", \"Topic1\", \"Topic1\", \"Topic1\", \"Topic1\", \"Topic1\", \"Topic1\", \"Topic1\", \"Topic1\", \"Topic1\", \"Topic1\", \"Topic1\", \"Topic1\", \"Topic1\", \"Topic1\", \"Topic1\", \"Topic1\", \"Topic1\", \"Topic1\", \"Topic1\", \"Topic1\", \"Topic1\", \"Topic1\", \"Topic1\", \"Topic1\", \"Topic1\", \"Topic1\", \"Topic1\", \"Topic1\", \"Topic1\", \"Topic1\", \"Topic1\", \"Topic1\", \"Topic1\", \"Topic1\", \"Topic1\", \"Topic1\", \"Topic1\", \"Topic1\", \"Topic1\", \"Topic1\", \"Topic1\", \"Topic1\", \"Topic1\", \"Topic1\", \"Topic1\", \"Topic1\", \"Topic1\", \"Topic1\", \"Topic1\", \"Topic1\", \"Topic1\", \"Topic1\", \"Topic1\", \"Topic1\", \"Topic1\", \"Topic1\", \"Topic1\", \"Topic1\", \"Topic1\", \"Topic1\", \"Topic1\", \"Topic1\", \"Topic1\", \"Topic2\", \"Topic2\", \"Topic2\", \"Topic2\", \"Topic2\", \"Topic2\", \"Topic2\", \"Topic2\", \"Topic2\", \"Topic2\", \"Topic2\", \"Topic2\", \"Topic2\", \"Topic2\", \"Topic2\", \"Topic2\", \"Topic2\", \"Topic2\", \"Topic2\", \"Topic2\", \"Topic2\", \"Topic2\", \"Topic2\", \"Topic2\", \"Topic2\", \"Topic2\", \"Topic2\", \"Topic2\", \"Topic2\", \"Topic2\", \"Topic2\", \"Topic2\", \"Topic2\", \"Topic2\", \"Topic2\", \"Topic2\", \"Topic2\", \"Topic2\", \"Topic2\", \"Topic2\", \"Topic2\", \"Topic2\", \"Topic2\", \"Topic2\", \"Topic2\", \"Topic2\", \"Topic2\", \"Topic2\", \"Topic2\", \"Topic2\", \"Topic2\", \"Topic2\", \"Topic2\", \"Topic2\", \"Topic2\", \"Topic2\", \"Topic2\", \"Topic2\", \"Topic2\", \"Topic2\", \"Topic2\", \"Topic2\", \"Topic2\", \"Topic2\", \"Topic2\", \"Topic2\", \"Topic2\", \"Topic2\", \"Topic2\", \"Topic2\", \"Topic2\", \"Topic2\", \"Topic2\", \"Topic2\", \"Topic2\", \"Topic2\", \"Topic2\", \"Topic2\", \"Topic2\", \"Topic2\", \"Topic2\", \"Topic2\", \"Topic2\", \"Topic2\", \"Topic2\", \"Topic2\", \"Topic2\", \"Topic3\", \"Topic3\", \"Topic3\", \"Topic3\", \"Topic3\", \"Topic3\", \"Topic3\", \"Topic3\", \"Topic3\", \"Topic3\", \"Topic3\", \"Topic3\", \"Topic3\", \"Topic3\", \"Topic3\", \"Topic3\", \"Topic3\", \"Topic3\", \"Topic3\", \"Topic3\", \"Topic3\", \"Topic3\", \"Topic3\", \"Topic3\", \"Topic3\", \"Topic3\", \"Topic3\", \"Topic3\", \"Topic3\", \"Topic3\", \"Topic3\", \"Topic3\", \"Topic3\", \"Topic3\", \"Topic3\", \"Topic3\", \"Topic3\", \"Topic3\", \"Topic3\", \"Topic3\", \"Topic3\", \"Topic3\", \"Topic3\", \"Topic3\", \"Topic3\", \"Topic3\", \"Topic3\", \"Topic3\", \"Topic3\", \"Topic3\", \"Topic3\", \"Topic3\", \"Topic3\", \"Topic3\", \"Topic3\", \"Topic3\", \"Topic3\", \"Topic3\", \"Topic3\", \"Topic3\", \"Topic3\", \"Topic3\", \"Topic3\", \"Topic3\", \"Topic3\", \"Topic3\", \"Topic3\", \"Topic3\", \"Topic3\", \"Topic3\", \"Topic3\", \"Topic3\", \"Topic3\", \"Topic3\", \"Topic3\", \"Topic3\", \"Topic3\", \"Topic3\", \"Topic3\", \"Topic3\", \"Topic3\", \"Topic3\", \"Topic3\", \"Topic3\", \"Topic3\", \"Topic3\", \"Topic4\", \"Topic4\", \"Topic4\", \"Topic4\", \"Topic4\", \"Topic4\", \"Topic4\", \"Topic4\", \"Topic4\", \"Topic4\", \"Topic4\", \"Topic4\", \"Topic4\", \"Topic4\", \"Topic4\", \"Topic4\", \"Topic4\", \"Topic4\", \"Topic4\", \"Topic4\", \"Topic4\", \"Topic4\", \"Topic4\", \"Topic4\", \"Topic4\", \"Topic4\", \"Topic4\", \"Topic4\", \"Topic4\", \"Topic4\", \"Topic4\", \"Topic4\", \"Topic4\", \"Topic4\", \"Topic4\", \"Topic4\", \"Topic4\", \"Topic4\", \"Topic4\", \"Topic4\", \"Topic4\", \"Topic4\", \"Topic4\", \"Topic4\", \"Topic4\", \"Topic4\", \"Topic4\", \"Topic4\", \"Topic4\", \"Topic4\", \"Topic4\", \"Topic4\", \"Topic4\", \"Topic4\", \"Topic4\", \"Topic4\", \"Topic4\", \"Topic4\", \"Topic4\", \"Topic4\", \"Topic4\", \"Topic4\", \"Topic4\", \"Topic4\", \"Topic4\", \"Topic4\", \"Topic4\", \"Topic4\", \"Topic4\", \"Topic4\", \"Topic4\", \"Topic4\", \"Topic4\", \"Topic4\", \"Topic4\", \"Topic4\", \"Topic4\", \"Topic4\", \"Topic4\", \"Topic4\", \"Topic4\", \"Topic4\", \"Topic4\", \"Topic5\", \"Topic5\", \"Topic5\", \"Topic5\", \"Topic5\", \"Topic5\", \"Topic5\", \"Topic5\", \"Topic5\", \"Topic5\", \"Topic5\", \"Topic5\", \"Topic5\", \"Topic5\", \"Topic5\", \"Topic5\", \"Topic5\", \"Topic5\", \"Topic5\", \"Topic5\", \"Topic5\", \"Topic5\", \"Topic5\", \"Topic5\", \"Topic5\", \"Topic5\", \"Topic5\", \"Topic5\", \"Topic5\", \"Topic5\", \"Topic5\", \"Topic5\", \"Topic5\", \"Topic5\", \"Topic5\", \"Topic5\", \"Topic5\", \"Topic5\", \"Topic5\", \"Topic5\", \"Topic5\", \"Topic5\", \"Topic5\", \"Topic5\", \"Topic5\", \"Topic5\", \"Topic5\", \"Topic5\", \"Topic5\", \"Topic5\", \"Topic5\", \"Topic5\", \"Topic5\", \"Topic5\", \"Topic5\", \"Topic5\", \"Topic5\", \"Topic5\", \"Topic5\", \"Topic5\", \"Topic5\", \"Topic5\", \"Topic5\", \"Topic5\", \"Topic5\", \"Topic5\", \"Topic5\", \"Topic5\", \"Topic5\", \"Topic5\", \"Topic5\", \"Topic5\", \"Topic5\", \"Topic5\", \"Topic5\", \"Topic5\", \"Topic5\", \"Topic5\", \"Topic6\", \"Topic6\", \"Topic6\", \"Topic6\", \"Topic6\", \"Topic6\", \"Topic6\", \"Topic6\", \"Topic6\", \"Topic6\", \"Topic6\", \"Topic6\", \"Topic6\", \"Topic6\", \"Topic6\", \"Topic6\", \"Topic6\", \"Topic6\", \"Topic6\", \"Topic6\", \"Topic6\", \"Topic6\", \"Topic6\", \"Topic6\", \"Topic6\", \"Topic6\", \"Topic6\", \"Topic6\", \"Topic6\", \"Topic6\", \"Topic6\", \"Topic6\", \"Topic6\", \"Topic6\", \"Topic6\", \"Topic6\", \"Topic6\", \"Topic6\", \"Topic6\", \"Topic6\", \"Topic6\", \"Topic6\", \"Topic6\", \"Topic6\", \"Topic6\", \"Topic6\", \"Topic6\", \"Topic6\", \"Topic6\", \"Topic6\", \"Topic6\", \"Topic6\", \"Topic6\", \"Topic6\", \"Topic6\", \"Topic6\", \"Topic6\", \"Topic6\", \"Topic6\", \"Topic6\", \"Topic6\", \"Topic6\", \"Topic6\", \"Topic6\", \"Topic6\", \"Topic6\", \"Topic6\", \"Topic6\", \"Topic6\", \"Topic6\", \"Topic6\", \"Topic6\", \"Topic6\", \"Topic6\", \"Topic6\", \"Topic6\", \"Topic6\", \"Topic6\", \"Topic6\", \"Topic6\", \"Topic6\", \"Topic6\", \"Topic6\", \"Topic7\", \"Topic7\", \"Topic7\", \"Topic7\", \"Topic7\", \"Topic7\", \"Topic7\", \"Topic7\", \"Topic7\", \"Topic7\", \"Topic7\", \"Topic7\", \"Topic7\", \"Topic7\", \"Topic7\", \"Topic7\", \"Topic7\", \"Topic7\", \"Topic7\", \"Topic7\", \"Topic7\", \"Topic7\", \"Topic7\", \"Topic7\", \"Topic7\", \"Topic7\", \"Topic7\", \"Topic7\", \"Topic7\", \"Topic7\", \"Topic7\", \"Topic7\", \"Topic7\", \"Topic7\", \"Topic7\", \"Topic7\", \"Topic7\", \"Topic7\", \"Topic7\", \"Topic7\", \"Topic7\", \"Topic7\", \"Topic7\", \"Topic7\", \"Topic7\", \"Topic7\", \"Topic7\", \"Topic7\", \"Topic7\", \"Topic7\", \"Topic7\", \"Topic7\", \"Topic7\", \"Topic7\", \"Topic7\", \"Topic7\", \"Topic7\", \"Topic7\", \"Topic7\", \"Topic7\", \"Topic7\", \"Topic7\", \"Topic7\", \"Topic7\", \"Topic7\", \"Topic7\", \"Topic7\", \"Topic7\", \"Topic7\", \"Topic7\", \"Topic7\", \"Topic7\", \"Topic7\", \"Topic7\", \"Topic7\", \"Topic7\", \"Topic7\", \"Topic7\", \"Topic7\", \"Topic7\", \"Topic7\", \"Topic8\", \"Topic8\", \"Topic8\", \"Topic8\", \"Topic8\", \"Topic8\", \"Topic8\", \"Topic8\", \"Topic8\", \"Topic8\", \"Topic8\", \"Topic8\", \"Topic8\", \"Topic8\", \"Topic8\", \"Topic8\", \"Topic8\", \"Topic8\", \"Topic8\", \"Topic8\", \"Topic8\", \"Topic8\", \"Topic8\", \"Topic8\", \"Topic8\", \"Topic8\", \"Topic8\", \"Topic8\", \"Topic8\", \"Topic8\", \"Topic8\", \"Topic8\", \"Topic8\", \"Topic8\", \"Topic8\", \"Topic8\", \"Topic8\", \"Topic8\", \"Topic8\", \"Topic8\", \"Topic8\", \"Topic8\", \"Topic8\", \"Topic8\", \"Topic8\", \"Topic8\", \"Topic8\", \"Topic8\", \"Topic8\", \"Topic8\", \"Topic8\", \"Topic8\", \"Topic8\", \"Topic8\", \"Topic8\", \"Topic8\", \"Topic8\", \"Topic8\", \"Topic8\", \"Topic8\", \"Topic8\", \"Topic8\", \"Topic8\", \"Topic8\", \"Topic8\", \"Topic8\", \"Topic8\", \"Topic8\", \"Topic8\", \"Topic8\", \"Topic8\", \"Topic8\", \"Topic8\", \"Topic8\", \"Topic8\", \"Topic8\", \"Topic8\", \"Topic8\", \"Topic8\", \"Topic8\", \"Topic8\", \"Topic8\", \"Topic8\", \"Topic8\", \"Topic8\", \"Topic8\", \"Topic8\", \"Topic9\", \"Topic9\", \"Topic9\", \"Topic9\", \"Topic9\", \"Topic9\", \"Topic9\", \"Topic9\", \"Topic9\", \"Topic9\", \"Topic9\", \"Topic9\", \"Topic9\", \"Topic9\", \"Topic9\", \"Topic9\", \"Topic9\", \"Topic9\", \"Topic9\", \"Topic9\", \"Topic9\", \"Topic9\", \"Topic9\", \"Topic9\", \"Topic9\", \"Topic9\", \"Topic9\", \"Topic9\", \"Topic9\", \"Topic9\", \"Topic9\", \"Topic9\", \"Topic9\", \"Topic9\", \"Topic9\", \"Topic9\", \"Topic9\", \"Topic9\", \"Topic9\", \"Topic9\", \"Topic9\", \"Topic9\", \"Topic9\", \"Topic9\", \"Topic9\", \"Topic9\", \"Topic9\", \"Topic9\", \"Topic9\", \"Topic9\", \"Topic9\", \"Topic9\", \"Topic9\", \"Topic9\", \"Topic9\", \"Topic9\", \"Topic9\", \"Topic9\", \"Topic9\", \"Topic9\", \"Topic9\", \"Topic9\", \"Topic9\", \"Topic9\", \"Topic9\", \"Topic9\", \"Topic9\", \"Topic9\", \"Topic9\", \"Topic9\", \"Topic9\", \"Topic9\", \"Topic9\", \"Topic9\", \"Topic9\", \"Topic9\", \"Topic9\", \"Topic9\", \"Topic9\", \"Topic9\", \"Topic9\", \"Topic9\", \"Topic9\", \"Topic9\", \"Topic9\", \"Topic9\", \"Topic9\", \"Topic9\", \"Topic10\", \"Topic10\", \"Topic10\", \"Topic10\", \"Topic10\", \"Topic10\", \"Topic10\", \"Topic10\", \"Topic10\", \"Topic10\", \"Topic10\", \"Topic10\", \"Topic10\", \"Topic10\", \"Topic10\", \"Topic10\", \"Topic10\", \"Topic10\", \"Topic10\", \"Topic10\", \"Topic10\", \"Topic10\", \"Topic10\", \"Topic10\", \"Topic10\", \"Topic10\", \"Topic10\", \"Topic10\", \"Topic10\", \"Topic10\", \"Topic10\", \"Topic10\", \"Topic10\", \"Topic10\", \"Topic10\", \"Topic10\", \"Topic10\", \"Topic10\", \"Topic10\", \"Topic10\", \"Topic10\", \"Topic10\", \"Topic10\", \"Topic10\", \"Topic10\", \"Topic10\", \"Topic10\", \"Topic10\", \"Topic10\", \"Topic10\", \"Topic10\", \"Topic10\", \"Topic10\", \"Topic10\", \"Topic10\", \"Topic10\", \"Topic10\", \"Topic10\", \"Topic10\", \"Topic10\", \"Topic10\", \"Topic10\", \"Topic10\", \"Topic10\", \"Topic10\", \"Topic10\", \"Topic10\", \"Topic10\", \"Topic10\", \"Topic10\", \"Topic10\", \"Topic10\", \"Topic10\", \"Topic10\", \"Topic10\", \"Topic10\"], \"logprob\": [30.0, 29.0, 28.0, 27.0, 26.0, 25.0, 24.0, 23.0, 22.0, 21.0, 20.0, 19.0, 18.0, 17.0, 16.0, 15.0, 14.0, 13.0, 12.0, 11.0, 10.0, 9.0, 8.0, 7.0, 6.0, 5.0, 4.0, 3.0, 2.0, 1.0, -8.4049, -9.5393, -8.391, -7.6523, -7.9921, -7.7051, -9.1955, -9.3884, -8.8016, -9.3969, -9.634, -7.5858, -9.9301, -8.7305, -8.6448, -8.3434, -8.4937, -8.4217, -8.8596, -9.2653, -9.0004, -9.472, -8.1299, -9.1251, -8.306, -9.4651, -8.1914, -9.1458, -9.4806, -9.4952, -9.1576, -8.4719, -7.3204, -8.7119, -8.7939, -7.4707, -6.9898, -7.7132, -8.5673, -7.9636, -7.4699, -7.7036, -8.6416, -7.0157, -8.216, -8.66, -6.69, -6.3642, -6.9309, -7.8448, -5.5326, -5.1736, -6.5506, -7.3815, -7.2113, -6.378, -7.002, -6.6615, -6.4751, -5.6532, -5.5951, -6.1513, -6.1421, -6.1657, -6.8077, -6.1196, -6.3103, -6.3751, -6.5258, -5.9994, -6.3021, -6.6058, -6.3277, -6.6289, -6.4829, -6.4257, -6.4245, -6.4713, -6.0798, -6.4885, -6.6052, -6.558, -6.5028, -6.3648, -6.5669, -6.5114, -6.5598, -6.5617, -8.6452, -8.8107, -9.1421, -8.5533, -8.6785, -9.1438, -8.8526, -9.1749, -9.4026, -8.1563, -8.0276, -8.5953, -8.8502, -9.7035, -8.2299, -8.5028, -8.1673, -8.8677, -8.7265, -8.7482, -8.0399, -9.7287, -9.7287, -9.0396, -8.6439, -8.757, -9.4623, -9.4972, -9.4582, -9.483, -7.6259, -9.0658, -8.1701, -7.4741, -7.7215, -7.8146, -8.6731, -7.4244, -6.819, -7.6098, -8.2436, -7.5254, -8.2035, -6.7687, -6.3606, -7.2653, -7.9827, -6.6782, -7.1403, -6.3235, -7.2902, -5.8916, -6.7491, -5.4894, -5.6455, -7.0146, -5.4536, -6.8216, -5.6819, -5.6282, -5.868, -5.5322, -5.9995, -6.9032, -6.6246, -6.2568, -6.4791, -5.6255, -6.1108, -6.3424, -6.2582, -6.4621, -6.1537, -6.1929, -6.4069, -6.3082, -6.5998, -6.4189, -6.5652, -6.396, -6.4165, -6.2921, -6.4418, -6.5066, -6.4429, -6.4902, -6.4732, -8.6464, -8.9863, -8.8771, -7.622, -7.8633, -8.6249, -6.6643, -8.3521, -8.0234, -9.3508, -9.3588, -8.0243, -8.7962, -8.6553, -8.567, -8.5566, -9.6616, -8.7019, -8.1163, -7.7125, -9.6799, -8.8193, -9.6886, -7.9541, -9.1946, -8.3772, -9.173, -9.3987, -7.2042, -9.1804, -7.9067, -8.0333, -8.4182, -8.045, -8.1879, -8.4126, -7.8701, -7.1099, -7.678, -8.2842, -6.3632, -7.7946, -8.1215, -8.2411, -7.552, -7.1319, -7.1032, -7.7763, -8.2018, -5.5097, -5.7497, -6.4791, -7.5175, -5.746, -7.317, -7.4875, -6.8991, -5.6167, -6.3324, -6.0908, -6.2916, -5.9676, -6.4199, -7.0228, -6.3774, -6.392, -6.4151, -6.4308, -6.6758, -6.5985, -6.3305, -6.5459, -6.5268, -6.3989, -6.0385, -6.5213, -6.6103, -6.401, -6.2825, -6.511, -6.2182, -6.4393, -6.4186, -6.4517, -6.5403, -6.5261, -8.2305, -9.2098, -9.0571, -8.7289, -9.2938, -9.2951, -8.2221, -9.6054, -7.8248, -9.6122, -8.913, -8.2371, -8.7746, -8.9502, -9.3539, -8.3279, -8.6508, -8.9363, -9.6351, -9.1531, -7.9298, -9.6468, -9.152, -8.5665, -8.9569, -8.4912, -9.6522, -8.6729, -8.4699, -8.9805, -7.3452, -5.8387, -8.6955, -8.0601, -7.6817, -7.8187, -7.6638, -7.2105, -8.1278, -7.9364, -7.7434, -7.6126, -6.6472, -6.6819, -6.5209, -7.1166, -8.1373, -5.4458, -7.7244, -6.2235, -5.6729, -6.0887, -7.6354, -7.2911, -5.548, -6.1884, -6.153, -5.7633, -6.2382, -6.4502, -5.763, -6.2361, -6.4702, -6.7374, -6.8358, -6.5353, -6.5012, -6.8008, -6.4042, -6.1261, -6.3866, -6.3762, -6.37, -6.4149, -6.4105, -6.5063, -6.5575, -6.5377, -6.5666, -6.5313, -6.572, -6.5568, -6.5367, -8.5577, -8.5556, -7.6298, -8.9783, -8.9891, -7.8385, -8.1315, -8.5029, -8.6677, -8.5123, -9.3603, -9.361, -8.5214, -9.1134, -9.4078, -9.1181, -8.2024, -8.5647, -8.0497, -9.1428, -8.4625, -9.4457, -7.981, -8.5933, -8.248, -7.7187, -9.456, -8.6103, -8.7715, -9.1667, -8.3475, -8.0119, -8.393, -8.1231, -8.2762, -8.0735, -7.4598, -8.1666, -7.9732, -8.4229, -7.6193, -6.4812, -7.4104, -5.8322, -7.7789, -5.2556, -6.7446, -5.7323, -5.7804, -5.8555, -6.3788, -5.6678, -6.0394, -5.8594, -6.4283, -5.2788, -6.3276, -6.3544, -6.0543, -5.8022, -5.5551, -6.3343, -6.0295, -6.0557, -5.5405, -5.5304, -5.9753, -5.9344, -6.2302, -6.1145, -6.2588, -6.0741, -6.109, -6.2115, -6.0588, -6.1633, -6.2555, -6.3131, -7.8567, -8.5044, -8.2538, -8.3393, -8.1306, -8.0609, -8.3836, -8.3718, -8.9725, -7.9995, -8.2795, -9.4878, -9.4886, -8.4028, -8.4992, -8.5181, -9.2509, -8.6576, -9.5087, -9.5078, -9.5097, -8.5308, -8.1345, -9.0299, -9.028, -8.6989, -7.9937, -8.4314, -7.8726, -8.5693, -8.7043, -8.4739, -7.8252, -8.0861, -8.484, -6.7899, -8.1791, -8.281, -7.5129, -6.493, -6.1796, -6.5112, -4.8899, -7.376, -7.5134, -8.1181, -5.9801, -6.6824, -5.6709, -6.4663, -6.1391, -6.3548, -5.5276, -6.7623, -6.099, -7.0783, -6.6515, -6.8034, -6.2786, -6.66, -6.5808, -6.7013, -6.6109, -6.5237, -6.3094, -6.3188, -6.7157, -6.2523, -5.9995, -6.408, -6.0922, -6.4181, -6.2264, -6.5306, -6.4832, -6.4997, -6.3357, -6.5679, -6.5661, -6.5843, -6.5422, -6.5392, -6.5714, -8.17, -8.3604, -7.7245, -9.0615, -9.081, -8.6683, -9.1048, -8.1837, -9.1111, -8.5535, -8.4289, -9.4194, -9.4206, -7.3317, -7.3398, -7.8822, -9.436, -9.4504, -8.3323, -8.7785, -9.2014, -8.9781, -8.1838, -7.3345, -8.5299, -8.9765, -8.8019, -9.5069, -8.6586, -8.8139, -8.4227, -7.5686, -8.0232, -8.4416, -7.8416, -7.7506, -8.3895, -8.0349, -7.8013, -7.6781, -7.1818, -5.2141, -7.5604, -5.9322, -6.8982, -5.265, -6.9238, -6.7475, -7.186, -5.9097, -5.813, -6.2407, -5.6836, -5.6511, -6.6452, -6.669, -6.1559, -6.2847, -6.6168, -6.1674, -6.4485, -6.5891, -5.7352, -6.2952, -6.4019, -6.6561, -5.9283, -6.2509, -6.4177, -6.3925, -6.2153, -6.4255, -6.344, -6.4936, -6.4731, -6.4785, -6.5132, -6.515, -6.5192, -6.5767, -6.5811, -8.5374, -8.8937, -8.683, -7.96, -7.9105, -8.2408, -7.2877, -9.2344, -8.1294, -8.4043, -8.4151, -8.4258, -8.1745, -8.5855, -9.2721, -7.7223, -8.7564, -9.2861, -8.7644, -8.7536, -8.433, -8.4314, -9.2827, -7.4313, -8.7976, -8.4288, -8.3382, -7.7548, -8.8131, -8.4577, -7.7031, -7.3748, -7.3576, -6.9476, -7.6121, -7.1444, -7.303, -8.1253, -7.5974, -7.9711, -6.7954, -7.6406, -8.0633, -7.8263, -7.5038, -7.2307, -7.4413, -8.0817, -5.8099, -6.9451, -6.8106, -7.2331, -6.1673, -6.3626, -6.638, -6.9202, -5.4776, -6.8955, -6.8075, -5.8559, -6.6869, -6.0879, -6.2594, -6.5164, -6.1618, -6.6256, -6.6337, -6.3097, -6.3288, -6.3247, -6.0881, -6.4418, -6.5795, -6.5622, -6.1631, -6.4523, -6.1597, -6.5082, -6.5487, -6.5754, -6.5842, -6.4929, -6.5954, -6.5155, -6.5683, -6.5817, -6.596, -8.6588, -7.8513, -8.6777, -8.9017, -7.6518, -9.2131, -9.2134, -9.2136, -8.9481, -8.2602, -8.2841, -8.5729, -7.6374, -9.2689, -8.7878, -8.7359, -9.275, -7.7269, -9.2819, -8.4224, -8.7533, -8.9877, -9.2858, -8.9927, -8.4846, -8.7603, -9.0039, -8.5941, -8.2097, -8.7777, -7.7918, -7.1426, -8.327, -7.3007, -7.0493, -7.8448, -8.4839, -7.4789, -7.6836, -8.48, -8.6189, -8.2115, -8.0394, -8.2025, -8.0016, -7.3397, -6.0544, -7.7945, -7.6647, -6.6954, -6.4882, -5.8942, -7.4968, -6.4334, -6.6551, -5.9211, -6.8661, -7.5441, -7.7159, -6.5432, -6.3504, -7.179, -6.5294, -5.7968, -6.3844, -6.239, -6.2429, -6.4517, -6.6284, -5.9956, -5.8383, -6.363, -6.2539, -6.3338, -6.6792, -5.9995, -6.2415, -6.4195, -6.1418, -6.4316, -6.2919, -6.238, -6.482, -6.4737, -6.5075, -6.4525, -6.586, -6.5674, -7.4632, -7.8715, -8.5889, -8.8786, -8.8792, -7.2264, -8.2094, -8.4119, -7.5458, -8.6411, -8.43, -8.0806, -8.0872, -6.3157, -8.9594, -8.6728, -8.668, -8.6777, -8.2659, -7.6639, -8.1303, -8.6638, -7.9949, -7.9882, -8.9756, -7.9976, -8.9779, -8.2768, -8.6994, -8.0172, -7.593, -8.1416, -7.5531, -8.1511, -7.6437, -7.0096, -8.3124, -8.3107, -7.6674, -7.812, -7.7253, -7.4756, -6.9386, -6.0796, -7.8581, -8.1247, -5.978, -6.56, -6.1434, -5.7033, -6.398, -6.5758, -7.335, -5.9605, -6.4976, -6.4053, -5.9813, -6.3063, -6.2344, -6.3866, -6.5425, -6.5261, -6.2702, -6.6778, -6.467, -6.5578, -6.54, -6.4712, -6.5381, -6.3025, -6.6118, -6.4502, -6.5633, -6.6179, -6.6489, -6.641], \"loglift\": [30.0, 29.0, 28.0, 27.0, 26.0, 25.0, 24.0, 23.0, 22.0, 21.0, 20.0, 19.0, 18.0, 17.0, 16.0, 15.0, 14.0, 13.0, 12.0, 11.0, 10.0, 9.0, 8.0, 7.0, 6.0, 5.0, 4.0, 3.0, 2.0, 1.0, 1.5957, 1.4828, 1.4469, 1.4342, 1.434, 1.4205, 1.4196, 1.4187, 1.4107, 1.4049, 1.4004, 1.3976, 1.396, 1.3889, 1.3839, 1.3781, 1.3736, 1.3706, 1.3705, 1.3655, 1.3573, 1.3556, 1.3538, 1.352, 1.3518, 1.3515, 1.3489, 1.3446, 1.3422, 1.339, 1.3361, 1.327, 1.3012, 1.327, 1.3278, 1.264, 1.2216, 1.2609, 1.3148, 1.2603, 1.2125, 1.1888, 1.3099, 1.0842, 1.2349, 1.3105, 0.8848, 0.8009, 0.9231, 1.1298, 0.4881, 0.3591, 0.7571, 0.9931, 0.9277, 0.5647, 0.7936, 0.6448, 0.5531, 0.172, 0.1122, 0.3622, 0.3082, 0.3165, 0.6325, 0.2061, 0.306, 0.3279, 0.4175, 0.0192, 0.2342, 0.4167, 0.1234, 0.4117, 0.26, 0.1781, 0.1557, 0.1514, -0.4218, 0.1622, 0.2936, 0.1707, 0.0345, -0.4932, 0.163, -0.1472, 0.118, -0.6135, 1.852, 1.7162, 1.7143, 1.7124, 1.7082, 1.7018, 1.691, 1.6803, 1.6744, 1.6701, 1.669, 1.6663, 1.6651, 1.6641, 1.6612, 1.6599, 1.6576, 1.6501, 1.6437, 1.6431, 1.6408, 1.6386, 1.6383, 1.6357, 1.6308, 1.6244, 1.6217, 1.6204, 1.618, 1.6174, 1.5828, 1.6108, 1.5902, 1.5683, 1.5753, 1.5729, 1.5914, 1.4777, 1.4047, 1.4492, 1.5279, 1.3915, 1.4781, 1.0872, 0.9613, 1.2118, 1.3994, 0.9546, 1.0974, 0.8093, 1.1364, 0.6163, 0.9171, 0.3823, 0.373, 0.9659, 0.2537, 0.8623, 0.2663, 0.197, 0.3267, 0.1258, 0.3741, 0.8668, 0.674, 0.4084, 0.5622, -0.0928, 0.2113, 0.3906, 0.2995, 0.4763, 0.172, 0.1713, 0.3798, 0.2652, 0.543, 0.2832, 0.4402, 0.0551, 0.0948, -0.2714, 0.0945, 0.2958, 0.0073, 0.1173, -0.0689, 1.9546, 1.9536, 1.88, 1.8766, 1.849, 1.8473, 1.8359, 1.8191, 1.8173, 1.816, 1.8099, 1.8094, 1.8076, 1.8074, 1.7981, 1.7954, 1.7916, 1.7872, 1.7869, 1.7812, 1.7739, 1.7717, 1.7709, 1.7705, 1.769, 1.7665, 1.7653, 1.7583, 1.7569, 1.7549, 1.7525, 1.7417, 1.7462, 1.7282, 1.7221, 1.7333, 1.6857, 1.6173, 1.6431, 1.6994, 1.4316, 1.5745, 1.6396, 1.6723, 1.4128, 1.2339, 1.1918, 1.4702, 1.6461, 0.1977, 0.271, 0.6565, 1.2567, 0.2023, 1.1376, 1.2323, 0.8303, -0.084, 0.3937, 0.1039, 0.2457, -0.0959, 0.2579, 0.8121, 0.2028, 0.2086, 0.2242, 0.2315, 0.4709, 0.3433, 0.0431, 0.2858, 0.2481, 0.0833, -0.3805, 0.2075, 0.295, -0.0368, -0.2639, 0.1397, -0.393, 0.0117, -0.0929, -0.0474, 0.1566, 0.0959, 2.0023, 1.9406, 1.8641, 1.8609, 1.8583, 1.857, 1.8416, 1.84, 1.8368, 1.8338, 1.8308, 1.8273, 1.8181, 1.8157, 1.8147, 1.812, 1.8105, 1.8102, 1.8026, 1.7944, 1.7921, 1.7899, 1.7899, 1.7875, 1.7874, 1.7808, 1.7806, 1.7788, 1.773, 1.7672, 1.766, 1.7378, 1.7612, 1.7137, 1.6715, 1.6744, 1.6584, 1.5681, 1.6428, 1.6004, 1.559, 1.5032, 1.168, 1.1462, 1.0754, 1.2236, 1.5663, 0.3794, 1.3475, 0.6607, 0.3457, 0.534, 1.3052, 1.1092, 0.11, 0.4155, 0.3583, 0.1084, 0.401, 0.4925, -0.0557, 0.3012, 0.4242, 0.6187, 0.6715, 0.3635, 0.318, 0.617, 0.1811, -0.1779, 0.0645, 0.0281, 0.0035, 0.0353, -0.0463, 0.0515, 0.1203, 0.0425, 0.0554, -0.2056, -0.0585, -0.3622, -1.004, 2.0888, 2.0855, 2.0853, 2.0718, 2.0629, 2.0416, 1.9977, 1.9938, 1.9925, 1.9915, 1.9894, 1.9892, 1.9845, 1.9576, 1.9486, 1.9468, 1.938, 1.9267, 1.9249, 1.924, 1.9158, 1.9136, 1.9125, 1.9065, 1.9053, 1.9034, 1.9017, 1.9009, 1.9, 1.8997, 1.8978, 1.8763, 1.8706, 1.849, 1.8602, 1.8276, 1.7098, 1.8153, 1.7776, 1.8466, 1.687, 1.4405, 1.5841, 1.1381, 1.6648, 0.6927, 1.2274, 0.779, 0.7275, 0.7174, 0.9181, 0.5268, 0.718, 0.6228, 0.8973, 0.2539, 0.8427, 0.8575, 0.6788, 0.5199, 0.3166, 0.7825, 0.5439, 0.5605, 0.1669, 0.1276, 0.429, 0.3913, 0.6014, 0.4861, 0.5604, 0.3769, 0.2645, 0.3463, -0.0382, 0.2009, 0.3299, 0.3521, 2.1801, 2.1457, 2.0503, 2.0499, 2.0469, 2.0425, 2.0162, 2.0162, 2.0044, 2.0042, 2.0039, 2.0019, 2.0017, 1.9981, 1.9916, 1.9879, 1.987, 1.9844, 1.9814, 1.9802, 1.9798, 1.9627, 1.9577, 1.9525, 1.9492, 1.9457, 1.9425, 1.9422, 1.9387, 1.9375, 1.9333, 1.9189, 1.8385, 1.8531, 1.8909, 1.6854, 1.8438, 1.8268, 1.6773, 1.3358, 1.2166, 1.267, 0.6428, 1.4828, 1.4894, 1.7453, 0.6418, 0.953, 0.3498, 0.8093, 0.5707, 0.6935, 0.1304, 0.8815, 0.3512, 1.0425, 0.7008, 0.803, 0.3462, 0.6669, 0.5548, 0.6485, 0.5542, 0.4576, 0.2269, 0.1947, 0.6167, 0.0698, -0.2922, 0.1958, -0.267, 0.1826, -0.2781, 0.2561, 0.1243, 0.1612, -0.3171, 0.2513, 0.1913, 0.2166, -0.1686, -0.3446, 0.0793, 2.2331, 2.1696, 2.1571, 2.1521, 2.133, 2.1311, 2.1026, 2.101, 2.0968, 2.0884, 2.0815, 2.0763, 2.076, 2.0723, 2.0663, 2.0612, 2.0601, 2.0464, 2.0401, 2.0197, 2.003, 2.0027, 2.0015, 1.9938, 1.9889, 1.9884, 1.986, 1.9848, 1.9822, 1.9816, 1.9742, 1.9019, 1.925, 1.9357, 1.8374, 1.7827, 1.8953, 1.8076, 1.7116, 1.6433, 1.4625, 0.6576, 1.5248, 0.7699, 1.1822, 0.393, 1.1626, 1.0222, 1.2262, 0.4545, 0.3817, 0.6403, 0.2647, 0.1741, 0.8436, 0.8127, 0.352, 0.4484, 0.6715, 0.2369, 0.4932, 0.6266, -0.2025, 0.2782, 0.3848, 0.6502, -0.221, 0.0712, 0.2043, 0.1653, -0.1946, 0.1993, 0.0296, 0.2812, 0.1071, 0.0578, 0.1491, 0.0223, -0.1934, 0.0843, -0.5626, 2.4524, 2.3298, 2.3278, 2.3276, 2.2773, 2.2682, 2.2616, 2.2593, 2.2562, 2.2522, 2.2502, 2.2324, 2.2294, 2.2263, 2.2236, 2.2225, 2.2204, 2.2198, 2.2141, 2.2121, 2.2115, 2.2083, 2.207, 2.2066, 2.204, 2.1964, 2.189, 2.1871, 2.1867, 2.1858, 2.1787, 2.154, 2.137, 2.108, 2.1419, 2.1079, 2.0959, 2.159, 2.0745, 2.1154, 1.9201, 2.0522, 2.1206, 2.0603, 1.9456, 1.8567, 1.902, 2.112, 1.2384, 1.6779, 1.6193, 1.7626, 1.0822, 1.0584, 1.1478, 1.3111, 0.1805, 1.2059, 1.0885, 0.1626, 0.9357, 0.2342, 0.4016, 0.7088, 0.2425, 0.818, 0.8189, 0.3296, 0.3335, 0.1888, -0.2629, 0.333, 0.4862, 0.4351, -0.4558, 0.1211, -0.627, 0.0993, 0.1774, 0.2271, 0.1445, -0.4722, 0.0294, -0.6438, -0.2041, -0.2081, -0.6477, 2.3644, 2.3565, 2.3318, 2.3273, 2.3127, 2.3023, 2.3021, 2.3021, 2.2803, 2.2606, 2.2528, 2.2502, 2.246, 2.2458, 2.2416, 2.241, 2.2405, 2.2384, 2.2339, 2.2322, 2.2304, 2.2293, 2.2286, 2.2281, 2.2267, 2.2243, 2.2237, 2.2218, 2.2132, 2.2105, 2.1901, 2.1678, 2.2012, 2.1154, 2.0884, 2.1213, 2.1799, 2.0641, 2.0222, 2.1719, 2.1921, 2.1043, 2.066, 2.0966, 2.0362, 1.8434, 1.463, 1.9685, 1.8467, 1.4441, 1.3274, 0.925, 1.6744, 1.0746, 1.1408, 0.6643, 1.2481, 1.6653, 1.7426, 0.8529, 0.6407, 1.3282, 0.7254, 0.0284, 0.5101, 0.3338, 0.3373, 0.5456, 0.7331, 0.0229, -0.1803, 0.4118, 0.2574, 0.3054, 0.7643, -0.2922, 0.0806, 0.3379, -0.1936, 0.2191, -0.0972, -0.3663, 0.2201, 0.1269, -0.134, -0.9198, 0.2742, -0.5467, 3.1088, 2.8684, 2.8257, 2.8164, 2.8161, 2.7851, 2.77, 2.7617, 2.7577, 2.7551, 2.7515, 2.7472, 2.7409, 2.7203, 2.7162, 2.7142, 2.7135, 2.7118, 2.7087, 2.7072, 2.7046, 2.7036, 2.7017, 2.6976, 2.6964, 2.694, 2.6939, 2.6933, 2.6801, 2.6761, 2.6705, 2.6751, 2.6456, 2.6671, 2.6257, 2.5444, 2.6669, 2.6642, 2.5008, 2.5251, 2.4975, 2.3737, 2.1367, 1.772, 2.3629, 2.5446, 0.5949, 1.1245, 0.5827, -0.0452, 0.7074, 0.8715, 1.7488, -0.0888, 0.5141, 0.2195, -0.4486, 0.0194, -0.2159, 0.0177, 0.1544, 0.0965, -0.445, 0.3667, -0.0934, 0.1032, 0.0334, -0.1491, 0.0197, -0.5952, 0.118, -0.4295, -0.1131, -0.0173, 0.1797, -0.1047]}, \"token.table\": {\"Topic\": [3, 2, 4, 1, 2, 3, 4, 5, 6, 7, 8, 9, 10, 5, 6, 1, 2, 3, 4, 5, 6, 7, 8, 9, 10, 1, 2, 3, 5, 6, 7, 9, 10, 1, 3, 4, 5, 6, 7, 8, 9, 1, 2, 3, 4, 5, 6, 7, 8, 9, 4, 8, 1, 2, 3, 4, 5, 6, 7, 8, 9, 1, 2, 3, 4, 5, 6, 7, 8, 9, 10, 2, 5, 1, 2, 3, 4, 6, 7, 8, 9, 1, 2, 3, 4, 5, 6, 7, 1, 2, 3, 5, 6, 1, 6, 4, 5, 6, 2, 4, 8, 2, 1, 2, 3, 4, 5, 6, 7, 8, 9, 10, 1, 2, 3, 4, 5, 6, 7, 8, 9, 10, 10, 2, 1, 2, 3, 4, 5, 6, 7, 8, 9, 10, 2, 5, 6, 8, 1, 2, 3, 4, 5, 6, 7, 8, 9, 10, 6, 1, 5, 4, 9, 10, 1, 5, 4, 1, 2, 3, 4, 5, 6, 7, 8, 9, 10, 5, 9, 10, 1, 4, 1, 2, 3, 4, 5, 6, 7, 8, 9, 10, 4, 8, 1, 6, 2, 3, 4, 5, 6, 7, 8, 9, 1, 2, 4, 6, 7, 9, 1, 2, 3, 5, 7, 8, 1, 6, 8, 1, 2, 3, 4, 5, 6, 7, 8, 9, 6, 1, 2, 3, 4, 5, 6, 7, 8, 9, 10, 1, 2, 3, 4, 5, 6, 7, 8, 9, 10, 1, 2, 3, 4, 5, 6, 7, 8, 10, 1, 2, 3, 4, 7, 8, 9, 10, 1, 2, 4, 5, 7, 9, 1, 2, 2, 3, 7, 8, 1, 2, 3, 4, 5, 6, 7, 8, 9, 10, 1, 4, 9, 1, 5, 9, 2, 5, 7, 8, 9, 9, 2, 7, 1, 2, 3, 4, 5, 6, 7, 8, 9, 10, 1, 2, 3, 9, 1, 2, 3, 4, 5, 6, 7, 8, 9, 10, 1, 2, 3, 4, 7, 8, 9, 1, 2, 3, 5, 7, 10, 1, 7, 8, 10, 1, 3, 4, 6, 9, 1, 2, 3, 4, 5, 6, 7, 8, 9, 10, 1, 2, 3, 4, 5, 6, 7, 8, 10, 1, 4, 8, 3, 1, 2, 3, 4, 5, 6, 7, 8, 9, 10, 1, 2, 3, 4, 5, 6, 7, 8, 9, 10, 2, 1, 2, 3, 4, 5, 6, 7, 8, 9, 10, 1, 2, 3, 4, 5, 6, 7, 8, 9, 10, 1, 2, 3, 4, 5, 6, 7, 8, 9, 10, 2, 4, 6, 3, 7, 3, 5, 9, 4, 5, 1, 2, 3, 4, 5, 6, 7, 8, 9, 10, 1, 2, 3, 4, 5, 6, 7, 8, 9, 10, 9, 1, 2, 3, 4, 5, 6, 7, 8, 9, 10, 1, 3, 4, 9, 2, 4, 4, 10, 1, 2, 3, 4, 5, 7, 8, 10, 1, 2, 3, 4, 5, 6, 7, 8, 9, 10, 1, 2, 3, 4, 5, 6, 7, 8, 9, 10, 3, 2, 5, 1, 2, 3, 4, 5, 6, 7, 8, 9, 10, 1, 2, 3, 4, 5, 6, 7, 8, 9, 10, 1, 2, 3, 4, 5, 6, 7, 8, 9, 10, 1, 2, 3, 4, 5, 6, 7, 8, 9, 10, 1, 2, 3, 4, 5, 6, 7, 8, 9, 10, 1, 2, 3, 4, 5, 6, 7, 8, 9, 10, 3, 4, 1, 2, 3, 4, 5, 6, 7, 8, 9, 10, 10, 1, 2, 3, 5, 8, 1, 3, 6, 8, 1, 2, 3, 4, 5, 6, 7, 8, 9, 10, 2, 4, 7, 1, 2, 3, 4, 5, 6, 7, 8, 9, 10, 1, 2, 3, 4, 5, 6, 7, 8, 9, 10, 3, 6, 8, 9, 1, 2, 3, 4, 5, 6, 7, 8, 9, 10, 1, 2, 3, 4, 6, 7, 8, 9, 1, 2, 3, 4, 5, 6, 7, 8, 9, 10, 1, 2, 3, 4, 5, 6, 7, 8, 9, 10, 4, 9, 8, 7, 8, 6, 1, 2, 3, 4, 5, 6, 7, 8, 9, 10, 2, 3, 9, 9, 5, 6, 7, 6, 1, 2, 3, 4, 5, 6, 7, 8, 9, 10, 1, 2, 3, 4, 5, 6, 7, 8, 9, 10, 1, 2, 3, 4, 5, 6, 7, 8, 9, 10, 1, 2, 3, 4, 5, 6, 7, 8, 9, 10, 2, 3, 5, 9, 1, 2, 3, 4, 5, 6, 7, 8, 9, 10, 1, 2, 4, 5, 6, 7, 1, 8, 1, 2, 3, 4, 5, 6, 7, 8, 9, 10, 1, 2, 3, 4, 5, 6, 7, 8, 9, 10, 6, 8, 5, 10, 1, 2, 3, 4, 5, 6, 7, 8, 9, 10, 7, 1, 2, 6, 7, 8, 2, 4, 1, 2, 3, 4, 5, 6, 7, 8, 9, 10, 1, 2, 3, 5, 8, 9, 1, 2, 3, 4, 5, 6, 7, 8, 9, 10, 9, 1, 3, 7, 10, 1, 2, 3, 4, 5, 6, 7, 8, 9, 10, 10, 1, 2, 3, 4, 5, 6, 7, 8, 9, 10, 7, 5, 6, 1, 2, 3, 4, 5, 9, 1, 2, 3, 4, 5, 6, 7, 8, 9, 10, 7, 4, 9, 2, 4, 3, 1, 2, 1, 2, 3, 4, 5, 6, 7, 8, 9, 10, 6, 7, 3, 6, 8, 9, 1, 2, 3, 4, 5, 6, 7, 8, 9, 10, 2, 6, 1, 2, 3, 4, 5, 6, 7, 8, 9, 10, 6, 9, 1, 5, 6, 9, 10, 2, 9, 10, 1, 2, 3, 4, 5, 6, 7, 8, 9, 10, 1, 2, 3, 4, 5, 6, 8, 9, 2, 4, 5, 10, 1, 2, 1, 2, 3, 4, 5, 6, 7, 8, 9, 10, 8, 1, 2, 3, 4, 5, 7, 1, 9, 1, 2, 3, 4, 5, 6, 7, 8, 9, 2, 4, 1, 2, 3, 4, 5, 6, 7, 8, 9, 4, 8, 1, 2, 3, 4, 6, 7, 5, 5, 1, 2, 3, 4, 5, 6, 7, 8, 9, 10, 3, 7, 2, 3, 7, 8, 9, 1, 2, 3, 4, 5, 6, 7, 8, 9, 10, 1, 3, 5, 1, 2, 3, 4, 5, 6, 7, 8, 9, 10, 1, 2, 3, 4, 5, 6, 7, 8, 9, 10, 3, 9, 10, 1, 2, 3, 4, 5, 6, 7, 8, 9, 10, 1, 2, 3, 4, 5, 6, 7, 8, 9, 10, 6, 1, 2, 3, 4, 5, 6, 7, 8, 9, 10, 1, 2, 3, 4, 5, 6, 7, 8, 9, 10, 10, 10, 1, 2, 3, 4, 5, 6, 7, 8, 9, 10, 3, 1, 2, 3, 4, 5, 6, 7, 8, 9, 10, 5, 1, 2, 3, 4, 5, 6, 7, 8, 9, 10, 3, 6, 9, 4, 1, 2, 3, 5, 6, 7, 8, 9, 4, 3, 9, 1, 3, 6, 9, 7, 6, 9, 1, 2, 3, 4, 5, 6, 7, 8, 9, 10, 7, 1, 3, 6, 8, 1, 3, 4, 9, 8, 1, 2, 3, 4, 5, 6, 7, 8, 9, 10, 6, 7, 4, 1, 2, 3, 4, 5, 6, 7, 8, 9, 10, 2, 4, 6, 1, 2, 3, 4, 5, 6, 7, 8, 9, 10, 2, 3, 4, 7, 8, 1, 2, 3, 4, 5, 6, 7, 8, 9, 10, 6, 8, 8, 10, 1, 2, 3, 4, 5, 6, 7, 8, 9, 10, 1, 2, 3, 4, 5, 6, 7, 8, 9, 10, 1, 2, 3, 4, 5, 6, 7, 8, 9, 10, 1, 2, 3, 4, 5, 6, 7, 8, 9, 10, 1, 1, 2, 3, 4, 5, 6, 7, 8, 9, 10, 1, 2, 3, 4, 5, 6, 9, 1, 2, 3, 4, 6, 7, 8, 1, 2, 3, 4, 5, 6, 7, 8, 10, 1, 2, 3, 4, 5, 6, 7, 8, 9, 10, 1, 2, 3, 4, 5, 6, 7, 8, 9, 10, 1, 2, 3, 4, 5, 6, 8, 10, 1, 2, 3, 4, 5, 6, 7, 8, 9, 10, 1, 2, 3, 4, 5, 6, 7, 8, 9, 1, 7, 7, 5, 3, 7, 5, 1, 2, 3, 5, 7, 8, 9, 10, 9, 10, 1, 2, 3, 4, 5, 6, 7, 8, 9, 10, 1, 2, 3, 4, 5, 6, 7, 8, 9, 10, 10, 6, 1, 7, 7, 5, 10, 4, 1, 2, 4, 6, 7, 10, 2, 5, 7, 1, 2, 3, 4, 5, 6, 7, 8, 9, 10, 2, 8, 1, 2, 3, 4, 5, 6, 7, 8, 9, 10, 2, 3, 7, 9, 2, 3, 1, 2, 3, 4, 5, 6, 4, 1, 4, 5, 6, 8, 10, 1, 2, 3, 4, 5, 6, 7, 8, 9, 10, 7, 4, 1, 2, 3, 4, 5, 6, 7, 8, 9, 10, 8, 1, 2, 4, 5, 6, 7, 6, 1, 2, 3, 4, 5, 6, 7, 8, 9, 10, 7, 9, 1, 2, 3, 4, 5, 7, 8, 1, 2, 1, 2, 3, 4, 5, 6, 7, 8, 9, 10, 1, 2, 3, 4, 5, 6, 7, 8, 9, 10, 1, 2, 9, 1, 4, 5, 6, 10, 1, 3, 9, 4, 10, 3, 5, 9, 10, 1, 2, 3, 4, 5, 6, 7, 8, 9, 10, 1, 9, 5, 1, 2, 3, 4, 5, 6, 7, 8, 9, 10, 1, 2, 3, 4, 5, 6, 7, 8, 9, 10, 1, 4, 8, 9, 1, 2, 3, 4, 5, 6, 7, 9, 1, 2, 3, 4, 5, 6, 7, 8, 9, 10, 8, 1, 2, 4, 5, 6, 8, 9, 3, 1, 6, 9, 1, 2, 1, 2, 3, 4, 5, 6, 7, 8, 9, 1, 2, 3, 4, 5, 6, 7, 8, 9, 10, 1, 2, 3, 4, 5, 6, 7, 8, 9, 10, 5, 1, 2, 3, 4, 5, 6, 7, 8, 9, 10, 1, 2, 3, 4, 6, 7, 8, 9, 6, 9, 7, 5, 1, 2, 3, 4, 5, 6, 7, 8, 9, 10, 5, 1, 2, 3, 4, 5, 7, 8, 1, 3, 4, 8, 1, 6, 1, 2, 3, 7, 9, 4, 6, 9, 9, 2, 7, 5, 1, 2, 3, 4, 5, 6, 7, 8, 9, 10, 1, 3, 8, 5, 9, 1, 2, 3, 4, 5, 6, 7, 8, 4, 8, 10, 1, 3, 5, 1, 2, 5, 6, 7, 3, 8, 10, 2, 10, 4, 3, 1, 2, 3, 4, 5, 6, 7, 8, 9, 10, 1, 2, 3, 4, 5, 6, 7, 8, 9, 10, 1, 2, 3, 4, 6, 8, 9, 10, 3, 1, 7, 8, 5, 1, 2, 3, 4, 5, 6, 7, 8, 9, 10, 10, 1, 2, 3, 4, 5, 6, 7, 8, 9, 10, 3, 5, 2, 4, 6, 8, 2, 1, 7, 7, 1, 2, 3, 4, 5, 6, 7, 8, 9, 10, 1, 2, 3, 4, 5, 6, 7, 8, 9, 10, 3, 9, 1, 2, 3, 4, 5, 7, 8, 7, 2, 9, 8, 3, 1, 2, 3, 4, 5, 6, 7, 8, 9, 10, 1, 2, 3, 4, 5, 6, 7, 9, 1, 2, 3, 4, 5, 6, 7, 8, 9, 10, 1, 2, 3, 4, 5, 6, 7, 8, 9, 10, 10, 1, 2, 4, 6, 9, 10, 2, 5, 7, 9, 1, 2, 3, 4, 5, 6, 7, 8, 9, 10, 5, 6, 7, 1, 2, 3, 4, 5, 6, 7, 8, 9, 10, 1, 2, 3, 4, 5, 6, 7, 8, 9, 10, 1, 2, 3, 4, 5, 6, 7, 8, 9, 10, 8, 1, 3, 4, 5, 6, 7, 1, 2, 3, 4, 5, 6, 7, 8, 9, 10, 2, 5, 1, 2, 3, 4, 5, 6, 7, 8, 9, 10, 1, 2, 3, 4, 5, 6, 7, 8, 9, 10, 1, 2, 3, 5, 1, 2, 4, 5, 6, 7, 4, 8, 4, 2, 3, 5, 6, 8, 1, 2, 5, 1, 2, 6, 8, 1, 6, 7, 8, 1, 2, 3, 4, 5, 6, 8, 9, 1, 2, 3, 4, 5, 6, 7, 8, 9, 10, 1, 2, 3, 4, 5, 6, 7, 8, 9, 10, 1, 2, 3, 4, 5, 6, 7, 8, 9, 10, 1, 2, 3, 4, 5, 6, 7, 8, 9, 10, 3, 1, 2, 3, 4, 5, 6, 7, 8, 9, 10, 1, 2, 3, 4, 5, 6, 7, 8, 9, 10, 1, 2, 3, 4, 5, 6, 7, 8, 9, 10, 9, 1, 7, 10, 1, 2, 3, 4, 5, 6, 7, 8, 9, 10, 1, 2, 3, 4, 5, 6, 7, 8, 9, 10, 1, 6, 9, 1, 2, 3, 4, 5, 7, 1, 2, 4, 5, 6, 8, 7, 5, 4, 10, 1, 2, 3, 4, 5, 6, 7, 8, 9, 1, 3, 7, 8, 9, 1, 6, 8, 1, 2, 3, 4, 5, 6, 7, 8, 9, 10, 1, 2, 3, 4, 5, 6, 7, 8, 9, 10, 8, 3, 4, 7, 8, 9, 10, 2, 3, 4, 9, 1, 2, 3, 4, 5, 6, 7, 8, 9, 10, 7, 3, 1, 7, 1, 2, 6, 8, 9, 8, 2, 6, 8, 1, 2, 3, 4, 5, 6, 7, 8, 9, 10, 1, 2, 3, 4, 5, 6, 7, 8, 9, 10, 1, 2, 3, 4, 5, 6, 7, 8, 9, 10, 1, 2, 3, 4, 5, 6, 7, 8, 9, 4, 7, 1, 2, 3, 4, 5, 6, 7, 8, 9, 10, 8, 1, 2, 3, 4, 5, 6, 8, 10, 1, 5, 8, 1, 3, 4, 5, 1, 2, 3, 4, 5, 6, 7, 8, 9, 6, 3, 1, 2, 3, 4, 5, 6, 7, 8, 9, 10, 1, 2, 3, 4, 5, 6, 8, 10, 1, 2, 4, 6, 3, 4, 5, 7, 9, 1, 2, 3, 4, 5, 6, 7, 8, 9, 10, 1, 2, 3, 4, 5, 6, 7, 8, 9, 10, 10, 1, 2, 3, 5, 6, 7, 8, 9, 1, 2, 3, 4, 5, 6, 7, 8, 9, 10, 1, 2, 3, 4, 5, 6, 7, 8, 9, 10, 1, 5, 1, 2, 3, 4, 5, 6, 7, 8, 9, 10, 5, 2, 1, 2, 3, 4, 5, 6, 7, 8, 9, 10, 1, 2, 3, 4, 5, 6, 8, 9, 1, 2, 3, 4, 6, 7, 8, 9, 2, 3, 1, 2, 3, 4, 5, 6, 7, 8, 9, 10, 1, 5, 1, 2, 3, 4, 5, 6, 7, 8, 9, 10, 1, 10, 3, 1, 2, 3, 4, 5, 6, 7, 8, 9, 10, 5, 9, 8, 1, 2, 3, 4, 5, 6, 7, 8, 9, 10, 9, 1, 2, 3, 4, 5, 6, 7, 8, 9, 10, 1, 2, 3, 4, 5, 6, 7, 8, 9, 10, 1, 2, 3, 4, 5, 6, 7, 8, 9, 10, 3, 4, 5, 7, 1, 2, 3, 4, 6, 7, 9, 1, 2, 3, 4, 5, 6, 7, 8, 9, 10, 8, 1, 2, 3, 4, 5, 7, 8, 10, 1, 2, 3, 4, 5, 6, 7, 8, 9, 10, 1, 2, 4, 5, 6, 7, 1, 2, 8, 1, 2, 3, 4, 7, 8, 1, 2, 3, 4, 5, 6, 7, 8, 9, 10, 7, 2, 7, 2, 2, 3, 4, 8, 9, 1, 1, 2, 3, 4, 5, 7, 8, 9, 2, 7, 9, 7, 1, 2, 3, 4, 5, 6, 7, 8, 9, 10, 1, 2, 3, 4, 5, 6, 7, 8, 9, 10, 2, 3, 4, 6, 7, 8, 1, 2, 3, 4, 5, 6, 7, 8, 9, 10, 1, 2, 3, 4, 7, 8, 10, 2, 4, 2, 3, 5, 7, 7, 2, 3, 4, 8, 7, 1, 2, 3, 4, 5, 6, 7, 8, 9, 10, 10, 1, 2, 3, 4, 5, 6, 7, 8, 9, 10, 1, 2, 3, 4, 5, 6, 7, 8, 9, 10, 1, 2, 3, 4, 5, 6, 7, 8, 9, 10, 2, 1, 2, 3, 4, 6, 8, 10, 1, 2, 5, 4, 1, 2, 3, 4, 5, 6, 7, 8, 9, 10, 1, 1, 2, 3, 4, 5, 6, 7, 8, 10, 4, 1, 2, 4, 7, 1, 2, 3, 4, 5, 6, 7, 8, 9, 10, 1, 2, 3, 5, 6, 7, 9, 10, 1, 2, 3, 4, 5, 6, 7, 8, 9, 10, 10, 1, 1, 2, 3, 4, 5, 6, 7, 8, 9, 10, 1, 2, 3, 4, 5, 6, 7, 8, 9, 10, 9, 2, 6, 1, 2, 3, 4, 5, 6, 7, 8, 9, 10, 1, 2, 3, 4, 5, 6, 7, 8, 9, 10, 1, 2, 3, 4, 5, 6, 7, 8, 1, 2, 3, 4, 5, 6, 7, 8, 10, 1, 2, 3, 4, 5, 6, 7, 8, 9, 10, 1, 2, 3, 4, 5, 6, 7, 8, 9, 10, 1, 2, 3, 4, 5, 6, 7, 8, 9, 10, 1, 2, 3, 4, 5, 6, 7, 8, 9, 1, 2, 3, 4, 5, 6, 7, 8, 9, 10, 1, 3, 4, 5, 7, 8, 9, 10, 2, 1, 2, 3, 4, 6, 7, 8, 10, 1, 2, 3, 4, 5, 6, 7, 8, 9, 10, 1, 2, 3, 4, 5, 6, 7, 8, 9, 10, 1, 2, 3, 4, 5, 6, 7, 8, 9, 10, 1, 2, 3, 4, 5, 6, 7, 8, 9, 10, 2, 2, 8, 1, 3, 5, 6, 7, 8, 10, 1, 2, 3, 4, 5, 6, 7, 8, 9, 10, 1, 2, 3, 4, 5, 6, 7, 8, 9, 10, 9, 1, 5, 1, 2, 3, 4, 5, 6, 7, 8, 9, 1, 5, 7, 10, 1, 2, 3, 4, 5, 6, 7, 8, 9, 10, 1, 2, 3, 4, 5, 6, 7, 8, 9, 10, 2, 3, 6, 10, 4, 1, 2, 3, 4, 5, 6, 7, 8, 9, 10, 1, 5, 9, 1, 2, 3, 8, 1, 5, 7, 2, 3, 1, 3, 10, 1, 2, 3, 4, 10, 1, 2, 3, 4, 5, 6, 7, 8, 9, 10, 1, 2, 5, 7, 9, 1, 2, 3, 4, 5, 6, 7, 8, 9, 10, 1, 2, 3, 4, 5, 6, 7, 8, 9, 10, 1, 5, 9, 2, 6, 1, 2, 3, 4, 5, 6, 7, 8, 9, 1, 2, 3, 4, 5, 6, 7, 8, 9, 10, 10, 4, 9, 1, 5, 6, 8, 9, 10, 1, 4, 7, 1, 3, 4, 5, 6, 2, 6, 2, 3, 4, 1, 2, 3, 4, 5, 6, 7, 8, 9, 10, 1, 2, 3, 4, 5, 6, 7, 8, 9, 10, 1, 2, 3, 4, 5, 6, 7, 8, 9, 10, 1, 2, 3, 4, 5, 6, 7, 8, 9, 10, 1, 2, 3, 4, 5, 6, 7, 8, 9, 1, 2, 3, 4, 5, 6, 7, 8, 9, 10, 6, 2, 6, 3, 10, 1, 3, 6, 7, 9, 1, 6, 9, 1, 2, 3, 4, 5, 6, 7, 8, 10, 1, 2, 3, 4, 5, 6, 7, 8, 9, 10, 1, 2, 3, 4, 5, 6, 7, 8, 9, 10, 1, 2, 3, 4, 5, 6, 7, 8, 9, 10, 1, 2, 3, 4, 5, 6, 7, 8, 9, 10, 2, 3, 4, 5, 6, 7, 8, 1, 2, 3, 4, 5, 6, 7, 8, 9, 10, 2, 4, 5, 6, 7, 1, 2, 3, 4, 5, 6, 7, 8, 9, 10, 1, 2, 3, 4, 5, 6, 7, 8, 9, 10, 1, 2, 3, 4, 5, 6, 7, 8, 9, 10, 1, 2, 5, 8, 9, 1, 2, 3, 4, 5, 8, 4, 3, 1, 2, 3, 4, 6, 7, 8, 9, 10, 2, 5, 8, 9, 5, 1], \"Freq\": [0.5648914772375367, 0.7876856060883457, 0.5607486435457449, 0.20682831214869846, 0.14554584928982484, 0.11745805381284109, 0.11490461786038803, 0.14554584928982484, 0.07660307857359201, 0.05362215500151441, 0.05617559095396748, 0.05362215500151441, 0.02808779547698374, 0.10604819495286116, 0.7423373646700282, 0.2136680455419928, 0.09938048629860131, 0.07950438903888105, 0.06956634040902092, 0.21863706985692288, 0.10434951061353137, 0.059628291779160784, 0.06956634040902092, 0.04969024314930066, 0.03975219451944052, 0.044374268391590296, 0.044374268391590296, 0.044374268391590296, 0.5324912206990835, 0.044374268391590296, 0.044374268391590296, 0.044374268391590296, 0.17749707356636119, 0.06182910203955425, 0.06182910203955425, 0.06182910203955425, 0.06182910203955425, 0.06182910203955425, 0.06182910203955425, 0.6182910203955425, 0.06182910203955425, 0.03951010901855675, 0.19755054509278372, 0.03951010901855675, 0.03951010901855675, 0.03951010901855675, 0.5136314172412377, 0.03951010901855675, 0.03951010901855675, 0.03951010901855675, 0.7042701631416534, 0.8006843643879514, 0.16243484130167443, 0.03248696826033489, 0.03248696826033489, 0.03248696826033489, 0.4873045239050233, 0.09746090478100466, 0.03248696826033489, 0.03248696826033489, 0.06497393652066978, 0.25001927055996087, 0.10241753251853818, 0.09338069141396128, 0.11145437362311508, 0.17471226135515336, 0.07831928957299979, 0.07229472883661518, 0.05422104662746139, 0.042171925154692196, 0.021085962577346098, 0.7821765060327024, 0.7773851469671528, 0.0973655359238206, 0.0486827679619103, 0.0973655359238206, 0.0486827679619103, 0.0486827679619103, 0.0486827679619103, 0.5841932155429237, 0.0486827679619103, 0.09574164899455018, 0.5744498939673011, 0.04787082449727509, 0.09574164899455018, 0.04787082449727509, 0.04787082449727509, 0.04787082449727509, 0.0796404491502102, 0.7167640423518918, 0.0796404491502102, 0.0796404491502102, 0.0796404491502102, 0.1291978908136051, 0.6459894540680255, 0.08721683054819758, 0.610517813837383, 0.17443366109639516, 0.09463814952486589, 0.6624670466740613, 0.09463814952486589, 0.835439435491247, 0.16983479025096082, 0.18981535380989736, 0.0599416906768097, 0.3496598622813899, 0.02997084533840485, 0.039961127117873134, 0.04995140889734141, 0.019980563558936567, 0.0599416906768097, 0.02997084533840485, 0.06012506116526816, 0.5411255504874135, 0.03006253058263408, 0.09018759174790224, 0.09018759174790224, 0.06012506116526816, 0.03006253058263408, 0.03006253058263408, 0.03006253058263408, 0.03006253058263408, 0.6038023233125918, 0.7314135365773419, 0.03876824330716285, 0.1550729732286514, 0.0775364866143257, 0.03876824330716285, 0.11630472992148855, 0.03876824330716285, 0.0775364866143257, 0.03876824330716285, 0.34891418976446564, 0.03876824330716285, 0.7464829647000909, 0.07464829647000909, 0.07464829647000909, 0.07464829647000909, 0.1314240269476728, 0.32417926647092626, 0.09637761976162673, 0.07009281437209217, 0.11390082335464977, 0.07009281437209217, 0.07009281437209217, 0.04380800898255761, 0.04380800898255761, 0.026284805389534562, 0.7115701121501042, 0.14637871754765333, 0.7318935877382666, 0.7442303856823076, 0.7156353121867102, 0.6139448675937311, 0.145164448025651, 0.7258222401282551, 0.6692419327019254, 0.19844304671028212, 0.13229536447352142, 0.10709624743094591, 0.09449668890965816, 0.06299779260643877, 0.11024613706126785, 0.09449668890965816, 0.10394635780062397, 0.0566980133457949, 0.0409485651941852, 0.23769204869933794, 0.7130761460980137, 0.7109479888171943, 0.6767748082001187, 0.08459685102501484, 0.18459613086861787, 0.11248826724806402, 0.08076080725502033, 0.07787649271019817, 0.20478633268237295, 0.06057060544126524, 0.06922354907573171, 0.049033347261976626, 0.0951823799791311, 0.06633923453090955, 0.1504458456656773, 0.6017833826627093, 0.715486924647749, 0.8505723002931355, 0.0534938637517785, 0.0534938637517785, 0.5884325012695636, 0.106987727503557, 0.0534938637517785, 0.106987727503557, 0.0534938637517785, 0.0534938637517785, 0.0857729814266245, 0.0857729814266245, 0.0857729814266245, 0.0857729814266245, 0.0857729814266245, 0.6004108699863715, 0.08116268865054684, 0.08116268865054684, 0.6493015092043747, 0.08116268865054684, 0.08116268865054684, 0.08116268865054684, 0.7919616457732745, 0.7864583469507567, 0.7320259850624086, 0.5733186076318133, 0.03185103375732296, 0.12740413502929185, 0.03185103375732296, 0.09555310127196888, 0.03185103375732296, 0.03185103375732296, 0.03185103375732296, 0.03185103375732296, 0.5895945599685456, 0.15926099705283803, 0.1533624416064366, 0.08847833169602112, 0.0707826653568169, 0.08257977624961972, 0.0766812208032183, 0.17105810794564086, 0.09437688714242254, 0.08847833169602112, 0.017695666339204226, 0.10848367725808555, 0.15187714816131975, 0.06780229828630346, 0.15458924009277192, 0.21967944644762324, 0.05424183862904278, 0.07593857408065988, 0.04610556283468636, 0.08678694180646844, 0.029833011245973526, 0.13952316962026023, 0.04650772320675341, 0.04650772320675341, 0.5580926784810409, 0.04650772320675341, 0.04650772320675341, 0.04650772320675341, 0.04650772320675341, 0.04650772320675341, 0.7836520925222675, 0.03562054966010307, 0.03562054966010307, 0.03562054966010307, 0.03562054966010307, 0.03562054966010307, 0.03562054966010307, 0.03562054966010307, 0.054480398600433674, 0.2724019930021684, 0.054480398600433674, 0.054480398600433674, 0.054480398600433674, 0.4358431888034694, 0.6706365286498414, 0.11177275477497357, 0.08432074125204018, 0.08432074125204018, 0.5902451887642813, 0.08432074125204018, 0.6514576048376648, 0.025056061724525566, 0.05011212344905113, 0.10022424689810226, 0.025056061724525566, 0.025056061724525566, 0.025056061724525566, 0.025056061724525566, 0.05011212344905113, 0.025056061724525566, 0.7103392368751201, 0.07892658187501335, 0.07892658187501335, 0.07876882315058012, 0.7876882315058013, 0.07876882315058012, 0.10351185631595952, 0.7245829942117167, 0.12177222323999322, 0.12177222323999322, 0.6088611161999661, 0.8086834880947074, 0.7844355764422324, 0.13073926274037206, 0.2331504465667408, 0.03586929947180628, 0.21521579683083766, 0.32282369524625654, 0.053803949207709416, 0.01793464973590314, 0.053803949207709416, 0.03586929947180628, 0.03586929947180628, 0.01793464973590314, 0.08143719188557011, 0.08143719188557011, 0.6514975350845609, 0.16287438377114022, 0.14318714580549988, 0.17182457496659986, 0.08591228748329993, 0.028637429161099976, 0.16227876524623322, 0.03818323888146664, 0.23864524300916648, 0.03818323888146664, 0.06682066804256662, 0.028637429161099976, 0.17328035295493924, 0.5891532000467934, 0.034656070590987846, 0.034656070590987846, 0.10396821177296355, 0.034656070590987846, 0.034656070590987846, 0.07638530004534516, 0.15277060009069032, 0.07638530004534516, 0.07638530004534516, 0.07638530004534516, 0.3819265002267258, 0.10673056158721067, 0.10673056158721067, 0.5336528079360534, 0.3527870379397982, 0.06723926442698716, 0.06723926442698716, 0.6723926442698716, 0.06723926442698716, 0.06723926442698716, 0.15771121493052725, 0.11682312217076092, 0.07301445135672557, 0.12850543438783701, 0.14018774660491312, 0.07885560746526363, 0.08469676357380167, 0.05549098303111144, 0.13142601244210605, 0.02920578054269023, 0.6182342433515293, 0.047556480257809945, 0.19022592103123978, 0.023778240128904973, 0.023778240128904973, 0.023778240128904973, 0.023778240128904973, 0.023778240128904973, 0.023778240128904973, 0.6999142048036806, 0.07776824497818673, 0.07776824497818673, 0.6413807355941422, 0.4119754311094795, 0.07300830424724952, 0.1095124563708743, 0.02607439437401769, 0.05736366762283891, 0.16166124511890967, 0.06257854649764245, 0.03128927324882123, 0.0417190309984283, 0.02607439437401769, 0.07415415738960164, 0.09697082120178675, 0.12549165096701814, 0.11978748501397188, 0.14830831477920328, 0.0570416595304628, 0.13119581692006443, 0.07415415738960164, 0.142604148826157, 0.03422499571827768, 0.7815020892074164, 0.0236061244181269, 0.1180306220906345, 0.03147483255750253, 0.6137592348712994, 0.0472122488362538, 0.05508095697562943, 0.03147483255750253, 0.03934354069687816, 0.015737416278751266, 0.015737416278751266, 0.20828285763011653, 0.037869610478203, 0.35976129954292857, 0.056804415717304504, 0.037869610478203, 0.09467402619550751, 0.09467402619550751, 0.0189348052391015, 0.056804415717304504, 0.0189348052391015, 0.13527862966072934, 0.14568467809617006, 0.09365443591896647, 0.09365443591896647, 0.2046522858970008, 0.11099784997803433, 0.04162419374176287, 0.055498924989017165, 0.09365443591896647, 0.020812096870881435, 0.10214091777225316, 0.6128455066335189, 0.10214091777225316, 0.1320646303445973, 0.6603231517229865, 0.6280227375173634, 0.10467045625289388, 0.10467045625289388, 0.11557870224779136, 0.6934722134867483, 0.16154233693462736, 0.12482816944948477, 0.11748533595245626, 0.21294217141382696, 0.05874266797622813, 0.10279966895839922, 0.05874266797622813, 0.08811400196434219, 0.05139983447919961, 0.014685666994057033, 0.10671415314424783, 0.126116726443202, 0.07761029319581661, 0.09701286649477076, 0.10671415314424783, 0.10671415314424783, 0.05820771989686245, 0.22312959293797274, 0.07761029319581661, 0.038805146597908305, 0.8084701399813407, 0.17565001894915622, 0.1248039608322952, 0.09706974731400737, 0.09706974731400737, 0.10169211623372201, 0.14329343651115375, 0.08320264055486347, 0.06471316487600492, 0.06009079595629028, 0.050846058116861007, 0.10252393313044583, 0.7176675319131208, 0.10252393313044583, 0.10252393313044583, 0.14020855055634432, 0.5608342022253773, 0.4976286246823099, 0.4976286246823099, 0.05568569593090396, 0.11137139186180792, 0.16705708779271186, 0.05568569593090396, 0.05568569593090396, 0.5011712633781357, 0.05568569593090396, 0.05568569593090396, 0.18490585822833422, 0.12775313841230365, 0.17145815944809173, 0.06723849390121245, 0.14456276188760675, 0.05379079512096996, 0.0605146445110912, 0.08404811737651556, 0.04034309634072747, 0.06387656920615183, 0.09732606297667945, 0.055614893129531114, 0.14598909446501918, 0.11122978625906223, 0.1946521259533589, 0.055614893129531114, 0.11122978625906223, 0.15989281774740197, 0.048663031488339725, 0.02085558492357417, 0.6496720284100203, 0.7646925115267394, 0.8429754117006999, 0.21500681191355317, 0.14527487291456295, 0.14236937545627168, 0.1133144008733591, 0.049393456790951404, 0.07554293391557274, 0.09588141612361155, 0.046487959332660145, 0.09588141612361155, 0.023243979666330072, 0.12204161558575179, 0.05424071803811191, 0.06780089754763989, 0.18984251313339168, 0.06780089754763989, 0.2576434106810316, 0.12204161558575179, 0.04068053852858393, 0.04068053852858393, 0.05424071803811191, 0.33924348452468317, 0.08251868542492294, 0.2658935419247517, 0.018337485649982874, 0.03667497129996575, 0.11919365672488869, 0.0733499425999315, 0.018337485649982874, 0.03667497129996575, 0.018337485649982874, 0.21132846185027726, 0.07044282061675909, 0.07044282061675909, 0.035221410308379546, 0.035221410308379546, 0.14088564123351818, 0.035221410308379546, 0.035221410308379546, 0.07044282061675909, 0.3169926927754159, 0.16659002690595381, 0.14699120021113574, 0.06859589343186334, 0.0783953067792724, 0.029398240042227144, 0.20578768029559003, 0.029398240042227144, 0.0391976533896362, 0.21558709364299908, 0.029398240042227144, 0.22463718068109848, 0.11956495100768144, 0.11231859034054924, 0.09782586900628482, 0.0833331476720204, 0.11594177067411533, 0.0797099673384543, 0.07608678700488819, 0.057970885337057666, 0.03260862300209494, 0.11321817200686977, 0.6793090320412186, 0.12015871407644557, 0.15713062609996728, 0.0797206853007187, 0.12015871407644557, 0.1143818528227703, 0.10629424706762493, 0.1270909475808559, 0.08318680205292386, 0.05661324028601763, 0.03466116752205161, 0.4836435493788274, 0.7552057335467367, 0.07552057335467367, 0.07552057335467367, 0.07552057335467367, 0.7925789341504139, 0.08331289267470163, 0.08331289267470163, 0.666503141397613, 0.08331289267470163, 0.16649772015599687, 0.4058381928802424, 0.11446718260724785, 0.08324886007799844, 0.06243664505849883, 0.04162443003899922, 0.04162443003899922, 0.031218322529249415, 0.031218322529249415, 0.02081221501949961, 0.8107897932009825, 0.11582711331442606, 0.11582711331442606, 0.22526825660242272, 0.1644458273197686, 0.10587608060313869, 0.08785462007494486, 0.148677049357599, 0.06983315954675105, 0.06983315954675105, 0.049559016452533, 0.04054828618843609, 0.036042921056387636, 0.10331956631716772, 0.06272973669256612, 0.09224961278318547, 0.14759938045309676, 0.1771192565437161, 0.1180795043624774, 0.06641972120389354, 0.04058982962460161, 0.16973928752106127, 0.018449922556637095, 0.09221963731760204, 0.09221963731760204, 0.09221963731760204, 0.5533178239056122, 0.13778568553289516, 0.11711783270296088, 0.05511427421315806, 0.0964499798730266, 0.07578212704309234, 0.10333926414967136, 0.05511427421315806, 0.15845353836282944, 0.14467496980953992, 0.05511427421315806, 0.0374922928538713, 0.0374922928538713, 0.1874614642693565, 0.0374922928538713, 0.0374922928538713, 0.0374922928538713, 0.0749845857077426, 0.5623843928080695, 0.048157503568160606, 0.1364462601097884, 0.056183754162854045, 0.313023773193044, 0.056183754162854045, 0.17657751308325556, 0.09631500713632121, 0.048157503568160606, 0.040131252973467174, 0.024078751784080303, 0.0914563841571092, 0.4115537287069914, 0.07621365346425767, 0.030485461385703065, 0.0457281920785546, 0.030485461385703065, 0.21339822969992145, 0.0457281920785546, 0.030485461385703065, 0.030485461385703065, 0.6832692252924695, 0.22775640843082315, 0.7075507541468471, 0.13299513355255047, 0.6649756677627524, 0.7882584097457626, 0.09107625866036999, 0.15179376443394998, 0.06071750577357999, 0.3440658660502866, 0.08095667436477332, 0.04047833718238666, 0.04047833718238666, 0.050597921477983324, 0.13155459584275664, 0.02023916859119333, 0.08570591158955658, 0.08570591158955658, 0.6856472927164526, 0.8082861239270149, 0.09847136296352968, 0.6892995407447078, 0.09847136296352968, 0.7078636110463767, 0.1572567074898111, 0.18870804898777332, 0.06290268299592444, 0.07338646349524518, 0.23588506123471664, 0.0524189024966037, 0.08387024399456593, 0.03145134149796222, 0.09435402449388666, 0.01572567074898111, 0.46735562816204046, 0.08308544500658496, 0.11424248688405433, 0.09347112563240809, 0.051928403129115605, 0.051928403129115605, 0.04154272250329248, 0.02077136125164624, 0.04154272250329248, 0.04154272250329248, 0.1702580564177198, 0.17891524572709538, 0.09811481217292327, 0.046171676316669776, 0.17314378618751167, 0.07214324424479653, 0.11254346102188258, 0.07791470378438024, 0.031743027467710475, 0.03751448700729419, 0.5445008762626914, 0.06640254588569407, 0.053122036708555254, 0.026561018354277627, 0.03984152753141644, 0.10624407341711051, 0.053122036708555254, 0.026561018354277627, 0.053122036708555254, 0.026561018354277627, 0.0790272650058922, 0.0790272650058922, 0.0790272650058922, 0.6322181200471376, 0.41144470890086643, 0.08816672333589995, 0.11755563111453327, 0.07837042074302217, 0.04898151296438886, 0.10775932852165548, 0.039185210371511084, 0.05877781555726663, 0.039185210371511084, 0.019592605185755542, 0.06442215410884969, 0.06442215410884969, 0.12884430821769938, 0.06442215410884969, 0.06442215410884969, 0.5153772328707975, 0.668866777157691, 0.6848403795639738, 0.11052835362374061, 0.12434439782670818, 0.12434439782670818, 0.15197648623264334, 0.06908022101483788, 0.027632088405935153, 0.08289626521780545, 0.013816044202967576, 0.29013692826231907, 0.013816044202967576, 0.08840793139812543, 0.044203965699062715, 0.044203965699062715, 0.5304475883887526, 0.044203965699062715, 0.044203965699062715, 0.17681586279625086, 0.044203965699062715, 0.044203965699062715, 0.044203965699062715, 0.654477912624774, 0.13089558252495478, 0.6952139749737898, 0.7308253118531001, 0.07139196730743835, 0.1903785794865023, 0.11303728157011074, 0.07734129791639156, 0.24987188557603426, 0.04164531426267238, 0.1368346040059235, 0.029746653044765984, 0.05354397548057877, 0.023797322435812788, 0.7933795410404667, 0.19031517024392328, 0.06343839008130776, 0.5709455107317698, 0.06343839008130776, 0.06343839008130776, 0.7452090630454331, 0.1490418126090866, 0.24868388921019666, 0.07105253977434191, 0.035526269887170954, 0.07105253977434191, 0.035526269887170954, 0.035526269887170954, 0.14210507954868382, 0.035526269887170954, 0.07105253977434191, 0.2131576193230257, 0.7290010763524637, 0.05607700587326644, 0.05607700587326644, 0.05607700587326644, 0.05607700587326644, 0.05607700587326644, 0.1798988098126189, 0.11993253987507928, 0.07995502658338619, 0.15991005316677237, 0.09994378322923274, 0.02998313496876982, 0.03997751329169309, 0.02998313496876982, 0.2598538363960051, 0.009994378322923273, 0.5112799849513572, 0.08391521825210035, 0.08391521825210035, 0.6713217460168028, 0.6028667856011721, 0.09156925487134704, 0.35795254176981117, 0.05827134400903902, 0.09989373258692404, 0.14984059888038606, 0.05827134400903902, 0.09156925487134704, 0.041622388577885014, 0.02497343314673101, 0.02497343314673101, 0.7175225723077435, 0.12500845930766497, 0.18751268896149745, 0.10512074987235463, 0.11364405391605907, 0.14205506739507384, 0.0852330404370443, 0.10227964852445316, 0.04545762156642363, 0.056822026958029535, 0.036934317522719196, 0.5857325055808156, 0.1326049046987376, 0.6630245234936879, 0.07091131474229036, 0.07091131474229036, 0.6382018326806133, 0.07091131474229036, 0.07091131474229036, 0.07091131474229036, 0.20252488751602785, 0.06075746625480836, 0.22277737626763064, 0.06582058844270905, 0.10632556594591462, 0.1620199100128223, 0.07594683281851045, 0.035441855315304874, 0.05569434406690766, 0.01518936656370209, 0.5922760646245814, 0.7845445327126317, 0.7310708086364895, 0.7433430065966246, 0.1486686013193249, 0.7119609914198817, 0.7004438122189786, 0.6978429163648037, 0.13367857196249902, 0.32464796048035477, 0.04774234712946394, 0.02864540827767836, 0.2196147967955341, 0.03819387770357115, 0.02864540827767836, 0.08593622483303508, 0.0763877554071423, 0.019096938851785573, 0.6749633020080935, 0.16874082550202338, 0.17168521135571213, 0.08584260567785607, 0.08584260567785607, 0.6008982397449925, 0.1112568197343945, 0.0964225771031419, 0.1112568197343945, 0.074171213156263, 0.0445027278937578, 0.0964225771031419, 0.0815883344718893, 0.0519198492093841, 0.296684852625052, 0.0370856065781315, 0.14545994090587125, 0.7272997045293562, 0.21163435581736345, 0.11022622698821012, 0.07495383435198288, 0.11904432514726694, 0.07495383435198288, 0.0969990797496249, 0.05290858895434086, 0.10581717790868173, 0.11904432514726694, 0.030863343556698834, 0.7074035057024093, 0.5173920178724558, 0.07982837012866806, 0.7184553311580125, 0.07982837012866806, 0.17761708188221867, 0.532851245646656, 0.11626195081750061, 0.11626195081750061, 0.46504780327000245, 0.10020360867694138, 0.25050902169235345, 0.06441660557803375, 0.1073610092967229, 0.16462021425497514, 0.03578700309890764, 0.19324981673410124, 0.02147220185934458, 0.04294440371868916, 0.014314801239563054, 0.09867051644493943, 0.09867051644493943, 0.09867051644493943, 0.09867051644493943, 0.09867051644493943, 0.09867051644493943, 0.09867051644493943, 0.4933525822246972, 0.8145841478411621, 0.7493575719272598, 0.740234050825237, 0.5319638675504235, 0.7385657030083773, 0.09232071287604716, 0.038659326787099574, 0.25128562411614724, 0.019329663393549787, 0.038659326787099574, 0.05798899018064937, 0.5025712482322945, 0.038659326787099574, 0.019329663393549787, 0.019329663393549787, 0.019329663393549787, 0.676718689768688, 0.17041775648716329, 0.6475874746512205, 0.06816710259486532, 0.03408355129743266, 0.03408355129743266, 0.03408355129743266, 0.23587545689067307, 0.7076263706720193, 0.19516211097846367, 0.03252701849641061, 0.06505403699282122, 0.03252701849641061, 0.03252701849641061, 0.03252701849641061, 0.09758105548923184, 0.42285124045333794, 0.03252701849641061, 0.12652621854569063, 0.6326310927284532, 0.14229218843499183, 0.07114609421749592, 0.03557304710874796, 0.07114609421749592, 0.07114609421749592, 0.10671914132624387, 0.39130351819622755, 0.07114609421749592, 0.03557304710874796, 0.6993331995694742, 0.23311106652315808, 0.06602279253532355, 0.1320455850706471, 0.06602279253532355, 0.5281823402825884, 0.06602279253532355, 0.1320455850706471, 0.6482096848368433, 0.6914792949654943, 0.1291375201538904, 0.2582750403077808, 0.3874125604616712, 0.0161421900192363, 0.0322843800384726, 0.0161421900192363, 0.0645687600769452, 0.0484265700577089, 0.0161421900192363, 0.0322843800384726, 0.23612406939244204, 0.590310173481105, 0.08720860631919962, 0.08720860631919962, 0.08720860631919962, 0.08720860631919962, 0.6104602442343974, 0.13920244385561834, 0.12992228093191047, 0.10208179216078679, 0.03248057023297762, 0.023200407309269724, 0.1856032584741578, 0.08352146631337101, 0.24128423601640514, 0.03712065169483156, 0.02784048877112367, 0.06660169874212918, 0.732618686163421, 0.06660169874212918, 0.01847349637712902, 0.07389398550851609, 0.03694699275425804, 0.07389398550851609, 0.055420489131387064, 0.055420489131387064, 0.2586289492798063, 0.35099643116545143, 0.055420489131387064, 0.01847349637712902, 0.4695352060487386, 0.11047887201146792, 0.05523943600573396, 0.05523943600573396, 0.01380985900143349, 0.06904929500716744, 0.02761971800286698, 0.06904929500716744, 0.08285915400860093, 0.05523943600573396, 0.18611946600339965, 0.18611946600339965, 0.5583583980101989, 0.17860407105306914, 0.1587591742693948, 0.11576189790476703, 0.06614965594558116, 0.07607210433741833, 0.1653741398639529, 0.0859945527292555, 0.06945713874286022, 0.04961224195918587, 0.03638231077006964, 0.09348648300000816, 0.1168581037500102, 0.1285439141250112, 0.04674324150000408, 0.3388885008750296, 0.035057431125003057, 0.10517229337500918, 0.07011486225000611, 0.02337162075000204, 0.02337162075000204, 0.7881497304206766, 0.08082861555845555, 0.040414307779227776, 0.12124292333768333, 0.12124292333768333, 0.053885743705637035, 0.040414307779227776, 0.026942871852818517, 0.20207153889613888, 0.24248584667536666, 0.08082861555845555, 0.19705863189583325, 0.08847530411649657, 0.15684258457015302, 0.1246697467096088, 0.08043209465136052, 0.0924969088490646, 0.06836728045365643, 0.06032407098852039, 0.08847530411649657, 0.044237652058248284, 0.47084899739644115, 0.5346509312210352, 0.13691753628267733, 0.17058578290956522, 0.08753744122990846, 0.051624644827894736, 0.16834123313443936, 0.09876019010553776, 0.09202654078016018, 0.08753744122990846, 0.07407014257915331, 0.03142369685176201, 0.9092346692403175, 0.13889936501647693, 0.12915204115567153, 0.11209422439926207, 0.11209422439926207, 0.15352035080768503, 0.06579443606043643, 0.10965739343406072, 0.08772591474724858, 0.05361028123442969, 0.03655246447802024, 0.7348047517544918, 0.14518946271327599, 0.108892097034957, 0.0544460485174785, 0.07259473135663799, 0.018148682839159498, 0.1996355112307545, 0.29037892542655197, 0.036297365678318996, 0.018148682839159498, 0.0544460485174785, 0.09085902320066755, 0.5451541392040052, 0.09085902320066755, 0.8416973340176486, 0.045363150572409805, 0.09072630114481961, 0.045363150572409805, 0.045363150572409805, 0.045363150572409805, 0.6350841080137373, 0.045363150572409805, 0.045363150572409805, 0.5730294155762309, 0.7575726727863772, 0.8085342068895738, 0.08735873443263328, 0.611511141028433, 0.08735873443263328, 0.08735873443263328, 0.5979568924889149, 0.8292103920927106, 0.09213448801030118, 0.2161758464704158, 0.2244903021038933, 0.07898732851803654, 0.0956162397849916, 0.07898732851803654, 0.058201189434342715, 0.11224515105194666, 0.033257822533910124, 0.07898732851803654, 0.020786139083693825, 0.7900356009765142, 0.7961543043035636, 0.737653957198769, 0.10537913674268129, 0.10537913674268129, 0.07520410510041432, 0.6768369459037289, 0.07520410510041432, 0.07520410510041432, 0.7878608940153559, 0.16126285761439768, 0.24419804153037364, 0.0737201634808675, 0.1197952656564097, 0.10597273500374704, 0.07832767369842172, 0.1197952656564097, 0.04146759195798797, 0.04146759195798797, 0.013822530652662658, 0.7221554195092453, 0.12035923658487423, 0.5620726118143772, 0.17166815355675222, 0.16613047118395377, 0.07752755321917842, 0.06091450610078305, 0.1495174240655584, 0.0664521884735815, 0.11075364745596918, 0.14397974169275993, 0.03876377660958921, 0.016613047118395376, 0.09737584875499916, 0.09737584875499916, 0.6816309412849941, 0.15103198068659343, 0.1325382687657861, 0.14486741004632434, 0.16027883664699713, 0.0462342798020184, 0.08013941832349857, 0.077057133003364, 0.09555084492417136, 0.0924685596040368, 0.01849371192080736, 0.07890753767941912, 0.15781507535883824, 0.07890753767941912, 0.07890753767941912, 0.6312603014353529, 0.2393373970784411, 0.1641170722823596, 0.1162495928666714, 0.1162495928666714, 0.07180121912353234, 0.09573495883137645, 0.061543902105884854, 0.061543902105884854, 0.0410292680705899, 0.030771951052942427, 0.7365022778226219, 0.1473004555645244, 0.6036930224562056, 0.4706764817646714, 0.07819428116126631, 0.10425904154835508, 0.4170361661934203, 0.05212952077417754, 0.10425904154835508, 0.05212952077417754, 0.07819428116126631, 0.05212952077417754, 0.07819428116126631, 0.02606476038708877, 0.10663299383597842, 0.16935828432773045, 0.11290552288515363, 0.08154287763927762, 0.11290552288515363, 0.17563081337690564, 0.05645276144257681, 0.050180232393401615, 0.09408793573762803, 0.037635174295051206, 0.1730544962273577, 0.11101609191943701, 0.1371375253122457, 0.12081162944174027, 0.12081162944174027, 0.09142501687483048, 0.07183394183022394, 0.07183394183022394, 0.06203840430792068, 0.042447329263314154, 0.18406063508389095, 0.12059145057220441, 0.1078976136698671, 0.06981610296285519, 0.13963220592571038, 0.03173459225584326, 0.10155069521869844, 0.05712226606051787, 0.13963220592571038, 0.05077534760934922, 0.7403957528830524, 0.08346069767891016, 0.13353711628625625, 0.07511462791101914, 0.1084989069825832, 0.17526746512571134, 0.24203602326883947, 0.058422488375237114, 0.04173034883945508, 0.058422488375237114, 0.025038209303673047, 0.07335323801887307, 0.07335323801887307, 0.036676619009436535, 0.476796047122675, 0.036676619009436535, 0.036676619009436535, 0.22005971405661923, 0.056583544212683655, 0.056583544212683655, 0.056583544212683655, 0.056583544212683655, 0.056583544212683655, 0.056583544212683655, 0.6790025305522039, 0.029623038106633887, 0.5924607621326777, 0.05924607621326777, 0.05924607621326777, 0.029623038106633887, 0.05924607621326777, 0.05924607621326777, 0.029623038106633887, 0.029623038106633887, 0.06563774840513799, 0.30799251174718595, 0.060588690835511994, 0.085833978683642, 0.14642266951915398, 0.07573586354438999, 0.06563774840513799, 0.06563774840513799, 0.07573586354438999, 0.045441518126633995, 0.10205543888727368, 0.19233525021063116, 0.08635460213538541, 0.08635460213538541, 0.14130753076699432, 0.05102771944363684, 0.16485878589482672, 0.06280334700755304, 0.07850418375944129, 0.03532688269174858, 0.0481260541602975, 0.6737647582441649, 0.0481260541602975, 0.0481260541602975, 0.0481260541602975, 0.0481260541602975, 0.0481260541602975, 0.0481260541602975, 0.4477612246241593, 0.054988220567879206, 0.06284368064900481, 0.031421840324502404, 0.11783190121688401, 0.06284368064900481, 0.16496466170363763, 0.023566380243376803, 0.007855460081125601, 0.031421840324502404, 0.04503970026031524, 0.09007940052063047, 0.5855161033840981, 0.04503970026031524, 0.04503970026031524, 0.04503970026031524, 0.04503970026031524, 0.04503970026031524, 0.04503970026031524, 0.19726341590845192, 0.5917902477253558, 0.7973212318235464, 0.6873589570944959, 0.1492012981420306, 0.5968051925681224, 0.6852698434035821, 0.04952865447735938, 0.04952865447735938, 0.04952865447735938, 0.04952865447735938, 0.09905730895471876, 0.04952865447735938, 0.5448151992509532, 0.09905730895471876, 0.6023833743590409, 0.609620061550799, 0.1450512445058665, 0.07252562225293326, 0.17613365404283793, 0.05180401589495233, 0.07252562225293326, 0.08288642543192373, 0.0932472286109142, 0.05180401589495233, 0.041443212715961866, 0.21757686675879978, 0.08360144145350164, 0.08360144145350164, 0.5016086487210099, 0.08360144145350164, 0.04180072072675082, 0.04180072072675082, 0.04180072072675082, 0.08360144145350164, 0.08360144145350164, 0.04180072072675082, 0.47287836023439905, 0.7076284981382824, 0.7310539141135224, 0.0913817392641903, 0.5977401332552966, 0.17629939591347643, 0.5288981877404293, 0.7473036391234457, 0.07353670939439995, 0.07353670939439995, 0.07353670939439995, 0.6618303845495995, 0.07353670939439995, 0.7069774697017946, 0.07888785751265197, 0.07888785751265197, 0.7099907176138678, 0.3183476206383739, 0.12279122510337279, 0.1045999324954657, 0.1045999324954657, 0.03183476206383739, 0.10914775564744247, 0.05457387782372124, 0.07276517043162832, 0.05457387782372124, 0.02273911575988385, 0.1659279738986643, 0.6637118955946572, 0.12910616186355953, 0.3442830983028254, 0.07746369711813571, 0.025821232372711906, 0.18074862660898333, 0.12910616186355953, 0.025821232372711906, 0.03442830983028254, 0.04303538728785317, 0.008607077457570635, 0.07573144802026976, 0.6815830321824279, 0.07573144802026976, 0.07573144802026976, 0.14104714762412607, 0.7052357381206303, 0.06453115024170512, 0.7098426526587565, 0.06453115024170512, 0.06453115024170512, 0.06453115024170512, 0.06453115024170512, 0.7540897634710007, 0.06330350360201156, 0.6963385396221271, 0.06330350360201156, 0.06330350360201156, 0.06330350360201156, 0.06330350360201156, 0.05091378820350222, 0.05091378820350222, 0.05091378820350222, 0.05091378820350222, 0.5091378820350222, 0.05091378820350222, 0.05091378820350222, 0.20365515281400887, 0.05091378820350222, 0.47270067147509254, 0.699147361204565, 0.7536376703325844, 0.15685930814751675, 0.044816945185004786, 0.044816945185004786, 0.08963389037000957, 0.06722541777750718, 0.06722541777750718, 0.044816945185004786, 0.3809440340725407, 0.08963389037000957, 0.022408472592502393, 0.7386755746060877, 0.04892819166841877, 0.04892819166841877, 0.04892819166841877, 0.09785638333683754, 0.04892819166841877, 0.6849946833578627, 0.7878015504528637, 0.21455995009751982, 0.26819993762189975, 0.07747998197965994, 0.06555998475201995, 0.053639987524379956, 0.06555998475201995, 0.15495996395931988, 0.03575999168291997, 0.041719990296739964, 0.02383999445527998, 0.13553939422671776, 0.6776969711335888, 0.06315664566958787, 0.06315664566958787, 0.6947231023654665, 0.06315664566958787, 0.06315664566958787, 0.06315664566958787, 0.06315664566958787, 0.8213715851326611, 0.1642743170265322, 0.06058365276147159, 0.06058365276147159, 0.04543773957110369, 0.04543773957110369, 0.09087547914220738, 0.12116730552294318, 0.12116730552294318, 0.2574805242362543, 0.15145913190367896, 0.030291826380735794, 0.18787666477605977, 0.10288484023450892, 0.11183134808098795, 0.120777855927467, 0.08051857061831133, 0.10735809415774844, 0.08499182454155084, 0.058152301002113736, 0.08499182454155084, 0.06262555492535325, 0.12858622919004906, 0.7715173751402944, 0.6066739528839331, 0.7503779215079007, 0.05002519476719338, 0.05002519476719338, 0.05002519476719338, 0.05002519476719338, 0.7274346815676291, 0.11975142871024617, 0.5987571435512309, 0.17342215043349307, 0.5202664513004792, 0.674239708160338, 0.0674239708160338, 0.0674239708160338, 0.0674239708160338, 0.1883606254518638, 0.12152298416249278, 0.11848490955843045, 0.08506608891374494, 0.08202801430968262, 0.13063720797467973, 0.10633261114218118, 0.07291379049749566, 0.04860919366499711, 0.04557111906093479, 0.8126903105460873, 0.6070391404849246, 0.6904078918737618, 0.2636415661814031, 0.11958998878331689, 0.09512840016854753, 0.10328226304013731, 0.059794994391658446, 0.11415408020225702, 0.07610272013483801, 0.08425658300642781, 0.05707704010112851, 0.03261545148635915, 0.18927594526870473, 0.14195695895152854, 0.14752389851825515, 0.14752389851825515, 0.0668032748007193, 0.08628756328426244, 0.08907103306762575, 0.05288592588390279, 0.04731898631717618, 0.03061816761699635, 0.0705986780221695, 0.564789424177356, 0.141197356044339, 0.0705986780221695, 0.15691880164551347, 0.15691880164551347, 0.03922970041137837, 0.03922970041137837, 0.03922970041137837, 0.03922970041137837, 0.03922970041137837, 0.431526704525162, 0.12646444558601264, 0.19167267534130042, 0.1284404525482941, 0.07508826456669501, 0.16993659875620448, 0.06520822975528777, 0.12646444558601264, 0.035568125321066055, 0.061256215830724874, 0.017784062660533027, 0.5999561569366503, 0.06617052039446171, 0.06617052039446171, 0.13234104078892342, 0.06617052039446171, 0.13234104078892342, 0.06617052039446171, 0.5293641631556937, 0.6807951640497462, 0.14508271040528095, 0.7254135520264048, 0.7411700604235529, 0.7618943000972236, 0.696910261315404, 0.15392821826884834, 0.277070792883927, 0.03078564365376967, 0.40021336749900566, 0.03078564365376967, 0.03078564365376967, 0.03078564365376967, 0.03078564365376967, 0.03078564365376967, 0.13104449514982158, 0.032761123787455396, 0.032761123787455396, 0.22932786651218778, 0.032761123787455396, 0.4258946092369202, 0.032761123787455396, 0.032761123787455396, 0.06552224757491079, 0.032761123787455396, 0.2560332479025885, 0.10848866436550361, 0.0781118383431626, 0.10848866436550361, 0.10848866436550361, 0.1475445835370849, 0.0781118383431626, 0.052074558895441735, 0.0390559191715813, 0.02169773287310072, 0.7727427343235133, 0.1092899232112962, 0.08743193856903697, 0.09289643472960178, 0.07103845008734254, 0.23497333490428685, 0.14207690017468508, 0.0546449616056481, 0.07650294624790735, 0.07650294624790735, 0.0546449616056481, 0.04455892358095546, 0.04455892358095546, 0.13367677074286638, 0.04455892358095546, 0.04455892358095546, 0.04455892358095546, 0.04455892358095546, 0.579266006552421, 0.6125019314670361, 0.5994638717237294, 0.6741841305970884, 0.8474772521932995, 0.18723457727372314, 0.20049012256743803, 0.08947493073257565, 0.15243877087772148, 0.07290549911543201, 0.06793466963028892, 0.04970829485143092, 0.0828471580857182, 0.06959161279200328, 0.02982497691085855, 0.6894671748468931, 0.1279275929061795, 0.1279275929061795, 0.06396379645308975, 0.06396379645308975, 0.06396379645308975, 0.06396379645308975, 0.5756741680778077, 0.7393633139677372, 0.06721484672433975, 0.06721484672433975, 0.06721484672433975, 0.12902398933310202, 0.6451199466655102, 0.07627035905997043, 0.07627035905997043, 0.6101628724797634, 0.07627035905997043, 0.15254071811994085, 0.13245093953040415, 0.6622546976520207, 0.13245093953040415, 0.6023550938838235, 0.7012637184684989, 0.6749845576739797, 0.762814705936757, 0.21597312095958138, 0.11811030052477106, 0.12823404056975143, 0.1147357205097776, 0.0978628204348103, 0.09448824041981685, 0.06749160029986917, 0.047244120209908425, 0.07761534034484956, 0.040494960179921505, 0.10714906750557716, 0.10714906750557716, 0.642894405033463, 0.23748233114813358, 0.7124469934444008, 0.04508697631790543, 0.04508697631790543, 0.04508697631790543, 0.5861306921327706, 0.04508697631790543, 0.04508697631790543, 0.1352609289537163, 0.09017395263581086, 0.7471993374309385, 0.7168280071689211, 0.47260331391159194, 0.11348847162348968, 0.11348847162348968, 0.6809308297409381, 0.06085640703535379, 0.06085640703535379, 0.6694204773888917, 0.06085640703535379, 0.06085640703535379, 0.12030051813273762, 0.12030051813273762, 0.601502590663688, 0.23647064669941123, 0.47294129339882246, 0.7479580429298471, 0.6983087963105042, 0.2762794587205383, 0.08748849526150378, 0.1105117834882153, 0.09209315290684608, 0.08288383761616147, 0.09209315290684608, 0.105907125842873, 0.041441918808080735, 0.09209315290684608, 0.02302328822671152, 0.16266921132560958, 0.18352423841863644, 0.16266921132560958, 0.07090709211629136, 0.08342010837210748, 0.05422307044186986, 0.1418141842325827, 0.0625650812790806, 0.05839407586047523, 0.02085502709302687, 0.0516758117204504, 0.0516758117204504, 0.0516758117204504, 0.258379058602252, 0.0516758117204504, 0.1550274351613512, 0.4134064937636032, 0.0516758117204504, 0.8556415954944994, 0.11801384190455595, 0.11801384190455595, 0.5900692095227797, 0.6849183929876218, 0.14795118348573125, 0.2589145711000297, 0.11712802025953724, 0.04931706116191042, 0.13562191819525365, 0.17260971406668646, 0.04931706116191042, 0.030823163226194012, 0.02465853058095521, 0.018493897935716406, 0.5743006674042708, 0.1333584835901196, 0.21337357374419133, 0.09335093851308371, 0.10668678687209567, 0.09779622129942103, 0.12446791801744495, 0.06223395900872247, 0.04445282786337319, 0.09779622129942103, 0.017781131145349276, 0.14594017882492674, 0.7297008941246338, 0.09471071994244384, 0.6629750395971069, 0.09471071994244384, 0.09471071994244384, 0.8273567233807618, 0.7495268940420539, 0.5940529031266727, 0.5942940369674492, 0.16607542886136503, 0.11565967367130778, 0.14235036759545572, 0.062278285823011884, 0.16310979620312635, 0.11269404101306912, 0.05931265316477322, 0.06524391848125054, 0.07710644911420518, 0.03558759189886393, 0.17555010537919533, 0.23040951331019385, 0.10423287506889722, 0.03840158555169898, 0.15360634220679592, 0.02742970396549927, 0.15909228299989575, 0.02742970396549927, 0.02742970396549927, 0.05485940793099854, 0.8098851571677484, 0.5998101400559459, 0.07078379656152564, 0.07078379656152564, 0.6370541690537308, 0.07078379656152564, 0.07078379656152564, 0.07078379656152564, 0.07078379656152564, 0.7932034964034336, 0.1494923609194537, 0.5979694436778148, 0.7087735372844925, 0.75957707653871, 0.058097235881365845, 0.46477788705092676, 0.07746298117515446, 0.11619447176273169, 0.019365745293788615, 0.019365745293788615, 0.09682872646894307, 0.058097235881365845, 0.03873149058757723, 0.019365745293788615, 0.056228590212670154, 0.056228590212670154, 0.056228590212670154, 0.11245718042534031, 0.056228590212670154, 0.056228590212670154, 0.056228590212670154, 0.5622859021267016, 0.4894009810545035, 0.08739303233116134, 0.10487163879739361, 0.06991442586492908, 0.03495721293246454, 0.03495721293246454, 0.052435819398696806, 0.052435819398696806, 0.052435819398696806, 0.01747860646623227, 0.14183493649359993, 0.028366987298719986, 0.028366987298719986, 0.08510096189615995, 0.028366987298719986, 0.3971378221820798, 0.11346794919487994, 0.05673397459743997, 0.08510096189615995, 0.028366987298719986, 0.6098044688185661, 0.09890204422447989, 0.09890204422447989, 0.09890204422447989, 0.5934122653468793, 0.09890204422447989, 0.09890204422447989, 0.08043836621283595, 0.6435069297026876, 0.08043836621283595, 0.08043836621283595, 0.24452942447131526, 0.07132108213746695, 0.2649068765105915, 0.10188726019638136, 0.09169853417674322, 0.05094363009819068, 0.030566178058914407, 0.04075490407855254, 0.09169853417674322, 0.010188726019638135, 0.6926107495033244, 0.08657634368791554, 0.08657634368791554, 0.1960528721792395, 0.10379269703606797, 0.09994852307176916, 0.12685774082186085, 0.13454608875045848, 0.06150678342878102, 0.06150678342878102, 0.0845718272145739, 0.08841600117887272, 0.03844173964298814, 0.2303873884223857, 0.08191551588351492, 0.18430991073790856, 0.061436636912636185, 0.07679579614079524, 0.13311271331071173, 0.09215495536895428, 0.07167607639807555, 0.035838038199037775, 0.035838038199037775, 0.1212895933150668, 0.08663542379647629, 0.3985229494637909, 0.06930833903718103, 0.08663542379647629, 0.034654169518590516, 0.06930833903718103, 0.05198125427788577, 0.034654169518590516, 0.017327084759295258, 0.7239905594135396, 0.7778858047758669, 0.03704218117980319, 0.03704218117980319, 0.03704218117980319, 0.03704218117980319, 0.07408436235960637, 0.2184983544013783, 0.16797060994605956, 0.07920565347049963, 0.15841130694099925, 0.05599020331535319, 0.07101196518044794, 0.10242110362564608, 0.05325897388533596, 0.06964635046543934, 0.023215450155146443, 0.10105115711139066, 0.7073580997797346, 0.11301819716432139, 0.20314663287764098, 0.10586514671088333, 0.12017124761775946, 0.1373385687060108, 0.03862647244856554, 0.16595077051976306, 0.037195862357877925, 0.047210132992691216, 0.03290403208581509, 0.18343769509930646, 0.11792423256383987, 0.02620538501418664, 0.02620538501418664, 0.2751565426489597, 0.05241077002837328, 0.2751565426489597, 0.01310269250709332, 0.01310269250709332, 0.01310269250709332, 0.07941605618517215, 0.07941605618517215, 0.07941605618517215, 0.6353284494813772, 0.0805046088730357, 0.6842891754208035, 0.0805046088730357, 0.04025230443651785, 0.0805046088730357, 0.04025230443651785, 0.16900666504426431, 0.6760266601770573, 0.6406415141417924, 0.7211954177958261, 0.06556321979962056, 0.06556321979962056, 0.06556321979962056, 0.06556321979962056, 0.06678596571633587, 0.06678596571633587, 0.8014315885960305, 0.09682148257535554, 0.09682148257535554, 0.09682148257535554, 0.5809288954521332, 0.07928486571152919, 0.07928486571152919, 0.15856973142305839, 0.5549940599807043, 0.06284389614086994, 0.03142194807043497, 0.6598609094791343, 0.0942658442113049, 0.03142194807043497, 0.03142194807043497, 0.03142194807043497, 0.03142194807043497, 0.1549959840980263, 0.2087701010299946, 0.08540595042136143, 0.08856913377030075, 0.14234325070226905, 0.09489550046817936, 0.07591640037454349, 0.06959003367666487, 0.044284566885150374, 0.03163183348939312, 0.10906330287077562, 0.12118144763419514, 0.12724052001590488, 0.11512237525248538, 0.10906330287077562, 0.17571309906958293, 0.10603376667992075, 0.06664979619880733, 0.04544304286282318, 0.02120675333598415, 0.11066314696942463, 0.15143378006342317, 0.0815412661879971, 0.09319001850056811, 0.12813627543828116, 0.20967754162627825, 0.0815412661879971, 0.0815412661879971, 0.05241938540656956, 0.01747312846885652, 0.280355677896177, 0.1401778389480885, 0.06330612081526578, 0.07234985236030374, 0.16278716781068342, 0.05426238927022781, 0.07687171813282273, 0.05878425504274679, 0.06782798658778476, 0.027131194635113903, 0.7600043778634218, 0.29888390176282276, 0.10460936561698796, 0.1527628831232205, 0.036530254659900556, 0.0963070350124651, 0.1311768235514611, 0.07140004319889655, 0.04317211914351884, 0.0398511869017097, 0.02324652569266399, 0.09518748999068986, 0.18381032549926318, 0.09846981723174812, 0.11159912619598121, 0.1017521444728064, 0.05908189033904888, 0.18709265274032144, 0.06564654482116541, 0.08534050826751505, 0.016411636205291354, 0.16654555967076298, 0.14901444812647213, 0.07889000194930877, 0.05259333463287252, 0.13148333658218128, 0.061358890405017935, 0.13148333658218128, 0.061358890405017935, 0.05259333463287252, 0.11395222503789046, 0.6835150147358211, 0.12870041847294386, 0.12870041847294386, 0.5148016738917754, 0.13886948932741972, 0.23355323205066042, 0.06312249514882715, 0.20199198447624686, 0.10730824175300614, 0.05681024563394443, 0.044185746604179, 0.06312249514882715, 0.03156124757441357, 0.05681024563394443, 0.20158059794144856, 0.09202592514718304, 0.13584779426488924, 0.09640811205895367, 0.1051724858824949, 0.06573280367655931, 0.08764373823541242, 0.056968429853018074, 0.12708342044134802, 0.030675308382394347, 0.689800416810019, 0.17245010420250476, 0.08622505210125238, 0.10458547150994944, 0.10458547150994944, 0.05229273575497472, 0.05229273575497472, 0.05229273575497472, 0.575220093304722, 0.1536113574215321, 0.1536113574215321, 0.05120378580717737, 0.05120378580717737, 0.05120378580717737, 0.5120378580717737, 0.7103826103808063, 0.7741818122842705, 0.5626647233228629, 0.4743955655781491, 0.0746084094622208, 0.0746084094622208, 0.5968672756977664, 0.0746084094622208, 0.02486946982074027, 0.02486946982074027, 0.02486946982074027, 0.04973893964148054, 0.02486946982074027, 0.08403170824327326, 0.08403170824327326, 0.08403170824327326, 0.6722536659461861, 0.08403170824327326, 0.08912905204021472, 0.7130324163217178, 0.6860264784894912, 0.17502703819416834, 0.20360288116464478, 0.06429564668357204, 0.07143960742619115, 0.1428792148523823, 0.12144733262452496, 0.12501931299583452, 0.03214782334178602, 0.05715168594095293, 0.007143960742619116, 0.070886255037347, 0.23291198083699727, 0.04050643144991257, 0.04050643144991257, 0.05063303931239071, 0.35443127518673495, 0.08101286289982514, 0.04050643144991257, 0.070886255037347, 0.020253215724956284, 0.6908868387756797, 0.06943694448186503, 0.20831083344559512, 0.06943694448186503, 0.6249325003367854, 0.5425491830506348, 0.18084972768354493, 0.05378488527130392, 0.7529883937982549, 0.05378488527130392, 0.05378488527130392, 0.2599382766106209, 0.09747685372898285, 0.06498456915265523, 0.07581533067809777, 0.0541538076272127, 0.1083076152544254, 0.08664609220354032, 0.20578446898340824, 0.02166152305088508, 0.02166152305088508, 0.7926103886334411, 0.7241634364972361, 0.725102380109509, 0.1450204760219018, 0.08355899835839932, 0.08355899835839932, 0.5849129885087953, 0.08355899835839932, 0.6067416530859339, 0.6734948338945644, 0.10777736736310518, 0.10777736736310518, 0.538886836815526, 0.22015316487329933, 0.14577709565934685, 0.10115145413097537, 0.16362735227069547, 0.08032615475106868, 0.11305162520520777, 0.07140102644539438, 0.03570051322269719, 0.044625641528371486, 0.023800342148464795, 0.12288212851847778, 0.20086501777058868, 0.1205190106623532, 0.10870342138173034, 0.1299714820868515, 0.0779828892521109, 0.08743536067660919, 0.05671482854698974, 0.05907794640311431, 0.033083649985744014, 0.1519881817727192, 0.13510060602019486, 0.1182130302676705, 0.37152666655553584, 0.033775151505048714, 0.033775151505048714, 0.06755030301009743, 0.033775151505048714, 0.033775151505048714, 0.016887575752524357, 0.03651253834640569, 0.07302507669281139, 0.03651253834640569, 0.6207131518888968, 0.03651253834640569, 0.07302507669281139, 0.03651253834640569, 0.07302507669281139, 0.03651253834640569, 0.12950765781720372, 0.6475382890860185, 0.16400959327151693, 0.12300719495363768, 0.14823944007233258, 0.09462091919510592, 0.09777494983494278, 0.09146688855526905, 0.10092898047477965, 0.09777494983494278, 0.06308061279673728, 0.022078214478858046, 0.7103694901295076, 0.04725068000712641, 0.09450136001425281, 0.5670081600855169, 0.04725068000712641, 0.04725068000712641, 0.04725068000712641, 0.04725068000712641, 0.14175204002137923, 0.11627107932681033, 0.5813553966340517, 0.11627107932681033, 0.08060795406708374, 0.7254715866037537, 0.08060795406708374, 0.08060795406708374, 0.653884505431189, 0.040867781589449315, 0.040867781589449315, 0.040867781589449315, 0.040867781589449315, 0.08173556317889863, 0.040867781589449315, 0.08173556317889863, 0.040867781589449315, 0.7876349363261511, 0.5715037528296396, 0.11533581925430007, 0.16579524017805636, 0.07208488703393755, 0.09371035314411881, 0.23067163850860015, 0.01441697740678751, 0.20183768369502514, 0.050459420923756285, 0.02883395481357502, 0.021625466110181263, 0.04395890072468088, 0.6593835108702132, 0.08791780144936176, 0.04395890072468088, 0.04395890072468088, 0.04395890072468088, 0.04395890072468088, 0.04395890072468088, 0.6937588540331421, 0.06306898673028564, 0.06306898673028564, 0.06306898673028564, 0.0708230888640066, 0.5665847109120528, 0.0708230888640066, 0.1416461777280132, 0.0708230888640066, 0.11063996053413096, 0.17287493833457962, 0.07606497286721503, 0.10372496300074777, 0.1313849531342805, 0.0898949679339814, 0.07606497286721503, 0.08297997040059822, 0.06914997533383185, 0.0898949679339814, 0.17512072203647092, 0.12797283533434411, 0.10103118579027168, 0.06735412386018112, 0.04041247431610867, 0.13470824772036225, 0.06735412386018112, 0.20206237158054335, 0.05388329908814489, 0.020206237158054335, 0.7867359376918036, 0.10912569045850208, 0.10912569045850208, 0.10912569045850208, 0.05456284522925104, 0.05456284522925104, 0.49106560706325936, 0.05456284522925104, 0.05456284522925104, 0.14308715856117254, 0.08416891680068973, 0.19358850864158642, 0.04208445840034487, 0.15150405024124153, 0.2272560753618623, 0.05891824176048282, 0.0336675667202759, 0.05891824176048282, 0.01683378336013795, 0.1732946086809364, 0.05776486956031214, 0.09627478260052023, 0.04813739130026012, 0.15403965216083237, 0.3273342608417688, 0.05776486956031214, 0.02888243478015607, 0.038509913040208094, 0.009627478260052023, 0.7686626490646407, 0.10980894986637724, 0.05945932987829783, 0.019819776626099277, 0.7333317351656733, 0.039639553252198555, 0.039639553252198555, 0.019819776626099277, 0.05945932987829783, 0.019819776626099277, 0.019819776626099277, 0.019819776626099277, 0.7363744707087783, 0.8006431355968416, 0.11935174200914324, 0.16311404741249574, 0.07956782800609549, 0.16709243881280053, 0.1551572646118862, 0.04376230540335252, 0.08354621940640027, 0.04376230540335252, 0.11139495920853369, 0.03182713120243819, 0.08055258148024116, 0.04027629074012058, 0.04027629074012058, 0.08055258148024116, 0.12082887222036175, 0.2416577444407235, 0.04027629074012058, 0.3624866166610852, 0.05588406416752737, 0.11176812833505474, 0.05588406416752737, 0.5588406416752737, 0.05588406416752737, 0.05588406416752737, 0.05588406416752737, 0.05588406416752737, 0.6501585735822838, 0.13003171471645678, 0.6235599617919578, 0.059386663027805514, 0.07423332878475689, 0.07423332878475689, 0.014846665756951379, 0.059386663027805514, 0.029693331513902757, 0.029693331513902757, 0.014846665756951379, 0.014846665756951379, 0.6675052215919453, 0.7738443648046527, 0.07515990146608424, 0.5561832708490233, 0.04509594087965054, 0.12025584234573478, 0.06012792117286739, 0.030063960586433694, 0.04509594087965054, 0.030063960586433694, 0.015031980293216847, 0.015031980293216847, 0.34856274690743205, 0.6971254938148641, 0.7572871895845448, 0.19651417599421708, 0.12282135999638569, 0.09334423359725312, 0.11790850559653025, 0.1572113407953737, 0.08351852479754227, 0.04421568959869885, 0.029477126399132563, 0.08351852479754227, 0.07369281599783141, 0.10930738668715419, 0.7651517068100794, 0.7253143061755086, 0.2269640003992009, 0.051066900089820205, 0.13050430022954052, 0.08511150014970034, 0.039718700069860155, 0.11348200019960045, 0.08511150014970034, 0.20426760035928082, 0.04539280007984018, 0.02269640003992009, 0.6020306305909823, 0.1083518138310376, 0.11208808327348718, 0.15318704714043246, 0.07846165829144103, 0.18307720268002906, 0.11956062215838632, 0.10461554438858803, 0.033626424982046155, 0.08219792773389059, 0.02989015553959658, 0.25624879385249605, 0.16426204734134361, 0.09855722840480617, 0.09198674651115242, 0.0952719874579793, 0.09855722840480617, 0.0722753008301912, 0.0361376504150956, 0.0722753008301912, 0.019711445680961233, 0.16931694860082025, 0.16144174168915418, 0.07087686220499452, 0.20869298315915052, 0.06300165529332846, 0.08662727602832664, 0.06300165529332846, 0.06693925874916148, 0.07087686220499452, 0.03937603455833029, 0.04902970562027123, 0.09805941124054246, 0.09805941124054246, 0.6864158786837973, 0.0774609122036235, 0.0774609122036235, 0.0774609122036235, 0.0774609122036235, 0.5422263854253645, 0.0774609122036235, 0.0774609122036235, 0.1297423341342066, 0.2567817029739506, 0.06757413236156595, 0.08649488942280441, 0.2081283276736231, 0.024326687650163742, 0.12163343825081871, 0.03243558353355165, 0.05135634059479012, 0.021623722355701102, 0.7910086549600959, 0.1137065819552825, 0.05685329097764125, 0.17055987293292377, 0.05685329097764125, 0.05685329097764125, 0.05685329097764125, 0.05685329097764125, 0.45482632782113, 0.3214657453339945, 0.06262319714298595, 0.10019711542877752, 0.17534495200036065, 0.07097295676205075, 0.07097295676205075, 0.05009855771438876, 0.05009855771438876, 0.05844831733345355, 0.029224158666726775, 0.07586242670418679, 0.22758728011256035, 0.07586242670418679, 0.07586242670418679, 0.07586242670418679, 0.5310369869293075, 0.13057407522112793, 0.13057407522112793, 0.6528703761056397, 0.6888716868229312, 0.05299012975561009, 0.05299012975561009, 0.05299012975561009, 0.05299012975561009, 0.05299012975561009, 0.15919470849777592, 0.16387690580653402, 0.11237273541019477, 0.10300834079267854, 0.12407822868209005, 0.07491515694012985, 0.13578372195398533, 0.056186367705097384, 0.046821973087581154, 0.025752085198169634, 0.5902447304737747, 0.11804444206327588, 0.7082666523796552, 0.6970357745039416, 0.6359931352159142, 0.07066590391287934, 0.07066590391287934, 0.07066590391287934, 0.07066590391287934, 0.6135396599928977, 0.056954098446808564, 0.056954098446808564, 0.6264950829148942, 0.056954098446808564, 0.056954098446808564, 0.056954098446808564, 0.056954098446808564, 0.056954098446808564, 0.14794216208567243, 0.7397108104283622, 0.7457756436854943, 0.7928313216612759, 0.16237056760626806, 0.12001302823071987, 0.14825138781441866, 0.056476719167397584, 0.07059589895924698, 0.08824487369905872, 0.11295343833479517, 0.09883425854294577, 0.10236405349090812, 0.03882774442758584, 0.16318908981303404, 0.23968397566289376, 0.15298977169971942, 0.05099659056657314, 0.12749147641643285, 0.08159454490651702, 0.04589693150991583, 0.04589693150991583, 0.05099659056657314, 0.04079727245325851, 0.05357077577987477, 0.16071232733962432, 0.05357077577987477, 0.05357077577987477, 0.05357077577987477, 0.5892785335786225, 0.05892987997006407, 0.3653652558143972, 0.047143903976051255, 0.07071585596407688, 0.22393354388624345, 0.023571951988025627, 0.11785975994012814, 0.03535792798203844, 0.023571951988025627, 0.05892987997006407, 0.04204225776638795, 0.0840845155327759, 0.04204225776638795, 0.12612677329916386, 0.04204225776638795, 0.5885916087294314, 0.04204225776638795, 0.1395130892558892, 0.6975654462794459, 0.5812442624221944, 0.06458269582468827, 0.1937480874740648, 0.06458269582468827, 0.7894261924604855, 0.08379427422195822, 0.08379427422195822, 0.08379427422195822, 0.5865599195537076, 0.7543278046651493, 0.20513322380340282, 0.1784294905272202, 0.1420153087869712, 0.10195970887269726, 0.11895299368481346, 0.06918694530647314, 0.06918694530647314, 0.043697018088298824, 0.05097985443634863, 0.01942089692813281, 0.4685859735948088, 0.20821468251771144, 0.137742020742486, 0.1505552319743452, 0.12172550670266206, 0.06406605615929582, 0.09930238704690852, 0.0736759645831902, 0.06086275335133103, 0.05765945054336624, 0.03203302807964791, 0.11510307870631517, 0.20312308006996793, 0.08802000136365278, 0.09479077069931838, 0.19973769540213515, 0.03723923134616079, 0.13541538671331196, 0.05078077001749198, 0.040624616013993586, 0.03385384667832799, 0.11169078431393531, 0.13140092272227683, 0.03942027681668305, 0.09198064590559378, 0.052560369088910736, 0.3153622145334644, 0.019710138408341526, 0.032850230680569206, 0.1576811072667322, 0.03942027681668305, 0.836406705926759, 0.11076359242433687, 0.11076359242433687, 0.11076359242433687, 0.11076359242433687, 0.11076359242433687, 0.11076359242433687, 0.3322907772730106, 0.1156890069338835, 0.6941340416033009, 0.1156890069338835, 0.6871451700458878, 0.09009957347051499, 0.045049786735257495, 0.045049786735257495, 0.09009957347051499, 0.045049786735257495, 0.045049786735257495, 0.4504978673525749, 0.045049786735257495, 0.045049786735257495, 0.045049786735257495, 0.8037506182194153, 0.046047484858853883, 0.2302374242942694, 0.046047484858853883, 0.09209496971770777, 0.046047484858853883, 0.046047484858853883, 0.046047484858853883, 0.4604748485885388, 0.046047484858853883, 0.5620868120700984, 0.06987155941415214, 0.6987155941415215, 0.06987155941415214, 0.06987155941415214, 0.17617042927413173, 0.15526885291957374, 0.11346570021045772, 0.08957818437667715, 0.11047976073123515, 0.10450788177279001, 0.08360630541823201, 0.07763442645978687, 0.05673285010522886, 0.032845334271448284, 0.03870746647321793, 0.07741493294643587, 0.03870746647321793, 0.5419045306250511, 0.07741493294643587, 0.03870746647321793, 0.03870746647321793, 0.15482986589287173, 0.1285828210575408, 0.1347058125364713, 0.11021384662074925, 0.10409085514181873, 0.24491965915722055, 0.08572188070502719, 0.06122991478930514, 0.042860940352513595, 0.055106923310374624, 0.03061495739465257, 0.578817833528134, 0.6065705842707473, 0.08890034404522075, 0.03333762901695778, 0.15557560207913632, 0.11112543005652595, 0.4222766342147986, 0.022225086011305187, 0.055562715028262974, 0.03333762901695778, 0.07778780103956816, 0.011112543005652594, 0.10980222590191915, 0.3599072960118461, 0.10980222590191915, 0.05490111295095958, 0.0610012366121773, 0.14030284420800782, 0.0610012366121773, 0.03660074196730638, 0.048800989289741845, 0.012200247322435461, 0.6062191587687055, 0.6566703394860999, 0.13133406789722, 0.2549500021825566, 0.08498333406085219, 0.1321962974279923, 0.10386851940770823, 0.05193425970385412, 0.11803240841785027, 0.09442592673428021, 0.11331111208113626, 0.023606481683570053, 0.023606481683570053, 0.09729221989108545, 0.1378306448457044, 0.0729691649183141, 0.12161527486385681, 0.10539990488200925, 0.2107998097640185, 0.0729691649183141, 0.05675379493646651, 0.08107684990923787, 0.040538424954618936, 0.6366793822429067, 0.03183396911214533, 0.03183396911214533, 0.03183396911214533, 0.06366793822429066, 0.06366793822429066, 0.12733587644858133, 0.03183396911214533, 0.05236186508621498, 0.10472373017242996, 0.07854279762932247, 0.5236186508621498, 0.02618093254310749, 0.07854279762932247, 0.02618093254310749, 0.05236186508621498, 0.02618093254310749, 0.10711346426450355, 0.10711346426450355, 0.07415547526004092, 0.08239497251115657, 0.0576764807578096, 0.0988739670133879, 0.07415547526004092, 0.18126893952454448, 0.1400714532689662, 0.07415547526004092, 0.27989109890304975, 0.09608201902642007, 0.12114689355505139, 0.11279193537884094, 0.03341983270484176, 0.12114689355505139, 0.07101714449778875, 0.0835495817621044, 0.05012974905726264, 0.02924235361673654, 0.17506342993610063, 0.17506342993610063, 0.11546736868125786, 0.10429310719597484, 0.05959606125484277, 0.10429310719597484, 0.08566933805383647, 0.0819445842254088, 0.05959606125484277, 0.04469704594113207, 0.07020854410596339, 0.10531281615894508, 0.10531281615894508, 0.42125126463578033, 0.07020854410596339, 0.07020854410596339, 0.035104272052981694, 0.07020854410596339, 0.07020854410596339, 0.12342799159783414, 0.12342799159783414, 0.39496957311306924, 0.19748478655653462, 0.024685598319566827, 0.049371196639133655, 0.024685598319566827, 0.024685598319566827, 0.049371196639133655, 0.024685598319566827, 0.6153681944105027, 0.05128068286754189, 0.05128068286754189, 0.10256136573508377, 0.05128068286754189, 0.05128068286754189, 0.05128068286754189, 0.05128068286754189, 0.8760425464756783, 0.6160526976586231, 0.05867168549129744, 0.20535089921954106, 0.02933584274564872, 0.02933584274564872, 0.02933584274564872, 0.02933584274564872, 0.02933584274564872, 0.07364838907228921, 0.423478237165663, 0.14729677814457842, 0.055236291804216915, 0.07364838907228921, 0.036824194536144605, 0.055236291804216915, 0.036824194536144605, 0.036824194536144605, 0.036824194536144605, 0.23358096181926896, 0.1529399154769023, 0.09454467502208505, 0.0639566919267046, 0.10566757796585977, 0.11679048090963448, 0.09176394928614139, 0.05561451471887356, 0.05283378898292988, 0.03336870883132414, 0.03386849375300976, 0.06773698750601952, 0.06773698750601952, 0.03386849375300976, 0.03386849375300976, 0.10160548125902928, 0.03386849375300976, 0.03386849375300976, 0.03386849375300976, 0.5418959000481561, 0.20751648629398228, 0.10061405396071868, 0.15092108094107803, 0.08803729721562885, 0.06288378372544917, 0.18865135117634754, 0.07546054047053902, 0.07546054047053902, 0.03773027023526951, 0.012576756745089835, 0.6972068020453537, 0.23325363542190425, 0.6997609062657127, 0.10506748925827922, 0.10506748925827922, 0.10506748925827922, 0.10506748925827922, 0.10506748925827922, 0.10506748925827922, 0.42026995703311687, 0.13733851926167084, 0.1587976628963069, 0.10300388944625312, 0.07296108835776263, 0.3133034970656866, 0.030042801088490494, 0.0643774309039082, 0.05150194472312656, 0.03433462981541771, 0.030042801088490494, 0.08809945895232137, 0.058732972634880906, 0.4894414386240076, 0.04894414386240076, 0.0783106301798412, 0.11746594526976181, 0.029366486317440453, 0.04894414386240076, 0.0195776575449603, 0.0195776575449603, 0.8077093169709811, 0.10178020898789861, 0.6106812539273917, 0.06907100415072658, 0.03453550207536329, 0.03453550207536329, 0.03453550207536329, 0.03453550207536329, 0.06907100415072658, 0.06907100415072658, 0.5871035352811759, 0.03453550207536329, 0.1109678965142416, 0.2219357930284832, 0.1109678965142416, 0.4438715860569664, 0.262977194399596, 0.12639213994399187, 0.1070256023719286, 0.03975236659528777, 0.12945001429747555, 0.17633742105089187, 0.07033111013012451, 0.03771378369296532, 0.027520869181353068, 0.023443703376708168, 0.159656475078851, 0.0798282375394255, 0.0798282375394255, 0.09978529692428188, 0.0798282375394255, 0.019957059384856375, 0.13969941569399463, 0.059871178154569125, 0.2594417720031329, 0.019957059384856375, 0.10832594399238231, 0.10832594399238231, 0.10832594399238231, 0.5416297199619116, 0.571477923756504, 0.09884723459681513, 0.18070510074730267, 0.14209289973292175, 0.09112479439393896, 0.20078344527478073, 0.07104644986646087, 0.11274762696199227, 0.03706771297380568, 0.055601569460708516, 0.010811416284026655, 0.7020365566505339, 0.10029093666436198, 0.10029093666436198, 0.1027451304732295, 0.1027451304732295, 0.6164707828393771, 0.1027451304732295, 0.12886930394103993, 0.12886930394103993, 0.6443465197051997, 0.6987680245813894, 0.6787562011103705, 0.11557415025800592, 0.11557415025800592, 0.5778707512900296, 0.08982553700059495, 0.08982553700059495, 0.08982553700059495, 0.08982553700059495, 0.6287787590041646, 0.25288515040362153, 0.12117413456840197, 0.12644257520181076, 0.0842950501345405, 0.18702964248601173, 0.07902660950113172, 0.052684406334087816, 0.03161064380045269, 0.03951330475056586, 0.023707982850339517, 0.06921899782366307, 0.06921899782366307, 0.6229709804129676, 0.13843799564732615, 0.06921899782366307, 0.16900835783369314, 0.06613370523927123, 0.0808300841813315, 0.10287465259442191, 0.0808300841813315, 0.11022284206545205, 0.09552646312339177, 0.05878551576824109, 0.1984011157178137, 0.029392757884120546, 0.09310390737939449, 0.15960669836467628, 0.06650279098528178, 0.06650279098528178, 0.18620781475878898, 0.06650279098528178, 0.053202232788225425, 0.2394100475470144, 0.03990167459116907, 0.03990167459116907, 0.10219017633317497, 0.7153312343322248, 0.8075254737513844, 0.16800170888920454, 0.6720068355568182, 0.206015739420003, 0.11445318856666833, 0.068671913140001, 0.04578127542666734, 0.04578127542666734, 0.068671913140001, 0.3662502034133387, 0.09156255085333467, 0.02289063771333367, 0.34831499172267694, 0.0660597398094732, 0.0660597398094732, 0.08407603248478408, 0.054048878025932626, 0.09008146337655437, 0.16214663407779786, 0.03603258535062175, 0.060054308917702914, 0.030027154458851457, 0.483814902525828, 0.15191709456642413, 0.6076683782656965, 0.06531666629087068, 0.06531666629087068, 0.06531666629087068, 0.5225333303269655, 0.06531666629087068, 0.13063333258174137, 0.721453595546021, 0.07214535955460209, 0.07214535955460209, 0.08635536593662539, 0.08635536593662539, 0.08635536593662539, 0.6044875615563778, 0.08635536593662539, 0.751966095464349, 0.6767661766547791, 0.10704451933885974, 0.6957893757025884, 0.10704451933885974, 0.17780593074860646, 0.185063315677121, 0.0979746965349464, 0.13063292871326188, 0.06168777189237366, 0.0979746965349464, 0.07983123421366004, 0.08708861914217458, 0.03991561710683002, 0.03991561710683002, 0.13428827677630442, 0.13428827677630442, 0.10071620758222832, 0.20143241516445665, 0.1275738629374892, 0.10071620758222832, 0.09400179374341311, 0.033572069194076105, 0.047000896871706555, 0.033572069194076105, 0.671290126803242, 0.044752675120216134, 0.0671290126803242, 0.022376337560108067, 0.022376337560108067, 0.044752675120216134, 0.022376337560108067, 0.022376337560108067, 0.044752675120216134, 0.044752675120216134, 0.2151253092191797, 0.09976825934802537, 0.1340635984989091, 0.09976825934802537, 0.0872972269295222, 0.09976825934802537, 0.08417946882489641, 0.062355162092515855, 0.08417946882489641, 0.031177581046257927, 0.7389867320578972, 0.0642597158311215, 0.03212985791556075, 0.03212985791556075, 0.03212985791556075, 0.03212985791556075, 0.03212985791556075, 0.03212985791556075, 0.03212985791556075, 0.21910929751773736, 0.1112401048936205, 0.14157831531915338, 0.12135284170213147, 0.0977564558156059, 0.06404733312056939, 0.060676420851065734, 0.08090189446808764, 0.07416006992908034, 0.026967298156029215, 0.7863838262485185, 0.6921538401908122, 0.11535897336513536, 0.6397016297463386, 0.712672572459324, 0.7262788603106127, 0.07262788603106127, 0.07262788603106127, 0.07262788603106127, 0.8083778446474311, 0.13152733418301546, 0.6576366709150774, 0.13152733418301546, 0.09461707011575207, 0.12615609348766943, 0.47308535057876033, 0.06307804674383471, 0.03153902337191736, 0.06307804674383471, 0.03153902337191736, 0.03153902337191736, 0.12615609348766943, 0.15326573389783243, 0.11648195776235265, 0.11648195776235265, 0.11035132840643935, 0.07356755227095957, 0.18391888067739892, 0.04291440549139308, 0.07969818162687287, 0.09809006969461276, 0.036783776135479784, 0.39092324745113693, 0.09021305710410851, 0.10224146471798966, 0.09622726091104909, 0.03007101903470284, 0.07217044568328682, 0.08419885329716795, 0.03608522284164341, 0.06615624187634625, 0.03608522284164341, 0.21524110750097597, 0.13035729045833755, 0.11519946598643785, 0.18492545855717654, 0.057599732993218924, 0.09701007662015819, 0.057599732993218924, 0.06063129788759886, 0.04547347341569915, 0.039410343626939265, 0.25003626119413086, 0.14032647311915508, 0.09695283597323441, 0.11226117849532406, 0.07909310303079649, 0.13267230185811024, 0.07399032219009995, 0.03827085630522411, 0.045925027566268935, 0.03316807546452756, 0.055436657313781126, 0.055436657313781126, 0.11087331462756225, 0.055436657313781126, 0.055436657313781126, 0.055436657313781126, 0.6098032304515923, 0.2139015553360561, 0.07130051844535203, 0.03565025922267601, 0.07130051844535203, 0.03565025922267601, 0.03565025922267601, 0.03565025922267601, 0.4634533698947882, 0.03565025922267601, 0.03565025922267601, 0.10687526629538142, 0.10687526629538142, 0.10687526629538142, 0.10687526629538142, 0.6412515977722886, 0.0651265225311233, 0.1693289585809206, 0.0651265225311233, 0.05210121802489864, 0.22143017660581923, 0.02605060901244932, 0.28655669913694254, 0.05210121802489864, 0.0651265225311233, 0.01302530450622466, 0.24773990055548897, 0.09190351149639107, 0.12786575512541368, 0.1558363890590979, 0.07991609695338354, 0.09190351149639107, 0.10788673088706778, 0.035962243629022596, 0.04395385332436095, 0.01598321939067671, 0.3433087515524018, 0.10299262546572055, 0.10985880049676859, 0.1304573255899127, 0.027464700124192148, 0.04806322521733626, 0.08926027540362448, 0.04806322521733626, 0.054929400248384296, 0.04119705018628822, 0.07454204521144518, 0.7454204521144518, 0.07454204521144518, 0.07454204521144518, 0.07454204521144518, 0.13986364948731364, 0.06993182474365682, 0.6293864226929113, 0.06993182474365682, 0.06993182474365682, 0.06993182474365682, 0.6425109084139525, 0.7643159378559538, 0.024577899086499974, 0.024577899086499974, 0.2703568899514997, 0.12288949543249987, 0.024577899086499974, 0.04915579817299995, 0.46698008264349955, 0.024577899086499974, 0.024577899086499974, 0.07006318058544209, 0.07006318058544209, 0.28025272234176835, 0.4904422640980946, 0.7614341856291659, 0.8885686128125917], \"Term\": [\"aaa\", \"abdulmalik\", \"abrams\", \"according\", \"according\", \"according\", \"according\", \"according\", \"according\", \"according\", \"according\", \"according\", \"according\", \"acid\", \"acid\", \"administration\", \"administration\", \"administration\", \"administration\", \"administration\", \"administration\", \"administration\", \"administration\", \"administration\", \"administration\", \"afghan\", \"afghan\", \"afghan\", \"afghan\", \"afghan\", \"afghan\", \"afghan\", \"afghan\", \"akron\", \"akron\", \"akron\", \"akron\", \"akron\", \"akron\", \"akron\", \"akron\", \"allied\", \"allied\", \"allied\", \"allied\", \"allied\", \"allied\", \"allied\", \"allied\", \"allied\", \"alqaida\", \"amano\", \"ambassador\", \"ambassador\", \"ambassador\", \"ambassador\", \"ambassador\", \"ambassador\", \"ambassador\", \"ambassador\", \"ambassador\", \"american\", \"american\", \"american\", \"american\", \"american\", \"american\", \"american\", \"american\", \"american\", \"american\", \"ameritrade\", \"amundi\", \"angel\", \"angel\", \"angel\", \"angel\", \"angel\", \"angel\", \"angel\", \"angel\", \"animation\", \"animation\", \"animation\", \"animation\", \"animation\", \"animation\", \"animation\", \"anime\", \"anime\", \"anime\", \"anime\", \"anime\", \"ankle\", \"ankle\", \"antidoping\", \"antidoping\", \"antidoping\", \"antipsychotic\", \"antipsychotic\", \"antipsychotic\", \"aphria\", \"apple\", \"apple\", \"apple\", \"apple\", \"apple\", \"apple\", \"apple\", \"apple\", \"apple\", \"apple\", \"arabia\", \"arabia\", \"arabia\", \"arabia\", \"arabia\", \"arabia\", \"arabia\", \"arabia\", \"arabia\", \"arabia\", \"arabica\", \"aramco\", \"auto\", \"auto\", \"auto\", \"auto\", \"auto\", \"auto\", \"auto\", \"auto\", \"auto\", \"auto\", \"avalanche\", \"avalanche\", \"avalanche\", \"avalanche\", \"average\", \"average\", \"average\", \"average\", \"average\", \"average\", \"average\", \"average\", \"average\", \"average\", \"avery\", \"ayre\", \"ayre\", \"azeri\", \"b2g\", \"bac\", \"baca\", \"baca\", \"baccarat\", \"back\", \"back\", \"back\", \"back\", \"back\", \"back\", \"back\", \"back\", \"back\", \"back\", \"badie\", \"badie\", \"balpa\", \"bangladesh\", \"bangladesh\", \"bank\", \"bank\", \"bank\", \"bank\", \"bank\", \"bank\", \"bank\", \"bank\", \"bank\", \"bank\", \"barton\", \"barton\", \"basilica\", \"bates\", \"bayer\", \"bayer\", \"bayer\", \"bayer\", \"bayer\", \"bayer\", \"bayer\", \"bayer\", \"beggs\", \"beggs\", \"beggs\", \"beggs\", \"beggs\", \"beggs\", \"belgrade\", \"belgrade\", \"belgrade\", \"belgrade\", \"belgrade\", \"belgrade\", \"benfica\", \"bensalah\", \"besunyen\", \"biden\", \"biden\", \"biden\", \"biden\", \"biden\", \"biden\", \"biden\", \"biden\", \"biden\", \"biggs\", \"bill\", \"bill\", \"bill\", \"bill\", \"bill\", \"bill\", \"bill\", \"bill\", \"bill\", \"bill\", \"billion\", \"billion\", \"billion\", \"billion\", \"billion\", \"billion\", \"billion\", \"billion\", \"billion\", \"billion\", \"bin\", \"bin\", \"bin\", \"bin\", \"bin\", \"bin\", \"bin\", \"bin\", \"bin\", \"binder\", \"binder\", \"binder\", \"binder\", \"binder\", \"binder\", \"binder\", \"binder\", \"biotech\", \"biotech\", \"biotech\", \"biotech\", \"biotech\", \"biotech\", \"bissell\", \"bissell\", \"blackstone\", \"blackstone\", \"blackstone\", \"blackstone\", \"blasio\", \"blasio\", \"blasio\", \"blasio\", \"blasio\", \"blasio\", \"blasio\", \"blasio\", \"blasio\", \"blasio\", \"blasios\", \"blasios\", \"blasios\", \"blm\", \"blm\", \"blm\", \"bln\", \"bln\", \"blockchain\", \"blockchain\", \"blockchain\", \"blonde\", \"bmt\", \"bmt\", \"boeing\", \"boeing\", \"boeing\", \"boeing\", \"boeing\", \"boeing\", \"boeing\", \"boeing\", \"boeing\", \"boeing\", \"bolsonaro\", \"bolsonaro\", \"bolsonaro\", \"bolsonaro\", \"bond\", \"bond\", \"bond\", \"bond\", \"bond\", \"bond\", \"bond\", \"bond\", \"bond\", \"bond\", \"bpd\", \"bpd\", \"bpd\", \"bpd\", \"bpd\", \"bpd\", \"bpd\", \"bread\", \"bread\", \"bread\", \"bread\", \"bread\", \"bread\", \"brunswickbalkecollender\", \"brunswickbalkecollender\", \"brunswickbalkecollender\", \"bse\", \"bundle\", \"bundle\", \"bundle\", \"bundle\", \"bundle\", \"business\", \"business\", \"business\", \"business\", \"business\", \"business\", \"business\", \"business\", \"business\", \"business\", \"buttigieg\", \"buttigieg\", \"buttigieg\", \"buttigieg\", \"buttigieg\", \"buttigieg\", \"buttigieg\", \"buttigieg\", \"buttigieg\", \"calhoun\", \"calhoun\", \"calhoun\", \"camouflage\", \"campaign\", \"campaign\", \"campaign\", \"campaign\", \"campaign\", \"campaign\", \"campaign\", \"campaign\", \"campaign\", \"campaign\", \"car\", \"car\", \"car\", \"car\", \"car\", \"car\", \"car\", \"car\", \"car\", \"car\", \"caravan\", \"card\", \"card\", \"card\", \"card\", \"card\", \"card\", \"card\", \"card\", \"card\", \"card\", \"carolina\", \"carolina\", \"carolina\", \"carolina\", \"carolina\", \"carolina\", \"carolina\", \"carolina\", \"carolina\", \"carolina\", \"case\", \"case\", \"case\", \"case\", \"case\", \"case\", \"case\", \"case\", \"case\", \"case\", \"cashback\", \"cashback\", \"cashback\", \"caste\", \"caste\", \"castorina\", \"castorina\", \"castorina\", \"cbb\", \"cbb\", \"center\", \"center\", \"center\", \"center\", \"center\", \"center\", \"center\", \"center\", \"center\", \"center\", \"ceo\", \"ceo\", \"ceo\", \"ceo\", \"ceo\", \"ceo\", \"ceo\", \"ceo\", \"ceo\", \"ceo\", \"cernobbio\", \"change\", \"change\", \"change\", \"change\", \"change\", \"change\", \"change\", \"change\", \"change\", \"change\", \"chaulk\", \"chaulk\", \"chaulk\", \"chaulk\", \"chef\", \"chef\", \"chf\", \"chf\", \"chile\", \"chile\", \"chile\", \"chile\", \"chile\", \"chile\", \"chile\", \"chile\", \"china\", \"china\", \"china\", \"china\", \"china\", \"china\", \"china\", \"china\", \"china\", \"china\", \"chinese\", \"chinese\", \"chinese\", \"chinese\", \"chinese\", \"chinese\", \"chinese\", \"chinese\", \"chinese\", \"chinese\", \"chlorpyrifos\", \"cider\", \"ciobo\", \"city\", \"city\", \"city\", \"city\", \"city\", \"city\", \"city\", \"city\", \"city\", \"city\", \"claim\", \"claim\", \"claim\", \"claim\", \"claim\", \"claim\", \"claim\", \"claim\", \"claim\", \"claim\", \"clinton\", \"clinton\", \"clinton\", \"clinton\", \"clinton\", \"clinton\", \"clinton\", \"clinton\", \"clinton\", \"clinton\", \"coffee\", \"coffee\", \"coffee\", \"coffee\", \"coffee\", \"coffee\", \"coffee\", \"coffee\", \"coffee\", \"coffee\", \"college\", \"college\", \"college\", \"college\", \"college\", \"college\", \"college\", \"college\", \"college\", \"college\", \"come\", \"come\", \"come\", \"come\", \"come\", \"come\", \"come\", \"come\", \"come\", \"come\", \"commisso\", \"commisso\", \"company\", \"company\", \"company\", \"company\", \"company\", \"company\", \"company\", \"company\", \"company\", \"company\", \"consol\", \"continental\", \"continental\", \"continental\", \"continental\", \"coppergold\", \"corbyn\", \"corbyn\", \"corbyn\", \"corbyn\", \"coronavirus\", \"coronavirus\", \"coronavirus\", \"coronavirus\", \"coronavirus\", \"coronavirus\", \"coronavirus\", \"coronavirus\", \"coronavirus\", \"coronavirus\", \"cortisol\", \"cortisol\", \"cortisol\", \"country\", \"country\", \"country\", \"country\", \"country\", \"country\", \"country\", \"country\", \"country\", \"country\", \"court\", \"court\", \"court\", \"court\", \"court\", \"court\", \"court\", \"court\", \"court\", \"court\", \"courtney\", \"courtney\", \"courtney\", \"courtney\", \"coverage\", \"coverage\", \"coverage\", \"coverage\", \"coverage\", \"coverage\", \"coverage\", \"coverage\", \"coverage\", \"coverage\", \"craig\", \"craig\", \"craig\", \"craig\", \"craig\", \"craig\", \"craig\", \"craig\", \"credit\", \"credit\", \"credit\", \"credit\", \"credit\", \"credit\", \"credit\", \"credit\", \"credit\", \"credit\", \"crude\", \"crude\", \"crude\", \"crude\", \"crude\", \"crude\", \"crude\", \"crude\", \"crude\", \"crude\", \"cs100\", \"cs100\", \"cub\", \"culp\", \"culp\", \"curaegis\", \"customer\", \"customer\", \"customer\", \"customer\", \"customer\", \"customer\", \"customer\", \"customer\", \"customer\", \"customer\", \"cwd\", \"cwd\", \"cwd\", \"damon\", \"dassey\", \"dassey\", \"dassey\", \"dasseyaposs\", \"data\", \"data\", \"data\", \"data\", \"data\", \"data\", \"data\", \"data\", \"data\", \"data\", \"de\", \"de\", \"de\", \"de\", \"de\", \"de\", \"de\", \"de\", \"de\", \"de\", \"deal\", \"deal\", \"deal\", \"deal\", \"deal\", \"deal\", \"deal\", \"deal\", \"deal\", \"deal\", \"debate\", \"debate\", \"debate\", \"debate\", \"debate\", \"debate\", \"debate\", \"debate\", \"debate\", \"debate\", \"deer\", \"deer\", \"deer\", \"deer\", \"democratic\", \"democratic\", \"democratic\", \"democratic\", \"democratic\", \"democratic\", \"democratic\", \"democratic\", \"democratic\", \"democratic\", \"denim\", \"denim\", \"denim\", \"denim\", \"denim\", \"denim\", \"denison\", \"diamondback\", \"disease\", \"disease\", \"disease\", \"disease\", \"disease\", \"disease\", \"disease\", \"disease\", \"disease\", \"disease\", \"disney\", \"disney\", \"disney\", \"disney\", \"disney\", \"disney\", \"disney\", \"disney\", \"disney\", \"disney\", \"docker\", \"docker\", \"doha\", \"dolezal\", \"dollar\", \"dollar\", \"dollar\", \"dollar\", \"dollar\", \"dollar\", \"dollar\", \"dollar\", \"dollar\", \"dollar\", \"dongguanbased\", \"dossier\", \"dossier\", \"dossier\", \"dossier\", \"dossier\", \"draper\", \"draper\", \"dress\", \"dress\", \"dress\", \"dress\", \"dress\", \"dress\", \"dress\", \"dress\", \"dress\", \"dress\", \"drilling\", \"drilling\", \"drilling\", \"drilling\", \"drilling\", \"drilling\", \"drug\", \"drug\", \"drug\", \"drug\", \"drug\", \"drug\", \"drug\", \"drug\", \"drug\", \"drug\", \"druginduced\", \"dyke\", \"dyke\", \"dyke\", \"e.v\", \"earnings\", \"earnings\", \"earnings\", \"earnings\", \"earnings\", \"earnings\", \"earnings\", \"earnings\", \"earnings\", \"earnings\", \"ecobank\", \"editing\", \"editing\", \"editing\", \"editing\", \"editing\", \"editing\", \"editing\", \"editing\", \"editing\", \"editing\", \"edmonton\", \"edubirdie\", \"edubirdie\", \"egyptian\", \"egyptian\", \"egyptian\", \"egyptian\", \"egyptian\", \"egyptian\", \"election\", \"election\", \"election\", \"election\", \"election\", \"election\", \"election\", \"election\", \"election\", \"election\", \"eminis\", \"emperor\", \"epizyme\", \"esprit\", \"esprit\", \"ethiopia\", \"etps\", \"ets\", \"eu\", \"eu\", \"eu\", \"eu\", \"eu\", \"eu\", \"eu\", \"eu\", \"eu\", \"eu\", \"evers\", \"evers\", \"faber\", \"faber\", \"faber\", \"faber\", \"facebook\", \"facebook\", \"facebook\", \"facebook\", \"facebook\", \"facebook\", \"facebook\", \"facebook\", \"facebook\", \"facebook\", \"fahrenthold\", \"fahrenthold\", \"family\", \"family\", \"family\", \"family\", \"family\", \"family\", \"family\", \"family\", \"family\", \"family\", \"farage\", \"faulk\", \"favorov\", \"favorov\", \"favorov\", \"fb\", \"fb\", \"fdi\", \"fdi\", \"fdi\", \"fell\", \"fell\", \"fell\", \"fell\", \"fell\", \"fell\", \"fell\", \"fell\", \"fell\", \"fell\", \"fentanyl\", \"fentanyl\", \"fentanyl\", \"fentanyl\", \"fentanyl\", \"fentanyl\", \"fentanyl\", \"fentanyl\", \"fermentation\", \"fidelity\", \"finalized\", \"finerman\", \"fisher\", \"fisher\", \"fitch\", \"fitch\", \"fitch\", \"fitch\", \"fitch\", \"fitch\", \"fitch\", \"fitch\", \"fitch\", \"fitch\", \"fixit\", \"flint\", \"flint\", \"flint\", \"flint\", \"flint\", \"flint\", \"flipkart\", \"flipkart\", \"football\", \"football\", \"football\", \"football\", \"football\", \"football\", \"football\", \"football\", \"football\", \"forbes\", \"forbes\", \"fox\", \"fox\", \"fox\", \"fox\", \"fox\", \"fox\", \"fox\", \"fox\", \"fox\", \"franc\", \"franc\", \"fritzsche\", \"fritzsche\", \"fritzsche\", \"fritzsche\", \"fritzsche\", \"fritzsche\", \"fruman\", \"fta\", \"fuel\", \"fuel\", \"fuel\", \"fuel\", \"fuel\", \"fuel\", \"fuel\", \"fuel\", \"fuel\", \"fuel\", \"fujimori\", \"fujimori\", \"funeral\", \"funeral\", \"funeral\", \"funeral\", \"funeral\", \"game\", \"game\", \"game\", \"game\", \"game\", \"game\", \"game\", \"game\", \"game\", \"game\", \"gaza\", \"gaza\", \"gaza\", \"ge\", \"ge\", \"ge\", \"ge\", \"ge\", \"ge\", \"ge\", \"ge\", \"ge\", \"ge\", \"girl\", \"girl\", \"girl\", \"girl\", \"girl\", \"girl\", \"girl\", \"girl\", \"girl\", \"girl\", \"gmr\", \"gmr\", \"gmr\", \"going\", \"going\", \"going\", \"going\", \"going\", \"going\", \"going\", \"going\", \"going\", \"going\", \"gold\", \"gold\", \"gold\", \"gold\", \"gold\", \"gold\", \"gold\", \"gold\", \"gold\", \"gold\", \"goldfajn\", \"goldman\", \"goldman\", \"goldman\", \"goldman\", \"goldman\", \"goldman\", \"goldman\", \"goldman\", \"goldman\", \"goldman\", \"good\", \"good\", \"good\", \"good\", \"good\", \"good\", \"good\", \"good\", \"good\", \"good\", \"goog\", \"googl\", \"government\", \"government\", \"government\", \"government\", \"government\", \"government\", \"government\", \"government\", \"government\", \"government\", \"graphene\", \"group\", \"group\", \"group\", \"group\", \"group\", \"group\", \"group\", \"group\", \"group\", \"group\", \"grouse\", \"gun\", \"gun\", \"gun\", \"gun\", \"gun\", \"gun\", \"gun\", \"gun\", \"gun\", \"gun\", \"guo\", \"guo\", \"guo\", \"h1\", \"hacker\", \"hacker\", \"hacker\", \"hacker\", \"hacker\", \"hacker\", \"hacker\", \"hacker\", \"hadwin\", \"hamas\", \"hanesbrands\", \"hank\", \"hank\", \"hank\", \"hank\", \"hansa\", \"harleydavidson\", \"harleydavidson\", \"health\", \"health\", \"health\", \"health\", \"health\", \"health\", \"health\", \"health\", \"health\", \"health\", \"heathrow\", \"hegerberg\", \"hellcat\", \"hellcat\", \"hellcat\", \"hertwig\", \"hertwig\", \"hertwig\", \"hertwig\", \"higginbotham\", \"high\", \"high\", \"high\", \"high\", \"high\", \"high\", \"high\", \"high\", \"high\", \"high\", \"hippeau\", \"hippeau\", \"hirohito\", \"hit\", \"hit\", \"hit\", \"hit\", \"hit\", \"hit\", \"hit\", \"hit\", \"hit\", \"hit\", \"hogan\", \"hogan\", \"hogan\", \"home\", \"home\", \"home\", \"home\", \"home\", \"home\", \"home\", \"home\", \"home\", \"home\", \"homer\", \"homer\", \"homer\", \"homer\", \"homer\", \"house\", \"house\", \"house\", \"house\", \"house\", \"house\", \"house\", \"house\", \"house\", \"house\", \"hykes\", \"hykes\", \"iaea\", \"iaposve\", \"illness\", \"illness\", \"illness\", \"illness\", \"illness\", \"illness\", \"illness\", \"illness\", \"illness\", \"illness\", \"inc\", \"inc\", \"inc\", \"inc\", \"inc\", \"inc\", \"inc\", \"inc\", \"inc\", \"inc\", \"including\", \"including\", \"including\", \"including\", \"including\", \"including\", \"including\", \"including\", \"including\", \"including\", \"industry\", \"industry\", \"industry\", \"industry\", \"industry\", \"industry\", \"industry\", \"industry\", \"industry\", \"industry\", \"infineon\", \"information\", \"information\", \"information\", \"information\", \"information\", \"information\", \"information\", \"information\", \"information\", \"information\", \"inmate\", \"inmate\", \"inmate\", \"inmate\", \"inmate\", \"inmate\", \"inmate\", \"inning\", \"inning\", \"inning\", \"inning\", \"inning\", \"inning\", \"inning\", \"investing\", \"investing\", \"investing\", \"investing\", \"investing\", \"investing\", \"investing\", \"investing\", \"investing\", \"investment\", \"investment\", \"investment\", \"investment\", \"investment\", \"investment\", \"investment\", \"investment\", \"investment\", \"investment\", \"investor\", \"investor\", \"investor\", \"investor\", \"investor\", \"investor\", \"investor\", \"investor\", \"investor\", \"investor\", \"ira\", \"ira\", \"ira\", \"ira\", \"ira\", \"ira\", \"ira\", \"ira\", \"iran\", \"iran\", \"iran\", \"iran\", \"iran\", \"iran\", \"iran\", \"iran\", \"iran\", \"iran\", \"istanbul\", \"istanbul\", \"istanbul\", \"istanbul\", \"istanbul\", \"istanbul\", \"istanbul\", \"istanbul\", \"istanbul\", \"italmatch\", \"italmatch\", \"ivg\", \"janaillac\", \"jat\", \"jat\", \"jebbit\", \"jefferson\", \"jefferson\", \"jefferson\", \"jefferson\", \"jefferson\", \"jefferson\", \"jefferson\", \"jefferson\", \"jernigan\", \"jogger\", \"john\", \"john\", \"john\", \"john\", \"john\", \"john\", \"john\", \"john\", \"john\", \"john\", \"journey\", \"journey\", \"journey\", \"journey\", \"journey\", \"journey\", \"journey\", \"journey\", \"journey\", \"journey\", \"jpm\", \"julien\", \"jumper\", \"jumper\", \"jv\", \"kenney\", \"kenney\", \"kesha\", \"khochinsky\", \"khochinsky\", \"khochinsky\", \"khochinsky\", \"khochinsky\", \"kinda\", \"knight\", \"knight\", \"knight\", \"know\", \"know\", \"know\", \"know\", \"know\", \"know\", \"know\", \"know\", \"know\", \"know\", \"kobani\", \"kobani\", \"korea\", \"korea\", \"korea\", \"korea\", \"korea\", \"korea\", \"korea\", \"korea\", \"korea\", \"korea\", \"kroger\", \"kroger\", \"kroger\", \"kroger\", \"kyagulanyi\", \"kyagulanyi\", \"kyoto\", \"kyoto\", \"kyoto\", \"kyoto\", \"kyoto\", \"kyoto\", \"l.p\", \"laden\", \"laden\", \"laden\", \"laden\", \"laden\", \"laden\", \"landowner\", \"landowner\", \"landowner\", \"landowner\", \"landowner\", \"landowner\", \"landowner\", \"landowner\", \"landowner\", \"langston\", \"lavar\", \"lbc\", \"league\", \"league\", \"league\", \"league\", \"league\", \"league\", \"league\", \"league\", \"league\", \"league\", \"lefthander\", \"lemonis\", \"lemonis\", \"lemonis\", \"lemonis\", \"lemonis\", \"lemonis\", \"lerne\", \"level\", \"level\", \"level\", \"level\", \"level\", \"level\", \"level\", \"level\", \"level\", \"level\", \"libra\", \"libra\", \"liechtenstein\", \"liechtenstein\", \"liechtenstein\", \"liechtenstein\", \"liechtenstein\", \"liechtenstein\", \"liechtenstein\", \"lisboa\", \"lisboa\", \"loan\", \"loan\", \"loan\", \"loan\", \"loan\", \"loan\", \"loan\", \"loan\", \"loan\", \"loan\", \"long\", \"long\", \"long\", \"long\", \"long\", \"long\", \"long\", \"long\", \"long\", \"long\", \"lowrance\", \"lowrance\", \"lulas\", \"lululemon\", \"lululemon\", \"lululemon\", \"lululemon\", \"lululemon\", \"lululemons\", \"lumber\", \"lumber\", \"luo\", \"luo\", \"luthmann\", \"luthmann\", \"luthmann\", \"luthmann\", \"made\", \"made\", \"made\", \"made\", \"made\", \"made\", \"made\", \"made\", \"made\", \"made\", \"maersk\", \"maire\", \"maize\", \"make\", \"make\", \"make\", \"make\", \"make\", \"make\", \"make\", \"make\", \"make\", \"make\", \"many\", \"many\", \"many\", \"many\", \"many\", \"many\", \"many\", \"many\", \"many\", \"many\", \"mar\", \"mar\", \"mar\", \"mar\", \"marijuana\", \"marijuana\", \"marijuana\", \"marijuana\", \"marijuana\", \"marijuana\", \"marijuana\", \"marijuana\", \"market\", \"market\", \"market\", \"market\", \"market\", \"market\", \"market\", \"market\", \"market\", \"market\", \"marlin\", \"mateen\", \"mateen\", \"mateen\", \"mateen\", \"mateen\", \"mateen\", \"mateen\", \"matjila\", \"mccollum\", \"mccollum\", \"mcconaughey\", \"mcdonagh\", \"mclean\", \"medicaid\", \"medicaid\", \"medicaid\", \"medicaid\", \"medicaid\", \"medicaid\", \"medicaid\", \"medicaid\", \"medicaid\", \"medicare\", \"medicare\", \"medicare\", \"medicare\", \"medicare\", \"medicare\", \"medicare\", \"medicare\", \"medicare\", \"medicare\", \"medium\", \"medium\", \"medium\", \"medium\", \"medium\", \"medium\", \"medium\", \"medium\", \"medium\", \"medium\", \"medvedev\", \"meeting\", \"meeting\", \"meeting\", \"meeting\", \"meeting\", \"meeting\", \"meeting\", \"meeting\", \"meeting\", \"meeting\", \"menear\", \"menear\", \"menear\", \"menear\", \"menear\", \"menear\", \"menear\", \"menear\", \"merrimack\", \"mf\", \"middlesboro\", \"midwestone\", \"million\", \"million\", \"million\", \"million\", \"million\", \"million\", \"million\", \"million\", \"million\", \"million\", \"moderator\", \"montana\", \"montana\", \"montana\", \"montana\", \"montana\", \"montana\", \"montana\", \"montanti\", \"montanti\", \"montanti\", \"montanti\", \"montreal\", \"montreal\", \"moro\", \"moro\", \"moro\", \"moro\", \"moro\", \"motorcycle\", \"motorcycle\", \"motorcycle\", \"motorway\", \"mou\", \"moyes\", \"msl\", \"much\", \"much\", \"much\", \"much\", \"much\", \"much\", \"much\", \"much\", \"much\", \"much\", \"muiz\", \"muiz\", \"muiz\", \"mursi\", \"mursi\", \"musk\", \"musk\", \"musk\", \"musk\", \"musk\", \"musk\", \"musk\", \"musk\", \"mw\", \"n4\", \"naacp\", \"nado\", \"nado\", \"nado\", \"naftogaz\", \"naftogaz\", \"naftogaz\", \"naftogaz\", \"naftogaz\", \"navigation\", \"navigation\", \"navigation\", \"nbg\", \"nbg\", \"nbt\", \"neilson\", \"news\", \"news\", \"news\", \"news\", \"news\", \"news\", \"news\", \"news\", \"news\", \"news\", \"next\", \"next\", \"next\", \"next\", \"next\", \"next\", \"next\", \"next\", \"next\", \"next\", \"ng\", \"ng\", \"ng\", \"ng\", \"ng\", \"ng\", \"ng\", \"ng\", \"nhc\", \"nied\", \"nied\", \"nied\", \"nohla\", \"north\", \"north\", \"north\", \"north\", \"north\", \"north\", \"north\", \"north\", \"north\", \"north\", \"nse\", \"number\", \"number\", \"number\", \"number\", \"number\", \"number\", \"number\", \"number\", \"number\", \"number\", \"nunes\", \"nunes\", \"obradovich\", \"obradovich\", \"obradovich\", \"obradovich\", \"ocado\", \"odegaard\", \"officefirst\", \"officefirsts\", \"official\", \"official\", \"official\", \"official\", \"official\", \"official\", \"official\", \"official\", \"official\", \"official\", \"oil\", \"oil\", \"oil\", \"oil\", \"oil\", \"oil\", \"oil\", \"oil\", \"oil\", \"oil\", \"oneok\", \"opdivo\", \"orient\", \"orient\", \"orient\", \"orient\", \"orient\", \"orient\", \"orient\", \"orla\", \"osterholm\", \"osterholm\", \"osuna\", \"otonomy\", \"outbreak\", \"outbreak\", \"outbreak\", \"outbreak\", \"outbreak\", \"outbreak\", \"outbreak\", \"outbreak\", \"outbreak\", \"outbreak\", \"overdose\", \"overdose\", \"overdose\", \"overdose\", \"overdose\", \"overdose\", \"overdose\", \"overdose\", \"p.m\", \"p.m\", \"p.m\", \"p.m\", \"p.m\", \"p.m\", \"p.m\", \"p.m\", \"p.m\", \"p.m\", \"painting\", \"painting\", \"painting\", \"painting\", \"painting\", \"painting\", \"painting\", \"painting\", \"painting\", \"painting\", \"panade\", \"paradise\", \"paradise\", \"paradise\", \"paradise\", \"paradise\", \"paradise\", \"parcel\", \"parcel\", \"parcel\", \"parcel\", \"park\", \"park\", \"park\", \"park\", \"park\", \"park\", \"park\", \"park\", \"park\", \"park\", \"parnas\", \"parnas\", \"parnas\", \"part\", \"part\", \"part\", \"part\", \"part\", \"part\", \"part\", \"part\", \"part\", \"part\", \"party\", \"party\", \"party\", \"party\", \"party\", \"party\", \"party\", \"party\", \"party\", \"party\", \"patient\", \"patient\", \"patient\", \"patient\", \"patient\", \"patient\", \"patient\", \"patient\", \"patient\", \"patient\", \"pegas\", \"pelican\", \"pelican\", \"pelican\", \"pelican\", \"pelican\", \"pelican\", \"people\", \"people\", \"people\", \"people\", \"people\", \"people\", \"people\", \"people\", \"people\", \"people\", \"pepsico\", \"pepsico\", \"percent\", \"percent\", \"percent\", \"percent\", \"percent\", \"percent\", \"percent\", \"percent\", \"percent\", \"percent\", \"perry\", \"perry\", \"perry\", \"perry\", \"perry\", \"perry\", \"perry\", \"perry\", \"perry\", \"perry\", \"peso\", \"peso\", \"peso\", \"peso\", \"pet\", \"pet\", \"pet\", \"pet\", \"pet\", \"pet\", \"pharma\", \"pharma\", \"philippe\", \"pif\", \"pif\", \"pif\", \"pif\", \"pif\", \"pioneer\", \"pioneer\", \"pioneer\", \"pirate\", \"pirate\", \"pirate\", \"pirate\", \"pittsburgh\", \"pittsburgh\", \"pittsburgh\", \"pittsburgh\", \"pizza\", \"pizza\", \"pizza\", \"pizza\", \"pizza\", \"pizza\", \"pizza\", \"pizza\", \"plan\", \"plan\", \"plan\", \"plan\", \"plan\", \"plan\", \"plan\", \"plan\", \"plan\", \"plan\", \"point\", \"point\", \"point\", \"point\", \"point\", \"point\", \"point\", \"point\", \"point\", \"point\", \"police\", \"police\", \"police\", \"police\", \"police\", \"police\", \"police\", \"police\", \"police\", \"police\", \"policy\", \"policy\", \"policy\", \"policy\", \"policy\", \"policy\", \"policy\", \"policy\", \"policy\", \"policy\", \"polina\", \"president\", \"president\", \"president\", \"president\", \"president\", \"president\", \"president\", \"president\", \"president\", \"president\", \"price\", \"price\", \"price\", \"price\", \"price\", \"price\", \"price\", \"price\", \"price\", \"price\", \"prime\", \"prime\", \"prime\", \"prime\", \"prime\", \"prime\", \"prime\", \"prime\", \"prime\", \"prime\", \"prion\", \"prius\", \"prius\", \"prius\", \"product\", \"product\", \"product\", \"product\", \"product\", \"product\", \"product\", \"product\", \"product\", \"product\", \"public\", \"public\", \"public\", \"public\", \"public\", \"public\", \"public\", \"public\", \"public\", \"public\", \"qtrly\", \"qtrly\", \"qtrly\", \"quake\", \"quake\", \"quake\", \"quake\", \"quake\", \"quake\", \"quarterback\", \"quarterback\", \"quarterback\", \"quarterback\", \"quarterback\", \"quarterback\", \"quellon\", \"radisson\", \"ramapo\", \"rampersad\", \"rank\", \"rank\", \"rank\", \"rank\", \"rank\", \"rank\", \"rank\", \"rank\", \"rank\", \"ranney\", \"ranney\", \"ranney\", \"ranney\", \"ranney\", \"raptor\", \"raptor\", \"rascoff\", \"rate\", \"rate\", \"rate\", \"rate\", \"rate\", \"rate\", \"rate\", \"rate\", \"rate\", \"rate\", \"rating\", \"rating\", \"rating\", \"rating\", \"rating\", \"rating\", \"rating\", \"rating\", \"rating\", \"rating\", \"rawls\", \"rbi\", \"rbi\", \"rbi\", \"rbi\", \"reais\", \"reais\", \"realestate\", \"realestate\", \"realestate\", \"realestate\", \"red\", \"red\", \"red\", \"red\", \"red\", \"red\", \"red\", \"red\", \"red\", \"red\", \"redbubble\", \"redeye\", \"redick\", \"redick\", \"reinsurance\", \"reinsurance\", \"reinsurance\", \"reinsurance\", \"renter\", \"renttoown\", \"repayment\", \"repayment\", \"repayment\", \"report\", \"report\", \"report\", \"report\", \"report\", \"report\", \"report\", \"report\", \"report\", \"report\", \"reporting\", \"reporting\", \"reporting\", \"reporting\", \"reporting\", \"reporting\", \"reporting\", \"reporting\", \"reporting\", \"reporting\", \"restaurant\", \"restaurant\", \"restaurant\", \"restaurant\", \"restaurant\", \"restaurant\", \"restaurant\", \"restaurant\", \"restaurant\", \"restaurant\", \"reward\", \"reward\", \"reward\", \"reward\", \"reward\", \"reward\", \"reward\", \"reward\", \"reward\", \"ridgecrest\", \"ridgecrest\", \"right\", \"right\", \"right\", \"right\", \"right\", \"right\", \"right\", \"right\", \"right\", \"right\", \"righthander\", \"ro\", \"ro\", \"ro\", \"ro\", \"ro\", \"ro\", \"ro\", \"ro\", \"roam\", \"roam\", \"roam\", \"rocket\", \"rocket\", \"rocket\", \"rocket\", \"rogers\", \"rogers\", \"rogers\", \"rogers\", \"rogers\", \"rogers\", \"rogers\", \"rogers\", \"rogers\", \"roku\", \"rosales\", \"rose\", \"rose\", \"rose\", \"rose\", \"rose\", \"rose\", \"rose\", \"rose\", \"rose\", \"rose\", \"roth\", \"roth\", \"roth\", \"roth\", \"roth\", \"roth\", \"roth\", \"roth\", \"rouhani\", \"rouhani\", \"rouhani\", \"rouhani\", \"roundup\", \"roundup\", \"roundup\", \"roundup\", \"roundup\", \"rule\", \"rule\", \"rule\", \"rule\", \"rule\", \"rule\", \"rule\", \"rule\", \"rule\", \"rule\", \"run\", \"run\", \"run\", \"run\", \"run\", \"run\", \"run\", \"run\", \"run\", \"run\", \"rupee\", \"rural\", \"rural\", \"rural\", \"rural\", \"rural\", \"rural\", \"rural\", \"rural\", \"russia\", \"russia\", \"russia\", \"russia\", \"russia\", \"russia\", \"russia\", \"russia\", \"russia\", \"russia\", \"russian\", \"russian\", \"russian\", \"russian\", \"russian\", \"russian\", \"russian\", \"russian\", \"russian\", \"russian\", \"saa\", \"saa\", \"sabin\", \"sabin\", \"sabin\", \"sabin\", \"sabin\", \"sabin\", \"sabin\", \"sabin\", \"sabin\", \"sabin\", \"sage\", \"sago\", \"sale\", \"sale\", \"sale\", \"sale\", \"sale\", \"sale\", \"sale\", \"sale\", \"sale\", \"sale\", \"salman\", \"salman\", \"salman\", \"salman\", \"salman\", \"salman\", \"salman\", \"salman\", \"salon\", \"salon\", \"salon\", \"salon\", \"salon\", \"salon\", \"salon\", \"salon\", \"samestore\", \"samestore\", \"sander\", \"sander\", \"sander\", \"sander\", \"sander\", \"sander\", \"sander\", \"sander\", \"sander\", \"sander\", \"sanico\", \"sanyal\", \"saudi\", \"saudi\", \"saudi\", \"saudi\", \"saudi\", \"saudi\", \"saudi\", \"saudi\", \"saudi\", \"saudi\", \"scanship\", \"scanship\", \"schiff\", \"school\", \"school\", \"school\", \"school\", \"school\", \"school\", \"school\", \"school\", \"school\", \"school\", \"seagal\", \"seagal\", \"seahawks\", \"season\", \"season\", \"season\", \"season\", \"season\", \"season\", \"season\", \"season\", \"season\", \"season\", \"secretarygeneral\", \"security\", \"security\", \"security\", \"security\", \"security\", \"security\", \"security\", \"security\", \"security\", \"security\", \"see\", \"see\", \"see\", \"see\", \"see\", \"see\", \"see\", \"see\", \"see\", \"see\", \"service\", \"service\", \"service\", \"service\", \"service\", \"service\", \"service\", \"service\", \"service\", \"service\", \"shaker\", \"shaker\", \"shaker\", \"shaker\", \"shakespeare\", \"shakespeare\", \"shakespeare\", \"shakespeare\", \"shakespeare\", \"shakespeare\", \"shakespeare\", \"share\", \"share\", \"share\", \"share\", \"share\", \"share\", \"share\", \"share\", \"share\", \"share\", \"shipt\", \"shirt\", \"shirt\", \"shirt\", \"shirt\", \"shirt\", \"shirt\", \"shirt\", \"shirt\", \"show\", \"show\", \"show\", \"show\", \"show\", \"show\", \"show\", \"show\", \"show\", \"show\", \"shulkin\", \"shulkin\", \"shulkin\", \"shulkin\", \"shulkin\", \"shulkin\", \"simis\", \"simis\", \"simis\", \"simmons\", \"simmons\", \"simmons\", \"simmons\", \"simmons\", \"simmons\", \"since\", \"since\", \"since\", \"since\", \"since\", \"since\", \"since\", \"since\", \"since\", \"since\", \"sinclair\", \"sinema\", \"sinema\", \"sirtex\", \"ski\", \"ski\", \"ski\", \"ski\", \"ski\", \"slimane\", \"sofia\", \"sofia\", \"sofia\", \"sofia\", \"sofia\", \"sofia\", \"sofia\", \"sofia\", \"somers\", \"somers\", \"sommers\", \"soria\", \"source\", \"source\", \"source\", \"source\", \"source\", \"source\", \"source\", \"source\", \"source\", \"source\", \"south\", \"south\", \"south\", \"south\", \"south\", \"south\", \"south\", \"south\", \"south\", \"south\", \"sox\", \"sox\", \"sox\", \"sox\", \"sox\", \"sox\", \"sp\", \"sp\", \"sp\", \"sp\", \"sp\", \"sp\", \"sp\", \"sp\", \"sp\", \"sp\", \"spencer\", \"spencer\", \"spencer\", \"spencer\", \"spencer\", \"spencer\", \"spencer\", \"spotify\", \"spotify\", \"sprint\", \"sprint\", \"sprint\", \"sprint\", \"squaire\", \"stanton\", \"stanton\", \"stanton\", \"stanton\", \"starlink\", \"state\", \"state\", \"state\", \"state\", \"state\", \"state\", \"state\", \"state\", \"state\", \"state\", \"staytucked\", \"still\", \"still\", \"still\", \"still\", \"still\", \"still\", \"still\", \"still\", \"still\", \"still\", \"stock\", \"stock\", \"stock\", \"stock\", \"stock\", \"stock\", \"stock\", \"stock\", \"stock\", \"stock\", \"student\", \"student\", \"student\", \"student\", \"student\", \"student\", \"student\", \"student\", \"student\", \"student\", \"sunlink\", \"superior\", \"superior\", \"superior\", \"superior\", \"superior\", \"superior\", \"superior\", \"suriname\", \"suriname\", \"suriname\", \"swafford\", \"swift\", \"swift\", \"swift\", \"swift\", \"swift\", \"swift\", \"swift\", \"swift\", \"swift\", \"swift\", \"taal\", \"taiwan\", \"taiwan\", \"taiwan\", \"taiwan\", \"taiwan\", \"taiwan\", \"taiwan\", \"taiwan\", \"taiwan\", \"takasu\", \"takata\", \"takata\", \"takata\", \"takata\", \"take\", \"take\", \"take\", \"take\", \"take\", \"take\", \"take\", \"take\", \"take\", \"take\", \"taliban\", \"taliban\", \"taliban\", \"taliban\", \"taliban\", \"taliban\", \"taliban\", \"taliban\", \"talk\", \"talk\", \"talk\", \"talk\", \"talk\", \"talk\", \"talk\", \"talk\", \"talk\", \"talk\", \"tangerine\", \"tapestry\", \"tariff\", \"tariff\", \"tariff\", \"tariff\", \"tariff\", \"tariff\", \"tariff\", \"tariff\", \"tariff\", \"tariff\", \"tax\", \"tax\", \"tax\", \"tax\", \"tax\", \"tax\", \"tax\", \"tax\", \"tax\", \"tax\", \"tazverik\", \"td\", \"td\", \"team\", \"team\", \"team\", \"team\", \"team\", \"team\", \"team\", \"team\", \"team\", \"team\", \"technology\", \"technology\", \"technology\", \"technology\", \"technology\", \"technology\", \"technology\", \"technology\", \"technology\", \"technology\", \"tehran\", \"tehran\", \"tehran\", \"tehran\", \"tehran\", \"tehran\", \"tehran\", \"tehran\", \"temperature\", \"temperature\", \"temperature\", \"temperature\", \"temperature\", \"temperature\", \"temperature\", \"temperature\", \"temperature\", \"text\", \"text\", \"text\", \"text\", \"text\", \"text\", \"text\", \"text\", \"text\", \"text\", \"thing\", \"thing\", \"thing\", \"thing\", \"thing\", \"thing\", \"thing\", \"thing\", \"thing\", \"thing\", \"think\", \"think\", \"think\", \"think\", \"think\", \"think\", \"think\", \"think\", \"think\", \"think\", \"thomas\", \"thomas\", \"thomas\", \"thomas\", \"thomas\", \"thomas\", \"thomas\", \"thomas\", \"thomas\", \"ticket\", \"ticket\", \"ticket\", \"ticket\", \"ticket\", \"ticket\", \"ticket\", \"ticket\", \"ticket\", \"ticket\", \"tin\", \"tin\", \"tin\", \"tin\", \"tin\", \"tin\", \"tin\", \"tin\", \"titagarh\", \"tobacco\", \"tobacco\", \"tobacco\", \"tobacco\", \"tobacco\", \"tobacco\", \"tobacco\", \"tobacco\", \"tokyo\", \"tokyo\", \"tokyo\", \"tokyo\", \"tokyo\", \"tokyo\", \"tokyo\", \"tokyo\", \"tokyo\", \"tokyo\", \"told\", \"told\", \"told\", \"told\", \"told\", \"told\", \"told\", \"told\", \"told\", \"told\", \"tommy\", \"tommy\", \"tommy\", \"tommy\", \"tommy\", \"tommy\", \"tommy\", \"tommy\", \"tommy\", \"tommy\", \"took\", \"took\", \"took\", \"took\", \"took\", \"took\", \"took\", \"took\", \"took\", \"took\", \"torontodominion\", \"torrie\", \"torrie\", \"toyota\", \"toyota\", \"toyota\", \"toyota\", \"toyota\", \"toyota\", \"toyota\", \"trade\", \"trade\", \"trade\", \"trade\", \"trade\", \"trade\", \"trade\", \"trade\", \"trade\", \"trade\", \"train\", \"train\", \"train\", \"train\", \"train\", \"train\", \"train\", \"train\", \"train\", \"train\", \"trenta\", \"tripoli\", \"tripoli\", \"trophy\", \"trophy\", \"trophy\", \"trophy\", \"trophy\", \"trophy\", \"trophy\", \"trophy\", \"trophy\", \"trudeau\", \"trudeau\", \"trudeau\", \"trudeau\", \"trump\", \"trump\", \"trump\", \"trump\", \"trump\", \"trump\", \"trump\", \"trump\", \"trump\", \"trump\", \"trust\", \"trust\", \"trust\", \"trust\", \"trust\", \"trust\", \"trust\", \"trust\", \"trust\", \"trust\", \"tunzi\", \"tunzi\", \"tunzi\", \"tunzi\", \"typhoon\", \"u.s\", \"u.s\", \"u.s\", \"u.s\", \"u.s\", \"u.s\", \"u.s\", \"u.s\", \"u.s\", \"u.s\", \"uae\", \"uae\", \"uae\", \"uaw\", \"uaw\", \"uaw\", \"uaw\", \"ucla\", \"ucla\", \"ucla\", \"uematsu\", \"ugandan\", \"undershirt\", \"undershirt\", \"undershirt\", \"underwear\", \"underwear\", \"underwear\", \"underwear\", \"underwear\", \"united\", \"united\", \"united\", \"united\", \"united\", \"united\", \"united\", \"united\", \"united\", \"united\", \"unity\", \"unity\", \"unity\", \"unity\", \"unity\", \"university\", \"university\", \"university\", \"university\", \"university\", \"university\", \"university\", \"university\", \"university\", \"university\", \"update\", \"update\", \"update\", \"update\", \"update\", \"update\", \"update\", \"update\", \"update\", \"update\", \"valvani\", \"valvani\", \"venti\", \"verification\", \"verification\", \"veteran\", \"veteran\", \"veteran\", \"veteran\", \"veteran\", \"veteran\", \"veteran\", \"veteran\", \"veteran\", \"video\", \"video\", \"video\", \"video\", \"video\", \"video\", \"video\", \"video\", \"video\", \"video\", \"vippy\", \"virnetx\", \"virnetx\", \"volcker\", \"volcker\", \"volcker\", \"volcker\", \"volcker\", \"volcker\", \"vole\", \"vole\", \"vole\", \"wada\", \"wada\", \"wada\", \"wada\", \"wada\", \"wagon\", \"waldron\", \"wallethub\", \"wallethub\", \"wallethub\", \"want\", \"want\", \"want\", \"want\", \"want\", \"want\", \"want\", \"want\", \"want\", \"want\", \"war\", \"war\", \"war\", \"war\", \"war\", \"war\", \"war\", \"war\", \"war\", \"war\", \"warren\", \"warren\", \"warren\", \"warren\", \"warren\", \"warren\", \"warren\", \"warren\", \"warren\", \"warren\", \"way\", \"way\", \"way\", \"way\", \"way\", \"way\", \"way\", \"way\", \"way\", \"way\", \"weasel\", \"weasel\", \"weasel\", \"weasel\", \"weasel\", \"weasel\", \"weasel\", \"weasel\", \"weasel\", \"well\", \"well\", \"well\", \"well\", \"well\", \"well\", \"well\", \"well\", \"well\", \"well\", \"weymouth\", \"whitman\", \"whitman\", \"widebody\", \"wie\", \"williamson\", \"williamson\", \"williamson\", \"williamson\", \"willow\", \"wimbledon\", \"wimbledon\", \"wimbledon\", \"wine\", \"wine\", \"wine\", \"wine\", \"wine\", \"wine\", \"wine\", \"wine\", \"wine\", \"without\", \"without\", \"without\", \"without\", \"without\", \"without\", \"without\", \"without\", \"without\", \"without\", \"woman\", \"woman\", \"woman\", \"woman\", \"woman\", \"woman\", \"woman\", \"woman\", \"woman\", \"woman\", \"work\", \"work\", \"work\", \"work\", \"work\", \"work\", \"work\", \"work\", \"work\", \"work\", \"world\", \"world\", \"world\", \"world\", \"world\", \"world\", \"world\", \"world\", \"world\", \"world\", \"yankee\", \"yankee\", \"yankee\", \"yankee\", \"yankee\", \"yankee\", \"yankee\", \"yard\", \"yard\", \"yard\", \"yard\", \"yard\", \"yard\", \"yard\", \"yard\", \"yard\", \"yard\", \"yelsma\", \"yelsma\", \"yelsma\", \"yelsma\", \"yelsma\", \"yield\", \"yield\", \"yield\", \"yield\", \"yield\", \"yield\", \"yield\", \"yield\", \"yield\", \"yield\", \"york\", \"york\", \"york\", \"york\", \"york\", \"york\", \"york\", \"york\", \"york\", \"york\", \"young\", \"young\", \"young\", \"young\", \"young\", \"young\", \"young\", \"young\", \"young\", \"young\", \"ypg\", \"ypg\", \"ypg\", \"ypg\", \"ypg\", \"zagreb\", \"zagreb\", \"zagreb\", \"zagreb\", \"zagreb\", \"zagreb\", \"zaman\", \"zhang\", \"zillow\", \"zillow\", \"zillow\", \"zillow\", \"zillow\", \"zillow\", \"zillow\", \"zillow\", \"zillow\", \"zloty\", \"zloty\", \"zloty\", \"zloty\", \"zuuse\", \"zynga\"]}, \"R\": 30, \"lambda.step\": 0.01, \"plot.opts\": {\"xlab\": \"PC1\", \"ylab\": \"PC2\"}, \"topic.order\": [10, 4, 9, 6, 1, 5, 8, 7, 2, 3]};\n",
       "\n",
       "function LDAvis_load_lib(url, callback){\n",
       "  var s = document.createElement('script');\n",
       "  s.src = url;\n",
       "  s.async = true;\n",
       "  s.onreadystatechange = s.onload = callback;\n",
       "  s.onerror = function(){console.warn(\"failed to load library \" + url);};\n",
       "  document.getElementsByTagName(\"head\")[0].appendChild(s);\n",
       "}\n",
       "\n",
       "if(typeof(LDAvis) !== \"undefined\"){\n",
       "   // already loaded: just create the visualization\n",
       "   !function(LDAvis){\n",
       "       new LDAvis(\"#\" + \"ldavis_el2888158529828325259653675\", ldavis_el2888158529828325259653675_data);\n",
       "   }(LDAvis);\n",
       "}else if(typeof define === \"function\" && define.amd){\n",
       "   // require.js is available: use it to load d3/LDAvis\n",
       "   require.config({paths: {d3: \"https://d3js.org/d3.v5\"}});\n",
       "   require([\"d3\"], function(d3){\n",
       "      window.d3 = d3;\n",
       "      LDAvis_load_lib(\"https://cdn.jsdelivr.net/gh/bmabey/pyLDAvis@3.4.0/pyLDAvis/js/ldavis.v3.0.0.js\", function(){\n",
       "        new LDAvis(\"#\" + \"ldavis_el2888158529828325259653675\", ldavis_el2888158529828325259653675_data);\n",
       "      });\n",
       "    });\n",
       "}else{\n",
       "    // require.js not available: dynamically load d3 & LDAvis\n",
       "    LDAvis_load_lib(\"https://d3js.org/d3.v5.js\", function(){\n",
       "         LDAvis_load_lib(\"https://cdn.jsdelivr.net/gh/bmabey/pyLDAvis@3.4.0/pyLDAvis/js/ldavis.v3.0.0.js\", function(){\n",
       "                 new LDAvis(\"#\" + \"ldavis_el2888158529828325259653675\", ldavis_el2888158529828325259653675_data);\n",
       "            })\n",
       "         });\n",
       "}\n",
       "</script>"
      ],
      "text/plain": [
       "<IPython.core.display.HTML object>"
      ]
     },
     "execution_count": 386,
     "metadata": {},
     "output_type": "execute_result"
    }
   ],
   "source": [
    "%matplotlib inline\n",
    "import pyLDAvis\n",
    "import pyLDAvis.gensim_models\n",
    "import gensim\n",
    "\n",
    "vis = pyLDAvis.gensim_models.prepare(lda_model, bow_corpus, dictionary)\n",
    "pyLDAvis.enable_notebook()\n",
    "pyLDAvis.display(vis)"
   ]
  },
  {
   "cell_type": "code",
   "execution_count": 387,
   "metadata": {},
   "outputs": [
    {
     "name": "stdout",
     "output_type": "stream",
     "text": [
      "Topic: 0 \n",
      "Words: 0.005*\"u.s\" + 0.005*\"trump\" + 0.004*\"company\" + 0.004*\"state\" + 0.004*\"percent\" + 0.003*\"market\" + 0.003*\"billion\" + 0.003*\"share\" + 0.003*\"government\" + 0.003*\"trade\"\n",
      "Topic: 1 \n",
      "Words: 0.003*\"people\" + 0.003*\"company\" + 0.003*\"court\" + 0.003*\"business\" + 0.002*\"million\" + 0.002*\"state\" + 0.002*\"facebook\" + 0.002*\"u.s\" + 0.002*\"percent\" + 0.002*\"bank\"\n",
      "Topic: 2 \n",
      "Words: 0.003*\"company\" + 0.003*\"percent\" + 0.003*\"bank\" + 0.003*\"trump\" + 0.002*\"john\" + 0.002*\"china\" + 0.002*\"million\" + 0.002*\"people\" + 0.002*\"state\" + 0.002*\"country\"\n",
      "Topic: 3 \n",
      "Words: 0.004*\"state\" + 0.004*\"percent\" + 0.004*\"company\" + 0.004*\"trump\" + 0.004*\"people\" + 0.004*\"million\" + 0.003*\"u.s\" + 0.003*\"market\" + 0.003*\"share\" + 0.002*\"reporting\"\n",
      "Topic: 4 \n",
      "Words: 0.008*\"trump\" + 0.004*\"company\" + 0.003*\"president\" + 0.003*\"point\" + 0.002*\"state\" + 0.002*\"people\" + 0.002*\"world\" + 0.002*\"going\" + 0.002*\"student\" + 0.002*\"u.s\"\n",
      "Topic: 5 \n",
      "Words: 0.004*\"people\" + 0.004*\"company\" + 0.003*\"million\" + 0.003*\"state\" + 0.003*\"percent\" + 0.003*\"card\" + 0.002*\"work\" + 0.002*\"u.s\" + 0.002*\"billion\" + 0.002*\"report\"\n",
      "Topic: 6 \n",
      "Words: 0.004*\"company\" + 0.003*\"game\" + 0.003*\"million\" + 0.002*\"government\" + 0.002*\"people\" + 0.002*\"trump\" + 0.002*\"group\" + 0.002*\"state\" + 0.002*\"season\" + 0.002*\"back\"\n",
      "Topic: 7 \n",
      "Words: 0.005*\"percent\" + 0.005*\"company\" + 0.004*\"people\" + 0.003*\"u.s\" + 0.003*\"trump\" + 0.003*\"market\" + 0.003*\"since\" + 0.003*\"state\" + 0.003*\"price\" + 0.002*\"share\"\n",
      "Topic: 8 \n",
      "Words: 0.004*\"state\" + 0.004*\"trump\" + 0.003*\"u.s\" + 0.003*\"president\" + 0.003*\"percent\" + 0.002*\"company\" + 0.002*\"market\" + 0.002*\"people\" + 0.002*\"million\" + 0.002*\"many\"\n",
      "Topic: 9 \n",
      "Words: 0.006*\"trump\" + 0.004*\"president\" + 0.004*\"state\" + 0.004*\"people\" + 0.002*\"million\" + 0.002*\"company\" + 0.002*\"country\" + 0.002*\"world\" + 0.002*\"make\" + 0.002*\"united\"\n"
     ]
    }
   ],
   "source": [
    "#print me the 10 most important terms for each topic\n",
    "for idx, topic in lda_model.print_topics(-1):\n",
    "    print('Topic: {} \\nWords: {}'.format(idx, topic))\n",
    "    "
   ]
  },
  {
   "cell_type": "code",
   "execution_count": 388,
   "metadata": {},
   "outputs": [
    {
     "data": {
      "text/html": [
       "<div>\n",
       "<style scoped>\n",
       "    .dataframe tbody tr th:only-of-type {\n",
       "        vertical-align: middle;\n",
       "    }\n",
       "\n",
       "    .dataframe tbody tr th {\n",
       "        vertical-align: top;\n",
       "    }\n",
       "\n",
       "    .dataframe thead th {\n",
       "        text-align: right;\n",
       "    }\n",
       "</style>\n",
       "<table border=\"1\" class=\"dataframe\">\n",
       "  <thead>\n",
       "    <tr style=\"text-align: right;\">\n",
       "      <th></th>\n",
       "      <th>year</th>\n",
       "      <th>title</th>\n",
       "      <th>article</th>\n",
       "      <th>publication</th>\n",
       "      <th>topic</th>\n",
       "    </tr>\n",
       "  </thead>\n",
       "  <tbody>\n",
       "    <tr>\n",
       "      <th>0</th>\n",
       "      <td>2020</td>\n",
       "      <td>8 DIY salon treatments that cost a lot less th...</td>\n",
       "      <td>buy link may earn money affiliate partner lear...</td>\n",
       "      <td>Business Insider</td>\n",
       "      <td>5</td>\n",
       "    </tr>\n",
       "    <tr>\n",
       "      <th>1</th>\n",
       "      <td>2019</td>\n",
       "      <td>Judge to bat leadoff in his return to Yankees</td>\n",
       "      <td>new york yankee waste little time getting aaro...</td>\n",
       "      <td>Reuters</td>\n",
       "      <td>6</td>\n",
       "    </tr>\n",
       "    <tr>\n",
       "      <th>2</th>\n",
       "      <td>2018</td>\n",
       "      <td>Insurers' new business: 'active shooter' polic...</td>\n",
       "      <td>insurance broker paul marshall count phone rin...</td>\n",
       "      <td>Reuters</td>\n",
       "      <td>0</td>\n",
       "    </tr>\n",
       "    <tr>\n",
       "      <th>3</th>\n",
       "      <td>2018</td>\n",
       "      <td>In China, industry push-back stubs out anti-sm...</td>\n",
       "      <td>beijing earlier year city hangzhou home intern...</td>\n",
       "      <td>Reuters</td>\n",
       "      <td>8</td>\n",
       "    </tr>\n",
       "    <tr>\n",
       "      <th>4</th>\n",
       "      <td>2019</td>\n",
       "      <td>FOREX-Dollar on back foot as focus shifts to F...</td>\n",
       "      <td>graphic world fx rate tmsnrt.rs2egbfvh dollar ...</td>\n",
       "      <td>Reuters</td>\n",
       "      <td>0</td>\n",
       "    </tr>\n",
       "  </tbody>\n",
       "</table>\n",
       "</div>"
      ],
      "text/plain": [
       "   year                                              title   \n",
       "0  2020  8 DIY salon treatments that cost a lot less th...  \\\n",
       "1  2019      Judge to bat leadoff in his return to Yankees   \n",
       "2  2018  Insurers' new business: 'active shooter' polic...   \n",
       "3  2018  In China, industry push-back stubs out anti-sm...   \n",
       "4  2019  FOREX-Dollar on back foot as focus shifts to F...   \n",
       "\n",
       "                                             article       publication  topic  \n",
       "0  buy link may earn money affiliate partner lear...  Business Insider      5  \n",
       "1  new york yankee waste little time getting aaro...           Reuters      6  \n",
       "2  insurance broker paul marshall count phone rin...           Reuters      0  \n",
       "3  beijing earlier year city hangzhou home intern...           Reuters      8  \n",
       "4  graphic world fx rate tmsnrt.rs2egbfvh dollar ...           Reuters      0  "
      ]
     },
     "execution_count": 388,
     "metadata": {},
     "output_type": "execute_result"
    }
   ],
   "source": [
    "#add to each article in newslimited_cleaned the topic number in a new column\n",
    "newslimited_cleaned['topic'] = newslimited_cleaned['article'].apply(lambda x: lda_model[dictionary.doc2bow(x.split())][0][0])\n",
    "newslimited_cleaned.head()"
   ]
  },
  {
   "cell_type": "code",
   "execution_count": 389,
   "metadata": {},
   "outputs": [
    {
     "data": {
      "text/plain": [
       "array([5, 6, 0, 8, 9, 3, 4, 1, 7, 2])"
      ]
     },
     "execution_count": 389,
     "metadata": {},
     "output_type": "execute_result"
    }
   ],
   "source": [
    "#give me the unique values of the topic column\n",
    "newslimited_cleaned['topic'].unique()"
   ]
  },
  {
   "cell_type": "code",
   "execution_count": 390,
   "metadata": {},
   "outputs": [
    {
     "data": {
      "text/plain": [
       "<AxesSubplot: xlabel='publication'>"
      ]
     },
     "execution_count": 390,
     "metadata": {},
     "output_type": "execute_result"
    },
    {
     "data": {
      "image/png": "[encoded data removed]",
      "text/plain": [
       "<Figure size 1000x500 with 1 Axes>"
      ]
     },
     "metadata": {},
     "output_type": "display_data"
    }
   ],
   "source": [
    "#show me a distribution over articles per publication for each topic\n",
    "newslimited_cleaned.groupby(['publication', 'topic']).size().unstack().plot(kind='bar', stacked=True, figsize=(10,5))\n"
   ]
  },
  {
   "attachments": {},
   "cell_type": "markdown",
   "metadata": {},
   "source": [
    "# Next steps"
   ]
  },
  {
   "attachments": {},
   "cell_type": "markdown",
   "metadata": {},
   "source": [
    "lets see"
   ]
  },
  {
   "attachments": {},
   "cell_type": "markdown",
   "metadata": {},
   "source": [
    "1. Topic modelling for all publications as they are currently\n",
    "2. Decide on best / biggest topic across most publications\n",
    "3. Pick articles related to topic for further project\n",
    "-> further reduces amount of articles"
   ]
  }
 ],
 "metadata": {
  "kernelspec": {
   "display_name": "Python 3 ",
   "language": "python",
   "name": "python3"
  },
  "language_info": {
   "codemirror_mode": {
    "name": "ipython",
    "version": 3
   },
   "file_extension": ".py",
   "mimetype": "text/x-python",
   "name": "python",
   "nbconvert_exporter": "python",
   "pygments_lexer": "ipython3",
   "version": "3.10.7"
  }
 },
 "nbformat": 4,
 "nbformat_minor": 4
}
