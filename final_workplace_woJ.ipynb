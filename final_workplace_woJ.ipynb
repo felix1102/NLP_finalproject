{
 "cells": [
  {
   "attachments": {},
   "cell_type": "markdown",
   "metadata": {},
   "source": [
    "# Read me"
   ]
  },
  {
   "attachments": {},
   "cell_type": "markdown",
   "metadata": {},
   "source": [
    "If you want to start with pre-filtered data set, start with import section and then skip everything until \"3. Starting point\". Start from there"
   ]
  },
  {
   "attachments": {},
   "cell_type": "markdown",
   "metadata": {},
   "source": [
    "# 0. Import section"
   ]
  },
  {
   "cell_type": "code",
   "execution_count": 1,
   "metadata": {
    "execution": {
     "iopub.execute_input": "2023-05-25T21:29:19.618892Z",
     "iopub.status.busy": "2023-05-25T21:29:19.618062Z",
     "iopub.status.idle": "2023-05-25T21:29:50.714564Z",
     "shell.execute_reply": "2023-05-25T21:29:50.713514Z",
     "shell.execute_reply.started": "2023-05-25T21:29:19.618833Z"
    },
    "scrolled": true,
    "tags": []
   },
   "outputs": [
    {
     "name": "stdout",
     "output_type": "stream",
     "text": [
      "Collecting nltk\n",
      "  File was already downloaded /Users/Felix/Downloads/nltk-3.8.1-py3-none-any.whl\n",
      "Collecting click\n",
      "  File was already downloaded /Users/Felix/Downloads/click-8.1.3-py3-none-any.whl\n",
      "Collecting tqdm\n",
      "  File was already downloaded /Users/Felix/Downloads/tqdm-4.65.0-py3-none-any.whl\n",
      "Collecting regex>=2021.8.3\n",
      "  File was already downloaded /Users/Felix/Downloads/regex-2023.5.5-cp310-cp310-macosx_10_9_x86_64.whl\n",
      "Collecting joblib\n",
      "  File was already downloaded /Users/Felix/Downloads/joblib-1.2.0-py3-none-any.whl\n",
      "Successfully downloaded nltk regex click joblib tqdm\n",
      "\n",
      "\u001b[1m[\u001b[0m\u001b[34;49mnotice\u001b[0m\u001b[1;39;49m]\u001b[0m\u001b[39;49m A new release of pip available: \u001b[0m\u001b[31;49m22.2.2\u001b[0m\u001b[39;49m -> \u001b[0m\u001b[32;49m23.1.2\u001b[0m\n",
      "\u001b[1m[\u001b[0m\u001b[34;49mnotice\u001b[0m\u001b[1;39;49m]\u001b[0m\u001b[39;49m To update, run: \u001b[0m\u001b[32;49mpython3.10 -m pip install --upgrade pip\u001b[0m\n",
      "Requirement already satisfied: nltk in /usr/local/lib/python3.10/site-packages (3.8.1)\n",
      "Requirement already satisfied: tqdm in /usr/local/lib/python3.10/site-packages (from nltk) (4.64.1)\n",
      "Requirement already satisfied: click in /usr/local/lib/python3.10/site-packages (from nltk) (8.1.3)\n",
      "Requirement already satisfied: joblib in /usr/local/lib/python3.10/site-packages (from nltk) (1.2.0)\n",
      "Requirement already satisfied: regex>=2021.8.3 in /usr/local/lib/python3.10/site-packages (from nltk) (2022.10.31)\n",
      "\n",
      "\u001b[1m[\u001b[0m\u001b[34;49mnotice\u001b[0m\u001b[1;39;49m]\u001b[0m\u001b[39;49m A new release of pip available: \u001b[0m\u001b[31;49m22.2.2\u001b[0m\u001b[39;49m -> \u001b[0m\u001b[32;49m23.1.2\u001b[0m\n",
      "\u001b[1m[\u001b[0m\u001b[34;49mnotice\u001b[0m\u001b[1;39;49m]\u001b[0m\u001b[39;49m To update, run: \u001b[0m\u001b[32;49mpython3.10 -m pip install --upgrade pip\u001b[0m\n",
      "Collecting seaborn\n",
      "  File was already downloaded /Users/Felix/Downloads/seaborn-0.12.2-py3-none-any.whl\n",
      "Collecting matplotlib!=3.6.1,>=3.1\n",
      "  File was already downloaded /Users/Felix/Downloads/matplotlib-3.7.1-cp310-cp310-macosx_10_12_x86_64.whl\n",
      "Collecting numpy!=1.24.0,>=1.17\n",
      "  File was already downloaded /Users/Felix/Downloads/numpy-1.24.3-cp310-cp310-macosx_10_9_x86_64.whl\n",
      "Collecting pandas>=0.25\n",
      "  File was already downloaded /Users/Felix/Downloads/pandas-2.0.1-cp310-cp310-macosx_10_9_x86_64.whl\n",
      "Collecting python-dateutil>=2.7\n",
      "  File was already downloaded /Users/Felix/Downloads/python_dateutil-2.8.2-py2.py3-none-any.whl\n",
      "Collecting pyparsing>=2.3.1\n",
      "  File was already downloaded /Users/Felix/Downloads/pyparsing-3.0.9-py3-none-any.whl\n",
      "Collecting fonttools>=4.22.0\n",
      "  File was already downloaded /Users/Felix/Downloads/fonttools-4.39.4-py3-none-any.whl\n",
      "Collecting cycler>=0.10\n",
      "  File was already downloaded /Users/Felix/Downloads/cycler-0.11.0-py3-none-any.whl\n",
      "Collecting pillow>=6.2.0\n",
      "  File was already downloaded /Users/Felix/Downloads/Pillow-9.5.0-cp310-cp310-macosx_10_10_x86_64.whl\n",
      "Collecting contourpy>=1.0.1\n",
      "  File was already downloaded /Users/Felix/Downloads/contourpy-1.0.7-cp310-cp310-macosx_10_9_x86_64.whl\n",
      "Collecting packaging>=20.0\n",
      "  File was already downloaded /Users/Felix/Downloads/packaging-23.1-py3-none-any.whl\n",
      "Collecting kiwisolver>=1.0.1\n",
      "  File was already downloaded /Users/Felix/Downloads/kiwisolver-1.4.4-cp310-cp310-macosx_10_9_x86_64.whl\n",
      "Collecting pytz>=2020.1\n",
      "  File was already downloaded /Users/Felix/Downloads/pytz-2023.3-py2.py3-none-any.whl\n",
      "Collecting tzdata>=2022.1\n",
      "  File was already downloaded /Users/Felix/Downloads/tzdata-2023.3-py2.py3-none-any.whl\n",
      "Collecting six>=1.5\n",
      "  File was already downloaded /Users/Felix/Downloads/six-1.16.0-py2.py3-none-any.whl\n",
      "Successfully downloaded seaborn matplotlib numpy pandas contourpy cycler fonttools kiwisolver packaging pillow pyparsing python-dateutil pytz tzdata six\n",
      "\n",
      "\u001b[1m[\u001b[0m\u001b[34;49mnotice\u001b[0m\u001b[1;39;49m]\u001b[0m\u001b[39;49m A new release of pip available: \u001b[0m\u001b[31;49m22.2.2\u001b[0m\u001b[39;49m -> \u001b[0m\u001b[32;49m23.1.2\u001b[0m\n",
      "\u001b[1m[\u001b[0m\u001b[34;49mnotice\u001b[0m\u001b[1;39;49m]\u001b[0m\u001b[39;49m To update, run: \u001b[0m\u001b[32;49mpython3.10 -m pip install --upgrade pip\u001b[0m\n",
      "Requirement already satisfied: seaborn in /usr/local/lib/python3.10/site-packages (0.12.0)\n",
      "Requirement already satisfied: pandas>=0.25 in /usr/local/lib/python3.10/site-packages (from seaborn) (2.0.1)\n",
      "Requirement already satisfied: matplotlib>=3.1 in /usr/local/lib/python3.10/site-packages (from seaborn) (3.6.1)\n",
      "Requirement already satisfied: numpy>=1.17 in /usr/local/lib/python3.10/site-packages (from seaborn) (1.24.3)\n",
      "Requirement already satisfied: contourpy>=1.0.1 in /usr/local/lib/python3.10/site-packages (from matplotlib>=3.1->seaborn) (1.0.5)\n",
      "Requirement already satisfied: packaging>=20.0 in /Users/Felix/Library/Python/3.10/lib/python/site-packages (from matplotlib>=3.1->seaborn) (21.3)\n",
      "Requirement already satisfied: pyparsing>=2.2.1 in /Users/Felix/Library/Python/3.10/lib/python/site-packages (from matplotlib>=3.1->seaborn) (3.0.9)\n",
      "Requirement already satisfied: cycler>=0.10 in /usr/local/lib/python3.10/site-packages (from matplotlib>=3.1->seaborn) (0.11.0)\n",
      "Requirement already satisfied: kiwisolver>=1.0.1 in /usr/local/lib/python3.10/site-packages (from matplotlib>=3.1->seaborn) (1.4.4)\n",
      "Requirement already satisfied: pillow>=6.2.0 in /usr/local/lib/python3.10/site-packages (from matplotlib>=3.1->seaborn) (9.2.0)\n",
      "Requirement already satisfied: python-dateutil>=2.7 in /Users/Felix/Library/Python/3.10/lib/python/site-packages (from matplotlib>=3.1->seaborn) (2.8.2)\n",
      "Requirement already satisfied: fonttools>=4.22.0 in /usr/local/lib/python3.10/site-packages (from matplotlib>=3.1->seaborn) (4.37.4)\n",
      "Requirement already satisfied: pytz>=2020.1 in /usr/local/lib/python3.10/site-packages (from pandas>=0.25->seaborn) (2022.4)\n",
      "Requirement already satisfied: tzdata>=2022.1 in /usr/local/lib/python3.10/site-packages (from pandas>=0.25->seaborn) (2023.3)\n",
      "Requirement already satisfied: six>=1.5 in /Users/Felix/Library/Python/3.10/lib/python/site-packages (from python-dateutil>=2.7->matplotlib>=3.1->seaborn) (1.16.0)\n",
      "\n",
      "\u001b[1m[\u001b[0m\u001b[34;49mnotice\u001b[0m\u001b[1;39;49m]\u001b[0m\u001b[39;49m A new release of pip available: \u001b[0m\u001b[31;49m22.2.2\u001b[0m\u001b[39;49m -> \u001b[0m\u001b[32;49m23.1.2\u001b[0m\n",
      "\u001b[1m[\u001b[0m\u001b[34;49mnotice\u001b[0m\u001b[1;39;49m]\u001b[0m\u001b[39;49m To update, run: \u001b[0m\u001b[32;49mpython3.10 -m pip install --upgrade pip\u001b[0m\n",
      "Requirement already satisfied: gensim in /usr/local/lib/python3.10/site-packages (4.3.1)\n",
      "Requirement already satisfied: scipy>=1.7.0 in /usr/local/lib/python3.10/site-packages (from gensim) (1.9.2)\n",
      "Requirement already satisfied: numpy>=1.18.5 in /usr/local/lib/python3.10/site-packages (from gensim) (1.24.3)\n",
      "Requirement already satisfied: smart-open>=1.8.1 in /usr/local/lib/python3.10/site-packages (from gensim) (6.3.0)\n",
      "\n",
      "\u001b[1m[\u001b[0m\u001b[34;49mnotice\u001b[0m\u001b[1;39;49m]\u001b[0m\u001b[39;49m A new release of pip available: \u001b[0m\u001b[31;49m22.2.2\u001b[0m\u001b[39;49m -> \u001b[0m\u001b[32;49m23.1.2\u001b[0m\n",
      "\u001b[1m[\u001b[0m\u001b[34;49mnotice\u001b[0m\u001b[1;39;49m]\u001b[0m\u001b[39;49m To update, run: \u001b[0m\u001b[32;49mpython3.10 -m pip install --upgrade pip\u001b[0m\n",
      "Requirement already satisfied: pyLDAvis in /usr/local/lib/python3.10/site-packages (3.4.1)\n",
      "Requirement already satisfied: joblib>=1.2.0 in /usr/local/lib/python3.10/site-packages (from pyLDAvis) (1.2.0)\n",
      "Requirement already satisfied: jinja2 in /Users/Felix/Library/Python/3.10/lib/python/site-packages (from pyLDAvis) (3.1.2)\n",
      "Requirement already satisfied: numexpr in /usr/local/lib/python3.10/site-packages (from pyLDAvis) (2.8.4)\n",
      "Requirement already satisfied: gensim in /usr/local/lib/python3.10/site-packages (from pyLDAvis) (4.3.1)\n",
      "Requirement already satisfied: setuptools in /usr/local/lib/python3.10/site-packages (from pyLDAvis) (65.3.0)\n",
      "Requirement already satisfied: scikit-learn>=1.0.0 in /usr/local/lib/python3.10/site-packages (from pyLDAvis) (1.1.2)\n",
      "Requirement already satisfied: numpy>=1.24.2 in /usr/local/lib/python3.10/site-packages (from pyLDAvis) (1.24.3)\n",
      "Requirement already satisfied: funcy in /usr/local/lib/python3.10/site-packages (from pyLDAvis) (2.0)\n",
      "Requirement already satisfied: scipy in /usr/local/lib/python3.10/site-packages (from pyLDAvis) (1.9.2)\n",
      "Requirement already satisfied: pandas>=2.0.0 in /usr/local/lib/python3.10/site-packages (from pyLDAvis) (2.0.1)\n",
      "Requirement already satisfied: tzdata>=2022.1 in /usr/local/lib/python3.10/site-packages (from pandas>=2.0.0->pyLDAvis) (2023.3)\n",
      "Requirement already satisfied: python-dateutil>=2.8.2 in /Users/Felix/Library/Python/3.10/lib/python/site-packages (from pandas>=2.0.0->pyLDAvis) (2.8.2)\n",
      "Requirement already satisfied: pytz>=2020.1 in /usr/local/lib/python3.10/site-packages (from pandas>=2.0.0->pyLDAvis) (2022.4)\n",
      "Requirement already satisfied: threadpoolctl>=2.0.0 in /usr/local/lib/python3.10/site-packages (from scikit-learn>=1.0.0->pyLDAvis) (3.1.0)\n",
      "Requirement already satisfied: smart-open>=1.8.1 in /usr/local/lib/python3.10/site-packages (from gensim->pyLDAvis) (6.3.0)\n",
      "Requirement already satisfied: MarkupSafe>=2.0 in /Users/Felix/Library/Python/3.10/lib/python/site-packages (from jinja2->pyLDAvis) (2.1.1)\n",
      "Requirement already satisfied: six>=1.5 in /Users/Felix/Library/Python/3.10/lib/python/site-packages (from python-dateutil>=2.8.2->pandas>=2.0.0->pyLDAvis) (1.16.0)\n",
      "\n",
      "\u001b[1m[\u001b[0m\u001b[34;49mnotice\u001b[0m\u001b[1;39;49m]\u001b[0m\u001b[39;49m A new release of pip available: \u001b[0m\u001b[31;49m22.2.2\u001b[0m\u001b[39;49m -> \u001b[0m\u001b[32;49m23.1.2\u001b[0m\n",
      "\u001b[1m[\u001b[0m\u001b[34;49mnotice\u001b[0m\u001b[1;39;49m]\u001b[0m\u001b[39;49m To update, run: \u001b[0m\u001b[32;49mpython3.10 -m pip install --upgrade pip\u001b[0m\n",
      "\u001b[31mERROR: Could not find a version that satisfies the requirement pyLDAvis.gensim (from versions: none)\u001b[0m\u001b[31m\n",
      "\u001b[0m\u001b[31mERROR: No matching distribution found for pyLDAvis.gensim\u001b[0m\u001b[31m\n",
      "\u001b[0m\n",
      "\u001b[1m[\u001b[0m\u001b[34;49mnotice\u001b[0m\u001b[1;39;49m]\u001b[0m\u001b[39;49m A new release of pip available: \u001b[0m\u001b[31;49m22.2.2\u001b[0m\u001b[39;49m -> \u001b[0m\u001b[32;49m23.1.2\u001b[0m\n",
      "\u001b[1m[\u001b[0m\u001b[34;49mnotice\u001b[0m\u001b[1;39;49m]\u001b[0m\u001b[39;49m To update, run: \u001b[0m\u001b[32;49mpython3.10 -m pip install --upgrade pip\u001b[0m\n",
      "Requirement already satisfied: imblearn in /usr/local/lib/python3.10/site-packages (0.0)\n",
      "Requirement already satisfied: imbalanced-learn in /usr/local/lib/python3.10/site-packages (from imblearn) (0.10.1)\n",
      "Requirement already satisfied: numpy>=1.17.3 in /usr/local/lib/python3.10/site-packages (from imbalanced-learn->imblearn) (1.24.3)\n",
      "Requirement already satisfied: joblib>=1.1.1 in /usr/local/lib/python3.10/site-packages (from imbalanced-learn->imblearn) (1.2.0)\n",
      "Requirement already satisfied: threadpoolctl>=2.0.0 in /usr/local/lib/python3.10/site-packages (from imbalanced-learn->imblearn) (3.1.0)\n",
      "Requirement already satisfied: scipy>=1.3.2 in /usr/local/lib/python3.10/site-packages (from imbalanced-learn->imblearn) (1.9.2)\n",
      "Requirement already satisfied: scikit-learn>=1.0.2 in /usr/local/lib/python3.10/site-packages (from imbalanced-learn->imblearn) (1.1.2)\n",
      "\n",
      "\u001b[1m[\u001b[0m\u001b[34;49mnotice\u001b[0m\u001b[1;39;49m]\u001b[0m\u001b[39;49m A new release of pip available: \u001b[0m\u001b[31;49m22.2.2\u001b[0m\u001b[39;49m -> \u001b[0m\u001b[32;49m23.1.2\u001b[0m\n",
      "\u001b[1m[\u001b[0m\u001b[34;49mnotice\u001b[0m\u001b[1;39;49m]\u001b[0m\u001b[39;49m To update, run: \u001b[0m\u001b[32;49mpython3.10 -m pip install --upgrade pip\u001b[0m\n"
     ]
    },
    {
     "name": "stderr",
     "output_type": "stream",
     "text": [
      "[nltk_data] Downloading package stopwords to /Users/Felix/nltk_data...\n",
      "[nltk_data]   Package stopwords is already up-to-date!\n",
      "[nltk_data] Downloading package punkt to /Users/Felix/nltk_data...\n",
      "[nltk_data]   Package punkt is already up-to-date!\n",
      "[nltk_data] Downloading package wordnet to /Users/Felix/nltk_data...\n",
      "[nltk_data]   Package wordnet is already up-to-date!\n"
     ]
    },
    {
     "data": {
      "text/plain": [
       "True"
      ]
     },
     "execution_count": 1,
     "metadata": {},
     "output_type": "execute_result"
    }
   ],
   "source": [
    "!pip3 download nltk\n",
    "!pip3 install nltk\n",
    "!pip3 download seaborn\n",
    "!pip3 install seaborn\n",
    "!pip3 install gensim\n",
    "!pip3 install pyLDAvis\n",
    "!pip3 install pyLDAvis.gensim\n",
    "\n",
    "import pandas as pd\n",
    "import math\n",
    "import time\n",
    "import os\n",
    "import numpy as np\n",
    "import matplotlib as plt\n",
    "import seaborn as sns \n",
    "import nltk\n",
    "import gensim \n",
    "import re\n",
    "from nltk.corpus import stopwords\n",
    "from nltk import word_tokenize, WordNetLemmatizer\n",
    "from nltk.stem import PorterStemmer\n",
    "from sklearn.feature_extraction.text import CountVectorizer\n",
    "from gensim.corpora import Dictionary\n",
    "from gensim import corpora, models\n",
    "from pprint import pprint\n",
    "from sklearn.model_selection import train_test_split\n",
    "\n",
    "!pip3 install imblearn\n",
    "from imblearn.over_sampling import RandomOverSampler\n",
    "\n",
    "\n",
    "nltk.download('stopwords')\n",
    "nltk.download('punkt')\n",
    "nltk.download('wordnet')"
   ]
  },
  {
   "attachments": {},
   "cell_type": "markdown",
   "metadata": {
    "jp-MarkdownHeadingCollapsed": true,
    "tags": []
   },
   "source": [
    "# 1. Cleaning big data set"
   ]
  },
  {
   "cell_type": "code",
   "execution_count": 2,
   "metadata": {},
   "outputs": [
    {
     "data": {
      "text/html": [
       "<div>\n",
       "<style scoped>\n",
       "    .dataframe tbody tr th:only-of-type {\n",
       "        vertical-align: middle;\n",
       "    }\n",
       "\n",
       "    .dataframe tbody tr th {\n",
       "        vertical-align: top;\n",
       "    }\n",
       "\n",
       "    .dataframe thead th {\n",
       "        text-align: right;\n",
       "    }\n",
       "</style>\n",
       "<table border=\"1\" class=\"dataframe\">\n",
       "  <thead>\n",
       "    <tr style=\"text-align: right;\">\n",
       "      <th></th>\n",
       "      <th>date</th>\n",
       "      <th>year</th>\n",
       "      <th>month</th>\n",
       "      <th>day</th>\n",
       "      <th>author</th>\n",
       "      <th>title</th>\n",
       "      <th>article</th>\n",
       "      <th>url</th>\n",
       "      <th>section</th>\n",
       "      <th>publication</th>\n",
       "    </tr>\n",
       "  </thead>\n",
       "  <tbody>\n",
       "    <tr>\n",
       "      <th>0</th>\n",
       "      <td>2016-12-09 18:31:00</td>\n",
       "      <td>2016</td>\n",
       "      <td>12.0</td>\n",
       "      <td>9</td>\n",
       "      <td>Lee Drutman</td>\n",
       "      <td>We should take concerns about the health of li...</td>\n",
       "      <td>This post is part of Polyarchy, an independent...</td>\n",
       "      <td>https://www.vox.com/polyarchy/2016/12/9/138983...</td>\n",
       "      <td>NaN</td>\n",
       "      <td>Vox</td>\n",
       "    </tr>\n",
       "    <tr>\n",
       "      <th>1</th>\n",
       "      <td>2016-10-07 21:26:46</td>\n",
       "      <td>2016</td>\n",
       "      <td>10.0</td>\n",
       "      <td>7</td>\n",
       "      <td>Scott Davis</td>\n",
       "      <td>Colts GM Ryan Grigson says Andrew Luck's contr...</td>\n",
       "      <td>The Indianapolis Colts made Andrew Luck the h...</td>\n",
       "      <td>https://www.businessinsider.com/colts-gm-ryan-...</td>\n",
       "      <td>NaN</td>\n",
       "      <td>Business Insider</td>\n",
       "    </tr>\n",
       "    <tr>\n",
       "      <th>2</th>\n",
       "      <td>2018-01-26 00:00:00</td>\n",
       "      <td>2018</td>\n",
       "      <td>1.0</td>\n",
       "      <td>26</td>\n",
       "      <td>NaN</td>\n",
       "      <td>Trump denies report he ordered Mueller fired</td>\n",
       "      <td>DAVOS, Switzerland (Reuters) - U.S. President ...</td>\n",
       "      <td>https://www.reuters.com/article/us-davos-meeti...</td>\n",
       "      <td>Davos</td>\n",
       "      <td>Reuters</td>\n",
       "    </tr>\n",
       "    <tr>\n",
       "      <th>3</th>\n",
       "      <td>2019-06-27 00:00:00</td>\n",
       "      <td>2019</td>\n",
       "      <td>6.0</td>\n",
       "      <td>27</td>\n",
       "      <td>NaN</td>\n",
       "      <td>France's Sarkozy reveals his 'Passions' but in...</td>\n",
       "      <td>PARIS (Reuters) - Former French president Nico...</td>\n",
       "      <td>https://www.reuters.com/article/france-politic...</td>\n",
       "      <td>World News</td>\n",
       "      <td>Reuters</td>\n",
       "    </tr>\n",
       "    <tr>\n",
       "      <th>4</th>\n",
       "      <td>2016-01-27 00:00:00</td>\n",
       "      <td>2016</td>\n",
       "      <td>1.0</td>\n",
       "      <td>27</td>\n",
       "      <td>NaN</td>\n",
       "      <td>Paris Hilton: Woman In Black For Uncle Monty's...</td>\n",
       "      <td>Paris Hilton arrived at LAX Wednesday dressed ...</td>\n",
       "      <td>https://www.tmz.com/2016/01/27/paris-hilton-mo...</td>\n",
       "      <td>NaN</td>\n",
       "      <td>TMZ</td>\n",
       "    </tr>\n",
       "  </tbody>\n",
       "</table>\n",
       "</div>"
      ],
      "text/plain": [
       "                  date  year  month  day       author   \n",
       "0  2016-12-09 18:31:00  2016   12.0    9  Lee Drutman  \\\n",
       "1  2016-10-07 21:26:46  2016   10.0    7  Scott Davis   \n",
       "2  2018-01-26 00:00:00  2018    1.0   26          NaN   \n",
       "3  2019-06-27 00:00:00  2019    6.0   27          NaN   \n",
       "4  2016-01-27 00:00:00  2016    1.0   27          NaN   \n",
       "\n",
       "                                               title   \n",
       "0  We should take concerns about the health of li...  \\\n",
       "1  Colts GM Ryan Grigson says Andrew Luck's contr...   \n",
       "2       Trump denies report he ordered Mueller fired   \n",
       "3  France's Sarkozy reveals his 'Passions' but in...   \n",
       "4  Paris Hilton: Woman In Black For Uncle Monty's...   \n",
       "\n",
       "                                             article   \n",
       "0  This post is part of Polyarchy, an independent...  \\\n",
       "1   The Indianapolis Colts made Andrew Luck the h...   \n",
       "2  DAVOS, Switzerland (Reuters) - U.S. President ...   \n",
       "3  PARIS (Reuters) - Former French president Nico...   \n",
       "4  Paris Hilton arrived at LAX Wednesday dressed ...   \n",
       "\n",
       "                                                 url     section   \n",
       "0  https://www.vox.com/polyarchy/2016/12/9/138983...         NaN  \\\n",
       "1  https://www.businessinsider.com/colts-gm-ryan-...         NaN   \n",
       "2  https://www.reuters.com/article/us-davos-meeti...       Davos   \n",
       "3  https://www.reuters.com/article/france-politic...  World News   \n",
       "4  https://www.tmz.com/2016/01/27/paris-hilton-mo...         NaN   \n",
       "\n",
       "        publication  \n",
       "0               Vox  \n",
       "1  Business Insider  \n",
       "2           Reuters  \n",
       "3           Reuters  \n",
       "4               TMZ  "
      ]
     },
     "execution_count": 2,
     "metadata": {},
     "output_type": "execute_result"
    }
   ],
   "source": [
    "newspaper_df = pd.read_csv('/Users/Felix/Desktop/GitHub/NLP_finalproject/newspaper_data.csv')\n",
    "newspaper_df.head()"
   ]
  },
  {
   "cell_type": "code",
   "execution_count": null,
   "metadata": {},
   "outputs": [
    {
     "data": {
      "text/plain": [
       "(2688878, 10)"
      ]
     },
     "execution_count": 4,
     "metadata": {},
     "output_type": "execute_result"
    }
   ],
   "source": [
    "#give me the shape of newspaper_df\n",
    "newspaper_df.shape"
   ]
  },
  {
   "cell_type": "code",
   "execution_count": 3,
   "metadata": {},
   "outputs": [
    {
     "data": {
      "text/html": [
       "<div>\n",
       "<style scoped>\n",
       "    .dataframe tbody tr th:only-of-type {\n",
       "        vertical-align: middle;\n",
       "    }\n",
       "\n",
       "    .dataframe tbody tr th {\n",
       "        vertical-align: top;\n",
       "    }\n",
       "\n",
       "    .dataframe thead th {\n",
       "        text-align: right;\n",
       "    }\n",
       "</style>\n",
       "<table border=\"1\" class=\"dataframe\">\n",
       "  <thead>\n",
       "    <tr style=\"text-align: right;\">\n",
       "      <th></th>\n",
       "      <th>date</th>\n",
       "      <th>year</th>\n",
       "      <th>month</th>\n",
       "      <th>day</th>\n",
       "      <th>author</th>\n",
       "      <th>title</th>\n",
       "      <th>article</th>\n",
       "      <th>url</th>\n",
       "      <th>section</th>\n",
       "      <th>publication</th>\n",
       "    </tr>\n",
       "  </thead>\n",
       "  <tbody>\n",
       "    <tr>\n",
       "      <th>0</th>\n",
       "      <td>2016-12-09 18:31:00</td>\n",
       "      <td>2016</td>\n",
       "      <td>12.0</td>\n",
       "      <td>9</td>\n",
       "      <td>Lee Drutman</td>\n",
       "      <td>We should take concerns about the health of li...</td>\n",
       "      <td>This post is part of Polyarchy, an independent...</td>\n",
       "      <td>https://www.vox.com/polyarchy/2016/12/9/138983...</td>\n",
       "      <td>NaN</td>\n",
       "      <td>Vox</td>\n",
       "    </tr>\n",
       "    <tr>\n",
       "      <th>1</th>\n",
       "      <td>2016-10-07 21:26:46</td>\n",
       "      <td>2016</td>\n",
       "      <td>10.0</td>\n",
       "      <td>7</td>\n",
       "      <td>Scott Davis</td>\n",
       "      <td>Colts GM Ryan Grigson says Andrew Luck's contr...</td>\n",
       "      <td>The Indianapolis Colts made Andrew Luck the h...</td>\n",
       "      <td>https://www.businessinsider.com/colts-gm-ryan-...</td>\n",
       "      <td>NaN</td>\n",
       "      <td>Business Insider</td>\n",
       "    </tr>\n",
       "    <tr>\n",
       "      <th>2</th>\n",
       "      <td>2018-01-26 00:00:00</td>\n",
       "      <td>2018</td>\n",
       "      <td>1.0</td>\n",
       "      <td>26</td>\n",
       "      <td>NaN</td>\n",
       "      <td>Trump denies report he ordered Mueller fired</td>\n",
       "      <td>DAVOS, Switzerland (Reuters) - U.S. President ...</td>\n",
       "      <td>https://www.reuters.com/article/us-davos-meeti...</td>\n",
       "      <td>Davos</td>\n",
       "      <td>Reuters</td>\n",
       "    </tr>\n",
       "    <tr>\n",
       "      <th>3</th>\n",
       "      <td>2019-06-27 00:00:00</td>\n",
       "      <td>2019</td>\n",
       "      <td>6.0</td>\n",
       "      <td>27</td>\n",
       "      <td>NaN</td>\n",
       "      <td>France's Sarkozy reveals his 'Passions' but in...</td>\n",
       "      <td>PARIS (Reuters) - Former French president Nico...</td>\n",
       "      <td>https://www.reuters.com/article/france-politic...</td>\n",
       "      <td>World News</td>\n",
       "      <td>Reuters</td>\n",
       "    </tr>\n",
       "    <tr>\n",
       "      <th>4</th>\n",
       "      <td>2016-01-27 00:00:00</td>\n",
       "      <td>2016</td>\n",
       "      <td>1.0</td>\n",
       "      <td>27</td>\n",
       "      <td>NaN</td>\n",
       "      <td>Paris Hilton: Woman In Black For Uncle Monty's...</td>\n",
       "      <td>Paris Hilton arrived at LAX Wednesday dressed ...</td>\n",
       "      <td>https://www.tmz.com/2016/01/27/paris-hilton-mo...</td>\n",
       "      <td>NaN</td>\n",
       "      <td>TMZ</td>\n",
       "    </tr>\n",
       "  </tbody>\n",
       "</table>\n",
       "</div>"
      ],
      "text/plain": [
       "                  date  year  month  day       author   \n",
       "0  2016-12-09 18:31:00  2016   12.0    9  Lee Drutman  \\\n",
       "1  2016-10-07 21:26:46  2016   10.0    7  Scott Davis   \n",
       "2  2018-01-26 00:00:00  2018    1.0   26          NaN   \n",
       "3  2019-06-27 00:00:00  2019    6.0   27          NaN   \n",
       "4  2016-01-27 00:00:00  2016    1.0   27          NaN   \n",
       "\n",
       "                                               title   \n",
       "0  We should take concerns about the health of li...  \\\n",
       "1  Colts GM Ryan Grigson says Andrew Luck's contr...   \n",
       "2       Trump denies report he ordered Mueller fired   \n",
       "3  France's Sarkozy reveals his 'Passions' but in...   \n",
       "4  Paris Hilton: Woman In Black For Uncle Monty's...   \n",
       "\n",
       "                                             article   \n",
       "0  This post is part of Polyarchy, an independent...  \\\n",
       "1   The Indianapolis Colts made Andrew Luck the h...   \n",
       "2  DAVOS, Switzerland (Reuters) - U.S. President ...   \n",
       "3  PARIS (Reuters) - Former French president Nico...   \n",
       "4  Paris Hilton arrived at LAX Wednesday dressed ...   \n",
       "\n",
       "                                                 url     section   \n",
       "0  https://www.vox.com/polyarchy/2016/12/9/138983...         NaN  \\\n",
       "1  https://www.businessinsider.com/colts-gm-ryan-...         NaN   \n",
       "2  https://www.reuters.com/article/us-davos-meeti...       Davos   \n",
       "3  https://www.reuters.com/article/france-politic...  World News   \n",
       "4  https://www.tmz.com/2016/01/27/paris-hilton-mo...         NaN   \n",
       "\n",
       "        publication  \n",
       "0               Vox  \n",
       "1  Business Insider  \n",
       "2           Reuters  \n",
       "3           Reuters  \n",
       "4               TMZ  "
      ]
     },
     "execution_count": 3,
     "metadata": {},
     "output_type": "execute_result"
    }
   ],
   "source": [
    "newspaper_df.head()"
   ]
  },
  {
   "cell_type": "code",
   "execution_count": null,
   "metadata": {},
   "outputs": [
    {
     "name": "stdout",
     "output_type": "stream",
     "text": [
      "['Vox' 'Business Insider' 'Reuters' 'TMZ' 'Vice' 'Vice News'\n",
      " 'Hyperallergic' 'TechCrunch' 'Axios' 'Refinery 29' 'The Verge' 'Mashable'\n",
      " 'People' 'Economist' 'CNN' 'Gizmodo' 'New Yorker' 'CNBC' 'Wired'\n",
      " 'New Republic' 'Fox News' 'The Hill' 'Politico' 'The New York Times'\n",
      " 'Buzzfeed News' 'Washington Post' nan]\n"
     ]
    },
    {
     "data": {
      "text/plain": [
       "27"
      ]
     },
     "execution_count": 5,
     "metadata": {},
     "output_type": "execute_result"
    }
   ],
   "source": [
    "#give me the different potential values for the column publication\n",
    "print(newspaper_df['publication'].unique())\n",
    "len(newspaper_df['publication'].unique())"
   ]
  },
  {
   "cell_type": "code",
   "execution_count": null,
   "metadata": {},
   "outputs": [
    {
     "data": {
      "text/plain": [
       "Reuters               840094\n",
       "The New York Times    252259\n",
       "CNBC                  238096\n",
       "The Hill              208411\n",
       "People                136488\n",
       "CNN                   127602\n",
       "Refinery 29           111433\n",
       "Vice                  101137\n",
       "Mashable               94107\n",
       "Business Insider       57953\n",
       "The Verge              52424\n",
       "TechCrunch             52095\n",
       "TMZ                    49595\n",
       "Axios                  47815\n",
       "Vox                    47272\n",
       "Politico               46377\n",
       "Washington Post        40882\n",
       "Buzzfeed News          32819\n",
       "Gizmodo                27228\n",
       "Economist              26227\n",
       "Wired                  20243\n",
       "Fox News               20144\n",
       "Vice News              15539\n",
       "Hyperallergic          13551\n",
       "New Republic           11809\n",
       "New Yorker              4701\n",
       "Name: publication, dtype: int64"
      ]
     },
     "execution_count": 6,
     "metadata": {},
     "output_type": "execute_result"
    }
   ],
   "source": [
    "#show me the distribution of the column over gteh different values for publication\n",
    "newspaper_df['publication'].value_counts()"
   ]
  },
  {
   "cell_type": "code",
   "execution_count": null,
   "metadata": {},
   "outputs": [],
   "source": [
    "relevant = ['TMZ', 'Economist', 'CNN', 'CNBC', 'Fox News', 'Reuters', 'The New York Times','Washington Post', 'Business Insider']"
   ]
  },
  {
   "cell_type": "code",
   "execution_count": null,
   "metadata": {},
   "outputs": [],
   "source": [
    "columns_to_keep = ['year', 'title', 'article', 'publication']"
   ]
  },
  {
   "cell_type": "code",
   "execution_count": null,
   "metadata": {},
   "outputs": [],
   "source": [
    "#create new data frame that is reduced to the relevant publications and columns to keep\n",
    "newspaper_df = newspaper_df[newspaper_df['publication'].isin(relevant)][columns_to_keep]"
   ]
  },
  {
   "attachments": {},
   "cell_type": "markdown",
   "metadata": {
    "jp-MarkdownHeadingCollapsed": true,
    "tags": []
   },
   "source": [
    "# 2. EDA of cleaned data set"
   ]
  },
  {
   "attachments": {},
   "cell_type": "markdown",
   "metadata": {
    "jp-MarkdownHeadingCollapsed": true,
    "tags": []
   },
   "source": [
    "## 2.1 General information"
   ]
  },
  {
   "cell_type": "code",
   "execution_count": null,
   "metadata": {},
   "outputs": [
    {
     "data": {
      "text/html": [
       "<div>\n",
       "<style scoped>\n",
       "    .dataframe tbody tr th:only-of-type {\n",
       "        vertical-align: middle;\n",
       "    }\n",
       "\n",
       "    .dataframe tbody tr th {\n",
       "        vertical-align: top;\n",
       "    }\n",
       "\n",
       "    .dataframe thead th {\n",
       "        text-align: right;\n",
       "    }\n",
       "</style>\n",
       "<table border=\"1\" class=\"dataframe\">\n",
       "  <thead>\n",
       "    <tr style=\"text-align: right;\">\n",
       "      <th></th>\n",
       "      <th>year</th>\n",
       "      <th>title</th>\n",
       "      <th>article</th>\n",
       "      <th>publication</th>\n",
       "    </tr>\n",
       "  </thead>\n",
       "  <tbody>\n",
       "    <tr>\n",
       "      <th>1</th>\n",
       "      <td>2016</td>\n",
       "      <td>Colts GM Ryan Grigson says Andrew Luck's contr...</td>\n",
       "      <td>The Indianapolis Colts made Andrew Luck the h...</td>\n",
       "      <td>Business Insider</td>\n",
       "    </tr>\n",
       "    <tr>\n",
       "      <th>2</th>\n",
       "      <td>2018</td>\n",
       "      <td>Trump denies report he ordered Mueller fired</td>\n",
       "      <td>DAVOS, Switzerland (Reuters) - U.S. President ...</td>\n",
       "      <td>Reuters</td>\n",
       "    </tr>\n",
       "    <tr>\n",
       "      <th>3</th>\n",
       "      <td>2019</td>\n",
       "      <td>France's Sarkozy reveals his 'Passions' but in...</td>\n",
       "      <td>PARIS (Reuters) - Former French president Nico...</td>\n",
       "      <td>Reuters</td>\n",
       "    </tr>\n",
       "    <tr>\n",
       "      <th>4</th>\n",
       "      <td>2016</td>\n",
       "      <td>Paris Hilton: Woman In Black For Uncle Monty's...</td>\n",
       "      <td>Paris Hilton arrived at LAX Wednesday dressed ...</td>\n",
       "      <td>TMZ</td>\n",
       "    </tr>\n",
       "    <tr>\n",
       "      <th>5</th>\n",
       "      <td>2019</td>\n",
       "      <td>ECB's Coeure: If we decide to cut rates, we'd ...</td>\n",
       "      <td>BERLIN, June 17 (Reuters) - ECB board member B...</td>\n",
       "      <td>Reuters</td>\n",
       "    </tr>\n",
       "  </tbody>\n",
       "</table>\n",
       "</div>"
      ],
      "text/plain": [
       "   year                                              title  \\\n",
       "1  2016  Colts GM Ryan Grigson says Andrew Luck's contr...   \n",
       "2  2018       Trump denies report he ordered Mueller fired   \n",
       "3  2019  France's Sarkozy reveals his 'Passions' but in...   \n",
       "4  2016  Paris Hilton: Woman In Black For Uncle Monty's...   \n",
       "5  2019  ECB's Coeure: If we decide to cut rates, we'd ...   \n",
       "\n",
       "                                             article       publication  \n",
       "1   The Indianapolis Colts made Andrew Luck the h...  Business Insider  \n",
       "2  DAVOS, Switzerland (Reuters) - U.S. President ...           Reuters  \n",
       "3  PARIS (Reuters) - Former French president Nico...           Reuters  \n",
       "4  Paris Hilton arrived at LAX Wednesday dressed ...               TMZ  \n",
       "5  BERLIN, June 17 (Reuters) - ECB board member B...           Reuters  "
      ]
     },
     "metadata": {},
     "output_type": "display_data"
    }
   ],
   "source": [
    "newspaper_df.head()"
   ]
  },
  {
   "cell_type": "code",
   "execution_count": null,
   "metadata": {},
   "outputs": [
    {
     "data": {
      "text/plain": [
       "(1652852, 4)"
      ]
     },
     "metadata": {},
     "output_type": "display_data"
    }
   ],
   "source": [
    "newspaper_df.shape"
   ]
  },
  {
   "cell_type": "code",
   "execution_count": null,
   "metadata": {},
   "outputs": [
    {
     "name": "stdout",
     "output_type": "stream",
     "text": [
      "<class 'pandas.core.frame.DataFrame'>\n",
      "Int64Index: 1652852 entries, 1 to 2688877\n",
      "Data columns (total 4 columns):\n",
      " #   Column       Non-Null Count    Dtype \n",
      "---  ------       --------------    ----- \n",
      " 0   year         1652852 non-null  int64 \n",
      " 1   title        1652816 non-null  object\n",
      " 2   article      1587777 non-null  object\n",
      " 3   publication  1652852 non-null  object\n",
      "dtypes: int64(1), object(3)\n",
      "memory usage: 63.1+ MB\n"
     ]
    }
   ],
   "source": [
    "newspaper_df.info()"
   ]
  },
  {
   "cell_type": "code",
   "execution_count": null,
   "metadata": {},
   "outputs": [
    {
     "data": {
      "text/plain": [
       "year               0\n",
       "title             36\n",
       "article        65075\n",
       "publication        0\n",
       "dtype: int64"
      ]
     },
     "metadata": {},
     "output_type": "display_data"
    }
   ],
   "source": [
    "newspaper_df.isnull().sum()"
   ]
  },
  {
   "cell_type": "code",
   "execution_count": null,
   "metadata": {},
   "outputs": [
    {
     "data": {
      "text/plain": [
       "Washington Post       37550\n",
       "Reuters               14958\n",
       "CNBC                   3955\n",
       "The New York Times     3173\n",
       "Economist              3027\n",
       "CNN                    2302\n",
       "TMZ                      91\n",
       "Business Insider         19\n",
       "Name: publication, dtype: int64"
      ]
     },
     "metadata": {},
     "output_type": "display_data"
    }
   ],
   "source": [
    "#show me the distribution of isnull in article over publication\n",
    "newspaper_df[newspaper_df['article'].isnull()]['publication'].value_counts()"
   ]
  },
  {
   "cell_type": "code",
   "execution_count": null,
   "metadata": {},
   "outputs": [],
   "source": [
    "#delete all rows where article and title is null\n",
    "newspaper_df = newspaper_df.dropna(subset=['article', 'title'])"
   ]
  },
  {
   "cell_type": "code",
   "execution_count": null,
   "metadata": {},
   "outputs": [
    {
     "data": {
      "text/plain": [
       "Reuters               825136\n",
       "The New York Times    249072\n",
       "CNBC                  234139\n",
       "CNN                   125300\n",
       "Business Insider       57934\n",
       "TMZ                    49504\n",
       "Economist              23200\n",
       "Fox News               20144\n",
       "Washington Post         3332\n",
       "Name: publication, dtype: int64"
      ]
     },
     "metadata": {},
     "output_type": "display_data"
    }
   ],
   "source": [
    "#show me the distribution of the column over the different values for publication\n",
    "newspaper_df['publication'].value_counts()\n"
   ]
  },
  {
   "cell_type": "code",
   "execution_count": null,
   "metadata": {},
   "outputs": [
    {
     "data": {
      "text/plain": [
       "(1587761, 4)"
      ]
     },
     "metadata": {},
     "output_type": "display_data"
    }
   ],
   "source": [
    "newspaper_df.shape"
   ]
  },
  {
   "attachments": {},
   "cell_type": "markdown",
   "metadata": {
    "jp-MarkdownHeadingCollapsed": true,
    "tags": []
   },
   "source": [
    "## 2.2 Plots"
   ]
  },
  {
   "cell_type": "code",
   "execution_count": null,
   "metadata": {},
   "outputs": [
    {
     "data": {
      "text/plain": [
       "<AxesSubplot: >"
      ]
     },
     "metadata": {},
     "output_type": "display_data"
    },
    {
     "data": {
      "image/png": "[encoded data removed]",
      "text/plain": [
       "<Figure size 640x480 with 1 Axes>"
      ]
     },
     "metadata": {},
     "output_type": "display_data"
    }
   ],
   "source": [
    "#plot the distribution of the column over the different values for publication\n",
    "newspaper_df['publication'].value_counts().plot(kind='bar')"
   ]
  },
  {
   "cell_type": "code",
   "execution_count": null,
   "metadata": {},
   "outputs": [
    {
     "data": {
      "text/plain": [
       "<AxesSubplot: >"
      ]
     },
     "metadata": {},
     "output_type": "display_data"
    },
    {
     "data": {
      "image/png": "[encoded data removed]",
      "text/plain": [
       "<Figure size 640x480 with 1 Axes>"
      ]
     },
     "metadata": {},
     "output_type": "display_data"
    }
   ],
   "source": [
    "#plot the articles per year\n",
    "newspaper_df['year'].value_counts().plot(kind='bar')"
   ]
  },
  {
   "cell_type": "code",
   "execution_count": null,
   "metadata": {},
   "outputs": [
    {
     "data": {
      "text/plain": [
       "<AxesSubplot: xlabel='year'>"
      ]
     },
     "metadata": {},
     "output_type": "display_data"
    },
    {
     "data": {
      "image/png": "[encoded data removed]",
      "text/plain": [
       "<Figure size 640x480 with 1 Axes>"
      ]
     },
     "metadata": {},
     "output_type": "display_data"
    }
   ],
   "source": [
    "#plot the articles per year per publication\n",
    "newspaper_df.groupby(['year', 'publication']).size().unstack().plot(kind='bar', stacked=True)"
   ]
  },
  {
   "cell_type": "code",
   "execution_count": null,
   "metadata": {},
   "outputs": [
    {
     "data": {
      "text/plain": [
       "<AxesSubplot: xlabel='year'>"
      ]
     },
     "metadata": {},
     "output_type": "display_data"
    },
    {
     "data": {
      "image/png": "[encoded data removed]",
      "text/plain": [
       "<Figure size 640x480 with 1 Axes>"
      ]
     },
     "metadata": {},
     "output_type": "display_data"
    }
   ],
   "source": [
    "#plot the articles per year per publication\n",
    "newspaper_df.groupby(['year', 'publication']).size().unstack().plot(kind='bar', stacked=False)"
   ]
  },
  {
   "attachments": {},
   "cell_type": "markdown",
   "metadata": {
    "jp-MarkdownHeadingCollapsed": true,
    "tags": []
   },
   "source": [
    "## 2.3 Saving shorter df as csv"
   ]
  },
  {
   "cell_type": "code",
   "execution_count": null,
   "metadata": {},
   "outputs": [],
   "source": [
    "import time\n",
    "import math"
   ]
  },
  {
   "cell_type": "code",
   "execution_count": null,
   "metadata": {},
   "outputs": [],
   "source": [
    "def split_dataframe(df, max_file_size_mb, file_name):\n",
    "   \n",
    "    start_time = time.time()\n",
    "\n",
    "    max_file_size_bytes = max_file_size_mb * 1024 * 1024\n",
    "\n",
    "    # Calculate the approximate size of each row in bytes\n",
    "    row_size = df.memory_usage(deep=True).sum() / len(df)\n",
    "\n",
    "    # Calculate the number of rows that would fit within the maximum file size\n",
    "    num_rows_per_file = math.floor(max_file_size_bytes / row_size)\n",
    "\n",
    "    # Split the DataFrame into sub DataFrames\n",
    "    num_files = math.ceil(len(df) / num_rows_per_file)\n",
    "    print(f'num_files: {num_files}')\n",
    "\n",
    "    # Save each sub DataFrame as a CSV file with the specified name and a number\n",
    "    for i in range(num_files):\n",
    "        start_index = i * num_rows_per_file\n",
    "        end_index = min((i + 1) * num_rows_per_file, len(df))\n",
    "        sub_df = df.iloc[start_index:end_index].copy()\n",
    "        file_path = f'{file_name}_{i + 1}.csv'\n",
    "        sub_df.to_csv(file_path, index=False)\n",
    "\n",
    "    # Stop the timer\n",
    "    end_time = time.time()\n",
    "    print(f'Finished splitting {len(df)} rows into {num_files} files in {end_time - start_time:.2f} seconds')"
   ]
  },
  {
   "attachments": {},
   "cell_type": "markdown",
   "metadata": {
    "jp-MarkdownHeadingCollapsed": true,
    "tags": []
   },
   "source": [
    "# 3 Starting point"
   ]
  },
  {
   "attachments": {},
   "cell_type": "markdown",
   "metadata": {},
   "source": [
    "## 3.1 Reading in"
   ]
  },
  {
   "cell_type": "code",
   "execution_count": 2,
   "metadata": {
    "execution": {
     "iopub.execute_input": "2023-05-23T14:22:24.609629Z",
     "iopub.status.busy": "2023-05-23T14:22:24.609100Z",
     "iopub.status.idle": "2023-05-23T14:22:24.626087Z",
     "shell.execute_reply": "2023-05-23T14:22:24.624338Z",
     "shell.execute_reply.started": "2023-05-23T14:22:24.609596Z"
    },
    "tags": []
   },
   "outputs": [],
   "source": [
    "#list with the names of the files\n",
    "file_names = ['newsdata_1.csv', 'newsdata_2.csv', 'newsdata_3.csv', 'newsdata_4.csv', 'newsdata_5.csv', 'newsdata_6.csv', 'newsdata_7.csv', 'newsdata_8.csv', 'newsdata_9.csv', 'newsdata_10.csv', 'newsdata_11.csv', 'newsdata_12.csv', 'newsdata_13.csv', 'newsdata_14.csv', 'newsdata_15.csv', 'newsdata_16.csv', 'newsdata_17.csv', 'newsdata_18.csv', 'newsdata_19.csv', 'newsdata_20.csv', 'newsdata_21.csv', 'newsdata_22.csv', 'newsdata_23.csv', 'newsdata_24.csv', 'newsdata_25.csv', 'newsdata_26.csv', 'newsdata_27.csv', 'newsdata_28.csv', 'newsdata_29.csv', 'newsdata_30.csv', 'newsdata_31.csv', 'newsdata_32.csv', 'newsdata_33.csv', 'newsdata_34.csv', 'newsdata_35.csv', 'newsdata_36.csv', 'newsdata_37.csv', 'newsdata_38.csv', 'newsdata_39.csv', 'newsdata_40.csv', 'newsdata_41.csv', 'newsdata_42.csv', 'newsdata_43.csv', 'newsdata_44.csv', 'newsdata_45.csv', 'newsdata_46.csv', 'newsdata_47.csv', 'newsdata_48.csv', 'newsdata_49.csv', 'newsdata_50.csv', 'newsdata_51.csv', 'newsdata_52.csv', 'newsdata_53.csv', 'newsdata_54.csv', 'newsdata_55.csv', 'newsdata_56.csv', 'newsdata_57.csv', 'newsdata_58.csv', 'newsdata_59.csv', 'newsdata_60.csv', 'newsdata_61.csv', 'newsdata_62.csv', 'newsdata_63.csv', 'newsdata_64.csv', 'newsdata_65.csv', 'newsdata_66.csv', 'newsdata_67.csv', 'newsdata_68.csv', 'newsdata_69.csv', 'newsdata_70.csv', 'newsdata_71.csv',\n",
    "'newsdata_72.csv', 'newsdata_73.csv', 'newsdata_74.csv', 'newsdata_75.csv', 'newsdata_76.csv', 'newsdata_77.csv', 'newsdata_78.csv', 'newsdata_79.csv', 'newsdata_80.csv', 'newsdata_81.csv', 'newsdata_82.csv', 'newsdata_83.csv', 'newsdata_84.csv', 'newsdata_85.csv', 'newsdata_86.csv', 'newsdata_87.csv', 'newsdata_88.csv', 'newsdata_89.csv', 'newsdata_90.csv', 'newsdata_91.csv', 'newsdata_92.csv', 'newsdata_93.csv', 'newsdata_94.csv', 'newsdata_95.csv', 'newsdata_96.csv', 'newsdata_97.csv', 'newsdata_98.csv', 'newsdata_99.csv', 'newsdata_100.csv', 'newsdata_101.csv', 'newsdata_102.csv', 'newsdata_103.csv', 'newsdata_104.csv', 'newsdata_105.csv', 'newsdata_106.csv', 'newsdata_107.csv', 'newsdata_108.csv', 'newsdata_109.csv', 'newsdata_110.csv', 'newsdata_111.csv', 'newsdata_112.csv', 'newsdata_113.csv', 'newsdata_114.csv', 'newsdata_115.csv', 'newsdata_116.csv', 'newsdata_117.csv', 'newsdata_118.csv', 'newsdata_119.csv', 'newsdata_120.csv', 'newsdata_121.csv', 'newsdata_122.csv', 'newsdata_123.csv', 'newsdata_124.csv', 'newsdata_125.csv', 'newsdata_126.csv', 'newsdata_127.csv', 'newsdata_128.csv', 'newsdata_129.csv', 'newsdata_130.csv', 'newsdata_131.csv', 'newsdata_132.csv', 'newsdata_133.csv', 'newsdata_134.csv', 'newsdata_135.csv', 'newsdata_136.csv', 'newsdata_137.csv', 'newsdata_138.csv', 'newsdata_139.csv', 'newsdata_140.csv', 'newsdata_141.csv', 'newsdata_142.csv',\n",
    "'newsdata_143.csv', 'newsdata_144.csv', 'newsdata_145.csv', 'newsdata_146.csv', 'newsdata_147.csv', 'newsdata_148.csv', 'newsdata_149.csv', 'newsdata_150.csv', 'newsdata_151.csv', 'newsdata_152.csv', 'newsdata_153.csv', 'newsdata_154.csv', 'newsdata_155.csv', 'newsdata_156.csv', 'newsdata_157.csv', 'newsdata_158.csv', 'newsdata_159.csv', 'newsdata_160.csv', 'newsdata_161.csv', 'newsdata_162.csv', 'newsdata_163.csv', 'newsdata_164.csv', 'newsdata_165.csv', 'newsdata_166.csv', 'newsdata_167.csv', 'newsdata_168.csv', 'newsdata_169.csv', 'newsdata_170.csv', 'newsdata_171.csv', 'newsdata_172.csv', 'newsdata_173.csv', 'newsdata_174.csv', 'newsdata_175.csv', 'newsdata_176.csv', 'newsdata_177.csv', 'newsdata_178.csv', 'newsdata_179.csv', 'newsdata_180.csv', 'newsdata_181.csv', 'newsdata_182.csv', 'newsdata_183.csv', 'newsdata_184.csv', 'newsdata_185.csv', 'newsdata_186.csv', 'newsdata_187.csv', 'newsdata_188.csv', 'newsdata_189.csv', 'newsdata_190.csv', 'newsdata_191.csv', 'newsdata_192.csv', 'newsdata_193.csv', 'newsdata_194.csv', 'newsdata_195.csv', 'newsdata_196.csv', 'newsdata_197.csv', 'newsdata_198.csv', 'newsdata_199.csv', 'newsdata_200.csv', 'newsdata_201.csv', 'newsdata_202.csv', 'newsdata_203.csv', 'newsdata_204.csv', 'newsdata_205.csv', 'newsdata_206.csv', 'newsdata_207.csv', 'newsdata_208.csv', 'newsdata_209.csv', 'newsdata_210.csv', 'newsdata_211.csv', 'newsdata_212.csv', 'newsdata_213.csv',\n",
    "'newsdata_214.csv', 'newsdata_215.csv', 'newsdata_216.csv', 'newsdata_217.csv', 'newsdata_218.csv', 'newsdata_219.csv', 'newsdata_220.csv', 'newsdata_221.csv', 'newsdata_222.csv', 'newsdata_223.csv', 'newsdata_224.csv', 'newsdata_225.csv', 'newsdata_226.csv', 'newsdata_227.csv', 'newsdata_228.csv', 'newsdata_229.csv', 'newsdata_230.csv', 'newsdata_231.csv', 'newsdata_232.csv', 'newsdata_233.csv', 'newsdata_234.csv', 'newsdata_235.csv', 'newsdata_236.csv', 'newsdata_237.csv', 'newsdata_238.csv', 'newsdata_239.csv','newsdata_241.csv', 'newsdata_242.csv', 'newsdata_243.csv', 'newsdata_244.csv', 'newsdata_245.csv', 'newsdata_246.csv', 'newsdata_247.csv', 'newsdata_248.csv', 'newsdata_249.csv', 'newsdata_251.csv', 'newsdata_252.csv', 'newsdata_253.csv', 'newsdata_254.csv', 'newsdata_255.csv', 'newsdata_256.csv', 'newsdata_257.csv', 'newsdata_258.csv', 'newsdata_259.csv', 'newsdata_260.csv', 'newsdata_261.csv', 'newsdata_262.csv', 'newsdata_263.csv', 'newsdata_264.csv', 'newsdata_265.csv', 'newsdata_266.csv', 'newsdata_267.csv', 'newsdata_268.csv', 'newsdata_269.csv', 'newsdata_270.csv', 'newsdata_271.csv', 'newsdata_272.csv', 'newsdata_273.csv', 'newsdata_274.csv', 'newsdata_275.csv', 'newsdata_276.csv', 'newsdata_277.csv', 'newsdata_278.csv', 'newsdata_279.csv', 'newsdata_280.csv', 'newsdata_281.csv', 'newsdata_282.csv', 'newsdata_283.csv', 'newsdata_284.csv',\n",
    "'newsdata_285.csv', 'newsdata_286.csv', 'newsdata_287.csv', 'newsdata_288.csv', 'newsdata_289.csv', 'newsdata_290.csv', 'newsdata_291.csv', 'newsdata_292.csv', 'newsdata_293.csv', 'newsdata_294.csv', 'newsdata_295.csv', 'newsdata_296.csv', 'newsdata_297.csv', 'newsdata_298.csv', 'newsdata_299.csv', 'newsdata_300.csv', 'newsdata_301.csv', 'newsdata_302.csv', 'newsdata_303.csv', 'newsdata_304.csv', 'newsdata_305.csv', 'newsdata_306.csv', 'newsdata_307.csv', 'newsdata_308.csv', 'newsdata_309.csv', 'newsdata_310.csv', 'newsdata_311.csv', 'newsdata_312.csv', 'newsdata_313.csv', 'newsdata_314.csv', 'newsdata_315.csv', 'newsdata_316.csv', 'newsdata_317.csv', 'newsdata_318.csv', 'newsdata_319.csv', 'newsdata_320.csv', 'newsdata_321.csv', 'newsdata_322.csv', 'newsdata_323.csv', 'newsdata_324.csv', 'newsdata_325.csv', 'newsdata_326.csv', 'newsdata_327.csv', 'newsdata_328.csv', 'newsdata_329.csv', 'newsdata_329.csv', 'newsdata_330.csv', 'newsdata_331.csv', 'newsdata_332.csv', 'newsdata_333.csv', 'newsdata_334.csv', 'newsdata_335.csv', 'newsdata_336.csv', 'newsdata_337.csv', 'newsdata_338.csv', 'newsdata_339.csv', 'newsdata_340.csv', 'newsdata_341.csv', 'newsdata_342.csv', 'newsdata_343.csv', 'newsdata_344.csv', 'newsdata_345.csv', 'newsdata_346.csv', 'newsdata_347.csv', 'newsdata_348.csv', 'newsdata_349.csv', 'newsdata_350.csv', 'newsdata_351.csv', 'newsdata_352.csv', 'newsdata_353.csv', 'newsdata_354.csv',\n",
    "'newsdata_355.csv', 'newsdata_356.csv', 'newsdata_357.csv', 'newsdata_358.csv', 'newsdata_359.csv', 'newsdata_360.csv', 'newsdata_361.csv', 'newsdata_362.csv', 'newsdata_363.csv', 'newsdata_364.csv', 'newsdata_365.csv', 'newsdata_366.csv', 'newsdata_367.csv', 'newsdata_368.csv', 'newsdata_369.csv', 'newsdata_370.csv', 'newsdata_371.csv', 'newsdata_372.csv', 'newsdata_373.csv', 'newsdata_374.csv', 'newsdata_375.csv', 'newsdata_376.csv', 'newsdata_377.csv', 'newsdata_378.csv', 'newsdata_379.csv', 'newsdata_380.csv', 'newsdata_381.csv', 'newsdata_383.csv', 'newsdata_384.csv', 'newsdata_385.csv', 'newsdata_386.csv', 'newsdata_387.csv', 'newsdata_388.csv']"
   ]
  },
  {
   "cell_type": "code",
   "execution_count": 3,
   "metadata": {
    "execution": {
     "iopub.execute_input": "2023-05-23T14:22:32.218459Z",
     "iopub.status.busy": "2023-05-23T14:22:32.217549Z",
     "iopub.status.idle": "2023-05-23T14:23:24.331987Z",
     "shell.execute_reply": "2023-05-23T14:23:24.328935Z",
     "shell.execute_reply.started": "2023-05-23T14:22:32.218400Z"
    },
    "tags": []
   },
   "outputs": [
    {
     "name": "stdout",
     "output_type": "stream",
     "text": [
      "         year                                              title   \n",
      "0        2016  Colts GM Ryan Grigson says Andrew Luck's contr...  \\\n",
      "1        2018       Trump denies report he ordered Mueller fired   \n",
      "2        2019  France's Sarkozy reveals his 'Passions' but in...   \n",
      "3        2016  Paris Hilton: Woman In Black For Uncle Monty's...   \n",
      "4        2019  ECB's Coeure: If we decide to cut rates, we'd ...   \n",
      "...       ...                                                ...   \n",
      "1597455  2019  Merkel ally under police protection after 'Hei...   \n",
      "1597456  2019  Ugandan shilling weakens on uptick in dollar a...   \n",
      "1597457  2019  China's factory prices post steepest fall in t...   \n",
      "1597458  2019  ECB's Draghi warns of bubble risk in the euro ...   \n",
      "1597459  2019  Russia's Yandex releases rival to China's TikT...   \n",
      "\n",
      "                                                   article       publication  \n",
      "0         The Indianapolis Colts made Andrew Luck the h...  Business Insider  \n",
      "1        DAVOS, Switzerland (Reuters) - U.S. President ...           Reuters  \n",
      "2        PARIS (Reuters) - Former French president Nico...           Reuters  \n",
      "3        Paris Hilton arrived at LAX Wednesday dressed ...               TMZ  \n",
      "4        BERLIN, June 17 (Reuters) - ECB board member B...           Reuters  \n",
      "...                                                    ...               ...  \n",
      "1597455  BERLIN (Reuters) - German police said on Monda...           Reuters  \n",
      "1597456  KAMPALA, Oct 14 (Reuters) - The Ugandan shilli...           Reuters  \n",
      "1597457  BEIJING (Reuters) - China’s factory gate price...           Reuters  \n",
      "1597458  WASHINGTON (Reuters) - There are “mild signs” ...           Reuters  \n",
      "1597459  MOSCOW (Reuters) - Russian internet firm Yande...           Reuters  \n",
      "\n",
      "[1597460 rows x 4 columns]\n"
     ]
    }
   ],
   "source": [
    "folder_path = \"files\"\n",
    "\n",
    "#empty list to store individual dataframes\n",
    "dfs = []\n",
    "\n",
    "\n",
    "for file_name in file_names:\n",
    "    file_path = os.path.join(folder_path, file_name)\n",
    "    \n",
    "    # Read each file as a dataframe\n",
    "    df = pd.read_csv(file_path)  \n",
    "    \n",
    "    dfs.append(df)\n",
    "\n",
    "\n",
    "newsdata_df = pd.concat(dfs, ignore_index=True)\n",
    "\n",
    "print(newsdata_df)"
   ]
  },
  {
   "cell_type": "code",
   "execution_count": 4,
   "metadata": {
    "execution": {
     "iopub.execute_input": "2023-05-23T14:23:28.657617Z",
     "iopub.status.busy": "2023-05-23T14:23:28.656712Z",
     "iopub.status.idle": "2023-05-23T14:23:28.667496Z",
     "shell.execute_reply": "2023-05-23T14:23:28.666194Z",
     "shell.execute_reply.started": "2023-05-23T14:23:28.657556Z"
    },
    "tags": []
   },
   "outputs": [
    {
     "data": {
      "text/plain": [
       "(1597460, 4)"
      ]
     },
     "execution_count": 4,
     "metadata": {},
     "output_type": "execute_result"
    }
   ],
   "source": [
    "newsdata_df.shape"
   ]
  },
  {
   "cell_type": "code",
   "execution_count": 5,
   "metadata": {
    "execution": {
     "iopub.execute_input": "2023-05-23T14:23:30.941595Z",
     "iopub.status.busy": "2023-05-23T14:23:30.940718Z",
     "iopub.status.idle": "2023-05-23T14:23:31.528627Z",
     "shell.execute_reply": "2023-05-23T14:23:31.527129Z",
     "shell.execute_reply.started": "2023-05-23T14:23:30.941537Z"
    },
    "tags": []
   },
   "outputs": [
    {
     "name": "stdout",
     "output_type": "stream",
     "text": [
      "<class 'pandas.core.frame.DataFrame'>\n",
      "RangeIndex: 1597460 entries, 0 to 1597459\n",
      "Data columns (total 4 columns):\n",
      " #   Column       Non-Null Count    Dtype \n",
      "---  ------       --------------    ----- \n",
      " 0   year         1597460 non-null  int64 \n",
      " 1   title        1597460 non-null  object\n",
      " 2   article      1597460 non-null  object\n",
      " 3   publication  1597460 non-null  object\n",
      "dtypes: int64(1), object(3)\n",
      "memory usage: 48.8+ MB\n"
     ]
    }
   ],
   "source": [
    "newsdata_df.info()"
   ]
  },
  {
   "cell_type": "code",
   "execution_count": 6,
   "metadata": {
    "execution": {
     "iopub.execute_input": "2023-05-23T14:23:31.532508Z",
     "iopub.status.busy": "2023-05-23T14:23:31.531305Z",
     "iopub.status.idle": "2023-05-23T14:23:31.585366Z",
     "shell.execute_reply": "2023-05-23T14:23:31.584302Z",
     "shell.execute_reply.started": "2023-05-23T14:23:31.532446Z"
    },
    "tags": []
   },
   "outputs": [
    {
     "data": {
      "text/html": [
       "<div>\n",
       "<style scoped>\n",
       "    .dataframe tbody tr th:only-of-type {\n",
       "        vertical-align: middle;\n",
       "    }\n",
       "\n",
       "    .dataframe tbody tr th {\n",
       "        vertical-align: top;\n",
       "    }\n",
       "\n",
       "    .dataframe thead th {\n",
       "        text-align: right;\n",
       "    }\n",
       "</style>\n",
       "<table border=\"1\" class=\"dataframe\">\n",
       "  <thead>\n",
       "    <tr style=\"text-align: right;\">\n",
       "      <th></th>\n",
       "      <th>year</th>\n",
       "      <th>title</th>\n",
       "      <th>article</th>\n",
       "      <th>publication</th>\n",
       "    </tr>\n",
       "  </thead>\n",
       "  <tbody>\n",
       "    <tr>\n",
       "      <th>0</th>\n",
       "      <td>2016</td>\n",
       "      <td>Colts GM Ryan Grigson says Andrew Luck's contr...</td>\n",
       "      <td>The Indianapolis Colts made Andrew Luck the h...</td>\n",
       "      <td>Business Insider</td>\n",
       "    </tr>\n",
       "    <tr>\n",
       "      <th>1</th>\n",
       "      <td>2018</td>\n",
       "      <td>Trump denies report he ordered Mueller fired</td>\n",
       "      <td>DAVOS, Switzerland (Reuters) - U.S. President ...</td>\n",
       "      <td>Reuters</td>\n",
       "    </tr>\n",
       "    <tr>\n",
       "      <th>2</th>\n",
       "      <td>2019</td>\n",
       "      <td>France's Sarkozy reveals his 'Passions' but in...</td>\n",
       "      <td>PARIS (Reuters) - Former French president Nico...</td>\n",
       "      <td>Reuters</td>\n",
       "    </tr>\n",
       "    <tr>\n",
       "      <th>3</th>\n",
       "      <td>2016</td>\n",
       "      <td>Paris Hilton: Woman In Black For Uncle Monty's...</td>\n",
       "      <td>Paris Hilton arrived at LAX Wednesday dressed ...</td>\n",
       "      <td>TMZ</td>\n",
       "    </tr>\n",
       "    <tr>\n",
       "      <th>4</th>\n",
       "      <td>2019</td>\n",
       "      <td>ECB's Coeure: If we decide to cut rates, we'd ...</td>\n",
       "      <td>BERLIN, June 17 (Reuters) - ECB board member B...</td>\n",
       "      <td>Reuters</td>\n",
       "    </tr>\n",
       "  </tbody>\n",
       "</table>\n",
       "</div>"
      ],
      "text/plain": [
       "   year                                              title   \n",
       "0  2016  Colts GM Ryan Grigson says Andrew Luck's contr...  \\\n",
       "1  2018       Trump denies report he ordered Mueller fired   \n",
       "2  2019  France's Sarkozy reveals his 'Passions' but in...   \n",
       "3  2016  Paris Hilton: Woman In Black For Uncle Monty's...   \n",
       "4  2019  ECB's Coeure: If we decide to cut rates, we'd ...   \n",
       "\n",
       "                                             article       publication  \n",
       "0   The Indianapolis Colts made Andrew Luck the h...  Business Insider  \n",
       "1  DAVOS, Switzerland (Reuters) - U.S. President ...           Reuters  \n",
       "2  PARIS (Reuters) - Former French president Nico...           Reuters  \n",
       "3  Paris Hilton arrived at LAX Wednesday dressed ...               TMZ  \n",
       "4  BERLIN, June 17 (Reuters) - ECB board member B...           Reuters  "
      ]
     },
     "execution_count": 6,
     "metadata": {},
     "output_type": "execute_result"
    }
   ],
   "source": [
    "newsdata_df.head()"
   ]
  },
  {
   "cell_type": "code",
   "execution_count": 7,
   "metadata": {
    "execution": {
     "iopub.execute_input": "2023-05-23T14:23:35.620289Z",
     "iopub.status.busy": "2023-05-23T14:23:35.619615Z",
     "iopub.status.idle": "2023-05-23T14:23:35.631269Z",
     "shell.execute_reply": "2023-05-23T14:23:35.630075Z",
     "shell.execute_reply.started": "2023-05-23T14:23:35.620248Z"
    },
    "tags": []
   },
   "outputs": [
    {
     "name": "stdout",
     "output_type": "stream",
     "text": [
      "publication\n",
      "Reuters               410\n",
      "The New York Times    178\n",
      "Name: count, dtype: int64\n",
      "588\n"
     ]
    }
   ],
   "source": [
    "print(df['publication'].value_counts())\n",
    "print(df['publication'].value_counts().sum())"
   ]
  },
  {
   "cell_type": "code",
   "execution_count": 8,
   "metadata": {
    "execution": {
     "iopub.execute_input": "2023-05-23T14:23:35.632353Z",
     "iopub.status.busy": "2023-05-23T14:23:35.632171Z",
     "iopub.status.idle": "2023-05-23T14:23:36.595882Z",
     "shell.execute_reply": "2023-05-23T14:23:36.594283Z",
     "shell.execute_reply.started": "2023-05-23T14:23:35.632336Z"
    },
    "tags": []
   },
   "outputs": [],
   "source": [
    "#renew the index\n",
    "newsdata_df = newsdata_df.reset_index(drop=True)"
   ]
  },
  {
   "cell_type": "code",
   "execution_count": 9,
   "metadata": {
    "execution": {
     "iopub.execute_input": "2023-05-23T14:23:36.597439Z",
     "iopub.status.busy": "2023-05-23T14:23:36.597161Z",
     "iopub.status.idle": "2023-05-23T14:23:36.609546Z",
     "shell.execute_reply": "2023-05-23T14:23:36.607846Z",
     "shell.execute_reply.started": "2023-05-23T14:23:36.597415Z"
    },
    "tags": []
   },
   "outputs": [
    {
     "data": {
      "text/html": [
       "<div>\n",
       "<style scoped>\n",
       "    .dataframe tbody tr th:only-of-type {\n",
       "        vertical-align: middle;\n",
       "    }\n",
       "\n",
       "    .dataframe tbody tr th {\n",
       "        vertical-align: top;\n",
       "    }\n",
       "\n",
       "    .dataframe thead th {\n",
       "        text-align: right;\n",
       "    }\n",
       "</style>\n",
       "<table border=\"1\" class=\"dataframe\">\n",
       "  <thead>\n",
       "    <tr style=\"text-align: right;\">\n",
       "      <th></th>\n",
       "      <th>year</th>\n",
       "      <th>title</th>\n",
       "      <th>article</th>\n",
       "      <th>publication</th>\n",
       "    </tr>\n",
       "  </thead>\n",
       "  <tbody>\n",
       "    <tr>\n",
       "      <th>1597455</th>\n",
       "      <td>2019</td>\n",
       "      <td>Merkel ally under police protection after 'Hei...</td>\n",
       "      <td>BERLIN (Reuters) - German police said on Monda...</td>\n",
       "      <td>Reuters</td>\n",
       "    </tr>\n",
       "    <tr>\n",
       "      <th>1597456</th>\n",
       "      <td>2019</td>\n",
       "      <td>Ugandan shilling weakens on uptick in dollar a...</td>\n",
       "      <td>KAMPALA, Oct 14 (Reuters) - The Ugandan shilli...</td>\n",
       "      <td>Reuters</td>\n",
       "    </tr>\n",
       "    <tr>\n",
       "      <th>1597457</th>\n",
       "      <td>2019</td>\n",
       "      <td>China's factory prices post steepest fall in t...</td>\n",
       "      <td>BEIJING (Reuters) - China’s factory gate price...</td>\n",
       "      <td>Reuters</td>\n",
       "    </tr>\n",
       "    <tr>\n",
       "      <th>1597458</th>\n",
       "      <td>2019</td>\n",
       "      <td>ECB's Draghi warns of bubble risk in the euro ...</td>\n",
       "      <td>WASHINGTON (Reuters) - There are “mild signs” ...</td>\n",
       "      <td>Reuters</td>\n",
       "    </tr>\n",
       "    <tr>\n",
       "      <th>1597459</th>\n",
       "      <td>2019</td>\n",
       "      <td>Russia's Yandex releases rival to China's TikT...</td>\n",
       "      <td>MOSCOW (Reuters) - Russian internet firm Yande...</td>\n",
       "      <td>Reuters</td>\n",
       "    </tr>\n",
       "  </tbody>\n",
       "</table>\n",
       "</div>"
      ],
      "text/plain": [
       "         year                                              title   \n",
       "1597455  2019  Merkel ally under police protection after 'Hei...  \\\n",
       "1597456  2019  Ugandan shilling weakens on uptick in dollar a...   \n",
       "1597457  2019  China's factory prices post steepest fall in t...   \n",
       "1597458  2019  ECB's Draghi warns of bubble risk in the euro ...   \n",
       "1597459  2019  Russia's Yandex releases rival to China's TikT...   \n",
       "\n",
       "                                                   article publication  \n",
       "1597455  BERLIN (Reuters) - German police said on Monda...     Reuters  \n",
       "1597456  KAMPALA, Oct 14 (Reuters) - The Ugandan shilli...     Reuters  \n",
       "1597457  BEIJING (Reuters) - China’s factory gate price...     Reuters  \n",
       "1597458  WASHINGTON (Reuters) - There are “mild signs” ...     Reuters  \n",
       "1597459  MOSCOW (Reuters) - Russian internet firm Yande...     Reuters  "
      ]
     },
     "execution_count": 9,
     "metadata": {},
     "output_type": "execute_result"
    }
   ],
   "source": [
    "newsdata_df.tail()"
   ]
  },
  {
   "attachments": {},
   "cell_type": "markdown",
   "metadata": {
    "jp-MarkdownHeadingCollapsed": true,
    "tags": []
   },
   "source": [
    "## 3.1.b - for working on local machine"
   ]
  },
  {
   "cell_type": "code",
   "execution_count": 225,
   "metadata": {},
   "outputs": [
    {
     "name": "stdout",
     "output_type": "stream",
     "text": [
      "(1000, 4)\n"
     ]
    }
   ],
   "source": [
    "#create a file that includes only 1000 random from the newsdata_df\n",
    "newslimited = newsdata_df.sample(n=1000, random_state=100)\n",
    "print(newslimited.shape)"
   ]
  },
  {
   "cell_type": "code",
   "execution_count": 226,
   "metadata": {},
   "outputs": [
    {
     "data": {
      "text/html": [
       "<div>\n",
       "<style scoped>\n",
       "    .dataframe tbody tr th:only-of-type {\n",
       "        vertical-align: middle;\n",
       "    }\n",
       "\n",
       "    .dataframe tbody tr th {\n",
       "        vertical-align: top;\n",
       "    }\n",
       "\n",
       "    .dataframe thead th {\n",
       "        text-align: right;\n",
       "    }\n",
       "</style>\n",
       "<table border=\"1\" class=\"dataframe\">\n",
       "  <thead>\n",
       "    <tr style=\"text-align: right;\">\n",
       "      <th></th>\n",
       "      <th>year</th>\n",
       "      <th>title</th>\n",
       "      <th>article</th>\n",
       "      <th>publication</th>\n",
       "    </tr>\n",
       "  </thead>\n",
       "  <tbody>\n",
       "    <tr>\n",
       "      <th>1462774</th>\n",
       "      <td>2020</td>\n",
       "      <td>8 DIY salon treatments that cost a lot less th...</td>\n",
       "      <td>When you buy through our links, we may earn mo...</td>\n",
       "      <td>Business Insider</td>\n",
       "    </tr>\n",
       "    <tr>\n",
       "      <th>73651</th>\n",
       "      <td>2019</td>\n",
       "      <td>Judge to bat leadoff in his return to Yankees</td>\n",
       "      <td>The New York Yankees will waste little time in...</td>\n",
       "      <td>Reuters</td>\n",
       "    </tr>\n",
       "    <tr>\n",
       "      <th>843909</th>\n",
       "      <td>2018</td>\n",
       "      <td>Insurers' new business: 'active shooter' polic...</td>\n",
       "      <td>(Reuters) - Insurance broker Paul Marshall can...</td>\n",
       "      <td>Reuters</td>\n",
       "    </tr>\n",
       "    <tr>\n",
       "      <th>707086</th>\n",
       "      <td>2018</td>\n",
       "      <td>In China, industry push-back stubs out anti-sm...</td>\n",
       "      <td>BEIJING (Reuters) - Earlier this year, the cit...</td>\n",
       "      <td>Reuters</td>\n",
       "    </tr>\n",
       "    <tr>\n",
       "      <th>651829</th>\n",
       "      <td>2019</td>\n",
       "      <td>FOREX-Dollar on back foot as focus shifts to F...</td>\n",
       "      <td>* Graphic: World FX rates in 2019 tmsnrt.rs/2e...</td>\n",
       "      <td>Reuters</td>\n",
       "    </tr>\n",
       "  </tbody>\n",
       "</table>\n",
       "</div>"
      ],
      "text/plain": [
       "         year                                              title   \n",
       "1462774  2020  8 DIY salon treatments that cost a lot less th...  \\\n",
       "73651    2019      Judge to bat leadoff in his return to Yankees   \n",
       "843909   2018  Insurers' new business: 'active shooter' polic...   \n",
       "707086   2018  In China, industry push-back stubs out anti-sm...   \n",
       "651829   2019  FOREX-Dollar on back foot as focus shifts to F...   \n",
       "\n",
       "                                                   article       publication  \n",
       "1462774  When you buy through our links, we may earn mo...  Business Insider  \n",
       "73651    The New York Yankees will waste little time in...           Reuters  \n",
       "843909   (Reuters) - Insurance broker Paul Marshall can...           Reuters  \n",
       "707086   BEIJING (Reuters) - Earlier this year, the cit...           Reuters  \n",
       "651829   * Graphic: World FX rates in 2019 tmsnrt.rs/2e...           Reuters  "
      ]
     },
     "execution_count": 226,
     "metadata": {},
     "output_type": "execute_result"
    }
   ],
   "source": [
    "newslimited.head()"
   ]
  },
  {
   "cell_type": "code",
   "execution_count": 227,
   "metadata": {},
   "outputs": [
    {
     "name": "stdout",
     "output_type": "stream",
     "text": [
      "publication\n",
      "Reuters               519\n",
      "The New York Times    169\n",
      "CNBC                  158\n",
      "CNN                    75\n",
      "Business Insider       30\n",
      "TMZ                    25\n",
      "Fox News               16\n",
      "Economist               8\n",
      "Name: count, dtype: int64\n"
     ]
    }
   ],
   "source": [
    "print(newslimited['publication'].value_counts())"
   ]
  },
  {
   "cell_type": "code",
   "execution_count": 265,
   "metadata": {},
   "outputs": [],
   "source": [
    "newslimited_cleaned = newslimited.copy()"
   ]
  },
  {
   "attachments": {},
   "cell_type": "markdown",
   "metadata": {
    "jp-MarkdownHeadingCollapsed": true,
    "tags": []
   },
   "source": [
    "## 3.2 Cleaning"
   ]
  },
  {
   "cell_type": "code",
   "execution_count": 10,
   "metadata": {
    "execution": {
     "iopub.execute_input": "2023-05-23T14:23:53.753109Z",
     "iopub.status.busy": "2023-05-23T14:23:53.752247Z",
     "iopub.status.idle": "2023-05-23T14:23:53.769502Z",
     "shell.execute_reply": "2023-05-23T14:23:53.768382Z",
     "shell.execute_reply.started": "2023-05-23T14:23:53.753052Z"
    },
    "tags": []
   },
   "outputs": [],
   "source": [
    "# Function for Cleaning text\n",
    "stop_words = set(stopwords.words('english'))\n",
    "lemmatizer = WordNetLemmatizer()\n",
    "\n",
    "#all possible pulishers in list\n",
    "publishers = ['Atlantic', 'Breitbart', 'Business Insider', 'Buzzfeed News', 'CNN', 'Fox News', 'Guardian', 'NPR', 'National Review', 'New York Post', 'New York Times', 'Reuters', 'Talking Points Memo', 'Vox', 'Washington Post']\n",
    "\n",
    "import string\n",
    "\n",
    "\n",
    "def clean(text):\n",
    "    # Remove words in the publishers list\n",
    "    for publisher in publishers:\n",
    "        text = text.replace(publisher, '')\n",
    "\n",
    "    # Convert to lowercase\n",
    "    text = text.lower()\n",
    "\n",
    "    # Remove mentions\n",
    "    text = re.sub(r'@[^\\s]+', '', text)\n",
    "\n",
    "    # Remove numbers in the format 1,2,3 (not written in letters)\n",
    "    text = re.sub(r'\\b\\d+\\b', '', text)\n",
    "\n",
    "    # Remove hashtags\n",
    "    text = re.sub(r'#\\w+', '', text)\n",
    "\n",
    "    # Remove non-alphanumeric characters and extra whitespace\n",
    "    text = re.sub(r'http\\S+|www\\S+|email\\S+', '', text)\n",
    "    text = re.sub(r'[^a-zA-Z0-9\\s.]', '', text)\n",
    "    text = re.sub(r'\\s+', ' ', text)\n",
    "    text = re.sub(r'\\.(?!\\w)', '', text)\n",
    "\n",
    "    # Replace \"?\" and \"!\" with \".\"\n",
    "    #text = text.replace('?', '.').replace('!', '.')\n",
    "\n",
    "    # Tokenize the article into words\n",
    "    tokens = word_tokenize(text)\n",
    "\n",
    "    # Remove stopwords\n",
    "    stopwords = set(stop_words)\n",
    "    tokens = [word for word in tokens if word not in stopwords]\n",
    "\n",
    "    # Lemmatize tokens\n",
    "    tokens = [lemmatizer.lemmatize(token) for token in tokens]\n",
    "\n",
    "    # Join the tokens back into a cleaned article\n",
    "    cleaned_text = ' '.join(tokens)\n",
    "\n",
    "    return cleaned_text\n",
    "\n",
    "\n"
   ]
  },
  {
   "cell_type": "code",
   "execution_count": 11,
   "metadata": {
    "execution": {
     "iopub.execute_input": "2023-05-23T14:23:55.899633Z",
     "iopub.status.busy": "2023-05-23T14:23:55.899384Z",
     "iopub.status.idle": "2023-05-23T14:23:57.095784Z",
     "shell.execute_reply": "2023-05-23T14:23:57.094719Z",
     "shell.execute_reply.started": "2023-05-23T14:23:55.899611Z"
    },
    "tags": []
   },
   "outputs": [],
   "source": [
    "newslimited_cleaned = newsdata_df.copy()"
   ]
  },
  {
   "cell_type": "code",
   "execution_count": 12,
   "metadata": {
    "execution": {
     "iopub.execute_input": "2023-05-23T14:24:25.408969Z",
     "iopub.status.busy": "2023-05-23T14:24:25.408095Z",
     "iopub.status.idle": "2023-05-23T15:22:37.455526Z",
     "shell.execute_reply": "2023-05-23T15:22:37.454328Z",
     "shell.execute_reply.started": "2023-05-23T14:24:25.408908Z"
    },
    "tags": []
   },
   "outputs": [],
   "source": [
    "# Cleaning the text\n",
    "newslimited_cleaned['article'] = newslimited_cleaned['article'].apply(clean)"
   ]
  },
  {
   "cell_type": "code",
   "execution_count": 13,
   "metadata": {
    "execution": {
     "iopub.execute_input": "2023-05-23T15:23:14.949150Z",
     "iopub.status.busy": "2023-05-23T15:23:14.948472Z",
     "iopub.status.idle": "2023-05-23T15:23:14.963507Z",
     "shell.execute_reply": "2023-05-23T15:23:14.962630Z",
     "shell.execute_reply.started": "2023-05-23T15:23:14.949092Z"
    },
    "tags": []
   },
   "outputs": [
    {
     "data": {
      "text/html": [
       "<div>\n",
       "<style scoped>\n",
       "    .dataframe tbody tr th:only-of-type {\n",
       "        vertical-align: middle;\n",
       "    }\n",
       "\n",
       "    .dataframe tbody tr th {\n",
       "        vertical-align: top;\n",
       "    }\n",
       "\n",
       "    .dataframe thead th {\n",
       "        text-align: right;\n",
       "    }\n",
       "</style>\n",
       "<table border=\"1\" class=\"dataframe\">\n",
       "  <thead>\n",
       "    <tr style=\"text-align: right;\">\n",
       "      <th></th>\n",
       "      <th>year</th>\n",
       "      <th>title</th>\n",
       "      <th>article</th>\n",
       "      <th>publication</th>\n",
       "    </tr>\n",
       "  </thead>\n",
       "  <tbody>\n",
       "    <tr>\n",
       "      <th>0</th>\n",
       "      <td>2016</td>\n",
       "      <td>Colts GM Ryan Grigson says Andrew Luck's contr...</td>\n",
       "      <td>indianapolis colt made andrew luck highestpaid...</td>\n",
       "      <td>Business Insider</td>\n",
       "    </tr>\n",
       "    <tr>\n",
       "      <th>1</th>\n",
       "      <td>2018</td>\n",
       "      <td>Trump denies report he ordered Mueller fired</td>\n",
       "      <td>davos switzerland u.s president donald trump d...</td>\n",
       "      <td>Reuters</td>\n",
       "    </tr>\n",
       "    <tr>\n",
       "      <th>2</th>\n",
       "      <td>2019</td>\n",
       "      <td>France's Sarkozy reveals his 'Passions' but in...</td>\n",
       "      <td>paris former french president nicolas sarkozy ...</td>\n",
       "      <td>Reuters</td>\n",
       "    </tr>\n",
       "    <tr>\n",
       "      <th>3</th>\n",
       "      <td>2016</td>\n",
       "      <td>Paris Hilton: Woman In Black For Uncle Monty's...</td>\n",
       "      <td>paris hilton arrived lax wednesday dressed pay...</td>\n",
       "      <td>TMZ</td>\n",
       "    </tr>\n",
       "    <tr>\n",
       "      <th>4</th>\n",
       "      <td>2019</td>\n",
       "      <td>ECB's Coeure: If we decide to cut rates, we'd ...</td>\n",
       "      <td>berlin june ecb board member benoit coeure sai...</td>\n",
       "      <td>Reuters</td>\n",
       "    </tr>\n",
       "  </tbody>\n",
       "</table>\n",
       "</div>"
      ],
      "text/plain": [
       "   year                                              title   \n",
       "0  2016  Colts GM Ryan Grigson says Andrew Luck's contr...  \\\n",
       "1  2018       Trump denies report he ordered Mueller fired   \n",
       "2  2019  France's Sarkozy reveals his 'Passions' but in...   \n",
       "3  2016  Paris Hilton: Woman In Black For Uncle Monty's...   \n",
       "4  2019  ECB's Coeure: If we decide to cut rates, we'd ...   \n",
       "\n",
       "                                             article       publication  \n",
       "0  indianapolis colt made andrew luck highestpaid...  Business Insider  \n",
       "1  davos switzerland u.s president donald trump d...           Reuters  \n",
       "2  paris former french president nicolas sarkozy ...           Reuters  \n",
       "3  paris hilton arrived lax wednesday dressed pay...               TMZ  \n",
       "4  berlin june ecb board member benoit coeure sai...           Reuters  "
      ]
     },
     "execution_count": 13,
     "metadata": {},
     "output_type": "execute_result"
    }
   ],
   "source": [
    "newslimited_cleaned.head()"
   ]
  },
  {
   "cell_type": "code",
   "execution_count": 14,
   "metadata": {
    "execution": {
     "iopub.execute_input": "2023-05-23T15:23:21.908459Z",
     "iopub.status.busy": "2023-05-23T15:23:21.907765Z",
     "iopub.status.idle": "2023-05-23T15:23:21.918522Z",
     "shell.execute_reply": "2023-05-23T15:23:21.917264Z",
     "shell.execute_reply.started": "2023-05-23T15:23:21.908403Z"
    },
    "tags": []
   },
   "outputs": [
    {
     "data": {
      "text/plain": [
       "'indianapolis colt made andrew luck highestpaid player nfl history offseason fiveyear million contract million guaranteed however theyre already finding luck contract inhibiting ability address weakness part roster particularly defense friday colt gm ryan grigson fire colt start said difficult build team defense luck making much money according keefer grigson point colt still young talent theyre hoping develop defense however blaming luck contract colt gave weak defense 30th defensive dvoa accurate others pointed last year denver bronco paid peyton manning million base salary also boasting elite defense luck also take million salary cap year le million manning year ago million much come drafting successfully colt done well elite team like bronco patriot instance colt handcuffed luck contract drafting going become especially important use whatever money free agency certainly possible build good defense highpaid quarterback colt felt paying luck high sum money would difficult perhaps reconsidered final number highestpaid player nfl team'"
      ]
     },
     "execution_count": 14,
     "metadata": {},
     "output_type": "execute_result"
    }
   ],
   "source": [
    "newslimited_cleaned.iloc[0]['article']"
   ]
  },
  {
   "cell_type": "code",
   "execution_count": 15,
   "metadata": {
    "execution": {
     "iopub.execute_input": "2023-05-23T15:23:41.509756Z",
     "iopub.status.busy": "2023-05-23T15:23:41.508927Z",
     "iopub.status.idle": "2023-05-23T15:23:41.517801Z",
     "shell.execute_reply": "2023-05-23T15:23:41.516601Z",
     "shell.execute_reply.started": "2023-05-23T15:23:41.509700Z"
    },
    "tags": []
   },
   "outputs": [
    {
     "name": "stdout",
     "output_type": "stream",
     "text": [
      " The Indianapolis Colts made Andrew Luck the highest-paid player in NFL history this offseason with a five-year, $122-million contract with $89 million guaranteed. However, they're already finding that Luck's contract is inhibiting their ability to address weaknesses on other parts of the roster, particularly on defense. On Friday, Colts GM Ryan Grigson, who is under fire for the Colts 1-3 start, said that it's difficult to build up the team's defense with Luck making so much money. According to Keefer, Grigson did point out that the Colts still have young talent they're hoping to develop on defense. However, blaming Luck's contract — which the Colts gave him — for having a weak defense (30th in defensive DVOA) is not accurate. As others have pointed out, last year's Denver Broncos paid Peyton Manning $15 million in base salary while also boasting an elite defense. Luck also takes up $18.4 million against the salary cap this year, less than $1 million more than Manning did a year ago ($17.5 million). Much of this comes from drafting successfully, which the Colts have not done as well as elite teams like the Broncos or the Patriots, for instance. Now, with the Colts handcuffed to Luck's contract, drafting is going to become especially important, as will the use of whatever money they have in free agency. It's certainly possible to build a good defense with a high-paid quarterback, but if the Colts felt that paying Luck such a high sum of money would be difficult, perhaps they should have reconsidered what the final numbers. \n",
      "\n",
      "\n",
      "\n",
      "\n",
      "\n",
      "\n",
      "\n",
      "\n",
      "\n",
      "The highest-paid player on all 32 NFL teams\n"
     ]
    }
   ],
   "source": [
    "print(newsdata_df.iloc[0]['article'])"
   ]
  },
  {
   "cell_type": "code",
   "execution_count": 16,
   "metadata": {
    "execution": {
     "iopub.execute_input": "2023-05-23T15:24:20.252351Z",
     "iopub.status.busy": "2023-05-23T15:24:20.251660Z",
     "iopub.status.idle": "2023-05-23T15:24:20.592328Z",
     "shell.execute_reply": "2023-05-23T15:24:20.591539Z",
     "shell.execute_reply.started": "2023-05-23T15:24:20.252295Z"
    },
    "tags": []
   },
   "outputs": [
    {
     "data": {
      "text/html": [
       "<div>\n",
       "<style scoped>\n",
       "    .dataframe tbody tr th:only-of-type {\n",
       "        vertical-align: middle;\n",
       "    }\n",
       "\n",
       "    .dataframe tbody tr th {\n",
       "        vertical-align: top;\n",
       "    }\n",
       "\n",
       "    .dataframe thead th {\n",
       "        text-align: right;\n",
       "    }\n",
       "</style>\n",
       "<table border=\"1\" class=\"dataframe\">\n",
       "  <thead>\n",
       "    <tr style=\"text-align: right;\">\n",
       "      <th></th>\n",
       "      <th>year</th>\n",
       "      <th>title</th>\n",
       "      <th>article</th>\n",
       "      <th>publication</th>\n",
       "    </tr>\n",
       "  </thead>\n",
       "  <tbody>\n",
       "    <tr>\n",
       "      <th>0</th>\n",
       "      <td>2016</td>\n",
       "      <td>Colts GM Ryan Grigson says Andrew Luck's contr...</td>\n",
       "      <td>indianapolis colt made andrew luck highestpaid...</td>\n",
       "      <td>Business Insider</td>\n",
       "    </tr>\n",
       "    <tr>\n",
       "      <th>1</th>\n",
       "      <td>2018</td>\n",
       "      <td>Trump denies report he ordered Mueller fired</td>\n",
       "      <td>davos switzerland u.s president donald trump d...</td>\n",
       "      <td>Reuters</td>\n",
       "    </tr>\n",
       "    <tr>\n",
       "      <th>2</th>\n",
       "      <td>2019</td>\n",
       "      <td>France's Sarkozy reveals his 'Passions' but in...</td>\n",
       "      <td>paris former french president nicolas sarkozy ...</td>\n",
       "      <td>Reuters</td>\n",
       "    </tr>\n",
       "    <tr>\n",
       "      <th>3</th>\n",
       "      <td>2016</td>\n",
       "      <td>Paris Hilton: Woman In Black For Uncle Monty's...</td>\n",
       "      <td>paris hilton arrived lax wednesday dressed pay...</td>\n",
       "      <td>TMZ</td>\n",
       "    </tr>\n",
       "    <tr>\n",
       "      <th>4</th>\n",
       "      <td>2019</td>\n",
       "      <td>ECB's Coeure: If we decide to cut rates, we'd ...</td>\n",
       "      <td>berlin june ecb board member benoit coeure sai...</td>\n",
       "      <td>Reuters</td>\n",
       "    </tr>\n",
       "  </tbody>\n",
       "</table>\n",
       "</div>"
      ],
      "text/plain": [
       "   year                                              title   \n",
       "0  2016  Colts GM Ryan Grigson says Andrew Luck's contr...  \\\n",
       "1  2018       Trump denies report he ordered Mueller fired   \n",
       "2  2019  France's Sarkozy reveals his 'Passions' but in...   \n",
       "3  2016  Paris Hilton: Woman In Black For Uncle Monty's...   \n",
       "4  2019  ECB's Coeure: If we decide to cut rates, we'd ...   \n",
       "\n",
       "                                             article       publication  \n",
       "0  indianapolis colt made andrew luck highestpaid...  Business Insider  \n",
       "1  davos switzerland u.s president donald trump d...           Reuters  \n",
       "2  paris former french president nicolas sarkozy ...           Reuters  \n",
       "3  paris hilton arrived lax wednesday dressed pay...               TMZ  \n",
       "4  berlin june ecb board member benoit coeure sai...           Reuters  "
      ]
     },
     "execution_count": 16,
     "metadata": {},
     "output_type": "execute_result"
    }
   ],
   "source": [
    "#reset index for newslimited_cleaned\n",
    "newslimited_cleaned = newslimited_cleaned.reset_index(drop=True)\n",
    "newslimited_cleaned.head()"
   ]
  },
  {
   "cell_type": "code",
   "execution_count": 17,
   "metadata": {
    "execution": {
     "iopub.execute_input": "2023-05-23T15:24:23.004468Z",
     "iopub.status.busy": "2023-05-23T15:24:23.003813Z",
     "iopub.status.idle": "2023-05-23T15:25:18.578083Z",
     "shell.execute_reply": "2023-05-23T15:25:18.576137Z",
     "shell.execute_reply.started": "2023-05-23T15:24:23.004412Z"
    },
    "tags": []
   },
   "outputs": [],
   "source": [
    "#safe newslimited_cleaned as csv\n",
    "newslimited_cleaned.to_csv('newslimited_cleaned.csv', index=False)"
   ]
  },
  {
   "attachments": {},
   "cell_type": "markdown",
   "metadata": {
    "tags": []
   },
   "source": [
    "# 4 Topic modelling"
   ]
  },
  {
   "attachments": {},
   "cell_type": "markdown",
   "metadata": {
    "jp-MarkdownHeadingCollapsed": true,
    "tags": []
   },
   "source": [
    "## 4.1 Copy articles"
   ]
  },
  {
   "cell_type": "code",
   "execution_count": 19,
   "metadata": {
    "execution": {
     "iopub.execute_input": "2023-05-23T15:26:21.214940Z",
     "iopub.status.busy": "2023-05-23T15:26:21.214259Z",
     "iopub.status.idle": "2023-05-23T15:26:21.227910Z",
     "shell.execute_reply": "2023-05-23T15:26:21.226708Z",
     "shell.execute_reply.started": "2023-05-23T15:26:21.214867Z"
    },
    "tags": []
   },
   "outputs": [
    {
     "data": {
      "text/plain": [
       "0    indianapolis colt made andrew luck highestpaid...\n",
       "1    davos switzerland u.s president donald trump d...\n",
       "2    paris former french president nicolas sarkozy ...\n",
       "3    paris hilton arrived lax wednesday dressed pay...\n",
       "4    berlin june ecb board member benoit coeure sai...\n",
       "5    caracas venezuelan authority arrested six memb...\n",
       "6    success hudson bay co executive chairman richa...\n",
       "7    joakim noah model girlfriend lais ribeiro damn...\n",
       "8    jermaine jackson slamming quincy jones removin...\n",
       "9    london british prime minister theresa may pres...\n",
       "Name: article, dtype: object"
      ]
     },
     "execution_count": 19,
     "metadata": {},
     "output_type": "execute_result"
    }
   ],
   "source": [
    "articles = newslimited_cleaned['article']\n",
    "articles[:10]"
   ]
  },
  {
   "cell_type": "code",
   "execution_count": 20,
   "metadata": {
    "execution": {
     "iopub.execute_input": "2023-05-23T15:26:25.757736Z",
     "iopub.status.busy": "2023-05-23T15:26:25.757107Z",
     "iopub.status.idle": "2023-05-23T15:26:28.510650Z",
     "shell.execute_reply": "2023-05-23T15:26:28.509823Z",
     "shell.execute_reply.started": "2023-05-23T15:26:25.757682Z"
    },
    "tags": []
   },
   "outputs": [
    {
     "name": "stdout",
     "output_type": "stream",
     "text": [
      "113231\n"
     ]
    }
   ],
   "source": [
    "#count how often energy is in preprocessed_docs\n",
    "count = 0\n",
    "for doc in articles:\n",
    "    if 'energy' in doc:\n",
    "        count += 1\n",
    "print(count)"
   ]
  },
  {
   "attachments": {},
   "cell_type": "markdown",
   "metadata": {
    "jp-MarkdownHeadingCollapsed": true,
    "tags": []
   },
   "source": [
    "## 4.2 Bag of Words"
   ]
  },
  {
   "cell_type": "code",
   "execution_count": 21,
   "metadata": {
    "execution": {
     "iopub.execute_input": "2023-05-23T15:26:33.008167Z",
     "iopub.status.busy": "2023-05-23T15:26:33.007486Z",
     "iopub.status.idle": "2023-05-23T15:48:43.200891Z",
     "shell.execute_reply": "2023-05-23T15:48:43.199846Z",
     "shell.execute_reply.started": "2023-05-23T15:26:33.008111Z"
    },
    "tags": []
   },
   "outputs": [
    {
     "name": "stdout",
     "output_type": "stream",
     "text": [
      "0    [indianapolis, colt, made, andrew, luck, highe...\n",
      "1    [davos, switzerland, u.s, president, donald, t...\n",
      "2    [paris, former, french, president, nicolas, sa...\n",
      "3    [paris, hilton, arrived, lax, wednesday, dress...\n",
      "4    [berlin, june, ecb, board, member, benoit, coe...\n",
      "5    [caracas, venezuelan, authority, arrested, six...\n",
      "6    [success, hudson, bay, co, executive, chairman...\n",
      "7    [joakim, noah, model, girlfriend, lais, ribeir...\n",
      "8    [jermaine, jackson, slamming, quincy, jones, r...\n",
      "9    [london, british, prime, minister, theresa, ma...\n",
      "Name: article, dtype: object\n"
     ]
    }
   ],
   "source": [
    "# Tokenize the articles\n",
    "articles = articles.apply(word_tokenize)\n",
    "print(articles[:10])"
   ]
  },
  {
   "attachments": {},
   "cell_type": "markdown",
   "metadata": {},
   "source": [
    "Specific cleaning for LDA"
   ]
  },
  {
   "cell_type": "code",
   "execution_count": 22,
   "metadata": {
    "execution": {
     "iopub.execute_input": "2023-05-23T15:48:45.063637Z",
     "iopub.status.busy": "2023-05-23T15:48:45.063447Z",
     "iopub.status.idle": "2023-05-23T15:48:45.069169Z",
     "shell.execute_reply": "2023-05-23T15:48:45.068421Z",
     "shell.execute_reply.started": "2023-05-23T15:48:45.063620Z"
    },
    "tags": []
   },
   "outputs": [],
   "source": [
    "def clean_lda(tokens):\n",
    "    # Remove stopwords\n",
    "    own_stopwords = [\"would\", \"could\", \"get\", \"always\", \"dont\", \"may\", \"said\", \"Mr.\", \"ha\", \"wa\", \"time\", \"year\", \"day\", \"week\", \"month\", \"like\", \"say\", \"also\", \"one\", \"two\", \"three\", \"four\", \"five\", \"six\", \"seven\", \"eight\", \"nine\", \"ten\", \"new\", \"mr\", \"last\", \"even\", \"monday\", \"tuesday\", \"wednesday\", \"thursday\", \"friday\", \"saturday\", \"sunday\", \"u\", \"first\", \"second\", \"third\", \"fourth\", \"fifth\", \"sixth\", \"seventh\", \"eighth\", \"ninth\", \"tenth\"]\n",
    "    tokens = [word for word in tokens if word not in own_stopwords]\n",
    "\n",
    "    return tokens"
   ]
  },
  {
   "cell_type": "code",
   "execution_count": 23,
   "metadata": {
    "execution": {
     "iopub.execute_input": "2023-05-23T15:49:10.816769Z",
     "iopub.status.busy": "2023-05-23T15:49:10.816104Z",
     "iopub.status.idle": "2023-05-23T15:54:21.154310Z",
     "shell.execute_reply": "2023-05-23T15:54:21.152666Z",
     "shell.execute_reply.started": "2023-05-23T15:49:10.816715Z"
    },
    "tags": []
   },
   "outputs": [],
   "source": [
    "articles = articles.apply(clean_lda)"
   ]
  },
  {
   "cell_type": "code",
   "execution_count": 24,
   "metadata": {
    "execution": {
     "iopub.execute_input": "2023-05-23T15:54:23.075775Z",
     "iopub.status.busy": "2023-05-23T15:54:23.075575Z",
     "iopub.status.idle": "2023-05-23T15:56:06.270542Z",
     "shell.execute_reply": "2023-05-23T15:56:06.269333Z",
     "shell.execute_reply.started": "2023-05-23T15:54:23.075756Z"
    },
    "tags": []
   },
   "outputs": [],
   "source": [
    "#safe newslimited_cleaned as csv\n",
    "articles.to_csv('articles.csv', index=False)"
   ]
  },
  {
   "cell_type": "code",
   "execution_count": 25,
   "metadata": {
    "execution": {
     "iopub.execute_input": "2023-05-23T15:57:28.250087Z",
     "iopub.status.busy": "2023-05-23T15:57:28.249164Z",
     "iopub.status.idle": "2023-05-23T15:57:28.260036Z",
     "shell.execute_reply": "2023-05-23T15:57:28.258066Z",
     "shell.execute_reply.started": "2023-05-23T15:57:28.250023Z"
    },
    "tags": []
   },
   "outputs": [
    {
     "name": "stdout",
     "output_type": "stream",
     "text": [
      "['indianapolis', 'colt', 'made', 'andrew', 'luck', 'highestpaid', 'player', 'nfl', 'history', 'offseason', 'fiveyear', 'million', 'contract', 'million', 'guaranteed', 'however', 'theyre', 'already', 'finding', 'luck', 'contract', 'inhibiting', 'ability', 'address', 'weakness', 'part', 'roster', 'particularly', 'defense', 'colt', 'gm', 'ryan', 'grigson', 'fire', 'colt', 'start', 'difficult', 'build', 'team', 'defense', 'luck', 'making', 'much', 'money', 'according', 'keefer', 'grigson', 'point', 'colt', 'still', 'young', 'talent', 'theyre', 'hoping', 'develop', 'defense', 'however', 'blaming', 'luck', 'contract', 'colt', 'gave', 'weak', 'defense', '30th', 'defensive', 'dvoa', 'accurate', 'others', 'pointed', 'denver', 'bronco', 'paid', 'peyton', 'manning', 'million', 'base', 'salary', 'boasting', 'elite', 'defense', 'luck', 'take', 'million', 'salary', 'cap', 'le', 'million', 'manning', 'ago', 'million', 'much', 'come', 'drafting', 'successfully', 'colt', 'done', 'well', 'elite', 'team', 'bronco', 'patriot', 'instance', 'colt', 'handcuffed', 'luck', 'contract', 'drafting', 'going', 'become', 'especially', 'important', 'use', 'whatever', 'money', 'free', 'agency', 'certainly', 'possible', 'build', 'good', 'defense', 'highpaid', 'quarterback', 'colt', 'felt', 'paying', 'luck', 'high', 'sum', 'money', 'difficult', 'perhaps', 'reconsidered', 'final', 'number', 'highestpaid', 'player', 'nfl', 'team']\n"
     ]
    }
   ],
   "source": [
    "#show the first article in articles\n",
    "print(articles[0])\n"
   ]
  },
  {
   "cell_type": "code",
   "execution_count": 26,
   "metadata": {
    "execution": {
     "iopub.execute_input": "2023-05-23T15:57:32.021317Z",
     "iopub.status.busy": "2023-05-23T15:57:32.020746Z",
     "iopub.status.idle": "2023-05-23T16:03:23.420049Z",
     "shell.execute_reply": "2023-05-23T16:03:23.418817Z",
     "shell.execute_reply.started": "2023-05-23T15:57:32.021282Z"
    },
    "tags": []
   },
   "outputs": [],
   "source": [
    "dictionary = gensim.corpora.Dictionary(articles)"
   ]
  },
  {
   "cell_type": "code",
   "execution_count": 27,
   "metadata": {
    "execution": {
     "iopub.execute_input": "2023-05-23T16:03:25.303617Z",
     "iopub.status.busy": "2023-05-23T16:03:25.303415Z",
     "iopub.status.idle": "2023-05-23T16:03:25.308506Z",
     "shell.execute_reply": "2023-05-23T16:03:25.307833Z",
     "shell.execute_reply.started": "2023-05-23T16:03:25.303598Z"
    },
    "tags": []
   },
   "outputs": [
    {
     "name": "stdout",
     "output_type": "stream",
     "text": [
      "2008848\n"
     ]
    }
   ],
   "source": [
    "print(len(dictionary.iteritems()))"
   ]
  },
  {
   "cell_type": "code",
   "execution_count": 28,
   "metadata": {
    "execution": {
     "iopub.execute_input": "2023-05-23T16:03:25.310246Z",
     "iopub.status.busy": "2023-05-23T16:03:25.310070Z",
     "iopub.status.idle": "2023-05-23T16:03:26.164274Z",
     "shell.execute_reply": "2023-05-23T16:03:26.163463Z",
     "shell.execute_reply.started": "2023-05-23T16:03:25.310231Z"
    },
    "tags": []
   },
   "outputs": [
    {
     "name": "stdout",
     "output_type": "stream",
     "text": [
      "0 30th\n",
      "1 ability\n",
      "2 according\n",
      "3 accurate\n",
      "4 address\n",
      "5 agency\n",
      "6 ago\n",
      "7 already\n",
      "8 andrew\n",
      "9 base\n",
      "10 become\n"
     ]
    }
   ],
   "source": [
    "#show the last elements of the dictionary\n",
    "count = 0\n",
    "for k, v in dictionary.iteritems():\n",
    "    print(k, v)\n",
    "    count += 1\n",
    "    if count > 10:\n",
    "        break"
   ]
  },
  {
   "cell_type": "code",
   "execution_count": 30,
   "metadata": {
    "execution": {
     "iopub.execute_input": "2023-05-23T16:06:13.030865Z",
     "iopub.status.busy": "2023-05-23T16:06:13.030205Z",
     "iopub.status.idle": "2023-05-23T16:11:01.734828Z",
     "shell.execute_reply": "2023-05-23T16:11:01.733739Z",
     "shell.execute_reply.started": "2023-05-23T16:06:13.030809Z"
    },
    "tags": []
   },
   "outputs": [
    {
     "name": "stdout",
     "output_type": "stream",
     "text": [
      " Number of articles: 1597460\n",
      "Number of different words in first article: 96\n"
     ]
    }
   ],
   "source": [
    "#create each a dictionary for each article\n",
    "bow_corpus = [dictionary.doc2bow(doc) for doc in articles]\n",
    "print(f' Number of articles: {len(bow_corpus)}')\n",
    "print(f'Number of different words in first article: {len(bow_corpus[0])}')"
   ]
  },
  {
   "cell_type": "code",
   "execution_count": 31,
   "metadata": {
    "execution": {
     "iopub.execute_input": "2023-05-23T16:15:34.881650Z",
     "iopub.status.busy": "2023-05-23T16:15:34.881365Z",
     "iopub.status.idle": "2023-05-23T16:15:34.887068Z",
     "shell.execute_reply": "2023-05-23T16:15:34.886364Z",
     "shell.execute_reply.started": "2023-05-23T16:15:34.881624Z"
    },
    "tags": []
   },
   "outputs": [
    {
     "name": "stdout",
     "output_type": "stream",
     "text": [
      "[(0, 1), (1, 1), (2, 1), (3, 1), (4, 1), (5, 1), (6, 1), (7, 1), (8, 1), (9, 1), (10, 1), (11, 1), (12, 1), (13, 2), (14, 2), (15, 1), (16, 1), (17, 8), (18, 1), (19, 4), (20, 6), (21, 1), (22, 1), (23, 1), (24, 2), (25, 1), (26, 2), (27, 1), (28, 2), (29, 1), (30, 1), (31, 1), (32, 1), (33, 1), (34, 1), (35, 1), (36, 1), (37, 1), (38, 1), (39, 1), (40, 2), (41, 1), (42, 1), (43, 1), (44, 2), (45, 1), (46, 1), (47, 1), (48, 2), (49, 1), (50, 1), (51, 1), (52, 1), (53, 1), (54, 1), (55, 7), (56, 1), (57, 1), (58, 2), (59, 6), (60, 3), (61, 2), (62, 2), (63, 1), (64, 1), (65, 1), (66, 1), (67, 1), (68, 1), (69, 1), (70, 1), (71, 1), (72, 1), (73, 2), (74, 1), (75, 1), (76, 1), (77, 1), (78, 1), (79, 1), (80, 1), (81, 2), (82, 1), (83, 1), (84, 1), (85, 1), (86, 1), (87, 1), (88, 3), (89, 2), (90, 1), (91, 1), (92, 1), (93, 1), (94, 1), (95, 1)]\n"
     ]
    }
   ],
   "source": [
    "print(bow_corpus[0])\n"
   ]
  },
  {
   "attachments": {},
   "cell_type": "markdown",
   "metadata": {
    "jp-MarkdownHeadingCollapsed": true,
    "tags": []
   },
   "source": [
    "## 4.3 TF-IDF"
   ]
  },
  {
   "cell_type": "code",
   "execution_count": 32,
   "metadata": {
    "execution": {
     "iopub.execute_input": "2023-05-23T16:15:34.889127Z",
     "iopub.status.busy": "2023-05-23T16:15:34.888726Z",
     "iopub.status.idle": "2023-05-23T16:16:43.932568Z",
     "shell.execute_reply": "2023-05-23T16:16:43.931509Z",
     "shell.execute_reply.started": "2023-05-23T16:15:34.889108Z"
    },
    "tags": []
   },
   "outputs": [],
   "source": [
    "tfidf = models.TfidfModel(bow_corpus)\n",
    "corpus_tfidf = tfidf[bow_corpus]"
   ]
  },
  {
   "attachments": {},
   "cell_type": "markdown",
   "metadata": {
    "tags": []
   },
   "source": [
    "for doc in corpus_tfidf:\n",
    "    pprint(doc)\n",
    "    break"
   ]
  },
  {
   "attachments": {},
   "cell_type": "markdown",
   "metadata": {
    "jp-MarkdownHeadingCollapsed": true,
    "tags": []
   },
   "source": [
    "## 4.4 Running LDA using BoW"
   ]
  },
  {
   "cell_type": "code",
   "execution_count": 33,
   "metadata": {
    "execution": {
     "iopub.execute_input": "2023-05-23T16:26:03.068935Z",
     "iopub.status.busy": "2023-05-23T16:26:03.068409Z",
     "iopub.status.idle": "2023-05-23T17:22:05.726595Z",
     "shell.execute_reply": "2023-05-23T17:22:05.723590Z",
     "shell.execute_reply.started": "2023-05-23T16:26:03.068890Z"
    },
    "tags": []
   },
   "outputs": [],
   "source": [
    "lda_model = gensim.models.LdaMulticore(bow_corpus, num_topics=10, \n",
    "                                       id2word=dictionary, passes=2, \n",
    "                                       workers=2)"
   ]
  },
  {
   "cell_type": "code",
   "execution_count": 34,
   "metadata": {
    "execution": {
     "iopub.execute_input": "2023-05-23T17:26:44.941756Z",
     "iopub.status.busy": "2023-05-23T17:26:44.941571Z",
     "iopub.status.idle": "2023-05-23T17:26:45.926625Z",
     "shell.execute_reply": "2023-05-23T17:26:45.925796Z",
     "shell.execute_reply.started": "2023-05-23T17:26:44.941737Z"
    },
    "tags": []
   },
   "outputs": [
    {
     "name": "stdout",
     "output_type": "stream",
     "text": [
      "Topic: 0 \n",
      "Words: 0.007*\"city\" + 0.007*\"art\" + 0.006*\"m\" + 0.005*\"york\" + 0.005*\"food\" + 0.005*\"home\" + 0.004*\"street\" + 0.004*\"house\" + 0.004*\"museum\" + 0.004*\"restaurant\"\n",
      "Topic: 1 \n",
      "Words: 0.011*\"state\" + 0.009*\"coronavirus\" + 0.009*\"country\" + 0.009*\"united\" + 0.008*\"china\" + 0.007*\"official\" + 0.007*\"government\" + 0.007*\"people\" + 0.006*\"military\" + 0.005*\"war\"\n",
      "Topic: 2 \n",
      "Words: 0.017*\"market\" + 0.013*\"rate\" + 0.010*\"economy\" + 0.009*\"bank\" + 0.009*\"u.s\" + 0.009*\"stock\" + 0.008*\"price\" + 0.008*\"trade\" + 0.008*\"economic\" + 0.008*\"growth\"\n",
      "Topic: 3 \n",
      "Words: 0.013*\"de\" + 0.009*\"la\" + 0.008*\"game\" + 0.006*\"team\" + 0.006*\"season\" + 0.005*\"que\" + 0.005*\"en\" + 0.005*\"el\" + 0.005*\"los\" + 0.005*\"play\"\n",
      "Topic: 4 \n",
      "Words: 0.031*\"trump\" + 0.019*\"president\" + 0.010*\"state\" + 0.008*\"house\" + 0.008*\"republican\" + 0.007*\"democrat\" + 0.007*\"campaign\" + 0.006*\"american\" + 0.006*\"white\" + 0.006*\"democratic\"\n",
      "Topic: 5 \n",
      "Words: 0.008*\"m\" + 0.007*\"court\" + 0.006*\"case\" + 0.006*\"state\" + 0.006*\"law\" + 0.005*\"woman\" + 0.005*\"police\" + 0.004*\"department\" + 0.004*\"york\" + 0.004*\"investigation\"\n",
      "Topic: 6 \n",
      "Words: 0.008*\"china\" + 0.008*\"company\" + 0.006*\"oil\" + 0.006*\"state\" + 0.005*\"million\" + 0.005*\"car\" + 0.005*\"climate\" + 0.005*\"airline\" + 0.005*\"united\" + 0.004*\"industry\"\n",
      "Topic: 7 \n",
      "Words: 0.011*\"government\" + 0.011*\"european\" + 0.009*\"minister\" + 0.009*\"country\" + 0.008*\"party\" + 0.007*\"britain\" + 0.007*\"union\" + 0.006*\"prime\" + 0.005*\"british\" + 0.005*\"europe\"\n",
      "Topic: 8 \n",
      "Words: 0.038*\"company\" + 0.016*\"million\" + 0.012*\"billion\" + 0.012*\"business\" + 0.008*\"financial\" + 0.007*\"bank\" + 0.007*\"executive\" + 0.007*\"share\" + 0.006*\"firm\" + 0.006*\"fund\"\n",
      "Topic: 9 \n",
      "Words: 0.009*\"people\" + 0.005*\"work\" + 0.005*\"make\" + 0.005*\"way\" + 0.004*\"many\" + 0.004*\"life\" + 0.004*\"think\" + 0.004*\"know\" + 0.003*\"thing\" + 0.003*\"much\"\n"
     ]
    }
   ],
   "source": [
    "for idx, topic in lda_model.print_topics(-1):\n",
    "    print('Topic: {} \\nWords: {}'.format(idx, topic))"
   ]
  },
  {
   "attachments": {},
   "cell_type": "markdown",
   "metadata": {
    "jp-MarkdownHeadingCollapsed": true,
    "tags": []
   },
   "source": [
    "## 4.5 Visualization"
   ]
  },
  {
   "cell_type": "code",
   "execution_count": 35,
   "metadata": {
    "execution": {
     "iopub.execute_input": "2023-05-23T17:31:08.290909Z",
     "iopub.status.busy": "2023-05-23T17:31:08.290651Z",
     "iopub.status.idle": "2023-05-23T17:52:23.854704Z",
     "shell.execute_reply": "2023-05-23T17:52:23.853659Z",
     "shell.execute_reply.started": "2023-05-23T17:31:08.290879Z"
    },
    "tags": []
   },
   "outputs": [
    {
     "data": {
      "text/html": [
       "\n",
       "<link rel=\"stylesheet\" type=\"text/css\" href=\"https://cdn.jsdelivr.net/gh/bmabey/pyLDAvis@3.4.0/pyLDAvis/js/ldavis.v1.0.0.css\">\n",
       "\n",
       "\n",
       "<div id=\"ldavis_el7631397796228613123594171078\" style=\"background-color:white;\"></div>\n",
       "<script type=\"text/javascript\">\n",
       "\n",
       "var ldavis_el7631397796228613123594171078_data = {\"mdsDat\": {\"x\": [0.10379167504295951, 0.10170428004191251, -0.21748830108083042, 0.04586421985940857, -0.20221559958826527, 0.20003765981732893, -0.023544529943606916, -0.14542229584529615, -0.035594087116969375, 0.1728669788133589], \"y\": [0.013376612423692723, -0.10696404447595552, 0.11277993129006443, -0.12921872619829491, 0.07029819861428574, 0.06028164549576375, -0.15104827482008834, 0.0429941473412171, -0.14233805684316803, 0.22983856717248294], \"topics\": [1, 2, 3, 4, 5, 6, 7, 8, 9, 10], \"cluster\": [1, 1, 1, 1, 1, 1, 1, 1, 1, 1], \"Freq\": [18.64746163265761, 10.845740857064603, 10.811834446313648, 10.734843641740573, 10.331627913280277, 9.757970588353729, 8.552713737625401, 7.84671099353976, 6.692249753524234, 5.778846435900153]}, \"tinfo\": {\"Term\": [\"company\", \"trump\", \"market\", \"president\", \"rate\", \"china\", \"million\", \"de\", \"billion\", \"bank\", \"coronavirus\", \"government\", \"country\", \"state\", \"m\", \"republican\", \"stock\", \"european\", \"la\", \"economy\", \"business\", \"game\", \"u.s\", \"minister\", \"house\", \"party\", \"price\", \"trade\", \"democrat\", \"growth\", \"pandemic\", \"specie\", \"crossword\", \"nasa\", \"ventilator\", \"vaping\", \"signup\", \"infectious\", \"genetic\", \"astronaut\", \"podcasts\", \"nonfiction\", \"ecigarettes\", \"meditation\", \"mortality\", \"f.d.a\", \"c.d.c\", \"measles\", \"parenting\", \"h.i.v\", \"habitat\", \"cognitive\", \"antibiotic\", \"biology\", \"nicotine\", \"spacecraft\", \"glacier\", \"wordplay\", \"loneliness\", \"io\", \"infection\", \"puzzle\", \"cdc\", \"algorithm\", \"brain\", \"physic\", \"pixel\", \"patient\", \"cough\", \"vaccine\", \"diagnosis\", \"researcher\", \"flu\", \"reader\", \"novel\", \"essay\", \"facebooks\", \"study\", \"youre\", \"sleep\", \"author\", \"learn\", \"experiment\", \"dr\", \"book\", \"learning\", \"life\", \"youtube\", \"writes\", \"age\", \"older\", \"doctor\", \"feel\", \"kid\", \"thing\", \"disease\", \"something\", \"know\", \"science\", \"work\", \"way\", \"experience\", \"people\", \"really\", \"often\", \"child\", \"think\", \"thats\", \"make\", \"might\", \"find\", \"want\", \"student\", \"story\", \"need\", \"many\", \"every\", \"much\", \"im\", \"health\", \"woman\", \"school\", \"see\", \"go\", \"take\", \"help\", \"going\", \"still\", \"world\", \"come\", \"prosecutor\", \"f.b.i\", \"jury\", \"whistleblower\", \"defendant\", \"pleaded\", \"sheriff\", \"inmate\", \"plaintiff\", \"sentencing\", \"juror\", \"courtroom\", \"newsom\", \"accuser\", \"felony\", \"indicted\", \"cum\", \"laude\", \"misdemeanor\", \"parnas\", \"l.g.b.t\", \"blasey\", \"weinsteins\", \"homicide\", \"nytnews\", \"kavanaughs\", \"convicted\", \"cuomos\", \"cosby\", \"cohens\", \"lawyer\", \"attorney\", \"weinstein\", \"harassment\", \"transgender\", \"firearm\", \"sentenced\", \"criminal\", \"investigator\", \"rape\", \"sexual\", \"judge\", \"guilty\", \"prosecution\", \"crime\", \"justice\", \"court\", \"epstein\", \"allegation\", \"investigation\", \"prison\", \"lawsuit\", \"murder\", \"witness\", \"victim\", \"jail\", \"county\", \"abuse\", \"enforcement\", \"police\", \"complaint\", \"gun\", \"law\", \"trial\", \"legal\", \"department\", \"m\", \"case\", \"officer\", \"woman\", \"school\", \"charge\", \"federal\", \"york\", \"family\", \"state\", \"public\", \"city\", \"office\", \"university\", \"report\", \"official\", \"told\", \"former\", \"people\", \"according\", \"statement\", \"child\", \"wrote\", \"c.e.o\", \"gdansk\", \"esta\", \"i.p.o\", \"realty\", \"reais\", \"s.e.c\", \"brasil\", \"weworks\", \"dealbook\", \"fintech\", \"sistema\", \"xerox\", \"g.e\", \"empresa\", \"f.c.c\", \"pges\", \"prim\", \"annuity\", \"kkr\", \"prospectus\", \"hna\", \"softbanks\", \"privateequity\", \"seythal\", \"viacom\", \"madoff\", \"teva\", \"esg\", \"atlantia\", \"shareholder\", \"wework\", \"ipo\", \"fy\", \"softbank\", \"merger\", \"ebitda\", \"cmo\", \"comcast\", \"buyout\", \"blackstone\", \"wsj\", \"neumann\", \"novartis\", \"eikon\", \"transaction\", \"acquisition\", \"antitrust\", \"att\", \"insurer\", \"blockchain\", \"payment\", \"company\", \"startup\", \"ceo\", \"fee\", \"revenue\", \"loan\", \"inc\", \"credit\", \"firm\", \"lender\", \"million\", \"billion\", \"fund\", \"business\", \"customer\", \"coverage\", \"insurance\", \"financial\", \"investment\", \"cash\", \"executive\", \"amazon\", \"stake\", \"share\", \"card\", \"pay\", \"sale\", \"source\", \"tax\", \"tech\", \"bank\", \"employee\", \"service\", \"investor\", \"plan\", \"deal\", \"group\", \"chief\", \"money\", \"industry\", \"market\", \"according\", \"biden\", \"republican\", \"buttigieg\", \"caucus\", \"pelosi\", \"bidens\", \"klobuchar\", \"zelensky\", \"obamas\", \"kushner\", \"mulvaney\", \"romney\", \"ocasiocortez\", \"sondland\", \"bannon\", \"steyer\", \"beto\", \"obamacare\", \"esper\", \"yovanovitch\", \"g.o.p\", \"gabbard\", \"gop\", \"bipartisan\", \"ivanka\", \"gillibrand\", \"buttigiegs\", \"mcconnell\", \"solver\", \"impeachable\", \"trump\", \"senate\", \"democrat\", \"sander\", \"senator\", \"impeachment\", \"clinton\", \"hillary\", \"bernie\", \"obama\", \"mccain\", \"barack\", \"congressional\", \"schumer\", \"democratic\", \"candidate\", \"presidential\", \"voter\", \"iowa\", \"congress\", \"warren\", \"campaign\", \"president\", \"house\", \"vote\", \"administration\", \"donald\", \"white\", \"election\", \"debate\", \"political\", \"primary\", \"ukraine\", \"american\", \"state\", \"committee\", \"party\", \"former\", \"bill\", \"policy\", \"washington\", \"leader\", \"support\", \"people\", \"national\", \"think\", \"index\", \"sp\", \"inflation\", \"selloff\", \"ftse\", \"etf\", \"safehaven\", \"ibes\", \"greenback\", \"stoxx\", \"boj\", \"mscis\", \"pmi\", \".to\", \"sloan\", \"palladium\", \"betterthanexpected\", \"gainer\", \"hartford\", \"msci\", \"eminis\", \"yearoveryear\", \"syndergaard\", \"medha\", \"bearish\", \"pboc\", \"factset\", \"kuroda\", \"bullion\", \"cme\", \"dow\", \"nasdaq\", \"stimulus\", \"volatility\", \"benchmark\", \"yield\", \"repo\", \"fed\", \"recession\", \"yen\", \"slowdown\", \"economist\", \"gdp\", \"composite\", \"rate\", \"currency\", \"u.s.china\", \"growth\", \"monetary\", \"brent\", \"outlook\", \"economy\", \"stock\", \"reserve\", \"rose\", \"fell\", \"bond\", \"market\", \"forecast\", \"lowest\", \"treasury\", \"economic\", \"low\", \"trade\", \"cut\", \"decline\", \"price\", \"dollar\", \"u.s\", \"bank\", \"trading\", \"central\", \"percent\", \"analyst\", \"global\", \"investor\", \"quarter\", \"china\", \"higher\", \"since\", \"data\", \"coronavirus\", \"point\", \"high\", \"que\", \"una\", \"por\", \"album\", \"yankee\", \"tournament\", \"scored\", \"coach\", \"championship\", \"como\", \"playoff\", \"inning\", \"n.b.a\", \"mets\", \"n.f.l\", \"quarterback\", \"sus\", \"touchdown\", \"jazz\", \"dijo\", \"pero\", \"orchestra\", \"teammate\", \"aos\", \"pitcher\", \"sobre\", \"cuando\", \"fue\", \"pointer\", \"hockey\", \"en\", \"comedy\", \"premiere\", \"baseball\", \"game\", \"la\", \"film\", \"yard\", \"athlete\", \"su\", \"de\", \"del\", \"con\", \"musical\", \"football\", \"song\", \"el\", \"season\", \"movie\", \"league\", \"player\", \"se\", \"fan\", \"los\", \"sport\", \"theater\", \"play\", \"music\", \"star\", \"team\", \"played\", \"series\", \"character\", \"point\", \"show\", \"night\", \"run\", \"back\", \"made\", \"win\", \"m\", \"world\", \"got\", \"islamic\", \"iranian\", \"syrian\", \"missile\", \"taliban\", \"afghan\", \"kurdish\", \"palestinian\", \"yemen\", \"tehran\", \"maduro\", \"iraqi\", \"militia\", \"militant\", \"kurd\", \"syria\", \"quarantined\", \"sudan\", \"kashmir\", \"baghdad\", \"gaza\", \"kabul\", \"qaeda\", \"beirut\", \"hezbollah\", \"pyongyang\", \"ankara\", \"airstrikes\", \"ballistic\", \"idlib\", \"un\", \"iran\", \"para\", \"arab\", \"erdogan\", \"pakistan\", \"turkish\", \"jerusalem\", \"mohammed\", \"lebanon\", \"rohingya\", \"troop\", \"afghanistan\", \"israeli\", \"venezuelan\", \"israel\", \"korea\", \"turkey\", \"korean\", \"iraq\", \"military\", \"sanction\", \"saudi\", \"venezuela\", \"netanyahu\", \"moscow\", \"virus\", \"soldier\", \"nuclear\", \"hong\", \"kong\", \"coronavirus\", \"force\", \"russia\", \"attack\", \"protester\", \"russian\", \"war\", \"united\", \"official\", \"country\", \"outbreak\", \"north\", \"china\", \"state\", \"government\", \"border\", \"killed\", \"people\", \"chinese\", \"south\", \"american\", \"security\", \"group\", \"city\", \"international\", \"president\", \"world\", \"emission\", \"tesla\", \"huawei\", \"automaker\", \"nissan\", \"5g\", \"ghosn\", \"dorian\", \"airbus\", \"refinery\", \"soybean\", \"carmaker\", \"g.m\", \"e.p.a\", \"volkswagen\", \"diesel\", \"renault\", \"chrysler\", \"lng\", \"boeings\", \"faa\", \"refiner\", \"s.u.v\", \"daimler\", \"huaweis\", \"shfe\", \"waymo\", \"f.a.a\", \"ghosns\", \"hyundai\", \"airline\", \"carbon\", \"bpd\", \"dioxide\", \"coal\", \"gm\", \"musk\", \"boeing\", \"pollution\", \"greenhouse\", \"aviation\", \"solar\", \"plant\", \"tonne\", \"gas\", \"vehicle\", \"flight\", \"electric\", \"passenger\", \"environmental\", \"motor\", \"storm\", \"hurricane\", \"climate\", \"fuel\", \"car\", \"farmer\", \"energy\", \"production\", \"oil\", \"plane\", \"aircraft\", \"driver\", \"supply\", \"air\", \"china\", \"water\", \"industry\", \"company\", \"airport\", \"worker\", \"chinese\", \"state\", \"united\", \"million\", \"u.s\", \"project\", \"world\", \"trade\", \"billion\", \"global\", \"country\", \"reporting\", \"power\", \"according\", \"plan\", \"eu\", \"macron\", \"merkel\", \"bolsonaro\", \"vatican\", \"hungary\", \"theresa\", \"pp\", \"corbyn\", \"volodymyr\", \"gantz\", \"orban\", \"catalan\", \"thunberg\", \"catalonia\", \"salvini\", \"conte\", \"mugabe\", \"merkels\", \"snchez\", \"bulgaria\", \"likud\", \"ardern\", \"liberalism\", \"aung\", \"matteo\", \"giuseppe\", \"unionist\", \"varadkar\", \"notredame\", \"ireland\", \"brussels\", \"greece\", \"britain\", \"parliament\", \"nodeal\", \"trudeaus\", \"modis\", \"jair\", \"brexit\", \"poland\", \"berlin\", \"boris\", \"labour\", \"trudeau\", \"spain\", \"austria\", \"italy\", \"modi\", \"bloc\", \"parliamentary\", \"european\", \"germany\", \"france\", \"minister\", \"rome\", \"british\", \"german\", \"referendum\", \"union\", \"pope\", \"italian\", \"french\", \"prime\", \"johnson\", \"europe\", \"london\", \"party\", \"paris\", \"government\", \"country\", \"leader\", \"election\", \"political\", \"opposition\", \"deal\", \"world\", \"member\", \"reporting\", \"editing\", \"united\", \"told\", \"president\", \"state\", \"wine\", \"chef\", \"sculpture\", \"cheese\", \"chocolate\", \"leather\", \"salad\", \"squarefoot\", \"pasta\", \"officiated\", \"taco\", \"vegan\", \"culinary\", \"dessert\", \"fireplace\", \"cuisine\", \"noodle\", \"shrimp\", \"garlic\", \"cookbook\", \"sausage\", \"sothebys\", \"markle\", \"plantbased\", \"spicy\", \"coconut\", \"pastry\", \"tasting\", \"moma\", \"lobster\", \"museum\", \"cooking\", \"sauce\", \"pizza\", \"butter\", \"restaurant\", \"sandwich\", \"antique\", \"oven\", \"painting\", \"chicken\", \"dish\", \"recipe\", \"designer\", \"kitchen\", \"gallery\", \"jewelry\", \"beer\", \"dining\", \"cream\", \"art\", \"dress\", \"exhibition\", \"flavor\", \"fashion\", \"coffee\", \"artist\", \"bottle\", \"meal\", \"wedding\", \"shop\", \"collection\", \"hotel\", \"food\", \"store\", \"guest\", \"park\", \"apartment\", \"avenue\", \"dog\", \"room\", \"design\", \"city\", \"street\", \"building\", \"brand\", \"york\", \"m\", \"home\", \"space\", \"house\", \"show\", \"made\", \"place\", \"work\", \"around\", \"foot\", \"manhattan\", \"island\", \"black\", \"white\", \"look\"], \"Freq\": [2030552.0, 1333355.0, 1008133.0, 1109985.0, 571691.0, 823200.0, 1067575.0, 566380.0, 779433.0, 753576.0, 596254.0, 872684.0, 895342.0, 1512979.0, 799915.0, 339524.0, 458006.0, 340194.0, 363126.0, 507748.0, 786199.0, 339306.0, 718734.0, 305332.0, 538738.0, 464479.0, 566370.0, 535171.0, 300220.0, 381627.0, 58645.31703695646, 20289.573232486513, 19154.462873268763, 14285.146467146278, 12950.327965004364, 12894.651880234374, 11890.140801347514, 11517.677838751113, 10527.459876930225, 8684.0102231232, 8767.775734036757, 8071.151789437425, 7606.261411763613, 6810.524002594369, 6768.02389413567, 6725.36829615389, 6525.45915457794, 6510.625887496244, 6257.62872195783, 5874.601681972701, 5679.539262604022, 5591.912518829833, 5284.919855631529, 5122.939322180615, 5046.235311071391, 5005.166031290247, 4367.640837182393, 4265.220105038785, 3969.896199151031, 3948.6163472778853, 44545.61810218888, 43527.327509260016, 12390.423736771641, 8968.195769759974, 34942.30993480552, 5473.657589660651, 5214.003088722848, 111544.59080455876, 6164.860530190461, 23522.158158873, 12608.731027177984, 57409.4191273628, 16092.510090765549, 51421.436327195275, 67193.65642077467, 26618.67945883173, 13806.790263353341, 137616.17252068597, 151879.18421446983, 31245.44737865674, 73193.26788687747, 52325.759059234195, 18591.97654375727, 154698.80847146432, 207584.62887378034, 33607.15228129967, 315558.7034660885, 35095.85340085941, 44691.073945941156, 95224.30644106517, 50991.89516524444, 70570.73716500787, 157252.81544810973, 68164.31845985986, 257930.20772733408, 79705.29480540747, 173936.13263260128, 261746.3865505465, 59170.71776077467, 359497.53318552056, 337470.69880798477, 99653.28952042921, 642138.0709079161, 170928.94141809118, 154430.9027320717, 193120.96093022428, 265432.00185060065, 180768.56982244327, 352545.2639584895, 189158.16469692683, 148897.44343841367, 251516.45452159428, 151180.3893760761, 193220.56090905107, 233315.88899123567, 327165.4209987051, 166844.97821316266, 256695.79211507543, 165030.49024379943, 209049.8667868397, 242182.62757629732, 198055.8494895091, 223180.0958456654, 204559.52873357348, 213010.87732861072, 188318.47359605698, 190468.94896135817, 189713.1160149853, 187397.10877886807, 174566.5337518528, 105815.06374298235, 39844.48085385703, 28598.967357708516, 25380.8173460875, 19367.702909944925, 18804.19365230848, 17519.310062358993, 17320.19741633304, 13720.861865664609, 11213.303207811377, 10680.285012008764, 10034.78352323874, 8992.095336726725, 8736.872128935795, 8482.541305576196, 8655.785516748416, 6989.644543242209, 6910.281569063089, 6341.715466315764, 6103.518777014449, 5718.60677670823, 5607.100947196324, 5568.984283936565, 6702.352215272776, 5485.098886961372, 5475.654485063108, 26638.82226654807, 5336.9057217958225, 5277.14590010879, 5353.6908679427825, 159224.22154100105, 97037.38897448289, 31605.35756880643, 33115.695531096004, 19434.157820619424, 13375.761176736689, 19176.760371099615, 82208.51083604082, 47703.004699804515, 21843.69535918477, 100052.0350020006, 146098.38598481676, 38759.92622487168, 19551.103035743497, 98460.26317906202, 164300.24535457592, 288926.6922425169, 28332.22760111945, 59062.16108450917, 170071.51226595763, 78292.39519783937, 60793.95659564765, 45927.497476690616, 50781.937698417794, 77148.18693839345, 34141.72083316987, 95951.06974351467, 62805.93560962462, 51806.863905542334, 214034.5842312494, 59489.184680921346, 83408.37464202613, 257724.67731151267, 89155.76900943974, 103221.36099761586, 181401.54767622516, 364291.3707482342, 271133.111354392, 136505.74743655333, 228504.28015694034, 169294.58322150423, 101253.61803448922, 150185.27476119943, 172712.82901454164, 146553.1592078394, 269048.2391533631, 152738.6639138375, 155764.0689717307, 123252.89078792282, 113094.68217899294, 133197.03805117193, 146684.44559536417, 137142.25449693072, 127160.96992452232, 161212.111217052, 128230.06664013781, 118382.5187311504, 109128.10900752162, 105899.11929800588, 23660.779345554867, 21329.041271181763, 19760.54020045833, 12152.53098391097, 11995.869350275412, 10807.869762141465, 10000.7530011841, 8990.66165721458, 8974.811669425679, 8281.887194348126, 6527.885541181744, 6279.088667973422, 6570.1023345321955, 5455.232952850317, 5005.451776122299, 4743.628561330524, 4177.555818759293, 3911.230915929888, 3749.797763119702, 3604.890589491689, 3546.447803845948, 3518.0479981462663, 6629.2754547454815, 3421.634411558464, 3397.5585006210445, 4555.866297646143, 3266.881071470363, 3245.9837650443374, 3245.2829579818886, 3164.3420981870204, 84727.03230304268, 35793.07582129251, 29570.881629681633, 24446.1783123914, 28009.08770032862, 43394.953368696435, 10960.242996845354, 12696.602279839002, 13496.944677233496, 9896.76026945835, 8521.608443330419, 26127.8187307278, 16051.355321742034, 5885.9626063432315, 62492.011786127114, 55048.56249670621, 51770.833522459245, 35225.80847125445, 21757.582119828807, 40970.04407909304, 11331.848533218548, 137333.838497876, 1637231.0908790063, 84556.95387368713, 113792.16933841148, 97836.01823203787, 202362.79321039034, 156361.3326262786, 117296.41825388346, 172092.9741747529, 279029.30414005864, 45019.59439379048, 710991.6040653029, 529258.0577942459, 250357.80015986497, 503773.19231981103, 157588.0182720472, 130374.4040719961, 106216.81377303204, 329022.23003862955, 226012.4199544458, 126097.37385803561, 283400.3398783296, 127135.20409418648, 79912.54621078534, 282197.2661847215, 98673.7751196135, 173211.31021118205, 212840.689961855, 192431.80113885336, 209476.71554293483, 111338.59700854168, 318400.97285220807, 156411.07956167342, 223777.73816107993, 197477.15965223592, 219690.08605640187, 214329.64016437987, 230739.4543720345, 183705.00857558686, 170793.26135467764, 157015.39073746695, 200301.80853636633, 155422.574080419, 140599.43719057445, 339519.97272568685, 40322.383618382744, 38227.455952464574, 37025.416657263006, 29105.04602212721, 23159.19277991824, 22025.52378456766, 20266.145034975336, 14019.679046738804, 13374.0260837273, 11579.441694732832, 10672.025695708724, 10207.530823018407, 9083.992493676511, 7568.080950732788, 7324.734755672492, 7284.923814432894, 6717.77555990751, 6619.346355783841, 6604.79689548875, 6081.6201352648395, 5885.873287070916, 21811.046338571337, 5285.16178238056, 5939.027315348984, 4782.7619009664695, 27370.59316464172, 4628.404134828718, 4460.877625667609, 1329936.7772239475, 155158.73310795677, 297339.8341741294, 140307.63209210814, 178736.16189773643, 112923.10388167897, 79687.66787171764, 31307.52928674901, 45662.23328211171, 91001.89208623147, 12550.785496020724, 35400.91467940431, 55899.52921322706, 14353.949232363473, 238270.60975458514, 193834.29621946224, 127431.06094460783, 159779.93861270894, 64110.16797490343, 142819.1140810729, 84770.15957075678, 284477.13569530915, 805741.7631189197, 353518.034362094, 164539.5115121234, 214035.57654802102, 101666.84047533748, 247014.5228826272, 211104.69084974477, 99146.62569134028, 220716.49409895204, 79892.72387941612, 75739.46644401852, 272905.1143812696, 425531.2371264517, 107602.45638668416, 185495.92411238875, 153081.88482284, 119878.87991854479, 150346.6736153131, 127439.20489974663, 119851.32420759105, 119069.37476988207, 138136.06042681684, 121946.11713895728, 121750.66221562588, 194794.07720053766, 99528.807546945, 86917.4894162594, 20711.96184354167, 16962.862465443995, 16061.698453926343, 14966.364835488648, 13173.92803670949, 12386.571937590876, 11880.986056038617, 10786.950375622397, 10601.586575778658, 10312.116379922101, 8268.000873931964, 7987.897804323809, 7706.8558008277805, 6530.393851951681, 6486.923134035457, 6294.631394891165, 5797.282196805425, 5718.193826310114, 5337.558192808395, 5198.248379755257, 5092.5408733338945, 5075.151985826044, 5030.159702731548, 4303.312309511777, 4236.577763533523, 4223.009748614787, 5709.715805616661, 54131.27242179987, 42258.2396881056, 72215.23515687566, 36271.89498833419, 65703.30840551534, 114897.17176359131, 10875.055273011558, 194997.9243101895, 104053.36425839552, 50461.21758927819, 43199.608560538174, 133700.09370658014, 29510.684891791425, 24831.43942265499, 518365.5065840521, 124262.91962823032, 25409.210349397785, 323587.7202466739, 63549.379658539154, 27628.91969993034, 60151.385122418564, 401821.3631347043, 360605.7482942643, 124800.85430365356, 173944.61557314484, 173485.14791490877, 155115.03847374834, 703743.2343473542, 105824.09271357779, 59284.986879089396, 89438.8078649585, 327557.6960174563, 174480.811659988, 345385.66359093884, 272567.94505555544, 97204.87173212752, 348587.1255765444, 198209.2414995695, 380230.62881171016, 389441.9592729582, 129020.04378002058, 181644.96847635534, 284538.6173081268, 168595.1994377832, 232099.28934408372, 213344.58681917292, 156404.24513047398, 292581.2320250737, 141581.25021665974, 233651.8009188084, 177867.2364174084, 194854.82214076185, 179296.64439410754, 163170.7646460093, 213647.67625022747, 74811.04645143727, 55237.579763583926, 48971.97149677547, 42247.576828201745, 41376.90237162748, 40474.906405648726, 73205.33033375634, 38442.66889654202, 32160.215962800383, 27594.047930590397, 27310.117654027792, 25427.665454413585, 24861.607986007893, 24652.45469460576, 23133.753857867097, 22914.251540584246, 22402.431767754155, 21681.80571227927, 20849.34984766555, 19444.064173800245, 18019.107866258968, 16401.96427391225, 15387.675820451537, 15375.776595318252, 14721.303336769908, 13574.141147667135, 13540.422329396564, 12914.51265444273, 12873.876341336265, 208880.16602570217, 41433.93428151056, 17196.94999682636, 33629.09949656513, 326684.1142194269, 349081.9554922473, 169889.04638613513, 54565.23555403249, 41082.74327483213, 48094.59727635031, 512007.0759099371, 74338.11207170929, 64627.750138801974, 41738.19065273523, 42841.30654398211, 81699.01605855342, 189961.2122869413, 215187.36091064537, 126952.65037051705, 101848.64882939724, 171373.1370683834, 69116.7461450165, 91951.44195892577, 183211.33402099836, 93936.7856571384, 82474.03857178046, 178725.04150784758, 113196.75147902902, 108279.18831734217, 230709.51169669116, 89226.21208519026, 116569.95783624488, 79185.83801995782, 169087.54234185762, 144566.20706084292, 103114.60028104996, 97142.03070367656, 116192.25808214286, 104767.46876516967, 84817.57695668898, 101996.26136510193, 98489.93972693254, 85307.97971190093, 60064.46929519103, 58265.396512845626, 49972.013977632196, 47239.05994264169, 45608.405598315876, 33381.22540777717, 28088.132999499092, 35169.595363580505, 21858.171532429416, 21691.810565708303, 21238.477080485398, 20836.443212971397, 20704.92408146628, 24899.24332476422, 17973.584217194973, 94472.66510147367, 12712.642034337572, 12706.225109360268, 13603.083806002478, 11327.05737034856, 11164.291511688618, 10854.938277617744, 10114.310234907194, 9053.180843109436, 8683.967121622483, 8184.341526131142, 8359.264356506917, 8012.790165631919, 7889.569998671104, 7688.469076351435, 115774.9874048513, 173557.87807372495, 80126.22586085579, 38186.13454403646, 24484.68571891161, 31687.82912226992, 48540.81706345598, 17754.905830538075, 22396.058142492686, 21901.853536596485, 12936.99287930387, 66534.43131041282, 47097.99096367964, 45635.33759942881, 15535.77692484092, 81197.47860781058, 130774.75230458978, 79532.13152039186, 65970.8869399152, 57262.84541620547, 199759.09718775065, 66037.75177527353, 112941.41010204752, 34175.09921737655, 30445.981192298575, 42378.13590179427, 163799.89006139585, 48638.46246459763, 76570.02488012445, 116796.74951852388, 99426.23697549714, 324068.76974717574, 161580.22243616063, 120415.83159308488, 127637.45645602002, 60974.05051966928, 98966.42891634267, 174159.14473925644, 305200.7202588877, 255077.96818113807, 321177.06639532105, 125312.85978245703, 137209.64785246347, 262546.87127572653, 371560.28042419406, 253985.21436214034, 107876.9932042525, 96204.76570213214, 248852.31050668794, 132090.84214816938, 122202.92532031467, 163795.8824651275, 120622.07967246696, 118918.87511315611, 115699.80521692017, 104553.08967864755, 113002.57365461931, 105456.5958960841, 64202.87314169426, 59869.32791726317, 40601.79159711577, 33328.594836641554, 25911.4911552977, 25572.065603860792, 19198.529208241373, 17464.46403431046, 16548.918373457, 16192.50595096021, 15554.777885305442, 14939.968599463213, 14180.355083264383, 14165.355242054164, 14105.224563629827, 12397.523327277408, 12392.006332972474, 11497.659608748234, 10627.441755484078, 10073.13702701908, 8568.860593237849, 7454.930200478222, 5688.073562628593, 5383.499456950869, 5339.055280350242, 5241.375300356617, 5181.468493354076, 5083.927122142987, 5012.988150330351, 4982.688452847709, 146434.2404584387, 52382.848716459695, 18997.679610945743, 13387.407978665144, 42138.35384632942, 14492.449171344691, 35122.684908610136, 56493.19367741105, 27944.21813200121, 21316.890879356055, 29298.066648834352, 32105.06593238988, 111305.6610289712, 34667.121611605035, 121641.30211641827, 102901.83242934152, 135146.4518725495, 55960.52012612081, 82091.60589275252, 67999.95860651214, 39332.26281505946, 73019.25983974713, 60949.58275916546, 147089.8891806357, 67598.33601151123, 157544.98915303257, 51044.32558909576, 130076.95966963793, 134087.74340113267, 201322.06356890503, 68227.44479945191, 42429.33745206936, 72274.00418723939, 101763.3144799796, 99940.07644008328, 266174.41369437386, 91272.89115363303, 137169.1041793223, 255462.28926795867, 59682.08933765273, 88885.93119515815, 101988.75072197765, 183474.35901747778, 144021.07614486522, 158150.60739993275, 125209.29644449857, 81590.70293345962, 106971.21849505315, 96855.69544947415, 99371.32812933798, 90565.39545156805, 99164.49464499624, 91582.543173821, 84361.53626757157, 86758.65114316707, 84484.63545686271, 63164.81825899209, 36483.98753333708, 18474.850736868924, 18417.340344494616, 18090.977850609674, 16456.09643887152, 14321.157864564188, 13425.519793032669, 11604.290741881136, 10319.5378501845, 9689.397509104867, 9512.193700096714, 8710.247808649963, 7941.547755285388, 7810.150204623457, 7425.575801393418, 7324.558135335459, 6417.614518963797, 6323.773402626362, 6113.863114759137, 6089.014870348851, 5976.094747837582, 5667.501165517507, 5624.962560777439, 5367.667212512227, 4392.385965951648, 5514.738456646684, 4355.797033968234, 4335.268718620279, 4327.850682181984, 52856.0217069046, 32429.042118622765, 23023.922307035784, 193925.22352069084, 104187.37171810427, 12637.224706321182, 7591.980759914496, 6928.065720952093, 6300.396632837722, 102086.18062095469, 30784.59923278392, 45741.91477412947, 32830.52448077171, 29264.54106110416, 25360.348688018417, 55611.03906458531, 14591.55454778655, 118862.36012131412, 16794.41116424983, 32014.534250679255, 18904.351780159202, 283380.153995601, 114899.90606384324, 123882.47156116771, 246337.99227401978, 26619.934075086912, 143806.1881632068, 92291.93976732259, 25029.549993688513, 191401.3427833886, 27949.114300973226, 60825.2109418559, 97711.58300994293, 158967.25472008018, 120672.32990285807, 138913.0528505352, 136449.71100570064, 219914.46428511248, 68327.37341972496, 302285.1124090609, 239532.4750348897, 121057.57626912885, 109929.70654540547, 123955.80263892972, 52992.467535457174, 116735.14912197544, 98197.90381692674, 77391.58864838073, 80062.8532792878, 73625.0367048089, 76099.49704921589, 70804.27896297468, 71637.19581762607, 70967.29844103697, 41002.72603774478, 27232.323942838902, 17444.548161181236, 15200.222935369036, 12049.983959270294, 11135.404754308935, 10917.235831632397, 10950.158918086965, 8095.767684703676, 8062.107198479058, 6989.956810960743, 6598.629901298222, 6282.82736863061, 6206.933620166185, 6001.141999640836, 5958.480938080882, 5435.7155415373145, 5346.092255551033, 4914.211380666017, 4714.506666166022, 4656.466319784462, 4589.571131901902, 4590.302823203786, 4516.931881876146, 4465.07481389426, 4148.099694707063, 4091.6117158741986, 3917.28920138251, 3881.580718255556, 3858.7283770211793, 96593.79303882648, 44137.69049620236, 13020.181776942176, 13388.353796557563, 8993.681520545026, 95594.1959385192, 11074.751944261172, 5194.745989632132, 5502.856865135469, 41089.21537470836, 26214.825086365476, 24070.93397786776, 40537.04397968449, 39412.05130973741, 35733.90662940844, 34811.737848125296, 12483.428618640337, 17326.36540896433, 16747.54419820723, 14164.161483591275, 151543.74936770112, 30792.240203205653, 32824.96796057622, 17035.606933514297, 53018.32352795674, 26519.31074879165, 85005.95188735404, 21335.996134556506, 24861.423845022433, 29414.710274304936, 41501.54138820503, 47982.320971608904, 70515.14110999674, 111909.11078092728, 90395.66993558496, 35308.181162166766, 72856.8111644693, 47900.41989988119, 28700.708507888365, 41389.46199583348, 86448.49388122727, 43949.69519307822, 157835.89429954634, 100545.85822827154, 79473.87941794119, 59185.736415638334, 118431.64680158305, 149060.07948865736, 110013.41580923967, 61658.18277468477, 98684.81701626931, 71216.4096344824, 64185.62921712642, 56177.77395692068, 57937.88945176174, 56289.289218320606, 45017.79122503025, 44081.43589297978, 45234.11127560575, 46881.70144597388, 47862.08048451456, 46382.413300032655], \"Total\": [2030552.0, 1333355.0, 1008133.0, 1109985.0, 571691.0, 823200.0, 1067575.0, 566380.0, 779433.0, 753576.0, 596254.0, 872684.0, 895342.0, 1512979.0, 799915.0, 339524.0, 458006.0, 340194.0, 363126.0, 507748.0, 786199.0, 339306.0, 718734.0, 305332.0, 538738.0, 464479.0, 566370.0, 535171.0, 300220.0, 381627.0, 58646.09249392144, 20290.345646470683, 19155.235230673123, 14285.919169473977, 12951.100846918464, 12895.425104989818, 11890.91342773537, 11518.45029551108, 10528.232668532375, 8684.782607541872, 8768.591556651523, 8071.924154675925, 7607.03384586908, 6811.2973178708235, 6768.796264528909, 6726.1407435556275, 6526.231548831287, 6511.398232058133, 6258.402114580792, 5875.374089557735, 5680.31180700362, 5592.684862766789, 5285.692189564358, 5123.711750897675, 5047.007645918367, 5005.938376678898, 4368.413404824567, 4265.9923667250605, 3970.6684909148344, 3949.38865365586, 44571.199422911035, 43711.44776627668, 12417.424041025613, 8973.603672888488, 35585.85650121153, 5476.042296411277, 5215.264423359803, 117604.58244824056, 6180.920082308901, 24378.09803171875, 12843.900102136697, 61420.29069412354, 16590.091754572564, 55435.89974516094, 73524.10150248648, 28150.42470176776, 14225.796496948613, 157195.7421351657, 175704.3454374025, 33386.5580299927, 82972.8474652806, 58442.528917498195, 19525.77235365321, 191027.09049710404, 266639.62361566134, 37183.23682070477, 439106.87345137843, 39339.78552924754, 51813.0778493903, 120954.97709152823, 60404.231015060046, 87365.60421330549, 215864.05954287405, 84386.4641634957, 386859.544376539, 102442.10207360197, 252448.90860321562, 420405.98931398615, 73062.56104266825, 628393.9300495381, 587992.6794448897, 136983.20214990186, 1309158.3807867947, 262789.9623585949, 233993.70965637057, 314951.32791576884, 470507.51062076737, 293269.10034600634, 703133.6910882606, 317066.72495131864, 231415.37461695616, 469632.53690527985, 240209.61672716023, 340157.75160294154, 445422.36016811786, 721990.4078687117, 280279.5636321358, 536200.3456647369, 282577.6006565629, 408485.4497552536, 525030.5791328371, 381206.67928886693, 481483.3732795007, 418779.2508097658, 549749.2391125492, 409377.51071683096, 437784.7605002419, 562217.6420945999, 744051.0974909733, 462000.4155240903, 105815.8299349893, 39845.24581768446, 28599.73443716474, 25381.58325244304, 19368.467782528773, 18804.958668396237, 17520.07496955687, 17321.01391403795, 13721.62676483666, 11214.06809417947, 10681.049880198152, 10035.54842126993, 8992.86461741414, 8737.637002808677, 8483.306182896577, 8656.618172270415, 6990.409573654621, 6911.046458176875, 6342.480380420889, 6104.287760990538, 5719.371965024612, 5607.866223146842, 5569.749187294064, 6703.286365170107, 5485.863795363659, 5476.419650710949, 26642.603147486952, 5337.670815553983, 5277.910822166302, 5354.477320052942, 161375.48773840503, 97985.7756004622, 31617.533327053574, 33199.22321781479, 19460.966268208216, 13382.093434090326, 19314.824776045298, 84161.5375777626, 48624.810357990966, 22115.649837062574, 102895.95367462095, 152992.50636243043, 39787.41174537427, 19850.627048453123, 104215.36997929635, 176716.92617908068, 317311.9936967895, 29141.677072103987, 62145.6466479833, 185804.43606553244, 83286.11363824042, 64677.20963696454, 48399.71457649741, 54541.718466479724, 85897.14305310488, 35785.45946605876, 108956.87518727877, 69251.72460509345, 56806.64965374862, 275345.7809983413, 67048.3213915842, 98720.44859172286, 376457.9940526243, 110319.50776499948, 143827.32148189584, 296685.03857499675, 799915.8533541884, 559512.85076703, 237312.10268612712, 525030.5791328371, 381206.67928886693, 173497.77746100936, 349746.3230479376, 500290.50169387844, 391213.0235061243, 1512979.5718193795, 511565.0728856025, 585976.568247208, 334307.6049295895, 261712.67501435912, 451103.3626899377, 624093.5494221504, 559580.0668953384, 422285.5898409139, 1309158.3807867947, 607788.383515306, 362692.7721796772, 314951.32791576884, 252400.2245011712, 23661.458875665594, 21329.71996579465, 19761.224690126972, 12153.209558924997, 11996.549032972714, 10808.548210133036, 10001.43162913536, 8991.34063460594, 8975.490071577207, 8282.566129624327, 6528.583249809162, 6279.7693701596545, 6570.855328585377, 5455.911571007833, 5006.132119302502, 4744.307273428258, 4178.235250652065, 3911.9100987434144, 3750.4762347411774, 3605.5689969766377, 3547.126415821778, 3518.726554788417, 6630.571769297679, 3422.312835799319, 3398.2372895940557, 4556.7814610000905, 3267.55976993414, 3246.662247967642, 3245.9614038720206, 3165.020607479244, 85134.56214059913, 35824.51801596238, 29610.046797048602, 24456.255588159227, 28074.031892208062, 43731.57258507003, 10965.214635161044, 12724.974131723, 13541.934119011932, 9939.501756066653, 8545.603547401513, 26519.109209934086, 16213.721508236693, 5887.256417267531, 64457.34921654814, 56882.18180922676, 53485.37656909615, 36121.634471522826, 22162.331849802435, 42501.51712746193, 11467.291518927415, 151787.06878629187, 2030552.7573816252, 93932.50817944127, 128573.9607220617, 110926.56459784483, 240661.65837663156, 183919.87157199785, 141983.44039734072, 219604.12490365768, 377028.9531288188, 51133.828189736094, 1067575.481509556, 779433.8833451663, 351131.60749809846, 786199.8970638004, 216067.25151198977, 173834.92780092513, 137890.88580302763, 515885.86115644954, 338268.4695393357, 169553.3092512889, 454822.29205029295, 178902.69028057175, 101491.09127435996, 505167.7843659119, 134609.92035474628, 284150.4671693291, 375345.5363308708, 329479.5491418313, 392425.55695775046, 159856.74402950925, 753576.7211981716, 270014.79484245443, 478093.524854989, 413778.49755134695, 531104.6235225108, 554299.4716132262, 690571.6169674979, 452631.9712129886, 378840.9835623397, 359607.18945840764, 1008133.9507267035, 607788.383515306, 140600.1969460043, 339524.30849439156, 40323.143449391355, 38228.21565478972, 37026.17630678318, 29105.805657307148, 23159.95282498596, 22026.28353687936, 20267.106421461252, 14020.43977250377, 13374.785748426137, 11580.201321427137, 10672.78993495899, 10208.290478367775, 9084.752232605866, 7568.8405899686795, 7325.494738880055, 7285.683479500001, 6718.535812354528, 6620.106030301706, 6605.556550571955, 6082.37986691192, 5886.632954148231, 21813.947788326885, 5285.928497867408, 5939.960745915546, 4783.521530905484, 27375.056798193425, 4629.166100397775, 4461.6372440815385, 1333355.1004285794, 155345.280878111, 300220.29350435646, 140766.17599117078, 180308.20738858765, 113721.75460680302, 80003.73351983586, 31323.940072241763, 45977.42390196695, 92548.86678128637, 12553.572154019848, 35792.16275440218, 57020.6955328545, 14442.650934461688, 254591.66460522418, 209072.36905589327, 135904.64229967532, 172016.7037122418, 68345.82146469802, 159254.46018635444, 92733.56070238224, 337433.3838244062, 1109985.1260518394, 538738.6549331914, 229156.83673587206, 314206.88143748126, 131576.73798783534, 391084.7181346619, 322973.2903380678, 132723.33737450943, 405861.2031626396, 103754.27103322315, 99981.96774720271, 724315.9838488741, 1512979.5718193795, 173037.97417098057, 464479.41341295524, 422285.5898409139, 228590.7865045356, 420890.2849279135, 297334.31015532144, 354855.20869403123, 352507.77792938316, 1309158.3807867947, 448455.4555495111, 470507.51062076737, 194794.7489778869, 99529.47458240487, 86918.15657148461, 20712.62891780534, 16963.529518415904, 16062.36548543046, 14967.031842207518, 13174.595111146595, 12387.238941822887, 11881.6530688026, 10787.61738203062, 10602.253578545204, 10312.783393230007, 8268.667934206893, 7988.5669601096015, 7707.522921361661, 6531.060894465949, 6487.590192282567, 6295.302035216106, 5797.949214232238, 5718.860836003115, 5338.225491623152, 5198.916949253155, 5093.207927045281, 5075.819090096744, 5030.8267134533135, 4303.979353487426, 4237.244791318046, 4223.676919528838, 5710.638092349134, 54162.92444448533, 42270.885712512696, 72741.4578682865, 36298.5856213017, 66283.40658411577, 117977.53539426529, 10907.283645950956, 201741.5199950306, 106977.84935628036, 51677.276596213895, 44365.73468625263, 141107.6355465115, 30402.096032102316, 25497.416284268576, 571691.6831243897, 135654.9283409556, 26475.70807105369, 381627.4248392063, 68820.02725412448, 29081.56959048847, 66719.56143605273, 507748.1244227034, 458006.2442889442, 147334.9950216895, 211612.8488671162, 213394.04744930487, 189943.9402472382, 1008133.9507267035, 126353.0448652919, 67150.91928215942, 107036.17135449515, 468405.1830806205, 233112.5763754143, 535171.0245987383, 409311.17830056214, 118931.58554955147, 566370.5734580045, 284021.94847799675, 718734.7115552307, 753576.7211981716, 182167.7611769907, 303221.0876022763, 618590.5927479116, 276724.8161530464, 463742.97267843253, 413778.49755134695, 252083.28567450095, 823200.0728162401, 215675.9449701038, 692473.6629538826, 415916.3443207932, 596254.6578507135, 505327.74731042096, 375896.5041669789, 213648.4433423051, 74811.81411977569, 55238.34685670858, 48972.73864714607, 42248.343963356034, 41377.6695415384, 40475.67365202459, 73206.76764391543, 38443.43603204226, 32160.98313027529, 27594.815032274553, 27310.884766438892, 25428.43267949294, 24862.375126699102, 24653.221892504054, 23134.520964395582, 22915.01865801291, 22403.19885737217, 21682.57287018847, 20850.11693899113, 19444.83289250222, 18019.87615077253, 16402.731420184515, 15388.442916719736, 15376.543729472896, 14722.070427238512, 13574.908240190454, 13541.18942150772, 12915.279790844423, 12874.643563371068, 211456.7935528376, 41454.68740025604, 17238.19889459575, 33940.07671080251, 339306.9984930785, 363126.78670269146, 175624.27494944338, 55475.8430771272, 41770.29219794292, 49075.59509523285, 566380.884810299, 77627.62693835305, 67174.35055691046, 42790.3391507821, 44137.81078728444, 87210.40378973541, 215246.00075029282, 247929.37708441916, 141069.44642320453, 112497.54886506093, 199266.16687066422, 74698.95481420498, 102499.51611828535, 221883.04756594312, 111258.83018929602, 95957.5650361807, 244950.68246234368, 144910.0101037553, 138894.6387315183, 377034.58435512456, 117913.41360317594, 190611.86024153323, 107048.11139262885, 505327.74731042096, 447532.96788323025, 243317.89271458425, 266107.8014088102, 577321.8625408427, 568691.4929299412, 172206.14383083687, 799915.8533541884, 744051.0974909733, 222353.04169089795, 60065.22197516969, 58266.20255790642, 49972.765761027644, 47239.819665371266, 45609.15733841263, 33381.97715771264, 28088.884753510814, 35170.751725947885, 21858.923308655423, 21692.562529042443, 21239.22888444707, 20837.194952439844, 20705.675853161618, 24900.241339078377, 17974.33602335715, 94477.46136965639, 12713.394065713243, 12706.976896467817, 13603.93188897133, 11327.809111175155, 11165.043260758477, 10855.69001980435, 10115.062006599659, 9053.93291022256, 8684.7188493426, 8185.09326302266, 8360.042016489288, 8013.541928203237, 7890.322201667668, 7689.220786463128, 115800.0872593069, 174423.66083034352, 80677.98856900485, 38348.35048023263, 24536.096661341482, 31837.25056281626, 48991.18083716532, 17758.289097468125, 22473.862552121893, 21974.671655687092, 12945.418655750966, 68046.02264748239, 48011.308706539414, 46702.50718036588, 15576.823983416989, 84354.84325986283, 141066.5616840022, 84225.96671710552, 69458.67534967704, 60288.05795396007, 226173.52100970474, 70906.22808353424, 128719.06203075292, 35410.2690505903, 31289.822317168397, 45087.888740138485, 203933.5442946652, 53488.898595816696, 90858.72917448446, 155624.7822377511, 133280.90844256835, 596254.6578507135, 263135.1419641782, 180400.8645238113, 207684.84720635338, 73619.98497036967, 147678.6930612806, 346536.71495332394, 817419.5089318685, 624093.5494221504, 895342.5398809501, 213529.67429073184, 250245.63044494664, 823200.0728162401, 1512979.5718193795, 872684.1452598289, 178710.95200429994, 151626.77374436878, 1309158.3807867947, 335072.6269835031, 278424.74943703314, 724315.9838488741, 340124.91907567304, 690571.6169674979, 585976.568247208, 289054.62972657004, 1109985.1260518394, 744051.0974909733, 64203.59801134887, 59870.05229972363, 40602.51599509111, 33329.31918718733, 25912.21556433716, 25572.789996488315, 19199.253632820586, 17465.18934168115, 16549.642701734134, 16193.230331150338, 15555.50228002135, 14940.698164891648, 14181.079748072629, 14166.079727147702, 14105.94897012227, 12398.247724998011, 12392.737599729267, 11498.3840059689, 10628.1660429716, 10073.861357728967, 8569.584901521936, 7455.654870747385, 5688.799091161814, 5384.223796603685, 5339.779642552863, 5242.099592113873, 5182.1928785330265, 5084.651496820097, 5013.712534598186, 4983.412826290326, 147130.68170373945, 52803.32744704034, 19016.301973547153, 13393.170512140166, 42822.074184720674, 14592.372724023238, 35700.244335549396, 57710.75639300104, 28538.09760670646, 21672.04768739526, 30069.23438780404, 33223.68887253042, 122004.36924181532, 36978.524486864946, 141200.01668562522, 121649.44854793829, 163930.91783235566, 62977.5546456824, 95784.04735233028, 77962.83723420365, 43490.56515054885, 87257.71667181535, 71800.48607510132, 198189.91282265188, 82739.9297200386, 224389.55782641275, 61323.41454774939, 191862.01119505515, 202285.83828969256, 337874.5309660815, 89535.08027856819, 49844.9282086538, 105843.76132628805, 175259.78100526874, 176229.27788852635, 823200.0728162401, 178567.7461041746, 359607.18945840764, 2030552.7573816252, 92294.93793009184, 238828.87072296382, 335072.6269835031, 1512979.5718193795, 817419.5089318685, 1067575.481509556, 718734.7115552307, 203882.01497251034, 744051.0974909733, 535171.0245987383, 779433.8833451663, 463742.97267843253, 895342.5398809501, 514578.77315170044, 345988.74965154164, 607788.383515306, 531104.6235225108, 63165.548392854565, 36484.716500943054, 18475.579698345726, 18418.069913102234, 18091.706862912964, 16456.870903465904, 14321.88710672133, 13426.249251148174, 11605.01966348668, 10320.268419876522, 9690.132951752505, 9512.92264815304, 8710.976773845205, 7942.276829883475, 7810.879164739697, 7426.304754519062, 7325.287120764019, 6418.343493364761, 6324.502370225119, 6114.592643700064, 6089.7442915619185, 5976.824036018749, 5668.230162308531, 5625.6923718924745, 5368.39623880143, 4393.115004553577, 5515.66054573319, 4356.525992364947, 4335.997651604945, 4328.580117276154, 52893.68540577696, 32471.584257915263, 23029.36544697919, 198753.36365251438, 106279.08367458325, 12675.805516189354, 7606.809123922874, 6936.095381823517, 6301.924034330393, 106106.0022331402, 31390.208435428136, 47055.79855709508, 33596.354920335725, 29922.98419156812, 25964.199780273208, 58393.62928485034, 14856.51727912293, 131830.849228973, 17236.96317211589, 34001.97250622732, 19606.864632143897, 340194.4381687322, 132952.84036027011, 144624.35012443282, 305332.3070986119, 28256.808725577284, 181941.04430279438, 112641.52513286442, 26726.556224296797, 260749.93878278526, 30282.02561450558, 74268.14448103607, 129170.7267852216, 233898.91463464295, 169375.70386120063, 214238.31596927144, 216795.58266414725, 464479.41341295524, 99393.82786729622, 872684.1452598289, 895342.5398809501, 354855.20869403123, 322973.2903380678, 405861.2031626396, 86914.43262108824, 554299.4716132262, 744051.0974909733, 374731.30276079447, 514578.77315170044, 392904.88025337696, 817419.5089318685, 559580.0668953384, 1109985.1260518394, 1512979.5718193795, 41003.50277419426, 27233.09935516831, 17445.324304517406, 15200.99831845474, 12050.759337136073, 11136.182076297653, 10918.011151226947, 10951.174238181902, 8096.543049923178, 8062.883078322722, 6990.733102277444, 6599.405257300827, 6283.602877251252, 6207.708906883944, 6001.917297013965, 5959.256272523368, 5436.4926013794975, 5346.935421157124, 4914.986763193313, 4715.281968821795, 4657.241788544062, 4590.346479728877, 4591.078350782785, 4517.707198788659, 4465.850130906285, 4148.875053491068, 4092.3870043521047, 3918.0644975171317, 3882.3560288362146, 3859.50408225658, 96805.78534455334, 44673.97433146252, 13024.041774446538, 13396.343271158756, 9006.594470472292, 98056.58732778109, 11125.54552548926, 5198.6917162532845, 5512.215958222444, 42114.981913803, 26798.495263958783, 24655.69483396587, 41981.12217420652, 40865.42095242945, 37015.02688439445, 36070.006653590644, 12670.544819728475, 17751.9412967492, 17141.792327928302, 14450.667171987843, 173151.00180112975, 32967.1187437616, 35423.63812418839, 17743.951355293404, 60614.30587484272, 29341.17254300346, 110422.07323100603, 23330.120311413237, 28635.511936107232, 35148.949514920314, 53175.49695510049, 63765.72384644662, 102081.3413197732, 182041.52652340173, 140744.23397724683, 44460.72934137742, 111399.04071038091, 66114.19401068754, 34432.27145982882, 57795.04463988618, 178350.97462980455, 68642.64053257159, 585976.568247208, 272946.3123669172, 187368.7587154786, 123940.95548882696, 500290.50169387844, 799915.8533541884, 488519.8590312965, 142622.01246892026, 538738.6549331914, 447532.96788323025, 568691.4929299412, 337168.7996852663, 628393.9300495381, 503964.3534405058, 99001.7092969222, 88754.01400969524, 127166.51695874837, 225063.05146380299, 391084.7181346619, 294440.4586645796], \"Category\": [\"Default\", \"Default\", \"Default\", \"Default\", \"Default\", \"Default\", \"Default\", \"Default\", \"Default\", \"Default\", \"Default\", \"Default\", \"Default\", \"Default\", \"Default\", \"Default\", \"Default\", \"Default\", \"Default\", \"Default\", \"Default\", \"Default\", \"Default\", \"Default\", \"Default\", \"Default\", \"Default\", \"Default\", \"Default\", \"Default\", \"Topic1\", \"Topic1\", \"Topic1\", \"Topic1\", \"Topic1\", \"Topic1\", \"Topic1\", \"Topic1\", \"Topic1\", \"Topic1\", \"Topic1\", \"Topic1\", \"Topic1\", \"Topic1\", \"Topic1\", \"Topic1\", \"Topic1\", \"Topic1\", \"Topic1\", \"Topic1\", \"Topic1\", \"Topic1\", \"Topic1\", \"Topic1\", \"Topic1\", \"Topic1\", \"Topic1\", \"Topic1\", \"Topic1\", \"Topic1\", \"Topic1\", \"Topic1\", \"Topic1\", \"Topic1\", \"Topic1\", \"Topic1\", \"Topic1\", \"Topic1\", \"Topic1\", \"Topic1\", \"Topic1\", \"Topic1\", \"Topic1\", \"Topic1\", \"Topic1\", \"Topic1\", \"Topic1\", \"Topic1\", \"Topic1\", \"Topic1\", \"Topic1\", \"Topic1\", \"Topic1\", \"Topic1\", \"Topic1\", \"Topic1\", \"Topic1\", \"Topic1\", \"Topic1\", \"Topic1\", \"Topic1\", \"Topic1\", \"Topic1\", \"Topic1\", \"Topic1\", \"Topic1\", \"Topic1\", \"Topic1\", \"Topic1\", \"Topic1\", \"Topic1\", \"Topic1\", \"Topic1\", \"Topic1\", \"Topic1\", \"Topic1\", \"Topic1\", \"Topic1\", \"Topic1\", \"Topic1\", \"Topic1\", \"Topic1\", \"Topic1\", \"Topic1\", \"Topic1\", \"Topic1\", \"Topic1\", \"Topic1\", \"Topic1\", \"Topic1\", \"Topic1\", \"Topic1\", \"Topic1\", \"Topic1\", \"Topic1\", \"Topic1\", \"Topic1\", \"Topic1\", \"Topic1\", \"Topic1\", \"Topic2\", \"Topic2\", \"Topic2\", \"Topic2\", \"Topic2\", \"Topic2\", \"Topic2\", \"Topic2\", \"Topic2\", \"Topic2\", \"Topic2\", \"Topic2\", \"Topic2\", \"Topic2\", \"Topic2\", \"Topic2\", \"Topic2\", \"Topic2\", \"Topic2\", \"Topic2\", \"Topic2\", \"Topic2\", \"Topic2\", \"Topic2\", \"Topic2\", \"Topic2\", \"Topic2\", \"Topic2\", \"Topic2\", \"Topic2\", \"Topic2\", \"Topic2\", \"Topic2\", \"Topic2\", \"Topic2\", \"Topic2\", \"Topic2\", \"Topic2\", \"Topic2\", \"Topic2\", \"Topic2\", \"Topic2\", \"Topic2\", \"Topic2\", \"Topic2\", \"Topic2\", \"Topic2\", \"Topic2\", \"Topic2\", \"Topic2\", \"Topic2\", \"Topic2\", \"Topic2\", \"Topic2\", \"Topic2\", \"Topic2\", \"Topic2\", \"Topic2\", \"Topic2\", \"Topic2\", \"Topic2\", \"Topic2\", \"Topic2\", \"Topic2\", \"Topic2\", \"Topic2\", \"Topic2\", \"Topic2\", \"Topic2\", \"Topic2\", \"Topic2\", \"Topic2\", \"Topic2\", \"Topic2\", \"Topic2\", \"Topic2\", \"Topic2\", \"Topic2\", \"Topic2\", \"Topic2\", \"Topic2\", \"Topic2\", \"Topic2\", \"Topic2\", \"Topic2\", \"Topic2\", \"Topic2\", \"Topic2\", \"Topic2\", \"Topic3\", \"Topic3\", \"Topic3\", \"Topic3\", \"Topic3\", \"Topic3\", \"Topic3\", \"Topic3\", \"Topic3\", \"Topic3\", \"Topic3\", \"Topic3\", \"Topic3\", \"Topic3\", \"Topic3\", \"Topic3\", \"Topic3\", \"Topic3\", \"Topic3\", \"Topic3\", \"Topic3\", \"Topic3\", \"Topic3\", \"Topic3\", \"Topic3\", \"Topic3\", \"Topic3\", \"Topic3\", \"Topic3\", \"Topic3\", \"Topic3\", \"Topic3\", \"Topic3\", \"Topic3\", \"Topic3\", \"Topic3\", \"Topic3\", \"Topic3\", \"Topic3\", \"Topic3\", \"Topic3\", \"Topic3\", \"Topic3\", \"Topic3\", \"Topic3\", \"Topic3\", \"Topic3\", \"Topic3\", \"Topic3\", \"Topic3\", \"Topic3\", \"Topic3\", \"Topic3\", \"Topic3\", \"Topic3\", \"Topic3\", \"Topic3\", \"Topic3\", \"Topic3\", \"Topic3\", \"Topic3\", \"Topic3\", \"Topic3\", \"Topic3\", \"Topic3\", \"Topic3\", \"Topic3\", \"Topic3\", \"Topic3\", \"Topic3\", \"Topic3\", \"Topic3\", \"Topic3\", \"Topic3\", \"Topic3\", \"Topic3\", \"Topic3\", \"Topic3\", \"Topic3\", \"Topic3\", \"Topic3\", \"Topic3\", \"Topic3\", \"Topic3\", \"Topic3\", \"Topic3\", \"Topic3\", \"Topic3\", \"Topic3\", \"Topic3\", \"Topic3\", \"Topic3\", \"Topic3\", \"Topic3\", \"Topic4\", \"Topic4\", \"Topic4\", \"Topic4\", \"Topic4\", \"Topic4\", \"Topic4\", \"Topic4\", \"Topic4\", \"Topic4\", \"Topic4\", \"Topic4\", \"Topic4\", \"Topic4\", \"Topic4\", \"Topic4\", \"Topic4\", \"Topic4\", \"Topic4\", \"Topic4\", \"Topic4\", \"Topic4\", \"Topic4\", \"Topic4\", \"Topic4\", \"Topic4\", \"Topic4\", \"Topic4\", \"Topic4\", \"Topic4\", \"Topic4\", \"Topic4\", \"Topic4\", \"Topic4\", \"Topic4\", \"Topic4\", \"Topic4\", \"Topic4\", \"Topic4\", \"Topic4\", \"Topic4\", \"Topic4\", \"Topic4\", \"Topic4\", \"Topic4\", \"Topic4\", \"Topic4\", \"Topic4\", \"Topic4\", \"Topic4\", \"Topic4\", \"Topic4\", \"Topic4\", \"Topic4\", \"Topic4\", \"Topic4\", \"Topic4\", \"Topic4\", \"Topic4\", \"Topic4\", \"Topic4\", \"Topic4\", \"Topic4\", \"Topic4\", \"Topic4\", \"Topic4\", \"Topic4\", \"Topic4\", \"Topic4\", \"Topic4\", \"Topic4\", \"Topic4\", \"Topic4\", \"Topic4\", \"Topic4\", \"Topic4\", \"Topic5\", \"Topic5\", \"Topic5\", \"Topic5\", \"Topic5\", \"Topic5\", \"Topic5\", \"Topic5\", \"Topic5\", \"Topic5\", \"Topic5\", \"Topic5\", \"Topic5\", \"Topic5\", \"Topic5\", \"Topic5\", \"Topic5\", \"Topic5\", \"Topic5\", \"Topic5\", \"Topic5\", \"Topic5\", \"Topic5\", \"Topic5\", \"Topic5\", \"Topic5\", \"Topic5\", \"Topic5\", \"Topic5\", \"Topic5\", \"Topic5\", \"Topic5\", \"Topic5\", \"Topic5\", \"Topic5\", \"Topic5\", \"Topic5\", \"Topic5\", \"Topic5\", \"Topic5\", \"Topic5\", \"Topic5\", \"Topic5\", \"Topic5\", \"Topic5\", \"Topic5\", \"Topic5\", \"Topic5\", \"Topic5\", \"Topic5\", \"Topic5\", \"Topic5\", \"Topic5\", \"Topic5\", \"Topic5\", \"Topic5\", \"Topic5\", \"Topic5\", \"Topic5\", \"Topic5\", \"Topic5\", \"Topic5\", \"Topic5\", \"Topic5\", \"Topic5\", \"Topic5\", \"Topic5\", \"Topic5\", \"Topic5\", \"Topic5\", \"Topic5\", \"Topic5\", \"Topic5\", \"Topic5\", \"Topic5\", \"Topic5\", \"Topic5\", \"Topic5\", \"Topic5\", \"Topic5\", \"Topic5\", \"Topic5\", \"Topic5\", \"Topic5\", \"Topic6\", \"Topic6\", \"Topic6\", \"Topic6\", \"Topic6\", \"Topic6\", \"Topic6\", \"Topic6\", \"Topic6\", \"Topic6\", \"Topic6\", \"Topic6\", \"Topic6\", \"Topic6\", \"Topic6\", \"Topic6\", \"Topic6\", \"Topic6\", \"Topic6\", \"Topic6\", \"Topic6\", \"Topic6\", \"Topic6\", \"Topic6\", \"Topic6\", \"Topic6\", \"Topic6\", \"Topic6\", \"Topic6\", \"Topic6\", \"Topic6\", \"Topic6\", \"Topic6\", \"Topic6\", \"Topic6\", \"Topic6\", \"Topic6\", \"Topic6\", \"Topic6\", \"Topic6\", \"Topic6\", \"Topic6\", \"Topic6\", \"Topic6\", \"Topic6\", \"Topic6\", \"Topic6\", \"Topic6\", \"Topic6\", \"Topic6\", \"Topic6\", \"Topic6\", \"Topic6\", \"Topic6\", \"Topic6\", \"Topic6\", \"Topic6\", \"Topic6\", \"Topic6\", \"Topic6\", \"Topic6\", \"Topic6\", \"Topic6\", \"Topic6\", \"Topic6\", \"Topic6\", \"Topic6\", \"Topic6\", \"Topic6\", \"Topic6\", \"Topic6\", \"Topic6\", \"Topic6\", \"Topic7\", \"Topic7\", \"Topic7\", \"Topic7\", \"Topic7\", \"Topic7\", \"Topic7\", \"Topic7\", \"Topic7\", \"Topic7\", \"Topic7\", \"Topic7\", \"Topic7\", \"Topic7\", \"Topic7\", \"Topic7\", \"Topic7\", \"Topic7\", \"Topic7\", \"Topic7\", \"Topic7\", \"Topic7\", \"Topic7\", \"Topic7\", \"Topic7\", \"Topic7\", \"Topic7\", \"Topic7\", \"Topic7\", \"Topic7\", \"Topic7\", \"Topic7\", \"Topic7\", \"Topic7\", \"Topic7\", \"Topic7\", \"Topic7\", \"Topic7\", \"Topic7\", \"Topic7\", \"Topic7\", \"Topic7\", \"Topic7\", \"Topic7\", \"Topic7\", \"Topic7\", \"Topic7\", \"Topic7\", \"Topic7\", \"Topic7\", \"Topic7\", \"Topic7\", \"Topic7\", \"Topic7\", \"Topic7\", \"Topic7\", \"Topic7\", \"Topic7\", \"Topic7\", \"Topic7\", \"Topic7\", \"Topic7\", \"Topic7\", \"Topic7\", \"Topic7\", \"Topic7\", \"Topic7\", \"Topic7\", \"Topic7\", \"Topic7\", \"Topic7\", \"Topic7\", \"Topic7\", \"Topic7\", \"Topic7\", \"Topic7\", \"Topic7\", \"Topic7\", \"Topic7\", \"Topic7\", \"Topic7\", \"Topic7\", \"Topic7\", \"Topic7\", \"Topic7\", \"Topic7\", \"Topic7\", \"Topic7\", \"Topic8\", \"Topic8\", \"Topic8\", \"Topic8\", \"Topic8\", \"Topic8\", \"Topic8\", \"Topic8\", \"Topic8\", \"Topic8\", \"Topic8\", \"Topic8\", \"Topic8\", \"Topic8\", \"Topic8\", \"Topic8\", \"Topic8\", \"Topic8\", \"Topic8\", \"Topic8\", \"Topic8\", \"Topic8\", \"Topic8\", \"Topic8\", \"Topic8\", \"Topic8\", \"Topic8\", \"Topic8\", \"Topic8\", \"Topic8\", \"Topic8\", \"Topic8\", \"Topic8\", \"Topic8\", \"Topic8\", \"Topic8\", \"Topic8\", \"Topic8\", \"Topic8\", \"Topic8\", \"Topic8\", \"Topic8\", \"Topic8\", \"Topic8\", \"Topic8\", \"Topic8\", \"Topic8\", \"Topic8\", \"Topic8\", \"Topic8\", \"Topic8\", \"Topic8\", \"Topic8\", \"Topic8\", \"Topic8\", \"Topic8\", \"Topic8\", \"Topic8\", \"Topic8\", \"Topic8\", \"Topic8\", \"Topic8\", \"Topic8\", \"Topic8\", \"Topic8\", \"Topic8\", \"Topic8\", \"Topic8\", \"Topic8\", \"Topic8\", \"Topic8\", \"Topic8\", \"Topic8\", \"Topic8\", \"Topic8\", \"Topic8\", \"Topic8\", \"Topic8\", \"Topic8\", \"Topic8\", \"Topic8\", \"Topic8\", \"Topic8\", \"Topic8\", \"Topic8\", \"Topic8\", \"Topic9\", \"Topic9\", \"Topic9\", \"Topic9\", \"Topic9\", \"Topic9\", \"Topic9\", \"Topic9\", \"Topic9\", \"Topic9\", \"Topic9\", \"Topic9\", \"Topic9\", \"Topic9\", \"Topic9\", \"Topic9\", \"Topic9\", \"Topic9\", \"Topic9\", \"Topic9\", \"Topic9\", \"Topic9\", \"Topic9\", \"Topic9\", \"Topic9\", \"Topic9\", \"Topic9\", \"Topic9\", \"Topic9\", \"Topic9\", \"Topic9\", \"Topic9\", \"Topic9\", \"Topic9\", \"Topic9\", \"Topic9\", \"Topic9\", \"Topic9\", \"Topic9\", \"Topic9\", \"Topic9\", \"Topic9\", \"Topic9\", \"Topic9\", \"Topic9\", \"Topic9\", \"Topic9\", \"Topic9\", \"Topic9\", \"Topic9\", \"Topic9\", \"Topic9\", \"Topic9\", \"Topic9\", \"Topic9\", \"Topic9\", \"Topic9\", \"Topic9\", \"Topic9\", \"Topic9\", \"Topic9\", \"Topic9\", \"Topic9\", \"Topic9\", \"Topic9\", \"Topic9\", \"Topic9\", \"Topic9\", \"Topic9\", \"Topic9\", \"Topic9\", \"Topic9\", \"Topic9\", \"Topic9\", \"Topic9\", \"Topic9\", \"Topic9\", \"Topic9\", \"Topic9\", \"Topic9\", \"Topic9\", \"Topic9\", \"Topic9\", \"Topic9\", \"Topic10\", \"Topic10\", \"Topic10\", \"Topic10\", \"Topic10\", \"Topic10\", \"Topic10\", \"Topic10\", \"Topic10\", \"Topic10\", \"Topic10\", \"Topic10\", \"Topic10\", \"Topic10\", \"Topic10\", \"Topic10\", \"Topic10\", \"Topic10\", \"Topic10\", \"Topic10\", \"Topic10\", \"Topic10\", \"Topic10\", \"Topic10\", \"Topic10\", \"Topic10\", \"Topic10\", \"Topic10\", \"Topic10\", \"Topic10\", \"Topic10\", \"Topic10\", \"Topic10\", \"Topic10\", \"Topic10\", \"Topic10\", \"Topic10\", \"Topic10\", \"Topic10\", \"Topic10\", \"Topic10\", \"Topic10\", \"Topic10\", \"Topic10\", \"Topic10\", \"Topic10\", \"Topic10\", \"Topic10\", \"Topic10\", \"Topic10\", \"Topic10\", \"Topic10\", \"Topic10\", \"Topic10\", \"Topic10\", \"Topic10\", \"Topic10\", \"Topic10\", \"Topic10\", \"Topic10\", \"Topic10\", \"Topic10\", \"Topic10\", \"Topic10\", \"Topic10\", \"Topic10\", \"Topic10\", \"Topic10\", \"Topic10\", \"Topic10\", \"Topic10\", \"Topic10\", \"Topic10\", \"Topic10\", \"Topic10\", \"Topic10\", \"Topic10\", \"Topic10\", \"Topic10\", \"Topic10\", \"Topic10\", \"Topic10\", \"Topic10\", \"Topic10\", \"Topic10\", \"Topic10\", \"Topic10\", \"Topic10\", \"Topic10\", \"Topic10\", \"Topic10\", \"Topic10\"], \"logprob\": [30.0, 29.0, 28.0, 27.0, 26.0, 25.0, 24.0, 23.0, 22.0, 21.0, 20.0, 19.0, 18.0, 17.0, 16.0, 15.0, 14.0, 13.0, 12.0, 11.0, 10.0, 9.0, 8.0, 7.0, 6.0, 5.0, 4.0, 3.0, 2.0, 1.0, -7.1465, -8.2079, -8.2655, -8.5588, -8.6569, -8.6612, -8.7423, -8.7741, -8.864, -9.0565, -9.0469, -9.1297, -9.1891, -9.2996, -9.3058, -9.3121, -9.3423, -9.3446, -9.3842, -9.4474, -9.4812, -9.4967, -9.5532, -9.5843, -9.5994, -9.6076, -9.7438, -9.7675, -9.8393, -9.8447, -7.4215, -7.4446, -8.7011, -9.0243, -7.6643, -9.5181, -9.5667, -6.5036, -9.3992, -8.0601, -8.6836, -7.1678, -8.4397, -7.278, -7.0105, -7.9364, -8.5929, -6.2936, -6.1949, -7.7762, -6.9249, -7.2605, -8.2953, -6.1766, -5.8825, -7.7033, -5.4637, -7.6599, -7.4183, -6.6618, -7.2864, -6.9614, -6.1602, -6.9961, -5.6653, -6.8397, -6.0593, -5.6507, -7.1376, -5.3333, -5.3966, -6.6163, -4.7532, -6.0768, -6.1783, -5.9547, -5.6367, -6.0208, -5.3529, -5.9754, -6.2148, -5.6905, -6.1996, -5.9542, -5.7656, -5.4276, -6.101, -5.6701, -6.1119, -5.8755, -5.7283, -5.9295, -5.8101, -5.8972, -5.8567, -5.9799, -5.9685, -5.9725, -5.9848, -6.0557, -6.0144, -6.9911, -7.3227, -7.4421, -7.7125, -7.742, -7.8128, -7.8242, -8.0572, -8.259, -8.3077, -8.37, -8.4797, -8.5085, -8.5381, -8.5179, -8.7317, -8.7431, -8.8289, -8.8672, -8.9324, -8.9521, -8.9589, -8.7736, -8.9741, -8.9758, -7.3937, -9.0014, -9.0127, -8.9983, -5.6058, -6.101, -7.2228, -7.1761, -7.7091, -8.0826, -7.7224, -6.2668, -6.8111, -7.5922, -6.0704, -5.6918, -7.0187, -7.7031, -6.0864, -5.5744, -5.0099, -7.3321, -6.5975, -5.5399, -6.3156, -6.5686, -6.849, -6.7486, -6.3304, -7.1456, -6.1123, -6.536, -6.7286, -5.31, -6.5903, -6.2523, -5.1242, -6.1857, -6.0392, -5.4754, -4.7781, -5.0735, -5.7597, -5.2445, -5.5445, -6.0585, -5.6642, -5.5245, -5.6887, -5.0812, -5.6474, -5.6278, -5.8619, -5.9479, -5.7843, -5.6878, -5.7551, -5.8306, -5.5934, -5.8223, -5.9022, -5.9836, -6.0136, -7.5091, -7.6129, -7.6893, -8.1754, -8.1884, -8.2927, -8.3703, -8.4768, -8.4785, -8.5589, -8.7969, -8.8357, -8.7904, -8.9764, -9.0624, -9.1162, -9.2432, -9.3091, -9.3513, -9.3907, -9.407, -9.4151, -8.7815, -9.4428, -9.4499, -9.1565, -9.4891, -9.4955, -9.4958, -9.521, -6.2335, -7.0952, -7.2862, -7.4765, -7.3404, -6.9026, -8.2787, -8.1316, -8.0705, -8.3808, -8.5304, -7.41, -7.8972, -8.9004, -6.5379, -6.6647, -6.7261, -7.1112, -7.593, -6.9601, -8.2453, -5.7505, -3.2722, -6.2355, -5.9386, -6.0897, -5.3629, -5.6208, -5.9083, -5.5249, -5.0416, -6.8659, -4.1063, -4.4015, -5.1501, -4.4508, -5.613, -5.8026, -6.0075, -4.8768, -5.2524, -5.8359, -5.0261, -5.8277, -6.292, -5.0304, -6.0811, -5.5185, -5.3124, -5.4132, -5.3283, -5.9604, -4.9097, -5.6205, -5.2623, -5.3873, -5.2807, -5.3054, -5.2317, -5.4596, -5.5325, -5.6166, -5.3731, -5.6268, -5.7199, -4.8383, -6.9689, -7.0223, -7.0542, -7.2949, -7.5234, -7.5736, -7.6569, -8.0254, -8.0725, -8.2166, -8.2982, -8.3427, -8.4593, -8.6419, -8.6746, -8.68, -8.7611, -8.7758, -8.778, -8.8605, -8.8933, -7.5834, -9.0009, -8.8843, -9.1008, -7.3563, -9.1336, -9.1705, -3.4729, -5.6214, -4.9709, -5.722, -5.4799, -5.9391, -6.2877, -7.222, -6.8445, -6.1549, -8.136, -7.0991, -6.6423, -8.0018, -5.1924, -5.3988, -5.8182, -5.592, -6.5052, -5.7042, -6.2259, -5.0152, -3.9741, -4.7979, -5.5627, -5.2997, -6.0441, -5.1564, -5.3135, -6.0692, -5.2689, -6.2851, -6.3385, -5.0567, -4.6125, -5.9874, -5.4428, -5.6348, -5.8793, -5.6529, -5.8182, -5.8796, -5.8861, -5.7376, -5.8622, -5.8638, -5.3556, -6.0271, -6.1626, -7.5968, -7.7965, -7.8511, -7.9217, -8.0493, -8.1109, -8.1526, -8.2492, -8.2665, -8.2942, -8.5151, -8.5496, -8.5854, -8.7511, -8.7577, -8.7878, -8.8701, -8.8839, -8.9528, -8.9792, -8.9998, -9.0032, -9.0121, -9.1681, -9.1838, -9.187, -8.8854, -6.6361, -6.8837, -6.3479, -7.0365, -6.4424, -5.8835, -8.2411, -5.3545, -5.9826, -6.7063, -6.8617, -5.7319, -7.2428, -7.4154, -4.3769, -5.8051, -7.3924, -4.8481, -6.4757, -7.3087, -6.5307, -4.6315, -4.7397, -5.8008, -5.4688, -5.4714, -5.5834, -4.0711, -5.9658, -6.5452, -6.134, -4.8359, -5.4657, -4.7829, -5.0196, -6.0507, -4.7736, -5.3382, -4.6868, -4.6628, -5.7676, -5.4255, -4.9767, -5.5, -5.1804, -5.2646, -5.5751, -4.9488, -5.6747, -5.1737, -5.4465, -5.3553, -5.4385, -5.5327, -5.2061, -6.2554, -6.5588, -6.6792, -6.8269, -6.8477, -6.8697, -6.2771, -6.9212, -7.0997, -7.2528, -7.2631, -7.3346, -7.3571, -7.3655, -7.4291, -7.4386, -7.4612, -7.4939, -7.5331, -7.6029, -7.679, -7.773, -7.8368, -7.8376, -7.8811, -7.9622, -7.9647, -8.0121, -8.0152, -5.2286, -6.8463, -7.7257, -7.055, -4.7814, -4.7151, -5.4353, -6.571, -6.8548, -6.6972, -4.3321, -6.2618, -6.4018, -6.839, -6.8129, -6.1674, -5.3236, -5.1989, -5.7266, -5.9469, -5.4266, -6.3346, -6.0491, -5.3598, -6.0278, -6.1579, -5.3846, -5.8413, -5.8857, -5.1292, -6.0792, -5.8119, -6.1986, -5.44, -5.5967, -5.9346, -5.9942, -5.8152, -5.9187, -6.1299, -5.9455, -5.9805, -6.1241, -6.3432, -6.3736, -6.5271, -6.5833, -6.6185, -6.9306, -7.1032, -6.8784, -7.354, -7.3616, -7.3828, -7.4019, -7.4082, -7.2237, -7.5497, -5.8903, -7.896, -7.8965, -7.8283, -8.0114, -8.0258, -8.0539, -8.1246, -8.2355, -8.2771, -8.3363, -8.3152, -8.3575, -8.373, -8.3988, -5.6869, -5.2821, -6.055, -6.7961, -7.2405, -6.9826, -6.5562, -7.5619, -7.3297, -7.352, -7.8785, -6.2409, -6.5863, -6.6179, -7.6954, -6.0417, -5.5651, -6.0624, -6.2494, -6.3909, -5.1415, -6.2483, -5.7117, -6.9071, -7.0226, -6.6919, -5.3399, -6.5542, -6.1004, -5.6781, -5.8392, -4.6576, -5.3536, -5.6476, -5.5894, -6.3281, -5.8438, -5.2786, -4.7176, -4.897, -4.6666, -5.6078, -5.5171, -4.8681, -4.5209, -4.9013, -5.7576, -5.8721, -4.9217, -5.5551, -5.6329, -5.3399, -5.6459, -5.6601, -5.6876, -5.7889, -5.7112, -5.7803, -6.1904, -6.2603, -6.6486, -6.846, -7.0977, -7.1109, -7.3976, -7.4922, -7.5461, -7.5679, -7.608, -7.6484, -7.7006, -7.7016, -7.7059, -7.8349, -7.8354, -7.9103, -7.989, -8.0425, -8.2043, -8.3435, -8.614, -8.6691, -8.6774, -8.6958, -8.7073, -8.7263, -8.7404, -8.7464, -5.3658, -6.3938, -7.4081, -7.7581, -6.6115, -7.6788, -6.7936, -6.3183, -7.0222, -7.2929, -6.9749, -6.8834, -5.6401, -6.8066, -5.5513, -5.7186, -5.4461, -6.3278, -5.9446, -6.1329, -6.6804, -6.0617, -6.2424, -5.3614, -6.1388, -5.2927, -6.4197, -5.4843, -5.4539, -5.0475, -6.1296, -6.6046, -6.072, -5.7298, -5.7478, -4.7683, -5.8386, -5.4312, -4.8093, -6.2634, -5.8651, -5.7276, -5.1403, -5.3825, -5.2889, -5.5224, -5.9507, -5.6799, -5.7792, -5.7536, -5.8463, -5.7556, -5.8352, -5.9173, -5.8893, -5.9158, -6.0475, -6.5964, -7.2769, -7.28, -7.2979, -7.3926, -7.5315, -7.5961, -7.7419, -7.8592, -7.9222, -7.9407, -8.0288, -8.1212, -8.1378, -8.1883, -8.202, -8.3342, -8.349, -8.3827, -8.3868, -8.4055, -8.4585, -8.4661, -8.5129, -8.7134, -8.4858, -8.7218, -8.7265, -8.7282, -6.2257, -6.7142, -7.0567, -4.9258, -5.5471, -7.6566, -8.1662, -8.2577, -8.3527, -5.5675, -6.7663, -6.3703, -6.7019, -6.8169, -6.9601, -6.1749, -7.5128, -5.4153, -7.3722, -6.7271, -7.2539, -4.5465, -5.4492, -5.3739, -4.6866, -6.9116, -5.2248, -5.6683, -6.9732, -4.9389, -6.8629, -6.0853, -5.6113, -5.1246, -5.4002, -5.2594, -5.2773, -4.8, -5.969, -4.4819, -4.7146, -5.397, -5.4934, -5.3733, -6.2231, -5.4334, -5.6063, -5.8444, -5.8105, -5.8943, -5.8612, -5.9334, -5.9217, -5.9311, -6.3329, -6.7421, -7.1875, -7.3252, -7.5575, -7.6364, -7.6562, -7.6532, -7.9552, -7.9594, -8.1021, -8.1597, -8.2087, -8.2209, -8.2546, -8.2617, -8.3535, -8.3702, -8.4544, -8.4959, -8.5083, -8.5227, -8.5226, -8.5387, -8.5502, -8.6239, -8.6376, -8.6811, -8.6903, -8.6962, -5.476, -6.2592, -7.48, -7.4521, -7.85, -5.4864, -7.6419, -8.3989, -8.3413, -6.3308, -6.7802, -6.8655, -6.3443, -6.3725, -6.4704, -6.4966, -7.5221, -7.1943, -7.2283, -7.3958, -5.0257, -6.6193, -6.5553, -7.2112, -6.0759, -6.7687, -5.6038, -6.9861, -6.8332, -6.665, -6.3208, -6.1757, -5.7907, -5.3288, -5.5423, -6.4824, -5.758, -6.1774, -6.6896, -6.3235, -5.587, -6.2635, -4.985, -5.4359, -5.6711, -5.9658, -5.2722, -5.0422, -5.3459, -5.9249, -5.4546, -5.7808, -5.8847, -6.018, -5.9872, -6.016, -6.2395, -6.2605, -6.2347, -6.1989, -6.1782, -6.2096], \"loglift\": [30.0, 29.0, 28.0, 27.0, 26.0, 25.0, 24.0, 23.0, 22.0, 21.0, 20.0, 19.0, 18.0, 17.0, 16.0, 15.0, 14.0, 13.0, 12.0, 11.0, 10.0, 9.0, 8.0, 7.0, 6.0, 5.0, 4.0, 3.0, 2.0, 1.0, 1.6794, 1.6794, 1.6794, 1.6794, 1.6794, 1.6794, 1.6794, 1.6794, 1.6794, 1.6794, 1.6794, 1.6794, 1.6794, 1.6793, 1.6793, 1.6793, 1.6793, 1.6793, 1.6793, 1.6793, 1.6793, 1.6793, 1.6793, 1.6793, 1.6793, 1.6793, 1.6793, 1.6793, 1.6793, 1.6793, 1.6789, 1.6752, 1.6773, 1.6789, 1.6612, 1.679, 1.6792, 1.6266, 1.6769, 1.6437, 1.661, 1.6119, 1.649, 1.6043, 1.5894, 1.6235, 1.6496, 1.5464, 1.5337, 1.6132, 1.5541, 1.5689, 1.6305, 1.4685, 1.4291, 1.5783, 1.3491, 1.5653, 1.5316, 1.4403, 1.5101, 1.466, 1.3627, 1.466, 1.2741, 1.4285, 1.3069, 1.2056, 1.4686, 1.121, 1.1242, 1.3613, 0.9671, 1.2494, 1.2639, 1.1904, 1.107, 1.1956, 0.9891, 1.1629, 1.2385, 1.055, 1.2164, 1.1139, 1.0328, 0.8879, 1.1607, 0.9428, 1.1416, 1.0096, 0.9057, 1.0247, 0.9106, 0.963, 0.7313, 0.903, 0.8472, 0.5931, 0.3006, 0.7062, 2.2214, 2.2214, 2.2214, 2.2214, 2.2214, 2.2214, 2.2214, 2.2214, 2.2213, 2.2213, 2.2213, 2.2213, 2.2213, 2.2213, 2.2213, 2.2213, 2.2213, 2.2213, 2.2213, 2.2213, 2.2213, 2.2213, 2.2213, 2.2213, 2.2213, 2.2213, 2.2213, 2.2213, 2.2213, 2.2213, 2.208, 2.2117, 2.221, 2.2189, 2.22, 2.2209, 2.2142, 2.1979, 2.2023, 2.209, 2.1934, 2.1753, 2.1952, 2.2062, 2.1646, 2.1485, 2.1277, 2.1932, 2.1705, 2.1329, 2.1596, 2.1595, 2.169, 2.15, 2.114, 2.1744, 2.0943, 2.1237, 2.1293, 1.9695, 2.1018, 2.0529, 1.8425, 2.0084, 1.8897, 1.7294, 1.4348, 1.4969, 1.6684, 1.3895, 1.4097, 1.6829, 1.3761, 1.1578, 1.2395, 0.4945, 1.0127, 0.8965, 1.2236, 1.3824, 1.0015, 0.7734, 0.8152, 1.0212, 0.127, 0.6654, 1.1018, 1.1615, 1.3529, 2.2245, 2.2245, 2.2245, 2.2245, 2.2245, 2.2245, 2.2245, 2.2245, 2.2245, 2.2244, 2.2244, 2.2244, 2.2244, 2.2244, 2.2244, 2.2244, 2.2244, 2.2244, 2.2243, 2.2243, 2.2243, 2.2243, 2.2243, 2.2243, 2.2243, 2.2243, 2.2243, 2.2243, 2.2243, 2.2243, 2.2197, 2.2237, 2.2232, 2.2241, 2.2222, 2.2168, 2.2241, 2.2223, 2.2212, 2.2202, 2.2217, 2.2097, 2.2145, 2.2243, 2.1936, 2.1918, 2.1919, 2.1994, 2.2061, 2.1878, 2.2126, 2.1245, 2.0092, 2.1194, 2.1024, 2.099, 2.0512, 2.0622, 2.0335, 1.9807, 1.9235, 2.0972, 1.818, 1.8374, 1.8863, 1.7794, 1.9089, 1.9368, 1.9635, 1.7748, 1.8213, 1.9284, 1.7515, 1.8829, 1.9855, 1.6422, 1.914, 1.7295, 1.6572, 1.6868, 1.5968, 1.8628, 1.363, 1.6785, 1.4654, 1.4848, 1.3418, 1.2743, 1.1283, 1.3228, 1.4279, 1.3959, 0.6085, 0.8609, 2.2317, 2.2317, 2.2317, 2.2317, 2.2317, 2.2317, 2.2316, 2.2316, 2.2316, 2.2316, 2.2316, 2.2316, 2.2316, 2.2316, 2.2316, 2.2316, 2.2316, 2.2316, 2.2316, 2.2316, 2.2316, 2.2316, 2.2315, 2.2315, 2.2315, 2.2315, 2.2315, 2.2315, 2.2315, 2.2315, 2.2291, 2.2305, 2.222, 2.2284, 2.2229, 2.2246, 2.2277, 2.2312, 2.2248, 2.2148, 2.2315, 2.2207, 2.2118, 2.2255, 2.1654, 2.156, 2.1673, 2.1579, 2.1677, 2.1228, 2.1419, 2.061, 1.9113, 1.8104, 1.9004, 1.8478, 1.9738, 1.7722, 1.8065, 1.94, 1.6225, 1.9703, 1.954, 1.2556, 0.9632, 1.7566, 1.3138, 1.217, 1.5862, 1.2022, 1.3845, 1.1462, 1.1463, -0.0172, 0.9294, 0.8798, 2.27, 2.27, 2.27, 2.2699, 2.2699, 2.2699, 2.2699, 2.2699, 2.2699, 2.2699, 2.2699, 2.2699, 2.2699, 2.2699, 2.2699, 2.2699, 2.2699, 2.2699, 2.2699, 2.2698, 2.2698, 2.2698, 2.2698, 2.2698, 2.2698, 2.2698, 2.2698, 2.2698, 2.2698, 2.2698, 2.2694, 2.2697, 2.2627, 2.2692, 2.2612, 2.2435, 2.267, 2.236, 2.2422, 2.2461, 2.2433, 2.216, 2.2402, 2.2435, 2.172, 2.1822, 2.2288, 2.105, 2.1903, 2.2187, 2.1663, 2.036, 2.0309, 2.104, 2.0739, 2.0629, 2.0674, 1.9105, 2.0927, 2.1454, 2.0903, 1.9123, 1.9803, 1.832, 1.8634, 2.0682, 1.7846, 1.9102, 1.6332, 1.6098, 1.925, 1.7576, 1.4934, 1.7744, 1.5778, 1.6075, 1.7926, 1.2355, 1.8491, 1.1835, 1.4205, 1.1515, 1.2338, 1.4354, 2.3271, 2.3271, 2.3271, 2.3271, 2.3271, 2.3271, 2.3271, 2.3271, 2.3271, 2.3271, 2.3271, 2.3271, 2.3271, 2.3271, 2.3271, 2.3271, 2.3271, 2.3271, 2.3271, 2.3271, 2.327, 2.327, 2.327, 2.327, 2.327, 2.327, 2.327, 2.327, 2.327, 2.327, 2.3148, 2.3266, 2.3247, 2.3179, 2.2892, 2.2876, 2.2939, 2.3105, 2.3105, 2.3069, 2.2262, 2.2838, 2.2884, 2.3022, 2.2973, 2.2618, 2.2021, 2.1855, 2.2216, 2.2276, 2.1763, 2.2494, 2.2185, 2.1356, 2.1578, 2.1757, 2.0119, 2.0801, 2.0781, 1.8359, 2.0483, 1.8353, 2.0256, 1.2323, 1.1971, 1.4686, 1.3194, 0.7239, 0.6355, 1.6189, 0.2675, 0.3049, 1.3691, 2.4589, 2.4589, 2.4589, 2.4589, 2.4589, 2.4589, 2.4589, 2.4589, 2.4589, 2.4589, 2.4589, 2.4589, 2.4589, 2.4589, 2.4589, 2.4589, 2.4589, 2.4589, 2.4589, 2.4589, 2.4589, 2.4589, 2.4588, 2.4588, 2.4588, 2.4588, 2.4588, 2.4588, 2.4588, 2.4588, 2.4587, 2.4539, 2.4521, 2.4547, 2.4568, 2.4542, 2.4497, 2.4587, 2.4555, 2.4556, 2.4583, 2.4365, 2.4397, 2.4358, 2.4563, 2.4208, 2.3832, 2.4016, 2.4074, 2.4074, 2.3347, 2.3878, 2.3282, 2.4234, 2.4316, 2.3969, 2.2398, 2.3639, 2.2878, 2.1719, 2.1659, 1.8492, 1.9713, 2.0547, 1.9721, 2.2705, 2.0587, 1.7709, 1.4737, 1.5642, 1.4337, 1.926, 1.858, 1.3162, 1.0548, 1.2246, 1.9541, 2.004, 0.7986, 1.5281, 1.6355, 0.9723, 1.4223, 0.6998, 0.8366, 1.442, 0.1742, 0.5051, 2.5451, 2.5451, 2.5451, 2.5451, 2.545, 2.545, 2.545, 2.545, 2.545, 2.545, 2.545, 2.545, 2.545, 2.545, 2.545, 2.545, 2.545, 2.545, 2.545, 2.545, 2.545, 2.545, 2.5449, 2.5449, 2.5449, 2.5449, 2.5449, 2.5449, 2.5449, 2.5449, 2.5403, 2.5371, 2.5441, 2.5446, 2.529, 2.5382, 2.5288, 2.5238, 2.524, 2.5286, 2.5191, 2.5108, 2.4533, 2.4805, 2.396, 2.3777, 2.352, 2.4269, 2.3908, 2.4084, 2.4446, 2.3669, 2.3812, 2.2469, 2.343, 2.1914, 2.3616, 2.1564, 2.1339, 2.0273, 2.2733, 2.384, 2.1636, 2.0015, 1.9779, 1.416, 1.874, 1.5813, 0.4721, 2.1091, 1.5567, 1.3556, 0.4353, 0.8089, 0.6355, 0.7976, 1.6293, 0.6055, 0.8357, 0.4854, 0.9118, 0.3447, 0.819, 1.1338, 0.5984, 0.7067, 2.7042, 2.7042, 2.7042, 2.7042, 2.7042, 2.7042, 2.7042, 2.7042, 2.7042, 2.7042, 2.7041, 2.7041, 2.7041, 2.7041, 2.7041, 2.7041, 2.7041, 2.7041, 2.7041, 2.7041, 2.7041, 2.7041, 2.7041, 2.7041, 2.7041, 2.7041, 2.7041, 2.7041, 2.7041, 2.7041, 2.7035, 2.7029, 2.704, 2.6796, 2.6843, 2.7012, 2.7023, 2.7031, 2.704, 2.6656, 2.6847, 2.6759, 2.6812, 2.682, 2.6807, 2.6554, 2.6862, 2.6007, 2.6782, 2.644, 2.6677, 2.5215, 2.5583, 2.5494, 2.4895, 2.6445, 2.469, 2.505, 2.6386, 2.395, 2.6241, 2.5045, 2.4251, 2.318, 2.3652, 2.271, 2.2412, 1.9565, 2.3294, 1.644, 1.3857, 1.6288, 1.6265, 1.5181, 2.2094, 1.1464, 0.6791, 1.1269, 0.8437, 1.0296, 0.3301, 0.637, -0.0363, -0.3554, 2.8509, 2.8509, 2.8509, 2.8509, 2.8509, 2.8509, 2.8509, 2.8509, 2.8509, 2.8509, 2.8509, 2.8508, 2.8508, 2.8508, 2.8508, 2.8508, 2.8508, 2.8508, 2.8508, 2.8508, 2.8508, 2.8508, 2.8508, 2.8508, 2.8508, 2.8508, 2.8508, 2.8508, 2.8508, 2.8508, 2.8488, 2.8389, 2.8507, 2.8504, 2.8495, 2.8255, 2.8464, 2.8502, 2.8493, 2.8263, 2.8289, 2.827, 2.816, 2.8148, 2.8157, 2.8155, 2.8361, 2.8267, 2.8277, 2.8309, 2.7177, 2.7827, 2.7748, 2.8102, 2.7171, 2.7498, 2.5894, 2.7616, 2.7096, 2.6729, 2.6031, 2.5666, 2.481, 2.3644, 2.4082, 2.6205, 2.4263, 2.5287, 2.6689, 2.5171, 2.1268, 2.4051, 1.5392, 1.8523, 1.9933, 2.1118, 1.4101, 1.1708, 1.3602, 2.0124, 1.1537, 1.0129, 0.6694, 1.0589, 0.4672, 0.659, 2.0629, 2.1511, 1.8173, 1.2822, 0.7504, 1.0028]}, \"token.table\": {\"Topic\": [5, 8, 1, 2, 4, 7, 9, 1, 2, 3, 4, 5, 6, 7, 8, 9, 10, 2, 1, 3, 5, 6, 8, 10, 1, 2, 3, 4, 5, 7, 8, 9, 7, 4, 7, 1, 2, 4, 6, 7, 9, 10, 1, 2, 4, 6, 7, 8, 9, 10, 8, 7, 8, 1, 6, 7, 8, 1, 2, 4, 6, 7, 8, 9, 10, 7, 6, 1, 5, 2, 3, 4, 7, 9, 1, 3, 5, 8, 10, 1, 2, 3, 4, 5, 6, 7, 8, 9, 10, 1, 2, 3, 4, 5, 6, 7, 8, 9, 10, 7, 3, 1, 2, 10, 2, 3, 4, 8, 9, 6, 1, 2, 3, 7, 10, 3, 7, 8, 9, 1, 2, 3, 4, 5, 6, 7, 8, 9, 10, 1, 2, 4, 5, 6, 7, 10, 1, 2, 6, 10, 1, 1, 2, 6, 7, 10, 3, 1, 2, 3, 5, 6, 1, 2, 4, 6, 7, 9, 2, 3, 4, 9, 3, 6, 8, 9, 1, 2, 4, 7, 8, 9, 10, 8, 1, 2, 3, 4, 5, 6, 7, 8, 9, 10, 7, 8, 1, 2, 3, 4, 5, 6, 7, 8, 9, 10, 7, 7, 1, 2, 3, 4, 5, 6, 7, 8, 9, 10, 4, 2, 4, 7, 2, 6, 5, 1, 6, 10, 7, 5, 8, 3, 7, 8, 9, 10, 2, 4, 6, 8, 4, 5, 4, 4, 1, 2, 3, 4, 5, 6, 7, 8, 9, 10, 1, 3, 4, 5, 7, 8, 9, 10, 1, 2, 4, 1, 2, 4, 5, 6, 7, 8, 9, 10, 3, 4, 2, 4, 5, 9, 1, 3, 5, 8, 8, 5, 9, 1, 2, 3, 5, 6, 9, 1, 2, 3, 4, 5, 6, 8, 9, 10, 1, 2, 4, 7, 8, 9, 10, 5, 6, 9, 1, 2, 6, 7, 10, 5, 8, 1, 2, 4, 6, 1, 3, 4, 5, 6, 8, 9, 10, 3, 2, 4, 5, 6, 8, 5, 9, 3, 5, 7, 8, 9, 1, 2, 3, 5, 6, 7, 8, 9, 10, 7, 9, 10, 1, 2, 3, 4, 5, 6, 7, 8, 9, 10, 9, 5, 1, 2, 3, 4, 5, 6, 7, 8, 9, 10, 1, 10, 4, 4, 3, 8, 1, 3, 1, 2, 4, 5, 6, 7, 8, 9, 10, 1, 2, 3, 4, 6, 9, 1, 2, 5, 6, 7, 8, 9, 10, 1, 4, 8, 1, 2, 3, 4, 5, 6, 7, 9, 10, 8, 1, 2, 3, 4, 5, 6, 7, 8, 9, 10, 1, 2, 3, 4, 5, 6, 7, 8, 9, 10, 9, 9, 4, 1, 3, 1, 2, 3, 4, 5, 6, 7, 8, 9, 10, 1, 2, 3, 4, 5, 8, 10, 6, 1, 2, 4, 6, 9, 10, 1, 2, 3, 4, 5, 6, 7, 8, 9, 10, 10, 10, 1, 4, 8, 10, 1, 2, 3, 4, 5, 6, 7, 8, 9, 10, 1, 2, 4, 6, 7, 9, 10, 3, 4, 5, 7, 8, 3, 4, 5, 7, 8, 10, 10, 8, 1, 2, 3, 4, 5, 6, 7, 8, 9, 10, 1, 4, 7, 8, 9, 2, 4, 5, 1, 3, 2, 6, 4, 8, 10, 1, 10, 1, 2, 1, 2, 3, 4, 5, 6, 7, 8, 9, 10, 1, 3, 5, 1, 2, 3, 4, 5, 6, 7, 8, 9, 10, 1, 6, 1, 2, 3, 4, 5, 7, 8, 9, 6, 1, 2, 3, 4, 5, 8, 9, 10, 1, 2, 3, 4, 7, 8, 9, 10, 1, 5, 8, 1, 2, 4, 5, 6, 8, 9, 10, 1, 2, 4, 5, 7, 8, 9, 2, 4, 9, 2, 9, 10, 1, 8, 10, 9, 1, 5, 7, 8, 2, 1, 2, 6, 1, 2, 3, 4, 5, 6, 7, 8, 9, 10, 1, 2, 6, 7, 8, 10, 2, 3, 4, 6, 7, 8, 9, 2, 1, 2, 3, 4, 6, 7, 1, 10, 1, 2, 3, 4, 5, 6, 7, 8, 9, 1, 2, 4, 7, 9, 2, 4, 7, 9, 1, 6, 10, 10, 2, 2, 3, 4, 5, 7, 9, 1, 2, 3, 5, 8, 10, 1, 2, 3, 4, 5, 6, 7, 8, 9, 10, 8, 1, 2, 3, 4, 5, 7, 8, 9, 1, 2, 3, 4, 5, 6, 7, 8, 9, 10, 1, 2, 3, 4, 5, 6, 7, 8, 9, 10, 3, 1, 2, 4, 5, 6, 9, 1, 2, 3, 4, 5, 7, 8, 9, 2, 2, 3, 6, 7, 8, 10, 2, 4, 9, 2, 4, 7, 9, 1, 2, 3, 4, 5, 7, 8, 9, 10, 1, 2, 3, 4, 6, 7, 8, 9, 10, 1, 8, 10, 10, 1, 2, 6, 8, 6, 1, 2, 4, 10, 1, 8, 1, 3, 7, 8, 1, 6, 10, 1, 2, 6, 7, 1, 2, 4, 6, 7, 10, 1, 2, 3, 4, 5, 7, 8, 9, 10, 2, 4, 5, 6, 7, 8, 9, 8, 3, 5, 8, 1, 2, 3, 6, 10, 1, 2, 6, 7, 10, 1, 2, 3, 5, 6, 7, 8, 9, 10, 8, 3, 5, 1, 1, 3, 4, 5, 7, 8, 9, 1, 4, 5, 8, 9, 1, 4, 5, 7, 8, 9, 1, 2, 3, 4, 5, 6, 7, 8, 9, 3, 5, 8, 1, 2, 3, 4, 6, 7, 8, 9, 10, 2, 4, 5, 7, 9, 1, 2, 3, 5, 6, 8, 10, 5, 8, 1, 2, 3, 4, 5, 7, 8, 9, 10, 3, 1, 2, 3, 4, 5, 6, 7, 8, 9, 1, 3, 4, 5, 6, 7, 8, 9, 10, 2, 3, 4, 7, 8, 9, 1, 2, 3, 4, 8, 9, 2, 6, 7, 9, 3, 4, 1, 2, 4, 6, 9, 10, 3, 5, 9, 1, 3, 4, 5, 7, 8, 9, 10, 3, 4, 5, 7, 8, 9, 1, 2, 3, 4, 5, 6, 7, 8, 9, 10, 1, 2, 3, 4, 5, 6, 7, 8, 9, 10, 1, 6, 7, 10, 1, 2, 3, 4, 5, 6, 7, 8, 9, 10, 1, 6, 9, 10, 8, 2, 3, 1, 8, 1, 2, 5, 5, 1, 2, 3, 4, 6, 7, 8, 9, 10, 1, 2, 4, 5, 6, 7, 8, 9, 10, 1, 4, 6, 7, 8, 9, 10, 1, 2, 3, 4, 5, 6, 9, 10, 1, 2, 4, 5, 6, 7, 10, 1, 2, 3, 4, 5, 7, 8, 9, 1, 2, 3, 5, 8, 10, 1, 2, 4, 5, 6, 7, 8, 9, 10, 1, 2, 3, 4, 5, 6, 7, 8, 9, 10, 2, 1, 2, 6, 10, 1, 2, 3, 4, 5, 7, 8, 9, 1, 2, 3, 4, 5, 6, 7, 8, 9, 10, 3, 2, 7, 10, 1, 2, 3, 4, 5, 7, 8, 9, 10, 1, 10, 1, 2, 5, 6, 7, 8, 9, 1, 6, 8, 1, 3, 5, 7, 8, 9, 10, 1, 2, 4, 5, 6, 7, 8, 9, 10, 1, 2, 4, 6, 7, 9, 1, 2, 3, 4, 5, 6, 7, 8, 9, 10, 3, 5, 8, 1, 2, 3, 4, 5, 6, 7, 8, 9, 10, 1, 2, 3, 4, 5, 6, 7, 8, 9, 10, 1, 3, 5, 6, 7, 8, 9, 10, 5, 6, 1, 2, 3, 4, 5, 6, 7, 8, 9, 10, 1, 2, 3, 4, 5, 7, 8, 9, 3, 5, 3, 8, 4, 4, 5, 1, 2, 6, 10, 1, 4, 5, 6, 7, 9, 10, 1, 2, 3, 4, 5, 6, 7, 8, 9, 10, 7, 3, 4, 5, 8, 9, 1, 3, 5, 6, 7, 8, 9, 10, 1, 3, 4, 5, 7, 8, 9, 8, 8, 4, 9, 1, 1, 3, 4, 5, 7, 8, 9, 10, 6, 8, 1, 2, 3, 4, 5, 6, 7, 8, 9, 10, 1, 2, 3, 4, 5, 6, 7, 8, 9, 10, 4, 1, 2, 3, 4, 5, 6, 7, 8, 9, 10, 1, 2, 3, 4, 5, 7, 8, 9, 7, 9, 5, 1, 4, 8, 1, 2, 3, 4, 5, 6, 7, 8, 9, 10, 1, 3, 4, 5, 8, 9, 10, 1, 2, 4, 6, 7, 9, 10, 1, 2, 6, 10, 1, 2, 4, 6, 7, 10, 1, 1, 1, 2, 7, 5, 1, 2, 3, 4, 5, 7, 8, 9, 1, 2, 3, 4, 5, 6, 7, 8, 9, 10, 7, 1, 2, 3, 4, 5, 6, 7, 8, 9, 10, 1, 2, 3, 4, 5, 6, 7, 8, 9, 10, 2, 4, 3, 6, 1, 2, 3, 4, 5, 6, 7, 8, 9, 10, 2, 3, 5, 7, 8, 1, 2, 3, 4, 6, 7, 9, 10, 1, 2, 3, 4, 5, 6, 7, 8, 9, 10, 8, 8, 9, 1, 2, 4, 5, 6, 7, 8, 8, 3, 5, 7, 1, 2, 4, 5, 6, 9, 10, 4, 2, 4, 9, 1, 2, 3, 5, 8, 10, 5, 2, 1, 2, 3, 4, 5, 8, 9, 10, 1, 6, 1, 5, 2, 6, 1, 2, 3, 4, 5, 6, 8, 9, 1, 3, 4, 5, 1, 2, 3, 4, 5, 6, 7, 8, 9, 10, 2, 3, 4, 7, 8, 9, 1, 2, 7, 8, 1, 3, 4, 5, 7, 8, 9, 1, 3, 5, 8, 9, 1, 1, 2, 4, 6, 8, 10, 3, 5, 4, 5, 7, 8, 7, 4, 7, 7, 1, 3, 9, 10, 7, 1, 2, 3, 4, 6, 7, 8, 9, 10, 1, 2, 3, 4, 7, 9, 1, 3, 4, 7, 8, 3, 5, 6, 8, 9, 10, 1, 3, 5, 7, 8, 9, 10, 4, 2, 7, 9, 8, 9, 6, 4, 7, 2, 5, 10, 1, 2, 3, 4, 5, 6, 8, 9, 10, 1, 2, 4, 6, 9, 2, 2, 2, 4, 7, 9, 7, 7, 2, 1, 2, 4, 6, 10, 1, 2, 6, 7, 8, 9, 1, 2, 6, 10, 3, 4, 1, 2, 4, 5, 6, 7, 8, 9, 10, 3, 5, 7, 8, 3, 4, 5, 7, 8, 3, 5, 7, 8, 7, 7, 5, 4, 2, 1, 2, 3, 4, 6, 7, 8, 9, 10, 5, 9, 2, 1, 2, 3, 4, 7, 8, 9, 2, 3, 8, 1, 2, 3, 4, 7, 9, 1, 2, 3, 4, 5, 6, 7, 8, 9, 10, 2, 4, 6, 9, 1, 2, 4, 6, 7, 9, 10, 1, 2, 3, 4, 6, 7, 10, 7, 9, 1, 2, 3, 4, 7, 8, 9, 3, 5, 9, 9, 1, 2, 3, 4, 5, 6, 7, 8, 9, 10, 9, 8, 1, 2, 3, 4, 5, 6, 7, 8, 9, 10, 1, 2, 3, 5, 6, 7, 8, 9, 10, 1, 1, 2, 3, 4, 5, 6, 7, 8, 9, 10, 1, 2, 6, 8, 10, 1, 2, 3, 4, 5, 6, 7, 8, 9, 10, 1, 2, 4, 5, 6, 7, 8, 9, 10, 1, 2, 3, 4, 6, 7, 9, 10, 9, 1, 2, 3, 4, 5, 6, 7, 8, 9, 10, 3, 7, 1, 2, 3, 4, 5, 6, 7, 8, 9, 10, 1, 2, 4, 6, 10, 1, 2, 3, 4, 5, 6, 7, 8, 9, 10, 1, 3, 4, 5, 7, 8, 9, 10, 10, 9, 4, 7, 4, 6, 1, 2, 7, 8, 10, 1, 5, 1, 1, 2, 3, 4, 5, 6, 7, 8, 9, 10, 3, 5, 8, 9, 9, 9, 6, 1, 2, 3, 4, 5, 6, 7, 8, 9, 10, 7, 1, 2, 4, 7, 9, 7, 1, 2, 3, 4, 5, 6, 7, 8, 9, 10, 5, 7, 8, 9, 2, 7, 7, 8, 9, 8, 9, 7, 9, 10, 2, 3, 5, 9, 1, 2, 3, 4, 5, 6, 7, 8, 9, 10, 1, 2, 3, 4, 7, 9, 1, 2, 3, 5, 6, 8, 1, 2, 6, 10, 5, 5, 1, 2, 3, 4, 5, 6, 7, 8, 9, 10, 9, 4, 2, 6, 7, 9, 1, 2, 7, 9, 10, 1, 2, 3, 6, 10, 1, 6, 10, 1, 8, 6, 6, 1, 3, 5, 1, 2, 3, 4, 5, 6, 7, 8, 9, 10, 1, 2, 3, 4, 5, 6, 7, 8, 9, 10, 4, 7, 9, 1, 3, 5, 7, 2, 1, 1, 2, 4, 6, 7, 8, 9, 10, 8, 5, 9, 1, 10, 1, 2, 3, 4, 5, 6, 7, 8, 9, 10, 9, 1, 3, 1, 2, 6, 10, 4, 7, 8, 9, 2, 2, 4, 7, 4, 4, 4, 1, 2, 3, 4, 5, 6, 7, 8, 9, 10, 1, 2, 3, 5, 7, 8, 9, 10, 1, 2, 3, 4, 5, 6, 7, 8, 9, 10, 10, 1, 2, 3, 4, 5, 6, 7, 8, 9, 10, 3, 5, 7, 8, 10, 1, 2, 3, 4, 6, 7, 8, 9, 10, 2, 4, 6, 7, 8, 9, 9, 6, 1, 5, 7, 8, 10, 1, 3, 4, 5, 6, 8, 9, 1, 10, 1, 2, 4, 5, 6, 9, 10, 7, 8, 9, 7, 5, 1, 3, 7, 9, 1, 1, 3, 4, 6, 7, 8, 9, 10, 1, 2, 3, 5, 6, 7, 8, 10, 7, 9, 4, 7, 9, 2, 1, 2, 3, 4, 6, 7, 9, 10, 1, 2, 6, 7, 8, 10, 10, 1, 2, 3, 5, 7, 1, 2, 3, 4, 5, 6, 7, 8, 9, 10, 1, 2, 3, 4, 5, 7, 8, 9, 5, 4, 1, 2, 3, 4, 5, 6, 7, 8, 9, 10, 1, 2, 3, 4, 5, 6, 7, 8, 9, 10, 6, 3, 1, 9, 6, 1, 10, 1, 10, 1, 2, 3, 4, 5, 6, 7, 8, 9, 10, 2, 1, 2, 3, 4, 5, 6, 7, 8, 9, 10, 1, 2, 4, 6, 7, 8, 1, 2, 4, 7, 8, 10, 10, 1, 2, 3, 4, 5, 6, 7, 8, 9, 10, 1, 2, 3, 4, 5, 6, 7, 8, 9, 1, 2, 3, 4, 5, 6, 7, 8, 9, 10, 6, 2, 5, 1, 1, 2, 3, 4, 5, 6, 7, 8, 9, 10, 6, 7, 8, 9, 2, 7, 9, 1, 2, 3, 4, 5, 7, 8, 9, 1, 2, 4, 5, 7, 9, 1, 8, 1, 2, 4, 6, 7, 9, 6, 1, 2, 3, 4, 5, 6, 7, 8, 9, 10, 9, 1, 6, 10, 1, 2, 3, 4, 5, 6, 7, 8, 9, 10, 2, 4, 5, 7, 9, 1, 3, 4, 5, 6, 7, 8, 9, 10, 3, 1, 2, 3, 4, 5, 6, 7, 8, 9, 1, 3, 4, 5, 6, 7, 8, 9, 10, 2, 7, 9, 3, 1, 2, 3, 4, 5, 6, 7, 8, 10, 1, 2, 3, 4, 5, 6, 7, 8, 9, 10, 2, 7, 9, 2, 3, 2, 4, 7, 9, 1, 2, 3, 4, 5, 7, 8, 9, 10, 1, 2, 4, 5, 6, 9, 7, 7, 7, 1, 3, 4, 5, 6, 7, 8, 9, 10, 6, 6, 2, 7, 1, 2, 3, 4, 5, 8, 1, 2, 4, 9, 10, 3, 1, 2, 4, 5, 6, 7, 8, 9, 10, 3, 1, 4, 5, 7, 8, 9, 1, 4, 5, 6, 9, 10, 4, 5, 9, 8, 8, 8, 3, 5, 1, 2, 3, 4, 5, 6, 7, 8, 9, 10, 1, 2, 3, 4, 5, 6, 7, 8, 9, 10, 2, 4, 1, 5, 7, 8, 1, 2, 3, 4, 5, 6, 7, 8, 9, 10, 1, 2, 7, 10, 1, 3, 4, 5, 7, 8, 10, 7, 9, 1, 6, 7, 9, 10, 4, 1, 2, 4, 5, 6, 7, 8, 9, 10, 1, 2, 3, 4, 5, 6, 7, 8, 9, 10, 1, 2, 3, 4, 5, 6, 7, 8, 9, 10, 2, 3, 4, 5, 6, 7, 8, 9, 2, 3, 4, 5, 6, 7, 8, 9, 3, 8, 5, 10, 1, 2, 3, 4, 5, 6, 7, 8, 10, 9, 2, 3, 4, 5, 7, 8, 9, 4, 6, 1, 10, 1, 10, 3, 5, 7, 8, 9, 10, 1, 2, 6, 7, 9, 10, 4, 6, 1, 2, 3, 4, 7, 8, 9, 6, 10, 1, 2, 3, 5, 6, 7, 8, 10, 1, 5, 6, 8, 10, 1, 2, 3, 4, 5, 7, 8, 9, 1, 2, 3, 4, 5, 6, 7, 8, 9, 10, 5, 2, 4, 2, 4, 6, 2, 7, 2, 1, 2, 3, 4, 5, 6, 7, 8, 9, 10, 1, 2, 3, 4, 5, 6, 7, 8, 9, 10, 1, 2, 3, 1, 2, 3, 4, 5, 6, 7, 8, 9, 10, 3, 5, 8, 2, 8, 1, 2, 3, 7, 8, 9, 10, 1, 2, 3, 4, 5, 6, 7, 8, 9, 10, 10, 1, 1, 2, 3, 4, 5, 6, 7, 8, 9, 10, 3, 1, 2, 6, 7, 10, 5, 5, 8, 9, 6, 3, 8, 3, 8, 1, 3, 8, 1, 2, 4, 6, 7, 9, 10, 4, 1, 2, 4, 5, 6, 7, 8, 9, 10, 4, 1, 6, 7, 10, 10, 1, 2, 3, 4, 5, 6, 7, 8, 9, 10, 1, 2, 3, 4, 5, 6, 7, 8, 9, 10, 8, 5, 1, 2, 3, 4, 5, 6, 7, 8, 9, 10, 1, 1, 3, 5, 6, 8, 9, 10, 1, 10, 1, 2, 3, 5, 6, 7, 8, 9, 10, 10, 1, 2, 3, 4, 5, 6, 7, 8, 9, 10, 1, 2, 3, 4, 5, 6, 8, 9, 10, 1, 3, 8, 10, 1, 2, 3, 4, 5, 6, 7, 8, 9, 10, 1, 2, 3, 4, 5, 6, 7, 8, 9, 10, 4, 1, 2, 3, 4, 5, 6, 7, 8, 9, 10, 1, 4, 5, 1, 3, 4, 5, 8, 10, 1, 2, 3, 5, 8, 10, 1, 2, 4, 5, 6, 7, 8, 9, 1, 2, 3, 4, 5, 6, 7, 8, 9, 10, 5, 1, 2, 3, 4, 5, 6, 7, 8, 9, 10, 1, 2, 7, 9, 1, 2, 3, 4, 7, 8, 9, 3, 6, 7, 8, 7, 1, 2, 3, 4, 5, 7, 8, 9, 10, 1, 2, 3, 4, 5, 6, 7, 8, 9, 10, 6, 5, 4, 7, 7, 10, 1, 2, 3, 4, 5, 6, 7, 8, 9, 10, 7, 10, 1, 2, 3, 4, 5, 8, 9, 10, 1, 2, 3, 4, 5, 6, 7, 8, 9, 10, 6, 1, 2, 3, 5, 6, 8, 7, 8, 3, 1, 2, 4, 5, 6, 7, 8, 9, 10, 1, 2, 4, 6, 7, 9, 10, 9, 1, 2, 3, 4, 5, 6, 7, 8, 9, 10, 1, 2, 4, 5, 6, 7, 8, 9, 10, 9, 1, 2, 3, 4, 5, 6, 7, 8, 9, 10, 5, 8, 6, 6, 1, 2, 3, 4, 5, 6, 7, 8, 9, 10, 2, 3, 4, 5, 6, 7, 8, 9, 1, 2, 3, 4, 5, 7, 8, 10, 1, 2, 3, 4, 5, 7, 9, 1, 2, 3, 6, 7, 8, 9, 4, 7, 4, 7, 8, 9, 8, 9, 2, 4, 5, 7, 5, 7, 9, 10, 5, 7, 9, 1, 2, 3, 4, 5, 6, 7, 8, 9, 10, 4, 5, 7, 8, 2, 4, 7, 8, 9, 4, 7, 9, 6, 1, 2, 3, 4, 5, 7, 8, 9, 10, 9, 1, 2, 3, 4, 5, 6, 7, 8, 9, 10, 1, 2, 4, 5, 6, 7, 8, 9, 1, 3, 1, 9, 9, 10, 1, 2, 3, 5, 7, 8, 10, 4, 5, 7, 8, 6, 7, 1, 3, 1, 2, 6, 7, 9, 1, 6, 7, 3, 4, 5, 8, 9, 2, 3, 4, 5, 9, 2, 4, 9, 1, 2, 3, 4, 5, 6, 7, 8, 9, 10, 1, 2, 4, 5, 6, 7, 8, 9, 10, 1, 2, 3, 4, 5, 6, 8, 10, 1, 2, 4, 5, 6, 7, 8, 10, 1, 2, 3, 4, 5, 6, 7, 8, 9, 10, 1, 2, 3, 4, 5, 6, 7, 8, 9, 10, 8, 1, 2, 6, 7, 10, 2, 6, 2, 1, 3, 10, 3, 2, 1, 2, 4, 5, 6, 7, 8, 9, 10, 1, 2, 3, 4, 5, 6, 7, 8, 9, 10, 10, 1, 2, 4, 6, 7, 9, 1, 2, 4, 6, 7, 9, 10, 1, 1, 2, 3, 4, 5, 6, 7, 8, 9, 10, 1, 2, 3, 4, 5, 7, 8, 9, 10, 1, 2, 3, 4, 5, 6, 7, 8, 9, 10, 1, 2, 3, 4, 5, 9, 10, 1, 2, 3, 4, 5, 6, 7, 8, 9, 10, 2, 3, 4, 5, 8, 3, 6, 6, 7, 5, 7, 3, 5, 8, 1, 4, 5, 7, 8, 9, 1, 2, 3, 4, 5, 6, 7, 8, 10, 1, 2, 4, 5, 6, 10, 1, 2, 6, 10, 4, 4], \"Freq\": [0.9999192210629079, 0.9999691079272764, 0.027176218509099473, 0.9069232623180136, 0.01975402068036561, 0.03329880971412507, 0.012851665501115054, 0.09105307291317512, 0.21097803689229405, 0.2557189380637216, 0.051703850965767295, 0.10976188721171895, 0.004035944197900626, 0.09413802822139512, 0.1427454067124584, 0.010707674211144425, 0.029158174918546637, 0.9999270966728794, 1.8696699250273205e-05, 0.967946816885894, 3.739339850054641e-05, 0.01232112480593004, 0.00828263776787103, 0.011386289843416381, 0.005553665763196241, 0.0644257054695596, 0.018350966642171646, 0.6811945015996965, 0.013191945322893075, 0.08152590383383089, 0.13142296505755047, 0.004337906266611161, 0.9999707279857025, 0.019016353117565492, 0.9809772170110619, 0.7872681413344632, 0.08088133481764107, 0.014385517998844471, 0.08625523521950826, 0.00028109632871305286, 0.02261998692232096, 0.008300609236114856, 0.0666745057392362, 0.00946494260196136, 0.029041712372205177, 0.06972167251216979, 0.21199655612066928, 0.5671021364748311, 0.00036883769132343427, 0.045628059629719, 0.9999611652199557, 0.1487613738545349, 0.8512200042176751, 0.0010670785874297333, 0.00020390036702478982, 0.0034595095605206004, 0.9952648781636023, 0.0032829536136586954, 0.03731515592554636, 0.00018419211693794662, 0.00042255838591646574, 0.2554202920408914, 0.64664434841709, 0.0006067505028544124, 0.05611358668362503, 0.9999323734488329, 0.9999849171770565, 0.9993755381792246, 0.0005571897514380156, 0.9503803272745674, 0.00017700354881345438, 0.0017861267198448578, 0.025150595163220834, 0.02249554193101902, 0.07380548598398529, 0.7106377204312306, 0.004706469191041777, 0.001799861139567045, 0.2090466048405836, 0.1633913963504258, 0.03870962483944028, 0.013585231058566672, 0.37677616687379445, 0.024911779392355386, 0.05363405042308923, 0.22613887260863683, 0.07463179220863196, 4.141838737367888e-06, 0.028216966704774964, 0.0007661040413619809, 0.0042388681156490735, 0.23397612436822723, 0.014584886372344126, 0.6092514662897319, 7.227396616622461e-06, 0.058639482448966336, 0.05023402018383442, 0.02824466597776058, 5.420547462466846e-05, 0.999875357505712, 0.999873020194938, 0.9998690446701144, 0.0005770682632749208, 0.9992898759044044, 0.012236434105673127, 0.9752050402860669, 0.000913579921916772, 0.011544328104221027, 8.3052720174252e-05, 0.999971217573985, 0.06202904022904767, 0.2098641631743566, 0.00016637879603012055, 0.003418327991164295, 0.7245040299857067, 7.823022274573207e-05, 0.9957664285895084, 0.0041462018055238, 0.9999593943255759, 0.2734618015324955, 0.044267019775702514, 0.06852468783603526, 0.046171916408661154, 0.1464825825398678, 0.059010126007872025, 0.07952348162404543, 0.11802025201574405, 0.05284302315866841, 0.11169242351313455, 0.07263024683186065, 0.005550068957173829, 0.001969379307384262, 0.002113761954553196, 0.04251780193830773, 5.775305886757366e-06, 0.8752129553027583, 0.027657513671301457, 0.0008784475527558093, 0.20163540991864012, 0.7698279656655703, 0.9999098874920378, 0.009983171724629116, 0.002920736092097727, 0.983545908784024, 0.0034953071266087556, 7.182137931387854e-05, 0.9996775352814979, 0.00410606612231606, 0.0004060944516576323, 0.981755897685196, 9.024321147947385e-05, 0.013626724933400551, 0.027642844806563115, 0.1937743679490204, 0.14466149266127543, 0.014652007794177245, 0.6145705944217552, 0.004694613078975621, 0.9903172108946624, 0.008572672868612142, 0.0011022007973929898, 0.9999261904703372, 0.001144278950483852, 0.010433131607352769, 0.006259878964411661, 0.9821952026741393, 0.8821319532347867, 0.05769357261124594, 0.05478900795711804, 7.23128129658399e-05, 0.0023863228278727167, 0.002904564654127903, 1.2052135494306651e-05, 0.9999904232311037, 0.010281052773791065, 0.10220063477675355, 0.02404720818276554, 0.023756782963166922, 2.9042521959861764e-05, 0.0016554237517121206, 0.003920740464581338, 0.00026138269763875585, 0.00031946774155847937, 0.8335494227699924, 0.025640825770832213, 0.9743513792916241, 0.25968703028181905, 0.05414310807914129, 0.008489198691402888, 0.12834954781356103, 0.12675944693645272, 0.20126034979626287, 0.07015150928419037, 0.045118679353940504, 0.057771933065570394, 0.0482711669316498, 0.9999285730217367, 0.9999591649543031, 0.0001433165289770127, 0.0048714349803204975, 0.4225196865074984, 0.0005268209444803152, 0.5167914414617203, 2.654009795870606e-06, 0.013496966816899967, 1.327004897935303e-06, 0.041640086692311874, 6.635024489676515e-06, 0.999917198335562, 0.004777582209082021, 0.9890712735889626, 0.006146596994140612, 0.009133744824487465, 0.9908345312989968, 0.9998386289814107, 0.005745850456292272, 0.018138861244373642, 0.9760059314286265, 0.9998969607758517, 0.991243561337192, 0.008750304637163774, 0.014110907058443322, 4.2502732103744944e-05, 0.012389546408241652, 0.9720799859447506, 0.0013813387933717107, 0.0008917420011921544, 0.9931395916691745, 0.005828947715109692, 0.0001304988294427543, 0.9999324634174632, 0.9998375616943262, 0.999991486882449, 0.9999723197043011, 0.09963656168420458, 0.11994796649188644, 0.09549378753971294, 0.5244262108421479, 0.046401695196011505, 0.04316446935976671, 0.0028872554755696796, 0.011417783017025552, 0.0554746767965138, 0.001146152931210994, 0.00121626737078889, 0.6790287300938675, 0.00980455194891213, 0.16898418559213746, 0.0030663280761449867, 0.12749124989732363, 0.010398572827261556, 1.0263859669104559e-05, 0.9998610868580672, 9.168445892541484e-05, 0.9998648668111114, 0.22102695078761303, 0.3259264438249988, 0.1126617622709964, 0.00884196667137099, 0.10807193736068171, 0.009543992165881853, 0.0015373469689921421, 0.004087743385759453, 0.2083060710991029, 0.9972379309114228, 0.002691442432640545, 0.9998455342705456, 0.043173965855396824, 0.015263820353508824, 0.9415630223845568, 0.01177261428971042, 0.988201963933322, 0.02108792322374748, 0.9788989701554367, 0.9999144957729336, 0.9999427693800442, 0.9999419095970815, 0.012840630750448292, 0.027929293206694628, 0.11569202982414975, 0.8166356862877355, 0.021501080764588284, 0.005396329036166257, 0.7785227011091809, 0.06605544877826433, 0.024486233184198482, 0.017060480127878527, 0.0068931990492505455, 0.028686659155450173, 0.0002887792855235539, 0.002471500638441844, 0.07553265987590096, 0.002165508020967223, 0.03289110115567271, 0.21429576402837663, 0.6036395575655844, 0.005355015958825924, 0.130383727122887, 0.01126959471376741, 0.022085729292937988, 0.0006845980778134417, 0.977219108377961, 0.04050557765609551, 0.031590064267240626, 0.007243854628444593, 0.006086552409699008, 0.9145259310798453, 0.0009465562770847407, 0.9990375640031057, 0.9819069550513809, 0.010622197613457214, 0.00466477461331719, 0.0027820041368578417, 0.026117274852635854, 0.44338854564465574, 0.013264380555370202, 4.8410148012300007e-05, 2.4205074006150003e-05, 0.03960756943206346, 1.6136716004100003e-05, 0.47753383670933136, 0.9999621152595833, 0.007221068290230229, 0.0008252649474548834, 0.9500518847179571, 0.024070227634100765, 0.017811968449234564, 0.03787721632532435, 0.962113338090834, 5.0313613899301136e-06, 0.024049907443865943, 0.00012075267335832271, 0.00011068995057846249, 0.9757067575421972, 0.009376663778849147, 0.012707413046130848, 0.023754947744540452, 0.025838040108071416, 0.030900119440029253, 0.03251602750039364, 0.026629505280494792, 0.7903988929549709, 0.04787265035977495, 3.079615678918531e-05, 0.9986885685164905, 0.0012626424283565978, 0.13254610944886605, 0.07655491821761766, 0.07962906998095758, 0.026210346023892942, 0.013518795862048629, 0.007733413029651979, 0.1022742538904216, 0.1257733688452578, 0.011602788078994758, 0.4241582243744385, 0.9998777795049704, 0.9998397321713438, 0.07077462132443468, 0.008670822809134504, 0.64076960818925, 0.03641185925731164, 0.1155711166324746, 4.4517940196524524e-05, 0.0005456627526945434, 0.06794709615138114, 0.028248540966417518, 0.031015012964344398, 0.0013323570900567858, 0.9986016389975609, 0.9999716428508906, 0.9998909734382684, 0.9957239550724248, 0.004225563919676856, 0.9998112925013353, 0.9999806066199043, 0.007974907430618496, 0.05297341892319049, 0.8430612193013964, 2.963547911786881e-06, 0.004024498064206584, 0.028441169309418694, 0.0006282721572988188, 0.056494113842393306, 0.006398299941547876, 0.020959249755420902, 0.00017697221381802225, 0.000698322789660304, 0.9271143808973654, 0.0017984203350155774, 0.049250888802274996, 0.10619032467826905, 0.10012498004644414, 4.456535365044026e-06, 0.024715945134534168, 0.015544395353273564, 0.7021048640858611, 0.00017826141460176105, 0.0511387433138802, 0.0077457239870008365, 0.00020832020502936234, 0.9920397545502807, 0.18563267799392122, 0.017130981089082054, 0.7330366123087956, 0.00595052725600812, 0.004999631514723427, 0.023772393532117336, 0.00104747109000892, 0.0008914647574544, 0.027538832132362176, 0.9999532709325935, 0.14763021061404255, 0.48458761872637374, 0.017349020646608527, 0.013863846003476085, 0.08937238873325017, 0.0012207047596202354, 0.18420488440740784, 0.02421570832810332, 0.03754158634820358, 1.429815238208182e-05, 0.03148862162334596, 0.010350726905595084, 0.743701202629529, 0.005266780129171743, 0.17674677145690795, 0.006251721093977657, 0.002011166880232435, 0.01541108228166379, 0.0020229625804097516, 0.006741242651336286, 0.9998878686201831, 0.9998874435615819, 0.9999682000645624, 0.9977914871123827, 0.002093832014925097, 0.015088000759369532, 0.041428517057748644, 0.004857841555967502, 0.023656006436493474, 0.5990513438110773, 0.028154374313166707, 0.13079565248450178, 0.019184021949126245, 0.09991059737816392, 0.037876653272428215, 0.029858300844435876, 0.00013221961822230006, 0.8850314586324687, 0.003445487698381113, 0.0061132129366310494, 0.07090082586555807, 0.004518799893362137, 0.999988657828559, 0.20194658008220198, 0.018132034042906562, 0.01804795969649432, 0.7397234661110762, 6.53911583206316e-05, 0.022074186730236065, 0.04099187957377898, 0.5836040177676345, 0.1980428827552089, 0.004893434442932839, 0.009907907900355183, 0.007832953366249385, 0.026732330914396356, 0.050381048840607706, 0.04089965937226316, 0.0367094039658884, 0.9999343254677209, 0.9999596316543347, 0.004030077022468082, 0.0036942372705957415, 0.01406795405065247, 0.9782265661481552, 0.013761732259670425, 0.15404126185154288, 0.4058595319895256, 0.06666563989975198, 0.1388456936251802, 0.02756544122714848, 0.04963414303190813, 0.0854645770963382, 0.05357995356582551, 0.004584298352675571, 0.6131772844966338, 0.346491633237963, 0.0012478118527098404, 0.002441647111282105, 0.03474505115573482, 1.2700375091194304e-05, 0.001879655513496757, 0.0007665208262692364, 0.0015379007386004016, 0.3554190647712828, 0.31893461707529197, 0.3233405933619457, 0.05355256906999882, 0.00011042382164455842, 0.24768063194874454, 0.3942160276986856, 0.30437878772180726, 5.968855224030185e-05, 0.9999369884407423, 0.9999666034836983, 0.05946995475303468, 0.26581950275917393, 0.004174228343833874, 0.0068279180718231105, 0.0024198919834654263, 0.05956040205566068, 0.19744816818543712, 0.12117208067276385, 0.013753109657791165, 0.2693554803259866, 0.06051771166947685, 0.0831323843143489, 2.0182661887436e-05, 0.7421669342557404, 0.11416322696628174, 0.003937316249396035, 0.9960535151805436, 0.9998882625130825, 0.0022003974004313922, 0.9978016354741923, 1.3659939267693031e-05, 0.9999758540914683, 0.01594971782669278, 0.9840251973370137, 0.9997890865644817, 0.09614476026360033, 0.9038152773592404, 0.9998775431150523, 0.9999108559016294, 0.12302847873085293, 0.04276592243454888, 0.06287076752479151, 0.004249932152461586, 0.001348686956131721, 0.005065417288727278, 0.0030894340739296405, 0.0001411416581998313, 0.004955640443460743, 0.7524732270827005, 0.003175321901738615, 0.9966818536689787, 7.384469538927011e-05, 0.3778503095110257, 0.041577884682656475, 0.03896100391940322, 0.14078125866232807, 0.06204539874164963, 0.07810815485753249, 0.04952160048177924, 0.06585708362509791, 0.0655648760957024, 0.07973153002084095, 0.00048245448836448037, 0.999500963544694, 4.0453548034971964e-05, 0.14360431644585975, 0.05489546468345695, 0.6218403822370075, 0.021787125155977756, 0.05786013184659133, 0.0004912216547103738, 0.09948105369628676, 0.999969430963248, 0.032284805091463725, 0.004051113653706458, 0.8062981836094674, 0.0005806300750935952, 0.014718652293742394, 0.12580909265781173, 4.924767388410478e-07, 0.016256657149142987, 0.02284919246602189, 0.8872556205033786, 0.006055334295825644, 0.025086384939849094, 0.0060105904463491, 0.03251386395295543, 0.017390442829883498, 0.0028486917500066453, 0.02086485917117155, 0.9738633798484224, 0.005216214792792887, 0.017104742963261865, 0.003111306596450592, 0.003974731393551713, 0.0006698985494750079, 0.9620934101215735, 0.0007592183560716755, 8.93198065966677e-05, 0.012192153600445142, 0.0008539792219373774, 0.05189807550965017, 0.896797488954958, 0.008401648521707434, 0.0076732544794667285, 0.008250946306071425, 0.026121717376908014, 0.019641991202206086, 0.9803458108958216, 0.9999608041624464, 0.9998647599310395, 0.00011260160966226655, 0.9999402010688524, 0.00870753063324476, 0.003290506434670899, 0.9880025375068309, 0.9999121359966421, 0.0037383355763370542, 0.3267982856559698, 0.5435077038528366, 0.12595457160990986, 0.9998274275187681, 0.9974243183705824, 0.001617882106035008, 0.0009707292636210047, 0.06685597671697717, 0.015616369576116786, 0.0031295285046688054, 0.12324556813158054, 0.05035838016363565, 0.0022203792531340417, 0.3587196918429739, 0.11075537638721535, 0.2675311284012592, 0.001565881143306804, 0.026203027528944173, 0.8806328176636506, 0.0027166711553651404, 0.0003120500651432931, 0.07068851769804835, 0.01943888346980867, 0.9105454749248683, 0.0002836325187443131, 7.248386590132446e-05, 0.03586690773143363, 5.042355888787788e-05, 3.1514724304923675e-06, 0.05317794579212821, 0.9999453521375307, 0.10808529814858074, 0.03349154323386221, 0.7499873681847392, 0.08740475917129895, 0.02030086844251112, 0.0007248255663803914, 0.019791473749696614, 0.9801623573101498, 0.09669217283288986, 0.001985390757989073, 0.7836510360426916, 0.01601973551973752, 0.08344105561787105, 0.008301301265628624, 0.000760459304092145, 0.0072767303469416025, 0.001876103193329124, 0.001535282176053167, 0.9447742690887178, 0.00022069681280764277, 0.04155816940303917, 0.011908032378012377, 0.9768001199365147, 2.3763824397243968e-05, 0.02293209054334043, 0.0002376382439724397, 0.9999355147217851, 0.9999330941930226, 0.9997891897132934, 0.9999040554816991, 0.9999414092049534, 0.9998743242929055, 0.058000104354664794, 0.0003096090979786377, 0.9160227462409394, 0.004378757242840733, 0.021289311308626324, 0.014217795517380994, 9.256377289961584e-06, 0.7293469921852331, 0.00015273022528436615, 0.1575157723432763, 0.09876091749524513, 0.03966908518700893, 0.0015880338345479956, 0.014719852081771805, 0.057828862867309316, 0.6659187787924278, 0.035459573960968625, 0.013038979346127157, 0.1234464209108325, 0.027829682168209566, 0.020502738368502735, 0.9997727069583444, 0.15550482899540755, 0.0314269929000877, 0.30546527380998717, 0.0003077541956400601, 0.4276509024680513, 0.0002548589432644248, 0.07935490021172019, 3.6064944801569546e-05, 3.8843118809294875e-05, 0.02221473276629764, 0.008314193021498616, 0.001405414662372669, 0.00034958806928365386, 0.9039976696450291, 0.008021104034119392, 0.00755851780102688, 0.036286535353119466, 0.011811839310644669, 0.014941381733408785, 0.0037470719464247826, 0.38666823797651595, 0.1047989452902338, 0.12174285464065343, 0.020019863933305636, 0.04682486873830295, 0.0813278783557194, 0.21059915438897303, 0.009330696247909954, 0.9999316480405388, 0.0649019243367398, 0.03532912969758218, 0.747020094290079, 0.0016726523337306982, 0.007918727940319658, 0.14315492946343814, 0.06769438045241265, 0.009013585373864907, 0.022147186450335973, 0.016967738138488227, 0.8173186252486364, 0.0006894720155381738, 0.06239721740620473, 0.0037752796948370736, 0.9999758482429263, 0.006698646094295155, 0.016244216778665752, 0.9576229872263716, 0.005822669297348866, 0.002408936191602296, 0.011194468184504789, 0.00015655170891809813, 0.990406066589517, 0.009436404071595149, 0.00031030081099669646, 0.9358947409746058, 0.0188458644450905, 0.044950411152483466, 0.011244247488929975, 0.6114295512550586, 0.011598158156297375, 0.10664508110004328, 0.05789978518130669, 0.0950199583214703, 0.08883494808700193, 6.741155568902862e-06, 0.01732814038986481, 0.18653128581095857, 0.0003205004910841212, 0.0017918891092430415, 0.0018501619258037907, 1.4568204140187329e-05, 0.0006118645738878678, 0.1677383024701169, 0.0008740922484112397, 0.6402725719612331, 0.03381832287030045, 0.0017374102198200664, 0.9644339659654713, 0.9998858021704017, 0.9817111546906521, 0.0073965072325808505, 0.010822257950828824, 0.9999800193540647, 0.9999464300850495, 0.013184152256458562, 0.0005250326119828631, 0.009275576145030582, 0.9770273539432213, 0.0003733245981948619, 0.9995392792069232, 0.7780492432958281, 0.00014642417225315128, 0.12046804731840932, 0.10132552719918068, 0.022915598355867536, 0.0007706130420557225, 0.9762856071222787, 0.8077664045875422, 0.1414629946337367, 0.007268306626136646, 0.04350682438731558, 0.2310405690176537, 0.030348622635884413, 0.0085474455998443, 0.012959588571423847, 0.0009343361586874335, 0.7161340605910035, 0.03401497684165222, 0.03771891594085708, 0.13759852085173485, 0.03656759646800538, 0.6978650807170113, 0.006098120265991269, 0.036271844676814116, 0.0005492533264980588, 0.013315872312920888, 0.010434975216720587, 0.7726821743323612, 0.1470396689860839, 0.008223338080474636, 0.043921137492664436, 0.00029640497702265327, 0.01738909198532899, 0.9999319021593248, 0.0005169587921475473, 0.9994105849192457, 5.538844201580864e-05, 0.8098275464355943, 0.18950191779499875, 0.0004030841897849421, 0.0002617429803798325, 5.234859607596651e-06, 0.0158642920561254, 0.02429693678194349, 0.025661933230367282, 0.00012133301763767038, 0.9340215697747866, 0.07457217979686105, 0.10955770897306483, 0.036270441940979295, 0.03251018252641567, 0.055128426341655164, 0.006783583566976591, 0.6828366555984208, 0.0015116620762064825, 0.0008408620298898559, 0.9999237808082053, 0.9995244383867943, 0.0003647899410170782, 0.9998640934311549, 0.007258672881539832, 0.00027967239631815236, 0.07586380613103469, 0.6993048152151248, 0.059956638001519014, 0.031237912236085536, 0.1261002271826564, 0.008971874520445101, 0.009368734688806021, 0.9475036519616983, 0.000935456111136456, 0.03321577873406492, 0.0018375252514439065, 0.03644720504096563, 0.7913786002791446, 0.01803059343726577, 0.05794014509349227, 0.094365685849607, 5.0902905525384095e-06, 0.012366860897392067, 0.21462192056667698, 0.0007813595998146459, 0.2709434403852382, 0.0053931628404144455, 0.1167152720791532, 0.19178687714798967, 0.1873863209653202, 0.9695093074655392, 0.02967853973599143, 0.0007912208711633889, 0.0022718192128795443, 0.03673935855920539, 3.71667764888269e-05, 0.000910586023976259, 0.8825297535742558, 0.06988747734017788, 0.006578519438522361, 0.00039954284725488915, 0.000641126894432264, 0.00047991584640871046, 0.6536299016523279, 0.005164513753611155, 0.0003591628269897446, 0.34036870319812607, 0.03055056695714217, 0.0010797497677160434, 0.009257266390859607, 0.006557891971569499, 0.027676527134250936, 0.8885864228111398, 0.03628276792986999, 0.9998494742173659, 0.9999906857034903, 0.13391118075991768, 0.1774125007777835, 0.5792682585828719, 8.888401842574324e-05, 3.7035007677393015e-06, 0.00033701856986427645, 0.10300546685313319, 1.4814003070957206e-05, 0.005951525733757058, 0.9997738534909741, 9.458196950765035e-06, 0.0006478864911274049, 0.00017970574206453566, 0.0003546823856536888, 0.00010404016645841538, 0.9878140895379002, 0.008361046104476291, 0.0008748832179457657, 0.001655184466383881, 0.06663122063806179, 0.017387496249106234, 0.0665321911330459, 0.12466772265658635, 0.034107846359158034, 0.0014072613870679508, 0.6779716275764364, 0.010601369115911896, 0.000687994455899887, 0.9119883027035957, 0.003098228835405116, 0.06486916624129462, 0.0075519327862999695, 0.012480933206262654, 1.760357292843816e-05, 0.053679421484214125, 0.009594314759902548, 2.5653248021129808e-05, 0.041263249441987296, 0.8722104327184135, 0.02322901608313304, 0.9722158381585028, 0.02776092803438616, 0.9979174902166901, 0.0020785702267123217, 0.9997038153716573, 0.9999202486420414, 0.9455985222961275, 0.04213080308964301, 0.00952028265432068, 0.002557687877280183, 0.00017761721370001269, 3.5523442740002536e-05, 0.9999886297468656, 0.9999772458526864, 0.9999913181652258, 0.016514319504394637, 0.03179636643977848, 0.0006628132757558051, 0.1458749330557776, 0.04605618726677837, 0.10995698828858802, 0.6484040885568039, 0.0007374964617564592, 0.0005643831246434734, 1.1757981763405696e-05, 0.13557540872294938, 0.0003556789483430223, 0.030494325703392673, 0.8329942180284765, 0.5952806470720157, 0.02731915199514774, 0.008266746137228328, 0.1376661198553971, 0.009001726587927092, 0.09589710948486102, 0.01700088275524082, 0.02076141379910731, 0.02503571758520983, 0.0637720416300471, 0.02993256979254351, 0.11516146177419155, 0.6231005053038658, 0.06385570915857508, 0.003020960106871954, 0.00016270090823036724, 0.00010993304610159949, 0.12584035787250092, 0.027903205761507982, 0.010914152816966796, 2.822973734358381e-05, 0.06602935564664253, 0.007311501971988207, 0.9266411283031385, 0.7274833588059132, 0.01443972668879107, 0.02397374238927698, 0.06847554921175947, 0.00010220231225635742, 0.042136553310263926, 0.001394331545783162, 0.010745843117239865, 0.010570639153371824, 0.1006838779028344, 0.9521774433942684, 0.0066578672354375475, 0.013827878104370292, 0.027297255665293944, 0.9998718699166492, 0.9999687335927061, 0.9999352332362664, 0.999830401474022, 0.9999317468081993, 0.9705607698635051, 0.010755109566822357, 0.0186281309490714, 0.9997724539531927, 0.3960374289471336, 0.37461176186458367, 0.00948332437082561, 0.024278332850162166, 0.019812735093873126, 0.05531001960537049, 0.0007259472025106396, 0.010158148530905922, 0.10957968529728383, 0.03413674651851159, 0.0001658544415017711, 0.010390292952905071, 3.9024574471004964e-05, 0.8970871617958444, 0.0003707334574745471, 0.0004975633245053133, 0.0004195141755633033, 0.05689782957872523, 0.019715144841757203, 0.026759762353452086, 0.006327110172540774, 0.017905069508891158, 0.8323737413586888, 0.02755880461751007, 0.06936991410821765, 0.02444967369683412, 0.010806029872757321, 0.004982322170340016, 0.02197501036719504, 0.016266786953494226, 0.029910430777571027, 0.016926697174731314, 0.8746780027386987, 0.012654807002856362, 0.00509562929844745, 0.004877528433533357, 0.9665734649208715, 0.010686942380790567, 8.922308110121995e-05, 1.9827351355826654e-05, 0.0007405367345763359, 0.4294112335225753, 0.03380450120809274, 0.17973026693231073, 0.29416749575348167, 3.431058229697309e-05, 0.06205926572965008, 4.860665825404521e-05, 0.03438310754351173, 0.022979166525540485, 0.8819889118057194, 0.00041468876428986357, 0.032444888319113456, 0.027793162180557596, 0.7284816209470343, 0.006754250814552192, 0.05247283880413764, 0.00854704578384691, 0.138665973684493, 0.005225510918254371, 0.00011118108336711428, 0.009098318655542186, 0.05064298347372055, 0.010576677404913021, 0.030558490632449187, 4.217549696243562e-05, 0.0021040886817926215, 0.8129795656142381, 0.0698051336391601, 0.024733585885303912, 0.035090013472746436, 0.009213003003127603, 0.004892357647642532, 0.9999639075980549, 0.015145970001958607, 0.016723200712688884, 0.9673434953619345, 0.0007800743948377177, 0.024650801577489626, 0.0066468191090046334, 0.6377806115144131, 0.01734298354280095, 0.2536975906000051, 0.006788323277846085, 0.0059199141320793675, 0.04717128696927027, 0.6434187886023459, 0.03923680531178802, 0.0006265789394503593, 0.06698777047834117, 0.006188007181330445, 0.03446616290383494, 0.01580275297634458, 0.0209623064501634, 0.04551987964255231, 0.12678500747223134, 0.9999106621165964, 0.9995446576337, 0.00044836034283808314, 0.999847166002367, 0.009739305083939786, 0.042872039045970235, 0.7400731367828526, 0.006301903289608097, 0.08744951740810966, 0.001893753766321625, 0.09043867776475459, 0.012959216949926414, 0.008272574225710292, 0.039900920929248844, 0.9601018205518126, 0.030701957059418222, 0.01188305431189086, 0.00014640313320604754, 0.008357178853845215, 0.12432676074468563, 0.8244082433443543, 0.00017080365540705548, 0.9700368290949593, 0.005605755614604562, 0.024351884605378956, 0.13144802978195136, 0.05991490078280511, 0.04859880143260996, 0.057739572946554005, 0.08392590576324346, 0.0036365328979753356, 0.6147443505732958, 0.07647342711319602, 0.019231991179966348, 0.0024039988974957935, 0.0073231058852287825, 0.25108657392416145, 0.04140332554972797, 0.1447146731278245, 0.0026464189543861255, 0.45471942171204044, 0.004214073980614922, 0.022384435983051308, 4.531262344747228e-05, 0.97061905055658, 0.000158594182066153, 0.00258281953650592, 0.0884222450347109, 0.07808535130133686, 0.0004332374579428823, 0.07856419270222109, 0.013852197668436893, 0.024987160403284657, 0.6140570917053589, 0.03435497034915488, 0.06724301386702947, 3.8003285784463355e-06, 0.04362380032769673, 0.8375263145642559, 0.11884161569678775, 0.015167460491400931, 0.3011255961822067, 0.07143980454404111, 0.3625082259086085, 4.736131300983897e-06, 0.07154636749831325, 0.04175610161512453, 0.00472665903838193, 0.11530822071940446, 0.01641779915486068, 0.0003664666424042668, 2.0743394853071705e-05, 0.0015972414036865214, 6.914464951023902e-05, 0.00868456797848602, 0.01557828953465685, 0.04506156808582277, 0.03785669560685586, 0.856577747062743, 0.034192029182813194, 0.0001238670742064026, 0.01799169252847998, 0.002957326396677862, 0.03256155713200808, 0.011573829746160743, 0.025005665605417525, 0.7564562221785006, 0.15333195448325063, 0.9999687848914149, 0.9999121627007276, 0.025006064266681546, 0.002417212592236012, 8.460244072826043e-05, 0.02603337961838185, 0.05913710606905404, 0.005221179199229787, 0.04873100585947801, 0.8169936840498498, 0.01601403342356358, 0.00033840976291304173, 0.012966648125018642, 0.018881809151959937, 0.7130033145801488, 0.033121484228852804, 0.1766517131339021, 0.0027568010948864586, 0.005542081539926702, 0.037077265965213636, 0.999580655831705, 0.0004088933387186881, 0.9998329204944089, 0.999923859953416, 0.9999157450901079, 0.9999375463354425, 0.9999090275024971, 0.0001386193256912601, 0.015469916747144626, 0.01926808627108515, 0.9651231931928292, 0.027167137845487254, 0.0003241901890869601, 3.831338598300437e-05, 0.962797706651677, 0.009669709185402872, 0.9998830819186748, 0.9997992338045135, 0.0064093476845327665, 0.004398016477452871, 0.0010056656035399478, 0.007861188872741846, 0.006395183380257556, 0.004433427238140897, 0.10464587998525543, 0.8614800681704423, 9.915012992647374e-05, 0.003286118591848844, 0.9999065600791585, 0.9999662458862186, 0.00013156987583278146, 0.9706896514253035, 3.2892468958195366e-05, 0.029142727496961097, 0.9998829178105021, 0.02923433428405552, 0.0833262865442287, 0.013893632904508622, 8.877720705756308e-06, 0.045649239868998936, 0.8193425993756611, 0.008540367318937567, 0.0001128219597216097, 0.0006092385824966924, 0.00045880930286787945, 0.07382316897783996, 0.013658978590296215, 0.04712197184372565, 0.8642162114675304, 0.9999867894437233, 0.999857882837664, 0.9998382571945098, 0.9998802417720031, 0.9999053649949635, 0.039487390815295134, 0.12096787079272753, 0.003016757303986342, 0.5004906029291822, 0.07571004213220905, 0.19529136900323307, 0.06496917856454933, 6.46910072334455e-05, 0.006784366180355135, 0.9931215624818851, 0.48846737178228344, 0.03835672366512915, 0.004391335044522973, 0.1357803661237984, 0.026505611198588904, 0.13687402107235278, 0.02779507336500674, 0.03144616161028985, 0.05356998933595887, 0.05681274789520965, 0.43507453247654737, 0.01615634128496826, 0.0004111609545163703, 0.2336878969544292, 0.0979887923713514, 0.14878315984679877, 0.007453434414371757, 0.0330002350549889, 0.022104469760305084, 0.005340523953662631, 0.9998924760294788, 0.3856030002917193, 0.0322685039315732, 2.6984114785984555e-05, 0.1393234819925026, 0.02765422030316984, 0.38366014402712845, 0.0023386232814519947, 0.0021902106501290796, 0.010182005979244839, 0.01675263792963208, 0.0012662084054145414, 0.07242139133991352, 0.020279960505906386, 0.09788535802328178, 0.08344943631159636, 0.2910388614020021, 0.08727327110695231, 0.34638534645315355, 0.00021711410205858974, 0.999767017159394, 0.9999807106471419, 0.010151325023521188, 0.006183079787053815, 0.9836172523927326, 0.09815057314061332, 0.12394804231293592, 0.3341275464132779, 0.06879083766663965, 0.027016748938985286, 0.01648199798593185, 0.17220371801871637, 0.07044454015301588, 0.06494909274863954, 0.023886009205583012, 0.019146946797858434, 0.10202359019770331, 0.0011267534040069968, 0.8479160011530606, 0.023897653591962352, 0.005549915603922835, 0.00034064637795560367, 0.04250942411421645, 0.019927698288463372, 0.05562211948913084, 0.06232466360872687, 0.025010835775136873, 0.00044983517581181426, 0.7941390193781769, 0.02277102129181179, 0.9741774671861202, 0.0007540073275434367, 0.0022871555602150912, 0.010474020476510425, 0.8448908122870228, 0.11217534115752074, 0.0128240908348764, 0.018537192912972997, 0.0010838686566601698, 0.9999363292358865, 0.9999451074141326, 0.0024398161206535453, 0.9974932179205286, 6.024237334947026e-05, 0.9999520221246866, 0.5117685345347147, 0.042885248447639954, 0.10242959700295144, 0.12347808234104989, 0.057020390846125694, 0.1488645434896985, 2.692874374495031e-05, 0.013525573562804587, 0.4600106138469848, 0.047061696101148104, 0.11530677373396632, 0.09133623372355594, 0.0477285622402332, 0.026518310644350868, 0.06669149937472986, 0.08382238667657517, 0.0546121841447819, 0.006908049235650723, 0.9999172282540091, 0.23539192043322255, 0.10061812116028325, 0.010377856555609565, 0.01711109289045904, 0.43408490951944845, 0.07428374483524376, 0.026254567123125044, 0.055201364657497684, 0.015190351431051172, 0.03149005076871326, 0.14112375862880333, 0.004831322288373134, 0.07602609554938031, 0.03281775350969774, 0.6564524384934325, 1.3909757068252786e-05, 0.002258017230746369, 0.0822437569588893, 0.0041775637061652535, 5.5639028273011144e-05, 0.000510791425443272, 0.9994911217361225, 0.99979351768968, 0.9999500131115941, 0.25246875376687317, 0.10958817540428847, 0.010824534360764297, 0.0037869494265154974, 0.07044544733194828, 0.13776512613725378, 0.1306579432135447, 0.03994515195082347, 0.019317536074609055, 0.22519657689689157, 0.9998080993262064, 0.10675677588816453, 0.13905882911976455, 0.750503861406642, 0.0036755071510792166, 0.0006269510095828176, 0.1148201997393782, 0.10912866010550919, 0.0016751347287290907, 0.006485024505372269, 0.07645863484052955, 2.9388328574194573e-05, 0.6907726631364435, 0.028952813868413245, 0.07136855625250807, 8.352844108722888e-05, 0.6561957208061105, 0.01320863081726046, 0.0011564048621631909, 0.019887193729079336, 0.0008167225350751268, 0.025153197892734187, 0.18317787130429292, 0.9999872915488495, 0.9998539934969132, 0.9999470796440579, 0.008843951269853628, 0.008203287083376042, 0.04646208100193969, 0.0015738055015645039, 0.08584900098799647, 0.0001949847524062217, 0.848880047082801, 0.9999171599253933, 0.9999827569068088, 0.9999548288853225, 0.9998412340473722, 0.5840165661275217, 0.011288934411602706, 0.17107866967401555, 0.00011678208012002798, 0.219649398451209, 0.006546874188547024, 0.007297110582045385, 0.9998571725923294, 0.006929193123378529, 0.9929762374000934, 8.793392288551432e-05, 7.747382349108104e-05, 0.0015283472452331441, 0.8261245091099856, 0.11403442510400846, 0.05815466914235056, 7.747382349108104e-05, 0.9999961550406732, 0.9999285896341835, 0.10741720725377137, 0.0003003276996843561, 0.43662920153647383, 0.00465507934510752, 0.04306643597232984, 0.3814412059074393, 0.0058730750160496305, 0.02061415960889011, 0.9994346254254473, 0.000560900319571593, 0.9999609065890351, 0.999986693557132, 0.9999414633552641, 0.9999676038895678, 0.10173261211795037, 5.8016887435386585e-05, 0.7702974665905571, 0.10670030810460535, 0.015679063829413226, 0.001820279843285254, 7.977322022365655e-05, 0.003633307575641085, 0.0025410857611531446, 0.9639655892078178, 0.023316814715766354, 0.010164343044612579, 0.02242828632820227, 0.012053084924796653, 0.1370605965989075, 0.006251413449801249, 0.0537960592940838, 0.012755374316224243, 0.36170671301442725, 0.17675205565234955, 0.18386835751523897, 0.033325880333113136, 0.9153279846344267, 0.031845310721823124, 0.03453093013202927, 0.012195618403861958, 0.005914821105844789, 0.00018298809608619, 0.006190255505038363, 0.9810423865675915, 0.01052960404843735, 0.002221088353967253, 0.006296773692507312, 0.6681438571788557, 0.0030035314890081827, 0.2392537504610337, 0.0002601483966857481, 0.05958876399993891, 0.023451786714864087, 0.0002005904136903593, 0.4772529292088082, 0.5156019495032494, 0.0052661025473649745, 0.0016772258686880643, 0.9999015914385888, 0.0008925198160286612, 0.006803634663169303, 0.938023695173729, 0.0438505227645557, 0.010373713927283947, 4.3894417181737435e-05, 0.9986812990429824, 0.0013171205120786013, 0.0007739775633496782, 0.004156546173544568, 0.9950370217766182, 2.8665835679617714e-05, 0.999979360969934, 0.050175774484394385, 0.9498232642313639, 0.9999426529126126, 7.562339378157845e-05, 7.562339378157845e-05, 0.9992875254297776, 0.0005482696049164438, 0.9999796558619196, 0.019124531033502458, 0.1596568065679278, 0.0005583230688234682, 0.0069829702128907005, 0.01148887328945193, 0.29904098114392746, 0.12436449765412887, 0.023087838451629615, 0.3557068407769121, 0.00821529592397143, 8.298278711082254e-05, 0.013075716311891037, 0.01569560144781843, 0.9625647664339224, 0.00036749520006221405, 0.001691558007686839, 0.021005296272668218, 0.00010706063339790121, 0.9771424010226443, 4.282425335916048e-05, 0.00877899945603844, 0.0040932758199933835, 0.0016292314941421034, 9.425306164458449e-05, 0.8189917820759788, 0.16641051269505996, 2.2756433850997886e-05, 0.001168163604351225, 0.05380379510170934, 0.0009481847437915786, 0.007031738059958347, 0.9016250801324369, 0.035393840116252046, 0.9998243453599908, 0.9540746579594004, 0.042698906840898714, 0.0032135957373713034, 0.00015868169697895356, 0.9996946909674075, 0.9999735792337976, 0.00016893519322352528, 0.9998147852278971, 0.014127253606434574, 0.0005524624315365476, 0.9851983618386747, 0.016537200650072886, 0.09263430139223264, 0.022671492501349477, 0.03334008285289596, 0.02995707108121022, 0.08548451560599976, 0.0016649377305678523, 0.7124516518549073, 0.005260494744453746, 0.00017647923183922848, 0.9549356597499112, 0.002790986370198169, 0.038681633112020525, 0.00340539554771252, 0.9999017062732664, 0.9999743201404071, 0.9297355015868844, 0.04936142897347774, 7.356397760577904e-05, 0.02081860566243547, 0.9999364370387244, 0.999931498556525, 0.9999233713378969, 0.8077598780289542, 0.016163729734632558, 5.9251208704664796e-05, 0.09411461990648956, 0.08188517042984675, 0.0036800888538375525, 0.28927608836384, 0.014232314958031251, 0.6344855702212218, 0.058314239508300426, 1.3190282630242124e-05, 0.028042665030121084, 0.005295146768693384, 0.0012427385273464063, 0.9653917073086192, 0.9998421894083528, 0.9999588589409848, 0.6226029282482731, 0.05519902330094605, 0.1867884901643278, 0.00027592375691242534, 0.11307403131332727, 0.008648782587358435, 0.0003496620022941942, 0.011705351791086595, 0.001353453600716983, 0.11963453870717582, 0.13012366289109753, 0.7459883126685269, 0.00425417268403692, 0.0033317605135427418, 0.0006096412854567569, 0.03340976021346158, 0.9270446407628766, 0.03560730438196849, 0.010020346580122855, 0.006349098910681292, 0.9497877647087427, 0.03383306675759872, 0.9999813053813663, 0.9999685016504365, 0.9999422286579838, 0.999968633472922, 0.9999349640088305, 7.986191341963332e-05, 0.008776548898909359, 0.0018285624314012593, 8.261577250306895e-05, 0.9613226365638772, 0.0002258164448417218, 0.004973469504684751, 0.007691528420035719, 0.015016793581974499, 0.02198978536991692, 0.978010742934071, 0.9998485818054896, 0.004531714100780981, 0.6846049335426602, 0.04983291707541102, 0.13918418742005922, 0.019555966711576542, 0.0012405102491586859, 0.10104713035973535, 0.9399601550722252, 0.05994383526688517, 9.27683806038976e-05, 1.2393455958082468e-05, 0.9866678157348614, 0.004975972567170111, 0.001010066660583721, 6.196727979041234e-06, 0.007324532471226738, 0.04468301327280673, 0.01576981220198199, 0.00984345139769891, 0.3377462048284031, 0.001476658612194168, 0.010838223325379332, 0.2329344419212701, 0.005512107338648459, 0.3411475921278656, 4.790686337271156e-05, 0.011529140084249581, 0.00010666899075635696, 0.9053441699620166, 0.08302403113869783, 0.8953411320353242, 0.04443681764124406, 0.02202163431046635, 0.029755728100933163, 0.0021559641982274746, 0.0005988789439520763, 0.005680794554059695, 0.9038212612326044, 0.07584062715136562, 0.0002958322335691567, 0.004518165021783484, 0.015195019269688501, 0.00032272607298453455, 0.9998938526427141, 0.9966929355384345, 0.0032764994684854024, 0.0010290117237470031, 0.7176731022762798, 0.13293023747512805, 0.04144553300848571, 0.010769859189757485, 0.009372350024398379, 0.08677071832677431, 0.8804347648869502, 0.10736532339469916, 0.012203271730107882, 0.999876926812434, 0.718638261158855, 0.1585764291337385, 0.009785772575650196, 0.0026781634975482035, 0.0017854423316988023, 0.057498530600422655, 0.03474325027091445, 0.00014802774433727314, 0.008877109960410627, 0.007269300921916552, 0.9998621281112204, 0.9998902874713393, 0.012869734954514727, 0.00013592875955338747, 0.8501582709010888, 0.00277838384527124, 0.1217649828079245, 1.0874300764270998e-05, 3.2622902292812996e-05, 5.980865420349049e-05, 0.012184654006365652, 0.9998693919618074, 0.010484530967225741, 8.764016206655921e-05, 0.05038848054816278, 0.16268320399607772, 0.028681396196308693, 0.0032519112766802236, 0.04792071808997282, 0.6293947428411582, 0.06710468830233175, 0.9998316427280787, 0.45571182917105507, 0.009828812294090277, 0.0074616104388791765, 0.13531088825461324, 0.07719727140451693, 0.09748999892946143, 0.002319654041763531, 0.024877695250245777, 0.03227817278612093, 0.15752590595179516, 0.00521445875515182, 0.1053753328904103, 0.82570976922223, 0.023764771837437814, 0.03993094604204419, 0.10150031528927607, 0.0016515625453857102, 0.009450369577882388, 0.023057529042722576, 0.7484838557959587, 0.015305909511522633, 0.005722556975440357, 0.06136091077713558, 0.016026591349509126, 0.017437926615566004, 0.027564775282112507, 0.0002680529200853728, 0.013640915266566751, 0.8828620759589627, 0.016797982992016697, 0.002472043596342883, 0.047221989421706516, 0.009024448309540885, 0.00014891828893631823, 0.09582382906725605, 0.455411651703693, 7.5007889577896735e-06, 0.12642204748906605, 0.12750841175645258, 2.5002629859298912e-05, 0.008455889418414892, 0.18634460034135478, 0.9999803616140738, 0.16091501479744047, 0.13172519886670525, 0.07736180432968053, 0.13958886494153946, 0.018734234875063444, 0.18422466539851434, 0.05222866944425891, 0.059070691961517395, 0.06328387262236328, 0.11286611598374528, 0.9998286886932288, 0.9999421408162341, 0.5013911358085484, 0.019343405347209765, 0.054995231333817694, 0.1415776277850186, 0.023573041955003447, 0.06321699637405147, 0.01023560681448928, 0.07122116410393138, 0.050828171730308784, 0.06361805808333117, 0.0056673493093512784, 0.4840795143677303, 0.0001464722485518223, 0.01343037848259786, 0.49666486064714455, 0.4531431393469321, 0.061488351529557575, 0.0012216228780706803, 0.13571371438194732, 0.035690224855017334, 0.03287439797166394, 0.10492383163873732, 0.045371793922720345, 0.0789040953718033, 0.05066826318093155, 0.009841946095405103, 0.19868589868996503, 4.8604652154288455e-05, 0.6980649738982738, 3.1741813651780215e-05, 0.061611852229782015, 0.011242553622789905, 0.020470494010368386, 0.9997651203703373, 0.9997461927237459, 0.9997951058082679, 0.00015931720274213495, 0.9998518067661619, 0.00014611841829179233, 0.12100359887859714, 0.000558746776928587, 0.00024445171490625683, 0.009987598637598493, 0.8681877263263502, 0.9999388407767518, 0.9999591756220716, 0.9999563493036718, 0.08911985669187066, 0.26987070270068836, 0.0458275032629505, 0.17002315934271037, 0.0029487795437931814, 0.027211497744849836, 0.14325197709535, 0.015512448405492998, 0.20652664837397455, 0.029709287476062884, 0.9923036706623045, 0.0008232038747284932, 0.00686003228940411, 2.28667742980137e-05, 0.9999686235368421, 0.999920567627979, 0.9999849118719676, 0.5965873587934611, 0.02979499031773347, 0.00035323795020494853, 0.1482085513931334, 0.06106916455195016, 0.04279856235965314, 0.03143502365797073, 0.01589886166949237, 0.05706369850944762, 0.016788264365544116, 0.9999501475081517, 0.00021664781881296127, 0.0052172331877407, 0.11057439389170098, 0.8832112579236394, 0.000782584978161105, 0.9999673590388254, 0.03665220930764674, 0.022909855484331925, 0.6659875693235802, 0.03790270636675146, 0.01592299588593337, 0.011409966050153209, 0.03689294170029836, 0.14814034486477137, 0.009753877061016778, 0.014428019626509308, 0.0001539306483700089, 0.18848316624880876, 0.004575342888785158, 0.8067865544291756, 0.9999242598491322, 0.9999826488463107, 0.025526538265846315, 0.00011602971939021052, 0.9743015537195978, 0.0010092133418960687, 0.9988328618079949, 0.9965354174458746, 0.0034262023193129287, 0.9999082956757263, 0.010069743178697558, 0.00013077588543763063, 0.9234085270751099, 0.0663760271865663, 0.2687196064235962, 0.053175344997184196, 0.4508303151205798, 0.09855850243260678, 0.09826814313999371, 0.00025604410348606935, 0.0003510707810685281, 0.0007417360111297473, 0.02301229375455209, 0.006084346995210205, 0.9998823624618336, 0.0009093351040742049, 0.001330734298645178, 0.05766515294129104, 0.9398976351330891, 0.00019961014479677667, 0.021843818233022227, 0.0013566160797350646, 0.002023427373164164, 0.061783515360137604, 0.008576572843070833, 0.9043800618328739, 0.07026326572703963, 0.004628925799006949, 0.8999326446574719, 0.025171999253099046, 0.9998362844866064, 0.9999760825806207, 0.47873150786907737, 0.005857885071122152, 0.008416630157903303, 0.1365142723085229, 0.14019759705079168, 0.07084292337206179, 0.02062475358215214, 0.06377093986690573, 0.04250836498761134, 0.032536346052466435, 0.9999464825519051, 0.9999412515130398, 0.9489105545738457, 0.006962850978539552, 0.042996121324453435, 0.001115709058875774, 0.0012912451415491044, 0.00034088871736896357, 0.0005371579788844274, 1.0329961132392836e-05, 0.9978122656223536, 0.13647090346512583, 1.3801669039757872e-05, 0.004009384856049661, 0.7811537651467358, 0.07834517430418556, 0.0005375045035037919, 0.9754070855322289, 0.02404748409153921, 0.01616235436869092, 0.9838308015451146, 0.9999829844214784, 0.9999504368025656, 0.9999356590595906, 0.0002838833347759225, 0.999695163413411, 0.051849073775919075, 0.12806177132939242, 0.024232061101105824, 0.2719244430878302, 0.022869606943309223, 0.08656155147546028, 0.16530069839191816, 0.10960062898504208, 0.13598898005437918, 0.003614628788524205, 0.5238084588118532, 0.007321141216999491, 0.02517161463508074, 0.15012043844130787, 0.04541307713507075, 0.016312607201078903, 0.024780974165360438, 0.09552282014746837, 0.11026388522898282, 0.0012864194778720358, 9.587782153540487e-05, 0.9730320514889789, 0.026877749303758497, 0.007524490903462421, 0.9899639630448797, 0.0005550853945177196, 0.0019119608033388118, 0.9999038551728595, 0.9998003478518241, 0.0932566024916914, 0.08685345645660898, 0.18289653713301535, 0.4237871652166392, 0.062149149128701134, 9.863639591911303e-05, 0.011873356158763232, 0.1390855379456093, 0.9999530891392077, 0.0029978370961487974, 0.9969386153692724, 0.9998855099901565, 0.9999093898556263, 0.009242918631136113, 0.0271932820081631, 0.0256428053852142, 0.11713691043428141, 0.015177088180309104, 0.05244447216386959, 0.5483012820485025, 0.13758881599163317, 0.0022218170163906957, 0.06505608098352612, 0.9998659797761769, 0.00016985840757113358, 0.9997865869636923, 0.9139044017794301, 0.019816631148504772, 0.06601916787566381, 0.0002584186628837273, 0.027284114828849806, 0.8427368585901693, 0.12964081830134, 0.00033018291442738775, 0.9998425415949282, 0.009195142302618389, 0.9832859457378126, 0.007509546298848154, 0.9999061886915724, 0.9999454080203536, 0.999925986085756, 0.07246918599145416, 0.3686814125151566, 0.12118779053361019, 0.2352414328611025, 0.00601242679006162, 0.0038856429852189276, 0.05253245735674735, 0.013245286480792465, 0.08390476192100918, 0.04283779306491167, 0.0057477051720537355, 0.5752171863756358, 0.24588716436926655, 0.034810698259777055, 0.11167993414585055, 0.02265792574056667, 3.3710880774508714e-05, 0.0039694562111984005, 0.00040218329484802633, 0.23503527657963305, 1.6023238838566788e-06, 0.1461127103211228, 0.059162604763640145, 0.0034594172652465693, 0.4087175716463939, 0.08278887043110687, 0.06431728069800709, 1.6023238838566788e-06, 0.9998904761095821, 0.6599792798993969, 0.08660061857969824, 0.00022222819611845184, 0.08334412078273169, 0.01836801513302127, 0.020714232049733387, 0.04331313014731749, 0.006534363689713709, 0.02725286935860322, 0.053668109362606124, 2.9596785444014067e-06, 0.3067292456275842, 0.07506632692165287, 0.5958484039159799, 0.022351492367319422, 0.8441792759067924, 0.03968265069714036, 1.6555131705106534e-05, 0.04041107649216505, 0.026521320991580666, 0.000496653951153196, 0.034765776580723724, 0.0035262430531876917, 0.010413177842512009, 0.007915831459193914, 0.21179451380936273, 0.0006558174319390306, 0.16981069259628337, 0.00010355012083247851, 0.6097031114616335, 0.9999030110737609, 0.9999513786462683, 0.06182747219491744, 0.06023518765119134, 0.5868645677292599, 0.29104619864395803, 2.8099139006931118e-05, 0.017131407572208143, 0.06734156974797129, 0.0045863610823234395, 0.9015496910550236, 0.0006145124325988923, 0.006579779461241797, 0.002173275676264375, 0.0016327371910338363, 0.9983280846954669, 0.007432034534423381, 0.006173575012620061, 0.006577231840368296, 0.0034429552954996496, 0.0005461239434240824, 0.0001899561542344634, 0.9756385526674834, 0.9953120775136728, 3.140974746003764e-05, 0.004648642624085571, 0.9999786263895142, 0.9999321544201689, 0.9999813714115471, 0.005738863948051835, 0.993158126785316, 0.0010907559987657915, 0.9999357480434414, 6.036592139313506e-05, 0.000513110331841648, 0.002535368698511672, 0.015624712653923123, 0.005020432462529065, 0.09646474238622982, 0.6874370518381232, 0.19232582555852828, 0.013806223017651881, 0.11698484939274338, 0.006570972203459803, 0.006005437710539082, 0.1214373114322462, 0.051957359444843365, 0.029219282134237242, 0.6540181992178564, 0.019674614493313182, 0.980315189007566, 0.013770687209078623, 0.022033099534525796, 0.9641521148163789, 0.9999528592029397, 0.006620314940128695, 0.03176674697287769, 0.010258796972264466, 0.39936323256393896, 0.004051848038153562, 0.03168493495085333, 0.47346339503852414, 0.042791993414633474, 0.0010231348821533779, 0.017549895274488043, 2.0880303717415875e-05, 0.12435264878907024, 0.8570529463850519, 0.9999329281744284, 0.9999054331001215, 0.9484749461109863, 0.018494177307735848, 0.023298411872733894, 0.009548947639810278, 0.00018706754058399477, 0.19173996278363617, 0.05128972739402591, 0.6095749260084138, 0.05777924690236842, 0.012363168130589613, 0.0030336040217956864, 0.00044342703798869664, 0.043642370619824025, 0.028780526322790167, 0.001351396687203647, 0.009348622457410234, 0.041215632201239194, 0.9047806318294411, 0.010857314876541272, 0.02191886322466797, 1.3176353005511252e-05, 0.004486548198376582, 0.007385345859589057, 0.9998356704572824, 0.9999682304007459, 0.490496802697073, 0.12314170872367082, 0.006293356190446889, 0.10551511721368752, 0.008146455124543765, 0.0009700888896550005, 0.19008548060505998, 0.02220816092742479, 0.04389079338549317, 0.009251745379134934, 0.1545998292265864, 0.00018590648055145072, 0.1065163304655225, 0.14912932896409853, 0.4599795136489499, 0.03535617944470242, 0.00010346099787211171, 0.06574946414772699, 0.028362862619784372, 1.6165780917517455e-05, 0.9999571663841584, 0.9999436961688484, 0.999627048824547, 0.0003652272739585484, 0.9999646390318616, 0.9997575533554657, 0.0001917448318671779, 0.0005225306532022387, 0.9993771978673675, 0.3022284389751409, 0.07016663470073092, 0.011670712128978621, 0.0986093613378097, 0.02245759396203967, 0.09075869424621977, 0.09513632349714034, 0.04567741740747134, 0.09667857770478172, 0.16661684014784267, 0.9999543228476185, 0.09560263223324757, 0.004560306750742011, 0.4136473121678416, 0.1567770196533995, 0.015512950998911408, 0.006074132773696832, 0.033403964518957066, 0.15907411884246028, 0.1022717513542749, 0.013076519563956758, 0.030434998120533067, 0.022560989432468547, 0.005651416164766874, 0.032490058544084655, 0.14684746983074082, 0.7620141712915999, 0.023056551314359675, 4.098213884528914e-05, 0.00013114284430492526, 0.002049106942264457, 0.9123115892627507, 0.06241579746137537, 0.9998434606853563, 0.16437594537500336, 9.797890644248164e-05, 0.0009675417011195062, 0.04791168525037352, 0.01810976787411869, 0.7296366689138555, 0.008683380583464935, 0.008687463037900038, 0.021102206975049484, 0.0004286577156858572, 0.02117655594641138, 0.058458149835247754, 1.696159867553975e-05, 0.06680325638361331, 0.013331816558974245, 0.7567078017118549, 0.04560125803918862, 0.00685248586491806, 0.031056687174913285, 0.007467399124337058, 3.5128893730080244e-05, 0.08662785193837788, 0.007979277290118226, 0.013775544755581466, 0.8600205578864345, 0.004571774598300443, 0.012194744537727856, 0.007161275907546358, 0.0001656076418703783, 0.9999704642965137, 0.999949020446514, 0.9999240366833922, 0.9999325368677853, 0.1305133160627452, 0.0068272522503710405, 0.0008430172343936415, 0.12396509064347626, 0.35481328890863084, 0.33461055898861986, 0.014487627166656924, 0.009629394043566806, 0.024295123442842105, 1.978913695759722e-05, 0.9999783364472971, 0.008059838166428196, 0.011213687883726186, 0.9807198338082689, 0.7773316853592516, 0.2196946682119833, 0.0029744417983471254, 0.04183037867698801, 0.08061720884294446, 0.041604666648457175, 0.35721185635289765, 0.31948230884690143, 0.035040010492344606, 0.014260248370969102, 0.10995264480368346, 0.0039052759604737276, 0.040715889745633026, 0.5438213810043655, 0.005265346831250698, 0.10087438681246365, 0.30541475517759076, 0.02077924072488437, 0.9791822981722914, 0.002839968537600226, 0.0402218799860125, 0.0031041516573769913, 0.030579196114160576, 0.00026418311977676525, 0.9229567518301014, 0.9999937207261202, 0.12473237942986308, 0.04182794965031464, 0.01190790164174242, 0.22608249568455718, 5.780534777544864e-05, 0.05710590306736572, 0.10506989038404423, 0.24382873745161993, 0.18908418284088127, 0.0003063683432098778, 0.9999814355339669, 5.801070089251055e-05, 0.9976100232485039, 0.002320428035700422, 0.004946913135251828, 0.041492447888755814, 0.003177520056097832, 0.7259034207656306, 0.033643694067172505, 1.891917243494598e-05, 0.1018058686983905, 0.020814693330332947, 0.06453870265343929, 0.003657706670756223, 0.0038850770000611037, 0.9376500893840654, 0.00047091842424983076, 0.01822601463854423, 0.039763174447595084, 0.007382092566131554, 0.18016649307357804, 0.005556432744706051, 0.6154751258909591, 0.0010876271276577462, 0.0018062379084316143, 0.12979487890970168, 4.237508289575635e-05, 0.05868948981062254, 0.9997673518254658, 0.09417443641304393, 0.002419177519156077, 0.0628215102384833, 0.7700213129001452, 0.03379138000861038, 0.005435920800016045, 9.63815744683696e-05, 0.01635595318728232, 0.014881315097916266, 0.03781548116123648, 0.18036424010730168, 0.003830714654660021, 0.012240330419968349, 0.0038777435176078562, 0.06171469424109085, 0.00017956474943718847, 0.6796397505662272, 0.020337845549350135, 0.9400366589329316, 0.05932561605001297, 0.0006243537815423344, 0.9999085893621277, 0.008576972143325798, 5.932199753308909e-05, 0.00037076248458180677, 6.920899712193727e-05, 0.10275558672689915, 0.21685650548200158, 0.0013001404459335357, 0.6628640004347375, 0.0071483007027372345, 0.27603219444141763, 0.03585406982065395, 0.13573536637712413, 0.02313102507171054, 2.9428785078512135e-05, 0.0014322008738209238, 0.0185548489920019, 0.40018733389014727, 0.04804249164067106, 0.06101077626526874, 0.9849059151773005, 0.0019646734536297233, 0.013047446781797393, 0.9999921567974299, 0.9996824427184907, 0.0859277545702579, 0.028742195490146335, 0.8282261946201241, 0.05709047620278121, 0.15574362719992943, 0.2985719864306606, 0.19521661132313523, 0.12884186879337478, 0.004677801763325482, 0.06516277550374214, 0.028344390124621602, 0.12154074485437742, 0.0019000515311125652, 0.9957803327114005, 0.0007091963680945946, 0.0015556565493687882, 9.15092087863993e-05, 0.0018301841757279859, 2.2877302196599824e-05, 0.9998664324293531, 0.9998950074058898, 0.9999690038937513, 0.001681983789069951, 0.24313789720727916, 0.00048793397654623577, 0.6204457371360769, 0.09442910876184225, 0.005625125030427336, 0.031430088586795336, 0.0004046281756724882, 0.0023563640818574315, 0.999977481081351, 0.9999979248980326, 0.9877168503270779, 0.01225376608856611, 0.06033147064778164, 0.0001311895943458764, 0.025637945124366804, 0.0033724471719846624, 0.9067230035025942, 0.003802749041439137, 0.9275758170496474, 0.06364107042941904, 0.0013889916165150979, 0.00010823311297520244, 0.007269657421501097, 0.9999492799474659, 0.6504396076085878, 0.0005517714554185962, 0.12472318084689592, 0.029502648923175008, 0.16020779341088495, 0.000494691649685638, 0.001986377239506946, 0.006727806435724676, 0.025366265667726637, 0.9999542340908868, 0.004337346495485141, 0.006057328726453387, 0.9726592993420591, 0.000486081934838852, 0.0008039047383873322, 0.015657446939520713, 0.01998517325283618, 0.008384721078663095, 0.00157213520224933, 0.001143371056181331, 0.0033110120168584377, 0.9656006771754712, 0.06345748347698407, 3.741596903124061e-05, 0.9365217048519525, 0.9999121645571398, 0.9999857760838555, 0.999940481292101, 0.0029338193668300874, 0.9970401754461624, 0.04689834248595794, 0.2952693573502619, 0.21817616125297695, 0.051702119578370065, 0.21202679454584672, 0.0007315396587429628, 0.08403395570796435, 0.08423346652398515, 0.006898640660630607, 2.8818228980783385e-05, 3.886674119397439e-06, 0.04137947601216484, 0.2411953358274469, 0.011148924711491554, 0.24628493558679784, 0.0012340190329086869, 0.12518588671167213, 0.17797663793838783, 0.1555893950106586, 1.9433370596987196e-06, 1.1781188857251069e-05, 0.9999873102034706, 0.9346911151218741, 0.005079754531833418, 0.024031146439058095, 0.036176969774788, 0.004255608112028632, 0.00585061274731847, 0.0416126528466468, 0.004275969873330204, 0.8470560573991791, 0.020884379841646095, 0.02086401808034452, 0.0548953084690392, 6.10852839047172e-05, 0.0002511283893860596, 0.0033042145237722883, 0.020794115475221284, 0.001009621104485977, 0.9748860592144696, 0.001026337147620952, 0.8408609886802376, 2.493126674382879e-05, 0.11938337080282417, 0.0006274368797196913, 0.024561452953795332, 0.013516901786279177, 0.9993496806882158, 0.0006179792413624277, 0.0007077940114977156, 0.000637014610347944, 0.00028311760459908623, 0.9420738293034595, 0.056269623914068395, 0.9998962607476508, 0.22139492134517005, 0.08390198052497404, 0.06627942473842008, 0.0447208097211436, 0.07706714263002995, 0.010030783424163229, 0.00042612607056255193, 0.011466155451321298, 0.48470719142094065, 0.0021596042132913033, 0.027607019286756664, 0.00015594516201009411, 0.005132013513423098, 0.8219964001771461, 0.0549966604688932, 0.018486590114651157, 0.011700612761727062, 0.017172870264990366, 0.0405929982323245, 0.16223124527521166, 0.025463364712071394, 0.07056538703708333, 0.152269117197924, 0.05414722876862998, 0.365047546466948, 0.02392263573746259, 0.0656275385672395, 0.05298228734880381, 0.02774063729405417, 0.0016019878882667694, 2.7716053430220924e-05, 0.2632692483229825, 0.015243829386621508, 0.000210642006069679, 0.6674912579706965, 0.0332204616414628, 0.01894115091421298, 0.07487200604769571, 0.0008735180229856876, 0.23229485099631017, 0.0003995159950089579, 0.01529672258856332, 0.6701440671535005, 0.003473757719315176, 0.002640868441584637, 0.9999568432649079, 0.9998595325394676, 0.9999310589956382, 0.9999073868662579, 1.3321058907151756e-05, 3.463475315859457e-05, 0.5670534997714174, 0.00013853901263437827, 0.2451128123151552, 1.864948247001246e-05, 0.00029306329595733864, 0.08644834388385204, 0.10088570752742311, 0.9999589628315648, 0.011000444122920856, 5.64125339636967e-05, 0.013835173954596616, 0.007037463611971163, 0.9313427294736507, 0.021831650643950623, 0.014907012099906853, 0.9967451272442074, 0.003253622518158957, 0.004494161646765738, 0.9954568047586109, 0.000230343241518625, 0.9996896681908325, 0.0005049757120236824, 0.0739828262400235, 0.8774224906410264, 0.0480503812133304, 3.107542843222661e-05, 0.9997333639522181, 0.5195501830384224, 0.4441029215852573, 0.016699602462044053, 0.01705374106279428, 0.0025629141698738675, 3.147898673335354e-05, 0.9938618654661134, 0.006093064244184059, 0.8098675868403294, 0.04791783849399187, 0.04459192168335491, 0.023911015095402402, 0.002340459977855644, 0.05842937804365933, 0.012934120930254877, 0.9999833566198211, 0.9999814102328083, 0.00091032063526368, 9.370947715949646e-05, 0.02049560136159844, 0.013842228483274193, 0.9252739904047025, 0.013440616438304923, 0.025917363968683594, 2.6774136331284706e-05, 0.004501281829220285, 0.049167227148920495, 0.8679366783014565, 0.046126038529536895, 0.032267253256059385, 0.011880928956872266, 0.1339743060397811, 0.2644675381164499, 0.1656126818143177, 0.04416024571448192, 0.3546402901845698, 0.011883869053124895, 0.013380378045712864, 0.4635258710594025, 0.007618123913638715, 0.03631901114443844, 0.12846757215870303, 0.13647615607663946, 0.07624770041371443, 0.031974105139167944, 0.02425628930953832, 0.044277749104379434, 0.0508387233255312, 0.9999696360221662, 0.001197332799223825, 0.9988008591116639, 0.003976524476530188, 0.9912804446821473, 0.0047418806519293035, 0.9928643009893503, 0.0070929973007008915, 0.9999047540847353, 0.1162886715019329, 0.054812958578552506, 0.0687627725965819, 0.044031887571764086, 0.012638248202118394, 0.611556908642981, 0.040847405770732176, 0.024038378274016805, 0.022999618147815294, 0.004018637659951304, 0.13796672945948535, 0.10609221284765263, 0.468063231075707, 0.012277932443825577, 0.05526952076586832, 9.412384326612454e-05, 0.052761643253066474, 0.1294432925414974, 0.0197283575485797, 0.018303950053819018, 0.027629852277672406, 0.9723608793829334, 0.999930172741385, 0.06666497952214326, 0.0034226252217770497, 0.5586203410698775, 0.015323621655162604, 0.3051144684403608, 0.0056793011921795, 0.0043985386019598635, 0.01504054738869984, 0.005675342111529671, 0.02005868211235792, 0.9952127299377421, 2.3492221604393925e-05, 0.00475717487488977, 0.9999386435526824, 0.9997902382252472, 0.0636571389799737, 0.004644996551862187, 0.076783485511147, 0.061964630114922696, 0.00458857958969382, 0.00789837470357133, 0.7804722546371842, 0.24915929775500756, 0.07742222916869126, 0.0007284379551788898, 0.07325046946832628, 0.049674552704238956, 0.32302871603801037, 0.023231808036794224, 0.023698812738120568, 0.020673337304647512, 0.15913017612276018, 0.9998250547120089, 0.9999231827108219, 0.09059839147150087, 0.0763711355814005, 0.03098168370546216, 0.0604990517925157, 0.33741644267496246, 0.11350467780207049, 0.12212883250930551, 0.07150308040422548, 0.07402303183827187, 0.022972714849747927, 0.9998774843287541, 0.935855680957922, 0.014137426193379396, 0.018240874050356043, 0.0017671782741724245, 0.02998212631265418, 0.9999290285588851, 0.9737244363359128, 0.026281543814066537, 0.9999030771574497, 0.9999272909850688, 0.9976835570872842, 0.0022796868025843904, 0.9997629511673554, 0.0001508165562177335, 0.0334098963019653, 0.00024079204541956975, 0.9663285772744109, 0.01777939020928684, 0.010936848866911464, 0.013965514706979253, 0.047093884266239276, 0.9093101798099825, 3.739093629713321e-05, 0.0008226005985369306, 0.9997480970929786, 0.6889948582561805, 0.012600569428484672, 0.12517780399545556, 0.010853681305893745, 0.09390811048132226, 0.004804932636514275, 0.000578334843306747, 0.023882060070523136, 0.03920001102303814, 0.9999715448567622, 0.0505100287188266, 0.9368033680588909, 0.011225724884388477, 0.0014447817522297733, 0.999924519917961, 0.03469714593751268, 0.04228487029403662, 0.584048389349846, 0.027974422157632465, 0.010562112304281326, 0.0004613336408766556, 0.06355477921024454, 0.1819141739027902, 0.04018458819215079, 0.014319553405631982, 0.006184795006485001, 0.03444736870336681, 0.014793943456278581, 0.16453997028867065, 0.0403699743745014, 0.05906443314845867, 0.4389085390113162, 0.1446638636882711, 0.03820062699708157, 0.058823793621493224, 0.9999677104594691, 0.9999952317400763, 0.4086536081707643, 7.0115403834868535e-06, 0.018811962848895226, 0.001149892622891844, 0.007467290508413499, 0.0038212895090003352, 0.02689626891105557, 0.09575660701727996, 0.00512543602032889, 0.43231755696503243, 0.9998125472971722, 0.0005822552976480427, 0.003493531785888256, 0.00020550186975813273, 0.01197048391341123, 0.011336853148323655, 0.9523470399266265, 0.020070682613044295, 0.9999829649786798, 0.9998096373856342, 0.029202176532614484, 0.01021941357881892, 0.0500724301210204, 8.988050641001688e-06, 0.8443105130637756, 0.0049793800551149354, 0.035871310108237735, 0.0030379611166585704, 0.022299353640325186, 0.9998927751347606, 0.013360778596166014, 0.0026504789397998954, 0.7873893067517808, 0.07499180375768402, 2.955924468178322e-05, 0.03560903675998819, 0.007163190294552133, 0.04234854454743476, 0.036367724040153954, 7.882465248475525e-05, 0.05052030851647038, 0.03208907154879699, 0.002627891208281557, 0.0016631311482549033, 0.0014543397919804784, 0.7795765264151199, 2.1599105821492253e-05, 0.06892994637832227, 0.06311258721040036, 0.07480903189102725, 0.9001888870940076, 0.024379206351281116, 0.0006281105566487274, 0.02774062570423821, 0.1778265913243402, 0.01839152392952592, 0.28125363218770555, 0.049292800371599, 0.031591966534301734, 0.24558163700332966, 0.12126667366656504, 0.046905458158077555, 0.00014871317775258148, 0.0019741226043658105, 0.32640021825787396, 0.23169747633782248, 0.06157553089846599, 0.024734432798555427, 0.004403175697167877, 0.16243775591649684, 0.10881661567947688, 0.0741839983143387, 0.0037828159402093467, 0.9998889407223355, 0.33743693864391133, 0.045324084646408774, 0.013567699461690846, 0.10584690970972216, 0.14878223971834242, 0.0898762262453118, 0.06155089667957679, 0.07943720839782052, 0.06775312111886835, 0.05042531197416564, 0.0047840668883778244, 0.002433275400123204, 0.9927626159316224, 0.00767238447907079, 0.19199519896616105, 8.733505383119852e-05, 0.7873386105463294, 0.004644041487473981, 0.00826407946877716, 0.032740240006883296, 0.0035312281431035156, 0.27002882410190965, 0.025251478512253307, 0.02617513979716972, 0.6422714270100309, 0.04225414256331232, 0.011517605987558688, 0.01760302765859716, 0.007495039120262071, 0.05608673005284798, 0.026140954485195392, 0.8368199717468138, 0.002074315108207087, 0.568033505305922, 0.15208531852123353, 0.04857746125770519, 0.03500728689522836, 0.021037298036803338, 0.10754127997265273, 0.003698284087520766, 0.01072443589131618, 0.007719947546764333, 0.04557591272562356, 0.9999450355267219, 0.03695232191465389, 0.09077609360295255, 0.11999063008396088, 0.0326840832639924, 0.24499689854796947, 0.00412535340827883, 0.06454749231532542, 0.00029309793309263444, 0.03726373846856481, 0.36837280975915027, 0.6293669756432622, 0.36073909604719934, 0.009770632966230562, 0.00012072788922909514, 0.8754435592897297, 0.010140223764008758, 0.0008460788962441436, 0.01148249930617052, 0.030859614478799553, 0.0612548397889839, 0.009968463386575737, 0.0009780828924611995, 0.9800186815191956, 0.01899110949528829, 2.037672692627499e-05, 0.9999231212525389, 0.039803769923632874, 2.282326257089041e-05, 0.0008786956089792807, 1.1411631285445205e-05, 0.2964855924271519, 0.06031617715922063, 0.5806409172503801, 0.0014264539106806505, 0.020403996738376028, 0.1172513135533705, 0.05559593639356806, 0.05877600806910586, 0.33777694409867104, 0.10951531403580442, 0.00654737326239183, 0.1080912319830658, 0.035528294080673865, 0.17090970404649938, 5.673633676249419e-06, 0.999955546271722, 0.9998236268703453, 4.233814014486943e-05, 0.9999527784765624, 0.9999846764329334, 0.9998951322748675, 0.38746938575824136, 0.04243934932527207, 0.058572159284803936, 0.12077688385196046, 0.05214559286389672, 0.0791269853692227, 0.05277497072453468, 0.07117790660914218, 0.09827571582857461, 0.037242434447114156, 0.9999746248674571, 0.9997283103640059, 0.0015875622495888405, 3.05790481461735e-05, 0.5338006057096654, 0.28143172135929556, 0.1214625274906133, 0.00625341534589248, 0.05364329521042485, 0.0017914225705633305, 0.14348285872111327, 0.06201553112161393, 0.0792606334803828, 0.047560623730766444, 0.004808577449469081, 0.611906731035307, 0.026856952704536082, 0.01206255391074759, 0.011818544464883743, 0.00022544350976551125, 0.9999554086349537, 0.22725972695461466, 1.2511201902315761e-05, 0.6964923543009673, 0.04361404983147275, 0.015538912762676176, 0.01708404619761217, 0.9999740681147425, 0.999982423604403, 0.9997960219089446, 0.6163929298610871, 0.00097862338603484, 0.1902348386999433, 0.053210515467155675, 0.10259178332972206, 9.206561471407903e-05, 0.0056841992491988794, 0.005421641755384654, 0.025393060473175796, 0.003595339250948251, 0.004762521848357538, 0.0020634120918485615, 0.8594840851672638, 0.012974485122987166, 2.0842546382308702e-05, 0.11709342557581028, 0.9999380593692214, 0.6667277665739868, 0.005867762688027566, 2.5849174837125843e-06, 0.15534578601867516, 0.01736289073809743, 0.11707608267231036, 0.0013881006887536576, 0.001517346562939287, 0.019203351986500788, 0.015509504902275505, 0.5641397724975749, 0.0008331429172784342, 0.2587652635754251, 0.07109344536470312, 0.07476607536739989, 0.0008735248443914196, 0.0009542886986173903, 0.027304558822132768, 0.001268842657181697, 0.9999651447702712, 0.13588761376345135, 0.24508020945222572, 0.05753421521717932, 0.10186031163733512, 0.02665570287869069, 0.060112934663006, 0.1254923185338091, 0.09759997403591392, 0.1265305971187192, 0.02324421609970031, 0.062495733187539294, 0.9374900832593789, 0.9999464872235523, 0.9999838187711918, 4.6714038785535066e-05, 3.550266947700665e-05, 0.0006577336661003337, 0.06039004078038831, 0.6453749999992325, 0.012356797539549736, 0.007048214171961531, 0.18098139762447135, 0.09310668498422564, 3.737123102842805e-06, 1.0978891034714086e-05, 0.22556131630820092, 0.0008618429462250558, 0.7082482606494057, 0.0005763917793224896, 0.0033540512111051536, 0.03621936152352177, 0.025163618251564688, 0.0023557464875277358, 0.007893508752984727, 0.9677723014321965, 0.000527405930043523, 0.0076649661832992, 0.010354736426521167, 0.0025491286618770275, 0.0008790098834058716, 0.001336007659726232, 0.9986143407353689, 0.039453952309390486, 0.08818514227997556, 0.8355960313993787, 0.021488063062182837, 0.0152752100463778, 0.08876943161186744, 0.8081616914926635, 0.09155225766158083, 0.0005348102180230959, 0.003281377947870521, 0.0021392408720923837, 0.005556587519460302, 0.022205559431854684, 0.9777794118061016, 0.009898244589662286, 7.7029140775582e-05, 0.013249012213400102, 0.9767295050343797, 0.0018404563295759578, 0.9980531752957622, 2.6249571467308278e-05, 0.9974364665290734, 0.0025207088486178036, 1.6499730636593774e-05, 0.00712369383678615, 0.9442693637121268, 0.013665619343568098, 0.03492984544637476, 0.008246382167084256, 0.9908109821099923, 0.0009389445041729598, 0.00029913679768543987, 0.033764892122001185, 0.06237210931832829, 0.05508569346028807, 0.5290282963754999, 0.0020229995527192074, 0.1431974807189914, 0.1742075316344011, 1.9478675198121666e-05, 1.391333942722976e-06, 3.777047236343098e-05, 0.9597099322824179, 0.001850753145808118, 0.03837479992124588, 0.02542458462537231, 0.7575265991113584, 0.13877502426319463, 0.00026004689231301335, 0.07801406769390401, 2.5906716229688235e-05, 0.9997833571640518, 0.00018134701360781764, 0.99998911776455, 0.0012195592508457164, 0.06979100392103882, 0.00046788122202257043, 0.1054765348302193, 0.014776609413548884, 0.005185044362086191, 0.06900481006436156, 0.7340404407896886, 3.451582785412405e-05, 0.999879263347477, 0.029524619532920345, 0.06920681410445167, 0.03509948036044657, 0.11346927616298284, 0.09741142599354916, 0.011499603199198278, 0.37337131872324614, 0.1761898247182697, 0.09309662806976486, 0.0011316098892828093, 0.44468996388354, 0.43213420975424643, 0.03970384697428158, 0.0020365845864009314, 0.005284421168841442, 0.050287973248823004, 0.0008062276692881737, 0.02505419349536756, 0.9648824928587593, 0.035072465410859587, 0.9999670344338123, 0.9997699141731372, 0.9999609288986208, 0.9999385918450184, 0.011820850954645542, 0.06831103715793077, 0.018068310429979764, 0.000748051068757124, 0.05513382986982451, 0.8458895722774239, 3.28813656596538e-05, 0.0014402601665391699, 0.007822589531987256, 0.9651155135583555, 0.025614038648059355, 0.0025679175705255325, 0.9973791843921168, 0.9999149997416069, 0.9998285059297272, 0.019965739709639954, 0.8981439575039669, 0.0025844864230554344, 0.07825638619720104, 0.0010361229353690706, 0.19657874401513412, 0.00021575656007049066, 0.8032028304442357, 0.0007162813524266352, 2.7549282785639818e-05, 0.9992675852007274, 0.9999327255384037, 0.9999739909985282, 0.0001440061770360186, 0.0003621973543633195, 0.7180235263486818, 0.000724394708726639, 0.28074658786703804, 5.813388923396941e-06, 0.9288632821803632, 0.07113262686668496, 0.5355591451508145, 0.014415525901616653, 0.0010199463673374264, 0.208273474075174, 0.004248002093607861, 0.04825687791851376, 0.026120421895883525, 0.02237919899940783, 0.1055378324649524, 0.034188431887201914, 0.038855911708557754, 0.00031165528886180745, 0.11276727201983065, 0.19448444303824422, 0.07147871763987936, 0.5025701245637363, 0.019109086322619342, 0.03925125221387319, 0.02117235976276927, 0.017954664820254526, 0.0019086940980090397, 0.04365194185729149, 0.9141242863741599, 0.0011214925773612436, 0.017113545387233593, 0.00016175373711941016, 0.0039575747681882345, 0.002794833867527439, 0.1356318414075169, 0.42860509415623255, 0.09515215376665018, 0.0829537633484528, 0.1746821615469406, 0.07882036885604458, 0.001355376713133042, 0.12860665210279607, 0.019751607314024023, 5.040103936099127e-05, 0.007252149552498188, 0.0009072187084978429, 0.006384131652392227, 0.08418093596382453, 0.5111393406217507, 0.002016041574439651, 0.23971294331635903, 0.5739374175858764, 0.02180469323547363, 0.0035000435752753087, 0.15299680275769778, 0.015743393282956042, 0.09524608376565519, 0.024070027561162024, 0.02197306267859912, 0.06084259422034702, 0.029886426505497082, 0.9997698120156878, 0.07399936657839251, 0.06805324292791806, 0.01143704166263506, 0.00964466946177434, 0.8368671156875878, 0.9996035956719354, 0.0003479082282041224, 0.9998654899405932, 0.0001395692189849461, 0.9991202110256352, 0.0007257599387217197, 0.9999453989059874, 0.9999770206437778, 0.04537380055308087, 0.12039079467121482, 0.6316150658562565, 0.014216868474225396, 0.05101196511884832, 0.011723802509770403, 0.0015009535601385445, 0.0017898935129420463, 0.12238269045204603, 0.0007781371617706748, 0.00026712171224963464, 0.03826808877663244, 0.34901774502912586, 0.0027641290224092625, 0.4925375954258589, 3.484196246734365e-05, 0.009918345315703824, 0.10639573938777838, 2.9034968722786375e-05, 0.9999877382623374, 0.008415576423065813, 0.9310671065710852, 0.005335365444688783, 0.0025668424819808577, 0.052528597934822556, 7.333835662802451e-05, 0.4612740850256756, 0.4352203644545941, 0.0008932813032997437, 0.07879731513606332, 0.010191787321869785, 0.0008951859542662677, 0.012726877758313195, 0.9997673772853414, 0.5720901854854958, 0.07613218032871284, 0.02814158309677803, 0.06754202733411842, 0.0004264840686460367, 0.029654964997085424, 0.028714472144213007, 0.05138337347952193, 0.053717896347819455, 0.09220012675079878, 0.29977531520068446, 0.0723656229151956, 0.00014654844656783233, 0.07114299016097254, 0.044935940816170764, 0.06326287083409654, 0.372174434903667, 0.07615913413206578, 3.7683886260299745e-05, 0.25186039054565534, 3.225584920300607e-05, 0.0024635404828795885, 0.01807268350970094, 0.14382479961505368, 0.13236994116683615, 0.14173354539172545, 0.1437683518789484, 0.1319774950015329, 0.033896865531209, 0.862542853175164, 0.029066020829289947, 0.0027985212617842245, 0.0927758048648053, 0.002837121555050214, 0.00966937346313032, 0.00030880234612791447, 0.26368835499863497, 0.419567772609127, 0.00036053850657164426, 0.11325663460282442, 0.07446110651107123, 0.04762674052195314, 0.02050711329686627, 0.0008835174391810623, 0.029370021419951636, 0.030273348667186086, 0.0006787558306542658, 0.9852517968519253, 0.004826708129097001, 0.008107361310592618, 0.0011312597177571095, 0.9998698299471522, 0.9999918585363646, 0.9835812666089477, 0.01640353619745519, 0.999957759067408, 0.9999577605611042, 0.020047496080238522, 0.9764639958541661, 0.0034831556896167317, 0.019308760709292883, 0.0051196187306465765, 0.9738887968461916, 0.0006357142463551212, 0.0009239047047027762, 0.00011019046936822102, 0.03811585455937375, 0.34522542285977864, 0.0816345700382497, 0.07475856502045927, 0.11663223627560221, 0.08354945748215761, 0.00021787341480789446, 0.023142554097667908, 0.2367264611241152, 0.8644009322701091, 2.8456894378752465e-05, 0.06985598432096154, 0.002953825636514506, 0.03384093879521243, 0.028912204688812504, 0.892124843281302, 0.038434373234594504, 0.06705679668839967, 0.002389438547653362, 0.9998329286122242, 0.9999871273390771], \"Term\": [\".to\", \"5g\", \"abuse\", \"abuse\", \"abuse\", \"abuse\", \"abuse\", \"according\", \"according\", \"according\", \"according\", \"according\", \"according\", \"according\", \"according\", \"according\", \"according\", \"accuser\", \"acquisition\", \"acquisition\", \"acquisition\", \"acquisition\", \"acquisition\", \"acquisition\", \"administration\", \"administration\", \"administration\", \"administration\", \"administration\", \"administration\", \"administration\", \"administration\", \"afghan\", \"afghanistan\", \"afghanistan\", \"age\", \"age\", \"age\", \"age\", \"age\", \"age\", \"age\", \"air\", \"air\", \"air\", \"air\", \"air\", \"air\", \"air\", \"air\", \"airbus\", \"aircraft\", \"aircraft\", \"airline\", \"airline\", \"airline\", \"airline\", \"airport\", \"airport\", \"airport\", \"airport\", \"airport\", \"airport\", \"airport\", \"airport\", \"airstrikes\", \"album\", \"algorithm\", \"algorithm\", \"allegation\", \"allegation\", \"allegation\", \"allegation\", \"allegation\", \"amazon\", \"amazon\", \"amazon\", \"amazon\", \"amazon\", \"american\", \"american\", \"american\", \"american\", \"american\", \"american\", \"american\", \"american\", \"american\", \"american\", \"analyst\", \"analyst\", \"analyst\", \"analyst\", \"analyst\", \"analyst\", \"analyst\", \"analyst\", \"analyst\", \"analyst\", \"ankara\", \"annuity\", \"antibiotic\", \"antique\", \"antique\", \"antitrust\", \"antitrust\", \"antitrust\", \"antitrust\", \"antitrust\", \"aos\", \"apartment\", \"apartment\", \"apartment\", \"apartment\", \"apartment\", \"arab\", \"arab\", \"arab\", \"ardern\", \"around\", \"around\", \"around\", \"around\", \"around\", \"around\", \"around\", \"around\", \"around\", \"around\", \"art\", \"art\", \"art\", \"art\", \"art\", \"art\", \"art\", \"artist\", \"artist\", \"artist\", \"artist\", \"astronaut\", \"athlete\", \"athlete\", \"athlete\", \"athlete\", \"athlete\", \"atlantia\", \"att\", \"att\", \"att\", \"att\", \"att\", \"attack\", \"attack\", \"attack\", \"attack\", \"attack\", \"attack\", \"attorney\", \"attorney\", \"attorney\", \"aung\", \"austria\", \"austria\", \"austria\", \"austria\", \"author\", \"author\", \"author\", \"author\", \"author\", \"author\", \"author\", \"automaker\", \"avenue\", \"avenue\", \"avenue\", \"avenue\", \"avenue\", \"avenue\", \"avenue\", \"avenue\", \"avenue\", \"avenue\", \"aviation\", \"aviation\", \"back\", \"back\", \"back\", \"back\", \"back\", \"back\", \"back\", \"back\", \"back\", \"back\", \"baghdad\", \"ballistic\", \"bank\", \"bank\", \"bank\", \"bank\", \"bank\", \"bank\", \"bank\", \"bank\", \"bank\", \"bank\", \"bannon\", \"barack\", \"barack\", \"barack\", \"baseball\", \"baseball\", \"bearish\", \"beer\", \"beer\", \"beer\", \"beirut\", \"benchmark\", \"benchmark\", \"berlin\", \"berlin\", \"berlin\", \"berlin\", \"berlin\", \"bernie\", \"bernie\", \"bernie\", \"bernie\", \"beto\", \"betterthanexpected\", \"biden\", \"bidens\", \"bill\", \"bill\", \"bill\", \"bill\", \"bill\", \"bill\", \"bill\", \"bill\", \"bill\", \"bill\", \"billion\", \"billion\", \"billion\", \"billion\", \"billion\", \"billion\", \"billion\", \"billion\", \"biology\", \"bipartisan\", \"bipartisan\", \"black\", \"black\", \"black\", \"black\", \"black\", \"black\", \"black\", \"black\", \"black\", \"blackstone\", \"blackstone\", \"blasey\", \"bloc\", \"bloc\", \"bloc\", \"blockchain\", \"blockchain\", \"boeing\", \"boeing\", \"boeings\", \"boj\", \"bolsonaro\", \"bond\", \"bond\", \"bond\", \"bond\", \"bond\", \"bond\", \"book\", \"book\", \"book\", \"book\", \"book\", \"book\", \"book\", \"book\", \"book\", \"border\", \"border\", \"border\", \"border\", \"border\", \"border\", \"border\", \"boris\", \"boris\", \"boris\", \"bottle\", \"bottle\", \"bottle\", \"bottle\", \"bottle\", \"bpd\", \"bpd\", \"brain\", \"brain\", \"brain\", \"brain\", \"brand\", \"brand\", \"brand\", \"brand\", \"brand\", \"brand\", \"brand\", \"brand\", \"brasil\", \"brent\", \"brent\", \"brent\", \"brent\", \"brent\", \"brexit\", \"brexit\", \"britain\", \"britain\", \"britain\", \"britain\", \"britain\", \"british\", \"british\", \"british\", \"british\", \"british\", \"british\", \"british\", \"british\", \"british\", \"brussels\", \"brussels\", \"brussels\", \"building\", \"building\", \"building\", \"building\", \"building\", \"building\", \"building\", \"building\", \"building\", \"building\", \"bulgaria\", \"bullion\", \"business\", \"business\", \"business\", \"business\", \"business\", \"business\", \"business\", \"business\", \"business\", \"business\", \"butter\", \"butter\", \"buttigieg\", \"buttigiegs\", \"buyout\", \"buyout\", \"c.d.c\", \"c.e.o\", \"campaign\", \"campaign\", \"campaign\", \"campaign\", \"campaign\", \"campaign\", \"campaign\", \"campaign\", \"campaign\", \"candidate\", \"candidate\", \"candidate\", \"candidate\", \"candidate\", \"candidate\", \"car\", \"car\", \"car\", \"car\", \"car\", \"car\", \"car\", \"car\", \"carbon\", \"carbon\", \"carbon\", \"card\", \"card\", \"card\", \"card\", \"card\", \"card\", \"card\", \"card\", \"card\", \"carmaker\", \"case\", \"case\", \"case\", \"case\", \"case\", \"case\", \"case\", \"case\", \"case\", \"case\", \"cash\", \"cash\", \"cash\", \"cash\", \"cash\", \"cash\", \"cash\", \"cash\", \"cash\", \"cash\", \"catalan\", \"catalonia\", \"caucus\", \"cdc\", \"cdc\", \"central\", \"central\", \"central\", \"central\", \"central\", \"central\", \"central\", \"central\", \"central\", \"central\", \"ceo\", \"ceo\", \"ceo\", \"ceo\", \"ceo\", \"ceo\", \"ceo\", \"championship\", \"character\", \"character\", \"character\", \"character\", \"character\", \"character\", \"charge\", \"charge\", \"charge\", \"charge\", \"charge\", \"charge\", \"charge\", \"charge\", \"charge\", \"charge\", \"cheese\", \"chef\", \"chicken\", \"chicken\", \"chicken\", \"chicken\", \"chief\", \"chief\", \"chief\", \"chief\", \"chief\", \"chief\", \"chief\", \"chief\", \"chief\", \"chief\", \"child\", \"child\", \"child\", \"child\", \"child\", \"child\", \"child\", \"china\", \"china\", \"china\", \"china\", \"china\", \"chinese\", \"chinese\", \"chinese\", \"chinese\", \"chinese\", \"chinese\", \"chocolate\", \"chrysler\", \"city\", \"city\", \"city\", \"city\", \"city\", \"city\", \"city\", \"city\", \"city\", \"city\", \"climate\", \"climate\", \"climate\", \"climate\", \"climate\", \"clinton\", \"clinton\", \"cme\", \"cmo\", \"cmo\", \"coach\", \"coach\", \"coal\", \"coal\", \"coconut\", \"coffee\", \"coffee\", \"cognitive\", \"cohens\", \"collection\", \"collection\", \"collection\", \"collection\", \"collection\", \"collection\", \"collection\", \"collection\", \"collection\", \"collection\", \"comcast\", \"comcast\", \"comcast\", \"come\", \"come\", \"come\", \"come\", \"come\", \"come\", \"come\", \"come\", \"come\", \"come\", \"comedy\", \"comedy\", \"committee\", \"committee\", \"committee\", \"committee\", \"committee\", \"committee\", \"committee\", \"committee\", \"como\", \"company\", \"company\", \"company\", \"company\", \"company\", \"company\", \"company\", \"company\", \"complaint\", \"complaint\", \"complaint\", \"complaint\", \"complaint\", \"complaint\", \"complaint\", \"complaint\", \"composite\", \"composite\", \"composite\", \"con\", \"con\", \"con\", \"con\", \"con\", \"con\", \"con\", \"con\", \"congress\", \"congress\", \"congress\", \"congress\", \"congress\", \"congress\", \"congress\", \"congressional\", \"congressional\", \"conte\", \"convicted\", \"convicted\", \"cookbook\", \"cooking\", \"cooking\", \"cooking\", \"corbyn\", \"coronavirus\", \"coronavirus\", \"coronavirus\", \"coronavirus\", \"cosby\", \"cough\", \"cough\", \"cough\", \"country\", \"country\", \"country\", \"country\", \"country\", \"country\", \"country\", \"country\", \"country\", \"country\", \"county\", \"county\", \"county\", \"county\", \"county\", \"county\", \"court\", \"court\", \"court\", \"court\", \"court\", \"court\", \"court\", \"courtroom\", \"coverage\", \"coverage\", \"coverage\", \"coverage\", \"coverage\", \"coverage\", \"cream\", \"cream\", \"credit\", \"credit\", \"credit\", \"credit\", \"credit\", \"credit\", \"credit\", \"credit\", \"credit\", \"crime\", \"crime\", \"crime\", \"crime\", \"crime\", \"criminal\", \"criminal\", \"criminal\", \"criminal\", \"crossword\", \"cuando\", \"cuisine\", \"culinary\", \"cum\", \"cuomos\", \"currency\", \"currency\", \"currency\", \"currency\", \"currency\", \"customer\", \"customer\", \"customer\", \"customer\", \"customer\", \"customer\", \"cut\", \"cut\", \"cut\", \"cut\", \"cut\", \"cut\", \"cut\", \"cut\", \"cut\", \"cut\", \"daimler\", \"data\", \"data\", \"data\", \"data\", \"data\", \"data\", \"data\", \"data\", \"de\", \"de\", \"de\", \"de\", \"de\", \"de\", \"de\", \"de\", \"de\", \"de\", \"deal\", \"deal\", \"deal\", \"deal\", \"deal\", \"deal\", \"deal\", \"deal\", \"deal\", \"deal\", \"dealbook\", \"debate\", \"debate\", \"debate\", \"debate\", \"debate\", \"debate\", \"decline\", \"decline\", \"decline\", \"decline\", \"decline\", \"decline\", \"decline\", \"decline\", \"defendant\", \"del\", \"del\", \"del\", \"del\", \"del\", \"del\", \"democrat\", \"democrat\", \"democrat\", \"democratic\", \"democratic\", \"democratic\", \"democratic\", \"department\", \"department\", \"department\", \"department\", \"department\", \"department\", \"department\", \"department\", \"department\", \"design\", \"design\", \"design\", \"design\", \"design\", \"design\", \"design\", \"design\", \"design\", \"designer\", \"designer\", \"designer\", \"dessert\", \"diagnosis\", \"diagnosis\", \"diagnosis\", \"diesel\", \"dijo\", \"dining\", \"dining\", \"dining\", \"dining\", \"dioxide\", \"dioxide\", \"disease\", \"disease\", \"disease\", \"disease\", \"dish\", \"dish\", \"dish\", \"doctor\", \"doctor\", \"doctor\", \"doctor\", \"dog\", \"dog\", \"dog\", \"dog\", \"dog\", \"dog\", \"dollar\", \"dollar\", \"dollar\", \"dollar\", \"dollar\", \"dollar\", \"dollar\", \"dollar\", \"dollar\", \"donald\", \"donald\", \"donald\", \"donald\", \"donald\", \"donald\", \"donald\", \"dorian\", \"dow\", \"dow\", \"dow\", \"dr\", \"dr\", \"dr\", \"dr\", \"dr\", \"dress\", \"dress\", \"dress\", \"dress\", \"dress\", \"driver\", \"driver\", \"driver\", \"driver\", \"driver\", \"driver\", \"driver\", \"driver\", \"driver\", \"e.p.a\", \"ebitda\", \"ebitda\", \"ecigarettes\", \"economic\", \"economic\", \"economic\", \"economic\", \"economic\", \"economic\", \"economic\", \"economist\", \"economist\", \"economist\", \"economist\", \"economist\", \"economy\", \"economy\", \"economy\", \"economy\", \"economy\", \"economy\", \"editing\", \"editing\", \"editing\", \"editing\", \"editing\", \"editing\", \"editing\", \"editing\", \"editing\", \"eikon\", \"eikon\", \"eikon\", \"el\", \"el\", \"el\", \"el\", \"el\", \"el\", \"el\", \"el\", \"el\", \"election\", \"election\", \"election\", \"election\", \"election\", \"electric\", \"electric\", \"electric\", \"electric\", \"electric\", \"electric\", \"electric\", \"eminis\", \"emission\", \"employee\", \"employee\", \"employee\", \"employee\", \"employee\", \"employee\", \"employee\", \"employee\", \"employee\", \"empresa\", \"en\", \"en\", \"en\", \"en\", \"en\", \"en\", \"en\", \"en\", \"en\", \"energy\", \"energy\", \"energy\", \"energy\", \"energy\", \"energy\", \"energy\", \"energy\", \"energy\", \"enforcement\", \"enforcement\", \"enforcement\", \"enforcement\", \"enforcement\", \"enforcement\", \"environmental\", \"environmental\", \"environmental\", \"environmental\", \"environmental\", \"environmental\", \"epstein\", \"epstein\", \"erdogan\", \"erdogan\", \"esg\", \"esper\", \"essay\", \"essay\", \"essay\", \"essay\", \"essay\", \"essay\", \"esta\", \"etf\", \"eu\", \"europe\", \"europe\", \"europe\", \"europe\", \"europe\", \"europe\", \"europe\", \"europe\", \"european\", \"european\", \"european\", \"european\", \"european\", \"european\", \"every\", \"every\", \"every\", \"every\", \"every\", \"every\", \"every\", \"every\", \"every\", \"every\", \"executive\", \"executive\", \"executive\", \"executive\", \"executive\", \"executive\", \"executive\", \"executive\", \"executive\", \"executive\", \"exhibition\", \"exhibition\", \"exhibition\", \"exhibition\", \"experience\", \"experience\", \"experience\", \"experience\", \"experience\", \"experience\", \"experience\", \"experience\", \"experience\", \"experience\", \"experiment\", \"experiment\", \"experiment\", \"experiment\", \"f.a.a\", \"f.b.i\", \"f.c.c\", \"f.d.a\", \"faa\", \"facebooks\", \"facebooks\", \"facebooks\", \"factset\", \"family\", \"family\", \"family\", \"family\", \"family\", \"family\", \"family\", \"family\", \"family\", \"fan\", \"fan\", \"fan\", \"fan\", \"fan\", \"fan\", \"fan\", \"fan\", \"fan\", \"farmer\", \"farmer\", \"farmer\", \"farmer\", \"farmer\", \"farmer\", \"farmer\", \"fashion\", \"fashion\", \"fashion\", \"fashion\", \"fashion\", \"fashion\", \"fashion\", \"fashion\", \"fed\", \"fed\", \"fed\", \"fed\", \"fed\", \"fed\", \"fed\", \"federal\", \"federal\", \"federal\", \"federal\", \"federal\", \"federal\", \"federal\", \"federal\", \"fee\", \"fee\", \"fee\", \"fee\", \"fee\", \"fee\", \"feel\", \"feel\", \"feel\", \"feel\", \"feel\", \"feel\", \"feel\", \"feel\", \"feel\", \"fell\", \"fell\", \"fell\", \"fell\", \"fell\", \"fell\", \"fell\", \"fell\", \"fell\", \"fell\", \"felony\", \"film\", \"film\", \"film\", \"film\", \"financial\", \"financial\", \"financial\", \"financial\", \"financial\", \"financial\", \"financial\", \"financial\", \"find\", \"find\", \"find\", \"find\", \"find\", \"find\", \"find\", \"find\", \"find\", \"find\", \"fintech\", \"firearm\", \"firearm\", \"fireplace\", \"firm\", \"firm\", \"firm\", \"firm\", \"firm\", \"firm\", \"firm\", \"firm\", \"firm\", \"flavor\", \"flavor\", \"flight\", \"flight\", \"flight\", \"flight\", \"flight\", \"flight\", \"flight\", \"flu\", \"flu\", \"flu\", \"food\", \"food\", \"food\", \"food\", \"food\", \"food\", \"food\", \"foot\", \"foot\", \"foot\", \"foot\", \"foot\", \"foot\", \"foot\", \"foot\", \"foot\", \"football\", \"football\", \"football\", \"football\", \"football\", \"football\", \"force\", \"force\", \"force\", \"force\", \"force\", \"force\", \"force\", \"force\", \"force\", \"force\", \"forecast\", \"forecast\", \"forecast\", \"former\", \"former\", \"former\", \"former\", \"former\", \"former\", \"former\", \"former\", \"former\", \"former\", \"france\", \"france\", \"france\", \"france\", \"france\", \"france\", \"france\", \"france\", \"france\", \"france\", \"french\", \"french\", \"french\", \"french\", \"french\", \"french\", \"french\", \"french\", \"ftse\", \"fue\", \"fuel\", \"fuel\", \"fuel\", \"fuel\", \"fuel\", \"fuel\", \"fuel\", \"fuel\", \"fuel\", \"fuel\", \"fund\", \"fund\", \"fund\", \"fund\", \"fund\", \"fund\", \"fund\", \"fund\", \"fy\", \"fy\", \"g.e\", \"g.m\", \"g.o.p\", \"gabbard\", \"gainer\", \"gallery\", \"gallery\", \"gallery\", \"gallery\", \"game\", \"game\", \"game\", \"game\", \"game\", \"gantz\", \"garlic\", \"gas\", \"gas\", \"gas\", \"gas\", \"gas\", \"gas\", \"gas\", \"gas\", \"gas\", \"gas\", \"gaza\", \"gdansk\", \"gdp\", \"gdp\", \"gdp\", \"gdp\", \"genetic\", \"german\", \"german\", \"german\", \"german\", \"german\", \"german\", \"german\", \"germany\", \"germany\", \"germany\", \"germany\", \"germany\", \"germany\", \"germany\", \"ghosn\", \"ghosns\", \"gillibrand\", \"giuseppe\", \"glacier\", \"global\", \"global\", \"global\", \"global\", \"global\", \"global\", \"global\", \"global\", \"gm\", \"gm\", \"go\", \"go\", \"go\", \"go\", \"go\", \"go\", \"go\", \"go\", \"go\", \"go\", \"going\", \"going\", \"going\", \"going\", \"going\", \"going\", \"going\", \"going\", \"going\", \"going\", \"gop\", \"got\", \"got\", \"got\", \"got\", \"got\", \"got\", \"got\", \"got\", \"got\", \"got\", \"government\", \"government\", \"government\", \"government\", \"government\", \"government\", \"government\", \"government\", \"greece\", \"greece\", \"greenback\", \"greenhouse\", \"greenhouse\", \"greenhouse\", \"group\", \"group\", \"group\", \"group\", \"group\", \"group\", \"group\", \"group\", \"group\", \"group\", \"growth\", \"growth\", \"growth\", \"growth\", \"growth\", \"growth\", \"growth\", \"guest\", \"guest\", \"guest\", \"guest\", \"guest\", \"guest\", \"guest\", \"guilty\", \"guilty\", \"guilty\", \"guilty\", \"gun\", \"gun\", \"gun\", \"gun\", \"gun\", \"gun\", \"h.i.v\", \"habitat\", \"harassment\", \"harassment\", \"harassment\", \"hartford\", \"health\", \"health\", \"health\", \"health\", \"health\", \"health\", \"health\", \"health\", \"help\", \"help\", \"help\", \"help\", \"help\", \"help\", \"help\", \"help\", \"help\", \"help\", \"hezbollah\", \"high\", \"high\", \"high\", \"high\", \"high\", \"high\", \"high\", \"high\", \"high\", \"high\", \"higher\", \"higher\", \"higher\", \"higher\", \"higher\", \"higher\", \"higher\", \"higher\", \"higher\", \"higher\", \"hillary\", \"hillary\", \"hna\", \"hockey\", \"home\", \"home\", \"home\", \"home\", \"home\", \"home\", \"home\", \"home\", \"home\", \"home\", \"homicide\", \"hong\", \"hong\", \"hong\", \"hong\", \"hotel\", \"hotel\", \"hotel\", \"hotel\", \"hotel\", \"hotel\", \"hotel\", \"hotel\", \"house\", \"house\", \"house\", \"house\", \"house\", \"house\", \"house\", \"house\", \"house\", \"house\", \"huawei\", \"huaweis\", \"hungary\", \"hurricane\", \"hurricane\", \"hurricane\", \"hurricane\", \"hurricane\", \"hurricane\", \"hurricane\", \"hyundai\", \"i.p.o\", \"ibes\", \"idlib\", \"im\", \"im\", \"im\", \"im\", \"im\", \"im\", \"im\", \"impeachable\", \"impeachment\", \"impeachment\", \"impeachment\", \"inc\", \"inc\", \"inc\", \"inc\", \"inc\", \"inc\", \"index\", \"indicted\", \"industry\", \"industry\", \"industry\", \"industry\", \"industry\", \"industry\", \"industry\", \"industry\", \"infection\", \"infection\", \"infectious\", \"inflation\", \"inmate\", \"inning\", \"insurance\", \"insurance\", \"insurance\", \"insurance\", \"insurance\", \"insurance\", \"insurance\", \"insurance\", \"insurer\", \"insurer\", \"insurer\", \"insurer\", \"international\", \"international\", \"international\", \"international\", \"international\", \"international\", \"international\", \"international\", \"international\", \"international\", \"investigation\", \"investigation\", \"investigation\", \"investigation\", \"investigation\", \"investigation\", \"investigator\", \"investigator\", \"investigator\", \"investigator\", \"investment\", \"investment\", \"investment\", \"investment\", \"investment\", \"investment\", \"investment\", \"investor\", \"investor\", \"investor\", \"investor\", \"investor\", \"io\", \"iowa\", \"iowa\", \"iowa\", \"iowa\", \"iowa\", \"iowa\", \"ipo\", \"ipo\", \"iran\", \"iran\", \"iran\", \"iran\", \"iranian\", \"iraq\", \"iraq\", \"iraqi\", \"ireland\", \"ireland\", \"ireland\", \"ireland\", \"islamic\", \"island\", \"island\", \"island\", \"island\", \"island\", \"island\", \"island\", \"island\", \"island\", \"israel\", \"israel\", \"israel\", \"israel\", \"israel\", \"israel\", \"israeli\", \"israeli\", \"israeli\", \"israeli\", \"israeli\", \"italian\", \"italian\", \"italian\", \"italian\", \"italian\", \"italian\", \"italy\", \"italy\", \"italy\", \"italy\", \"italy\", \"italy\", \"italy\", \"ivanka\", \"jail\", \"jail\", \"jail\", \"jair\", \"jair\", \"jazz\", \"jerusalem\", \"jerusalem\", \"jewelry\", \"jewelry\", \"jewelry\", \"johnson\", \"johnson\", \"johnson\", \"johnson\", \"johnson\", \"johnson\", \"johnson\", \"johnson\", \"johnson\", \"judge\", \"judge\", \"judge\", \"judge\", \"judge\", \"juror\", \"jury\", \"justice\", \"justice\", \"justice\", \"justice\", \"kabul\", \"kashmir\", \"kavanaughs\", \"kid\", \"kid\", \"kid\", \"kid\", \"kid\", \"killed\", \"killed\", \"killed\", \"killed\", \"killed\", \"killed\", \"kitchen\", \"kitchen\", \"kitchen\", \"kitchen\", \"kkr\", \"klobuchar\", \"know\", \"know\", \"know\", \"know\", \"know\", \"know\", \"know\", \"know\", \"know\", \"kong\", \"kong\", \"kong\", \"kong\", \"korea\", \"korea\", \"korea\", \"korea\", \"korea\", \"korean\", \"korean\", \"korean\", \"korean\", \"kurd\", \"kurdish\", \"kuroda\", \"kushner\", \"l.g.b.t\", \"la\", \"la\", \"la\", \"la\", \"la\", \"la\", \"la\", \"la\", \"la\", \"labour\", \"labour\", \"laude\", \"law\", \"law\", \"law\", \"law\", \"law\", \"law\", \"law\", \"lawsuit\", \"lawsuit\", \"lawsuit\", \"lawyer\", \"lawyer\", \"lawyer\", \"lawyer\", \"lawyer\", \"lawyer\", \"leader\", \"leader\", \"leader\", \"leader\", \"leader\", \"leader\", \"leader\", \"leader\", \"leader\", \"leader\", \"league\", \"league\", \"league\", \"league\", \"learn\", \"learn\", \"learn\", \"learn\", \"learn\", \"learn\", \"learn\", \"learning\", \"learning\", \"learning\", \"learning\", \"learning\", \"learning\", \"leather\", \"lebanon\", \"lebanon\", \"legal\", \"legal\", \"legal\", \"legal\", \"legal\", \"legal\", \"legal\", \"lender\", \"lender\", \"lender\", \"liberalism\", \"life\", \"life\", \"life\", \"life\", \"life\", \"life\", \"life\", \"life\", \"life\", \"life\", \"likud\", \"lng\", \"loan\", \"loan\", \"loan\", \"loan\", \"loan\", \"loan\", \"loan\", \"loan\", \"loan\", \"lobster\", \"london\", \"london\", \"london\", \"london\", \"london\", \"london\", \"london\", \"london\", \"london\", \"loneliness\", \"look\", \"look\", \"look\", \"look\", \"look\", \"look\", \"look\", \"look\", \"look\", \"look\", \"los\", \"los\", \"los\", \"los\", \"los\", \"low\", \"low\", \"low\", \"low\", \"low\", \"low\", \"low\", \"low\", \"low\", \"low\", \"lowest\", \"lowest\", \"lowest\", \"lowest\", \"lowest\", \"lowest\", \"lowest\", \"lowest\", \"lowest\", \"m\", \"m\", \"m\", \"m\", \"m\", \"m\", \"m\", \"m\", \"macron\", \"made\", \"made\", \"made\", \"made\", \"made\", \"made\", \"made\", \"made\", \"made\", \"made\", \"madoff\", \"maduro\", \"make\", \"make\", \"make\", \"make\", \"make\", \"make\", \"make\", \"make\", \"make\", \"make\", \"manhattan\", \"manhattan\", \"manhattan\", \"manhattan\", \"manhattan\", \"many\", \"many\", \"many\", \"many\", \"many\", \"many\", \"many\", \"many\", \"many\", \"many\", \"market\", \"market\", \"market\", \"market\", \"market\", \"market\", \"market\", \"market\", \"markle\", \"matteo\", \"mccain\", \"mccain\", \"mcconnell\", \"mcconnell\", \"meal\", \"meal\", \"meal\", \"meal\", \"meal\", \"measles\", \"medha\", \"meditation\", \"member\", \"member\", \"member\", \"member\", \"member\", \"member\", \"member\", \"member\", \"member\", \"member\", \"merger\", \"merger\", \"merger\", \"merger\", \"merkel\", \"merkels\", \"mets\", \"might\", \"might\", \"might\", \"might\", \"might\", \"might\", \"might\", \"might\", \"might\", \"might\", \"militant\", \"military\", \"military\", \"military\", \"military\", \"military\", \"militia\", \"million\", \"million\", \"million\", \"million\", \"million\", \"million\", \"million\", \"million\", \"million\", \"million\", \"minister\", \"minister\", \"minister\", \"minister\", \"misdemeanor\", \"missile\", \"modi\", \"modi\", \"modi\", \"modis\", \"modis\", \"mohammed\", \"mohammed\", \"moma\", \"monetary\", \"monetary\", \"monetary\", \"monetary\", \"money\", \"money\", \"money\", \"money\", \"money\", \"money\", \"money\", \"money\", \"money\", \"money\", \"mortality\", \"moscow\", \"moscow\", \"moscow\", \"moscow\", \"moscow\", \"motor\", \"motor\", \"motor\", \"motor\", \"motor\", \"motor\", \"movie\", \"movie\", \"movie\", \"movie\", \"msci\", \"mscis\", \"much\", \"much\", \"much\", \"much\", \"much\", \"much\", \"much\", \"much\", \"much\", \"much\", \"mugabe\", \"mulvaney\", \"murder\", \"murder\", \"murder\", \"murder\", \"museum\", \"museum\", \"museum\", \"museum\", \"museum\", \"music\", \"music\", \"music\", \"music\", \"music\", \"musical\", \"musical\", \"musical\", \"musk\", \"musk\", \"n.b.a\", \"n.f.l\", \"nasa\", \"nasdaq\", \"nasdaq\", \"national\", \"national\", \"national\", \"national\", \"national\", \"national\", \"national\", \"national\", \"national\", \"national\", \"need\", \"need\", \"need\", \"need\", \"need\", \"need\", \"need\", \"need\", \"need\", \"need\", \"netanyahu\", \"netanyahu\", \"netanyahu\", \"neumann\", \"neumann\", \"neumann\", \"neumann\", \"newsom\", \"nicotine\", \"night\", \"night\", \"night\", \"night\", \"night\", \"night\", \"night\", \"night\", \"nissan\", \"nodeal\", \"nodeal\", \"nonfiction\", \"noodle\", \"north\", \"north\", \"north\", \"north\", \"north\", \"north\", \"north\", \"north\", \"north\", \"north\", \"notredame\", \"novartis\", \"novartis\", \"novel\", \"novel\", \"novel\", \"novel\", \"nuclear\", \"nuclear\", \"nuclear\", \"nuclear\", \"nytnews\", \"obama\", \"obama\", \"obama\", \"obamacare\", \"obamas\", \"ocasiocortez\", \"office\", \"office\", \"office\", \"office\", \"office\", \"office\", \"office\", \"office\", \"office\", \"office\", \"officer\", \"officer\", \"officer\", \"officer\", \"officer\", \"officer\", \"officer\", \"officer\", \"official\", \"official\", \"official\", \"official\", \"official\", \"official\", \"official\", \"official\", \"official\", \"official\", \"officiated\", \"often\", \"often\", \"often\", \"often\", \"often\", \"often\", \"often\", \"often\", \"often\", \"often\", \"oil\", \"oil\", \"oil\", \"oil\", \"oil\", \"older\", \"older\", \"older\", \"older\", \"older\", \"older\", \"older\", \"older\", \"older\", \"opposition\", \"opposition\", \"opposition\", \"opposition\", \"opposition\", \"opposition\", \"orban\", \"orchestra\", \"outbreak\", \"outbreak\", \"outbreak\", \"outbreak\", \"outbreak\", \"outlook\", \"outlook\", \"outlook\", \"outlook\", \"outlook\", \"outlook\", \"outlook\", \"oven\", \"oven\", \"painting\", \"painting\", \"painting\", \"painting\", \"painting\", \"painting\", \"painting\", \"pakistan\", \"pakistan\", \"pakistan\", \"palestinian\", \"palladium\", \"pandemic\", \"para\", \"para\", \"para\", \"parenting\", \"paris\", \"paris\", \"paris\", \"paris\", \"paris\", \"paris\", \"paris\", \"paris\", \"park\", \"park\", \"park\", \"park\", \"park\", \"park\", \"park\", \"park\", \"parliament\", \"parliament\", \"parliamentary\", \"parliamentary\", \"parliamentary\", \"parnas\", \"party\", \"party\", \"party\", \"party\", \"party\", \"party\", \"party\", \"party\", \"passenger\", \"passenger\", \"passenger\", \"passenger\", \"passenger\", \"pasta\", \"pastry\", \"patient\", \"patient\", \"patient\", \"patient\", \"patient\", \"pay\", \"pay\", \"pay\", \"pay\", \"pay\", \"pay\", \"pay\", \"pay\", \"pay\", \"pay\", \"payment\", \"payment\", \"payment\", \"payment\", \"payment\", \"payment\", \"payment\", \"payment\", \"pboc\", \"pelosi\", \"people\", \"people\", \"people\", \"people\", \"people\", \"people\", \"people\", \"people\", \"people\", \"people\", \"percent\", \"percent\", \"percent\", \"percent\", \"percent\", \"percent\", \"percent\", \"percent\", \"percent\", \"percent\", \"pero\", \"pges\", \"physic\", \"physic\", \"pitcher\", \"pixel\", \"pixel\", \"pizza\", \"pizza\", \"place\", \"place\", \"place\", \"place\", \"place\", \"place\", \"place\", \"place\", \"place\", \"place\", \"plaintiff\", \"plan\", \"plan\", \"plan\", \"plan\", \"plan\", \"plan\", \"plan\", \"plan\", \"plan\", \"plan\", \"plane\", \"plane\", \"plane\", \"plane\", \"plane\", \"plane\", \"plant\", \"plant\", \"plant\", \"plant\", \"plant\", \"plant\", \"plantbased\", \"play\", \"play\", \"play\", \"play\", \"play\", \"play\", \"play\", \"play\", \"play\", \"play\", \"played\", \"played\", \"played\", \"played\", \"played\", \"played\", \"played\", \"played\", \"played\", \"player\", \"player\", \"player\", \"player\", \"player\", \"player\", \"player\", \"player\", \"player\", \"player\", \"playoff\", \"pleaded\", \"pmi\", \"podcasts\", \"point\", \"point\", \"point\", \"point\", \"point\", \"point\", \"point\", \"point\", \"point\", \"point\", \"pointer\", \"poland\", \"poland\", \"poland\", \"police\", \"police\", \"police\", \"policy\", \"policy\", \"policy\", \"policy\", \"policy\", \"policy\", \"policy\", \"policy\", \"political\", \"political\", \"political\", \"political\", \"political\", \"political\", \"pollution\", \"pollution\", \"pope\", \"pope\", \"pope\", \"pope\", \"pope\", \"pope\", \"por\", \"power\", \"power\", \"power\", \"power\", \"power\", \"power\", \"power\", \"power\", \"power\", \"power\", \"pp\", \"premiere\", \"premiere\", \"premiere\", \"president\", \"president\", \"president\", \"president\", \"president\", \"president\", \"president\", \"president\", \"president\", \"president\", \"presidential\", \"presidential\", \"presidential\", \"presidential\", \"presidential\", \"price\", \"price\", \"price\", \"price\", \"price\", \"price\", \"price\", \"price\", \"price\", \"prim\", \"primary\", \"primary\", \"primary\", \"primary\", \"primary\", \"primary\", \"primary\", \"primary\", \"primary\", \"prime\", \"prime\", \"prime\", \"prime\", \"prime\", \"prime\", \"prime\", \"prime\", \"prime\", \"prison\", \"prison\", \"prison\", \"privateequity\", \"production\", \"production\", \"production\", \"production\", \"production\", \"production\", \"production\", \"production\", \"production\", \"project\", \"project\", \"project\", \"project\", \"project\", \"project\", \"project\", \"project\", \"project\", \"project\", \"prosecution\", \"prosecution\", \"prosecution\", \"prosecutor\", \"prospectus\", \"protester\", \"protester\", \"protester\", \"protester\", \"public\", \"public\", \"public\", \"public\", \"public\", \"public\", \"public\", \"public\", \"public\", \"puzzle\", \"puzzle\", \"puzzle\", \"puzzle\", \"puzzle\", \"puzzle\", \"pyongyang\", \"qaeda\", \"quarantined\", \"quarter\", \"quarter\", \"quarter\", \"quarter\", \"quarter\", \"quarter\", \"quarter\", \"quarter\", \"quarter\", \"quarterback\", \"que\", \"rape\", \"rape\", \"rate\", \"rate\", \"rate\", \"rate\", \"rate\", \"rate\", \"reader\", \"reader\", \"reader\", \"reader\", \"reader\", \"reais\", \"really\", \"really\", \"really\", \"really\", \"really\", \"really\", \"really\", \"really\", \"really\", \"realty\", \"recession\", \"recession\", \"recession\", \"recession\", \"recession\", \"recession\", \"recipe\", \"recipe\", \"recipe\", \"recipe\", \"recipe\", \"recipe\", \"referendum\", \"referendum\", \"referendum\", \"refiner\", \"refinery\", \"renault\", \"repo\", \"repo\", \"report\", \"report\", \"report\", \"report\", \"report\", \"report\", \"report\", \"report\", \"report\", \"report\", \"reporting\", \"reporting\", \"reporting\", \"reporting\", \"reporting\", \"reporting\", \"reporting\", \"reporting\", \"reporting\", \"reporting\", \"republican\", \"republican\", \"researcher\", \"researcher\", \"researcher\", \"researcher\", \"reserve\", \"reserve\", \"reserve\", \"reserve\", \"reserve\", \"reserve\", \"reserve\", \"reserve\", \"reserve\", \"reserve\", \"restaurant\", \"restaurant\", \"restaurant\", \"restaurant\", \"revenue\", \"revenue\", \"revenue\", \"revenue\", \"revenue\", \"revenue\", \"revenue\", \"rohingya\", \"rohingya\", \"rome\", \"rome\", \"rome\", \"rome\", \"rome\", \"romney\", \"room\", \"room\", \"room\", \"room\", \"room\", \"room\", \"room\", \"room\", \"room\", \"rose\", \"rose\", \"rose\", \"rose\", \"rose\", \"rose\", \"rose\", \"rose\", \"rose\", \"rose\", \"run\", \"run\", \"run\", \"run\", \"run\", \"run\", \"run\", \"run\", \"run\", \"run\", \"russia\", \"russia\", \"russia\", \"russia\", \"russia\", \"russia\", \"russia\", \"russia\", \"russian\", \"russian\", \"russian\", \"russian\", \"russian\", \"russian\", \"russian\", \"russian\", \"s.e.c\", \"s.u.v\", \"safehaven\", \"salad\", \"sale\", \"sale\", \"sale\", \"sale\", \"sale\", \"sale\", \"sale\", \"sale\", \"sale\", \"salvini\", \"sanction\", \"sanction\", \"sanction\", \"sanction\", \"sanction\", \"sanction\", \"sanction\", \"sander\", \"sander\", \"sandwich\", \"sandwich\", \"sauce\", \"sauce\", \"saudi\", \"saudi\", \"saudi\", \"saudi\", \"saudi\", \"sausage\", \"school\", \"school\", \"school\", \"school\", \"school\", \"school\", \"schumer\", \"schumer\", \"science\", \"science\", \"science\", \"science\", \"science\", \"science\", \"science\", \"scored\", \"sculpture\", \"se\", \"se\", \"se\", \"se\", \"se\", \"se\", \"se\", \"se\", \"season\", \"season\", \"season\", \"season\", \"season\", \"security\", \"security\", \"security\", \"security\", \"security\", \"security\", \"security\", \"security\", \"see\", \"see\", \"see\", \"see\", \"see\", \"see\", \"see\", \"see\", \"see\", \"see\", \"selloff\", \"senate\", \"senate\", \"senator\", \"senator\", \"senator\", \"sentenced\", \"sentenced\", \"sentencing\", \"series\", \"series\", \"series\", \"series\", \"series\", \"series\", \"series\", \"series\", \"series\", \"series\", \"service\", \"service\", \"service\", \"service\", \"service\", \"service\", \"service\", \"service\", \"service\", \"service\", \"sexual\", \"sexual\", \"seythal\", \"share\", \"share\", \"share\", \"share\", \"share\", \"share\", \"share\", \"share\", \"share\", \"share\", \"shareholder\", \"shareholder\", \"shareholder\", \"sheriff\", \"shfe\", \"shop\", \"shop\", \"shop\", \"shop\", \"shop\", \"shop\", \"shop\", \"show\", \"show\", \"show\", \"show\", \"show\", \"show\", \"show\", \"show\", \"show\", \"show\", \"shrimp\", \"signup\", \"since\", \"since\", \"since\", \"since\", \"since\", \"since\", \"since\", \"since\", \"since\", \"since\", \"sistema\", \"sleep\", \"sleep\", \"sleep\", \"sleep\", \"sleep\", \"sloan\", \"slowdown\", \"slowdown\", \"snchez\", \"sobre\", \"softbank\", \"softbank\", \"softbanks\", \"softbanks\", \"solar\", \"solar\", \"solar\", \"soldier\", \"soldier\", \"soldier\", \"soldier\", \"soldier\", \"soldier\", \"soldier\", \"solver\", \"something\", \"something\", \"something\", \"something\", \"something\", \"something\", \"something\", \"something\", \"something\", \"sondland\", \"song\", \"song\", \"song\", \"song\", \"sothebys\", \"source\", \"source\", \"source\", \"source\", \"source\", \"source\", \"source\", \"source\", \"source\", \"source\", \"south\", \"south\", \"south\", \"south\", \"south\", \"south\", \"south\", \"south\", \"south\", \"south\", \"soybean\", \"sp\", \"space\", \"space\", \"space\", \"space\", \"space\", \"space\", \"space\", \"space\", \"space\", \"space\", \"spacecraft\", \"spain\", \"spain\", \"spain\", \"spain\", \"spain\", \"spain\", \"spain\", \"specie\", \"spicy\", \"sport\", \"sport\", \"sport\", \"sport\", \"sport\", \"sport\", \"sport\", \"sport\", \"sport\", \"squarefoot\", \"stake\", \"stake\", \"stake\", \"stake\", \"stake\", \"stake\", \"stake\", \"stake\", \"stake\", \"stake\", \"star\", \"star\", \"star\", \"star\", \"star\", \"star\", \"star\", \"star\", \"star\", \"startup\", \"startup\", \"startup\", \"startup\", \"state\", \"state\", \"state\", \"state\", \"state\", \"state\", \"state\", \"state\", \"state\", \"state\", \"statement\", \"statement\", \"statement\", \"statement\", \"statement\", \"statement\", \"statement\", \"statement\", \"statement\", \"statement\", \"steyer\", \"still\", \"still\", \"still\", \"still\", \"still\", \"still\", \"still\", \"still\", \"still\", \"still\", \"stimulus\", \"stimulus\", \"stimulus\", \"stock\", \"stock\", \"stock\", \"stock\", \"stock\", \"stock\", \"store\", \"store\", \"store\", \"store\", \"store\", \"store\", \"storm\", \"storm\", \"storm\", \"storm\", \"storm\", \"storm\", \"storm\", \"storm\", \"story\", \"story\", \"story\", \"story\", \"story\", \"story\", \"story\", \"story\", \"story\", \"story\", \"stoxx\", \"street\", \"street\", \"street\", \"street\", \"street\", \"street\", \"street\", \"street\", \"street\", \"street\", \"student\", \"student\", \"student\", \"student\", \"study\", \"study\", \"study\", \"study\", \"study\", \"study\", \"study\", \"su\", \"su\", \"su\", \"su\", \"sudan\", \"supply\", \"supply\", \"supply\", \"supply\", \"supply\", \"supply\", \"supply\", \"supply\", \"supply\", \"support\", \"support\", \"support\", \"support\", \"support\", \"support\", \"support\", \"support\", \"support\", \"support\", \"sus\", \"syndergaard\", \"syria\", \"syria\", \"syrian\", \"taco\", \"take\", \"take\", \"take\", \"take\", \"take\", \"take\", \"take\", \"take\", \"take\", \"take\", \"taliban\", \"tasting\", \"tax\", \"tax\", \"tax\", \"tax\", \"tax\", \"tax\", \"tax\", \"tax\", \"team\", \"team\", \"team\", \"team\", \"team\", \"team\", \"team\", \"team\", \"team\", \"team\", \"teammate\", \"tech\", \"tech\", \"tech\", \"tech\", \"tech\", \"tech\", \"tehran\", \"tesla\", \"teva\", \"thats\", \"thats\", \"thats\", \"thats\", \"thats\", \"thats\", \"thats\", \"thats\", \"thats\", \"theater\", \"theater\", \"theater\", \"theater\", \"theater\", \"theater\", \"theater\", \"theresa\", \"thing\", \"thing\", \"thing\", \"thing\", \"thing\", \"thing\", \"thing\", \"thing\", \"thing\", \"thing\", \"think\", \"think\", \"think\", \"think\", \"think\", \"think\", \"think\", \"think\", \"think\", \"thunberg\", \"told\", \"told\", \"told\", \"told\", \"told\", \"told\", \"told\", \"told\", \"told\", \"told\", \"tonne\", \"tonne\", \"touchdown\", \"tournament\", \"trade\", \"trade\", \"trade\", \"trade\", \"trade\", \"trade\", \"trade\", \"trade\", \"trade\", \"trade\", \"trading\", \"trading\", \"trading\", \"trading\", \"trading\", \"trading\", \"trading\", \"trading\", \"transaction\", \"transaction\", \"transaction\", \"transaction\", \"transaction\", \"transaction\", \"transaction\", \"transaction\", \"transgender\", \"transgender\", \"treasury\", \"treasury\", \"treasury\", \"treasury\", \"treasury\", \"trial\", \"trial\", \"trial\", \"trial\", \"trial\", \"trial\", \"trial\", \"troop\", \"troop\", \"trudeau\", \"trudeau\", \"trudeau\", \"trudeau\", \"trudeaus\", \"trudeaus\", \"trump\", \"trump\", \"trump\", \"trump\", \"turkey\", \"turkey\", \"turkey\", \"turkey\", \"turkish\", \"turkish\", \"turkish\", \"u.s\", \"u.s\", \"u.s\", \"u.s\", \"u.s\", \"u.s\", \"u.s\", \"u.s\", \"u.s\", \"u.s\", \"u.s.china\", \"u.s.china\", \"u.s.china\", \"u.s.china\", \"ukraine\", \"ukraine\", \"ukraine\", \"ukraine\", \"ukraine\", \"un\", \"un\", \"un\", \"una\", \"union\", \"union\", \"union\", \"union\", \"union\", \"union\", \"union\", \"union\", \"union\", \"unionist\", \"united\", \"united\", \"united\", \"united\", \"united\", \"united\", \"united\", \"united\", \"united\", \"united\", \"university\", \"university\", \"university\", \"university\", \"university\", \"university\", \"university\", \"university\", \"vaccine\", \"vaccine\", \"vaping\", \"varadkar\", \"vatican\", \"vegan\", \"vehicle\", \"vehicle\", \"vehicle\", \"vehicle\", \"vehicle\", \"vehicle\", \"vehicle\", \"venezuela\", \"venezuela\", \"venezuela\", \"venezuela\", \"venezuelan\", \"venezuelan\", \"ventilator\", \"viacom\", \"victim\", \"victim\", \"victim\", \"victim\", \"victim\", \"virus\", \"virus\", \"virus\", \"volatility\", \"volatility\", \"volatility\", \"volkswagen\", \"volodymyr\", \"vote\", \"vote\", \"vote\", \"vote\", \"vote\", \"voter\", \"voter\", \"voter\", \"want\", \"want\", \"want\", \"want\", \"want\", \"want\", \"want\", \"want\", \"want\", \"want\", \"war\", \"war\", \"war\", \"war\", \"war\", \"war\", \"war\", \"war\", \"war\", \"warren\", \"warren\", \"warren\", \"warren\", \"warren\", \"warren\", \"warren\", \"warren\", \"washington\", \"washington\", \"washington\", \"washington\", \"washington\", \"washington\", \"washington\", \"washington\", \"water\", \"water\", \"water\", \"water\", \"water\", \"water\", \"water\", \"water\", \"water\", \"water\", \"way\", \"way\", \"way\", \"way\", \"way\", \"way\", \"way\", \"way\", \"way\", \"way\", \"waymo\", \"wedding\", \"wedding\", \"wedding\", \"wedding\", \"wedding\", \"weinstein\", \"weinstein\", \"weinsteins\", \"wework\", \"wework\", \"wework\", \"weworks\", \"whistleblower\", \"white\", \"white\", \"white\", \"white\", \"white\", \"white\", \"white\", \"white\", \"white\", \"win\", \"win\", \"win\", \"win\", \"win\", \"win\", \"win\", \"win\", \"win\", \"win\", \"wine\", \"witness\", \"witness\", \"witness\", \"witness\", \"witness\", \"witness\", \"woman\", \"woman\", \"woman\", \"woman\", \"woman\", \"woman\", \"woman\", \"wordplay\", \"work\", \"work\", \"work\", \"work\", \"work\", \"work\", \"work\", \"work\", \"work\", \"work\", \"worker\", \"worker\", \"worker\", \"worker\", \"worker\", \"worker\", \"worker\", \"worker\", \"worker\", \"world\", \"world\", \"world\", \"world\", \"world\", \"world\", \"world\", \"world\", \"world\", \"world\", \"writes\", \"writes\", \"writes\", \"writes\", \"writes\", \"writes\", \"writes\", \"wrote\", \"wrote\", \"wrote\", \"wrote\", \"wrote\", \"wrote\", \"wrote\", \"wrote\", \"wrote\", \"wrote\", \"wsj\", \"wsj\", \"wsj\", \"wsj\", \"wsj\", \"xerox\", \"yankee\", \"yard\", \"yard\", \"yearoveryear\", \"yemen\", \"yen\", \"yen\", \"yen\", \"yield\", \"yield\", \"yield\", \"yield\", \"yield\", \"yield\", \"york\", \"york\", \"york\", \"york\", \"york\", \"york\", \"york\", \"york\", \"york\", \"youre\", \"youre\", \"youre\", \"youre\", \"youre\", \"youre\", \"youtube\", \"youtube\", \"youtube\", \"youtube\", \"yovanovitch\", \"zelensky\"]}, \"R\": 30, \"lambda.step\": 0.01, \"plot.opts\": {\"xlab\": \"PC1\", \"ylab\": \"PC2\"}, \"topic.order\": [10, 6, 9, 5, 3, 4, 2, 7, 8, 1]};\n",
       "\n",
       "function LDAvis_load_lib(url, callback){\n",
       "  var s = document.createElement('script');\n",
       "  s.src = url;\n",
       "  s.async = true;\n",
       "  s.onreadystatechange = s.onload = callback;\n",
       "  s.onerror = function(){console.warn(\"failed to load library \" + url);};\n",
       "  document.getElementsByTagName(\"head\")[0].appendChild(s);\n",
       "}\n",
       "\n",
       "if(typeof(LDAvis) !== \"undefined\"){\n",
       "   // already loaded: just create the visualization\n",
       "   !function(LDAvis){\n",
       "       new LDAvis(\"#\" + \"ldavis_el7631397796228613123594171078\", ldavis_el7631397796228613123594171078_data);\n",
       "   }(LDAvis);\n",
       "}else if(typeof define === \"function\" && define.amd){\n",
       "   // require.js is available: use it to load d3/LDAvis\n",
       "   require.config({paths: {d3: \"https://d3js.org/d3.v5\"}});\n",
       "   require([\"d3\"], function(d3){\n",
       "      window.d3 = d3;\n",
       "      LDAvis_load_lib(\"https://cdn.jsdelivr.net/gh/bmabey/pyLDAvis@3.4.0/pyLDAvis/js/ldavis.v3.0.0.js\", function(){\n",
       "        new LDAvis(\"#\" + \"ldavis_el7631397796228613123594171078\", ldavis_el7631397796228613123594171078_data);\n",
       "      });\n",
       "    });\n",
       "}else{\n",
       "    // require.js not available: dynamically load d3 & LDAvis\n",
       "    LDAvis_load_lib(\"https://d3js.org/d3.v5.js\", function(){\n",
       "         LDAvis_load_lib(\"https://cdn.jsdelivr.net/gh/bmabey/pyLDAvis@3.4.0/pyLDAvis/js/ldavis.v3.0.0.js\", function(){\n",
       "                 new LDAvis(\"#\" + \"ldavis_el7631397796228613123594171078\", ldavis_el7631397796228613123594171078_data);\n",
       "            })\n",
       "         });\n",
       "}\n",
       "</script>"
      ],
      "text/plain": [
       "<IPython.core.display.HTML object>"
      ]
     },
     "execution_count": 35,
     "metadata": {},
     "output_type": "execute_result"
    }
   ],
   "source": [
    "%matplotlib inline\n",
    "import pyLDAvis\n",
    "import pyLDAvis.gensim_models\n",
    "import gensim\n",
    "\n",
    "vis = pyLDAvis.gensim_models.prepare(lda_model, bow_corpus, dictionary)\n",
    "pyLDAvis.enable_notebook()\n",
    "pyLDAvis.display(vis)"
   ]
  },
  {
   "cell_type": "code",
   "execution_count": 36,
   "metadata": {
    "execution": {
     "iopub.execute_input": "2023-05-23T17:52:23.857177Z",
     "iopub.status.busy": "2023-05-23T17:52:23.856400Z",
     "iopub.status.idle": "2023-05-23T17:52:23.996134Z",
     "shell.execute_reply": "2023-05-23T17:52:23.995347Z",
     "shell.execute_reply.started": "2023-05-23T17:52:23.857139Z"
    },
    "tags": []
   },
   "outputs": [
    {
     "name": "stdout",
     "output_type": "stream",
     "text": [
      "Topic: 0 \n",
      "Words: 0.007*\"city\" + 0.007*\"art\" + 0.006*\"m\" + 0.005*\"york\" + 0.005*\"food\" + 0.005*\"home\" + 0.004*\"street\" + 0.004*\"house\" + 0.004*\"museum\" + 0.004*\"restaurant\"\n",
      "Topic: 1 \n",
      "Words: 0.011*\"state\" + 0.009*\"coronavirus\" + 0.009*\"country\" + 0.009*\"united\" + 0.008*\"china\" + 0.007*\"official\" + 0.007*\"government\" + 0.007*\"people\" + 0.006*\"military\" + 0.005*\"war\"\n",
      "Topic: 2 \n",
      "Words: 0.017*\"market\" + 0.013*\"rate\" + 0.010*\"economy\" + 0.009*\"bank\" + 0.009*\"u.s\" + 0.009*\"stock\" + 0.008*\"price\" + 0.008*\"trade\" + 0.008*\"economic\" + 0.008*\"growth\"\n",
      "Topic: 3 \n",
      "Words: 0.013*\"de\" + 0.009*\"la\" + 0.008*\"game\" + 0.006*\"team\" + 0.006*\"season\" + 0.005*\"que\" + 0.005*\"en\" + 0.005*\"el\" + 0.005*\"los\" + 0.005*\"play\"\n",
      "Topic: 4 \n",
      "Words: 0.031*\"trump\" + 0.019*\"president\" + 0.010*\"state\" + 0.008*\"house\" + 0.008*\"republican\" + 0.007*\"democrat\" + 0.007*\"campaign\" + 0.006*\"american\" + 0.006*\"white\" + 0.006*\"democratic\"\n",
      "Topic: 5 \n",
      "Words: 0.008*\"m\" + 0.007*\"court\" + 0.006*\"case\" + 0.006*\"state\" + 0.006*\"law\" + 0.005*\"woman\" + 0.005*\"police\" + 0.004*\"department\" + 0.004*\"york\" + 0.004*\"investigation\"\n",
      "Topic: 6 \n",
      "Words: 0.008*\"china\" + 0.008*\"company\" + 0.006*\"oil\" + 0.006*\"state\" + 0.005*\"million\" + 0.005*\"car\" + 0.005*\"climate\" + 0.005*\"airline\" + 0.005*\"united\" + 0.004*\"industry\"\n",
      "Topic: 7 \n",
      "Words: 0.011*\"government\" + 0.011*\"european\" + 0.009*\"minister\" + 0.009*\"country\" + 0.008*\"party\" + 0.007*\"britain\" + 0.007*\"union\" + 0.006*\"prime\" + 0.005*\"british\" + 0.005*\"europe\"\n",
      "Topic: 8 \n",
      "Words: 0.038*\"company\" + 0.016*\"million\" + 0.012*\"billion\" + 0.012*\"business\" + 0.008*\"financial\" + 0.007*\"bank\" + 0.007*\"executive\" + 0.007*\"share\" + 0.006*\"firm\" + 0.006*\"fund\"\n",
      "Topic: 9 \n",
      "Words: 0.009*\"people\" + 0.005*\"work\" + 0.005*\"make\" + 0.005*\"way\" + 0.004*\"many\" + 0.004*\"life\" + 0.004*\"think\" + 0.004*\"know\" + 0.003*\"thing\" + 0.003*\"much\"\n"
     ]
    }
   ],
   "source": [
    "#print the 10 most important terms for each topic\n",
    "for idx, topic in lda_model.print_topics(-1):\n",
    "    print('Topic: {} \\nWords: {}'.format(idx, topic))\n",
    "    "
   ]
  },
  {
   "cell_type": "code",
   "execution_count": null,
   "metadata": {
    "execution": {
     "iopub.execute_input": "2023-05-23T17:57:11.179116Z",
     "iopub.status.busy": "2023-05-23T17:57:11.178858Z",
     "iopub.status.idle": "2023-05-23T18:21:18.783958Z",
     "shell.execute_reply": "2023-05-23T18:21:18.782944Z",
     "shell.execute_reply.started": "2023-05-23T17:57:11.179084Z"
    },
    "tags": []
   },
   "outputs": [],
   "source": [
    "#add to each article in newslimited_cleaned the topic number in a new column\n",
    "newslimited_cleaned['topic'] = newslimited_cleaned['article'].apply(lambda x: lda_model[dictionary.doc2bow(x.split())][0][0])\n",
    "newslimited_cleaned.head()"
   ]
  },
  {
   "attachments": {},
   "cell_type": "markdown",
   "metadata": {
    "jp-MarkdownHeadingCollapsed": true,
    "tags": []
   },
   "source": [
    "## 4.6 Cutting & encoding"
   ]
  },
  {
   "cell_type": "code",
   "execution_count": 38,
   "metadata": {
    "execution": {
     "iopub.execute_input": "2023-05-23T18:21:18.799026Z",
     "iopub.status.busy": "2023-05-23T18:21:18.798714Z",
     "iopub.status.idle": "2023-05-23T18:21:18.809708Z",
     "shell.execute_reply": "2023-05-23T18:21:18.809178Z",
     "shell.execute_reply.started": "2023-05-23T18:21:18.799006Z"
    },
    "tags": []
   },
   "outputs": [
    {
     "data": {
      "text/plain": [
       "array([3, 4, 2, 1, 0, 7, 5, 6, 9, 8])"
      ]
     },
     "execution_count": 38,
     "metadata": {},
     "output_type": "execute_result"
    }
   ],
   "source": [
    "newslimited_cleaned['topic'].unique()"
   ]
  },
  {
   "cell_type": "code",
   "execution_count": 41,
   "metadata": {
    "execution": {
     "iopub.execute_input": "2023-05-23T18:30:45.096927Z",
     "iopub.status.busy": "2023-05-23T18:30:45.096036Z",
     "iopub.status.idle": "2023-05-23T18:31:40.313721Z",
     "shell.execute_reply": "2023-05-23T18:31:40.311655Z",
     "shell.execute_reply.started": "2023-05-23T18:30:45.096830Z"
    },
    "tags": []
   },
   "outputs": [],
   "source": [
    "#safe newslimited_cleaned as csv\n",
    "newslimited_cleaned.to_csv('categorized.csv', index=False)"
   ]
  },
  {
   "cell_type": "code",
   "execution_count": 7,
   "metadata": {
    "execution": {
     "iopub.execute_input": "2023-05-25T13:09:02.238766Z",
     "iopub.status.busy": "2023-05-25T13:09:02.238020Z",
     "iopub.status.idle": "2023-05-25T13:10:11.905600Z",
     "shell.execute_reply": "2023-05-25T13:10:11.904296Z",
     "shell.execute_reply.started": "2023-05-25T13:09:02.238710Z"
    },
    "tags": []
   },
   "outputs": [],
   "source": [
    "newspaper_cleaned = pd.read_csv('categorized.csv')"
   ]
  },
  {
   "cell_type": "code",
   "execution_count": 8,
   "metadata": {
    "execution": {
     "iopub.execute_input": "2023-05-25T13:10:11.922297Z",
     "iopub.status.busy": "2023-05-25T13:10:11.921819Z",
     "iopub.status.idle": "2023-05-25T13:10:11.932178Z",
     "shell.execute_reply": "2023-05-25T13:10:11.931584Z",
     "shell.execute_reply.started": "2023-05-25T13:10:11.922259Z"
    },
    "tags": []
   },
   "outputs": [
    {
     "data": {
      "text/html": [
       "<div>\n",
       "<style scoped>\n",
       "    .dataframe tbody tr th:only-of-type {\n",
       "        vertical-align: middle;\n",
       "    }\n",
       "\n",
       "    .dataframe tbody tr th {\n",
       "        vertical-align: top;\n",
       "    }\n",
       "\n",
       "    .dataframe thead th {\n",
       "        text-align: right;\n",
       "    }\n",
       "</style>\n",
       "<table border=\"1\" class=\"dataframe\">\n",
       "  <thead>\n",
       "    <tr style=\"text-align: right;\">\n",
       "      <th></th>\n",
       "      <th>year</th>\n",
       "      <th>title</th>\n",
       "      <th>article</th>\n",
       "      <th>publication</th>\n",
       "      <th>topic</th>\n",
       "    </tr>\n",
       "  </thead>\n",
       "  <tbody>\n",
       "    <tr>\n",
       "      <th>0</th>\n",
       "      <td>2016</td>\n",
       "      <td>Colts GM Ryan Grigson says Andrew Luck's contr...</td>\n",
       "      <td>indianapolis colt made andrew luck highestpaid...</td>\n",
       "      <td>Business Insider</td>\n",
       "      <td>3</td>\n",
       "    </tr>\n",
       "    <tr>\n",
       "      <th>1</th>\n",
       "      <td>2018</td>\n",
       "      <td>Trump denies report he ordered Mueller fired</td>\n",
       "      <td>davos switzerland u.s president donald trump d...</td>\n",
       "      <td>Reuters</td>\n",
       "      <td>4</td>\n",
       "    </tr>\n",
       "    <tr>\n",
       "      <th>2</th>\n",
       "      <td>2019</td>\n",
       "      <td>France's Sarkozy reveals his 'Passions' but in...</td>\n",
       "      <td>paris former french president nicolas sarkozy ...</td>\n",
       "      <td>Reuters</td>\n",
       "      <td>3</td>\n",
       "    </tr>\n",
       "    <tr>\n",
       "      <th>3</th>\n",
       "      <td>2016</td>\n",
       "      <td>Paris Hilton: Woman In Black For Uncle Monty's...</td>\n",
       "      <td>paris hilton arrived lax wednesday dressed pay...</td>\n",
       "      <td>TMZ</td>\n",
       "      <td>3</td>\n",
       "    </tr>\n",
       "    <tr>\n",
       "      <th>4</th>\n",
       "      <td>2019</td>\n",
       "      <td>ECB's Coeure: If we decide to cut rates, we'd ...</td>\n",
       "      <td>berlin june ecb board member benoit coeure sai...</td>\n",
       "      <td>Reuters</td>\n",
       "      <td>2</td>\n",
       "    </tr>\n",
       "  </tbody>\n",
       "</table>\n",
       "</div>"
      ],
      "text/plain": [
       "   year                                              title   \n",
       "0  2016  Colts GM Ryan Grigson says Andrew Luck's contr...  \\\n",
       "1  2018       Trump denies report he ordered Mueller fired   \n",
       "2  2019  France's Sarkozy reveals his 'Passions' but in...   \n",
       "3  2016  Paris Hilton: Woman In Black For Uncle Monty's...   \n",
       "4  2019  ECB's Coeure: If we decide to cut rates, we'd ...   \n",
       "\n",
       "                                             article       publication  topic  \n",
       "0  indianapolis colt made andrew luck highestpaid...  Business Insider      3  \n",
       "1  davos switzerland u.s president donald trump d...           Reuters      4  \n",
       "2  paris former french president nicolas sarkozy ...           Reuters      3  \n",
       "3  paris hilton arrived lax wednesday dressed pay...               TMZ      3  \n",
       "4  berlin june ecb board member benoit coeure sai...           Reuters      2  "
      ]
     },
     "execution_count": 8,
     "metadata": {},
     "output_type": "execute_result"
    }
   ],
   "source": [
    "newspaper_cleaned.head()"
   ]
  },
  {
   "cell_type": "code",
   "execution_count": 9,
   "metadata": {
    "execution": {
     "iopub.execute_input": "2023-05-25T13:10:11.935126Z",
     "iopub.status.busy": "2023-05-25T13:10:11.934619Z",
     "iopub.status.idle": "2023-05-25T13:10:11.971676Z",
     "shell.execute_reply": "2023-05-25T13:10:11.970376Z",
     "shell.execute_reply.started": "2023-05-25T13:10:11.935085Z"
    },
    "tags": []
   },
   "outputs": [
    {
     "data": {
      "text/plain": [
       "array([3, 4, 2, 1, 0, 7, 5, 6, 9, 8])"
      ]
     },
     "execution_count": 9,
     "metadata": {},
     "output_type": "execute_result"
    }
   ],
   "source": [
    "newspaper_cleaned['topic'].unique()"
   ]
  },
  {
   "cell_type": "code",
   "execution_count": 5,
   "metadata": {
    "execution": {
     "iopub.execute_input": "2023-05-24T11:39:16.575128Z",
     "iopub.status.busy": "2023-05-24T11:39:16.574210Z",
     "iopub.status.idle": "2023-05-24T11:39:16.697637Z",
     "shell.execute_reply": "2023-05-24T11:39:16.695366Z",
     "shell.execute_reply.started": "2023-05-24T11:39:16.575066Z"
    },
    "tags": []
   },
   "outputs": [],
   "source": [
    "newslimited_cat = newspaper_cleaned.copy()"
   ]
  },
  {
   "cell_type": "code",
   "execution_count": 8,
   "metadata": {
    "execution": {
     "iopub.execute_input": "2023-05-24T11:40:04.859170Z",
     "iopub.status.busy": "2023-05-24T11:40:04.858459Z",
     "iopub.status.idle": "2023-05-24T11:40:04.978704Z",
     "shell.execute_reply": "2023-05-24T11:40:04.977985Z",
     "shell.execute_reply.started": "2023-05-24T11:40:04.859115Z"
    },
    "tags": []
   },
   "outputs": [],
   "source": [
    "newslimited_cat['topic'] = newslimited_cat['topic'].replace([0, 1, 2, 3, 4, 5, 6, 7, 8, 9], [20, 17, 15, 16, 14, 12, 18, 19, 13, 11])"
   ]
  },
  {
   "cell_type": "code",
   "execution_count": 9,
   "metadata": {
    "execution": {
     "iopub.execute_input": "2023-05-24T11:40:16.054747Z",
     "iopub.status.busy": "2023-05-24T11:40:16.054220Z",
     "iopub.status.idle": "2023-05-24T11:40:16.190746Z",
     "shell.execute_reply": "2023-05-24T11:40:16.189650Z",
     "shell.execute_reply.started": "2023-05-24T11:40:16.054720Z"
    },
    "tags": []
   },
   "outputs": [],
   "source": [
    "newslimited_cat['topic'] = newslimited_cat['topic'].replace([11, 12, 13, 14, 15, 16, 17, 18, 19, 20], [1, 2, 3, 4, 5, 6, 7, 8, 9, 10])"
   ]
  },
  {
   "cell_type": "code",
   "execution_count": 10,
   "metadata": {
    "execution": {
     "iopub.execute_input": "2023-05-24T11:40:24.729428Z",
     "iopub.status.busy": "2023-05-24T11:40:24.728704Z",
     "iopub.status.idle": "2023-05-24T11:40:24.745510Z",
     "shell.execute_reply": "2023-05-24T11:40:24.744259Z",
     "shell.execute_reply.started": "2023-05-24T11:40:24.729331Z"
    },
    "tags": []
   },
   "outputs": [
    {
     "data": {
      "text/html": [
       "<div>\n",
       "<style scoped>\n",
       "    .dataframe tbody tr th:only-of-type {\n",
       "        vertical-align: middle;\n",
       "    }\n",
       "\n",
       "    .dataframe tbody tr th {\n",
       "        vertical-align: top;\n",
       "    }\n",
       "\n",
       "    .dataframe thead th {\n",
       "        text-align: right;\n",
       "    }\n",
       "</style>\n",
       "<table border=\"1\" class=\"dataframe\">\n",
       "  <thead>\n",
       "    <tr style=\"text-align: right;\">\n",
       "      <th></th>\n",
       "      <th>year</th>\n",
       "      <th>title</th>\n",
       "      <th>article</th>\n",
       "      <th>publication</th>\n",
       "      <th>topic</th>\n",
       "    </tr>\n",
       "  </thead>\n",
       "  <tbody>\n",
       "    <tr>\n",
       "      <th>0</th>\n",
       "      <td>2016</td>\n",
       "      <td>Colts GM Ryan Grigson says Andrew Luck's contr...</td>\n",
       "      <td>indianapolis colt made andrew luck highestpaid...</td>\n",
       "      <td>Business Insider</td>\n",
       "      <td>6</td>\n",
       "    </tr>\n",
       "    <tr>\n",
       "      <th>1</th>\n",
       "      <td>2018</td>\n",
       "      <td>Trump denies report he ordered Mueller fired</td>\n",
       "      <td>davos switzerland u.s president donald trump d...</td>\n",
       "      <td>Reuters</td>\n",
       "      <td>4</td>\n",
       "    </tr>\n",
       "    <tr>\n",
       "      <th>2</th>\n",
       "      <td>2019</td>\n",
       "      <td>France's Sarkozy reveals his 'Passions' but in...</td>\n",
       "      <td>paris former french president nicolas sarkozy ...</td>\n",
       "      <td>Reuters</td>\n",
       "      <td>6</td>\n",
       "    </tr>\n",
       "    <tr>\n",
       "      <th>3</th>\n",
       "      <td>2016</td>\n",
       "      <td>Paris Hilton: Woman In Black For Uncle Monty's...</td>\n",
       "      <td>paris hilton arrived lax wednesday dressed pay...</td>\n",
       "      <td>TMZ</td>\n",
       "      <td>6</td>\n",
       "    </tr>\n",
       "    <tr>\n",
       "      <th>4</th>\n",
       "      <td>2019</td>\n",
       "      <td>ECB's Coeure: If we decide to cut rates, we'd ...</td>\n",
       "      <td>berlin june ecb board member benoit coeure sai...</td>\n",
       "      <td>Reuters</td>\n",
       "      <td>5</td>\n",
       "    </tr>\n",
       "  </tbody>\n",
       "</table>\n",
       "</div>"
      ],
      "text/plain": [
       "   year                                              title   \n",
       "0  2016  Colts GM Ryan Grigson says Andrew Luck's contr...  \\\n",
       "1  2018       Trump denies report he ordered Mueller fired   \n",
       "2  2019  France's Sarkozy reveals his 'Passions' but in...   \n",
       "3  2016  Paris Hilton: Woman In Black For Uncle Monty's...   \n",
       "4  2019  ECB's Coeure: If we decide to cut rates, we'd ...   \n",
       "\n",
       "                                             article       publication  topic  \n",
       "0  indianapolis colt made andrew luck highestpaid...  Business Insider      6  \n",
       "1  davos switzerland u.s president donald trump d...           Reuters      4  \n",
       "2  paris former french president nicolas sarkozy ...           Reuters      6  \n",
       "3  paris hilton arrived lax wednesday dressed pay...               TMZ      6  \n",
       "4  berlin june ecb board member benoit coeure sai...           Reuters      5  "
      ]
     },
     "execution_count": 10,
     "metadata": {},
     "output_type": "execute_result"
    }
   ],
   "source": [
    "newslimited_cat.head()"
   ]
  },
  {
   "cell_type": "code",
   "execution_count": 11,
   "metadata": {
    "execution": {
     "iopub.execute_input": "2023-05-24T11:41:20.441547Z",
     "iopub.status.busy": "2023-05-24T11:41:20.440976Z",
     "iopub.status.idle": "2023-05-24T11:41:20.455891Z",
     "shell.execute_reply": "2023-05-24T11:41:20.455171Z",
     "shell.execute_reply.started": "2023-05-24T11:41:20.441513Z"
    },
    "tags": []
   },
   "outputs": [
    {
     "data": {
      "text/plain": [
       "array([ 6,  4,  5,  7, 10,  9,  2,  8,  1,  3])"
      ]
     },
     "execution_count": 11,
     "metadata": {},
     "output_type": "execute_result"
    }
   ],
   "source": [
    "newslimited_cat['topic'].unique()"
   ]
  },
  {
   "cell_type": "code",
   "execution_count": 12,
   "metadata": {
    "execution": {
     "iopub.execute_input": "2023-05-24T11:41:57.877043Z",
     "iopub.status.busy": "2023-05-24T11:41:57.876611Z",
     "iopub.status.idle": "2023-05-24T11:41:58.758526Z",
     "shell.execute_reply": "2023-05-24T11:41:58.757738Z",
     "shell.execute_reply.started": "2023-05-24T11:41:57.877014Z"
    },
    "tags": []
   },
   "outputs": [
    {
     "data": {
      "text/plain": [
       "<Axes: xlabel='publication'>"
      ]
     },
     "execution_count": 12,
     "metadata": {},
     "output_type": "execute_result"
    },
    {
     "data": {
      "image/png": "[encoded data removed]",
      "text/plain": [
       "<Figure size 1000x500 with 1 Axes>"
      ]
     },
     "metadata": {},
     "output_type": "display_data"
    }
   ],
   "source": [
    "#distribution over articles per publication for each topic\n",
    "newslimited_cat.groupby(['publication', 'topic']).size().unstack().plot(kind='bar', stacked=True, figsize=(10,5))"
   ]
  },
  {
   "cell_type": "code",
   "execution_count": 13,
   "metadata": {
    "execution": {
     "iopub.execute_input": "2023-05-24T11:42:16.552004Z",
     "iopub.status.busy": "2023-05-24T11:42:16.551204Z",
     "iopub.status.idle": "2023-05-24T11:42:16.679536Z",
     "shell.execute_reply": "2023-05-24T11:42:16.678799Z",
     "shell.execute_reply.started": "2023-05-24T11:42:16.551946Z"
    },
    "tags": []
   },
   "outputs": [
    {
     "data": {
      "text/plain": [
       "publication\n",
       "Reuters               305190\n",
       "CNBC                   66958\n",
       "The New York Times     62265\n",
       "CNN                    52507\n",
       "Business Insider       10733\n",
       "Economist               7236\n",
       "Fox News                6214\n",
       "TMZ                     3409\n",
       "Washington Post          815\n",
       "Name: count, dtype: int64"
      ]
     },
     "execution_count": 13,
     "metadata": {},
     "output_type": "execute_result"
    }
   ],
   "source": [
    "#distribution over articles per publication for topics 2,4,7, 9\n",
    "newslimited_cat[newslimited_cat['topic'].isin([2,4,7,9])]['publication'].value_counts()"
   ]
  },
  {
   "cell_type": "code",
   "execution_count": 14,
   "metadata": {
    "execution": {
     "iopub.execute_input": "2023-05-24T11:42:37.512356Z",
     "iopub.status.busy": "2023-05-24T11:42:37.511617Z",
     "iopub.status.idle": "2023-05-24T11:42:37.909639Z",
     "shell.execute_reply": "2023-05-24T11:42:37.908993Z",
     "shell.execute_reply.started": "2023-05-24T11:42:37.512299Z"
    },
    "tags": []
   },
   "outputs": [
    {
     "data": {
      "text/plain": [
       "<Axes: xlabel='publication'>"
      ]
     },
     "execution_count": 14,
     "metadata": {},
     "output_type": "execute_result"
    },
    {
     "data": {
      "image/png": "[encoded data removed]",
      "text/plain": [
       "<Figure size 1000x500 with 1 Axes>"
      ]
     },
     "metadata": {},
     "output_type": "display_data"
    }
   ],
   "source": [
    "#plot results of previous step \n",
    "newslimited_cat[newslimited_cat['topic'].isin([2,4,7,9])]['publication'].value_counts().plot(kind='bar', figsize=(10,5))"
   ]
  },
  {
   "cell_type": "code",
   "execution_count": 15,
   "metadata": {
    "execution": {
     "iopub.execute_input": "2023-05-24T11:42:58.522232Z",
     "iopub.status.busy": "2023-05-24T11:42:58.521487Z",
     "iopub.status.idle": "2023-05-24T11:42:58.669479Z",
     "shell.execute_reply": "2023-05-24T11:42:58.667647Z",
     "shell.execute_reply.started": "2023-05-24T11:42:58.522178Z"
    },
    "tags": []
   },
   "outputs": [],
   "source": [
    "#reduce newslimited_cat to topics 2,4,7,9\n",
    "news_pol = newslimited_cat[newslimited_cat['topic'].isin([2,4,7,9])]"
   ]
  },
  {
   "cell_type": "code",
   "execution_count": 16,
   "metadata": {
    "execution": {
     "iopub.execute_input": "2023-05-24T11:43:23.151901Z",
     "iopub.status.busy": "2023-05-24T11:43:23.151131Z",
     "iopub.status.idle": "2023-05-24T11:43:23.169146Z",
     "shell.execute_reply": "2023-05-24T11:43:23.167700Z",
     "shell.execute_reply.started": "2023-05-24T11:43:23.151812Z"
    },
    "tags": []
   },
   "outputs": [
    {
     "data": {
      "text/plain": [
       "array([4, 7, 9, 2])"
      ]
     },
     "execution_count": 16,
     "metadata": {},
     "output_type": "execute_result"
    }
   ],
   "source": [
    "news_pol['topic'].unique()"
   ]
  },
  {
   "cell_type": "code",
   "execution_count": 17,
   "metadata": {
    "execution": {
     "iopub.execute_input": "2023-05-24T11:43:49.996169Z",
     "iopub.status.busy": "2023-05-24T11:43:49.995369Z",
     "iopub.status.idle": "2023-05-24T11:43:50.095298Z",
     "shell.execute_reply": "2023-05-24T11:43:50.094539Z",
     "shell.execute_reply.started": "2023-05-24T11:43:49.996109Z"
    },
    "tags": []
   },
   "outputs": [],
   "source": [
    "#drop all rows where publication is in delete\n",
    "delete = ['Reuters', 'TMZ', 'Washington Post']\n",
    "news_pol = news_pol[~news_pol['publication'].isin(delete)]"
   ]
  },
  {
   "cell_type": "code",
   "execution_count": 18,
   "metadata": {
    "execution": {
     "iopub.execute_input": "2023-05-24T11:44:04.122698Z",
     "iopub.status.busy": "2023-05-24T11:44:04.121877Z",
     "iopub.status.idle": "2023-05-24T11:44:04.158749Z",
     "shell.execute_reply": "2023-05-24T11:44:04.157297Z",
     "shell.execute_reply.started": "2023-05-24T11:44:04.122631Z"
    },
    "tags": []
   },
   "outputs": [
    {
     "data": {
      "text/plain": [
       "publication\n",
       "CNBC                  66958\n",
       "The New York Times    62265\n",
       "CNN                   52507\n",
       "Business Insider      10733\n",
       "Economist              7236\n",
       "Fox News               6214\n",
       "Name: count, dtype: int64"
      ]
     },
     "execution_count": 18,
     "metadata": {},
     "output_type": "execute_result"
    }
   ],
   "source": [
    "news_pol['publication'].value_counts()"
   ]
  },
  {
   "cell_type": "code",
   "execution_count": 19,
   "metadata": {
    "execution": {
     "iopub.execute_input": "2023-05-24T11:46:17.978558Z",
     "iopub.status.busy": "2023-05-24T11:46:17.977948Z",
     "iopub.status.idle": "2023-05-24T11:46:18.105327Z",
     "shell.execute_reply": "2023-05-24T11:46:18.104439Z",
     "shell.execute_reply.started": "2023-05-24T11:46:17.978532Z"
    },
    "tags": []
   },
   "outputs": [],
   "source": [
    "news_pol['publication'] = news_pol['publication'].replace(['CNBC', 'The New York Times', 'CNN', 'Business Insider', 'Economist', 'Fox News'], [1, 2, 3, 4, 5, 6])"
   ]
  },
  {
   "cell_type": "code",
   "execution_count": 21,
   "metadata": {
    "execution": {
     "iopub.execute_input": "2023-05-24T11:46:43.585233Z",
     "iopub.status.busy": "2023-05-24T11:46:43.584414Z",
     "iopub.status.idle": "2023-05-24T11:46:43.595609Z",
     "shell.execute_reply": "2023-05-24T11:46:43.594455Z",
     "shell.execute_reply.started": "2023-05-24T11:46:43.585176Z"
    },
    "tags": []
   },
   "outputs": [
    {
     "data": {
      "text/plain": [
       "array([4, 5, 3, 1, 6, 2])"
      ]
     },
     "execution_count": 21,
     "metadata": {},
     "output_type": "execute_result"
    }
   ],
   "source": [
    "news_pol['publication'].unique()"
   ]
  },
  {
   "cell_type": "code",
   "execution_count": 22,
   "metadata": {
    "execution": {
     "iopub.execute_input": "2023-05-24T11:48:38.749698Z",
     "iopub.status.busy": "2023-05-24T11:48:38.748469Z",
     "iopub.status.idle": "2023-05-24T11:48:52.639560Z",
     "shell.execute_reply": "2023-05-24T11:48:52.637704Z",
     "shell.execute_reply.started": "2023-05-24T11:48:38.749579Z"
    },
    "tags": []
   },
   "outputs": [],
   "source": [
    "#safe as csv\n",
    "news_pol.to_csv('news_pol.csv', index=False)"
   ]
  },
  {
   "attachments": {},
   "cell_type": "markdown",
   "metadata": {
    "jp-MarkdownHeadingCollapsed": true,
    "tags": []
   },
   "source": [
    "# 5 Imbalance handling"
   ]
  },
  {
   "cell_type": "code",
   "execution_count": 23,
   "metadata": {
    "execution": {
     "iopub.execute_input": "2023-05-24T11:49:33.148752Z",
     "iopub.status.busy": "2023-05-24T11:49:33.147952Z",
     "iopub.status.idle": "2023-05-24T11:49:33.338389Z",
     "shell.execute_reply": "2023-05-24T11:49:33.337531Z",
     "shell.execute_reply.started": "2023-05-24T11:49:33.148691Z"
    },
    "tags": []
   },
   "outputs": [],
   "source": [
    "#reduce news_pol to the columns article, topic and publication\n",
    "news_pol = news_pol[['article', 'topic', 'publication']]"
   ]
  },
  {
   "cell_type": "code",
   "execution_count": 24,
   "metadata": {
    "execution": {
     "iopub.execute_input": "2023-05-24T11:49:51.682834Z",
     "iopub.status.busy": "2023-05-24T11:49:51.682178Z",
     "iopub.status.idle": "2023-05-24T11:49:51.693213Z",
     "shell.execute_reply": "2023-05-24T11:49:51.692121Z",
     "shell.execute_reply.started": "2023-05-24T11:49:51.682778Z"
    },
    "tags": []
   },
   "outputs": [
    {
     "data": {
      "text/plain": [
       "array([4, 5, 3, 1, 6, 2])"
      ]
     },
     "execution_count": 24,
     "metadata": {},
     "output_type": "execute_result"
    }
   ],
   "source": [
    "#list all publications in news_pol\n",
    "news_pol['publication'].unique()"
   ]
  },
  {
   "cell_type": "code",
   "execution_count": 27,
   "metadata": {
    "execution": {
     "iopub.execute_input": "2023-05-24T11:50:31.758982Z",
     "iopub.status.busy": "2023-05-24T11:50:31.758091Z",
     "iopub.status.idle": "2023-05-24T11:50:31.979596Z",
     "shell.execute_reply": "2023-05-24T11:50:31.978660Z",
     "shell.execute_reply.started": "2023-05-24T11:50:31.758916Z"
    },
    "tags": []
   },
   "outputs": [],
   "source": [
    "# split news_pol into train and test set, the test set should include 20% of each topic\n",
    "train, test = train_test_split(news_pol, test_size=0.2, stratify=news_pol['topic'])"
   ]
  },
  {
   "cell_type": "code",
   "execution_count": 28,
   "metadata": {
    "execution": {
     "iopub.execute_input": "2023-05-24T11:51:08.457112Z",
     "iopub.status.busy": "2023-05-24T11:51:08.456560Z",
     "iopub.status.idle": "2023-05-24T11:51:08.465976Z",
     "shell.execute_reply": "2023-05-24T11:51:08.464161Z",
     "shell.execute_reply.started": "2023-05-24T11:51:08.457045Z"
    },
    "tags": []
   },
   "outputs": [
    {
     "name": "stdout",
     "output_type": "stream",
     "text": [
      "(164730, 3)\n",
      "(41183, 3)\n"
     ]
    }
   ],
   "source": [
    "print(train.shape)\n",
    "print(test.shape)"
   ]
  },
  {
   "cell_type": "code",
   "execution_count": 167,
   "metadata": {
    "execution": {
     "iopub.execute_input": "2023-05-24T12:53:21.106143Z",
     "iopub.status.busy": "2023-05-24T12:53:21.105729Z",
     "iopub.status.idle": "2023-05-24T12:53:21.158819Z",
     "shell.execute_reply": "2023-05-24T12:53:21.157310Z",
     "shell.execute_reply.started": "2023-05-24T12:53:21.106115Z"
    },
    "tags": []
   },
   "outputs": [],
   "source": [
    "#split the train set into dataframe for each topic but only incorporate the columns publication and article\n",
    "train_2 = train[train['topic'] == 2][['publication', 'article']]\n",
    "train_4 = train[train['topic'] == 4][['publication', 'article']]\n",
    "train_7 = train[train['topic'] == 7][['publication', 'article']]\n",
    "train_9 = train[train['topic'] == 9][['publication', 'article']]"
   ]
  },
  {
   "cell_type": "code",
   "execution_count": 168,
   "metadata": {
    "execution": {
     "iopub.execute_input": "2023-05-24T12:53:21.656884Z",
     "iopub.status.busy": "2023-05-24T12:53:21.656217Z",
     "iopub.status.idle": "2023-05-24T12:53:21.664878Z",
     "shell.execute_reply": "2023-05-24T12:53:21.663232Z",
     "shell.execute_reply.started": "2023-05-24T12:53:21.656821Z"
    },
    "tags": []
   },
   "outputs": [
    {
     "name": "stdout",
     "output_type": "stream",
     "text": [
      "(12582, 2)\n",
      "(40037, 2)\n",
      "(110369, 2)\n",
      "(1742, 2)\n"
     ]
    }
   ],
   "source": [
    "print(train_2.shape)\n",
    "print(train_4.shape)\n",
    "print(train_7.shape)\n",
    "print(train_9.shape)"
   ]
  },
  {
   "cell_type": "code",
   "execution_count": 162,
   "metadata": {
    "execution": {
     "iopub.execute_input": "2023-05-24T12:52:40.424859Z",
     "iopub.status.busy": "2023-05-24T12:52:40.424233Z",
     "iopub.status.idle": "2023-05-24T12:52:40.439315Z",
     "shell.execute_reply": "2023-05-24T12:52:40.438354Z",
     "shell.execute_reply.started": "2023-05-24T12:52:40.424819Z"
    },
    "tags": []
   },
   "outputs": [
    {
     "name": "stdout",
     "output_type": "stream",
     "text": [
      "publication\n",
      "1    4715\n",
      "2    3869\n",
      "3    2361\n",
      "4     947\n",
      "6     425\n",
      "5     265\n",
      "Name: count, dtype: int64\n",
      "publication\n",
      "3    13751\n",
      "2    12916\n",
      "1    10198\n",
      "4     1872\n",
      "5      666\n",
      "6      634\n",
      "Name: count, dtype: int64\n",
      "publication\n",
      "1    37397\n",
      "2    32765\n",
      "3    25883\n",
      "4     5663\n",
      "5     4752\n",
      "6     3909\n",
      "Name: count, dtype: int64\n",
      "publication\n",
      "1    1283\n",
      "2     171\n",
      "4     133\n",
      "5      93\n",
      "3      47\n",
      "6      15\n",
      "Name: count, dtype: int64\n"
     ]
    }
   ],
   "source": [
    "#publisher with the most articles for each train_2, train_4, train_7, train_9\n",
    "print(train_2['publication'].value_counts())\n",
    "print(train_4['publication'].value_counts())\n",
    "print(train_7['publication'].value_counts())\n",
    "print(train_9['publication'].value_counts())"
   ]
  },
  {
   "cell_type": "code",
   "execution_count": 169,
   "metadata": {
    "execution": {
     "iopub.execute_input": "2023-05-24T12:53:24.555998Z",
     "iopub.status.busy": "2023-05-24T12:53:24.555245Z",
     "iopub.status.idle": "2023-05-24T12:53:24.570787Z",
     "shell.execute_reply": "2023-05-24T12:53:24.569381Z",
     "shell.execute_reply.started": "2023-05-24T12:53:24.555927Z"
    },
    "tags": []
   },
   "outputs": [],
   "source": [
    "#count of CNBC articles in each train set\n",
    "mj_2 = train_2['publication'].value_counts()[1]\n",
    "mj_4 = train_4['publication'].value_counts()[3]\n",
    "mj_7 = train_7['publication'].value_counts()[1]\n",
    "mj_9 = train_9['publication'].value_counts()[1]"
   ]
  },
  {
   "cell_type": "code",
   "execution_count": 164,
   "metadata": {
    "execution": {
     "iopub.execute_input": "2023-05-24T12:52:43.455613Z",
     "iopub.status.busy": "2023-05-24T12:52:43.454952Z",
     "iopub.status.idle": "2023-05-24T12:52:43.536606Z",
     "shell.execute_reply": "2023-05-24T12:52:43.535464Z",
     "shell.execute_reply.started": "2023-05-24T12:52:43.455579Z"
    },
    "tags": []
   },
   "outputs": [
    {
     "name": "stdout",
     "output_type": "stream",
     "text": [
      "4715\n",
      "13751\n",
      "37397\n",
      "1283\n"
     ]
    }
   ],
   "source": [
    "\n",
    "#print all mj values\n",
    "print(mj_2)\n",
    "print(mj_4)\n",
    "print(mj_7)\n",
    "print(mj_9)"
   ]
  },
  {
   "cell_type": "code",
   "execution_count": 181,
   "metadata": {
    "execution": {
     "iopub.execute_input": "2023-05-24T12:58:48.975203Z",
     "iopub.status.busy": "2023-05-24T12:58:48.974808Z",
     "iopub.status.idle": "2023-05-24T12:58:49.035023Z",
     "shell.execute_reply": "2023-05-24T12:58:49.033541Z",
     "shell.execute_reply.started": "2023-05-24T12:58:48.975177Z"
    },
    "tags": []
   },
   "outputs": [
    {
     "name": "stdout",
     "output_type": "stream",
     "text": [
      "4290\n",
      "13117\n",
      "33488\n",
      "1268\n",
      "(28290, 2)\n",
      "(82506, 2)\n",
      "(224382, 2)\n",
      "(7698, 2)\n"
     ]
    }
   ],
   "source": [
    "# Count of CNBC articles in each train set\n",
    "mj_2 = train_2['publication'].value_counts()[1]\n",
    "mj_4 = train_4['publication'].value_counts()[3]\n",
    "mj_7 = train_7['publication'].value_counts()[1]\n",
    "mj_9 = train_9['publication'].value_counts()[1]\n",
    "\n",
    "number = [6]\n",
    "dif = []\n",
    "\n",
    "for i in number:\n",
    "    dif_2 = mj_2 - train_2['publication'].value_counts()[i]\n",
    "    print(dif_2)\n",
    "    dif_4 = mj_4 - train_4['publication'].value_counts()[i]\n",
    "    print(dif_4)\n",
    "    dif_7 = mj_7 - train_7['publication'].value_counts()[i]\n",
    "    print(dif_7)\n",
    "    dif_9 = mj_9 - train_9['publication'].value_counts()[i]\n",
    "    print(dif_9)\n",
    "\n",
    "    dif.extend([dif_2, dif_4, dif_7, dif_9])\n",
    "\n",
    "\n",
    "\n",
    "# Add to each topic dataframe as many random duplicates of the publication as respective dif value\n",
    "for i in range(len(topic_dfs)):\n",
    "    topic_dfs[i] = pd.concat([topic_dfs[i], topic_dfs[i][topic_dfs[i]['publication'] == 6].sample(dif[i], replace=True)])\n",
    "    print(topic_dfs[i].shape)\n"
   ]
  },
  {
   "cell_type": "code",
   "execution_count": 182,
   "metadata": {
    "execution": {
     "iopub.execute_input": "2023-05-24T12:58:49.815515Z",
     "iopub.status.busy": "2023-05-24T12:58:49.814734Z",
     "iopub.status.idle": "2023-05-24T12:58:49.835034Z",
     "shell.execute_reply": "2023-05-24T12:58:49.833537Z",
     "shell.execute_reply.started": "2023-05-24T12:58:49.815456Z"
    },
    "tags": []
   },
   "outputs": [
    {
     "name": "stdout",
     "output_type": "stream",
     "text": [
      "publication\n",
      "2    4715\n",
      "1    4715\n",
      "5    4715\n",
      "3    4715\n",
      "6    4715\n",
      "4    4715\n",
      "Name: count, dtype: int64\n",
      "publication\n",
      "1    13751\n",
      "3    13751\n",
      "2    13751\n",
      "4    13751\n",
      "5    13751\n",
      "6    13751\n",
      "Name: count, dtype: int64\n",
      "publication\n",
      "1    37397\n",
      "3    37397\n",
      "2    37397\n",
      "4    37397\n",
      "6    37397\n",
      "5    37397\n",
      "Name: count, dtype: int64\n",
      "publication\n",
      "1    1283\n",
      "4    1283\n",
      "2    1283\n",
      "5    1283\n",
      "3    1283\n",
      "6    1283\n",
      "Name: count, dtype: int64\n"
     ]
    }
   ],
   "source": [
    "#show distribution of publication in each topic dataframe\n",
    "for i in range(len(topic_dfs)):\n",
    "    print(topic_dfs[i]['publication'].value_counts())\n",
    "    \n"
   ]
  },
  {
   "cell_type": "code",
   "execution_count": 186,
   "metadata": {
    "execution": {
     "iopub.execute_input": "2023-05-24T13:02:44.891891Z",
     "iopub.status.busy": "2023-05-24T13:02:44.891049Z",
     "iopub.status.idle": "2023-05-24T13:02:44.901262Z",
     "shell.execute_reply": "2023-05-24T13:02:44.900537Z",
     "shell.execute_reply.started": "2023-05-24T13:02:44.891790Z"
    },
    "tags": []
   },
   "outputs": [],
   "source": [
    "#add to the first topic df a new column thta is called \"topic\" and has the value 2\n",
    "topic_dfs[0]['topic'] = 2\n",
    "topic_dfs[1]['topic'] = 4\n",
    "topic_dfs[2]['topic'] = 7\n",
    "topic_dfs[3]['topic'] = 9"
   ]
  },
  {
   "cell_type": "code",
   "execution_count": 187,
   "metadata": {
    "execution": {
     "iopub.execute_input": "2023-05-24T13:03:10.454786Z",
     "iopub.status.busy": "2023-05-24T13:03:10.454069Z",
     "iopub.status.idle": "2023-05-24T13:03:10.477733Z",
     "shell.execute_reply": "2023-05-24T13:03:10.477132Z",
     "shell.execute_reply.started": "2023-05-24T13:03:10.454730Z"
    },
    "tags": []
   },
   "outputs": [],
   "source": [
    "#concatenate all topic dfs to one train df\n",
    "train = pd.concat(topic_dfs)"
   ]
  },
  {
   "cell_type": "code",
   "execution_count": 188,
   "metadata": {
    "execution": {
     "iopub.execute_input": "2023-05-24T13:03:20.191985Z",
     "iopub.status.busy": "2023-05-24T13:03:20.191555Z",
     "iopub.status.idle": "2023-05-24T13:03:20.200158Z",
     "shell.execute_reply": "2023-05-24T13:03:20.199430Z",
     "shell.execute_reply.started": "2023-05-24T13:03:20.191957Z"
    },
    "tags": []
   },
   "outputs": [
    {
     "data": {
      "text/html": [
       "<div>\n",
       "<style scoped>\n",
       "    .dataframe tbody tr th:only-of-type {\n",
       "        vertical-align: middle;\n",
       "    }\n",
       "\n",
       "    .dataframe tbody tr th {\n",
       "        vertical-align: top;\n",
       "    }\n",
       "\n",
       "    .dataframe thead th {\n",
       "        text-align: right;\n",
       "    }\n",
       "</style>\n",
       "<table border=\"1\" class=\"dataframe\">\n",
       "  <thead>\n",
       "    <tr style=\"text-align: right;\">\n",
       "      <th></th>\n",
       "      <th>publication</th>\n",
       "      <th>article</th>\n",
       "      <th>topic</th>\n",
       "    </tr>\n",
       "  </thead>\n",
       "  <tbody>\n",
       "    <tr>\n",
       "      <th>1064359</th>\n",
       "      <td>2</td>\n",
       "      <td>fiat chrysler autombiles recalling jeep wrangl...</td>\n",
       "      <td>2</td>\n",
       "    </tr>\n",
       "    <tr>\n",
       "      <th>960758</th>\n",
       "      <td>1</td>\n",
       "      <td>ottawa march china provided scientific evidenc...</td>\n",
       "      <td>2</td>\n",
       "    </tr>\n",
       "    <tr>\n",
       "      <th>880653</th>\n",
       "      <td>1</td>\n",
       "      <td>cybersecurity company started two former natio...</td>\n",
       "      <td>2</td>\n",
       "    </tr>\n",
       "    <tr>\n",
       "      <th>1180764</th>\n",
       "      <td>2</td>\n",
       "      <td>washington federal aviation administration sai...</td>\n",
       "      <td>2</td>\n",
       "    </tr>\n",
       "    <tr>\n",
       "      <th>823514</th>\n",
       "      <td>1</td>\n",
       "      <td>san francisco last october angellist company h...</td>\n",
       "      <td>2</td>\n",
       "    </tr>\n",
       "  </tbody>\n",
       "</table>\n",
       "</div>"
      ],
      "text/plain": [
       "         publication                                            article  topic\n",
       "1064359            2  fiat chrysler autombiles recalling jeep wrangl...      2\n",
       "960758             1  ottawa march china provided scientific evidenc...      2\n",
       "880653             1  cybersecurity company started two former natio...      2\n",
       "1180764            2  washington federal aviation administration sai...      2\n",
       "823514             1  san francisco last october angellist company h...      2"
      ]
     },
     "execution_count": 188,
     "metadata": {},
     "output_type": "execute_result"
    }
   ],
   "source": [
    "train.head()"
   ]
  },
  {
   "cell_type": "code",
   "execution_count": 190,
   "metadata": {
    "execution": {
     "iopub.execute_input": "2023-05-24T13:04:01.262953Z",
     "iopub.status.busy": "2023-05-24T13:04:01.260320Z",
     "iopub.status.idle": "2023-05-24T13:04:01.276511Z",
     "shell.execute_reply": "2023-05-24T13:04:01.275278Z",
     "shell.execute_reply.started": "2023-05-24T13:04:01.262679Z"
    },
    "tags": []
   },
   "outputs": [
    {
     "data": {
      "text/plain": [
       "array([2, 1, 5, 3, 6, 4])"
      ]
     },
     "execution_count": 190,
     "metadata": {},
     "output_type": "execute_result"
    }
   ],
   "source": [
    "train['publication'].unique()\n"
   ]
  },
  {
   "cell_type": "code",
   "execution_count": 191,
   "metadata": {
    "execution": {
     "iopub.execute_input": "2023-05-24T13:04:20.028189Z",
     "iopub.status.busy": "2023-05-24T13:04:20.027755Z",
     "iopub.status.idle": "2023-05-24T13:04:20.035350Z",
     "shell.execute_reply": "2023-05-24T13:04:20.034492Z",
     "shell.execute_reply.started": "2023-05-24T13:04:20.028161Z"
    },
    "tags": []
   },
   "outputs": [
    {
     "data": {
      "text/plain": [
       "array([2, 4, 7, 9])"
      ]
     },
     "execution_count": 191,
     "metadata": {},
     "output_type": "execute_result"
    }
   ],
   "source": [
    "train['topic'].unique()"
   ]
  },
  {
   "cell_type": "code",
   "execution_count": 192,
   "metadata": {
    "execution": {
     "iopub.execute_input": "2023-05-24T13:05:42.297649Z",
     "iopub.status.busy": "2023-05-24T13:05:42.296776Z",
     "iopub.status.idle": "2023-05-24T13:05:42.316089Z",
     "shell.execute_reply": "2023-05-24T13:05:42.314625Z",
     "shell.execute_reply.started": "2023-05-24T13:05:42.297595Z"
    },
    "tags": []
   },
   "outputs": [
    {
     "data": {
      "text/plain": [
       "publication\n",
       "2    57146\n",
       "1    57146\n",
       "5    57146\n",
       "3    57146\n",
       "6    57146\n",
       "4    57146\n",
       "Name: count, dtype: int64"
      ]
     },
     "execution_count": 192,
     "metadata": {},
     "output_type": "execute_result"
    }
   ],
   "source": [
    "#distribution for train over publication\n",
    "train['publication'].value_counts()"
   ]
  },
  {
   "cell_type": "code",
   "execution_count": 193,
   "metadata": {
    "execution": {
     "iopub.execute_input": "2023-05-24T13:06:09.788461Z",
     "iopub.status.busy": "2023-05-24T13:06:09.787895Z",
     "iopub.status.idle": "2023-05-24T13:06:09.803792Z",
     "shell.execute_reply": "2023-05-24T13:06:09.802856Z",
     "shell.execute_reply.started": "2023-05-24T13:06:09.788421Z"
    },
    "tags": []
   },
   "outputs": [
    {
     "data": {
      "text/plain": [
       "topic\n",
       "7    224382\n",
       "4     82506\n",
       "2     28290\n",
       "9      7698\n",
       "Name: count, dtype: int64"
      ]
     },
     "execution_count": 193,
     "metadata": {},
     "output_type": "execute_result"
    }
   ],
   "source": [
    "#distribution for train over publication\n",
    "train['topic'].value_counts()"
   ]
  },
  {
   "cell_type": "code",
   "execution_count": 194,
   "metadata": {
    "execution": {
     "iopub.execute_input": "2023-05-24T13:07:12.369198Z",
     "iopub.status.busy": "2023-05-24T13:07:12.368465Z",
     "iopub.status.idle": "2023-05-24T13:07:35.768830Z",
     "shell.execute_reply": "2023-05-24T13:07:35.765805Z",
     "shell.execute_reply.started": "2023-05-24T13:07:12.369153Z"
    },
    "tags": []
   },
   "outputs": [],
   "source": [
    "#safe news_pol as csv\n",
    "train.to_csv('train.csv', index=False)"
   ]
  },
  {
   "cell_type": "code",
   "execution_count": 195,
   "metadata": {
    "execution": {
     "iopub.execute_input": "2023-05-24T13:08:07.827732Z",
     "iopub.status.busy": "2023-05-24T13:08:07.827100Z",
     "iopub.status.idle": "2023-05-24T13:08:07.842559Z",
     "shell.execute_reply": "2023-05-24T13:08:07.841307Z",
     "shell.execute_reply.started": "2023-05-24T13:08:07.827679Z"
    },
    "tags": []
   },
   "outputs": [
    {
     "data": {
      "text/html": [
       "<div>\n",
       "<style scoped>\n",
       "    .dataframe tbody tr th:only-of-type {\n",
       "        vertical-align: middle;\n",
       "    }\n",
       "\n",
       "    .dataframe tbody tr th {\n",
       "        vertical-align: top;\n",
       "    }\n",
       "\n",
       "    .dataframe thead th {\n",
       "        text-align: right;\n",
       "    }\n",
       "</style>\n",
       "<table border=\"1\" class=\"dataframe\">\n",
       "  <thead>\n",
       "    <tr style=\"text-align: right;\">\n",
       "      <th></th>\n",
       "      <th>article</th>\n",
       "      <th>topic</th>\n",
       "      <th>publication</th>\n",
       "    </tr>\n",
       "  </thead>\n",
       "  <tbody>\n",
       "    <tr>\n",
       "      <th>772802</th>\n",
       "      <td>intention presidentelect donald trump put end ...</td>\n",
       "      <td>7</td>\n",
       "      <td>1</td>\n",
       "    </tr>\n",
       "    <tr>\n",
       "      <th>839481</th>\n",
       "      <td>board member uber arianna huffington active tr...</td>\n",
       "      <td>2</td>\n",
       "      <td>1</td>\n",
       "    </tr>\n",
       "    <tr>\n",
       "      <th>1451099</th>\n",
       "      <td>live blog european stock type live eikon news ...</td>\n",
       "      <td>7</td>\n",
       "      <td>1</td>\n",
       "    </tr>\n",
       "    <tr>\n",
       "      <th>367561</th>\n",
       "      <td>peter bergen national security analyst vice pr...</td>\n",
       "      <td>7</td>\n",
       "      <td>3</td>\n",
       "    </tr>\n",
       "    <tr>\n",
       "      <th>1159423</th>\n",
       "      <td>m scott lutheran pastor one recent morning hap...</td>\n",
       "      <td>7</td>\n",
       "      <td>2</td>\n",
       "    </tr>\n",
       "  </tbody>\n",
       "</table>\n",
       "</div>"
      ],
      "text/plain": [
       "                                                   article  topic  publication\n",
       "772802   intention presidentelect donald trump put end ...      7            1\n",
       "839481   board member uber arianna huffington active tr...      2            1\n",
       "1451099  live blog european stock type live eikon news ...      7            1\n",
       "367561   peter bergen national security analyst vice pr...      7            3\n",
       "1159423  m scott lutheran pastor one recent morning hap...      7            2"
      ]
     },
     "execution_count": 195,
     "metadata": {},
     "output_type": "execute_result"
    }
   ],
   "source": [
    "test.head()"
   ]
  },
  {
   "cell_type": "code",
   "execution_count": 196,
   "metadata": {
    "execution": {
     "iopub.execute_input": "2023-05-24T13:10:06.651055Z",
     "iopub.status.busy": "2023-05-24T13:10:06.649994Z",
     "iopub.status.idle": "2023-05-24T13:10:10.371227Z",
     "shell.execute_reply": "2023-05-24T13:10:10.368619Z",
     "shell.execute_reply.started": "2023-05-24T13:10:06.650995Z"
    },
    "tags": []
   },
   "outputs": [],
   "source": [
    "#safe news_pol as csv\n",
    "test.to_csv('test.csv', index=False)"
   ]
  },
  {
   "attachments": {},
   "cell_type": "markdown",
   "metadata": {},
   "source": [
    "# 6 BERT Prep"
   ]
  },
  {
   "attachments": {},
   "cell_type": "markdown",
   "metadata": {},
   "source": [
    "## 6.1 Data prep"
   ]
  },
  {
   "attachments": {},
   "cell_type": "markdown",
   "metadata": {
    "tags": []
   },
   "source": [
    "### 6.1.1 Reading in and cutting"
   ]
  },
  {
   "cell_type": "code",
   "execution_count": 3,
   "metadata": {
    "execution": {
     "iopub.execute_input": "2023-05-25T21:29:50.724676Z",
     "iopub.status.busy": "2023-05-25T21:29:50.724451Z",
     "iopub.status.idle": "2023-05-25T21:29:56.710918Z",
     "shell.execute_reply": "2023-05-25T21:29:56.709999Z",
     "shell.execute_reply.started": "2023-05-25T21:29:50.724657Z"
    },
    "tags": []
   },
   "outputs": [],
   "source": [
    "#read in train csv\n",
    "train = pd.read_csv('/Users/Felix/Library/CloudStorage/GoogleDrive-fel.xwlt@gmail.com/Meine Ablage/NLP_project/train.csv')"
   ]
  },
  {
   "cell_type": "code",
   "execution_count": 74,
   "metadata": {},
   "outputs": [],
   "source": [
    "#test \n",
    "test = pd.read_csv('/Users/Felix/Library/CloudStorage/GoogleDrive-fel.xwlt@gmail.com/Meine Ablage/NLP_project/test.csv')"
   ]
  },
  {
   "cell_type": "code",
   "execution_count": 4,
   "metadata": {},
   "outputs": [],
   "source": [
    "#get random sample of 200 rows from test\n",
    "train = train.sample(10000)"
   ]
  },
  {
   "cell_type": "code",
   "execution_count": 5,
   "metadata": {},
   "outputs": [
    {
     "data": {
      "text/plain": [
       "publication\n",
       "3    1691\n",
       "1    1681\n",
       "5    1674\n",
       "2    1669\n",
       "6    1662\n",
       "4    1623\n",
       "Name: count, dtype: int64"
      ]
     },
     "execution_count": 5,
     "metadata": {},
     "output_type": "execute_result"
    }
   ],
   "source": [
    "#give me a random sample of 100 rows\n",
    "train['publication'].value_counts()\n"
   ]
  },
  {
   "cell_type": "code",
   "execution_count": 6,
   "metadata": {
    "execution": {
     "iopub.execute_input": "2023-05-25T21:29:56.713204Z",
     "iopub.status.busy": "2023-05-25T21:29:56.712966Z",
     "iopub.status.idle": "2023-05-25T21:29:56.726033Z",
     "shell.execute_reply": "2023-05-25T21:29:56.725315Z",
     "shell.execute_reply.started": "2023-05-25T21:29:56.713184Z"
    },
    "tags": []
   },
   "outputs": [
    {
     "data": {
      "text/html": [
       "<div>\n",
       "<style scoped>\n",
       "    .dataframe tbody tr th:only-of-type {\n",
       "        vertical-align: middle;\n",
       "    }\n",
       "\n",
       "    .dataframe tbody tr th {\n",
       "        vertical-align: top;\n",
       "    }\n",
       "\n",
       "    .dataframe thead th {\n",
       "        text-align: right;\n",
       "    }\n",
       "</style>\n",
       "<table border=\"1\" class=\"dataframe\">\n",
       "  <thead>\n",
       "    <tr style=\"text-align: right;\">\n",
       "      <th></th>\n",
       "      <th>publication</th>\n",
       "      <th>article</th>\n",
       "      <th>topic</th>\n",
       "    </tr>\n",
       "  </thead>\n",
       "  <tbody>\n",
       "    <tr>\n",
       "      <th>279876</th>\n",
       "      <td>5</td>\n",
       "      <td>editor note july 8th new york mets rookie pete...</td>\n",
       "      <td>7</td>\n",
       "    </tr>\n",
       "    <tr>\n",
       "      <th>178042</th>\n",
       "      <td>1</td>\n",
       "      <td>north korea behind cyberattack derailed britai...</td>\n",
       "      <td>7</td>\n",
       "    </tr>\n",
       "    <tr>\n",
       "      <th>327334</th>\n",
       "      <td>6</td>\n",
       "      <td>close video bret baier open three day january ...</td>\n",
       "      <td>7</td>\n",
       "    </tr>\n",
       "    <tr>\n",
       "      <th>201833</th>\n",
       "      <td>1</td>\n",
       "      <td>libya powerful military leader reportedly suff...</td>\n",
       "      <td>7</td>\n",
       "    </tr>\n",
       "    <tr>\n",
       "      <th>334977</th>\n",
       "      <td>6</td>\n",
       "      <td>next image prev image tokyo hiroshima marked a...</td>\n",
       "      <td>7</td>\n",
       "    </tr>\n",
       "  </tbody>\n",
       "</table>\n",
       "</div>"
      ],
      "text/plain": [
       "        publication                                            article  topic\n",
       "279876            5  editor note july 8th new york mets rookie pete...      7\n",
       "178042            1  north korea behind cyberattack derailed britai...      7\n",
       "327334            6  close video bret baier open three day january ...      7\n",
       "201833            1  libya powerful military leader reportedly suff...      7\n",
       "334977            6  next image prev image tokyo hiroshima marked a...      7"
      ]
     },
     "execution_count": 6,
     "metadata": {},
     "output_type": "execute_result"
    }
   ],
   "source": [
    "train.head()\n"
   ]
  },
  {
   "cell_type": "code",
   "execution_count": 7,
   "metadata": {
    "execution": {
     "iopub.execute_input": "2023-05-25T21:29:56.727199Z",
     "iopub.status.busy": "2023-05-25T21:29:56.726972Z",
     "iopub.status.idle": "2023-05-25T21:29:57.039288Z",
     "shell.execute_reply": "2023-05-25T21:29:57.038146Z",
     "shell.execute_reply.started": "2023-05-25T21:29:56.727177Z"
    },
    "tags": []
   },
   "outputs": [
    {
     "data": {
      "text/plain": [
       "array([7, 9, 4, 2])"
      ]
     },
     "execution_count": 7,
     "metadata": {},
     "output_type": "execute_result"
    }
   ],
   "source": [
    "train['topic'].unique()\n"
   ]
  },
  {
   "attachments": {},
   "cell_type": "markdown",
   "metadata": {
    "tags": []
   },
   "source": [
    "### 6.1.2 prepping"
   ]
  },
  {
   "cell_type": "code",
   "execution_count": 8,
   "metadata": {
    "execution": {
     "iopub.execute_input": "2023-05-25T21:29:57.276277Z",
     "iopub.status.busy": "2023-05-25T21:29:57.275714Z",
     "iopub.status.idle": "2023-05-25T21:29:57.366904Z",
     "shell.execute_reply": "2023-05-25T21:29:57.365702Z",
     "shell.execute_reply.started": "2023-05-25T21:29:57.276235Z"
    },
    "tags": []
   },
   "outputs": [],
   "source": [
    "def get_split(text1):\n",
    "  l_total = []\n",
    "  if len(text1)//150 >0:\n",
    "    n = len(text1)//150\n",
    "  else: \n",
    "    n = 1\n",
    "  for w in range(n):\n",
    "    if w == 0:\n",
    "      l_sub = []\n",
    "      l_sub = text1[:200]\n",
    "      l_total.append(l_sub)\n",
    "    else:\n",
    "      l_sub = []\n",
    "      l_sub = text1[w*150:w*150 + 200]\n",
    "      l_total.append(l_sub)\n",
    "  return l_total\n"
   ]
  },
  {
   "cell_type": "code",
   "execution_count": 9,
   "metadata": {
    "execution": {
     "iopub.execute_input": "2023-05-25T21:29:57.369828Z",
     "iopub.status.busy": "2023-05-25T21:29:57.369132Z",
     "iopub.status.idle": "2023-05-25T21:34:27.803682Z",
     "shell.execute_reply": "2023-05-25T21:34:27.802435Z",
     "shell.execute_reply.started": "2023-05-25T21:29:57.369774Z"
    },
    "tags": []
   },
   "outputs": [],
   "source": [
    "#tokenize the article column of train_sub\n",
    "train['article'] = train['article'].apply(word_tokenize)\n",
    "#test['article'] = test['article'].apply(word_tokenize)"
   ]
  },
  {
   "cell_type": "code",
   "execution_count": 10,
   "metadata": {
    "execution": {
     "iopub.execute_input": "2023-05-25T21:34:27.809008Z",
     "iopub.status.busy": "2023-05-25T21:34:27.808516Z",
     "iopub.status.idle": "2023-05-25T21:34:27.823318Z",
     "shell.execute_reply": "2023-05-25T21:34:27.822562Z",
     "shell.execute_reply.started": "2023-05-25T21:34:27.808985Z"
    },
    "tags": []
   },
   "outputs": [
    {
     "data": {
      "text/html": [
       "<div>\n",
       "<style scoped>\n",
       "    .dataframe tbody tr th:only-of-type {\n",
       "        vertical-align: middle;\n",
       "    }\n",
       "\n",
       "    .dataframe tbody tr th {\n",
       "        vertical-align: top;\n",
       "    }\n",
       "\n",
       "    .dataframe thead th {\n",
       "        text-align: right;\n",
       "    }\n",
       "</style>\n",
       "<table border=\"1\" class=\"dataframe\">\n",
       "  <thead>\n",
       "    <tr style=\"text-align: right;\">\n",
       "      <th></th>\n",
       "      <th>publication</th>\n",
       "      <th>article</th>\n",
       "      <th>topic</th>\n",
       "    </tr>\n",
       "  </thead>\n",
       "  <tbody>\n",
       "    <tr>\n",
       "      <th>279876</th>\n",
       "      <td>5</td>\n",
       "      <td>[editor, note, july, 8th, new, york, mets, roo...</td>\n",
       "      <td>7</td>\n",
       "    </tr>\n",
       "    <tr>\n",
       "      <th>178042</th>\n",
       "      <td>1</td>\n",
       "      <td>[north, korea, behind, cyberattack, derailed, ...</td>\n",
       "      <td>7</td>\n",
       "    </tr>\n",
       "    <tr>\n",
       "      <th>327334</th>\n",
       "      <td>6</td>\n",
       "      <td>[close, video, bret, baier, open, three, day, ...</td>\n",
       "      <td>7</td>\n",
       "    </tr>\n",
       "    <tr>\n",
       "      <th>201833</th>\n",
       "      <td>1</td>\n",
       "      <td>[libya, powerful, military, leader, reportedly...</td>\n",
       "      <td>7</td>\n",
       "    </tr>\n",
       "    <tr>\n",
       "      <th>334977</th>\n",
       "      <td>6</td>\n",
       "      <td>[next, image, prev, image, tokyo, hiroshima, m...</td>\n",
       "      <td>7</td>\n",
       "    </tr>\n",
       "  </tbody>\n",
       "</table>\n",
       "</div>"
      ],
      "text/plain": [
       "        publication                                            article  topic\n",
       "279876            5  [editor, note, july, 8th, new, york, mets, roo...      7\n",
       "178042            1  [north, korea, behind, cyberattack, derailed, ...      7\n",
       "327334            6  [close, video, bret, baier, open, three, day, ...      7\n",
       "201833            1  [libya, powerful, military, leader, reportedly...      7\n",
       "334977            6  [next, image, prev, image, tokyo, hiroshima, m...      7"
      ]
     },
     "execution_count": 10,
     "metadata": {},
     "output_type": "execute_result"
    }
   ],
   "source": [
    "train.head()"
   ]
  },
  {
   "cell_type": "code",
   "execution_count": 11,
   "metadata": {
    "execution": {
     "iopub.execute_input": "2023-05-25T21:34:27.824298Z",
     "iopub.status.busy": "2023-05-25T21:34:27.824082Z",
     "iopub.status.idle": "2023-05-25T21:34:40.892773Z",
     "shell.execute_reply": "2023-05-25T21:34:40.891947Z",
     "shell.execute_reply.started": "2023-05-25T21:34:27.824278Z"
    },
    "tags": []
   },
   "outputs": [],
   "source": [
    "#apply get_split to each article in train_sub\n",
    "#test['text_split'] = test['article'].apply(get_split)\n",
    "train['text_split'] = train['article'].apply(get_split)\n"
   ]
  },
  {
   "cell_type": "code",
   "execution_count": 13,
   "metadata": {
    "execution": {
     "iopub.execute_input": "2023-05-25T21:34:40.893864Z",
     "iopub.status.busy": "2023-05-25T21:34:40.893646Z",
     "iopub.status.idle": "2023-05-25T21:34:40.907916Z",
     "shell.execute_reply": "2023-05-25T21:34:40.907204Z",
     "shell.execute_reply.started": "2023-05-25T21:34:40.893846Z"
    },
    "tags": []
   },
   "outputs": [],
   "source": [
    "#news_pol.head()"
   ]
  },
  {
   "cell_type": "code",
   "execution_count": 14,
   "metadata": {
    "execution": {
     "iopub.execute_input": "2023-05-25T21:34:40.908949Z",
     "iopub.status.busy": "2023-05-25T21:34:40.908732Z",
     "iopub.status.idle": "2023-05-25T21:34:41.122468Z",
     "shell.execute_reply": "2023-05-25T21:34:41.121704Z",
     "shell.execute_reply.started": "2023-05-25T21:34:40.908928Z"
    },
    "tags": []
   },
   "outputs": [],
   "source": [
    "def create_new_rows(train_sub):\n",
    "    BERT_df = pd.DataFrame(columns=['article_split', 'topic', 'publication'])\n",
    "    row_list = []\n",
    "\n",
    "    for i in range(len(train_sub)):\n",
    "        for j in range(len(train_sub.iloc[i]['text_split'])):\n",
    "            new_row = {\n",
    "                'article_split': train_sub.iloc[i]['text_split'][j],\n",
    "                'topic': train_sub.iloc[i]['topic'],\n",
    "                'publication': train_sub.iloc[i]['publication'],\n",
    "                #'year': train_sub.iloc[i]['year']\n",
    "            }\n",
    "            row_list.append(new_row)\n",
    "\n",
    "    BERT_df = pd.concat([BERT_df, pd.DataFrame(row_list)], ignore_index=True)\n",
    "    \n",
    "    return BERT_df\n"
   ]
  },
  {
   "cell_type": "code",
   "execution_count": 15,
   "metadata": {
    "execution": {
     "iopub.execute_input": "2023-05-25T21:34:41.123738Z",
     "iopub.status.busy": "2023-05-25T21:34:41.123412Z",
     "iopub.status.idle": "2023-05-25T21:36:54.716357Z",
     "shell.execute_reply": "2023-05-25T21:36:54.715513Z",
     "shell.execute_reply.started": "2023-05-25T21:34:41.123714Z"
    },
    "tags": []
   },
   "outputs": [],
   "source": [
    "train_df = create_new_rows(train)\n",
    "#test_df = create_new_rows(test)\n"
   ]
  },
  {
   "cell_type": "code",
   "execution_count": 16,
   "metadata": {
    "execution": {
     "iopub.execute_input": "2023-05-25T21:36:54.733982Z",
     "iopub.status.busy": "2023-05-25T21:36:54.733772Z",
     "iopub.status.idle": "2023-05-25T21:36:54.787013Z",
     "shell.execute_reply": "2023-05-25T21:36:54.786239Z",
     "shell.execute_reply.started": "2023-05-25T21:36:54.733963Z"
    },
    "tags": []
   },
   "outputs": [
    {
     "data": {
      "text/html": [
       "<div>\n",
       "<style scoped>\n",
       "    .dataframe tbody tr th:only-of-type {\n",
       "        vertical-align: middle;\n",
       "    }\n",
       "\n",
       "    .dataframe tbody tr th {\n",
       "        vertical-align: top;\n",
       "    }\n",
       "\n",
       "    .dataframe thead th {\n",
       "        text-align: right;\n",
       "    }\n",
       "</style>\n",
       "<table border=\"1\" class=\"dataframe\">\n",
       "  <thead>\n",
       "    <tr style=\"text-align: right;\">\n",
       "      <th></th>\n",
       "      <th>article_split</th>\n",
       "      <th>topic</th>\n",
       "      <th>publication</th>\n",
       "    </tr>\n",
       "  </thead>\n",
       "  <tbody>\n",
       "    <tr>\n",
       "      <th>0</th>\n",
       "      <td>[editor, note, july, 8th, new, york, mets, roo...</td>\n",
       "      <td>7</td>\n",
       "      <td>5</td>\n",
       "    </tr>\n",
       "    <tr>\n",
       "      <th>1</th>\n",
       "      <td>[north, korea, behind, cyberattack, derailed, ...</td>\n",
       "      <td>7</td>\n",
       "      <td>1</td>\n",
       "    </tr>\n",
       "    <tr>\n",
       "      <th>2</th>\n",
       "      <td>[close, video, bret, baier, open, three, day, ...</td>\n",
       "      <td>7</td>\n",
       "      <td>6</td>\n",
       "    </tr>\n",
       "    <tr>\n",
       "      <th>3</th>\n",
       "      <td>[libya, powerful, military, leader, reportedly...</td>\n",
       "      <td>7</td>\n",
       "      <td>1</td>\n",
       "    </tr>\n",
       "    <tr>\n",
       "      <th>4</th>\n",
       "      <td>[support, egypt, united, arab, emirate, uae, e...</td>\n",
       "      <td>7</td>\n",
       "      <td>1</td>\n",
       "    </tr>\n",
       "    <tr>\n",
       "      <th>5</th>\n",
       "      <td>[military, force, open, libya, central, export...</td>\n",
       "      <td>7</td>\n",
       "      <td>1</td>\n",
       "    </tr>\n",
       "    <tr>\n",
       "      <th>6</th>\n",
       "      <td>[next, image, prev, image, tokyo, hiroshima, m...</td>\n",
       "      <td>7</td>\n",
       "      <td>6</td>\n",
       "    </tr>\n",
       "    <tr>\n",
       "      <th>7</th>\n",
       "      <td>[secretary, homeland, security, kirstjen, niel...</td>\n",
       "      <td>7</td>\n",
       "      <td>5</td>\n",
       "    </tr>\n",
       "    <tr>\n",
       "      <th>8</th>\n",
       "      <td>[department, spokesman, called, report, false,...</td>\n",
       "      <td>7</td>\n",
       "      <td>5</td>\n",
       "    </tr>\n",
       "    <tr>\n",
       "      <th>9</th>\n",
       "      <td>[rome, italyaposs, star, movement, long, foref...</td>\n",
       "      <td>9</td>\n",
       "      <td>6</td>\n",
       "    </tr>\n",
       "  </tbody>\n",
       "</table>\n",
       "</div>"
      ],
      "text/plain": [
       "                                       article_split topic publication\n",
       "0  [editor, note, july, 8th, new, york, mets, roo...     7           5\n",
       "1  [north, korea, behind, cyberattack, derailed, ...     7           1\n",
       "2  [close, video, bret, baier, open, three, day, ...     7           6\n",
       "3  [libya, powerful, military, leader, reportedly...     7           1\n",
       "4  [support, egypt, united, arab, emirate, uae, e...     7           1\n",
       "5  [military, force, open, libya, central, export...     7           1\n",
       "6  [next, image, prev, image, tokyo, hiroshima, m...     7           6\n",
       "7  [secretary, homeland, security, kirstjen, niel...     7           5\n",
       "8  [department, spokesman, called, report, false,...     7           5\n",
       "9  [rome, italyaposs, star, movement, long, foref...     9           6"
      ]
     },
     "execution_count": 16,
     "metadata": {},
     "output_type": "execute_result"
    }
   ],
   "source": [
    "train_df[:10]"
   ]
  },
  {
   "cell_type": "code",
   "execution_count": 17,
   "metadata": {
    "execution": {
     "iopub.execute_input": "2023-05-25T21:36:54.788116Z",
     "iopub.status.busy": "2023-05-25T21:36:54.787885Z",
     "iopub.status.idle": "2023-05-25T21:36:54.806599Z",
     "shell.execute_reply": "2023-05-25T21:36:54.805852Z",
     "shell.execute_reply.started": "2023-05-25T21:36:54.788094Z"
    },
    "tags": []
   },
   "outputs": [
    {
     "data": {
      "text/plain": [
       "(22506, 3)"
      ]
     },
     "execution_count": 17,
     "metadata": {},
     "output_type": "execute_result"
    }
   ],
   "source": [
    "train_df.shape"
   ]
  },
  {
   "cell_type": "code",
   "execution_count": 18,
   "metadata": {
    "execution": {
     "iopub.execute_input": "2023-05-25T21:36:54.808357Z",
     "iopub.status.busy": "2023-05-25T21:36:54.808033Z",
     "iopub.status.idle": "2023-05-25T21:36:54.825562Z",
     "shell.execute_reply": "2023-05-25T21:36:54.824349Z",
     "shell.execute_reply.started": "2023-05-25T21:36:54.808327Z"
    },
    "tags": []
   },
   "outputs": [],
   "source": [
    "#BERT_df.to_csv('BERT_df.csv', index=False)"
   ]
  },
  {
   "cell_type": "code",
   "execution_count": 19,
   "metadata": {
    "execution": {
     "iopub.execute_input": "2023-05-25T21:36:54.828032Z",
     "iopub.status.busy": "2023-05-25T21:36:54.827328Z",
     "iopub.status.idle": "2023-05-25T21:36:55.056225Z",
     "shell.execute_reply": "2023-05-25T21:36:55.055422Z",
     "shell.execute_reply.started": "2023-05-25T21:36:54.827979Z"
    },
    "tags": []
   },
   "outputs": [
    {
     "data": {
      "text/plain": [
       "200"
      ]
     },
     "execution_count": 19,
     "metadata": {},
     "output_type": "execute_result"
    }
   ],
   "source": [
    "train_df['article_split'].apply(lambda x: len(x)).max()"
   ]
  },
  {
   "attachments": {},
   "cell_type": "markdown",
   "metadata": {},
   "source": [
    "# 7. Word Embeddings"
   ]
  },
  {
   "attachments": {},
   "cell_type": "markdown",
   "metadata": {},
   "source": [
    "## 7.1 Bag of Words "
   ]
  },
  {
   "cell_type": "code",
   "execution_count": null,
   "metadata": {},
   "outputs": [
    {
     "data": {
      "text/html": [
       "<style>#sk-container-id-1 {color: black;background-color: white;}#sk-container-id-1 pre{padding: 0;}#sk-container-id-1 div.sk-toggleable {background-color: white;}#sk-container-id-1 label.sk-toggleable__label {cursor: pointer;display: block;width: 100%;margin-bottom: 0;padding: 0.3em;box-sizing: border-box;text-align: center;}#sk-container-id-1 label.sk-toggleable__label-arrow:before {content: \"▸\";float: left;margin-right: 0.25em;color: #696969;}#sk-container-id-1 label.sk-toggleable__label-arrow:hover:before {color: black;}#sk-container-id-1 div.sk-estimator:hover label.sk-toggleable__label-arrow:before {color: black;}#sk-container-id-1 div.sk-toggleable__content {max-height: 0;max-width: 0;overflow: hidden;text-align: left;background-color: #f0f8ff;}#sk-container-id-1 div.sk-toggleable__content pre {margin: 0.2em;color: black;border-radius: 0.25em;background-color: #f0f8ff;}#sk-container-id-1 input.sk-toggleable__control:checked~div.sk-toggleable__content {max-height: 200px;max-width: 100%;overflow: auto;}#sk-container-id-1 input.sk-toggleable__control:checked~label.sk-toggleable__label-arrow:before {content: \"▾\";}#sk-container-id-1 div.sk-estimator input.sk-toggleable__control:checked~label.sk-toggleable__label {background-color: #d4ebff;}#sk-container-id-1 div.sk-label input.sk-toggleable__control:checked~label.sk-toggleable__label {background-color: #d4ebff;}#sk-container-id-1 input.sk-hidden--visually {border: 0;clip: rect(1px 1px 1px 1px);clip: rect(1px, 1px, 1px, 1px);height: 1px;margin: -1px;overflow: hidden;padding: 0;position: absolute;width: 1px;}#sk-container-id-1 div.sk-estimator {font-family: monospace;background-color: #f0f8ff;border: 1px dotted black;border-radius: 0.25em;box-sizing: border-box;margin-bottom: 0.5em;}#sk-container-id-1 div.sk-estimator:hover {background-color: #d4ebff;}#sk-container-id-1 div.sk-parallel-item::after {content: \"\";width: 100%;border-bottom: 1px solid gray;flex-grow: 1;}#sk-container-id-1 div.sk-label:hover label.sk-toggleable__label {background-color: #d4ebff;}#sk-container-id-1 div.sk-serial::before {content: \"\";position: absolute;border-left: 1px solid gray;box-sizing: border-box;top: 0;bottom: 0;left: 50%;z-index: 0;}#sk-container-id-1 div.sk-serial {display: flex;flex-direction: column;align-items: center;background-color: white;padding-right: 0.2em;padding-left: 0.2em;position: relative;}#sk-container-id-1 div.sk-item {position: relative;z-index: 1;}#sk-container-id-1 div.sk-parallel {display: flex;align-items: stretch;justify-content: center;background-color: white;position: relative;}#sk-container-id-1 div.sk-item::before, #sk-container-id-1 div.sk-parallel-item::before {content: \"\";position: absolute;border-left: 1px solid gray;box-sizing: border-box;top: 0;bottom: 0;left: 50%;z-index: -1;}#sk-container-id-1 div.sk-parallel-item {display: flex;flex-direction: column;z-index: 1;position: relative;background-color: white;}#sk-container-id-1 div.sk-parallel-item:first-child::after {align-self: flex-end;width: 50%;}#sk-container-id-1 div.sk-parallel-item:last-child::after {align-self: flex-start;width: 50%;}#sk-container-id-1 div.sk-parallel-item:only-child::after {width: 0;}#sk-container-id-1 div.sk-dashed-wrapped {border: 1px dashed gray;margin: 0 0.4em 0.5em 0.4em;box-sizing: border-box;padding-bottom: 0.4em;background-color: white;}#sk-container-id-1 div.sk-label label {font-family: monospace;font-weight: bold;display: inline-block;line-height: 1.2em;}#sk-container-id-1 div.sk-label-container {text-align: center;}#sk-container-id-1 div.sk-container {/* jupyter's `normalize.less` sets `[hidden] { display: none; }` but bootstrap.min.css set `[hidden] { display: none !important; }` so we also need the `!important` here to be able to override the default hidden behavior on the sphinx rendered scikit-learn.org. See: https://github.com/scikit-learn/scikit-learn/issues/21755 */display: inline-block !important;position: relative;}#sk-container-id-1 div.sk-text-repr-fallback {display: none;}</style><div id=\"sk-container-id-1\" class=\"sk-top-container\"><div class=\"sk-text-repr-fallback\"><pre>CountVectorizer()</pre><b>In a Jupyter environment, please rerun this cell to show the HTML representation or trust the notebook. <br />On GitHub, the HTML representation is unable to render, please try loading this page with nbviewer.org.</b></div><div class=\"sk-container\" hidden><div class=\"sk-item\"><div class=\"sk-estimator sk-toggleable\"><input class=\"sk-toggleable__control sk-hidden--visually\" id=\"sk-estimator-id-1\" type=\"checkbox\" checked><label for=\"sk-estimator-id-1\" class=\"sk-toggleable__label sk-toggleable__label-arrow\">CountVectorizer</label><div class=\"sk-toggleable__content\"><pre>CountVectorizer()</pre></div></div></div></div></div>"
      ],
      "text/plain": [
       "CountVectorizer()"
      ]
     },
     "metadata": {},
     "output_type": "display_data"
    }
   ],
   "source": [
    "# CountVectorizer \n",
    "BoW = CountVectorizer()\n",
    "BoW.fit(train['article'])"
   ]
  },
  {
   "attachments": {},
   "cell_type": "markdown",
   "metadata": {},
   "source": [
    "## 7.2 Word2Vect - Trained on our own data"
   ]
  },
  {
   "attachments": {},
   "cell_type": "markdown",
   "metadata": {},
   "source": [
    "Got codes from: \n",
    "https://spotintelligence.com/2023/02/15/word2vec-for-text-classification/"
   ]
  },
  {
   "cell_type": "code",
   "execution_count": null,
   "metadata": {},
   "outputs": [],
   "source": [
    "# Tokenizing the cleaned text\n",
    "train_text = train['article']\n",
    "train_tokens = train_text.apply(word_tokenize)\n",
    "\n",
    "test_text = test['article']\n",
    "test_tokens = test_text.apply(word_tokenize)"
   ]
  },
  {
   "cell_type": "code",
   "execution_count": null,
   "metadata": {},
   "outputs": [],
   "source": [
    "# Training the Word2Vec model \n",
    "wvT = Word2Vec(train_tokens, \n",
    "               vector_size = 100, \n",
    "               window = 5, \n",
    "               min_count = 2, \n",
    "               workers = 4)"
   ]
  },
  {
   "cell_type": "code",
   "execution_count": null,
   "metadata": {},
   "outputs": [],
   "source": [
    "# Function for vectorizing the text\n",
    "def vectorize(tokens):\n",
    "    words = tokens.split()\n",
    "    words_vecs = [wvT.wv[word] for word in words if word in wvT.wv]\n",
    "    if len(words_vecs) == 0:\n",
    "        return np.zeros(100)\n",
    "    words_vecs = np.array(words_vecs)\n",
    "    return words_vecs.mean(axis=0)"
   ]
  },
  {
   "attachments": {},
   "cell_type": "markdown",
   "metadata": {},
   "source": [
    "## 7.3 Word2Vec - Trained by Google"
   ]
  },
  {
   "attachments": {},
   "cell_type": "markdown",
   "metadata": {},
   "source": [
    "Got codes from Exercise Class"
   ]
  },
  {
   "cell_type": "code",
   "execution_count": null,
   "metadata": {},
   "outputs": [],
   "source": [
    "# Google trained one \n",
    "wvG = api.load('word2vec-google-news-300')"
   ]
  },
  {
   "cell_type": "code",
   "execution_count": null,
   "metadata": {},
   "outputs": [],
   "source": [
    "# Function for computing the average vector \n",
    "# Gathered from Exercise 8\n",
    "\n",
    "def avg_feature_vector(words, model, num_features):\n",
    "    n_words = 0\n",
    "    feature_vec = np.zeros((num_features, ), dtype='float32')\n",
    "    for word in words:\n",
    "        try:\n",
    "            n_words += 1\n",
    "            feature_vec = np.add(feature_vec, model[word])\n",
    "        except KeyError:\n",
    "            pass\n",
    "    if n_words == 0:\n",
    "        return feature_vec\n",
    "    else:\n",
    "        return feature_vec / n_words\n"
   ]
  },
  {
   "attachments": {},
   "cell_type": "markdown",
   "metadata": {},
   "source": [
    "# 8. Text Classification "
   ]
  },
  {
   "cell_type": "code",
   "execution_count": null,
   "metadata": {},
   "outputs": [],
   "source": [
    "# Evaluation function that prints classification report and confusion matrix\n",
    "def evaluate(y_test, y_pred, model_name):\n",
    "    '''\n",
    "    Function for Evaluating a model\n",
    "    Prints out:\n",
    "    --- Classification Report \n",
    "    --- Confusion Matrix\n",
    "    '''\n",
    "    \n",
    "    print(f\"\\033[34m{model_name}\\033[0m\")\n",
    "    \n",
    "    #print Classification Report and Accuracy\n",
    "    print(f\" \\033[32mClassification Report:\\033[0m\")\n",
    "    print(classification_report(y_test, y_pred, zero_division=False))\n",
    "    print(f\" \\033[32mAccuracy Score:\\033[0m\")\n",
    "    print(accuracy_score(y_test, y_pred)*100)"
   ]
  },
  {
   "attachments": {},
   "cell_type": "markdown",
   "metadata": {},
   "source": [
    "## 8.1 Baseline Models"
   ]
  },
  {
   "attachments": {},
   "cell_type": "markdown",
   "metadata": {},
   "source": [
    "### 8.1.1 Logistic Regression with Bag of Words"
   ]
  },
  {
   "cell_type": "code",
   "execution_count": null,
   "metadata": {},
   "outputs": [],
   "source": [
    "# Extracting features and content\n",
    "y_test = test['publication']\n",
    "y_train = train['publication']\n",
    "X_test = test['article']\n",
    "X_train = train['article']"
   ]
  },
  {
   "cell_type": "code",
   "execution_count": null,
   "metadata": {},
   "outputs": [
    {
     "name": "stdout",
     "output_type": "stream",
     "text": [
      "\u001b[34mLogistic Regression with BoW\u001b[0m\n",
      " \u001b[32mClassification Report:\u001b[0m\n",
      "              precision    recall  f1-score   support\n",
      "\n",
      "           1       0.82      0.77      0.79       335\n",
      "           2       0.91      0.73      0.81       296\n",
      "           3       0.76      0.68      0.72       254\n",
      "           4       0.50      0.80      0.62        56\n",
      "           5       0.71      1.00      0.83        39\n",
      "           6       0.22      0.80      0.34        20\n",
      "\n",
      "    accuracy                           0.75      1000\n",
      "   macro avg       0.65      0.80      0.68      1000\n",
      "weighted avg       0.80      0.75      0.76      1000\n",
      "\n",
      " \u001b[32mAccuracy Score:\u001b[0m\n",
      "74.7\n"
     ]
    }
   ],
   "source": [
    "# Vectorizer \n",
    "X_train_bow = BoW.transform(X_train)\n",
    "X_test_bow = BoW.transform(X_test)\n",
    "\n",
    "# Classifier \n",
    "lr_bow = LogisticRegression(max_iter=1000000)\n",
    "lr_bow.fit(X_train_bow, y_train)\n",
    "\n",
    "# Evaluate\n",
    "yPred_lr_bow = lr_bow.predict(X_test_bow)\n",
    "evaluate(y_test, yPred_lr_bow, 'Logistic Regression with BoW')"
   ]
  },
  {
   "cell_type": "code",
   "execution_count": null,
   "metadata": {},
   "outputs": [],
   "source": [
    "confusion_matrix_bow = confusion_matrix(y_test, yPred_lr_bow)\n",
    "classes_bow = np.unique(y_test)\n",
    "cm_display = ConfusionMatrixDisplay(confusion_matrix = confusion_matrix_bow, display_labels = classes_bow)\n",
    "fig, ax = plt.subplots()\n",
    "cm_display.plot(ax=ax)\n",
    "ax.set_title('Confusion Matrix For Logistic Regression with BoW') \n",
    "plt.show()"
   ]
  },
  {
   "attachments": {},
   "cell_type": "markdown",
   "metadata": {},
   "source": [
    "### 8.1.2 Random Forest with Bag of Words"
   ]
  },
  {
   "cell_type": "code",
   "execution_count": null,
   "metadata": {},
   "outputs": [
    {
     "name": "stdout",
     "output_type": "stream",
     "text": [
      "\u001b[34mRandom Forest with BoW\u001b[0m\n",
      " \u001b[32mClassification Report:\u001b[0m\n",
      "              precision    recall  f1-score   support\n",
      "\n",
      "           1       0.80      0.81      0.80       335\n",
      "           2       0.84      0.70      0.76       296\n",
      "           3       0.72      0.69      0.70       254\n",
      "           4       0.79      0.80      0.80        56\n",
      "           5       0.88      0.97      0.93        39\n",
      "           6       0.23      0.80      0.35        20\n",
      "\n",
      "    accuracy                           0.75      1000\n",
      "   macro avg       0.71      0.80      0.72      1000\n",
      "weighted avg       0.78      0.75      0.76      1000\n",
      "\n",
      " \u001b[32mAccuracy Score:\u001b[0m\n",
      "75.1\n"
     ]
    }
   ],
   "source": [
    "# Classifier \n",
    "rf_bow = RandomForestClassifier()\n",
    "rf_bow.fit(X_train_bow, y_train)\n",
    "\n",
    "# Evaluate\n",
    "yPred_rf_bow = rf_bow.predict(X_test_bow)\n",
    "evaluate(y_test, yPred_rf_bow, 'Random Forest with BoW')"
   ]
  },
  {
   "attachments": {},
   "cell_type": "markdown",
   "metadata": {},
   "source": [
    "#### 8.1.3 Logistic Regression with own trained Word2Vec embeddings"
   ]
  },
  {
   "cell_type": "code",
   "execution_count": null,
   "metadata": {},
   "outputs": [],
   "source": [
    "# Vectorizing\n",
    "X_train_wvT = np.array([vectorize(train_tokens) for train_tokens in X_train])\n",
    "X_test_wvT = np.array([vectorize(train_tokens) for train_tokens in X_test])"
   ]
  },
  {
   "cell_type": "code",
   "execution_count": null,
   "metadata": {},
   "outputs": [
    {
     "name": "stdout",
     "output_type": "stream",
     "text": [
      "\u001b[34mLogisitic Regression with own W2V\u001b[0m\n",
      " \u001b[32mClassification Report:\u001b[0m\n",
      "              precision    recall  f1-score   support\n",
      "\n",
      "           1       0.82      0.67      0.74       335\n",
      "           2       0.84      0.55      0.66       296\n",
      "           3       0.59      0.60      0.60       254\n",
      "           4       0.26      0.55      0.35        56\n",
      "           5       0.47      0.97      0.64        39\n",
      "           6       0.16      0.60      0.26        20\n",
      "\n",
      "    accuracy                           0.62      1000\n",
      "   macro avg       0.52      0.66      0.54      1000\n",
      "weighted avg       0.71      0.62      0.65      1000\n",
      "\n",
      " \u001b[32mAccuracy Score:\u001b[0m\n",
      "62.1\n"
     ]
    }
   ],
   "source": [
    "# Classifier \n",
    "lr_wvT = LogisticRegression(max_iter=1000000)\n",
    "lr_wvT.fit(X_train_wvT, y_train)\n",
    "\n",
    "# Evaluate\n",
    "yPred_lr_wvT = lr_wvT.predict(X_test_wvT)\n",
    "evaluate(y_test, yPred_lr_wvT, 'Logisitic Regression with own W2V')"
   ]
  },
  {
   "cell_type": "code",
   "execution_count": null,
   "metadata": {},
   "outputs": [],
   "source": [
    "confusion_matrix_wvt = confusion_matrix(y_test, yPred_lr_wvT)\n",
    "classes_wvt = np.unique(y_test)\n",
    "cm_display = ConfusionMatrixDisplay(confusion_matrix = confusion_matrix_wvt, display_labels = classes_wvt)\n",
    "fig, ax = plt.subplots()\n",
    "cm_display.plot(ax=ax)\n",
    "ax.set_title('Confusion Matrix For Logistic Regression with own trained W2V') \n",
    "plt.show()"
   ]
  },
  {
   "attachments": {},
   "cell_type": "markdown",
   "metadata": {},
   "source": [
    "### 3.1.4 Random Forest with own trained Word2Vec embeddings"
   ]
  },
  {
   "cell_type": "code",
   "execution_count": null,
   "metadata": {},
   "outputs": [
    {
     "name": "stdout",
     "output_type": "stream",
     "text": [
      "\u001b[34mRandom Forest with own W2V\u001b[0m\n",
      " \u001b[32mClassification Report:\u001b[0m\n",
      "              precision    recall  f1-score   support\n",
      "\n",
      "           1       0.82      0.67      0.74       335\n",
      "           2       0.76      0.43      0.55       296\n",
      "           3       0.63      0.66      0.64       254\n",
      "           4       0.24      0.48      0.32        56\n",
      "           5       0.36      0.90      0.51        39\n",
      "           6       0.09      0.40      0.15        20\n",
      "\n",
      "    accuracy                           0.59      1000\n",
      "   macro avg       0.48      0.59      0.48      1000\n",
      "weighted avg       0.69      0.59      0.61      1000\n",
      "\n",
      " \u001b[32mAccuracy Score:\u001b[0m\n",
      "58.699999999999996\n"
     ]
    }
   ],
   "source": [
    "# Classifier \n",
    "rf_wvT = RandomForestClassifier()\n",
    "rf_wvT.fit(X_train_wvT, y_train)\n",
    "\n",
    "# Evaluate\n",
    "yPred_rf_wvT = rf_wvT.predict(X_test_wvT)\n",
    "evaluate(y_test, yPred_rf_wvT, 'Random Forest with own W2V')"
   ]
  },
  {
   "attachments": {},
   "cell_type": "markdown",
   "metadata": {},
   "source": [
    "### 3.1.3 Logistic Regression with Google trained Word2Vec embeddings"
   ]
  },
  {
   "cell_type": "code",
   "execution_count": null,
   "metadata": {},
   "outputs": [],
   "source": [
    "# Constructing average vectors \n",
    "train_features = []\n",
    "vectorsize = 300\n",
    "for t in train_tokens:\n",
    "    train_features.append(avg_feature_vector(t, wvG, vectorsize))    \n"
   ]
  },
  {
   "cell_type": "code",
   "execution_count": null,
   "metadata": {},
   "outputs": [],
   "source": [
    "test_features = []\n",
    "vectorsize = 300\n",
    "for t in test_tokens:\n",
    "    test_features.append(avg_feature_vector(t, wvG, vectorsize))    "
   ]
  },
  {
   "cell_type": "code",
   "execution_count": null,
   "metadata": {},
   "outputs": [],
   "source": [
    "# Splitting the data \n",
    "X_train_wvG = train_features\n",
    "X_test_wvG = test_features\n",
    "y_train_wvG = train['publication']\n",
    "y_test_wvG = test['publication']"
   ]
  },
  {
   "cell_type": "code",
   "execution_count": null,
   "metadata": {},
   "outputs": [
    {
     "name": "stdout",
     "output_type": "stream",
     "text": [
      "\u001b[34mLogistic Regression with Google W2V\u001b[0m\n",
      " \u001b[32mClassification Report:\u001b[0m\n",
      "              precision    recall  f1-score   support\n",
      "\n",
      "           1       0.81      0.64      0.72       335\n",
      "           2       0.83      0.40      0.54       296\n",
      "           3       0.61      0.61      0.61       254\n",
      "           4       0.26      0.52      0.34        56\n",
      "           5       0.31      0.95      0.47        39\n",
      "           6       0.12      0.60      0.19        20\n",
      "\n",
      "    accuracy                           0.57      1000\n",
      "   macro avg       0.49      0.62      0.48      1000\n",
      "weighted avg       0.70      0.57      0.60      1000\n",
      "\n",
      " \u001b[32mAccuracy Score:\u001b[0m\n",
      "56.699999999999996\n"
     ]
    }
   ],
   "source": [
    "# Classifier  \n",
    "lr_wvG = LogisticRegression(max_iter=1000000)\n",
    "lr_wvG.fit(X_train_wvG, y_train_wvG)\n",
    "\n",
    "# Evaluate\n",
    "yPred_lr_wvG = lr_wvG.predict(X_test_wvG)\n",
    "evaluate(y_test_wvG, yPred_lr_wvG, 'Logistic Regression with Google W2V')"
   ]
  },
  {
   "attachments": {},
   "cell_type": "markdown",
   "metadata": {},
   "source": [
    "### 8.1.5 Random Forest with Google trained Word2Vec embeddings"
   ]
  },
  {
   "cell_type": "code",
   "execution_count": null,
   "metadata": {},
   "outputs": [
    {
     "name": "stdout",
     "output_type": "stream",
     "text": [
      "\u001b[34mRandom Forest with Google W2V\u001b[0m\n",
      " \u001b[32mClassification Report:\u001b[0m\n",
      "              precision    recall  f1-score   support\n",
      "\n",
      "           1       0.80      0.63      0.70       335\n",
      "           2       0.69      0.42      0.52       296\n",
      "           3       0.60      0.59      0.59       254\n",
      "           4       0.24      0.52      0.33        56\n",
      "           5       0.30      0.82      0.44        39\n",
      "           6       0.10      0.45      0.17        20\n",
      "\n",
      "    accuracy                           0.55      1000\n",
      "   macro avg       0.46      0.57      0.46      1000\n",
      "weighted avg       0.65      0.55      0.58      1000\n",
      "\n",
      " \u001b[32mAccuracy Score:\u001b[0m\n",
      "55.2\n"
     ]
    }
   ],
   "source": [
    "# Classifier \n",
    "rf_wvG = RandomForestClassifier()\n",
    "rf_wvG.fit(X_train_wvG, y_train_wvG)\n",
    "\n",
    "# Evaluate \n",
    "yPred_rf_wvG = rf_wvG.predict(X_test_wvG)\n",
    "evaluate(y_test_wvG, yPred_rf_wvG, 'Random Forest with Google W2V')"
   ]
  }
 ],
 "metadata": {
  "kernelspec": {
   "display_name": "Python 3 ",
   "language": "python",
   "name": "python3"
  },
  "language_info": {
   "codemirror_mode": {
    "name": "ipython",
    "version": 3
   },
   "file_extension": ".py",
   "mimetype": "text/x-python",
   "name": "python",
   "nbconvert_exporter": "python",
   "pygments_lexer": "ipython3",
   "version": "3.10.7"
  }
 },
 "nbformat": 4,
 "nbformat_minor": 4
}
